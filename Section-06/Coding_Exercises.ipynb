{
 "cells": [
  {
   "cell_type": "markdown",
   "id": "4060b760-e057-4c9c-8ef7-45c714905687",
   "metadata": {},
   "source": [
    "## **Exercise 8:** Maximum Value in a numerical column"
   ]
  },
  {
   "cell_type": "markdown",
   "id": "c8c46b1b-e0a5-4c81-ae42-31d9413cf2ed",
   "metadata": {},
   "source": [
    "#### **The Problem:**"
   ]
  },
  {
   "cell_type": "markdown",
   "id": "7b8a0a4a-52ba-4581-a4ac-3d8d53601a5e",
   "metadata": {},
   "source": [
    "Print the highest value in the fare column."
   ]
  },
  {
   "cell_type": "markdown",
   "id": "b178e2d0-d0bf-4a03-8bbf-1a5c3ee10a4b",
   "metadata": {},
   "source": [
    "#### **The Solution:**"
   ]
  },
  {
   "cell_type": "code",
   "execution_count": 1,
   "id": "0c33d8f4-a65f-4590-b441-00926d61a645",
   "metadata": {},
   "outputs": [],
   "source": [
    "import pandas as pd"
   ]
  },
  {
   "cell_type": "code",
   "execution_count": 2,
   "id": "d364f0a4-2f70-4c99-a59b-d3cde3a33c71",
   "metadata": {},
   "outputs": [],
   "source": [
    "df = pd.read_csv('titanic.csv')"
   ]
  },
  {
   "cell_type": "code",
   "execution_count": 3,
   "id": "cb976ac8-831d-49cf-9c21-bd47e608dd54",
   "metadata": {},
   "outputs": [
    {
     "name": "stdout",
     "output_type": "stream",
     "text": [
      "512.3292\n"
     ]
    }
   ],
   "source": [
    "print(df['fare'].max())"
   ]
  },
  {
   "cell_type": "markdown",
   "id": "414f7256-7610-4c10-9621-a123c383df61",
   "metadata": {},
   "source": [
    "## **Exercise 9:** Most common Value in a numerical column"
   ]
  },
  {
   "cell_type": "markdown",
   "id": "cf61b9fb-dde2-43f0-a1e8-014d13567282",
   "metadata": {},
   "source": [
    "#### **The Problem:**"
   ]
  },
  {
   "cell_type": "markdown",
   "id": "59af9747-4952-4e11-9aaf-7543afaed6c1",
   "metadata": {},
   "source": [
    "What is the most common/frequent ticket price (fare)?\n",
    "Print the price!"
   ]
  },
  {
   "cell_type": "markdown",
   "id": "954d384a-a645-4b37-b97c-40932505d9a2",
   "metadata": {},
   "source": [
    "#### **The Solution:**"
   ]
  },
  {
   "cell_type": "code",
   "execution_count": 4,
   "id": "d3267cdc-b256-413c-ba4c-c8863af0dab4",
   "metadata": {},
   "outputs": [],
   "source": [
    "import pandas as pd"
   ]
  },
  {
   "cell_type": "code",
   "execution_count": 5,
   "id": "969fd9f1-5844-4e6d-b356-3c7d9c5ae236",
   "metadata": {},
   "outputs": [],
   "source": [
    "df = pd.read_csv('titanic.csv')"
   ]
  },
  {
   "cell_type": "code",
   "execution_count": 6,
   "id": "069b591c-8976-4b3c-8a58-7dd16a531556",
   "metadata": {},
   "outputs": [],
   "source": [
    "serie = df['fare'].value_counts()"
   ]
  },
  {
   "cell_type": "code",
   "execution_count": 7,
   "id": "b8b03d60-9936-4586-8abe-bd8727e9b7d3",
   "metadata": {},
   "outputs": [
    {
     "name": "stdout",
     "output_type": "stream",
     "text": [
      "8.05\n"
     ]
    }
   ],
   "source": [
    "print(serie.index[0])"
   ]
  },
  {
   "cell_type": "markdown",
   "id": "df51700d-1c79-40cc-99a3-2d463d83e374",
   "metadata": {},
   "source": [
    "## **Coding Exercise 10:** Unique Values in a Text Column"
   ]
  },
  {
   "cell_type": "markdown",
   "id": "23fcc364-4641-4dd4-b1c8-b14b134808c1",
   "metadata": {},
   "source": [
    "#### **The Problem:**"
   ]
  },
  {
   "cell_type": "markdown",
   "id": "69d2a3c3-10ad-4b68-b17b-d1fd246bd15b",
   "metadata": {},
   "source": [
    "How many (unique) Athletes won at least one Medal in the 1972 Edition?\n",
    "Print the number of unique Athletes. "
   ]
  },
  {
   "cell_type": "markdown",
   "id": "5e047395-bfc3-408f-87b2-af8db8c89b5b",
   "metadata": {},
   "source": [
    "#### **The Solution:**"
   ]
  },
  {
   "cell_type": "code",
   "execution_count": 8,
   "id": "9ed47f46-3da2-4523-84b4-d4e89554e697",
   "metadata": {},
   "outputs": [],
   "source": [
    "import pandas as pd"
   ]
  },
  {
   "cell_type": "code",
   "execution_count": 9,
   "id": "f7583467-fb90-4d9d-b986-875094f94418",
   "metadata": {},
   "outputs": [],
   "source": [
    "df = pd.read_csv('summer.csv')"
   ]
  },
  {
   "cell_type": "code",
   "execution_count": 10,
   "id": "90bf8f87-1ed7-4a19-ac52-1fba242b228e",
   "metadata": {},
   "outputs": [
    {
     "data": {
      "text/html": [
       "<div>\n",
       "<style scoped>\n",
       "    .dataframe tbody tr th:only-of-type {\n",
       "        vertical-align: middle;\n",
       "    }\n",
       "\n",
       "    .dataframe tbody tr th {\n",
       "        vertical-align: top;\n",
       "    }\n",
       "\n",
       "    .dataframe thead th {\n",
       "        text-align: right;\n",
       "    }\n",
       "</style>\n",
       "<table border=\"1\" class=\"dataframe\">\n",
       "  <thead>\n",
       "    <tr style=\"text-align: right;\">\n",
       "      <th></th>\n",
       "      <th>Year</th>\n",
       "      <th>City</th>\n",
       "      <th>Sport</th>\n",
       "      <th>Discipline</th>\n",
       "      <th>Athlete</th>\n",
       "      <th>Country</th>\n",
       "      <th>Gender</th>\n",
       "      <th>Event</th>\n",
       "      <th>Medal</th>\n",
       "    </tr>\n",
       "  </thead>\n",
       "  <tbody>\n",
       "    <tr>\n",
       "      <th>0</th>\n",
       "      <td>1896</td>\n",
       "      <td>Athens</td>\n",
       "      <td>Aquatics</td>\n",
       "      <td>Swimming</td>\n",
       "      <td>HAJOS, Alfred</td>\n",
       "      <td>HUN</td>\n",
       "      <td>Men</td>\n",
       "      <td>100M Freestyle</td>\n",
       "      <td>Gold</td>\n",
       "    </tr>\n",
       "    <tr>\n",
       "      <th>1</th>\n",
       "      <td>1896</td>\n",
       "      <td>Athens</td>\n",
       "      <td>Aquatics</td>\n",
       "      <td>Swimming</td>\n",
       "      <td>HERSCHMANN, Otto</td>\n",
       "      <td>AUT</td>\n",
       "      <td>Men</td>\n",
       "      <td>100M Freestyle</td>\n",
       "      <td>Silver</td>\n",
       "    </tr>\n",
       "    <tr>\n",
       "      <th>2</th>\n",
       "      <td>1896</td>\n",
       "      <td>Athens</td>\n",
       "      <td>Aquatics</td>\n",
       "      <td>Swimming</td>\n",
       "      <td>DRIVAS, Dimitrios</td>\n",
       "      <td>GRE</td>\n",
       "      <td>Men</td>\n",
       "      <td>100M Freestyle For Sailors</td>\n",
       "      <td>Bronze</td>\n",
       "    </tr>\n",
       "    <tr>\n",
       "      <th>3</th>\n",
       "      <td>1896</td>\n",
       "      <td>Athens</td>\n",
       "      <td>Aquatics</td>\n",
       "      <td>Swimming</td>\n",
       "      <td>MALOKINIS, Ioannis</td>\n",
       "      <td>GRE</td>\n",
       "      <td>Men</td>\n",
       "      <td>100M Freestyle For Sailors</td>\n",
       "      <td>Gold</td>\n",
       "    </tr>\n",
       "    <tr>\n",
       "      <th>4</th>\n",
       "      <td>1896</td>\n",
       "      <td>Athens</td>\n",
       "      <td>Aquatics</td>\n",
       "      <td>Swimming</td>\n",
       "      <td>CHASAPIS, Spiridon</td>\n",
       "      <td>GRE</td>\n",
       "      <td>Men</td>\n",
       "      <td>100M Freestyle For Sailors</td>\n",
       "      <td>Silver</td>\n",
       "    </tr>\n",
       "  </tbody>\n",
       "</table>\n",
       "</div>"
      ],
      "text/plain": [
       "   Year    City     Sport Discipline             Athlete Country Gender  \\\n",
       "0  1896  Athens  Aquatics   Swimming       HAJOS, Alfred     HUN    Men   \n",
       "1  1896  Athens  Aquatics   Swimming    HERSCHMANN, Otto     AUT    Men   \n",
       "2  1896  Athens  Aquatics   Swimming   DRIVAS, Dimitrios     GRE    Men   \n",
       "3  1896  Athens  Aquatics   Swimming  MALOKINIS, Ioannis     GRE    Men   \n",
       "4  1896  Athens  Aquatics   Swimming  CHASAPIS, Spiridon     GRE    Men   \n",
       "\n",
       "                        Event   Medal  \n",
       "0              100M Freestyle    Gold  \n",
       "1              100M Freestyle  Silver  \n",
       "2  100M Freestyle For Sailors  Bronze  \n",
       "3  100M Freestyle For Sailors    Gold  \n",
       "4  100M Freestyle For Sailors  Silver  "
      ]
     },
     "execution_count": 10,
     "metadata": {},
     "output_type": "execute_result"
    }
   ],
   "source": [
    "df.head()"
   ]
  },
  {
   "cell_type": "code",
   "execution_count": 11,
   "id": "8b3f59ef-a246-4fe8-a455-4b0ed50a2fa9",
   "metadata": {},
   "outputs": [],
   "source": [
    "df_1972 = df[df['Year'] == 1972]"
   ]
  },
  {
   "cell_type": "code",
   "execution_count": 12,
   "id": "7feb01d9-a719-4c91-981b-2929d90aed5e",
   "metadata": {},
   "outputs": [
    {
     "name": "stdout",
     "output_type": "stream",
     "text": [
      "1053\n"
     ]
    }
   ],
   "source": [
    "print(df_1972.Athlete.nunique())"
   ]
  },
  {
   "cell_type": "markdown",
   "id": "32fb22a1-40b5-4424-baae-1d5b80ada428",
   "metadata": {},
   "source": [
    "## **Coding Exercise 11:** Most common value in a text column"
   ]
  },
  {
   "cell_type": "markdown",
   "id": "9c226885-9798-49d3-8632-e1a9d3d75241",
   "metadata": {},
   "source": [
    "#### **The Problem:**"
   ]
  },
  {
   "cell_type": "markdown",
   "id": "895a08e0-dc50-4c33-affd-9840f42a8d98",
   "metadata": {},
   "source": [
    "Which was the most successful (most medals) Athlete in the 1972 Edition?\n",
    "\n",
    "Print the Athlete!  "
   ]
  },
  {
   "cell_type": "markdown",
   "id": "fcfcc806-e4dc-4f08-b48a-df3dc9d3f032",
   "metadata": {},
   "source": [
    "#### **The Solution:**"
   ]
  },
  {
   "cell_type": "code",
   "execution_count": 13,
   "id": "af948e5b-6e46-4013-b35a-740d5d8d0226",
   "metadata": {},
   "outputs": [],
   "source": [
    "import pandas as pd"
   ]
  },
  {
   "cell_type": "code",
   "execution_count": 14,
   "id": "bb92d66b-af08-47ee-9c56-cb6d8f452be6",
   "metadata": {},
   "outputs": [],
   "source": [
    "df = pd.read_csv('summer.csv')"
   ]
  },
  {
   "cell_type": "code",
   "execution_count": 16,
   "id": "5ef4dfe7-a512-4233-937a-117a011045cd",
   "metadata": {},
   "outputs": [],
   "source": [
    "df_1972 = df[df['Year'] == 1972]"
   ]
  },
  {
   "cell_type": "code",
   "execution_count": 31,
   "id": "63cced75-778f-4dc8-b289-62bc6e5a5f25",
   "metadata": {
    "scrolled": true
   },
   "outputs": [
    {
     "name": "stdout",
     "output_type": "stream",
     "text": [
      "SPITZ, Mark\n"
     ]
    }
   ],
   "source": [
    "athletes_1972 = df_1972['Athlete']\n",
    "athletes_1972_counts = athletes_1972.value_counts()\n",
    "answer = athletes_1972_counts.index[0]\n",
    "print(answer)"
   ]
  },
  {
   "cell_type": "markdown",
   "id": "bf589fb0-f103-4738-99e9-362f6208def0",
   "metadata": {},
   "source": [
    "## **Coding Exercise 12:** Creating Pandas Series from scratch"
   ]
  },
  {
   "cell_type": "markdown",
   "id": "308f66be-23eb-4c0a-b76e-66619d61425d",
   "metadata": {},
   "source": [
    "#### **The Problem:**"
   ]
  },
  {
   "cell_type": "markdown",
   "id": "30553014-a5d6-4864-ade8-5ca1188fc659",
   "metadata": {},
   "source": [
    "Create a Pandas Series with the Countries \"Spain\" and \"France\" in the Index and their Capitals \"Madrid\" and \"Paris\" as Values. Save the Pandas Series in the variable series (you may print series as well).\n",
    "\n",
    "Use the same sequence as instructed above (\"Spain\", \"France\")!"
   ]
  },
  {
   "cell_type": "markdown",
   "id": "252a5d06-21c5-4091-88b9-2e2ccd755901",
   "metadata": {},
   "source": [
    "#### **The Solution:**"
   ]
  },
  {
   "cell_type": "code",
   "execution_count": 2,
   "id": "aa3cfc0c-4528-4831-87fd-0e760d1c90c9",
   "metadata": {},
   "outputs": [
    {
     "name": "stdout",
     "output_type": "stream",
     "text": [
      "Spain     Madrid\n",
      "France     Paris\n",
      "dtype: object\n"
     ]
    }
   ],
   "source": [
    "import pandas as pd\n",
    "\n",
    "values = {\n",
    "    \"Spain\": \"Madrid\",\n",
    "    \"France\": \"Paris\"\n",
    "}\n",
    "\n",
    "series = pd.Series(values)\n",
    "print(series)"
   ]
  },
  {
   "cell_type": "markdown",
   "id": "b30af5af-7db5-482e-a195-8a966a0962ab",
   "metadata": {},
   "source": [
    "## **Coding Exercise 13:** Sorting \"inplace\""
   ]
  },
  {
   "cell_type": "markdown",
   "id": "80f0f520-8ac3-43bf-b425-6a7860fea548",
   "metadata": {},
   "source": [
    "#### **The Problem:**"
   ]
  },
  {
   "cell_type": "markdown",
   "id": "b2550647-d1c1-4f9a-aa53-e7dd692eb57b",
   "metadata": {},
   "source": [
    "Sort the Pandas Series fare from high to low \"inplace\" (you may finally print fare)! "
   ]
  },
  {
   "cell_type": "markdown",
   "id": "2d59d8ab-16b1-453e-abbc-87eb2a291f78",
   "metadata": {},
   "source": [
    "#### **The Solution:**"
   ]
  },
  {
   "cell_type": "code",
   "execution_count": 3,
   "id": "cf680b09-2785-4795-a28e-8dfc286de425",
   "metadata": {},
   "outputs": [
    {
     "name": "stdout",
     "output_type": "stream",
     "text": [
      "258    512.3292\n",
      "737    512.3292\n",
      "679    512.3292\n",
      "88     263.0000\n",
      "27     263.0000\n",
      "         ...   \n",
      "633      0.0000\n",
      "413      0.0000\n",
      "822      0.0000\n",
      "732      0.0000\n",
      "674      0.0000\n",
      "Name: fare, Length: 891, dtype: float64\n"
     ]
    }
   ],
   "source": [
    "import pandas as pd\n",
    "\n",
    "df = pd.read_csv(\"titanic.csv\")\n",
    "fare = df.fare.copy()\n",
    "fare.sort_values(ascending = False, inplace = True)\n",
    "print(fare)"
   ]
  },
  {
   "cell_type": "markdown",
   "id": "c2cba61f-48f6-42a7-a8da-a17790036f93",
   "metadata": {},
   "source": [
    "## **Coding Exercise 14:** The n largest values in a Pandas Series"
   ]
  },
  {
   "cell_type": "markdown",
   "id": "5363a041-6f1e-43a3-bc9d-dc56d6d437cf",
   "metadata": {},
   "source": [
    "#### **The Problem:**"
   ]
  },
  {
   "cell_type": "markdown",
   "id": "abecc9bd-4a74-4547-8368-f1a32807e235",
   "metadata": {},
   "source": [
    "Save a Pandas Series with the 10 largest ticket prices in the variable expensive (you may print expensive as well)."
   ]
  },
  {
   "cell_type": "markdown",
   "id": "5d2f5814-92c6-4d9f-950c-466b242722a4",
   "metadata": {},
   "source": [
    "#### **The Solution:**"
   ]
  },
  {
   "cell_type": "code",
   "execution_count": 4,
   "id": "6c105fcd-7817-40f7-8578-e5d68217bb22",
   "metadata": {},
   "outputs": [
    {
     "name": "stdout",
     "output_type": "stream",
     "text": [
      "258    512.3292\n",
      "679    512.3292\n",
      "737    512.3292\n",
      "27     263.0000\n",
      "88     263.0000\n",
      "341    263.0000\n",
      "438    263.0000\n",
      "311    262.3750\n",
      "742    262.3750\n",
      "118    247.5208\n",
      "Name: fare, dtype: float64\n"
     ]
    }
   ],
   "source": [
    "import pandas as pd\n",
    "\n",
    "df = pd.read_csv(\"titanic.csv\")\n",
    "fare = df.fare\n",
    "expensive = fare.nlargest(n = 10)\n",
    "print(expensive)"
   ]
  },
  {
   "cell_type": "code",
   "execution_count": null,
   "id": "ff2818b6-a7eb-4c37-b064-aae913ca1446",
   "metadata": {},
   "outputs": [],
   "source": []
  }
 ],
 "metadata": {
  "kernelspec": {
   "display_name": "Python 3 (ipykernel)",
   "language": "python",
   "name": "python3"
  },
  "language_info": {
   "codemirror_mode": {
    "name": "ipython",
    "version": 3
   },
   "file_extension": ".py",
   "mimetype": "text/x-python",
   "name": "python",
   "nbconvert_exporter": "python",
   "pygments_lexer": "ipython3",
   "version": "3.11.7"
  }
 },
 "nbformat": 4,
 "nbformat_minor": 5
}
