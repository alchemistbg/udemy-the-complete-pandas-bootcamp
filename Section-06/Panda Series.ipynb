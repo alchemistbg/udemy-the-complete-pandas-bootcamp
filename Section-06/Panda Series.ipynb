{
 "cells": [
  {
   "cell_type": "markdown",
   "id": "b5185dea-f5a8-480e-8daf-e5837df57a1f",
   "metadata": {},
   "source": [
    "# **Pandas Series and Index Objects**"
   ]
  },
  {
   "cell_type": "markdown",
   "id": "89a6167d-9bb4-4d8c-8e12-252457b3fcb1",
   "metadata": {},
   "source": [
    "### **Analyzing Numerical Series with unique(), nunique() and value_counts()**"
   ]
  },
  {
   "cell_type": "code",
   "execution_count": null,
   "id": "a0f7c4be-8a39-470f-985a-2e6c5e8a6c06",
   "metadata": {},
   "outputs": [],
   "source": [
    "import pandas as pd"
   ]
  },
  {
   "cell_type": "code",
   "execution_count": null,
   "id": "993a069b-789c-46a8-89a7-654a56c42767",
   "metadata": {},
   "outputs": [],
   "source": [
    "titanic = pd.read_csv('titanic.csv')"
   ]
  },
  {
   "cell_type": "code",
   "execution_count": null,
   "id": "43e24c88-bd68-4a0f-8ee0-6dff3ebe8a13",
   "metadata": {},
   "outputs": [],
   "source": [
    "titanic"
   ]
  },
  {
   "cell_type": "code",
   "execution_count": null,
   "id": "92c6fd6b-d8ad-4f34-a9d5-2e83cc9fcbd6",
   "metadata": {},
   "outputs": [],
   "source": [
    "titanic.info"
   ]
  },
  {
   "cell_type": "code",
   "execution_count": null,
   "id": "71ad86c2-ddb2-4f7e-83c0-639f5d005c47",
   "metadata": {},
   "outputs": [],
   "source": [
    "age = titanic['age']"
   ]
  },
  {
   "cell_type": "code",
   "execution_count": null,
   "id": "7388b461-a8f5-4770-95e4-11cd585bbbe6",
   "metadata": {},
   "outputs": [],
   "source": [
    "type(age)"
   ]
  },
  {
   "cell_type": "code",
   "execution_count": null,
   "id": "99c6fa46-a133-4a0b-b7fd-cc6d2b65ffd5",
   "metadata": {},
   "outputs": [],
   "source": [
    "age.equals(titanic.age)"
   ]
  },
  {
   "cell_type": "code",
   "execution_count": null,
   "id": "a8460cb1-7f50-4aef-bf99-59afb2d7c108",
   "metadata": {},
   "outputs": [],
   "source": [
    "age.dtype"
   ]
  },
  {
   "cell_type": "code",
   "execution_count": null,
   "id": "e7a97631-4981-4617-bbdf-beab74b53c5d",
   "metadata": {},
   "outputs": [],
   "source": [
    "age.head()"
   ]
  },
  {
   "cell_type": "code",
   "execution_count": null,
   "id": "8f1ad6ba-5286-4cac-9c37-373fb47cbc6f",
   "metadata": {},
   "outputs": [],
   "source": [
    "age.tail()"
   ]
  },
  {
   "cell_type": "code",
   "execution_count": null,
   "id": "13aca919-9733-47b5-acfe-e50c859063fb",
   "metadata": {},
   "outputs": [],
   "source": [
    "age.shape"
   ]
  },
  {
   "cell_type": "code",
   "execution_count": null,
   "id": "2ce0e2f4-80cc-4417-9181-908469db3a93",
   "metadata": {},
   "outputs": [],
   "source": [
    "len(age)"
   ]
  },
  {
   "cell_type": "code",
   "execution_count": null,
   "id": "d008b582-ef99-425c-be66-48df398f87cd",
   "metadata": {},
   "outputs": [],
   "source": [
    "age_frame = age.to_frame()"
   ]
  },
  {
   "cell_type": "code",
   "execution_count": null,
   "id": "0449937c-e571-4f6f-ae2e-765abb0e69e8",
   "metadata": {},
   "outputs": [],
   "source": [
    "age_frame.shape"
   ]
  },
  {
   "cell_type": "code",
   "execution_count": null,
   "id": "e880ac15-18e9-4525-b64b-00fb5d113cb0",
   "metadata": {},
   "outputs": [],
   "source": [
    "age.describe()"
   ]
  },
  {
   "cell_type": "code",
   "execution_count": null,
   "id": "7299de51-bac9-4a88-9f02-c1f2b2caee99",
   "metadata": {},
   "outputs": [],
   "source": [
    "age.info()"
   ]
  },
  {
   "cell_type": "code",
   "execution_count": null,
   "id": "d153919c-d156-4f8f-8e30-59c85cce3bf1",
   "metadata": {},
   "outputs": [],
   "source": [
    "age.count()"
   ]
  },
  {
   "cell_type": "code",
   "execution_count": null,
   "id": "7a8c2870-917a-441b-acc6-76be199e5758",
   "metadata": {},
   "outputs": [],
   "source": [
    "age.size"
   ]
  },
  {
   "cell_type": "code",
   "execution_count": null,
   "id": "bd865cfa-c064-4b85-9c05-e55c7464a0fb",
   "metadata": {},
   "outputs": [],
   "source": [
    "age.sum()"
   ]
  },
  {
   "cell_type": "code",
   "execution_count": null,
   "id": "99e6b9f0-33a7-454f-95a0-645066fa8a23",
   "metadata": {},
   "outputs": [],
   "source": [
    "sum(age)"
   ]
  },
  {
   "cell_type": "code",
   "execution_count": null,
   "id": "08b57f93-c067-43e8-b200-af089be79859",
   "metadata": {},
   "outputs": [],
   "source": [
    "age.mean()"
   ]
  },
  {
   "cell_type": "code",
   "execution_count": null,
   "id": "7a6c9b3c-414c-44a8-bc16-fde3d67403e2",
   "metadata": {},
   "outputs": [],
   "source": [
    "age.sum() / len(age)"
   ]
  },
  {
   "cell_type": "code",
   "execution_count": null,
   "id": "4b26fae4-50d5-4fa5-a69c-4024c53031e4",
   "metadata": {},
   "outputs": [],
   "source": [
    "age.min()"
   ]
  },
  {
   "cell_type": "code",
   "execution_count": null,
   "id": "d7f152eb-511d-4afc-85e2-5dcd24378587",
   "metadata": {},
   "outputs": [],
   "source": [
    "age.max()"
   ]
  },
  {
   "cell_type": "code",
   "execution_count": null,
   "id": "9ecd64c7-c0e9-4d70-88d1-be034eea1db2",
   "metadata": {},
   "outputs": [],
   "source": [
    "age.std()"
   ]
  },
  {
   "cell_type": "markdown",
   "id": "2865117a-08f5-4bf4-b98e-7047a6039f38",
   "metadata": {},
   "source": [
    "Some playground:"
   ]
  },
  {
   "cell_type": "code",
   "execution_count": null,
   "id": "51752614-6eaa-497b-90db-5d064c9dece7",
   "metadata": {},
   "outputs": [],
   "source": [
    "cols = list(titanic.columns)\n",
    "for col in cols:\n",
    "    if titanic[col].dtype in ['int64', 'float64']:\n",
    "        print(f'{col}: {titanic[col].mean()}')"
   ]
  },
  {
   "cell_type": "code",
   "execution_count": null,
   "id": "711bcac2-33b5-4b95-aa76-63d448552634",
   "metadata": {},
   "outputs": [],
   "source": [
    "age.unique()"
   ]
  },
  {
   "cell_type": "code",
   "execution_count": null,
   "id": "f2130272-1273-43d4-bec4-298c3f52db90",
   "metadata": {},
   "outputs": [],
   "source": [
    "len(age.unique())"
   ]
  },
  {
   "cell_type": "code",
   "execution_count": null,
   "id": "52146bfa-1c06-4f63-84de-3c20c29debc0",
   "metadata": {},
   "outputs": [],
   "source": [
    "age.nunique(dropna = False)"
   ]
  },
  {
   "cell_type": "code",
   "execution_count": null,
   "id": "25473460-afe2-4bae-a1af-82735d332b37",
   "metadata": {},
   "outputs": [],
   "source": [
    "age.value_counts()"
   ]
  },
  {
   "cell_type": "code",
   "execution_count": null,
   "id": "64585379-db1a-4852-b66c-96acc34be539",
   "metadata": {},
   "outputs": [],
   "source": [
    "age.value_counts(normalize = True)"
   ]
  },
  {
   "cell_type": "code",
   "execution_count": null,
   "id": "c24ecc8a-ecd8-40fe-9fff-d5100636d219",
   "metadata": {},
   "outputs": [],
   "source": [
    "age.value_counts(bins = 5)"
   ]
  },
  {
   "cell_type": "code",
   "execution_count": null,
   "id": "b680e0cd-f536-40ca-9bd4-06a92f087309",
   "metadata": {},
   "outputs": [],
   "source": [
    "30/age.count()"
   ]
  },
  {
   "cell_type": "markdown",
   "id": "7741ebce-f332-426a-adcc-2e6c19c04e0b",
   "metadata": {},
   "source": [
    "### **Analyzing non-numerical Series with unique(), nunique(), value_counts()**"
   ]
  },
  {
   "cell_type": "code",
   "execution_count": null,
   "id": "e1bc5082-772d-4fa4-ae19-b6647c904d42",
   "metadata": {},
   "outputs": [],
   "source": [
    "import pandas as pd"
   ]
  },
  {
   "cell_type": "code",
   "execution_count": null,
   "id": "beca48bb-f91f-4a44-b5a5-996dc885041d",
   "metadata": {},
   "outputs": [],
   "source": [
    "summer = pd.read_csv('summer.csv')"
   ]
  },
  {
   "cell_type": "code",
   "execution_count": null,
   "id": "1cdb86a5-357a-4d61-a8f1-4cffcdbc9adb",
   "metadata": {},
   "outputs": [],
   "source": [
    "summer.head()"
   ]
  },
  {
   "cell_type": "code",
   "execution_count": null,
   "id": "7d9afb1e-a77b-463f-a556-9a71ffa614dc",
   "metadata": {},
   "outputs": [],
   "source": [
    "summer.info()"
   ]
  },
  {
   "cell_type": "code",
   "execution_count": null,
   "id": "b2259703-3293-4a5d-be3a-f51801e2dbfb",
   "metadata": {},
   "outputs": [],
   "source": [
    "athlete = summer['Athlete']"
   ]
  },
  {
   "cell_type": "code",
   "execution_count": null,
   "id": "2b33a1b6-d257-4aa8-9666-fb3f6909406b",
   "metadata": {},
   "outputs": [],
   "source": [
    "athlete.head(10)"
   ]
  },
  {
   "cell_type": "code",
   "execution_count": null,
   "id": "e6e4d124-2f05-48bf-a34e-c096529cc861",
   "metadata": {},
   "outputs": [],
   "source": [
    "athlete.tail(10)"
   ]
  },
  {
   "cell_type": "code",
   "execution_count": null,
   "id": "88c8d16e-b570-4ce6-a0ae-bfe08ffc7a6b",
   "metadata": {},
   "outputs": [],
   "source": [
    "athlete.dtype"
   ]
  },
  {
   "cell_type": "code",
   "execution_count": null,
   "id": "68f1fc25-67fc-4b73-aa38-ece64e347982",
   "metadata": {},
   "outputs": [],
   "source": [
    "type(athlete)"
   ]
  },
  {
   "cell_type": "code",
   "execution_count": null,
   "id": "68c4ab0c-8ecb-49a8-9530-9e46d7a50a1b",
   "metadata": {},
   "outputs": [],
   "source": [
    "athlete.shape"
   ]
  },
  {
   "cell_type": "code",
   "execution_count": null,
   "id": "923dbea4-973c-4e6d-9192-343d86d4889b",
   "metadata": {},
   "outputs": [],
   "source": [
    "athlete.describe()"
   ]
  },
  {
   "cell_type": "code",
   "execution_count": null,
   "id": "3f5683a6-b8bf-4175-a927-bff6b84d804f",
   "metadata": {},
   "outputs": [],
   "source": [
    "athlete.size"
   ]
  },
  {
   "cell_type": "code",
   "execution_count": null,
   "id": "1ec81a15-926f-4621-80b6-d48e7d71f218",
   "metadata": {},
   "outputs": [],
   "source": [
    "athlete.count()"
   ]
  },
  {
   "cell_type": "code",
   "execution_count": null,
   "id": "8dd5f5fa-2314-4536-b67c-97e86d2e7964",
   "metadata": {},
   "outputs": [],
   "source": [
    "athlete.min()"
   ]
  },
  {
   "cell_type": "code",
   "execution_count": null,
   "id": "ab813880-4e40-4168-b253-be8a97d86bf3",
   "metadata": {},
   "outputs": [],
   "source": [
    "athlete.unique()"
   ]
  },
  {
   "cell_type": "code",
   "execution_count": null,
   "id": "bbcd1da1-f458-4a8e-b415-6db29e7e0855",
   "metadata": {},
   "outputs": [],
   "source": [
    "len(athlete.unique())"
   ]
  },
  {
   "cell_type": "code",
   "execution_count": null,
   "id": "7bb9d5ff-377c-4e55-8b75-e7cc7b76294f",
   "metadata": {},
   "outputs": [],
   "source": [
    "athlete.nunique()"
   ]
  },
  {
   "cell_type": "code",
   "execution_count": null,
   "id": "ebc0b2aa-8411-49a1-bbdd-f04e76312b26",
   "metadata": {},
   "outputs": [],
   "source": [
    "athlete.value_counts()"
   ]
  },
  {
   "cell_type": "code",
   "execution_count": null,
   "id": "bfa65473-742c-4be9-9cbe-f69ebbd8d8fb",
   "metadata": {},
   "outputs": [],
   "source": [
    "athlete.value_counts(sort = True, ascending = True)"
   ]
  },
  {
   "cell_type": "code",
   "execution_count": null,
   "id": "8cb784c4-d5f5-4afb-82a7-85bce42add01",
   "metadata": {},
   "outputs": [],
   "source": [
    "athlete.value_counts(sort = True, normalize = True).head()"
   ]
  },
  {
   "cell_type": "markdown",
   "id": "7e138808-7213-474d-8f32-c640a0ce53c9",
   "metadata": {},
   "source": [
    "### **Creating Pandas Series**"
   ]
  },
  {
   "cell_type": "markdown",
   "id": "3bee18f3-647e-444e-9707-b596a7942f1d",
   "metadata": {},
   "source": [
    "#### **Part 1.**"
   ]
  },
  {
   "cell_type": "code",
   "execution_count": null,
   "id": "01dc5a1e-87c6-4585-9136-17b7248cca1f",
   "metadata": {},
   "outputs": [],
   "source": [
    "import pandas as pd"
   ]
  },
  {
   "cell_type": "code",
   "execution_count": null,
   "id": "dd9afd20-ab24-4cb5-9b15-74e5e3528a5c",
   "metadata": {},
   "outputs": [],
   "source": [
    "summer = pd.read_csv('summer.csv')"
   ]
  },
  {
   "cell_type": "code",
   "execution_count": null,
   "id": "10e57de5-8f6b-4465-9ae7-0825a5d89588",
   "metadata": {},
   "outputs": [],
   "source": [
    "summer.Athlete"
   ]
  },
  {
   "cell_type": "code",
   "execution_count": null,
   "id": "e4910b02-46d8-46b2-8461-d404b990f2f7",
   "metadata": {},
   "outputs": [],
   "source": [
    "summer.iloc[0]"
   ]
  },
  {
   "cell_type": "code",
   "execution_count": null,
   "id": "7a801ef1-8471-4776-9128-04e83b706122",
   "metadata": {},
   "outputs": [],
   "source": [
    "pd.Series([1, 2, 3, 4, 5])"
   ]
  },
  {
   "cell_type": "code",
   "execution_count": null,
   "id": "64cff9b7-b313-492a-a400-8ba33c31eda3",
   "metadata": {},
   "outputs": [],
   "source": [
    "pd.Series(data = [1, 2, 3, 4, 5], index = ['a', 'b', 'c', 'd', 'e'])"
   ]
  },
  {
   "cell_type": "code",
   "execution_count": null,
   "id": "7e08dfe0-72c3-459c-9b8a-6ec2555ef364",
   "metadata": {},
   "outputs": [],
   "source": [
    "pd.Series(data = [1, 2, 3, 4, 5], index = ['a', 'b', 'c', 'd', 'e'], name = 'Test')"
   ]
  },
  {
   "cell_type": "markdown",
   "id": "e945fed7-eeeb-4701-9d4e-58afa543bbcd",
   "metadata": {},
   "source": [
    "#### **Part 2.**"
   ]
  },
  {
   "cell_type": "markdown",
   "id": "a17be9e3-efeb-4952-9345-6f036a5711cd",
   "metadata": {},
   "source": [
    "###### **From NumPy array**"
   ]
  },
  {
   "cell_type": "code",
   "execution_count": null,
   "id": "da3e6fcf-7dc6-4fa1-8bc0-44287e28f624",
   "metadata": {},
   "outputs": [],
   "source": [
    "import numpy as np\n",
    "import pandas as pd"
   ]
  },
  {
   "cell_type": "code",
   "execution_count": null,
   "id": "439f686b-ac0f-4819-ba3a-9c4e2e597c48",
   "metadata": {},
   "outputs": [],
   "source": [
    "np_array = np.array([1, 2, 3, 4, 5])\n",
    "np_array"
   ]
  },
  {
   "cell_type": "code",
   "execution_count": null,
   "id": "468ea115-0cc1-483f-967a-bca87d0e8ff6",
   "metadata": {},
   "outputs": [],
   "source": [
    "pd.Series(np_array)"
   ]
  },
  {
   "cell_type": "markdown",
   "id": "1add5ba6-7079-4057-ae83-4a6ad1d9e73c",
   "metadata": {},
   "source": [
    "###### **From Python list**"
   ]
  },
  {
   "cell_type": "code",
   "execution_count": null,
   "id": "dfbbb15f-bb94-440a-95ee-5bf0871d3a8d",
   "metadata": {},
   "outputs": [],
   "source": [
    "p_list = [1, 2, 3, 4, 5]\n",
    "p_list"
   ]
  },
  {
   "cell_type": "code",
   "execution_count": null,
   "id": "511ede44-98ee-4cf8-9d2d-cae6461dd85e",
   "metadata": {},
   "outputs": [],
   "source": [
    "pd.Series(p_list)"
   ]
  },
  {
   "cell_type": "markdown",
   "id": "879027e1-7a10-44e2-9c1d-2c804fd2bd65",
   "metadata": {},
   "source": [
    "###### **From Python tuple**"
   ]
  },
  {
   "cell_type": "code",
   "execution_count": null,
   "id": "a5d02e92-7d00-4731-a4b8-0c872e51aa5a",
   "metadata": {},
   "outputs": [],
   "source": [
    "p_tuple = (1, 2, 3, 4, 5)\n",
    "p_tuple"
   ]
  },
  {
   "cell_type": "code",
   "execution_count": null,
   "id": "d187aae1-adfc-4c6d-98be-351d46c652b4",
   "metadata": {},
   "outputs": [],
   "source": [
    "pd.Series(p_tuple)"
   ]
  },
  {
   "cell_type": "markdown",
   "id": "95696691-78b2-4ef5-8e5c-e628c6edfe7e",
   "metadata": {},
   "source": [
    "###### **From Python dictionary**"
   ]
  },
  {
   "cell_type": "code",
   "execution_count": null,
   "id": "be67e59d-8eba-4fd1-923f-856d43c48bcc",
   "metadata": {},
   "outputs": [],
   "source": [
    "p_dict = {\"a\": 1, \"b\": 2, \"c\": 3, \"d\": 4, \"e\": 5}\n",
    "p_dict"
   ]
  },
  {
   "cell_type": "code",
   "execution_count": null,
   "id": "30c9e2ad-f7ed-4627-b694-385b7a3e97b6",
   "metadata": {},
   "outputs": [],
   "source": [
    "pd.Series(p_dict)"
   ]
  },
  {
   "cell_type": "markdown",
   "id": "847f12ae-cbe3-49ac-8b67-01a95152c4a1",
   "metadata": {},
   "source": [
    "### **Indexing and Slicing**"
   ]
  },
  {
   "cell_type": "code",
   "execution_count": null,
   "id": "8f8d8e11-8b8e-45c4-abce-97a044fbd6aa",
   "metadata": {},
   "outputs": [],
   "source": [
    "import pandas as pd"
   ]
  },
  {
   "cell_type": "code",
   "execution_count": null,
   "id": "1c57c652-4512-4e2a-bc2f-23fac2de0612",
   "metadata": {},
   "outputs": [],
   "source": [
    "titanic = pd.read_csv('titanic.csv')"
   ]
  },
  {
   "cell_type": "code",
   "execution_count": null,
   "id": "31b277ef-38ea-454b-947e-6d62c6e8294f",
   "metadata": {},
   "outputs": [],
   "source": [
    "titanic.head()"
   ]
  },
  {
   "cell_type": "code",
   "execution_count": null,
   "id": "bef98edb-ca0e-46b7-8321-821baccd3bd4",
   "metadata": {},
   "outputs": [],
   "source": [
    "titanic.tail()"
   ]
  },
  {
   "cell_type": "code",
   "execution_count": null,
   "id": "21890eaa-3f2c-4782-a95c-16df27177dd3",
   "metadata": {},
   "outputs": [],
   "source": [
    "age = titanic.age"
   ]
  },
  {
   "cell_type": "code",
   "execution_count": null,
   "id": "28ff7fd1-4a17-4cf5-af10-99353814fb55",
   "metadata": {},
   "outputs": [],
   "source": [
    "age.head()"
   ]
  },
  {
   "cell_type": "code",
   "execution_count": null,
   "id": "20c79b0e-c87f-4602-88e8-7cf6fd42e646",
   "metadata": {},
   "outputs": [],
   "source": [
    "age.tail()"
   ]
  },
  {
   "cell_type": "code",
   "execution_count": null,
   "id": "c97fb1d1-1167-469d-841f-bbc308fbaf05",
   "metadata": {},
   "outputs": [],
   "source": [
    "age[0]"
   ]
  },
  {
   "cell_type": "code",
   "execution_count": null,
   "id": "8067267a-05ab-4ef3-837c-4ed4d1032a9f",
   "metadata": {},
   "outputs": [],
   "source": [
    "age.iloc[-1]"
   ]
  },
  {
   "cell_type": "code",
   "execution_count": null,
   "id": "f30a0e98-f5da-4ed8-b88c-0d12201197a1",
   "metadata": {},
   "outputs": [],
   "source": [
    "age[[3, 4]]"
   ]
  },
  {
   "cell_type": "code",
   "execution_count": null,
   "id": "eb8e3736-bc7e-4541-991c-c7ae21a71f66",
   "metadata": {},
   "outputs": [],
   "source": [
    "age[:3]"
   ]
  },
  {
   "cell_type": "code",
   "execution_count": null,
   "id": "5364e2d1-0a03-48c5-bd55-e1061aca51d2",
   "metadata": {},
   "outputs": [],
   "source": [
    "age.loc[:3]"
   ]
  },
  {
   "cell_type": "code",
   "execution_count": null,
   "id": "5175a814-ad7a-4bf9-94a7-c0d8582a0660",
   "metadata": {},
   "outputs": [],
   "source": [
    "summer = pd.read_csv('summer.csv', index_col = 'Athlete')"
   ]
  },
  {
   "cell_type": "code",
   "execution_count": null,
   "id": "fbce4a46-b6ea-4d76-b34b-18c688c2e47e",
   "metadata": {},
   "outputs": [],
   "source": [
    "summer"
   ]
  },
  {
   "cell_type": "code",
   "execution_count": null,
   "id": "ba28ac85-12e0-44a8-9351-2607ed81267a",
   "metadata": {},
   "outputs": [],
   "source": [
    "event = summer.Event"
   ]
  },
  {
   "cell_type": "code",
   "execution_count": null,
   "id": "97d38900-3cfe-4df1-a4dc-6361826cb28c",
   "metadata": {},
   "outputs": [],
   "source": [
    "event.head()"
   ]
  },
  {
   "cell_type": "code",
   "execution_count": null,
   "id": "7d3796c0-bc9c-4767-b9d4-e7dd444d845b",
   "metadata": {},
   "outputs": [],
   "source": [
    "event.tail()"
   ]
  },
  {
   "cell_type": "code",
   "execution_count": null,
   "id": "26730562-bd3b-492a-a6e0-6d4458d1825b",
   "metadata": {},
   "outputs": [],
   "source": [
    "event[0]"
   ]
  },
  {
   "cell_type": "code",
   "execution_count": null,
   "id": "574383d7-5399-4998-89e5-8d86a6a63465",
   "metadata": {},
   "outputs": [],
   "source": [
    "event[-1]"
   ]
  },
  {
   "cell_type": "code",
   "execution_count": null,
   "id": "a8f86505-14fd-4c74-9b99-c2886b67340a",
   "metadata": {},
   "outputs": [],
   "source": [
    "event[:3]"
   ]
  },
  {
   "cell_type": "code",
   "execution_count": null,
   "id": "9e9f615f-ba4e-4e88-b755-c8bc869b9f0d",
   "metadata": {},
   "outputs": [],
   "source": [
    "event.iloc[:3]"
   ]
  },
  {
   "cell_type": "code",
   "execution_count": null,
   "id": "5ca2662e-cb2d-4819-8bf3-c0a3dc800013",
   "metadata": {},
   "outputs": [],
   "source": [
    "event['PHELPS, Michael']"
   ]
  },
  {
   "cell_type": "markdown",
   "id": "e02bbee5-e98c-4cda-bbba-67fdbd3c1348",
   "metadata": {},
   "source": [
    "### **Sorting of series**"
   ]
  },
  {
   "cell_type": "code",
   "execution_count": null,
   "id": "4d318c3a-4aa7-4b4f-a1ee-271e6a54c3ff",
   "metadata": {},
   "outputs": [],
   "source": [
    "import pandas as pd"
   ]
  },
  {
   "cell_type": "code",
   "execution_count": null,
   "id": "f6054e06-6431-4c7b-bce6-eddf5e697926",
   "metadata": {},
   "outputs": [],
   "source": [
    "dict_values = {\n",
    "    1: 3,\n",
    "    2: 5,\n",
    "    4: 42,\n",
    "    6: 26,\n",
    "    5: 55,\n",
    "    3: 33,\n",
    "    7: None\n",
    "}"
   ]
  },
  {
   "cell_type": "code",
   "execution_count": null,
   "id": "8e29f616-f238-4311-b983-355b77c6d1de",
   "metadata": {},
   "outputs": [],
   "source": [
    "sales = pd.Series(dict_values)"
   ]
  },
  {
   "cell_type": "code",
   "execution_count": null,
   "id": "304eff12-a68d-43e0-8c0b-4056097b1d5a",
   "metadata": {},
   "outputs": [],
   "source": [
    "sales.sort_values()"
   ]
  },
  {
   "cell_type": "code",
   "execution_count": null,
   "id": "0ca744b4-b2e0-4558-9af1-308462143bc3",
   "metadata": {},
   "outputs": [],
   "source": [
    "sales.sort_index()"
   ]
  },
  {
   "cell_type": "code",
   "execution_count": null,
   "id": "09208a8e-b114-4bee-b342-c816daea0805",
   "metadata": {},
   "outputs": [],
   "source": [
    "sales.sort_index(ascending = False)"
   ]
  },
  {
   "cell_type": "code",
   "execution_count": null,
   "id": "aca479bb-37b9-4a65-8466-eeb9a63b97ed",
   "metadata": {},
   "outputs": [],
   "source": [
    "sales.sort_index(ascending = True)"
   ]
  },
  {
   "cell_type": "code",
   "execution_count": null,
   "id": "082d22ec-2922-4531-9ea4-d2fc19db4268",
   "metadata": {},
   "outputs": [],
   "source": [
    "sales.sort_index(ascending = False)"
   ]
  },
  {
   "cell_type": "code",
   "execution_count": null,
   "id": "06962dd4-5aeb-4034-97e7-f324514f00df",
   "metadata": {},
   "outputs": [],
   "source": [
    "sales.sort_index(ascending = True, inplace = True)"
   ]
  },
  {
   "cell_type": "code",
   "execution_count": null,
   "id": "196423d2-2247-4655-8b64-167464876b88",
   "metadata": {},
   "outputs": [],
   "source": [
    "sales"
   ]
  },
  {
   "cell_type": "code",
   "execution_count": null,
   "id": "5832e202-747c-48f9-9575-0353d5294a3d",
   "metadata": {},
   "outputs": [],
   "source": [
    "titanic = pd.read_csv('titanic.csv')"
   ]
  },
  {
   "cell_type": "code",
   "execution_count": null,
   "id": "aa60b428-e3e1-4c55-8ff6-985d80862f9c",
   "metadata": {},
   "outputs": [],
   "source": [
    "age = titanic.age"
   ]
  },
  {
   "cell_type": "code",
   "execution_count": null,
   "id": "3bb3df78-e157-4aea-80ce-ad3f2968f1c1",
   "metadata": {},
   "outputs": [],
   "source": [
    "age.head()"
   ]
  },
  {
   "cell_type": "code",
   "execution_count": null,
   "id": "08171ae9-d854-4c7b-83ec-ff18a3589a04",
   "metadata": {},
   "outputs": [],
   "source": [
    "age.tail()"
   ]
  },
  {
   "cell_type": "markdown",
   "id": "4a976e24-8a6c-4f6c-93e3-56ead1cc8074",
   "metadata": {},
   "source": [
    "### **nlargest() and nsmallest()**"
   ]
  },
  {
   "cell_type": "code",
   "execution_count": null,
   "id": "fa124ae7-f39a-48cf-82b6-0949a9b5b8b6",
   "metadata": {},
   "outputs": [],
   "source": [
    "import pandas as pd"
   ]
  },
  {
   "cell_type": "code",
   "execution_count": null,
   "id": "2cc77334-03a0-4f25-90bc-3fffaface7b5",
   "metadata": {},
   "outputs": [],
   "source": [
    "titanic = pd.read_csv('titanic.csv')"
   ]
  },
  {
   "cell_type": "code",
   "execution_count": null,
   "id": "0eb334a8-e235-41da-9bdc-81cdc2993317",
   "metadata": {},
   "outputs": [],
   "source": [
    "age = titanic.age"
   ]
  },
  {
   "cell_type": "code",
   "execution_count": null,
   "id": "18cf5ae5-5778-4abf-9984-21841f7a3ccf",
   "metadata": {},
   "outputs": [],
   "source": [
    "age"
   ]
  },
  {
   "cell_type": "code",
   "execution_count": null,
   "id": "190bf9e5-4a38-4a32-91c0-9c6f0bfe2821",
   "metadata": {},
   "outputs": [],
   "source": [
    "age2 = age.copy()"
   ]
  },
  {
   "cell_type": "code",
   "execution_count": null,
   "id": "01df68d7-200a-40a9-9662-36ca3517ee5a",
   "metadata": {},
   "outputs": [],
   "source": [
    "age2.sort_values(ascending = False, inplace = True)"
   ]
  },
  {
   "cell_type": "code",
   "execution_count": null,
   "id": "ba6cfe9f-479e-4d27-b1b6-723b74e785a3",
   "metadata": {},
   "outputs": [],
   "source": [
    "age2.head(10)"
   ]
  },
  {
   "cell_type": "code",
   "execution_count": null,
   "id": "b8d0bcea-26fc-4987-9884-ad032b475b7b",
   "metadata": {},
   "outputs": [],
   "source": [
    "age2.nlargest(n = 10)"
   ]
  },
  {
   "cell_type": "code",
   "execution_count": null,
   "id": "c9bf371a-4fc5-4812-b751-c92687a2b5ab",
   "metadata": {},
   "outputs": [],
   "source": [
    "age2.nlargest(n = 10, keep = 'all')"
   ]
  },
  {
   "cell_type": "code",
   "execution_count": null,
   "id": "0a3cdeec-b7d9-4f0c-b605-9d1fbf13cd61",
   "metadata": {},
   "outputs": [],
   "source": [
    "age2.nsmallest(n = 10)"
   ]
  },
  {
   "cell_type": "code",
   "execution_count": null,
   "id": "38937ac1-8ad0-42a0-9c62-bf3406adb093",
   "metadata": {},
   "outputs": [],
   "source": [
    "titanic.info()"
   ]
  },
  {
   "cell_type": "markdown",
   "id": "c9645400-4b29-4e55-b477-bb5385ce441d",
   "metadata": {},
   "source": [
    "### **idxmin() and idxmax()**"
   ]
  },
  {
   "cell_type": "code",
   "execution_count": null,
   "id": "0c17a8ae-4614-432a-9260-d9568e95fbd9",
   "metadata": {},
   "outputs": [],
   "source": [
    "import pandas as pd"
   ]
  },
  {
   "cell_type": "code",
   "execution_count": null,
   "id": "f0d62a50-e441-455c-aca4-7b4abe8264e6",
   "metadata": {},
   "outputs": [],
   "source": [
    "titanic = pd.read_csv('titanic.csv')"
   ]
  },
  {
   "cell_type": "code",
   "execution_count": null,
   "id": "42398d0f-8e8f-4444-8848-299cfb525008",
   "metadata": {},
   "outputs": [],
   "source": [
    "fare = titanic.fare"
   ]
  },
  {
   "cell_type": "code",
   "execution_count": null,
   "id": "02c2c5e1-0e80-4e91-a1ff-7b491abbfa59",
   "metadata": {},
   "outputs": [],
   "source": [
    "fare.nlargest(n = 3).index[0]"
   ]
  },
  {
   "cell_type": "code",
   "execution_count": null,
   "id": "62737d00-88a0-4d61-ab06-c9d04c8bb8c2",
   "metadata": {},
   "outputs": [],
   "source": [
    "fare.idxmax()"
   ]
  },
  {
   "cell_type": "code",
   "execution_count": null,
   "id": "28d34364-aa20-4a7c-9390-6c8200505a12",
   "metadata": {},
   "outputs": [],
   "source": [
    "fare.nsmallest(n = 3).index[0]"
   ]
  },
  {
   "cell_type": "code",
   "execution_count": null,
   "id": "34ab3ffa-28f8-412f-8b92-805b4a915fa7",
   "metadata": {},
   "outputs": [],
   "source": [
    "fare.idxmin()"
   ]
  },
  {
   "cell_type": "code",
   "execution_count": null,
   "id": "6a2a17eb-1851-4a17-8678-3f6ad544c48a",
   "metadata": {},
   "outputs": [],
   "source": [
    "titanic.loc[fare.idxmax()]"
   ]
  },
  {
   "cell_type": "code",
   "execution_count": null,
   "id": "4afc2856-b9f7-4398-9c4e-0accaac21bd2",
   "metadata": {},
   "outputs": [],
   "source": [
    "titanic.loc[fare.idxmin()]"
   ]
  },
  {
   "cell_type": "code",
   "execution_count": null,
   "id": "3ec63f91-7b5b-4236-9215-f46a7235dbc0",
   "metadata": {},
   "outputs": [],
   "source": [
    "dic = {\n",
    "    \"Mon\": 10.0,\n",
    "    \"Tue\": 25.0,\n",
    "    \"Wed\": 6.0,\n",
    "    \"Thu\": 36.0,\n",
    "    \"Fri\": 2.0,\n",
    "    \"Sat\": 0,\n",
    "    \"Sun\": None,\n",
    "}"
   ]
  },
  {
   "cell_type": "code",
   "execution_count": null,
   "id": "c01e8207-a0da-4873-81be-605d6091d9f3",
   "metadata": {},
   "outputs": [],
   "source": [
    "sales = pd.Series(dic)"
   ]
  },
  {
   "cell_type": "code",
   "execution_count": null,
   "id": "749275dc-7f95-4fe6-ace0-7f2de60a551f",
   "metadata": {},
   "outputs": [],
   "source": [
    "sales"
   ]
  },
  {
   "cell_type": "code",
   "execution_count": null,
   "id": "12c0da52-60fd-4935-b595-3c84689bd660",
   "metadata": {},
   "outputs": [],
   "source": [
    "sales.sort_values(ascending = True).index[0]"
   ]
  },
  {
   "cell_type": "code",
   "execution_count": null,
   "id": "022acce0-8359-4fe0-b82b-ff24ed5585c9",
   "metadata": {},
   "outputs": [],
   "source": [
    "sales.idxmin()"
   ]
  },
  {
   "cell_type": "code",
   "execution_count": null,
   "id": "5ef5fae5-6b34-4a13-ae0e-3e92a7f89e20",
   "metadata": {},
   "outputs": [],
   "source": [
    "sales.sort_values(ascending = False).index[0]"
   ]
  },
  {
   "cell_type": "code",
   "execution_count": null,
   "id": "8d5cea14-a76a-4aac-a959-9331ecd9e2c0",
   "metadata": {},
   "outputs": [],
   "source": [
    "sales.idxmax()"
   ]
  },
  {
   "cell_type": "code",
   "execution_count": null,
   "id": "5ac08d96-57fe-47f4-b37e-91eb816f0a51",
   "metadata": {},
   "outputs": [],
   "source": [
    "sales.loc[sales.idxmax()]"
   ]
  },
  {
   "cell_type": "markdown",
   "id": "98ec6d93-6fb3-4052-8937-6f05af0d75f0",
   "metadata": {},
   "source": [
    "### **Manipulating Pandas Series**"
   ]
  },
  {
   "cell_type": "code",
   "execution_count": null,
   "id": "5c092d0d-ee11-4646-b571-30015c9e20c6",
   "metadata": {},
   "outputs": [],
   "source": [
    "import pandas as pd"
   ]
  },
  {
   "cell_type": "code",
   "execution_count": null,
   "id": "75bf0283-824c-4362-a4c6-bf3db28aad29",
   "metadata": {},
   "outputs": [],
   "source": [
    "sales = pd.Series([10, 25, 6, 36, 2, 0, None, 5], index = [\"Mon\", \"Tue\", \"Wed\", \"Thu\", \"Fri\", \"Sat\", \"Sun\", \"Mon\"])"
   ]
  },
  {
   "cell_type": "code",
   "execution_count": null,
   "id": "c572f9f4-809b-462d-b2c1-7340543011d0",
   "metadata": {},
   "outputs": [],
   "source": [
    "sales"
   ]
  },
  {
   "cell_type": "code",
   "execution_count": null,
   "id": "c5a902f4-c6ad-4b42-89da-c069fbcd1791",
   "metadata": {},
   "outputs": [],
   "source": [
    "sales.Sun = 0"
   ]
  },
  {
   "cell_type": "code",
   "execution_count": null,
   "id": "358b36e0-640c-4216-b68f-2aa342a3d7de",
   "metadata": {},
   "outputs": [],
   "source": [
    "sales"
   ]
  },
  {
   "cell_type": "code",
   "execution_count": null,
   "id": "9a35e194-f6f8-4786-be8e-431d7145cd81",
   "metadata": {},
   "outputs": [],
   "source": [
    "sales.iloc[3] = 30"
   ]
  },
  {
   "cell_type": "code",
   "execution_count": null,
   "id": "2838472a-e6ae-4272-870f-8436a19cd95e",
   "metadata": {},
   "outputs": [],
   "source": [
    "sales"
   ]
  },
  {
   "cell_type": "code",
   "execution_count": null,
   "id": "41c8f4f1-5f7e-42d0-9c00-43a581678d90",
   "metadata": {},
   "outputs": [],
   "source": [
    "sales/1.1"
   ]
  },
  {
   "cell_type": "code",
   "execution_count": null,
   "id": "426a904b-65ef-4272-94bf-01f5435181e7",
   "metadata": {},
   "outputs": [],
   "source": [
    "sales_EUR = (sales/1.1).round(2)"
   ]
  },
  {
   "cell_type": "code",
   "execution_count": null,
   "id": "95fbcaa4-96c9-4abe-9410-ca1f49522f3f",
   "metadata": {},
   "outputs": [],
   "source": [
    "sales_EUR"
   ]
  },
  {
   "cell_type": "code",
   "execution_count": null,
   "id": "a7b7de9e-4130-42db-a2d8-a67f2410c4f4",
   "metadata": {},
   "outputs": [],
   "source": [
    "titanic = pd.read_csv('titanic.csv')"
   ]
  },
  {
   "cell_type": "code",
   "execution_count": null,
   "id": "c595098b-c3fa-4d43-9cc5-fa6e8f256906",
   "metadata": {},
   "outputs": [],
   "source": [
    "titanic.head()"
   ]
  },
  {
   "cell_type": "code",
   "execution_count": null,
   "id": "04b9c21a-91a4-4729-853a-258122feed7b",
   "metadata": {},
   "outputs": [],
   "source": [
    "age = titanic.age"
   ]
  },
  {
   "cell_type": "code",
   "execution_count": null,
   "id": "bc8fc783-ce32-4c1d-9449-0da20019188c",
   "metadata": {},
   "outputs": [],
   "source": [
    "age"
   ]
  },
  {
   "cell_type": "code",
   "execution_count": null,
   "id": "28fab1d8-aa76-40a3-af47-43d3cc1f99c5",
   "metadata": {},
   "outputs": [],
   "source": [
    "age.head()"
   ]
  },
  {
   "cell_type": "code",
   "execution_count": null,
   "id": "cf412f5e-e521-4dc1-8709-4aded9ef281a",
   "metadata": {},
   "outputs": [],
   "source": [
    "age[1] = 30"
   ]
  },
  {
   "cell_type": "code",
   "execution_count": null,
   "id": "8f353254-078e-4f46-86db-9ed40d6d2e06",
   "metadata": {},
   "outputs": [],
   "source": [
    "age.head()"
   ]
  },
  {
   "cell_type": "code",
   "execution_count": null,
   "id": "70e30703-6246-403f-ba23-eb10c5279c46",
   "metadata": {},
   "outputs": [],
   "source": [
    "titanic.head(n = 5)"
   ]
  },
  {
   "cell_type": "code",
   "execution_count": null,
   "id": "3719e3ab-061d-4197-bcfb-6a9ab8d51e39",
   "metadata": {},
   "outputs": [],
   "source": [
    "age_2 = titanic.age.copy()"
   ]
  },
  {
   "cell_type": "code",
   "execution_count": null,
   "id": "85945f47-59d2-4f36-b7a0-818e7ead2b57",
   "metadata": {},
   "outputs": [],
   "source": [
    "age_2[1] = 38"
   ]
  },
  {
   "cell_type": "code",
   "execution_count": null,
   "id": "ac234135-f274-4c2d-ab02-b88749fb816f",
   "metadata": {},
   "outputs": [],
   "source": [
    "age_2.head()"
   ]
  },
  {
   "cell_type": "markdown",
   "id": "40c61ef5-c04c-4392-9be7-0eaa4663d16b",
   "metadata": {},
   "source": [
    "### **First Steps with Pandas Index Objects**"
   ]
  },
  {
   "cell_type": "code",
   "execution_count": null,
   "id": "3764112d-0179-4800-a3c0-0e6111f64118",
   "metadata": {},
   "outputs": [],
   "source": [
    "import pandas as pd"
   ]
  },
  {
   "cell_type": "code",
   "execution_count": null,
   "id": "8f8c6bde-aca8-4886-a024-486e7d2f1947",
   "metadata": {},
   "outputs": [],
   "source": [
    "summer = pd.read_csv('summer.csv')"
   ]
  },
  {
   "cell_type": "code",
   "execution_count": null,
   "id": "d6d91d56-eb72-4121-9a26-2a80f51ea118",
   "metadata": {},
   "outputs": [],
   "source": [
    "summer.head()"
   ]
  },
  {
   "cell_type": "code",
   "execution_count": null,
   "id": "61b4229e-5956-4b65-8796-fde602c68f13",
   "metadata": {},
   "outputs": [],
   "source": [
    "summer.tail()"
   ]
  },
  {
   "cell_type": "code",
   "execution_count": null,
   "id": "d1020090-ca57-4621-a6ec-d80222de36b1",
   "metadata": {},
   "outputs": [],
   "source": [
    "summer.info()"
   ]
  },
  {
   "cell_type": "code",
   "execution_count": null,
   "id": "4f48163d-8521-4c47-b864-523b15918509",
   "metadata": {},
   "outputs": [],
   "source": [
    "summer.describe()"
   ]
  },
  {
   "cell_type": "code",
   "execution_count": null,
   "id": "bbbf90ec-71b1-43de-9a7a-685d037dcd7c",
   "metadata": {},
   "outputs": [],
   "source": [
    "summer.index"
   ]
  },
  {
   "cell_type": "code",
   "execution_count": null,
   "id": "f4cafee2-1c55-4d6f-8439-79f7531e3f00",
   "metadata": {},
   "outputs": [],
   "source": [
    "summer.columns"
   ]
  },
  {
   "cell_type": "code",
   "execution_count": null,
   "id": "a6f27172-e17b-4744-86c5-3329f58e681e",
   "metadata": {},
   "outputs": [],
   "source": [
    "summer.axes"
   ]
  },
  {
   "cell_type": "code",
   "execution_count": null,
   "id": "e071d4af-ec6f-4c7e-87d5-8d1ea4991fa1",
   "metadata": {},
   "outputs": [],
   "source": [
    "summer.axes[0]"
   ]
  },
  {
   "cell_type": "code",
   "execution_count": null,
   "id": "5bb2cb97-1e9e-4a80-abbb-1cee46388feb",
   "metadata": {},
   "outputs": [],
   "source": [
    "summer.axes[1]"
   ]
  },
  {
   "cell_type": "code",
   "execution_count": null,
   "id": "f7ede717-a527-4f37-b214-a3eabc327955",
   "metadata": {},
   "outputs": [],
   "source": [
    "type(summer.index)"
   ]
  },
  {
   "cell_type": "code",
   "execution_count": null,
   "id": "53a5ad02-0fca-4d3e-8c5c-851eb86fea3b",
   "metadata": {},
   "outputs": [],
   "source": [
    "type(summer.columns)"
   ]
  },
  {
   "cell_type": "code",
   "execution_count": null,
   "id": "1b209e9b-b709-41da-a49d-45d66048e4d5",
   "metadata": {},
   "outputs": [],
   "source": [
    "summer_index = pd.read_csv('summer.csv', index_col = 'Athlete')"
   ]
  },
  {
   "cell_type": "code",
   "execution_count": null,
   "id": "cdc007d2-52db-4611-bcee-d392820a3ef1",
   "metadata": {},
   "outputs": [],
   "source": [
    "summer_index.head()"
   ]
  },
  {
   "cell_type": "code",
   "execution_count": null,
   "id": "682afdb2-b41a-4788-92ed-68386b68a750",
   "metadata": {},
   "outputs": [],
   "source": [
    "summer_index.index"
   ]
  },
  {
   "cell_type": "code",
   "execution_count": null,
   "id": "f4866786-c5c4-409b-88ee-59f1ec9f8f2d",
   "metadata": {},
   "outputs": [],
   "source": [
    "type(summer_index.index)"
   ]
  },
  {
   "cell_type": "code",
   "execution_count": null,
   "id": "4f2f92b1-2ce4-4d19-b8d6-a0b98a8306c0",
   "metadata": {},
   "outputs": [],
   "source": [
    "summer.columns[:3]"
   ]
  },
  {
   "cell_type": "code",
   "execution_count": null,
   "id": "eca2f3ec-a3c9-40c7-8879-84a7bfa769d8",
   "metadata": {},
   "outputs": [],
   "source": [
    "summer_index.index[0]"
   ]
  },
  {
   "cell_type": "code",
   "execution_count": null,
   "id": "bfad9fa8-edc1-4593-8a94-ae445db8eb91",
   "metadata": {},
   "outputs": [],
   "source": [
    "summer_index.index[100:102]"
   ]
  },
  {
   "cell_type": "code",
   "execution_count": null,
   "id": "bfd12b6c-7860-42ab-ac86-69deac9374fc",
   "metadata": {},
   "outputs": [],
   "source": [
    "summer_index.columns.to_numpy()"
   ]
  },
  {
   "cell_type": "code",
   "execution_count": null,
   "id": "b398bf6c-dc49-4ab4-bac2-7f0fbc4cc4c2",
   "metadata": {},
   "outputs": [],
   "source": [
    "summer_index.columns.to_list()"
   ]
  },
  {
   "cell_type": "code",
   "execution_count": null,
   "id": "ea85994a-e06b-4763-b01b-58c1a2befdac",
   "metadata": {},
   "outputs": [],
   "source": [
    "summer_index.index.is_unique"
   ]
  },
  {
   "cell_type": "code",
   "execution_count": null,
   "id": "63a101e6-8e82-4eb2-be9f-7b0fd066a2ab",
   "metadata": {},
   "outputs": [],
   "source": [
    "summer_index.index.get_loc('DRIVAS, Dimitrios')"
   ]
  },
  {
   "cell_type": "code",
   "execution_count": null,
   "id": "f46f6233-7d11-400f-931d-b8e128972f22",
   "metadata": {},
   "outputs": [],
   "source": [
    "summer_index.index.get_loc('PHELPS, Michael')"
   ]
  },
  {
   "cell_type": "markdown",
   "id": "6964a16b-1c14-464b-810f-f521a56e3fd5",
   "metadata": {},
   "source": [
    "### **Creating index objects**"
   ]
  },
  {
   "cell_type": "code",
   "execution_count": null,
   "id": "907ee575-54e0-48e5-a76b-6ad119e88c87",
   "metadata": {},
   "outputs": [],
   "source": [
    "import pandas as pd"
   ]
  },
  {
   "cell_type": "code",
   "execution_count": null,
   "id": "7c050eaf-2a3d-4609-bdaa-03b6870d4326",
   "metadata": {},
   "outputs": [],
   "source": [
    "list_1 = [1, 2, 3]"
   ]
  },
  {
   "cell_type": "code",
   "execution_count": null,
   "id": "890ae548-c4b0-4811-bb83-9b270d65cefd",
   "metadata": {},
   "outputs": [],
   "source": [
    "list_1"
   ]
  },
  {
   "cell_type": "code",
   "execution_count": null,
   "id": "99d0ac0b-4879-4a94-8fa9-b75d40f988bd",
   "metadata": {},
   "outputs": [],
   "source": [
    "pd.Index(list_1)"
   ]
  },
  {
   "cell_type": "code",
   "execution_count": null,
   "id": "d482e4d4-9189-4dd9-ae19-4dbe0c313b55",
   "metadata": {},
   "outputs": [],
   "source": [
    "list_2 = ['a', 'b', 'c']"
   ]
  },
  {
   "cell_type": "code",
   "execution_count": null,
   "id": "57cec196-6d0e-47ec-bf57-8acf62ecbd04",
   "metadata": {},
   "outputs": [],
   "source": [
    "pd.Index(list_2)"
   ]
  },
  {
   "cell_type": "code",
   "execution_count": null,
   "id": "4335d2cf-b8d3-4af9-b73b-aebe99cfdcba",
   "metadata": {},
   "outputs": [],
   "source": [
    "pd.Index(range(1, 5))"
   ]
  },
  {
   "cell_type": "code",
   "execution_count": null,
   "id": "678d044f-cdad-4ac8-b1b8-69c59ad1f2d3",
   "metadata": {},
   "outputs": [],
   "source": [
    "idx = pd.Index(['x', 'y', 'z'], name = 'Idx')"
   ]
  },
  {
   "cell_type": "code",
   "execution_count": null,
   "id": "a5b66b17-d685-47ae-a4bd-b3720946cf82",
   "metadata": {},
   "outputs": [],
   "source": [
    "pd.Series([1, 2, 3], index = idx, name = 'Values')"
   ]
  },
  {
   "cell_type": "markdown",
   "id": "20555685-d5bb-4318-a8a8-b4724996f0db",
   "metadata": {},
   "source": [
    "### **Change row index**"
   ]
  },
  {
   "cell_type": "code",
   "execution_count": null,
   "id": "9b466c14-d107-4f0c-ad7a-a49507f3d7db",
   "metadata": {},
   "outputs": [],
   "source": [
    "import pandas as pd"
   ]
  },
  {
   "cell_type": "code",
   "execution_count": null,
   "id": "fd579dfc-bcdc-474b-ad76-50c6b4b2f687",
   "metadata": {},
   "outputs": [],
   "source": [
    "summer = pd.read_csv('summer.csv', index_col = 'Athlete')"
   ]
  },
  {
   "cell_type": "code",
   "execution_count": null,
   "id": "f2123925-7d3b-4c99-bc22-3445ce5b62aa",
   "metadata": {},
   "outputs": [],
   "source": [
    "summer.describe()"
   ]
  },
  {
   "cell_type": "code",
   "execution_count": null,
   "id": "3846fda5-b06c-46de-9b89-43fb37d77468",
   "metadata": {},
   "outputs": [],
   "source": [
    "summer.head()"
   ]
  },
  {
   "cell_type": "code",
   "execution_count": null,
   "id": "ab9c2b0b-1825-4e23-aad5-76df0192a524",
   "metadata": {},
   "outputs": [],
   "source": [
    "summer.index"
   ]
  },
  {
   "cell_type": "code",
   "execution_count": null,
   "id": "0e1865bc-1edf-40c9-b66d-d70cb8f00db7",
   "metadata": {},
   "outputs": [],
   "source": [
    "summer.reset_index()"
   ]
  },
  {
   "cell_type": "code",
   "execution_count": null,
   "id": "079b65bd-4d5e-458f-9db4-6d4a94a95d59",
   "metadata": {},
   "outputs": [],
   "source": [
    "summer"
   ]
  },
  {
   "cell_type": "code",
   "execution_count": null,
   "id": "d6a7da95-70d5-4100-8b11-3c5cd8c0ef0a",
   "metadata": {},
   "outputs": [],
   "source": [
    "summer.reset_index(inplace = True)"
   ]
  },
  {
   "cell_type": "code",
   "execution_count": null,
   "id": "02a09ca3-6ba1-4b4f-b0be-728f19f3df59",
   "metadata": {},
   "outputs": [],
   "source": [
    "summer"
   ]
  },
  {
   "cell_type": "code",
   "execution_count": null,
   "id": "d0d6141a-0ef8-4bef-956a-342c07bbc634",
   "metadata": {},
   "outputs": [],
   "source": [
    "summer.set_index('Year')"
   ]
  },
  {
   "cell_type": "code",
   "execution_count": null,
   "id": "39288d13-3abc-465f-911c-4bcf77b9e274",
   "metadata": {},
   "outputs": [],
   "source": [
    "summer.reset_index()"
   ]
  },
  {
   "cell_type": "code",
   "execution_count": null,
   "id": "6835208d-6540-4b09-b3fd-b5fda3935bdd",
   "metadata": {},
   "outputs": [],
   "source": [
    "summer.index.is_unique"
   ]
  },
  {
   "cell_type": "code",
   "execution_count": null,
   "id": "d787f901-dd77-43e0-975d-cccb2d3f5381",
   "metadata": {},
   "outputs": [],
   "source": [
    "summer.set_index('Year', inplace = True)"
   ]
  },
  {
   "cell_type": "code",
   "execution_count": null,
   "id": "40cafde0-f490-42d3-89cb-cbf9cacab1ea",
   "metadata": {},
   "outputs": [],
   "source": [
    "summer.index.is_unique"
   ]
  },
  {
   "cell_type": "code",
   "execution_count": null,
   "id": "139b914e-7ddf-4640-82d0-96289820bc38",
   "metadata": {},
   "outputs": [],
   "source": [
    "summer.reset_index(inplace = True)"
   ]
  },
  {
   "cell_type": "code",
   "execution_count": null,
   "id": "d8bbd504-fb56-4a55-a35e-cbb856f64880",
   "metadata": {},
   "outputs": [],
   "source": [
    "summer"
   ]
  },
  {
   "cell_type": "code",
   "execution_count": null,
   "id": "774ef153-f011-4f5d-adc0-13b42c26590a",
   "metadata": {},
   "outputs": [],
   "source": [
    "new_index = [f'Row {i}' for i in range(1, summer.index.size + 1)]"
   ]
  },
  {
   "cell_type": "code",
   "execution_count": null,
   "id": "47eabb2b-37d9-4449-8e97-2b963719ce54",
   "metadata": {},
   "outputs": [],
   "source": [
    "new_index"
   ]
  },
  {
   "cell_type": "code",
   "execution_count": null,
   "id": "ff22acaf-4e40-48d8-945a-382b8c737901",
   "metadata": {},
   "outputs": [],
   "source": [
    "summer.index = new_index"
   ]
  },
  {
   "cell_type": "code",
   "execution_count": null,
   "id": "9617e159-7492-4f48-8e14-77516d5702c0",
   "metadata": {},
   "outputs": [],
   "source": [
    "summer.head()"
   ]
  },
  {
   "cell_type": "code",
   "execution_count": null,
   "id": "6ca7afbe-fe43-4efc-aeec-9a66f4871aa8",
   "metadata": {},
   "outputs": [],
   "source": [
    "summer.index.name = \"Rows\""
   ]
  },
  {
   "cell_type": "code",
   "execution_count": null,
   "id": "aa045824-7260-47ef-b5d8-6359dca4a8fa",
   "metadata": {},
   "outputs": [],
   "source": [
    "summer.head()"
   ]
  },
  {
   "cell_type": "code",
   "execution_count": null,
   "id": "5de0de3d-e3e4-420b-a995-3d77ed921c1d",
   "metadata": {},
   "outputs": [],
   "source": [
    "# summer.reset_index(drop = True)\n",
    "summer.reset_index(drop = True, inplace = True)"
   ]
  },
  {
   "cell_type": "code",
   "execution_count": null,
   "id": "3ae480b3-b5a9-4ec7-a340-eb0ee1993ffc",
   "metadata": {
    "scrolled": true
   },
   "outputs": [],
   "source": [
    "summer.head()"
   ]
  },
  {
   "cell_type": "markdown",
   "id": "2bcf45a4-458b-4dad-a35d-2689c5b62d4b",
   "metadata": {},
   "source": [
    "### **Changing column labels**"
   ]
  },
  {
   "cell_type": "code",
   "execution_count": null,
   "id": "bb326923-e544-4e9f-8099-02c10bec1dde",
   "metadata": {},
   "outputs": [],
   "source": [
    "import pandas as pd"
   ]
  },
  {
   "cell_type": "code",
   "execution_count": null,
   "id": "7dbcaf87-64a8-4836-9e9e-e0d2652c8aa7",
   "metadata": {},
   "outputs": [],
   "source": [
    "titanic = pd.read_csv('titanic.csv')"
   ]
  },
  {
   "cell_type": "code",
   "execution_count": null,
   "id": "1b59403e-8330-4e2c-a355-9b3fb66572a0",
   "metadata": {},
   "outputs": [],
   "source": [
    "titanic.head()"
   ]
  },
  {
   "cell_type": "code",
   "execution_count": null,
   "id": "6b561b48-4c65-4dc3-a329-7f34d141fb85",
   "metadata": {},
   "outputs": [],
   "source": [
    "titanic.describe()"
   ]
  },
  {
   "cell_type": "code",
   "execution_count": null,
   "id": "6f98aa7a-d217-401e-ae66-f2f66b6bf1d2",
   "metadata": {},
   "outputs": [],
   "source": [
    "titanic.columns"
   ]
  },
  {
   "cell_type": "code",
   "execution_count": null,
   "id": "4fbae89b-d31f-4dcf-8625-e7bb944bd6d5",
   "metadata": {},
   "outputs": [],
   "source": [
    "titanic.columns[0]"
   ]
  },
  {
   "cell_type": "code",
   "execution_count": null,
   "id": "6e359e18-236b-4206-b375-a3a2f3dfe632",
   "metadata": {},
   "outputs": [],
   "source": [
    "titanic.columns[0] = 'Alive'"
   ]
  },
  {
   "cell_type": "code",
   "execution_count": null,
   "id": "bea96ae6-d3eb-4f7c-ab6c-11e6cc4a2f65",
   "metadata": {},
   "outputs": [],
   "source": [
    "titanic.columns = ['Col 1', 'Col 2', 'Col 3', 'Col 4', 'Col 5', 'Col 6', 'Col 7', 'Col 8', 'Col 9']"
   ]
  },
  {
   "cell_type": "code",
   "execution_count": null,
   "id": "f42f8dd2-4ae9-4cac-97b3-271bc80b3f96",
   "metadata": {},
   "outputs": [],
   "source": [
    "titanic"
   ]
  },
  {
   "cell_type": "code",
   "execution_count": null,
   "id": "2c4fd71e-8d71-4853-ac11-d9479607d69c",
   "metadata": {},
   "outputs": [],
   "source": [
    "titanic.columns.name = 'Col Names'"
   ]
  },
  {
   "cell_type": "code",
   "execution_count": null,
   "id": "42651cf3-ca0a-4584-8e36-f6b4f436b400",
   "metadata": {},
   "outputs": [],
   "source": [
    "titanic"
   ]
  },
  {
   "cell_type": "code",
   "execution_count": null,
   "id": "c3f032ed-2128-42b7-ad2f-697ea18cf16f",
   "metadata": {},
   "outputs": [],
   "source": [
    "titanic.index.name = 'Row Names'"
   ]
  },
  {
   "cell_type": "code",
   "execution_count": null,
   "id": "c9344236-4f3a-4e15-bc72-862a4f807734",
   "metadata": {},
   "outputs": [],
   "source": [
    "titanic"
   ]
  },
  {
   "cell_type": "markdown",
   "id": "8806f175-2628-4a93-a125-5fce2eafd163",
   "metadata": {},
   "source": [
    "### **Ranaming Index and Column labels**"
   ]
  },
  {
   "cell_type": "code",
   "execution_count": 1,
   "id": "db239ae5-261b-43a8-ac37-80c09dd2bbe9",
   "metadata": {},
   "outputs": [],
   "source": [
    "import pandas as pd"
   ]
  },
  {
   "cell_type": "code",
   "execution_count": 2,
   "id": "39910408-cb2f-4d75-8c49-88903df147e9",
   "metadata": {},
   "outputs": [],
   "source": [
    "summer = pd.read_csv('summer.csv', index_col = 'Athlete')"
   ]
  },
  {
   "cell_type": "code",
   "execution_count": 3,
   "id": "15700da8-1123-43d3-863a-186af54d3a3f",
   "metadata": {},
   "outputs": [
    {
     "data": {
      "text/html": [
       "<div>\n",
       "<style scoped>\n",
       "    .dataframe tbody tr th:only-of-type {\n",
       "        vertical-align: middle;\n",
       "    }\n",
       "\n",
       "    .dataframe tbody tr th {\n",
       "        vertical-align: top;\n",
       "    }\n",
       "\n",
       "    .dataframe thead th {\n",
       "        text-align: right;\n",
       "    }\n",
       "</style>\n",
       "<table border=\"1\" class=\"dataframe\">\n",
       "  <thead>\n",
       "    <tr style=\"text-align: right;\">\n",
       "      <th></th>\n",
       "      <th>Year</th>\n",
       "      <th>City</th>\n",
       "      <th>Sport</th>\n",
       "      <th>Discipline</th>\n",
       "      <th>Country</th>\n",
       "      <th>Gender</th>\n",
       "      <th>Event</th>\n",
       "      <th>Medal</th>\n",
       "    </tr>\n",
       "    <tr>\n",
       "      <th>Athlete</th>\n",
       "      <th></th>\n",
       "      <th></th>\n",
       "      <th></th>\n",
       "      <th></th>\n",
       "      <th></th>\n",
       "      <th></th>\n",
       "      <th></th>\n",
       "      <th></th>\n",
       "    </tr>\n",
       "  </thead>\n",
       "  <tbody>\n",
       "    <tr>\n",
       "      <th>HAJOS, Alfred</th>\n",
       "      <td>1896</td>\n",
       "      <td>Athens</td>\n",
       "      <td>Aquatics</td>\n",
       "      <td>Swimming</td>\n",
       "      <td>HUN</td>\n",
       "      <td>Men</td>\n",
       "      <td>100M Freestyle</td>\n",
       "      <td>Gold</td>\n",
       "    </tr>\n",
       "    <tr>\n",
       "      <th>HERSCHMANN, Otto</th>\n",
       "      <td>1896</td>\n",
       "      <td>Athens</td>\n",
       "      <td>Aquatics</td>\n",
       "      <td>Swimming</td>\n",
       "      <td>AUT</td>\n",
       "      <td>Men</td>\n",
       "      <td>100M Freestyle</td>\n",
       "      <td>Silver</td>\n",
       "    </tr>\n",
       "    <tr>\n",
       "      <th>DRIVAS, Dimitrios</th>\n",
       "      <td>1896</td>\n",
       "      <td>Athens</td>\n",
       "      <td>Aquatics</td>\n",
       "      <td>Swimming</td>\n",
       "      <td>GRE</td>\n",
       "      <td>Men</td>\n",
       "      <td>100M Freestyle For Sailors</td>\n",
       "      <td>Bronze</td>\n",
       "    </tr>\n",
       "    <tr>\n",
       "      <th>MALOKINIS, Ioannis</th>\n",
       "      <td>1896</td>\n",
       "      <td>Athens</td>\n",
       "      <td>Aquatics</td>\n",
       "      <td>Swimming</td>\n",
       "      <td>GRE</td>\n",
       "      <td>Men</td>\n",
       "      <td>100M Freestyle For Sailors</td>\n",
       "      <td>Gold</td>\n",
       "    </tr>\n",
       "    <tr>\n",
       "      <th>CHASAPIS, Spiridon</th>\n",
       "      <td>1896</td>\n",
       "      <td>Athens</td>\n",
       "      <td>Aquatics</td>\n",
       "      <td>Swimming</td>\n",
       "      <td>GRE</td>\n",
       "      <td>Men</td>\n",
       "      <td>100M Freestyle For Sailors</td>\n",
       "      <td>Silver</td>\n",
       "    </tr>\n",
       "  </tbody>\n",
       "</table>\n",
       "</div>"
      ],
      "text/plain": [
       "                    Year    City     Sport Discipline Country Gender  \\\n",
       "Athlete                                                                \n",
       "HAJOS, Alfred       1896  Athens  Aquatics   Swimming     HUN    Men   \n",
       "HERSCHMANN, Otto    1896  Athens  Aquatics   Swimming     AUT    Men   \n",
       "DRIVAS, Dimitrios   1896  Athens  Aquatics   Swimming     GRE    Men   \n",
       "MALOKINIS, Ioannis  1896  Athens  Aquatics   Swimming     GRE    Men   \n",
       "CHASAPIS, Spiridon  1896  Athens  Aquatics   Swimming     GRE    Men   \n",
       "\n",
       "                                         Event   Medal  \n",
       "Athlete                                                 \n",
       "HAJOS, Alfred                   100M Freestyle    Gold  \n",
       "HERSCHMANN, Otto                100M Freestyle  Silver  \n",
       "DRIVAS, Dimitrios   100M Freestyle For Sailors  Bronze  \n",
       "MALOKINIS, Ioannis  100M Freestyle For Sailors    Gold  \n",
       "CHASAPIS, Spiridon  100M Freestyle For Sailors  Silver  "
      ]
     },
     "execution_count": 3,
     "metadata": {},
     "output_type": "execute_result"
    }
   ],
   "source": [
    "summer.head()"
   ]
  },
  {
   "cell_type": "code",
   "execution_count": 4,
   "id": "6b893f2b-82f3-44b0-8c85-05385a2ac660",
   "metadata": {},
   "outputs": [
    {
     "ename": "TypeError",
     "evalue": "Index does not support mutable operations",
     "output_type": "error",
     "traceback": [
      "\u001b[1;31m---------------------------------------------------------------------------\u001b[0m",
      "\u001b[1;31mTypeError\u001b[0m                                 Traceback (most recent call last)",
      "Cell \u001b[1;32mIn[4], line 1\u001b[0m\n\u001b[1;32m----> 1\u001b[0m summer\u001b[38;5;241m.\u001b[39mindex[\u001b[38;5;241m0\u001b[39m] \u001b[38;5;241m=\u001b[39m \u001b[38;5;124m'\u001b[39m\u001b[38;5;124mHAYOS, Alfred\u001b[39m\u001b[38;5;124m'\u001b[39m\n",
      "File \u001b[1;32m~\\.conda\\envs\\udemy-pandas-bootcamp\\Lib\\site-packages\\pandas\\core\\indexes\\base.py:5348\u001b[0m, in \u001b[0;36mIndex.__setitem__\u001b[1;34m(self, key, value)\u001b[0m\n\u001b[0;32m   5346\u001b[0m \u001b[38;5;129m@final\u001b[39m\n\u001b[0;32m   5347\u001b[0m \u001b[38;5;28;01mdef\u001b[39;00m \u001b[38;5;21m__setitem__\u001b[39m(\u001b[38;5;28mself\u001b[39m, key, value) \u001b[38;5;241m-\u001b[39m\u001b[38;5;241m>\u001b[39m \u001b[38;5;28;01mNone\u001b[39;00m:\n\u001b[1;32m-> 5348\u001b[0m     \u001b[38;5;28;01mraise\u001b[39;00m \u001b[38;5;167;01mTypeError\u001b[39;00m(\u001b[38;5;124m\"\u001b[39m\u001b[38;5;124mIndex does not support mutable operations\u001b[39m\u001b[38;5;124m\"\u001b[39m)\n",
      "\u001b[1;31mTypeError\u001b[0m: Index does not support mutable operations"
     ]
    }
   ],
   "source": [
    "summer.index[0] = 'HAYOS, Alfred'"
   ]
  },
  {
   "cell_type": "code",
   "execution_count": 5,
   "id": "96006240-66cf-4c01-a0cf-56faf8295364",
   "metadata": {},
   "outputs": [
    {
     "data": {
      "text/html": [
       "<div>\n",
       "<style scoped>\n",
       "    .dataframe tbody tr th:only-of-type {\n",
       "        vertical-align: middle;\n",
       "    }\n",
       "\n",
       "    .dataframe tbody tr th {\n",
       "        vertical-align: top;\n",
       "    }\n",
       "\n",
       "    .dataframe thead th {\n",
       "        text-align: right;\n",
       "    }\n",
       "</style>\n",
       "<table border=\"1\" class=\"dataframe\">\n",
       "  <thead>\n",
       "    <tr style=\"text-align: right;\">\n",
       "      <th></th>\n",
       "      <th>Year</th>\n",
       "      <th>City</th>\n",
       "      <th>Sport</th>\n",
       "      <th>Discipline</th>\n",
       "      <th>Country</th>\n",
       "      <th>Gender</th>\n",
       "      <th>Event</th>\n",
       "      <th>Medal</th>\n",
       "    </tr>\n",
       "    <tr>\n",
       "      <th>Athlete</th>\n",
       "      <th></th>\n",
       "      <th></th>\n",
       "      <th></th>\n",
       "      <th></th>\n",
       "      <th></th>\n",
       "      <th></th>\n",
       "      <th></th>\n",
       "      <th></th>\n",
       "    </tr>\n",
       "  </thead>\n",
       "  <tbody>\n",
       "    <tr>\n",
       "      <th>HAYOS, Alfred</th>\n",
       "      <td>1896</td>\n",
       "      <td>Athens</td>\n",
       "      <td>Aquatics</td>\n",
       "      <td>Swimming</td>\n",
       "      <td>HUN</td>\n",
       "      <td>Men</td>\n",
       "      <td>100M Freestyle</td>\n",
       "      <td>Gold</td>\n",
       "    </tr>\n",
       "    <tr>\n",
       "      <th>HERSCHMANN, Otto</th>\n",
       "      <td>1896</td>\n",
       "      <td>Athens</td>\n",
       "      <td>Aquatics</td>\n",
       "      <td>Swimming</td>\n",
       "      <td>AUT</td>\n",
       "      <td>Men</td>\n",
       "      <td>100M Freestyle</td>\n",
       "      <td>Silver</td>\n",
       "    </tr>\n",
       "    <tr>\n",
       "      <th>DRIVAS, Dimitrios</th>\n",
       "      <td>1896</td>\n",
       "      <td>Athens</td>\n",
       "      <td>Aquatics</td>\n",
       "      <td>Swimming</td>\n",
       "      <td>GRE</td>\n",
       "      <td>Men</td>\n",
       "      <td>100M Freestyle For Sailors</td>\n",
       "      <td>Bronze</td>\n",
       "    </tr>\n",
       "    <tr>\n",
       "      <th>MALOKINIS, Ioannis</th>\n",
       "      <td>1896</td>\n",
       "      <td>Athens</td>\n",
       "      <td>Aquatics</td>\n",
       "      <td>Swimming</td>\n",
       "      <td>GRE</td>\n",
       "      <td>Men</td>\n",
       "      <td>100M Freestyle For Sailors</td>\n",
       "      <td>Gold</td>\n",
       "    </tr>\n",
       "    <tr>\n",
       "      <th>CHASAPIS, Spiridon</th>\n",
       "      <td>1896</td>\n",
       "      <td>Athens</td>\n",
       "      <td>Aquatics</td>\n",
       "      <td>Swimming</td>\n",
       "      <td>GRE</td>\n",
       "      <td>Men</td>\n",
       "      <td>100M Freestyle For Sailors</td>\n",
       "      <td>Silver</td>\n",
       "    </tr>\n",
       "    <tr>\n",
       "      <th>...</th>\n",
       "      <td>...</td>\n",
       "      <td>...</td>\n",
       "      <td>...</td>\n",
       "      <td>...</td>\n",
       "      <td>...</td>\n",
       "      <td>...</td>\n",
       "      <td>...</td>\n",
       "      <td>...</td>\n",
       "    </tr>\n",
       "    <tr>\n",
       "      <th>JANIKOWSKI, Damian</th>\n",
       "      <td>2012</td>\n",
       "      <td>London</td>\n",
       "      <td>Wrestling</td>\n",
       "      <td>Wrestling Freestyle</td>\n",
       "      <td>POL</td>\n",
       "      <td>Men</td>\n",
       "      <td>Wg 84 KG</td>\n",
       "      <td>Bronze</td>\n",
       "    </tr>\n",
       "    <tr>\n",
       "      <th>REZAEI, Ghasem Gholamreza</th>\n",
       "      <td>2012</td>\n",
       "      <td>London</td>\n",
       "      <td>Wrestling</td>\n",
       "      <td>Wrestling Freestyle</td>\n",
       "      <td>IRI</td>\n",
       "      <td>Men</td>\n",
       "      <td>Wg 96 KG</td>\n",
       "      <td>Gold</td>\n",
       "    </tr>\n",
       "    <tr>\n",
       "      <th>TOTROV, Rustam</th>\n",
       "      <td>2012</td>\n",
       "      <td>London</td>\n",
       "      <td>Wrestling</td>\n",
       "      <td>Wrestling Freestyle</td>\n",
       "      <td>RUS</td>\n",
       "      <td>Men</td>\n",
       "      <td>Wg 96 KG</td>\n",
       "      <td>Silver</td>\n",
       "    </tr>\n",
       "    <tr>\n",
       "      <th>ALEKSANYAN, Artur</th>\n",
       "      <td>2012</td>\n",
       "      <td>London</td>\n",
       "      <td>Wrestling</td>\n",
       "      <td>Wrestling Freestyle</td>\n",
       "      <td>ARM</td>\n",
       "      <td>Men</td>\n",
       "      <td>Wg 96 KG</td>\n",
       "      <td>Bronze</td>\n",
       "    </tr>\n",
       "    <tr>\n",
       "      <th>LIDBERG, Jimmy</th>\n",
       "      <td>2012</td>\n",
       "      <td>London</td>\n",
       "      <td>Wrestling</td>\n",
       "      <td>Wrestling Freestyle</td>\n",
       "      <td>SWE</td>\n",
       "      <td>Men</td>\n",
       "      <td>Wg 96 KG</td>\n",
       "      <td>Bronze</td>\n",
       "    </tr>\n",
       "  </tbody>\n",
       "</table>\n",
       "<p>31165 rows × 8 columns</p>\n",
       "</div>"
      ],
      "text/plain": [
       "                           Year    City      Sport           Discipline  \\\n",
       "Athlete                                                                   \n",
       "HAYOS, Alfred              1896  Athens   Aquatics             Swimming   \n",
       "HERSCHMANN, Otto           1896  Athens   Aquatics             Swimming   \n",
       "DRIVAS, Dimitrios          1896  Athens   Aquatics             Swimming   \n",
       "MALOKINIS, Ioannis         1896  Athens   Aquatics             Swimming   \n",
       "CHASAPIS, Spiridon         1896  Athens   Aquatics             Swimming   \n",
       "...                         ...     ...        ...                  ...   \n",
       "JANIKOWSKI, Damian         2012  London  Wrestling  Wrestling Freestyle   \n",
       "REZAEI, Ghasem Gholamreza  2012  London  Wrestling  Wrestling Freestyle   \n",
       "TOTROV, Rustam             2012  London  Wrestling  Wrestling Freestyle   \n",
       "ALEKSANYAN, Artur          2012  London  Wrestling  Wrestling Freestyle   \n",
       "LIDBERG, Jimmy             2012  London  Wrestling  Wrestling Freestyle   \n",
       "\n",
       "                          Country Gender                       Event   Medal  \n",
       "Athlete                                                                       \n",
       "HAYOS, Alfred                 HUN    Men              100M Freestyle    Gold  \n",
       "HERSCHMANN, Otto              AUT    Men              100M Freestyle  Silver  \n",
       "DRIVAS, Dimitrios             GRE    Men  100M Freestyle For Sailors  Bronze  \n",
       "MALOKINIS, Ioannis            GRE    Men  100M Freestyle For Sailors    Gold  \n",
       "CHASAPIS, Spiridon            GRE    Men  100M Freestyle For Sailors  Silver  \n",
       "...                           ...    ...                         ...     ...  \n",
       "JANIKOWSKI, Damian            POL    Men                    Wg 84 KG  Bronze  \n",
       "REZAEI, Ghasem Gholamreza     IRI    Men                    Wg 96 KG    Gold  \n",
       "TOTROV, Rustam                RUS    Men                    Wg 96 KG  Silver  \n",
       "ALEKSANYAN, Artur             ARM    Men                    Wg 96 KG  Bronze  \n",
       "LIDBERG, Jimmy                SWE    Men                    Wg 96 KG  Bronze  \n",
       "\n",
       "[31165 rows x 8 columns]"
      ]
     },
     "execution_count": 5,
     "metadata": {},
     "output_type": "execute_result"
    }
   ],
   "source": [
    "summer.rename(mapper = {'HAJOS, Alfred': 'HAYOS, Alfred'}, axis = 'index')"
   ]
  },
  {
   "cell_type": "code",
   "execution_count": 7,
   "id": "728b1bcf-cada-4bdb-9c12-d44144d574c0",
   "metadata": {},
   "outputs": [
    {
     "data": {
      "text/html": [
       "<div>\n",
       "<style scoped>\n",
       "    .dataframe tbody tr th:only-of-type {\n",
       "        vertical-align: middle;\n",
       "    }\n",
       "\n",
       "    .dataframe tbody tr th {\n",
       "        vertical-align: top;\n",
       "    }\n",
       "\n",
       "    .dataframe thead th {\n",
       "        text-align: right;\n",
       "    }\n",
       "</style>\n",
       "<table border=\"1\" class=\"dataframe\">\n",
       "  <thead>\n",
       "    <tr style=\"text-align: right;\">\n",
       "      <th></th>\n",
       "      <th>Year</th>\n",
       "      <th>City</th>\n",
       "      <th>Sport</th>\n",
       "      <th>Discipline</th>\n",
       "      <th>Country</th>\n",
       "      <th>Gender</th>\n",
       "      <th>Event</th>\n",
       "      <th>Medal</th>\n",
       "    </tr>\n",
       "    <tr>\n",
       "      <th>Athlete</th>\n",
       "      <th></th>\n",
       "      <th></th>\n",
       "      <th></th>\n",
       "      <th></th>\n",
       "      <th></th>\n",
       "      <th></th>\n",
       "      <th></th>\n",
       "      <th></th>\n",
       "    </tr>\n",
       "  </thead>\n",
       "  <tbody>\n",
       "    <tr>\n",
       "      <th>HAJOS, Alfred</th>\n",
       "      <td>1896</td>\n",
       "      <td>Athens</td>\n",
       "      <td>Aquatics</td>\n",
       "      <td>Swimming</td>\n",
       "      <td>HUN</td>\n",
       "      <td>Men</td>\n",
       "      <td>100M Freestyle</td>\n",
       "      <td>Gold</td>\n",
       "    </tr>\n",
       "    <tr>\n",
       "      <th>HERSCHMANN, Otto</th>\n",
       "      <td>1896</td>\n",
       "      <td>Athens</td>\n",
       "      <td>Aquatics</td>\n",
       "      <td>Swimming</td>\n",
       "      <td>AUT</td>\n",
       "      <td>Men</td>\n",
       "      <td>100M Freestyle</td>\n",
       "      <td>Silver</td>\n",
       "    </tr>\n",
       "    <tr>\n",
       "      <th>DRIVAS, Dimitrios</th>\n",
       "      <td>1896</td>\n",
       "      <td>Athens</td>\n",
       "      <td>Aquatics</td>\n",
       "      <td>Swimming</td>\n",
       "      <td>GRE</td>\n",
       "      <td>Men</td>\n",
       "      <td>100M Freestyle For Sailors</td>\n",
       "      <td>Bronze</td>\n",
       "    </tr>\n",
       "    <tr>\n",
       "      <th>MALOKINIS, Ioannis</th>\n",
       "      <td>1896</td>\n",
       "      <td>Athens</td>\n",
       "      <td>Aquatics</td>\n",
       "      <td>Swimming</td>\n",
       "      <td>GRE</td>\n",
       "      <td>Men</td>\n",
       "      <td>100M Freestyle For Sailors</td>\n",
       "      <td>Gold</td>\n",
       "    </tr>\n",
       "    <tr>\n",
       "      <th>CHASAPIS, Spiridon</th>\n",
       "      <td>1896</td>\n",
       "      <td>Athens</td>\n",
       "      <td>Aquatics</td>\n",
       "      <td>Swimming</td>\n",
       "      <td>GRE</td>\n",
       "      <td>Men</td>\n",
       "      <td>100M Freestyle For Sailors</td>\n",
       "      <td>Silver</td>\n",
       "    </tr>\n",
       "  </tbody>\n",
       "</table>\n",
       "</div>"
      ],
      "text/plain": [
       "                    Year    City     Sport Discipline Country Gender  \\\n",
       "Athlete                                                                \n",
       "HAJOS, Alfred       1896  Athens  Aquatics   Swimming     HUN    Men   \n",
       "HERSCHMANN, Otto    1896  Athens  Aquatics   Swimming     AUT    Men   \n",
       "DRIVAS, Dimitrios   1896  Athens  Aquatics   Swimming     GRE    Men   \n",
       "MALOKINIS, Ioannis  1896  Athens  Aquatics   Swimming     GRE    Men   \n",
       "CHASAPIS, Spiridon  1896  Athens  Aquatics   Swimming     GRE    Men   \n",
       "\n",
       "                                         Event   Medal  \n",
       "Athlete                                                 \n",
       "HAJOS, Alfred                   100M Freestyle    Gold  \n",
       "HERSCHMANN, Otto                100M Freestyle  Silver  \n",
       "DRIVAS, Dimitrios   100M Freestyle For Sailors  Bronze  \n",
       "MALOKINIS, Ioannis  100M Freestyle For Sailors    Gold  \n",
       "CHASAPIS, Spiridon  100M Freestyle For Sailors  Silver  "
      ]
     },
     "execution_count": 7,
     "metadata": {},
     "output_type": "execute_result"
    }
   ],
   "source": [
    "summer.head()"
   ]
  },
  {
   "cell_type": "code",
   "execution_count": 8,
   "id": "ab622e8b-46a7-4696-83f8-37d488587a1f",
   "metadata": {},
   "outputs": [],
   "source": [
    "summer.rename(mapper = {'HAJOS, Alfred': 'HAYOS, Alfred'}, axis = 'index', inplace = True)"
   ]
  },
  {
   "cell_type": "code",
   "execution_count": 9,
   "id": "8db97bd1-3d37-4728-94a7-3ce5e8f492dd",
   "metadata": {},
   "outputs": [
    {
     "data": {
      "text/html": [
       "<div>\n",
       "<style scoped>\n",
       "    .dataframe tbody tr th:only-of-type {\n",
       "        vertical-align: middle;\n",
       "    }\n",
       "\n",
       "    .dataframe tbody tr th {\n",
       "        vertical-align: top;\n",
       "    }\n",
       "\n",
       "    .dataframe thead th {\n",
       "        text-align: right;\n",
       "    }\n",
       "</style>\n",
       "<table border=\"1\" class=\"dataframe\">\n",
       "  <thead>\n",
       "    <tr style=\"text-align: right;\">\n",
       "      <th></th>\n",
       "      <th>Year</th>\n",
       "      <th>City</th>\n",
       "      <th>Sport</th>\n",
       "      <th>Discipline</th>\n",
       "      <th>Country</th>\n",
       "      <th>Gender</th>\n",
       "      <th>Event</th>\n",
       "      <th>Medal</th>\n",
       "    </tr>\n",
       "    <tr>\n",
       "      <th>Athlete</th>\n",
       "      <th></th>\n",
       "      <th></th>\n",
       "      <th></th>\n",
       "      <th></th>\n",
       "      <th></th>\n",
       "      <th></th>\n",
       "      <th></th>\n",
       "      <th></th>\n",
       "    </tr>\n",
       "  </thead>\n",
       "  <tbody>\n",
       "    <tr>\n",
       "      <th>HAYOS, Alfred</th>\n",
       "      <td>1896</td>\n",
       "      <td>Athens</td>\n",
       "      <td>Aquatics</td>\n",
       "      <td>Swimming</td>\n",
       "      <td>HUN</td>\n",
       "      <td>Men</td>\n",
       "      <td>100M Freestyle</td>\n",
       "      <td>Gold</td>\n",
       "    </tr>\n",
       "    <tr>\n",
       "      <th>HERSCHMANN, Otto</th>\n",
       "      <td>1896</td>\n",
       "      <td>Athens</td>\n",
       "      <td>Aquatics</td>\n",
       "      <td>Swimming</td>\n",
       "      <td>AUT</td>\n",
       "      <td>Men</td>\n",
       "      <td>100M Freestyle</td>\n",
       "      <td>Silver</td>\n",
       "    </tr>\n",
       "    <tr>\n",
       "      <th>DRIVAS, Dimitrios</th>\n",
       "      <td>1896</td>\n",
       "      <td>Athens</td>\n",
       "      <td>Aquatics</td>\n",
       "      <td>Swimming</td>\n",
       "      <td>GRE</td>\n",
       "      <td>Men</td>\n",
       "      <td>100M Freestyle For Sailors</td>\n",
       "      <td>Bronze</td>\n",
       "    </tr>\n",
       "    <tr>\n",
       "      <th>MALOKINIS, Ioannis</th>\n",
       "      <td>1896</td>\n",
       "      <td>Athens</td>\n",
       "      <td>Aquatics</td>\n",
       "      <td>Swimming</td>\n",
       "      <td>GRE</td>\n",
       "      <td>Men</td>\n",
       "      <td>100M Freestyle For Sailors</td>\n",
       "      <td>Gold</td>\n",
       "    </tr>\n",
       "    <tr>\n",
       "      <th>CHASAPIS, Spiridon</th>\n",
       "      <td>1896</td>\n",
       "      <td>Athens</td>\n",
       "      <td>Aquatics</td>\n",
       "      <td>Swimming</td>\n",
       "      <td>GRE</td>\n",
       "      <td>Men</td>\n",
       "      <td>100M Freestyle For Sailors</td>\n",
       "      <td>Silver</td>\n",
       "    </tr>\n",
       "  </tbody>\n",
       "</table>\n",
       "</div>"
      ],
      "text/plain": [
       "                    Year    City     Sport Discipline Country Gender  \\\n",
       "Athlete                                                                \n",
       "HAYOS, Alfred       1896  Athens  Aquatics   Swimming     HUN    Men   \n",
       "HERSCHMANN, Otto    1896  Athens  Aquatics   Swimming     AUT    Men   \n",
       "DRIVAS, Dimitrios   1896  Athens  Aquatics   Swimming     GRE    Men   \n",
       "MALOKINIS, Ioannis  1896  Athens  Aquatics   Swimming     GRE    Men   \n",
       "CHASAPIS, Spiridon  1896  Athens  Aquatics   Swimming     GRE    Men   \n",
       "\n",
       "                                         Event   Medal  \n",
       "Athlete                                                 \n",
       "HAYOS, Alfred                   100M Freestyle    Gold  \n",
       "HERSCHMANN, Otto                100M Freestyle  Silver  \n",
       "DRIVAS, Dimitrios   100M Freestyle For Sailors  Bronze  \n",
       "MALOKINIS, Ioannis  100M Freestyle For Sailors    Gold  \n",
       "CHASAPIS, Spiridon  100M Freestyle For Sailors  Silver  "
      ]
     },
     "execution_count": 9,
     "metadata": {},
     "output_type": "execute_result"
    }
   ],
   "source": [
    "summer.head()"
   ]
  },
  {
   "cell_type": "code",
   "execution_count": 10,
   "id": "ecf4696c-3f74-4ff6-b0ca-3defe5b9e2a1",
   "metadata": {},
   "outputs": [
    {
     "data": {
      "text/plain": [
       "[Index(['HAYOS, Alfred', 'HERSCHMANN, Otto', 'DRIVAS, Dimitrios',\n",
       "        'MALOKINIS, Ioannis', 'CHASAPIS, Spiridon', 'CHOROPHAS, Efstathios',\n",
       "        'HAYOS, Alfred', 'ANDREOU, Joannis', 'CHOROPHAS, Efstathios',\n",
       "        'NEUMANN, Paul',\n",
       "        ...\n",
       "        'AHMADOV, Emin', 'KAZAKEVIC, Aleksandr', 'KHUGAEV, Alan',\n",
       "        'EBRAHIM, Karam Mohamed Gaber', 'GAJIYEV, Danyal', 'JANIKOWSKI, Damian',\n",
       "        'REZAEI, Ghasem Gholamreza', 'TOTROV, Rustam', 'ALEKSANYAN, Artur',\n",
       "        'LIDBERG, Jimmy'],\n",
       "       dtype='object', name='Athlete', length=31165),\n",
       " Index(['Year', 'City', 'Sport', 'Discipline', 'Country', 'Gender', 'Event',\n",
       "        'Medal'],\n",
       "       dtype='object')]"
      ]
     },
     "execution_count": 10,
     "metadata": {},
     "output_type": "execute_result"
    }
   ],
   "source": [
    "summer.axes"
   ]
  },
  {
   "cell_type": "code",
   "execution_count": 13,
   "id": "e28e1e7e-ba94-4369-84b9-cbe3c28e3e8d",
   "metadata": {},
   "outputs": [],
   "source": [
    "summer.rename(index = {'HAYOS, Alfred': 'HAJOS, Alfred'}, inplace = True)"
   ]
  },
  {
   "cell_type": "code",
   "execution_count": 14,
   "id": "59bf76ef-3459-4ee2-8658-172bc4b01e31",
   "metadata": {},
   "outputs": [
    {
     "data": {
      "text/html": [
       "<div>\n",
       "<style scoped>\n",
       "    .dataframe tbody tr th:only-of-type {\n",
       "        vertical-align: middle;\n",
       "    }\n",
       "\n",
       "    .dataframe tbody tr th {\n",
       "        vertical-align: top;\n",
       "    }\n",
       "\n",
       "    .dataframe thead th {\n",
       "        text-align: right;\n",
       "    }\n",
       "</style>\n",
       "<table border=\"1\" class=\"dataframe\">\n",
       "  <thead>\n",
       "    <tr style=\"text-align: right;\">\n",
       "      <th></th>\n",
       "      <th>Year</th>\n",
       "      <th>City</th>\n",
       "      <th>Sport</th>\n",
       "      <th>Discipline</th>\n",
       "      <th>Country</th>\n",
       "      <th>Gender</th>\n",
       "      <th>Event</th>\n",
       "      <th>Medal</th>\n",
       "    </tr>\n",
       "    <tr>\n",
       "      <th>Athlete</th>\n",
       "      <th></th>\n",
       "      <th></th>\n",
       "      <th></th>\n",
       "      <th></th>\n",
       "      <th></th>\n",
       "      <th></th>\n",
       "      <th></th>\n",
       "      <th></th>\n",
       "    </tr>\n",
       "  </thead>\n",
       "  <tbody>\n",
       "    <tr>\n",
       "      <th>HAJOS, Alfred</th>\n",
       "      <td>1896</td>\n",
       "      <td>Athens</td>\n",
       "      <td>Aquatics</td>\n",
       "      <td>Swimming</td>\n",
       "      <td>HUN</td>\n",
       "      <td>Men</td>\n",
       "      <td>100M Freestyle</td>\n",
       "      <td>Gold</td>\n",
       "    </tr>\n",
       "    <tr>\n",
       "      <th>HERSCHMANN, Otto</th>\n",
       "      <td>1896</td>\n",
       "      <td>Athens</td>\n",
       "      <td>Aquatics</td>\n",
       "      <td>Swimming</td>\n",
       "      <td>AUT</td>\n",
       "      <td>Men</td>\n",
       "      <td>100M Freestyle</td>\n",
       "      <td>Silver</td>\n",
       "    </tr>\n",
       "    <tr>\n",
       "      <th>DRIVAS, Dimitrios</th>\n",
       "      <td>1896</td>\n",
       "      <td>Athens</td>\n",
       "      <td>Aquatics</td>\n",
       "      <td>Swimming</td>\n",
       "      <td>GRE</td>\n",
       "      <td>Men</td>\n",
       "      <td>100M Freestyle For Sailors</td>\n",
       "      <td>Bronze</td>\n",
       "    </tr>\n",
       "    <tr>\n",
       "      <th>MALOKINIS, Ioannis</th>\n",
       "      <td>1896</td>\n",
       "      <td>Athens</td>\n",
       "      <td>Aquatics</td>\n",
       "      <td>Swimming</td>\n",
       "      <td>GRE</td>\n",
       "      <td>Men</td>\n",
       "      <td>100M Freestyle For Sailors</td>\n",
       "      <td>Gold</td>\n",
       "    </tr>\n",
       "    <tr>\n",
       "      <th>CHASAPIS, Spiridon</th>\n",
       "      <td>1896</td>\n",
       "      <td>Athens</td>\n",
       "      <td>Aquatics</td>\n",
       "      <td>Swimming</td>\n",
       "      <td>GRE</td>\n",
       "      <td>Men</td>\n",
       "      <td>100M Freestyle For Sailors</td>\n",
       "      <td>Silver</td>\n",
       "    </tr>\n",
       "  </tbody>\n",
       "</table>\n",
       "</div>"
      ],
      "text/plain": [
       "                    Year    City     Sport Discipline Country Gender  \\\n",
       "Athlete                                                                \n",
       "HAJOS, Alfred       1896  Athens  Aquatics   Swimming     HUN    Men   \n",
       "HERSCHMANN, Otto    1896  Athens  Aquatics   Swimming     AUT    Men   \n",
       "DRIVAS, Dimitrios   1896  Athens  Aquatics   Swimming     GRE    Men   \n",
       "MALOKINIS, Ioannis  1896  Athens  Aquatics   Swimming     GRE    Men   \n",
       "CHASAPIS, Spiridon  1896  Athens  Aquatics   Swimming     GRE    Men   \n",
       "\n",
       "                                         Event   Medal  \n",
       "Athlete                                                 \n",
       "HAJOS, Alfred                   100M Freestyle    Gold  \n",
       "HERSCHMANN, Otto                100M Freestyle  Silver  \n",
       "DRIVAS, Dimitrios   100M Freestyle For Sailors  Bronze  \n",
       "MALOKINIS, Ioannis  100M Freestyle For Sailors    Gold  \n",
       "CHASAPIS, Spiridon  100M Freestyle For Sailors  Silver  "
      ]
     },
     "execution_count": 14,
     "metadata": {},
     "output_type": "execute_result"
    }
   ],
   "source": [
    "summer.head()"
   ]
  },
  {
   "cell_type": "code",
   "execution_count": 15,
   "id": "9eec8c31-7c72-4bb8-9a33-835e189ffb8d",
   "metadata": {},
   "outputs": [
    {
     "data": {
      "text/html": [
       "<div>\n",
       "<style scoped>\n",
       "    .dataframe tbody tr th:only-of-type {\n",
       "        vertical-align: middle;\n",
       "    }\n",
       "\n",
       "    .dataframe tbody tr th {\n",
       "        vertical-align: top;\n",
       "    }\n",
       "\n",
       "    .dataframe thead th {\n",
       "        text-align: right;\n",
       "    }\n",
       "</style>\n",
       "<table border=\"1\" class=\"dataframe\">\n",
       "  <thead>\n",
       "    <tr style=\"text-align: right;\">\n",
       "      <th></th>\n",
       "      <th>Year</th>\n",
       "      <th>City</th>\n",
       "      <th>Sport</th>\n",
       "      <th>Discipline</th>\n",
       "      <th>Country</th>\n",
       "      <th>Gender</th>\n",
       "      <th>Event</th>\n",
       "      <th>Medal</th>\n",
       "    </tr>\n",
       "    <tr>\n",
       "      <th>Athlete</th>\n",
       "      <th></th>\n",
       "      <th></th>\n",
       "      <th></th>\n",
       "      <th></th>\n",
       "      <th></th>\n",
       "      <th></th>\n",
       "      <th></th>\n",
       "      <th></th>\n",
       "    </tr>\n",
       "  </thead>\n",
       "  <tbody>\n",
       "    <tr>\n",
       "      <th>HAJOS, Alfred</th>\n",
       "      <td>1896</td>\n",
       "      <td>Athens</td>\n",
       "      <td>Aquatics</td>\n",
       "      <td>Swimming</td>\n",
       "      <td>HUN</td>\n",
       "      <td>Men</td>\n",
       "      <td>100M Freestyle</td>\n",
       "      <td>Gold</td>\n",
       "    </tr>\n",
       "    <tr>\n",
       "      <th>HERSCHMANN, Otto</th>\n",
       "      <td>1896</td>\n",
       "      <td>Athens</td>\n",
       "      <td>Aquatics</td>\n",
       "      <td>Swimming</td>\n",
       "      <td>AUT</td>\n",
       "      <td>Men</td>\n",
       "      <td>100M Freestyle</td>\n",
       "      <td>Silver</td>\n",
       "    </tr>\n",
       "    <tr>\n",
       "      <th>DRIVAS, Dimitrios</th>\n",
       "      <td>1896</td>\n",
       "      <td>Athens</td>\n",
       "      <td>Aquatics</td>\n",
       "      <td>Swimming</td>\n",
       "      <td>GRE</td>\n",
       "      <td>Men</td>\n",
       "      <td>100M Freestyle For Sailors</td>\n",
       "      <td>Bronze</td>\n",
       "    </tr>\n",
       "    <tr>\n",
       "      <th>MALOKINIS, Ioannis</th>\n",
       "      <td>1896</td>\n",
       "      <td>Athens</td>\n",
       "      <td>Aquatics</td>\n",
       "      <td>Swimming</td>\n",
       "      <td>GRE</td>\n",
       "      <td>Men</td>\n",
       "      <td>100M Freestyle For Sailors</td>\n",
       "      <td>Gold</td>\n",
       "    </tr>\n",
       "    <tr>\n",
       "      <th>CHASAPIS, Spiridon</th>\n",
       "      <td>1896</td>\n",
       "      <td>Athens</td>\n",
       "      <td>Aquatics</td>\n",
       "      <td>Swimming</td>\n",
       "      <td>GRE</td>\n",
       "      <td>Men</td>\n",
       "      <td>100M Freestyle For Sailors</td>\n",
       "      <td>Silver</td>\n",
       "    </tr>\n",
       "  </tbody>\n",
       "</table>\n",
       "</div>"
      ],
      "text/plain": [
       "                    Year    City     Sport Discipline Country Gender  \\\n",
       "Athlete                                                                \n",
       "HAJOS, Alfred       1896  Athens  Aquatics   Swimming     HUN    Men   \n",
       "HERSCHMANN, Otto    1896  Athens  Aquatics   Swimming     AUT    Men   \n",
       "DRIVAS, Dimitrios   1896  Athens  Aquatics   Swimming     GRE    Men   \n",
       "MALOKINIS, Ioannis  1896  Athens  Aquatics   Swimming     GRE    Men   \n",
       "CHASAPIS, Spiridon  1896  Athens  Aquatics   Swimming     GRE    Men   \n",
       "\n",
       "                                         Event   Medal  \n",
       "Athlete                                                 \n",
       "HAJOS, Alfred                   100M Freestyle    Gold  \n",
       "HERSCHMANN, Otto                100M Freestyle  Silver  \n",
       "DRIVAS, Dimitrios   100M Freestyle For Sailors  Bronze  \n",
       "MALOKINIS, Ioannis  100M Freestyle For Sailors    Gold  \n",
       "CHASAPIS, Spiridon  100M Freestyle For Sailors  Silver  "
      ]
     },
     "execution_count": 15,
     "metadata": {},
     "output_type": "execute_result"
    }
   ],
   "source": [
    "summer.head()"
   ]
  },
  {
   "cell_type": "code",
   "execution_count": 19,
   "id": "43f5c2ae-4c22-449d-a86a-71c8caf8605d",
   "metadata": {},
   "outputs": [],
   "source": [
    "summer.rename(mapper = {\"Gender\": 'SEX'}, inplace = True, axis = 'columns')"
   ]
  },
  {
   "cell_type": "code",
   "execution_count": 20,
   "id": "9561bbca-1aed-4dad-8fad-fdb4ab132d71",
   "metadata": {},
   "outputs": [
    {
     "data": {
      "text/html": [
       "<div>\n",
       "<style scoped>\n",
       "    .dataframe tbody tr th:only-of-type {\n",
       "        vertical-align: middle;\n",
       "    }\n",
       "\n",
       "    .dataframe tbody tr th {\n",
       "        vertical-align: top;\n",
       "    }\n",
       "\n",
       "    .dataframe thead th {\n",
       "        text-align: right;\n",
       "    }\n",
       "</style>\n",
       "<table border=\"1\" class=\"dataframe\">\n",
       "  <thead>\n",
       "    <tr style=\"text-align: right;\">\n",
       "      <th></th>\n",
       "      <th>Year</th>\n",
       "      <th>City</th>\n",
       "      <th>Sport</th>\n",
       "      <th>Discipline</th>\n",
       "      <th>Country</th>\n",
       "      <th>SEX</th>\n",
       "      <th>Event</th>\n",
       "      <th>Medal</th>\n",
       "    </tr>\n",
       "    <tr>\n",
       "      <th>Athlete</th>\n",
       "      <th></th>\n",
       "      <th></th>\n",
       "      <th></th>\n",
       "      <th></th>\n",
       "      <th></th>\n",
       "      <th></th>\n",
       "      <th></th>\n",
       "      <th></th>\n",
       "    </tr>\n",
       "  </thead>\n",
       "  <tbody>\n",
       "    <tr>\n",
       "      <th>HAJOS, Alfred</th>\n",
       "      <td>1896</td>\n",
       "      <td>Athens</td>\n",
       "      <td>Aquatics</td>\n",
       "      <td>Swimming</td>\n",
       "      <td>HUN</td>\n",
       "      <td>Men</td>\n",
       "      <td>100M Freestyle</td>\n",
       "      <td>Gold</td>\n",
       "    </tr>\n",
       "    <tr>\n",
       "      <th>HERSCHMANN, Otto</th>\n",
       "      <td>1896</td>\n",
       "      <td>Athens</td>\n",
       "      <td>Aquatics</td>\n",
       "      <td>Swimming</td>\n",
       "      <td>AUT</td>\n",
       "      <td>Men</td>\n",
       "      <td>100M Freestyle</td>\n",
       "      <td>Silver</td>\n",
       "    </tr>\n",
       "    <tr>\n",
       "      <th>DRIVAS, Dimitrios</th>\n",
       "      <td>1896</td>\n",
       "      <td>Athens</td>\n",
       "      <td>Aquatics</td>\n",
       "      <td>Swimming</td>\n",
       "      <td>GRE</td>\n",
       "      <td>Men</td>\n",
       "      <td>100M Freestyle For Sailors</td>\n",
       "      <td>Bronze</td>\n",
       "    </tr>\n",
       "    <tr>\n",
       "      <th>MALOKINIS, Ioannis</th>\n",
       "      <td>1896</td>\n",
       "      <td>Athens</td>\n",
       "      <td>Aquatics</td>\n",
       "      <td>Swimming</td>\n",
       "      <td>GRE</td>\n",
       "      <td>Men</td>\n",
       "      <td>100M Freestyle For Sailors</td>\n",
       "      <td>Gold</td>\n",
       "    </tr>\n",
       "    <tr>\n",
       "      <th>CHASAPIS, Spiridon</th>\n",
       "      <td>1896</td>\n",
       "      <td>Athens</td>\n",
       "      <td>Aquatics</td>\n",
       "      <td>Swimming</td>\n",
       "      <td>GRE</td>\n",
       "      <td>Men</td>\n",
       "      <td>100M Freestyle For Sailors</td>\n",
       "      <td>Silver</td>\n",
       "    </tr>\n",
       "  </tbody>\n",
       "</table>\n",
       "</div>"
      ],
      "text/plain": [
       "                    Year    City     Sport Discipline Country  SEX  \\\n",
       "Athlete                                                              \n",
       "HAJOS, Alfred       1896  Athens  Aquatics   Swimming     HUN  Men   \n",
       "HERSCHMANN, Otto    1896  Athens  Aquatics   Swimming     AUT  Men   \n",
       "DRIVAS, Dimitrios   1896  Athens  Aquatics   Swimming     GRE  Men   \n",
       "MALOKINIS, Ioannis  1896  Athens  Aquatics   Swimming     GRE  Men   \n",
       "CHASAPIS, Spiridon  1896  Athens  Aquatics   Swimming     GRE  Men   \n",
       "\n",
       "                                         Event   Medal  \n",
       "Athlete                                                 \n",
       "HAJOS, Alfred                   100M Freestyle    Gold  \n",
       "HERSCHMANN, Otto                100M Freestyle  Silver  \n",
       "DRIVAS, Dimitrios   100M Freestyle For Sailors  Bronze  \n",
       "MALOKINIS, Ioannis  100M Freestyle For Sailors    Gold  \n",
       "CHASAPIS, Spiridon  100M Freestyle For Sailors  Silver  "
      ]
     },
     "execution_count": 20,
     "metadata": {},
     "output_type": "execute_result"
    }
   ],
   "source": [
    "summer.head()"
   ]
  },
  {
   "cell_type": "code",
   "execution_count": 24,
   "id": "5f377b61-1548-4639-94ba-4c537fc06dce",
   "metadata": {},
   "outputs": [],
   "source": [
    "summer.rename(columns = {'SEX': 'Gender'}, inplace = True)"
   ]
  },
  {
   "cell_type": "code",
   "execution_count": 25,
   "id": "9cb7b0ed-f7f7-428b-a941-8c720a4ee1e6",
   "metadata": {},
   "outputs": [
    {
     "data": {
      "text/html": [
       "<div>\n",
       "<style scoped>\n",
       "    .dataframe tbody tr th:only-of-type {\n",
       "        vertical-align: middle;\n",
       "    }\n",
       "\n",
       "    .dataframe tbody tr th {\n",
       "        vertical-align: top;\n",
       "    }\n",
       "\n",
       "    .dataframe thead th {\n",
       "        text-align: right;\n",
       "    }\n",
       "</style>\n",
       "<table border=\"1\" class=\"dataframe\">\n",
       "  <thead>\n",
       "    <tr style=\"text-align: right;\">\n",
       "      <th></th>\n",
       "      <th>Year</th>\n",
       "      <th>City</th>\n",
       "      <th>Sport</th>\n",
       "      <th>Discipline</th>\n",
       "      <th>Country</th>\n",
       "      <th>Gender</th>\n",
       "      <th>Event</th>\n",
       "      <th>Medal</th>\n",
       "    </tr>\n",
       "    <tr>\n",
       "      <th>Athlete</th>\n",
       "      <th></th>\n",
       "      <th></th>\n",
       "      <th></th>\n",
       "      <th></th>\n",
       "      <th></th>\n",
       "      <th></th>\n",
       "      <th></th>\n",
       "      <th></th>\n",
       "    </tr>\n",
       "  </thead>\n",
       "  <tbody>\n",
       "    <tr>\n",
       "      <th>HAJOS, Alfred</th>\n",
       "      <td>1896</td>\n",
       "      <td>Athens</td>\n",
       "      <td>Aquatics</td>\n",
       "      <td>Swimming</td>\n",
       "      <td>HUN</td>\n",
       "      <td>Men</td>\n",
       "      <td>100M Freestyle</td>\n",
       "      <td>Gold</td>\n",
       "    </tr>\n",
       "    <tr>\n",
       "      <th>HERSCHMANN, Otto</th>\n",
       "      <td>1896</td>\n",
       "      <td>Athens</td>\n",
       "      <td>Aquatics</td>\n",
       "      <td>Swimming</td>\n",
       "      <td>AUT</td>\n",
       "      <td>Men</td>\n",
       "      <td>100M Freestyle</td>\n",
       "      <td>Silver</td>\n",
       "    </tr>\n",
       "    <tr>\n",
       "      <th>DRIVAS, Dimitrios</th>\n",
       "      <td>1896</td>\n",
       "      <td>Athens</td>\n",
       "      <td>Aquatics</td>\n",
       "      <td>Swimming</td>\n",
       "      <td>GRE</td>\n",
       "      <td>Men</td>\n",
       "      <td>100M Freestyle For Sailors</td>\n",
       "      <td>Bronze</td>\n",
       "    </tr>\n",
       "    <tr>\n",
       "      <th>MALOKINIS, Ioannis</th>\n",
       "      <td>1896</td>\n",
       "      <td>Athens</td>\n",
       "      <td>Aquatics</td>\n",
       "      <td>Swimming</td>\n",
       "      <td>GRE</td>\n",
       "      <td>Men</td>\n",
       "      <td>100M Freestyle For Sailors</td>\n",
       "      <td>Gold</td>\n",
       "    </tr>\n",
       "    <tr>\n",
       "      <th>CHASAPIS, Spiridon</th>\n",
       "      <td>1896</td>\n",
       "      <td>Athens</td>\n",
       "      <td>Aquatics</td>\n",
       "      <td>Swimming</td>\n",
       "      <td>GRE</td>\n",
       "      <td>Men</td>\n",
       "      <td>100M Freestyle For Sailors</td>\n",
       "      <td>Silver</td>\n",
       "    </tr>\n",
       "  </tbody>\n",
       "</table>\n",
       "</div>"
      ],
      "text/plain": [
       "                    Year    City     Sport Discipline Country Gender  \\\n",
       "Athlete                                                                \n",
       "HAJOS, Alfred       1896  Athens  Aquatics   Swimming     HUN    Men   \n",
       "HERSCHMANN, Otto    1896  Athens  Aquatics   Swimming     AUT    Men   \n",
       "DRIVAS, Dimitrios   1896  Athens  Aquatics   Swimming     GRE    Men   \n",
       "MALOKINIS, Ioannis  1896  Athens  Aquatics   Swimming     GRE    Men   \n",
       "CHASAPIS, Spiridon  1896  Athens  Aquatics   Swimming     GRE    Men   \n",
       "\n",
       "                                         Event   Medal  \n",
       "Athlete                                                 \n",
       "HAJOS, Alfred                   100M Freestyle    Gold  \n",
       "HERSCHMANN, Otto                100M Freestyle  Silver  \n",
       "DRIVAS, Dimitrios   100M Freestyle For Sailors  Bronze  \n",
       "MALOKINIS, Ioannis  100M Freestyle For Sailors    Gold  \n",
       "CHASAPIS, Spiridon  100M Freestyle For Sailors  Silver  "
      ]
     },
     "execution_count": 25,
     "metadata": {},
     "output_type": "execute_result"
    }
   ],
   "source": [
    "summer.head()"
   ]
  },
  {
   "cell_type": "code",
   "execution_count": null,
   "id": "ede99845-2c3c-4c7e-855a-605075cb8fc4",
   "metadata": {},
   "outputs": [],
   "source": []
  }
 ],
 "metadata": {
  "kernelspec": {
   "display_name": "Python 3 (ipykernel)",
   "language": "python",
   "name": "python3"
  },
  "language_info": {
   "codemirror_mode": {
    "name": "ipython",
    "version": 3
   },
   "file_extension": ".py",
   "mimetype": "text/x-python",
   "name": "python",
   "nbconvert_exporter": "python",
   "pygments_lexer": "ipython3",
   "version": "3.11.7"
  }
 },
 "nbformat": 4,
 "nbformat_minor": 5
}
