{
 "cells": [
  {
   "cell_type": "code",
   "execution_count": 1,
   "id": "5d6fa250-ccf7-489d-be87-dd6792b4a827",
   "metadata": {},
   "outputs": [
    {
     "data": {
      "text/plain": [
       "{'Spain': 'Madrid', 'France': 'Paris'}"
      ]
     },
     "execution_count": 1,
     "metadata": {},
     "output_type": "execute_result"
    }
   ],
   "source": [
    "dict_1 = {\"Spain\": \"Madrid\", \"France\": \"Paris\"}\n",
    "dict_1"
   ]
  },
  {
   "cell_type": "code",
   "execution_count": 2,
   "id": "bb7d544d-97b1-40e9-8699-21992dc3d5a1",
   "metadata": {},
   "outputs": [
    {
     "data": {
      "text/plain": [
       "'Madrid'"
      ]
     },
     "execution_count": 2,
     "metadata": {},
     "output_type": "execute_result"
    }
   ],
   "source": [
    "dict_1['Spain']"
   ]
  },
  {
   "cell_type": "code",
   "execution_count": 3,
   "id": "12dc860b-4113-4d15-8f2f-5e658e044da6",
   "metadata": {},
   "outputs": [
    {
     "data": {
      "text/plain": [
       "['Spain', 'France']"
      ]
     },
     "execution_count": 3,
     "metadata": {},
     "output_type": "execute_result"
    }
   ],
   "source": [
    "list(dict_1.keys())"
   ]
  },
  {
   "cell_type": "code",
   "execution_count": 4,
   "id": "8596dd1a-add4-4c74-834e-95f8fb4811b4",
   "metadata": {},
   "outputs": [
    {
     "data": {
      "text/plain": [
       "dict_values(['Madrid', 'Paris'])"
      ]
     },
     "execution_count": 4,
     "metadata": {},
     "output_type": "execute_result"
    }
   ],
   "source": [
    "dict_1.values()"
   ]
  },
  {
   "cell_type": "code",
   "execution_count": 5,
   "id": "b3d75d71-9c81-4eb8-8bf6-d5bb3aa2ffc4",
   "metadata": {},
   "outputs": [
    {
     "name": "stdout",
     "output_type": "stream",
     "text": [
      "Spain\n",
      "France\n"
     ]
    }
   ],
   "source": [
    "for key in dict_1.keys():\n",
    "    print(key)"
   ]
  },
  {
   "cell_type": "code",
   "execution_count": 6,
   "id": "789b6039-2c6d-4d54-a394-23b8027bf37c",
   "metadata": {},
   "outputs": [],
   "source": [
    "import pandas as pd"
   ]
  },
  {
   "cell_type": "code",
   "execution_count": 7,
   "id": "fb42ce0f-aff7-4c77-93e2-a625dc0a93c7",
   "metadata": {},
   "outputs": [],
   "source": [
    "# Source:\n",
    "# https://www.planetfootball.com/quick-reads/comparing-lionel-messi-cristiano-ronaldo-and-neymar-records-after-700-games\n",
    "my_dict = {\n",
    "    \"Name\": [\"Lionel Messi\", \"Cristiano Ronaldo\", \"Neymar\"],\n",
    "    \"Games\": [700, 700, 700],\n",
    "    \"Goals\": [565, 448, 443],\n",
    "    \"Assists\": [232, 147, 244]\n",
    "}"
   ]
  },
  {
   "cell_type": "code",
   "execution_count": 8,
   "id": "cc32c63f-7242-4146-a1ca-cf3d75d0ce8f",
   "metadata": {},
   "outputs": [
    {
     "data": {
      "text/html": [
       "<div>\n",
       "<style scoped>\n",
       "    .dataframe tbody tr th:only-of-type {\n",
       "        vertical-align: middle;\n",
       "    }\n",
       "\n",
       "    .dataframe tbody tr th {\n",
       "        vertical-align: top;\n",
       "    }\n",
       "\n",
       "    .dataframe thead th {\n",
       "        text-align: right;\n",
       "    }\n",
       "</style>\n",
       "<table border=\"1\" class=\"dataframe\">\n",
       "  <thead>\n",
       "    <tr style=\"text-align: right;\">\n",
       "      <th></th>\n",
       "      <th>Games</th>\n",
       "      <th>Goals</th>\n",
       "      <th>Assists</th>\n",
       "    </tr>\n",
       "    <tr>\n",
       "      <th>Name</th>\n",
       "      <th></th>\n",
       "      <th></th>\n",
       "      <th></th>\n",
       "    </tr>\n",
       "  </thead>\n",
       "  <tbody>\n",
       "    <tr>\n",
       "      <th>Lionel Messi</th>\n",
       "      <td>700</td>\n",
       "      <td>565</td>\n",
       "      <td>232</td>\n",
       "    </tr>\n",
       "    <tr>\n",
       "      <th>Cristiano Ronaldo</th>\n",
       "      <td>700</td>\n",
       "      <td>448</td>\n",
       "      <td>147</td>\n",
       "    </tr>\n",
       "    <tr>\n",
       "      <th>Neymar</th>\n",
       "      <td>700</td>\n",
       "      <td>443</td>\n",
       "      <td>244</td>\n",
       "    </tr>\n",
       "  </tbody>\n",
       "</table>\n",
       "</div>"
      ],
      "text/plain": [
       "                   Games  Goals  Assists\n",
       "Name                                    \n",
       "Lionel Messi         700    565      232\n",
       "Cristiano Ronaldo    700    448      147\n",
       "Neymar               700    443      244"
      ]
     },
     "execution_count": 8,
     "metadata": {},
     "output_type": "execute_result"
    }
   ],
   "source": [
    "players_stat_df = pd.DataFrame(my_dict)\n",
    "players_stat_df.set_index('Name', inplace = True)\n",
    "players_stat_df"
   ]
  },
  {
   "cell_type": "code",
   "execution_count": 9,
   "id": "cc368b9f-ffc8-44f2-a2e8-53418d3db97a",
   "metadata": {},
   "outputs": [],
   "source": [
    "goal_contrib = {\n",
    "    'Name': my_dict['Name'],\n",
    "    'Goal Contributions': [players_stat_df['Goals'][f'{fp}'] + players_stat_df['Assists'][f'{fp}'] for fp in players_stat_df.index]\n",
    "}\n",
    "goal_contrib_df = pd.DataFrame(goal_contrib)\n",
    "goal_contrib_df.set_index('Name', inplace = True)"
   ]
  },
  {
   "cell_type": "code",
   "execution_count": 13,
   "id": "819b332d-f6d3-4995-a779-bf4a29b729fc",
   "metadata": {},
   "outputs": [],
   "source": [
    "players_stat_total = pd.concat([players_stat_df, goal_contrib_df], axis = 1)"
   ]
  },
  {
   "cell_type": "code",
   "execution_count": 14,
   "id": "63279101-d784-4d45-ad55-2a3ae76ce14e",
   "metadata": {},
   "outputs": [
    {
     "data": {
      "text/html": [
       "<div>\n",
       "<style scoped>\n",
       "    .dataframe tbody tr th:only-of-type {\n",
       "        vertical-align: middle;\n",
       "    }\n",
       "\n",
       "    .dataframe tbody tr th {\n",
       "        vertical-align: top;\n",
       "    }\n",
       "\n",
       "    .dataframe thead th {\n",
       "        text-align: right;\n",
       "    }\n",
       "</style>\n",
       "<table border=\"1\" class=\"dataframe\">\n",
       "  <thead>\n",
       "    <tr style=\"text-align: right;\">\n",
       "      <th></th>\n",
       "      <th>Games</th>\n",
       "      <th>Goals</th>\n",
       "      <th>Assists</th>\n",
       "      <th>Goal Contributions</th>\n",
       "    </tr>\n",
       "    <tr>\n",
       "      <th>Name</th>\n",
       "      <th></th>\n",
       "      <th></th>\n",
       "      <th></th>\n",
       "      <th></th>\n",
       "    </tr>\n",
       "  </thead>\n",
       "  <tbody>\n",
       "    <tr>\n",
       "      <th>Lionel Messi</th>\n",
       "      <td>700</td>\n",
       "      <td>565</td>\n",
       "      <td>232</td>\n",
       "      <td>797</td>\n",
       "    </tr>\n",
       "    <tr>\n",
       "      <th>Cristiano Ronaldo</th>\n",
       "      <td>700</td>\n",
       "      <td>448</td>\n",
       "      <td>147</td>\n",
       "      <td>595</td>\n",
       "    </tr>\n",
       "    <tr>\n",
       "      <th>Neymar</th>\n",
       "      <td>700</td>\n",
       "      <td>443</td>\n",
       "      <td>244</td>\n",
       "      <td>687</td>\n",
       "    </tr>\n",
       "  </tbody>\n",
       "</table>\n",
       "</div>"
      ],
      "text/plain": [
       "                   Games  Goals  Assists  Goal Contributions\n",
       "Name                                                        \n",
       "Lionel Messi         700    565      232                 797\n",
       "Cristiano Ronaldo    700    448      147                 595\n",
       "Neymar               700    443      244                 687"
      ]
     },
     "execution_count": 14,
     "metadata": {},
     "output_type": "execute_result"
    }
   ],
   "source": [
    "players_stat_total"
   ]
  },
  {
   "cell_type": "code",
   "execution_count": 22,
   "id": "b74fc5fb-43df-4c08-b528-fcc5ff4e378c",
   "metadata": {},
   "outputs": [],
   "source": [
    "goals_per_game = {\n",
    "    'Name': my_dict['Name'],\n",
    "    'Goals per game': [players_stat_df['Goals'][f'{fp}'] / players_stat_df['Games'][f'{fp}'] for fp in players_stat_df.index]\n",
    "}\n",
    "goals_per_game_df = pd.DataFrame(goals_per_game)\n",
    "goals_per_game_df.set_index('Name', inplace = True)"
   ]
  },
  {
   "cell_type": "code",
   "execution_count": 23,
   "id": "5d60ee3d-c29b-4972-8b3a-ca8468311c40",
   "metadata": {},
   "outputs": [
    {
     "data": {
      "text/html": [
       "<div>\n",
       "<style scoped>\n",
       "    .dataframe tbody tr th:only-of-type {\n",
       "        vertical-align: middle;\n",
       "    }\n",
       "\n",
       "    .dataframe tbody tr th {\n",
       "        vertical-align: top;\n",
       "    }\n",
       "\n",
       "    .dataframe thead th {\n",
       "        text-align: right;\n",
       "    }\n",
       "</style>\n",
       "<table border=\"1\" class=\"dataframe\">\n",
       "  <thead>\n",
       "    <tr style=\"text-align: right;\">\n",
       "      <th></th>\n",
       "      <th>Goals per game</th>\n",
       "    </tr>\n",
       "    <tr>\n",
       "      <th>Name</th>\n",
       "      <th></th>\n",
       "    </tr>\n",
       "  </thead>\n",
       "  <tbody>\n",
       "    <tr>\n",
       "      <th>Lionel Messi</th>\n",
       "      <td>0.807143</td>\n",
       "    </tr>\n",
       "    <tr>\n",
       "      <th>Cristiano Ronaldo</th>\n",
       "      <td>0.640000</td>\n",
       "    </tr>\n",
       "    <tr>\n",
       "      <th>Neymar</th>\n",
       "      <td>0.632857</td>\n",
       "    </tr>\n",
       "  </tbody>\n",
       "</table>\n",
       "</div>"
      ],
      "text/plain": [
       "                   Goals per game\n",
       "Name                             \n",
       "Lionel Messi             0.807143\n",
       "Cristiano Ronaldo        0.640000\n",
       "Neymar                   0.632857"
      ]
     },
     "execution_count": 23,
     "metadata": {},
     "output_type": "execute_result"
    }
   ],
   "source": [
    "goals_per_game_df"
   ]
  },
  {
   "cell_type": "code",
   "execution_count": 24,
   "id": "4d2ffb87-ec5d-443d-b9c9-89b6b722f002",
   "metadata": {},
   "outputs": [],
   "source": [
    "players_stat_total = pd.concat([players_stat_total, goals_per_game_df], axis = 1)"
   ]
  },
  {
   "cell_type": "code",
   "execution_count": 26,
   "id": "97b1344c-7953-4ed0-8b20-24ef2a36f230",
   "metadata": {},
   "outputs": [
    {
     "data": {
      "text/html": [
       "<div>\n",
       "<style scoped>\n",
       "    .dataframe tbody tr th:only-of-type {\n",
       "        vertical-align: middle;\n",
       "    }\n",
       "\n",
       "    .dataframe tbody tr th {\n",
       "        vertical-align: top;\n",
       "    }\n",
       "\n",
       "    .dataframe thead th {\n",
       "        text-align: right;\n",
       "    }\n",
       "</style>\n",
       "<table border=\"1\" class=\"dataframe\">\n",
       "  <thead>\n",
       "    <tr style=\"text-align: right;\">\n",
       "      <th></th>\n",
       "      <th>Games</th>\n",
       "      <th>Goals</th>\n",
       "      <th>Assists</th>\n",
       "      <th>Goal Contributions</th>\n",
       "      <th>Goals per game</th>\n",
       "    </tr>\n",
       "    <tr>\n",
       "      <th>Name</th>\n",
       "      <th></th>\n",
       "      <th></th>\n",
       "      <th></th>\n",
       "      <th></th>\n",
       "      <th></th>\n",
       "    </tr>\n",
       "  </thead>\n",
       "  <tbody>\n",
       "    <tr>\n",
       "      <th>Lionel Messi</th>\n",
       "      <td>700</td>\n",
       "      <td>565</td>\n",
       "      <td>232</td>\n",
       "      <td>797</td>\n",
       "      <td>0.807143</td>\n",
       "    </tr>\n",
       "    <tr>\n",
       "      <th>Cristiano Ronaldo</th>\n",
       "      <td>700</td>\n",
       "      <td>448</td>\n",
       "      <td>147</td>\n",
       "      <td>595</td>\n",
       "      <td>0.640000</td>\n",
       "    </tr>\n",
       "    <tr>\n",
       "      <th>Neymar</th>\n",
       "      <td>700</td>\n",
       "      <td>443</td>\n",
       "      <td>244</td>\n",
       "      <td>687</td>\n",
       "      <td>0.632857</td>\n",
       "    </tr>\n",
       "  </tbody>\n",
       "</table>\n",
       "</div>"
      ],
      "text/plain": [
       "                   Games  Goals  Assists  Goal Contributions  Goals per game\n",
       "Name                                                                        \n",
       "Lionel Messi         700    565      232                 797        0.807143\n",
       "Cristiano Ronaldo    700    448      147                 595        0.640000\n",
       "Neymar               700    443      244                 687        0.632857"
      ]
     },
     "execution_count": 26,
     "metadata": {},
     "output_type": "execute_result"
    }
   ],
   "source": [
    "players_stat_total"
   ]
  },
  {
   "cell_type": "code",
   "execution_count": 27,
   "id": "e59c6a71-37ed-454b-a2c5-4dc17a7b5a20",
   "metadata": {},
   "outputs": [
    {
     "data": {
      "text/html": [
       "<div>\n",
       "<style scoped>\n",
       "    .dataframe tbody tr th:only-of-type {\n",
       "        vertical-align: middle;\n",
       "    }\n",
       "\n",
       "    .dataframe tbody tr th {\n",
       "        vertical-align: top;\n",
       "    }\n",
       "\n",
       "    .dataframe thead th {\n",
       "        text-align: right;\n",
       "    }\n",
       "</style>\n",
       "<table border=\"1\" class=\"dataframe\">\n",
       "  <thead>\n",
       "    <tr style=\"text-align: right;\">\n",
       "      <th></th>\n",
       "      <th>Games</th>\n",
       "      <th>Goals</th>\n",
       "      <th>Assists</th>\n",
       "      <th>Goal Contributions</th>\n",
       "      <th>Goals per game</th>\n",
       "    </tr>\n",
       "    <tr>\n",
       "      <th>Name</th>\n",
       "      <th></th>\n",
       "      <th></th>\n",
       "      <th></th>\n",
       "      <th></th>\n",
       "      <th></th>\n",
       "    </tr>\n",
       "  </thead>\n",
       "  <tbody>\n",
       "    <tr>\n",
       "      <th>Lionel Messi</th>\n",
       "      <td>700</td>\n",
       "      <td>565</td>\n",
       "      <td>232</td>\n",
       "      <td>797</td>\n",
       "      <td>0.81</td>\n",
       "    </tr>\n",
       "    <tr>\n",
       "      <th>Cristiano Ronaldo</th>\n",
       "      <td>700</td>\n",
       "      <td>448</td>\n",
       "      <td>147</td>\n",
       "      <td>595</td>\n",
       "      <td>0.64</td>\n",
       "    </tr>\n",
       "    <tr>\n",
       "      <th>Neymar</th>\n",
       "      <td>700</td>\n",
       "      <td>443</td>\n",
       "      <td>244</td>\n",
       "      <td>687</td>\n",
       "      <td>0.63</td>\n",
       "    </tr>\n",
       "  </tbody>\n",
       "</table>\n",
       "</div>"
      ],
      "text/plain": [
       "                   Games  Goals  Assists  Goal Contributions  Goals per game\n",
       "Name                                                                        \n",
       "Lionel Messi         700    565      232                 797            0.81\n",
       "Cristiano Ronaldo    700    448      147                 595            0.64\n",
       "Neymar               700    443      244                 687            0.63"
      ]
     },
     "execution_count": 27,
     "metadata": {},
     "output_type": "execute_result"
    }
   ],
   "source": [
    "players_stat_total.round(2)"
   ]
  },
  {
   "cell_type": "code",
   "execution_count": null,
   "id": "51dcf52e-0d47-46d8-92e7-e76cf033e563",
   "metadata": {},
   "outputs": [],
   "source": []
  }
 ],
 "metadata": {
  "kernelspec": {
   "display_name": "Python 3 (ipykernel)",
   "language": "python",
   "name": "python3"
  },
  "language_info": {
   "codemirror_mode": {
    "name": "ipython",
    "version": 3
   },
   "file_extension": ".py",
   "mimetype": "text/x-python",
   "name": "python",
   "nbconvert_exporter": "python",
   "pygments_lexer": "ipython3",
   "version": "3.11.7"
  }
 },
 "nbformat": 4,
 "nbformat_minor": 5
}
