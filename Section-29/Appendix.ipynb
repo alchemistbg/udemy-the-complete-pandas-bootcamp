{
 "cells": [
  {
   "cell_type": "markdown",
   "id": "4909f010-d3a4-4592-9ac6-c0f17022bcba",
   "metadata": {},
   "source": [
    "# **Appendix**"
   ]
  },
  {
   "cell_type": "markdown",
   "id": "6506c568-0b11-465b-9e5f-d8156a424720",
   "metadata": {},
   "source": [
    "In the appendix there are intoductions to some important topics:\n",
    "1. Python\n",
    "2. NumPy\n",
    "3. Statistics\n",
    "4. ChatGPT"
   ]
  }
 ],
 "metadata": {
  "kernelspec": {
   "display_name": "Python 3 (ipykernel)",
   "language": "python",
   "name": "python3"
  },
  "language_info": {
   "codemirror_mode": {
    "name": "ipython",
    "version": 3
   },
   "file_extension": ".py",
   "mimetype": "text/x-python",
   "name": "python",
   "nbconvert_exporter": "python",
   "pygments_lexer": "ipython3",
   "version": "3.11.7"
  }
 },
 "nbformat": 4,
 "nbformat_minor": 5
}
