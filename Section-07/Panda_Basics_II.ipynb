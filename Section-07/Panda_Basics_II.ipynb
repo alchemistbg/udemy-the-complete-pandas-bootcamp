{
 "cells": [
  {
   "cell_type": "markdown",
   "id": "89d73553-83fa-48e0-a036-4b3340f3a633",
   "metadata": {},
   "source": [
    "# **DataFrame Basics II**"
   ]
  },
  {
   "cell_type": "markdown",
   "id": "793363fc-2b97-46b7-8f5c-ae9bb12a1549",
   "metadata": {},
   "source": [
    "### **Filtering DataFrames by one Condition**"
   ]
  },
  {
   "cell_type": "code",
   "execution_count": null,
   "id": "637f6825-ea2b-4997-8a2a-524d5c42d04a",
   "metadata": {},
   "outputs": [],
   "source": [
    "import pandas as pd"
   ]
  },
  {
   "cell_type": "code",
   "execution_count": null,
   "id": "e809fb1b-6697-43db-9151-3d57ab206fb3",
   "metadata": {},
   "outputs": [],
   "source": [
    "titanic = pd.read_csv('titanic.csv')"
   ]
  },
  {
   "cell_type": "code",
   "execution_count": null,
   "id": "e4e11da0-0e67-43b1-a9e9-6026fab19a3d",
   "metadata": {},
   "outputs": [],
   "source": [
    "titanic.head()"
   ]
  },
  {
   "cell_type": "code",
   "execution_count": null,
   "id": "ad6824d6-b833-4ba0-a317-a9a6dca504b0",
   "metadata": {},
   "outputs": [],
   "source": [
    "titanic.info()"
   ]
  },
  {
   "cell_type": "code",
   "execution_count": null,
   "id": "32d69e9c-d0b4-49ed-9ef1-1d086cca217b",
   "metadata": {},
   "outputs": [],
   "source": [
    "titanic.dtypes"
   ]
  },
  {
   "cell_type": "code",
   "execution_count": null,
   "id": "86c9484a-36a0-4498-bc84-9e08663d4e48",
   "metadata": {},
   "outputs": [],
   "source": [
    "titanic.age.head()"
   ]
  },
  {
   "cell_type": "code",
   "execution_count": null,
   "id": "f630f870-7ab5-4d60-8a7b-d67c6a7746f4",
   "metadata": {},
   "outputs": [],
   "source": [
    "titanic.sex == \"male\""
   ]
  },
  {
   "cell_type": "code",
   "execution_count": null,
   "id": "61294b20-a37e-4494-8247-24d0ebe4aab8",
   "metadata": {},
   "outputs": [],
   "source": [
    "males1 = titanic[titanic.sex == \"male\"]"
   ]
  },
  {
   "cell_type": "code",
   "execution_count": null,
   "id": "4b2fb538-4ca0-4382-82ae-024d6d0ea9c7",
   "metadata": {},
   "outputs": [],
   "source": [
    "males1.head()"
   ]
  },
  {
   "cell_type": "code",
   "execution_count": null,
   "id": "95952bbe-7673-4bb9-8291-f3a14b1dddc7",
   "metadata": {},
   "outputs": [],
   "source": [
    "male_filter = titanic.sex == \"male\"\n",
    "males2 = titanic.loc[male_filter]"
   ]
  },
  {
   "cell_type": "code",
   "execution_count": null,
   "id": "6f462dcb-b15b-49cd-ab86-3f052fe80436",
   "metadata": {},
   "outputs": [],
   "source": [
    "males2.head()"
   ]
  },
  {
   "cell_type": "code",
   "execution_count": null,
   "id": "46af182a-fd81-4a67-9fd6-f4a7b78560a7",
   "metadata": {},
   "outputs": [],
   "source": [
    "males3 = titanic.loc[male_filter, [\"age\", \"fare\"]]"
   ]
  },
  {
   "cell_type": "code",
   "execution_count": null,
   "id": "82db1904-37b4-44eb-9b39-3fd0e39ff3ed",
   "metadata": {},
   "outputs": [],
   "source": [
    "males3.head()"
   ]
  },
  {
   "cell_type": "code",
   "execution_count": null,
   "id": "bddc8344-d51c-49cf-8da5-75286a391ecb",
   "metadata": {},
   "outputs": [],
   "source": [
    "female_filter = titanic.sex == \"female\"\n",
    "females = titanic[female_filter]"
   ]
  },
  {
   "cell_type": "code",
   "execution_count": null,
   "id": "efea4184-9012-4cf0-a4e2-dbd0a2377140",
   "metadata": {},
   "outputs": [],
   "source": [
    "females"
   ]
  },
  {
   "cell_type": "code",
   "execution_count": null,
   "id": "a2888407-f19d-48cb-a2ac-31db1cdf8615",
   "metadata": {},
   "outputs": [],
   "source": [
    "males2.dtypes"
   ]
  },
  {
   "cell_type": "code",
   "execution_count": null,
   "id": "23a8ee08-3975-4dd9-9a9d-42ea56979227",
   "metadata": {},
   "outputs": [],
   "source": [
    "object_filter = males2.dtypes == object\n",
    "males2_numbers = males2.loc[:, ~object_filter]"
   ]
  },
  {
   "cell_type": "code",
   "execution_count": null,
   "id": "483ca606-9a99-40a9-a22a-cc62862ef148",
   "metadata": {},
   "outputs": [],
   "source": [
    "males2_numbers"
   ]
  },
  {
   "cell_type": "code",
   "execution_count": null,
   "id": "86be2777-b168-4c1b-bedd-e52660518943",
   "metadata": {},
   "outputs": [],
   "source": [
    "males = titanic.loc[male_filter, ~object_filter]"
   ]
  },
  {
   "cell_type": "code",
   "execution_count": null,
   "id": "1ce55d65-db6e-46a5-90f1-f6ad2df19f29",
   "metadata": {
    "scrolled": true
   },
   "outputs": [],
   "source": [
    "males.head()"
   ]
  },
  {
   "cell_type": "markdown",
   "id": "4e100a9f-fcfe-49e6-877e-e2530b189bb2",
   "metadata": {},
   "source": [
    "### **Filtering DataFrames by many Condition (AND)**"
   ]
  },
  {
   "cell_type": "code",
   "execution_count": null,
   "id": "d6b48c3a-5fe8-4553-8a84-b39d565dfc4b",
   "metadata": {},
   "outputs": [],
   "source": [
    "import pandas as pd"
   ]
  },
  {
   "cell_type": "code",
   "execution_count": null,
   "id": "14074367-cc89-4c89-8429-f53648248835",
   "metadata": {},
   "outputs": [],
   "source": [
    "titanic = pd.read_csv('titanic.csv')"
   ]
  },
  {
   "cell_type": "code",
   "execution_count": null,
   "id": "35b3b9f4-1172-4eca-aad9-7e3c3fd7ebc7",
   "metadata": {},
   "outputs": [],
   "source": [
    "titanic.head()"
   ]
  },
  {
   "cell_type": "code",
   "execution_count": null,
   "id": "e513a2ce-8769-47cc-a682-ba55a011570b",
   "metadata": {},
   "outputs": [],
   "source": [
    "males_filter = titanic['sex'] == \"male\"\n",
    "males = titanic.loc[males_filter]\n",
    "males.head()"
   ]
  },
  {
   "cell_type": "code",
   "execution_count": null,
   "id": "e841f156-31b7-4e52-a896-52bdd29cf133",
   "metadata": {},
   "outputs": [],
   "source": [
    "age_filter = titanic['age'] > 14\n",
    "grown_ups = titanic.loc[age_filter]\n",
    "grown_ups.head()"
   ]
  },
  {
   "cell_type": "code",
   "execution_count": null,
   "id": "9a27a1bd-267b-4eaf-8054-2295e9938301",
   "metadata": {},
   "outputs": [],
   "source": [
    "grown_males = titanic.loc[males_filter & age_filter]\n",
    "grown_males.head()"
   ]
  },
  {
   "cell_type": "code",
   "execution_count": null,
   "id": "3413dc70-57c0-4506-9935-e0438ad55183",
   "metadata": {},
   "outputs": [],
   "source": [
    "grown_males.describe()"
   ]
  },
  {
   "cell_type": "markdown",
   "id": "229205dd-357d-4b69-9006-a997ca9d1e6a",
   "metadata": {},
   "source": [
    "### **Filtering DataFrames by many Condition (OR)**"
   ]
  },
  {
   "cell_type": "code",
   "execution_count": null,
   "id": "49320c1c-70c5-4103-9f57-b43dfbf3c127",
   "metadata": {},
   "outputs": [],
   "source": [
    "import pandas as pd"
   ]
  },
  {
   "cell_type": "code",
   "execution_count": null,
   "id": "ec86fc17-c415-4a45-9d94-68a3727545cd",
   "metadata": {},
   "outputs": [],
   "source": [
    "titanic = pd.read_csv('titanic.csv')\n",
    "titanic.head()"
   ]
  },
  {
   "cell_type": "code",
   "execution_count": null,
   "id": "d801e7fd-1f8c-4f8d-a7cc-f4f6721d8efe",
   "metadata": {},
   "outputs": [],
   "source": [
    "females_filter = titanic.sex == 'female'\n",
    "females_filter.head()"
   ]
  },
  {
   "cell_type": "code",
   "execution_count": null,
   "id": "c43a5bbf-fcfd-473c-a140-96f39f90423d",
   "metadata": {},
   "outputs": [],
   "source": [
    "child_filter = titanic['age'] < 14\n",
    "child_filter.head()"
   ]
  },
  {
   "cell_type": "code",
   "execution_count": null,
   "id": "939b54d4-7a68-4163-aaae-65603fc0e6ca",
   "metadata": {},
   "outputs": [],
   "source": [
    "woman_or_child = titanic.loc[females_filter | child_filter]"
   ]
  },
  {
   "cell_type": "code",
   "execution_count": null,
   "id": "3c9d649b-7765-4d5a-a0c6-3b81dcc8a28e",
   "metadata": {},
   "outputs": [],
   "source": [
    "woman_or_child.head()"
   ]
  },
  {
   "cell_type": "code",
   "execution_count": null,
   "id": "b143280c-71a8-4725-abe6-10043dc430c1",
   "metadata": {},
   "outputs": [],
   "source": [
    "woman_or_child.describe()"
   ]
  },
  {
   "cell_type": "code",
   "execution_count": null,
   "id": "3651968a-4c32-455b-a927-6bccd3dbb93f",
   "metadata": {},
   "outputs": [],
   "source": [
    "pd.read_csv('summer.csv')"
   ]
  },
  {
   "cell_type": "markdown",
   "id": "5658049c-3aa1-4288-a4a5-d448422c6259",
   "metadata": {},
   "source": [
    "## **Advanced Filtering with between(), isin() and ~**"
   ]
  },
  {
   "cell_type": "code",
   "execution_count": null,
   "id": "ab9ccf58-8ddd-4be6-aec2-b6c56777189a",
   "metadata": {},
   "outputs": [],
   "source": [
    "import pandas as pd"
   ]
  },
  {
   "cell_type": "code",
   "execution_count": null,
   "id": "60ccacc4-d408-4a83-83af-952c4074793d",
   "metadata": {},
   "outputs": [],
   "source": [
    "summer = pd.read_csv('summer.csv')"
   ]
  },
  {
   "cell_type": "code",
   "execution_count": null,
   "id": "24b88161-1b42-4db8-90e3-5864db9b04e0",
   "metadata": {},
   "outputs": [],
   "source": [
    "summer.head()"
   ]
  },
  {
   "cell_type": "code",
   "execution_count": null,
   "id": "32db3586-253c-4224-bd81-8b09d9032f1e",
   "metadata": {},
   "outputs": [],
   "source": [
    "summer.info()"
   ]
  },
  {
   "cell_type": "code",
   "execution_count": null,
   "id": "44dc9b58-d598-4949-ac5a-475878ddfb11",
   "metadata": {},
   "outputs": [],
   "source": [
    "games_1988 = summer.loc[summer.Year == 1988]"
   ]
  },
  {
   "cell_type": "code",
   "execution_count": null,
   "id": "9f0da761-c410-4b40-add2-d1269029f08b",
   "metadata": {},
   "outputs": [],
   "source": [
    "games_1988.head()"
   ]
  },
  {
   "cell_type": "code",
   "execution_count": null,
   "id": "6c394e40-7230-483e-9551-208f9f02d3a2",
   "metadata": {},
   "outputs": [],
   "source": [
    "games_1988.info()"
   ]
  },
  {
   "cell_type": "code",
   "execution_count": null,
   "id": "f7153367-bced-4ba6-bc71-94d03dcf0c80",
   "metadata": {},
   "outputs": [],
   "source": [
    "games_since_1992 = summer.loc[summer.Year >= 1992]"
   ]
  },
  {
   "cell_type": "code",
   "execution_count": null,
   "id": "afbe9e13-a354-45b3-9530-bbc8733ba386",
   "metadata": {},
   "outputs": [],
   "source": [
    "games_since_1992"
   ]
  },
  {
   "cell_type": "code",
   "execution_count": null,
   "id": "9e47f172-c503-407b-a735-bfb2a4a66c59",
   "metadata": {},
   "outputs": [],
   "source": [
    "games_since_1992.head()"
   ]
  },
  {
   "cell_type": "code",
   "execution_count": null,
   "id": "6382f354-d86f-4fa4-9fa6-4fff4a4bb5ae",
   "metadata": {},
   "outputs": [],
   "source": [
    "games_since_1992.tail()"
   ]
  },
  {
   "cell_type": "code",
   "execution_count": null,
   "id": "82011ed6-47c0-400e-ad2e-4d88d05ca086",
   "metadata": {},
   "outputs": [],
   "source": [
    "games_90s = summer[summer.Year.between(left = 1990, right = 1999, inclusive = 'both')]"
   ]
  },
  {
   "cell_type": "code",
   "execution_count": null,
   "id": "822749e5-da13-45a1-bbd8-b74a272c5f26",
   "metadata": {},
   "outputs": [],
   "source": [
    "games_90s"
   ]
  },
  {
   "cell_type": "code",
   "execution_count": null,
   "id": "8450743f-6ea3-4132-94b2-c980ea6c9d85",
   "metadata": {},
   "outputs": [],
   "source": [
    "selected_games = summer.loc[summer.Year.isin([1976, 1988])]"
   ]
  },
  {
   "cell_type": "code",
   "execution_count": null,
   "id": "e3d00798-f777-4220-b8b7-dc7bcd2a730e",
   "metadata": {},
   "outputs": [],
   "source": [
    "selected_games"
   ]
  },
  {
   "cell_type": "code",
   "execution_count": null,
   "id": "1af52315-f7e6-47c9-b1e8-9820e962a0b3",
   "metadata": {},
   "outputs": [],
   "source": [
    "discipline = selected_games.Discipline == 'Weightlifting'\n",
    "country = selected_games.Country == 'BUL'\n",
    "selected_games.loc[discipline & country]"
   ]
  },
  {
   "cell_type": "markdown",
   "id": "3377e6bd-c008-449d-8292-089bb1b508c9",
   "metadata": {},
   "source": [
    "## **any()** and **all()**"
   ]
  },
  {
   "cell_type": "code",
   "execution_count": null,
   "id": "10a7bf03-3222-4d7d-b343-f3ab606499c5",
   "metadata": {},
   "outputs": [],
   "source": [
    "import pandas as pd"
   ]
  },
  {
   "cell_type": "code",
   "execution_count": null,
   "id": "fcd541b4-8962-419e-be00-a34c2d56d252",
   "metadata": {},
   "outputs": [],
   "source": [
    "titanic = pd.read_csv('titanic.csv')"
   ]
  },
  {
   "cell_type": "code",
   "execution_count": null,
   "id": "c5a9f5b1-685d-4e45-8ca9-af9903422768",
   "metadata": {},
   "outputs": [],
   "source": [
    "titanic.head()"
   ]
  },
  {
   "cell_type": "code",
   "execution_count": null,
   "id": "b13adde6-1766-4b34-9090-fb5c779b548d",
   "metadata": {},
   "outputs": [],
   "source": [
    "(titanic.sex == 'male').any()"
   ]
  },
  {
   "cell_type": "code",
   "execution_count": null,
   "id": "acc02519-0b06-43b4-b4fd-5e0bcc27a0d1",
   "metadata": {},
   "outputs": [],
   "source": [
    "(titanic.sex == 'male').all()"
   ]
  },
  {
   "cell_type": "code",
   "execution_count": null,
   "id": "2269658b-97b5-4f78-9c67-a32ff1077057",
   "metadata": {},
   "outputs": [],
   "source": [
    "(titanic.age == 80.0).any()"
   ]
  },
  {
   "cell_type": "code",
   "execution_count": null,
   "id": "afb734f4-1f9a-4896-ad99-6f8cb4d22a85",
   "metadata": {},
   "outputs": [],
   "source": [
    "titanic.loc[titanic.age == 80.0]"
   ]
  },
  {
   "cell_type": "code",
   "execution_count": null,
   "id": "150a8bac-d2c5-4daa-af17-9c9c97ea21ad",
   "metadata": {},
   "outputs": [],
   "source": [
    "pd_series = pd.Series([1, 5, -5, 0, -1, 0.5])"
   ]
  },
  {
   "cell_type": "code",
   "execution_count": null,
   "id": "be1dc644-4899-4517-a8a5-c22621bc2108",
   "metadata": {},
   "outputs": [],
   "source": [
    "pd_series.any()"
   ]
  },
  {
   "cell_type": "code",
   "execution_count": null,
   "id": "cde5bbb7-fb6a-4495-add2-0e673c655367",
   "metadata": {},
   "outputs": [],
   "source": [
    "pd_series.all()"
   ]
  },
  {
   "cell_type": "code",
   "execution_count": null,
   "id": "a067bb32-2fd5-446b-bf80-d93810fa6b45",
   "metadata": {},
   "outputs": [],
   "source": [
    "fares = titanic.fare.unique()"
   ]
  },
  {
   "cell_type": "code",
   "execution_count": null,
   "id": "a68882a4-1376-4ae9-a53d-813f6ea05896",
   "metadata": {},
   "outputs": [],
   "source": [
    "fares.sort()"
   ]
  },
  {
   "cell_type": "code",
   "execution_count": null,
   "id": "1517c8b6-57d5-4ed9-a0fc-2024fcd7c0f3",
   "metadata": {},
   "outputs": [],
   "source": [
    "fares = pd.Series(fares)"
   ]
  },
  {
   "cell_type": "code",
   "execution_count": null,
   "id": "50cf84fd-4998-41c6-897a-31bde461bfc0",
   "metadata": {},
   "outputs": [],
   "source": [
    "fares.head()"
   ]
  },
  {
   "cell_type": "code",
   "execution_count": null,
   "id": "a238cb79-ca07-4355-8168-ea7bae4242ba",
   "metadata": {},
   "outputs": [],
   "source": [
    "titanic.fare.all()"
   ]
  },
  {
   "cell_type": "markdown",
   "id": "5a45861d-5aad-4c2e-b070-f41d545eaa81",
   "metadata": {},
   "source": [
    "## **Removing columns**"
   ]
  },
  {
   "cell_type": "code",
   "execution_count": null,
   "id": "b7580d7d-c683-4523-8a40-5573ef2f8449",
   "metadata": {},
   "outputs": [],
   "source": [
    "import pandas as pd"
   ]
  },
  {
   "cell_type": "code",
   "execution_count": null,
   "id": "83c88776-f893-4908-9e37-0857b4e6914e",
   "metadata": {},
   "outputs": [],
   "source": [
    "summer = pd.read_csv('summer.csv')"
   ]
  },
  {
   "cell_type": "code",
   "execution_count": null,
   "id": "a0e85304-0632-40cd-922b-19f52735c207",
   "metadata": {},
   "outputs": [],
   "source": [
    "summer.head()"
   ]
  },
  {
   "cell_type": "code",
   "execution_count": null,
   "id": "d2a0d659-42b8-48ae-80a4-3ace3ce3b4fa",
   "metadata": {},
   "outputs": [],
   "source": [
    "summer.drop(columns = 'Sport')"
   ]
  },
  {
   "cell_type": "code",
   "execution_count": null,
   "id": "374cfe52-77f2-4266-9d11-ef5bb15d950e",
   "metadata": {},
   "outputs": [],
   "source": [
    "summer.head()"
   ]
  },
  {
   "cell_type": "code",
   "execution_count": null,
   "id": "fc8d37e1-9fde-41ee-bf86-42e1fcdcbd7a",
   "metadata": {},
   "outputs": [],
   "source": [
    "summer.drop(columns = ['Sport', 'Discipline'])"
   ]
  },
  {
   "cell_type": "code",
   "execution_count": null,
   "id": "a8b789f4-27af-45d8-a3d6-850b886f2b62",
   "metadata": {},
   "outputs": [],
   "source": [
    "summer.head()"
   ]
  },
  {
   "cell_type": "code",
   "execution_count": null,
   "id": "d4590626-2855-4e1c-9193-ffb16008ba5b",
   "metadata": {},
   "outputs": [],
   "source": [
    "summer.drop(labels = 'Event', axis = 1)\n",
    "# summer.drop(labels = 'Event', axis = \"columns\") - alternative approach"
   ]
  },
  {
   "cell_type": "code",
   "execution_count": null,
   "id": "3e000957-e9e5-4618-b891-81e98fac69be",
   "metadata": {},
   "outputs": [],
   "source": [
    "summer.head()"
   ]
  },
  {
   "cell_type": "code",
   "execution_count": null,
   "id": "56206d78-01da-44ff-9cc2-c6a61284e7b6",
   "metadata": {},
   "outputs": [],
   "source": [
    "del summer['Sport']"
   ]
  },
  {
   "cell_type": "code",
   "execution_count": null,
   "id": "ffaa9855-0179-42cb-a6df-b2cd1b8a7fdb",
   "metadata": {},
   "outputs": [],
   "source": [
    "summer.head()"
   ]
  },
  {
   "cell_type": "code",
   "execution_count": null,
   "id": "4ff0b8c1-57b7-4e14-8f29-f7d331535625",
   "metadata": {},
   "outputs": [],
   "source": [
    "summer = pd.read_csv('summer.csv')"
   ]
  },
  {
   "cell_type": "code",
   "execution_count": null,
   "id": "b08aa3a3-108a-4633-9b0a-31594ed24616",
   "metadata": {},
   "outputs": [],
   "source": [
    "summer.head()"
   ]
  },
  {
   "cell_type": "code",
   "execution_count": null,
   "id": "afec1f42-56a7-48e3-b721-a3a29d3447a6",
   "metadata": {},
   "outputs": [],
   "source": [
    "summer.loc[ :, ['Year', 'City', 'Athlete', 'Country', 'Gender', 'Event', 'Medal']]"
   ]
  },
  {
   "cell_type": "markdown",
   "id": "79b4cd2c-c704-4310-a5d8-ff9d1f6b86e0",
   "metadata": {},
   "source": [
    "## **Removing rows**"
   ]
  },
  {
   "cell_type": "code",
   "execution_count": null,
   "id": "1d85cca3-d429-4330-8f88-98560aa744e1",
   "metadata": {},
   "outputs": [],
   "source": [
    "import pandas as pd"
   ]
  },
  {
   "cell_type": "code",
   "execution_count": null,
   "id": "64d29192-5280-4865-b8e7-f7ccd89757ca",
   "metadata": {},
   "outputs": [],
   "source": [
    "summer = pd.read_csv('summer.csv',index_col = 'Athlete')"
   ]
  },
  {
   "cell_type": "code",
   "execution_count": null,
   "id": "b441f02b-f30a-44e7-86a0-880b181c45d2",
   "metadata": {},
   "outputs": [],
   "source": [
    "summer.head(10)"
   ]
  },
  {
   "cell_type": "code",
   "execution_count": null,
   "id": "9f60f4c4-04b7-44e2-8936-ca93a53af0c0",
   "metadata": {},
   "outputs": [],
   "source": [
    "summer.drop(index = 'HAJOS, Alfred').head(10)"
   ]
  },
  {
   "cell_type": "code",
   "execution_count": null,
   "id": "1e430bfb-a802-46c3-9a2e-c15c93a65b98",
   "metadata": {},
   "outputs": [],
   "source": [
    "summer.drop(index = ['HAJOS, Alfred', 'DRIVAS, Dimitrios']).head(10)"
   ]
  },
  {
   "cell_type": "code",
   "execution_count": null,
   "id": "e2087cd6-f102-4bf9-9fbf-40acc42a8ade",
   "metadata": {},
   "outputs": [],
   "source": [
    "summer.drop(labels = \"HERSCHMANN, Otto\", axis = 0).head(10)"
   ]
  },
  {
   "cell_type": "code",
   "execution_count": null,
   "id": "89dd95f4-119e-4399-9a9a-eda7cc917076",
   "metadata": {},
   "outputs": [],
   "source": [
    "summer.loc[summer.Year == 1996]"
   ]
  },
  {
   "cell_type": "code",
   "execution_count": null,
   "id": "c6a612ad-3fcf-4d26-91b3-d603ba2f6e95",
   "metadata": {},
   "outputs": [],
   "source": [
    "filter1 = summer.Year == 1996\n",
    "filter2 = summer.Sport == 'Aquatics'\n",
    "summer.loc[~(filter1 | filter2)]"
   ]
  },
  {
   "cell_type": "markdown",
   "id": "d5e6035c-287b-4517-8561-81b16b96c0cd",
   "metadata": {},
   "source": [
    "## **Adding new Columns to a DataFrame**"
   ]
  },
  {
   "cell_type": "code",
   "execution_count": null,
   "id": "460e1847-2288-4b88-aead-7fbfde1a0db1",
   "metadata": {},
   "outputs": [],
   "source": [
    "import pandas as pd"
   ]
  },
  {
   "cell_type": "code",
   "execution_count": null,
   "id": "c46281ba-5a8f-4fe3-a42d-a06ce52d1e2e",
   "metadata": {},
   "outputs": [],
   "source": [
    "titanic = pd.read_csv('titanic.csv')"
   ]
  },
  {
   "cell_type": "code",
   "execution_count": null,
   "id": "c3194880-98e7-40bb-a42c-92baf1fc8ee1",
   "metadata": {},
   "outputs": [],
   "source": [
    "titanic.head()"
   ]
  },
  {
   "cell_type": "code",
   "execution_count": null,
   "id": "2674bb42-02df-4fa7-a904-b7bb8da5dd6b",
   "metadata": {},
   "outputs": [],
   "source": [
    "titanic['Zeros']"
   ]
  },
  {
   "cell_type": "code",
   "execution_count": null,
   "id": "f39c670a-253d-4466-ada4-10737acc4235",
   "metadata": {},
   "outputs": [],
   "source": [
    "titanic['Zeros'] = 0"
   ]
  },
  {
   "cell_type": "code",
   "execution_count": null,
   "id": "8c2d63b5-4678-4a62-8e08-6d15d8c7b926",
   "metadata": {},
   "outputs": [],
   "source": [
    "titanic.head()"
   ]
  },
  {
   "cell_type": "code",
   "execution_count": null,
   "id": "9bd1b86f-b783-483b-8d4d-04e60e9dc191",
   "metadata": {},
   "outputs": [],
   "source": [
    "titanic['Zeros_2'] = '0'"
   ]
  },
  {
   "cell_type": "code",
   "execution_count": null,
   "id": "7438b010-f79a-4695-964a-73058636c243",
   "metadata": {},
   "outputs": [],
   "source": [
    "titanic.head()"
   ]
  },
  {
   "cell_type": "code",
   "execution_count": null,
   "id": "0173ece8-b5bc-4eb3-afa6-24cba5b86334",
   "metadata": {},
   "outputs": [],
   "source": [
    "titanic.dtypes"
   ]
  },
  {
   "cell_type": "code",
   "execution_count": null,
   "id": "2a90cd75-5056-4640-831b-f2eb532c038c",
   "metadata": {},
   "outputs": [],
   "source": [
    "titanic.Ones"
   ]
  },
  {
   "cell_type": "code",
   "execution_count": null,
   "id": "aba3c424-5cd1-42a8-89ec-99180cbb6fea",
   "metadata": {},
   "outputs": [],
   "source": [
    "titanic.Ones = 1"
   ]
  },
  {
   "cell_type": "code",
   "execution_count": null,
   "id": "33df6a73-7a1d-4327-b61d-ad61f4dece6d",
   "metadata": {},
   "outputs": [],
   "source": [
    "titanic.head()"
   ]
  },
  {
   "cell_type": "code",
   "execution_count": null,
   "id": "ba0f6337-4810-4a28-9441-5a4d7dc2aa42",
   "metadata": {},
   "outputs": [],
   "source": [
    "titanic.Ones"
   ]
  },
  {
   "cell_type": "markdown",
   "id": "ba413a05-508b-497f-926f-8a7a87d47d22",
   "metadata": {},
   "source": [
    "## **Creating Columns based on other Columns**"
   ]
  },
  {
   "cell_type": "code",
   "execution_count": null,
   "id": "2251dfe8-673f-4c53-9e88-8476d2d7704c",
   "metadata": {},
   "outputs": [],
   "source": [
    "import pandas as pd"
   ]
  },
  {
   "cell_type": "code",
   "execution_count": null,
   "id": "015397c9-3cae-42d5-aab5-8d05bf8a469e",
   "metadata": {},
   "outputs": [],
   "source": [
    "titanic = pd.read_csv('titanic.csv')"
   ]
  },
  {
   "cell_type": "code",
   "execution_count": null,
   "id": "cd1bb730-334e-4b12-a762-f02e938ab2e7",
   "metadata": {},
   "outputs": [],
   "source": [
    "titanic.head()"
   ]
  },
  {
   "cell_type": "code",
   "execution_count": null,
   "id": "075acb92-4e01-4099-a2eb-ca26c6fea420",
   "metadata": {},
   "outputs": [],
   "source": [
    "1912 - titanic.age"
   ]
  },
  {
   "cell_type": "code",
   "execution_count": null,
   "id": "0e30ed55-df21-4b92-8c28-e47216655d1c",
   "metadata": {},
   "outputs": [],
   "source": [
    "titanic['YoB'] = 1912 - titanic.age"
   ]
  },
  {
   "cell_type": "code",
   "execution_count": null,
   "id": "bac6edef-d338-4381-852a-c48c128731de",
   "metadata": {},
   "outputs": [],
   "source": [
    "titanic.head()"
   ]
  },
  {
   "cell_type": "code",
   "execution_count": null,
   "id": "b7aba285-18b7-47bc-a825-578656654184",
   "metadata": {},
   "outputs": [],
   "source": [
    "titanic['relatives'] = titanic['sibsp'] + titanic['parch']"
   ]
  },
  {
   "cell_type": "code",
   "execution_count": null,
   "id": "b4c9c72c-d585-4712-b8c5-cef7d8e7c06c",
   "metadata": {},
   "outputs": [],
   "source": [
    "titanic.head()"
   ]
  },
  {
   "cell_type": "code",
   "execution_count": null,
   "id": "dbe2b74e-46c4-4cdb-830e-a6daf78e0420",
   "metadata": {},
   "outputs": [],
   "source": [
    "titanic.drop(columns = ['sibsp', 'parch'], inplace = True)"
   ]
  },
  {
   "cell_type": "code",
   "execution_count": null,
   "id": "f64b704d-5059-414b-b4ca-91440be40e93",
   "metadata": {},
   "outputs": [],
   "source": [
    "titanic.head()"
   ]
  },
  {
   "cell_type": "code",
   "execution_count": null,
   "id": "404f4d46-ba64-4071-a65f-68b7daf0716a",
   "metadata": {},
   "outputs": [],
   "source": [
    "inflation_factor = 10"
   ]
  },
  {
   "cell_type": "code",
   "execution_count": null,
   "id": "ec3ae76f-8fc9-4adc-8bf6-87930d9f8c86",
   "metadata": {},
   "outputs": [],
   "source": [
    "titanic['ia_fare'] = titanic.fare * inflation_factor"
   ]
  },
  {
   "cell_type": "code",
   "execution_count": null,
   "id": "772976b9-9e6a-4583-aa64-937b315921de",
   "metadata": {},
   "outputs": [],
   "source": [
    "titanic.head()"
   ]
  },
  {
   "cell_type": "markdown",
   "id": "06903caf-0a96-411d-8762-3028b1f588bf",
   "metadata": {},
   "source": [
    "## **Adding Columns with insert()**"
   ]
  },
  {
   "cell_type": "code",
   "execution_count": null,
   "id": "5de247fd-dff4-4172-8b97-1cc605e1e3ba",
   "metadata": {},
   "outputs": [],
   "source": [
    "import pandas as pd"
   ]
  },
  {
   "cell_type": "code",
   "execution_count": null,
   "id": "96b6df86-5a8b-4680-b032-e4091ba879fb",
   "metadata": {},
   "outputs": [],
   "source": [
    "titanic = pd.read_csv('titanic.csv')"
   ]
  },
  {
   "cell_type": "code",
   "execution_count": null,
   "id": "b8a18799-3c9c-4118-b10a-97cb6ee8de1b",
   "metadata": {},
   "outputs": [],
   "source": [
    "titanic.head()"
   ]
  },
  {
   "cell_type": "code",
   "execution_count": null,
   "id": "7cc51694-97a4-4866-9c77-5e973310c549",
   "metadata": {},
   "outputs": [],
   "source": [
    "relatives = titanic['sibsp'] + titanic['parch']"
   ]
  },
  {
   "cell_type": "code",
   "execution_count": null,
   "id": "09f27193-be02-47de-a762-1749f5e3de65",
   "metadata": {},
   "outputs": [],
   "source": [
    "relatives.head()"
   ]
  },
  {
   "cell_type": "code",
   "execution_count": null,
   "id": "a30a914d-9b67-4001-af8a-f2df97c94bd3",
   "metadata": {},
   "outputs": [],
   "source": [
    "titanic.insert(column = 'relatives', value = relatives, loc = 6)"
   ]
  },
  {
   "cell_type": "code",
   "execution_count": null,
   "id": "c1e1a60a-c0f6-4ed3-9b24-f0b93c9a1b39",
   "metadata": {},
   "outputs": [],
   "source": [
    "titanic.head()"
   ]
  },
  {
   "cell_type": "markdown",
   "id": "96c82133-5b6a-4e28-a2c5-e3f72f4662b6",
   "metadata": {},
   "source": [
    "## **Creating DataFrames from Scratch with pd.DataFrame()**"
   ]
  },
  {
   "cell_type": "code",
   "execution_count": 4,
   "id": "88a277a9-c95a-4b1d-9e7b-4ad87da44b25",
   "metadata": {},
   "outputs": [],
   "source": [
    "import pandas as pd"
   ]
  },
  {
   "cell_type": "code",
   "execution_count": 5,
   "id": "8772389b-6c23-41b5-90b6-caf0dad358ef",
   "metadata": {},
   "outputs": [],
   "source": [
    "player = [\"Lionel Messi\", \"Cristiano Ronaldo\", \"Neymar Junior\", \"Kylian Mbappe\", \"Manuel Neuer\"]"
   ]
  },
  {
   "cell_type": "code",
   "execution_count": 6,
   "id": "10b8bb63-e117-4357-8a17-2a0eebd2d235",
   "metadata": {},
   "outputs": [],
   "source": [
    "nationality = [\"Argentina\", \"Portugal\", \"Brasil\", \"France\", \"Germany\"]"
   ]
  },
  {
   "cell_type": "code",
   "execution_count": 7,
   "id": "2f33ef99-b2ed-4f5f-976b-3f8d2e8644dd",
   "metadata": {},
   "outputs": [],
   "source": [
    "club = [\"FC Barcelona\", \"Juventus FC\", \"Paris SG\", \"Paris SG\", \"FC Bayern\" ]"
   ]
  },
  {
   "cell_type": "code",
   "execution_count": 8,
   "id": "a6b75313-717a-4d19-80c0-d3cdcffb1002",
   "metadata": {},
   "outputs": [],
   "source": [
    "world_champion = [False, False, False, True, True]"
   ]
  },
  {
   "cell_type": "code",
   "execution_count": 9,
   "id": "a723ee67-f3dd-4927-8466-07c1f69c4035",
   "metadata": {},
   "outputs": [],
   "source": [
    "height = [1.70, 1.87, 1.75, 1.78, 1.93]"
   ]
  },
  {
   "cell_type": "code",
   "execution_count": 10,
   "id": "02d5b7f4-a13f-4f5d-8e58-6a228d9428c5",
   "metadata": {},
   "outputs": [],
   "source": [
    "goals = [45, 44, 28, 21, 0]"
   ]
  },
  {
   "cell_type": "code",
   "execution_count": 11,
   "id": "f5ec6f28-1c2b-4603-98b3-d08b074ecfba",
   "metadata": {},
   "outputs": [],
   "source": [
    "dic = {\"Player\":player, \"Nationality\":nationality, \"Club\":club, \n",
    "        \"World_Champion\":world_champion, \"Height\":height, \"Goals_2018\":goals\n",
    "       }"
   ]
  },
  {
   "cell_type": "code",
   "execution_count": 12,
   "id": "48e2b434-6deb-48a0-8ddf-4fac1e7a454c",
   "metadata": {},
   "outputs": [
    {
     "data": {
      "text/plain": [
       "{'Player': ['Lionel Messi',\n",
       "  'Cristiano Ronaldo',\n",
       "  'Neymar Junior',\n",
       "  'Kylian Mbappe',\n",
       "  'Manuel Neuer'],\n",
       " 'Nationality': ['Argentina', 'Portugal', 'Brasil', 'France', 'Germany'],\n",
       " 'Club': ['FC Barcelona', 'Juventus FC', 'Paris SG', 'Paris SG', 'FC Bayern'],\n",
       " 'World_Champion': [False, False, False, True, True],\n",
       " 'Height': [1.7, 1.87, 1.75, 1.78, 1.93],\n",
       " 'Goals_2018': [45, 44, 28, 21, 0]}"
      ]
     },
     "execution_count": 12,
     "metadata": {},
     "output_type": "execute_result"
    }
   ],
   "source": [
    "dic"
   ]
  },
  {
   "cell_type": "code",
   "execution_count": 13,
   "id": "c07b9f12-638e-47fe-8a88-7dbd66ba770a",
   "metadata": {},
   "outputs": [],
   "source": [
    "df = pd.DataFrame(data = dic)"
   ]
  },
  {
   "cell_type": "code",
   "execution_count": 14,
   "id": "a44e38ff-7195-4c27-bc37-d19f52cdf83c",
   "metadata": {},
   "outputs": [
    {
     "data": {
      "text/html": [
       "<div>\n",
       "<style scoped>\n",
       "    .dataframe tbody tr th:only-of-type {\n",
       "        vertical-align: middle;\n",
       "    }\n",
       "\n",
       "    .dataframe tbody tr th {\n",
       "        vertical-align: top;\n",
       "    }\n",
       "\n",
       "    .dataframe thead th {\n",
       "        text-align: right;\n",
       "    }\n",
       "</style>\n",
       "<table border=\"1\" class=\"dataframe\">\n",
       "  <thead>\n",
       "    <tr style=\"text-align: right;\">\n",
       "      <th></th>\n",
       "      <th>Player</th>\n",
       "      <th>Nationality</th>\n",
       "      <th>Club</th>\n",
       "      <th>World_Champion</th>\n",
       "      <th>Height</th>\n",
       "      <th>Goals_2018</th>\n",
       "    </tr>\n",
       "  </thead>\n",
       "  <tbody>\n",
       "    <tr>\n",
       "      <th>0</th>\n",
       "      <td>Lionel Messi</td>\n",
       "      <td>Argentina</td>\n",
       "      <td>FC Barcelona</td>\n",
       "      <td>False</td>\n",
       "      <td>1.70</td>\n",
       "      <td>45</td>\n",
       "    </tr>\n",
       "    <tr>\n",
       "      <th>1</th>\n",
       "      <td>Cristiano Ronaldo</td>\n",
       "      <td>Portugal</td>\n",
       "      <td>Juventus FC</td>\n",
       "      <td>False</td>\n",
       "      <td>1.87</td>\n",
       "      <td>44</td>\n",
       "    </tr>\n",
       "    <tr>\n",
       "      <th>2</th>\n",
       "      <td>Neymar Junior</td>\n",
       "      <td>Brasil</td>\n",
       "      <td>Paris SG</td>\n",
       "      <td>False</td>\n",
       "      <td>1.75</td>\n",
       "      <td>28</td>\n",
       "    </tr>\n",
       "    <tr>\n",
       "      <th>3</th>\n",
       "      <td>Kylian Mbappe</td>\n",
       "      <td>France</td>\n",
       "      <td>Paris SG</td>\n",
       "      <td>True</td>\n",
       "      <td>1.78</td>\n",
       "      <td>21</td>\n",
       "    </tr>\n",
       "    <tr>\n",
       "      <th>4</th>\n",
       "      <td>Manuel Neuer</td>\n",
       "      <td>Germany</td>\n",
       "      <td>FC Bayern</td>\n",
       "      <td>True</td>\n",
       "      <td>1.93</td>\n",
       "      <td>0</td>\n",
       "    </tr>\n",
       "  </tbody>\n",
       "</table>\n",
       "</div>"
      ],
      "text/plain": [
       "              Player Nationality          Club  World_Champion  Height  \\\n",
       "0       Lionel Messi   Argentina  FC Barcelona           False    1.70   \n",
       "1  Cristiano Ronaldo    Portugal   Juventus FC           False    1.87   \n",
       "2      Neymar Junior      Brasil      Paris SG           False    1.75   \n",
       "3      Kylian Mbappe      France      Paris SG            True    1.78   \n",
       "4       Manuel Neuer     Germany     FC Bayern            True    1.93   \n",
       "\n",
       "   Goals_2018  \n",
       "0          45  \n",
       "1          44  \n",
       "2          28  \n",
       "3          21  \n",
       "4           0  "
      ]
     },
     "execution_count": 14,
     "metadata": {},
     "output_type": "execute_result"
    }
   ],
   "source": [
    "df"
   ]
  },
  {
   "cell_type": "code",
   "execution_count": 15,
   "id": "b4953637-c4de-4353-b5e8-b39ef54c9f65",
   "metadata": {},
   "outputs": [],
   "source": [
    "players = df.set_index('Player')"
   ]
  },
  {
   "cell_type": "code",
   "execution_count": 16,
   "id": "38d0c290-0102-4aa1-be12-b77bcd6bf8c5",
   "metadata": {},
   "outputs": [
    {
     "data": {
      "text/html": [
       "<div>\n",
       "<style scoped>\n",
       "    .dataframe tbody tr th:only-of-type {\n",
       "        vertical-align: middle;\n",
       "    }\n",
       "\n",
       "    .dataframe tbody tr th {\n",
       "        vertical-align: top;\n",
       "    }\n",
       "\n",
       "    .dataframe thead th {\n",
       "        text-align: right;\n",
       "    }\n",
       "</style>\n",
       "<table border=\"1\" class=\"dataframe\">\n",
       "  <thead>\n",
       "    <tr style=\"text-align: right;\">\n",
       "      <th></th>\n",
       "      <th>Nationality</th>\n",
       "      <th>Club</th>\n",
       "      <th>World_Champion</th>\n",
       "      <th>Height</th>\n",
       "      <th>Goals_2018</th>\n",
       "    </tr>\n",
       "    <tr>\n",
       "      <th>Player</th>\n",
       "      <th></th>\n",
       "      <th></th>\n",
       "      <th></th>\n",
       "      <th></th>\n",
       "      <th></th>\n",
       "    </tr>\n",
       "  </thead>\n",
       "  <tbody>\n",
       "    <tr>\n",
       "      <th>Lionel Messi</th>\n",
       "      <td>Argentina</td>\n",
       "      <td>FC Barcelona</td>\n",
       "      <td>False</td>\n",
       "      <td>1.70</td>\n",
       "      <td>45</td>\n",
       "    </tr>\n",
       "    <tr>\n",
       "      <th>Cristiano Ronaldo</th>\n",
       "      <td>Portugal</td>\n",
       "      <td>Juventus FC</td>\n",
       "      <td>False</td>\n",
       "      <td>1.87</td>\n",
       "      <td>44</td>\n",
       "    </tr>\n",
       "    <tr>\n",
       "      <th>Neymar Junior</th>\n",
       "      <td>Brasil</td>\n",
       "      <td>Paris SG</td>\n",
       "      <td>False</td>\n",
       "      <td>1.75</td>\n",
       "      <td>28</td>\n",
       "    </tr>\n",
       "    <tr>\n",
       "      <th>Kylian Mbappe</th>\n",
       "      <td>France</td>\n",
       "      <td>Paris SG</td>\n",
       "      <td>True</td>\n",
       "      <td>1.78</td>\n",
       "      <td>21</td>\n",
       "    </tr>\n",
       "    <tr>\n",
       "      <th>Manuel Neuer</th>\n",
       "      <td>Germany</td>\n",
       "      <td>FC Bayern</td>\n",
       "      <td>True</td>\n",
       "      <td>1.93</td>\n",
       "      <td>0</td>\n",
       "    </tr>\n",
       "  </tbody>\n",
       "</table>\n",
       "</div>"
      ],
      "text/plain": [
       "                  Nationality          Club  World_Champion  Height  \\\n",
       "Player                                                                \n",
       "Lionel Messi        Argentina  FC Barcelona           False    1.70   \n",
       "Cristiano Ronaldo    Portugal   Juventus FC           False    1.87   \n",
       "Neymar Junior          Brasil      Paris SG           False    1.75   \n",
       "Kylian Mbappe          France      Paris SG            True    1.78   \n",
       "Manuel Neuer          Germany     FC Bayern            True    1.93   \n",
       "\n",
       "                   Goals_2018  \n",
       "Player                         \n",
       "Lionel Messi               45  \n",
       "Cristiano Ronaldo          44  \n",
       "Neymar Junior              28  \n",
       "Kylian Mbappe              21  \n",
       "Manuel Neuer                0  "
      ]
     },
     "execution_count": 16,
     "metadata": {},
     "output_type": "execute_result"
    }
   ],
   "source": [
    "players"
   ]
  },
  {
   "cell_type": "code",
   "execution_count": 17,
   "id": "049f3385-d2cd-4a70-8ba0-79a29c091773",
   "metadata": {},
   "outputs": [],
   "source": [
    "raw_data = list(zip(nationality, club, world_champion, height, goals))"
   ]
  },
  {
   "cell_type": "code",
   "execution_count": 18,
   "id": "df42f278-be24-45e7-842f-0933fea45aed",
   "metadata": {},
   "outputs": [
    {
     "data": {
      "text/plain": [
       "[('Argentina', 'FC Barcelona', False, 1.7, 45),\n",
       " ('Portugal', 'Juventus FC', False, 1.87, 44),\n",
       " ('Brasil', 'Paris SG', False, 1.75, 28),\n",
       " ('France', 'Paris SG', True, 1.78, 21),\n",
       " ('Germany', 'FC Bayern', True, 1.93, 0)]"
      ]
     },
     "execution_count": 18,
     "metadata": {},
     "output_type": "execute_result"
    }
   ],
   "source": [
    "raw_data"
   ]
  },
  {
   "cell_type": "code",
   "execution_count": 19,
   "id": "7a0c5296-f6cc-4394-9758-3395aaad91dc",
   "metadata": {},
   "outputs": [],
   "source": [
    "messi, ronaldo, neymar, mbappe, neuer = raw_data"
   ]
  },
  {
   "cell_type": "code",
   "execution_count": 20,
   "id": "69c23354-73c7-42ad-b655-83ffeae545a8",
   "metadata": {},
   "outputs": [
    {
     "data": {
      "text/plain": [
       "('Argentina', 'FC Barcelona', False, 1.7, 45)"
      ]
     },
     "execution_count": 20,
     "metadata": {},
     "output_type": "execute_result"
    }
   ],
   "source": [
    "messi"
   ]
  },
  {
   "cell_type": "code",
   "execution_count": 21,
   "id": "9eb87652-6e6d-49ae-af89-a2d03529665e",
   "metadata": {},
   "outputs": [],
   "source": [
    "headers = [\"Nationality\", \"Club\", \"World_Champion\", \"Height\", \"Goals_2018\"]"
   ]
  },
  {
   "cell_type": "code",
   "execution_count": 22,
   "id": "9e55694b-0b93-421e-8faa-768696396d47",
   "metadata": {},
   "outputs": [],
   "source": [
    "df_1 = pd.DataFrame(data = raw_data, index = player, columns = headers)"
   ]
  },
  {
   "cell_type": "code",
   "execution_count": 23,
   "id": "e7808e1f-6de7-45db-84e3-e7d21fe6cb66",
   "metadata": {},
   "outputs": [
    {
     "data": {
      "text/html": [
       "<div>\n",
       "<style scoped>\n",
       "    .dataframe tbody tr th:only-of-type {\n",
       "        vertical-align: middle;\n",
       "    }\n",
       "\n",
       "    .dataframe tbody tr th {\n",
       "        vertical-align: top;\n",
       "    }\n",
       "\n",
       "    .dataframe thead th {\n",
       "        text-align: right;\n",
       "    }\n",
       "</style>\n",
       "<table border=\"1\" class=\"dataframe\">\n",
       "  <thead>\n",
       "    <tr style=\"text-align: right;\">\n",
       "      <th></th>\n",
       "      <th>Nationality</th>\n",
       "      <th>Club</th>\n",
       "      <th>World_Champion</th>\n",
       "      <th>Height</th>\n",
       "      <th>Goals_2018</th>\n",
       "    </tr>\n",
       "  </thead>\n",
       "  <tbody>\n",
       "    <tr>\n",
       "      <th>Lionel Messi</th>\n",
       "      <td>Argentina</td>\n",
       "      <td>FC Barcelona</td>\n",
       "      <td>False</td>\n",
       "      <td>1.70</td>\n",
       "      <td>45</td>\n",
       "    </tr>\n",
       "    <tr>\n",
       "      <th>Cristiano Ronaldo</th>\n",
       "      <td>Portugal</td>\n",
       "      <td>Juventus FC</td>\n",
       "      <td>False</td>\n",
       "      <td>1.87</td>\n",
       "      <td>44</td>\n",
       "    </tr>\n",
       "    <tr>\n",
       "      <th>Neymar Junior</th>\n",
       "      <td>Brasil</td>\n",
       "      <td>Paris SG</td>\n",
       "      <td>False</td>\n",
       "      <td>1.75</td>\n",
       "      <td>28</td>\n",
       "    </tr>\n",
       "    <tr>\n",
       "      <th>Kylian Mbappe</th>\n",
       "      <td>France</td>\n",
       "      <td>Paris SG</td>\n",
       "      <td>True</td>\n",
       "      <td>1.78</td>\n",
       "      <td>21</td>\n",
       "    </tr>\n",
       "    <tr>\n",
       "      <th>Manuel Neuer</th>\n",
       "      <td>Germany</td>\n",
       "      <td>FC Bayern</td>\n",
       "      <td>True</td>\n",
       "      <td>1.93</td>\n",
       "      <td>0</td>\n",
       "    </tr>\n",
       "  </tbody>\n",
       "</table>\n",
       "</div>"
      ],
      "text/plain": [
       "                  Nationality          Club  World_Champion  Height  \\\n",
       "Lionel Messi        Argentina  FC Barcelona           False    1.70   \n",
       "Cristiano Ronaldo    Portugal   Juventus FC           False    1.87   \n",
       "Neymar Junior          Brasil      Paris SG           False    1.75   \n",
       "Kylian Mbappe          France      Paris SG            True    1.78   \n",
       "Manuel Neuer          Germany     FC Bayern            True    1.93   \n",
       "\n",
       "                   Goals_2018  \n",
       "Lionel Messi               45  \n",
       "Cristiano Ronaldo          44  \n",
       "Neymar Junior              28  \n",
       "Kylian Mbappe              21  \n",
       "Manuel Neuer                0  "
      ]
     },
     "execution_count": 23,
     "metadata": {},
     "output_type": "execute_result"
    }
   ],
   "source": [
    "df_1"
   ]
  },
  {
   "cell_type": "code",
   "execution_count": 24,
   "id": "3e170975-b7a0-4a2e-b261-637e72e0198a",
   "metadata": {},
   "outputs": [],
   "source": [
    "df_2 = pd.DataFrame(data = [messi, ronaldo, neymar, mbappe, neuer], index = player, columns = headers)"
   ]
  },
  {
   "cell_type": "code",
   "execution_count": 25,
   "id": "7bc4e0a1-4dae-4e48-99ac-71452c25f90b",
   "metadata": {},
   "outputs": [
    {
     "data": {
      "text/html": [
       "<div>\n",
       "<style scoped>\n",
       "    .dataframe tbody tr th:only-of-type {\n",
       "        vertical-align: middle;\n",
       "    }\n",
       "\n",
       "    .dataframe tbody tr th {\n",
       "        vertical-align: top;\n",
       "    }\n",
       "\n",
       "    .dataframe thead th {\n",
       "        text-align: right;\n",
       "    }\n",
       "</style>\n",
       "<table border=\"1\" class=\"dataframe\">\n",
       "  <thead>\n",
       "    <tr style=\"text-align: right;\">\n",
       "      <th></th>\n",
       "      <th>Nationality</th>\n",
       "      <th>Club</th>\n",
       "      <th>World_Champion</th>\n",
       "      <th>Height</th>\n",
       "      <th>Goals_2018</th>\n",
       "    </tr>\n",
       "  </thead>\n",
       "  <tbody>\n",
       "    <tr>\n",
       "      <th>Lionel Messi</th>\n",
       "      <td>Argentina</td>\n",
       "      <td>FC Barcelona</td>\n",
       "      <td>False</td>\n",
       "      <td>1.70</td>\n",
       "      <td>45</td>\n",
       "    </tr>\n",
       "    <tr>\n",
       "      <th>Cristiano Ronaldo</th>\n",
       "      <td>Portugal</td>\n",
       "      <td>Juventus FC</td>\n",
       "      <td>False</td>\n",
       "      <td>1.87</td>\n",
       "      <td>44</td>\n",
       "    </tr>\n",
       "    <tr>\n",
       "      <th>Neymar Junior</th>\n",
       "      <td>Brasil</td>\n",
       "      <td>Paris SG</td>\n",
       "      <td>False</td>\n",
       "      <td>1.75</td>\n",
       "      <td>28</td>\n",
       "    </tr>\n",
       "    <tr>\n",
       "      <th>Kylian Mbappe</th>\n",
       "      <td>France</td>\n",
       "      <td>Paris SG</td>\n",
       "      <td>True</td>\n",
       "      <td>1.78</td>\n",
       "      <td>21</td>\n",
       "    </tr>\n",
       "    <tr>\n",
       "      <th>Manuel Neuer</th>\n",
       "      <td>Germany</td>\n",
       "      <td>FC Bayern</td>\n",
       "      <td>True</td>\n",
       "      <td>1.93</td>\n",
       "      <td>0</td>\n",
       "    </tr>\n",
       "  </tbody>\n",
       "</table>\n",
       "</div>"
      ],
      "text/plain": [
       "                  Nationality          Club  World_Champion  Height  \\\n",
       "Lionel Messi        Argentina  FC Barcelona           False    1.70   \n",
       "Cristiano Ronaldo    Portugal   Juventus FC           False    1.87   \n",
       "Neymar Junior          Brasil      Paris SG           False    1.75   \n",
       "Kylian Mbappe          France      Paris SG            True    1.78   \n",
       "Manuel Neuer          Germany     FC Bayern            True    1.93   \n",
       "\n",
       "                   Goals_2018  \n",
       "Lionel Messi               45  \n",
       "Cristiano Ronaldo          44  \n",
       "Neymar Junior              28  \n",
       "Kylian Mbappe              21  \n",
       "Manuel Neuer                0  "
      ]
     },
     "execution_count": 25,
     "metadata": {},
     "output_type": "execute_result"
    }
   ],
   "source": [
    "df_2"
   ]
  },
  {
   "cell_type": "code",
   "execution_count": 26,
   "id": "612aa566-65da-4252-a4e2-3e4993ae1a01",
   "metadata": {},
   "outputs": [],
   "source": [
    "df_3 = pd.Series(index = player, data = nationality, name = 'Nationality').to_frame()"
   ]
  },
  {
   "cell_type": "code",
   "execution_count": 27,
   "id": "1ad98755-0809-429f-a3f3-b5bf2800e530",
   "metadata": {},
   "outputs": [
    {
     "data": {
      "text/html": [
       "<div>\n",
       "<style scoped>\n",
       "    .dataframe tbody tr th:only-of-type {\n",
       "        vertical-align: middle;\n",
       "    }\n",
       "\n",
       "    .dataframe tbody tr th {\n",
       "        vertical-align: top;\n",
       "    }\n",
       "\n",
       "    .dataframe thead th {\n",
       "        text-align: right;\n",
       "    }\n",
       "</style>\n",
       "<table border=\"1\" class=\"dataframe\">\n",
       "  <thead>\n",
       "    <tr style=\"text-align: right;\">\n",
       "      <th></th>\n",
       "      <th>Nationality</th>\n",
       "    </tr>\n",
       "  </thead>\n",
       "  <tbody>\n",
       "    <tr>\n",
       "      <th>Lionel Messi</th>\n",
       "      <td>Argentina</td>\n",
       "    </tr>\n",
       "    <tr>\n",
       "      <th>Cristiano Ronaldo</th>\n",
       "      <td>Portugal</td>\n",
       "    </tr>\n",
       "    <tr>\n",
       "      <th>Neymar Junior</th>\n",
       "      <td>Brasil</td>\n",
       "    </tr>\n",
       "    <tr>\n",
       "      <th>Kylian Mbappe</th>\n",
       "      <td>France</td>\n",
       "    </tr>\n",
       "    <tr>\n",
       "      <th>Manuel Neuer</th>\n",
       "      <td>Germany</td>\n",
       "    </tr>\n",
       "  </tbody>\n",
       "</table>\n",
       "</div>"
      ],
      "text/plain": [
       "                  Nationality\n",
       "Lionel Messi        Argentina\n",
       "Cristiano Ronaldo    Portugal\n",
       "Neymar Junior          Brasil\n",
       "Kylian Mbappe          France\n",
       "Manuel Neuer          Germany"
      ]
     },
     "execution_count": 27,
     "metadata": {},
     "output_type": "execute_result"
    }
   ],
   "source": [
    "df_3"
   ]
  },
  {
   "cell_type": "code",
   "execution_count": 28,
   "id": "ad71e2b8-0af5-41ba-8d78-c6a7fa78d8c9",
   "metadata": {},
   "outputs": [],
   "source": [
    "df_3['Club'] = club"
   ]
  },
  {
   "cell_type": "code",
   "execution_count": 29,
   "id": "f85939fe-f8f1-4d69-b0a0-08ae8a01a814",
   "metadata": {},
   "outputs": [
    {
     "data": {
      "text/html": [
       "<div>\n",
       "<style scoped>\n",
       "    .dataframe tbody tr th:only-of-type {\n",
       "        vertical-align: middle;\n",
       "    }\n",
       "\n",
       "    .dataframe tbody tr th {\n",
       "        vertical-align: top;\n",
       "    }\n",
       "\n",
       "    .dataframe thead th {\n",
       "        text-align: right;\n",
       "    }\n",
       "</style>\n",
       "<table border=\"1\" class=\"dataframe\">\n",
       "  <thead>\n",
       "    <tr style=\"text-align: right;\">\n",
       "      <th></th>\n",
       "      <th>Nationality</th>\n",
       "      <th>Club</th>\n",
       "    </tr>\n",
       "  </thead>\n",
       "  <tbody>\n",
       "    <tr>\n",
       "      <th>Lionel Messi</th>\n",
       "      <td>Argentina</td>\n",
       "      <td>FC Barcelona</td>\n",
       "    </tr>\n",
       "    <tr>\n",
       "      <th>Cristiano Ronaldo</th>\n",
       "      <td>Portugal</td>\n",
       "      <td>Juventus FC</td>\n",
       "    </tr>\n",
       "    <tr>\n",
       "      <th>Neymar Junior</th>\n",
       "      <td>Brasil</td>\n",
       "      <td>Paris SG</td>\n",
       "    </tr>\n",
       "    <tr>\n",
       "      <th>Kylian Mbappe</th>\n",
       "      <td>France</td>\n",
       "      <td>Paris SG</td>\n",
       "    </tr>\n",
       "    <tr>\n",
       "      <th>Manuel Neuer</th>\n",
       "      <td>Germany</td>\n",
       "      <td>FC Bayern</td>\n",
       "    </tr>\n",
       "  </tbody>\n",
       "</table>\n",
       "</div>"
      ],
      "text/plain": [
       "                  Nationality          Club\n",
       "Lionel Messi        Argentina  FC Barcelona\n",
       "Cristiano Ronaldo    Portugal   Juventus FC\n",
       "Neymar Junior          Brasil      Paris SG\n",
       "Kylian Mbappe          France      Paris SG\n",
       "Manuel Neuer          Germany     FC Bayern"
      ]
     },
     "execution_count": 29,
     "metadata": {},
     "output_type": "execute_result"
    }
   ],
   "source": [
    "df_3"
   ]
  },
  {
   "cell_type": "markdown",
   "id": "6e7e190b-8ee4-475e-9ebb-8b7fe3da4fcc",
   "metadata": {},
   "source": [
    "## **Adding new Rows (hands-on approach)**"
   ]
  },
  {
   "cell_type": "code",
   "execution_count": 30,
   "id": "705fd677-155c-412b-8cab-cb3d3719cecd",
   "metadata": {},
   "outputs": [],
   "source": [
    "players.reset_index(inplace = True)"
   ]
  },
  {
   "cell_type": "code",
   "execution_count": 31,
   "id": "f9c9455c-785a-4cbb-a9fe-d495863f2947",
   "metadata": {},
   "outputs": [
    {
     "data": {
      "text/html": [
       "<div>\n",
       "<style scoped>\n",
       "    .dataframe tbody tr th:only-of-type {\n",
       "        vertical-align: middle;\n",
       "    }\n",
       "\n",
       "    .dataframe tbody tr th {\n",
       "        vertical-align: top;\n",
       "    }\n",
       "\n",
       "    .dataframe thead th {\n",
       "        text-align: right;\n",
       "    }\n",
       "</style>\n",
       "<table border=\"1\" class=\"dataframe\">\n",
       "  <thead>\n",
       "    <tr style=\"text-align: right;\">\n",
       "      <th></th>\n",
       "      <th>Player</th>\n",
       "      <th>Nationality</th>\n",
       "      <th>Club</th>\n",
       "      <th>World_Champion</th>\n",
       "      <th>Height</th>\n",
       "      <th>Goals_2018</th>\n",
       "    </tr>\n",
       "  </thead>\n",
       "  <tbody>\n",
       "    <tr>\n",
       "      <th>0</th>\n",
       "      <td>Lionel Messi</td>\n",
       "      <td>Argentina</td>\n",
       "      <td>FC Barcelona</td>\n",
       "      <td>False</td>\n",
       "      <td>1.70</td>\n",
       "      <td>45</td>\n",
       "    </tr>\n",
       "    <tr>\n",
       "      <th>1</th>\n",
       "      <td>Cristiano Ronaldo</td>\n",
       "      <td>Portugal</td>\n",
       "      <td>Juventus FC</td>\n",
       "      <td>False</td>\n",
       "      <td>1.87</td>\n",
       "      <td>44</td>\n",
       "    </tr>\n",
       "    <tr>\n",
       "      <th>2</th>\n",
       "      <td>Neymar Junior</td>\n",
       "      <td>Brasil</td>\n",
       "      <td>Paris SG</td>\n",
       "      <td>False</td>\n",
       "      <td>1.75</td>\n",
       "      <td>28</td>\n",
       "    </tr>\n",
       "    <tr>\n",
       "      <th>3</th>\n",
       "      <td>Kylian Mbappe</td>\n",
       "      <td>France</td>\n",
       "      <td>Paris SG</td>\n",
       "      <td>True</td>\n",
       "      <td>1.78</td>\n",
       "      <td>21</td>\n",
       "    </tr>\n",
       "    <tr>\n",
       "      <th>4</th>\n",
       "      <td>Manuel Neuer</td>\n",
       "      <td>Germany</td>\n",
       "      <td>FC Bayern</td>\n",
       "      <td>True</td>\n",
       "      <td>1.93</td>\n",
       "      <td>0</td>\n",
       "    </tr>\n",
       "  </tbody>\n",
       "</table>\n",
       "</div>"
      ],
      "text/plain": [
       "              Player Nationality          Club  World_Champion  Height  \\\n",
       "0       Lionel Messi   Argentina  FC Barcelona           False    1.70   \n",
       "1  Cristiano Ronaldo    Portugal   Juventus FC           False    1.87   \n",
       "2      Neymar Junior      Brasil      Paris SG           False    1.75   \n",
       "3      Kylian Mbappe      France      Paris SG            True    1.78   \n",
       "4       Manuel Neuer     Germany     FC Bayern            True    1.93   \n",
       "\n",
       "   Goals_2018  \n",
       "0          45  \n",
       "1          44  \n",
       "2          28  \n",
       "3          21  \n",
       "4           0  "
      ]
     },
     "execution_count": 31,
     "metadata": {},
     "output_type": "execute_result"
    }
   ],
   "source": [
    "players"
   ]
  },
  {
   "cell_type": "code",
   "execution_count": 32,
   "id": "40ec624c-ec4e-47b4-b620-e43e8fb93a7d",
   "metadata": {},
   "outputs": [],
   "source": [
    "players.loc[5, :] = ['Berbatov', 'Bulgaria', 'Man Utd', 'False', 1.88, 0]"
   ]
  },
  {
   "cell_type": "code",
   "execution_count": 33,
   "id": "b94ec365-f028-48ca-9081-c2b4830aeae1",
   "metadata": {},
   "outputs": [
    {
     "data": {
      "text/html": [
       "<div>\n",
       "<style scoped>\n",
       "    .dataframe tbody tr th:only-of-type {\n",
       "        vertical-align: middle;\n",
       "    }\n",
       "\n",
       "    .dataframe tbody tr th {\n",
       "        vertical-align: top;\n",
       "    }\n",
       "\n",
       "    .dataframe thead th {\n",
       "        text-align: right;\n",
       "    }\n",
       "</style>\n",
       "<table border=\"1\" class=\"dataframe\">\n",
       "  <thead>\n",
       "    <tr style=\"text-align: right;\">\n",
       "      <th></th>\n",
       "      <th>Player</th>\n",
       "      <th>Nationality</th>\n",
       "      <th>Club</th>\n",
       "      <th>World_Champion</th>\n",
       "      <th>Height</th>\n",
       "      <th>Goals_2018</th>\n",
       "    </tr>\n",
       "  </thead>\n",
       "  <tbody>\n",
       "    <tr>\n",
       "      <th>0</th>\n",
       "      <td>Lionel Messi</td>\n",
       "      <td>Argentina</td>\n",
       "      <td>FC Barcelona</td>\n",
       "      <td>False</td>\n",
       "      <td>1.70</td>\n",
       "      <td>45.0</td>\n",
       "    </tr>\n",
       "    <tr>\n",
       "      <th>1</th>\n",
       "      <td>Cristiano Ronaldo</td>\n",
       "      <td>Portugal</td>\n",
       "      <td>Juventus FC</td>\n",
       "      <td>False</td>\n",
       "      <td>1.87</td>\n",
       "      <td>44.0</td>\n",
       "    </tr>\n",
       "    <tr>\n",
       "      <th>2</th>\n",
       "      <td>Neymar Junior</td>\n",
       "      <td>Brasil</td>\n",
       "      <td>Paris SG</td>\n",
       "      <td>False</td>\n",
       "      <td>1.75</td>\n",
       "      <td>28.0</td>\n",
       "    </tr>\n",
       "    <tr>\n",
       "      <th>3</th>\n",
       "      <td>Kylian Mbappe</td>\n",
       "      <td>France</td>\n",
       "      <td>Paris SG</td>\n",
       "      <td>True</td>\n",
       "      <td>1.78</td>\n",
       "      <td>21.0</td>\n",
       "    </tr>\n",
       "    <tr>\n",
       "      <th>4</th>\n",
       "      <td>Manuel Neuer</td>\n",
       "      <td>Germany</td>\n",
       "      <td>FC Bayern</td>\n",
       "      <td>True</td>\n",
       "      <td>1.93</td>\n",
       "      <td>0.0</td>\n",
       "    </tr>\n",
       "    <tr>\n",
       "      <th>5</th>\n",
       "      <td>Berbatov</td>\n",
       "      <td>Bulgaria</td>\n",
       "      <td>Man Utd</td>\n",
       "      <td>False</td>\n",
       "      <td>1.88</td>\n",
       "      <td>0.0</td>\n",
       "    </tr>\n",
       "  </tbody>\n",
       "</table>\n",
       "</div>"
      ],
      "text/plain": [
       "              Player Nationality          Club World_Champion  Height  \\\n",
       "0       Lionel Messi   Argentina  FC Barcelona          False    1.70   \n",
       "1  Cristiano Ronaldo    Portugal   Juventus FC          False    1.87   \n",
       "2      Neymar Junior      Brasil      Paris SG          False    1.75   \n",
       "3      Kylian Mbappe      France      Paris SG           True    1.78   \n",
       "4       Manuel Neuer     Germany     FC Bayern           True    1.93   \n",
       "5           Berbatov    Bulgaria       Man Utd          False    1.88   \n",
       "\n",
       "   Goals_2018  \n",
       "0        45.0  \n",
       "1        44.0  \n",
       "2        28.0  \n",
       "3        21.0  \n",
       "4         0.0  \n",
       "5         0.0  "
      ]
     },
     "execution_count": 33,
     "metadata": {},
     "output_type": "execute_result"
    }
   ],
   "source": [
    "players"
   ]
  },
  {
   "cell_type": "code",
   "execution_count": 34,
   "id": "45a9c256-5d1b-4a1e-b653-34f9d0499580",
   "metadata": {},
   "outputs": [],
   "source": [
    "new = pd.DataFrame(data = [['Stoichkov', 'Bulgaria', ' FC Barcelona', 'False', 1.80, 0],\n",
    "                           ['van Basten', 'Netherlands', 'FC Milan', 'False', 1.90, 0]],\n",
    "                   columns = players.columns)"
   ]
  },
  {
   "cell_type": "code",
   "execution_count": 35,
   "id": "48484f21-bb9f-4bb8-a79d-44365ab37cee",
   "metadata": {},
   "outputs": [
    {
     "data": {
      "text/html": [
       "<div>\n",
       "<style scoped>\n",
       "    .dataframe tbody tr th:only-of-type {\n",
       "        vertical-align: middle;\n",
       "    }\n",
       "\n",
       "    .dataframe tbody tr th {\n",
       "        vertical-align: top;\n",
       "    }\n",
       "\n",
       "    .dataframe thead th {\n",
       "        text-align: right;\n",
       "    }\n",
       "</style>\n",
       "<table border=\"1\" class=\"dataframe\">\n",
       "  <thead>\n",
       "    <tr style=\"text-align: right;\">\n",
       "      <th></th>\n",
       "      <th>Player</th>\n",
       "      <th>Nationality</th>\n",
       "      <th>Club</th>\n",
       "      <th>World_Champion</th>\n",
       "      <th>Height</th>\n",
       "      <th>Goals_2018</th>\n",
       "    </tr>\n",
       "  </thead>\n",
       "  <tbody>\n",
       "    <tr>\n",
       "      <th>0</th>\n",
       "      <td>Stoichkov</td>\n",
       "      <td>Bulgaria</td>\n",
       "      <td>FC Barcelona</td>\n",
       "      <td>False</td>\n",
       "      <td>1.8</td>\n",
       "      <td>0</td>\n",
       "    </tr>\n",
       "    <tr>\n",
       "      <th>1</th>\n",
       "      <td>van Basten</td>\n",
       "      <td>Netherlands</td>\n",
       "      <td>FC Milan</td>\n",
       "      <td>False</td>\n",
       "      <td>1.9</td>\n",
       "      <td>0</td>\n",
       "    </tr>\n",
       "  </tbody>\n",
       "</table>\n",
       "</div>"
      ],
      "text/plain": [
       "       Player  Nationality           Club World_Champion  Height  Goals_2018\n",
       "0   Stoichkov     Bulgaria   FC Barcelona          False     1.8           0\n",
       "1  van Basten  Netherlands       FC Milan          False     1.9           0"
      ]
     },
     "execution_count": 35,
     "metadata": {},
     "output_type": "execute_result"
    }
   ],
   "source": [
    "new"
   ]
  },
  {
   "cell_type": "code",
   "execution_count": 42,
   "id": "f541472a-c5b8-4fca-8560-1322ded1f50a",
   "metadata": {},
   "outputs": [],
   "source": [
    "mixed_df = pd.concat([players, new], ignore_index = True)"
   ]
  },
  {
   "cell_type": "code",
   "execution_count": 43,
   "id": "0eace023-e5e2-4112-83be-f4d4a004091a",
   "metadata": {},
   "outputs": [
    {
     "data": {
      "text/html": [
       "<div>\n",
       "<style scoped>\n",
       "    .dataframe tbody tr th:only-of-type {\n",
       "        vertical-align: middle;\n",
       "    }\n",
       "\n",
       "    .dataframe tbody tr th {\n",
       "        vertical-align: top;\n",
       "    }\n",
       "\n",
       "    .dataframe thead th {\n",
       "        text-align: right;\n",
       "    }\n",
       "</style>\n",
       "<table border=\"1\" class=\"dataframe\">\n",
       "  <thead>\n",
       "    <tr style=\"text-align: right;\">\n",
       "      <th></th>\n",
       "      <th>Player</th>\n",
       "      <th>Nationality</th>\n",
       "      <th>Club</th>\n",
       "      <th>World_Champion</th>\n",
       "      <th>Height</th>\n",
       "      <th>Goals_2018</th>\n",
       "    </tr>\n",
       "  </thead>\n",
       "  <tbody>\n",
       "    <tr>\n",
       "      <th>0</th>\n",
       "      <td>Lionel Messi</td>\n",
       "      <td>Argentina</td>\n",
       "      <td>FC Barcelona</td>\n",
       "      <td>False</td>\n",
       "      <td>1.70</td>\n",
       "      <td>45.0</td>\n",
       "    </tr>\n",
       "    <tr>\n",
       "      <th>1</th>\n",
       "      <td>Cristiano Ronaldo</td>\n",
       "      <td>Portugal</td>\n",
       "      <td>Juventus FC</td>\n",
       "      <td>False</td>\n",
       "      <td>1.87</td>\n",
       "      <td>44.0</td>\n",
       "    </tr>\n",
       "    <tr>\n",
       "      <th>2</th>\n",
       "      <td>Neymar Junior</td>\n",
       "      <td>Brasil</td>\n",
       "      <td>Paris SG</td>\n",
       "      <td>False</td>\n",
       "      <td>1.75</td>\n",
       "      <td>28.0</td>\n",
       "    </tr>\n",
       "    <tr>\n",
       "      <th>3</th>\n",
       "      <td>Kylian Mbappe</td>\n",
       "      <td>France</td>\n",
       "      <td>Paris SG</td>\n",
       "      <td>True</td>\n",
       "      <td>1.78</td>\n",
       "      <td>21.0</td>\n",
       "    </tr>\n",
       "    <tr>\n",
       "      <th>4</th>\n",
       "      <td>Manuel Neuer</td>\n",
       "      <td>Germany</td>\n",
       "      <td>FC Bayern</td>\n",
       "      <td>True</td>\n",
       "      <td>1.93</td>\n",
       "      <td>0.0</td>\n",
       "    </tr>\n",
       "    <tr>\n",
       "      <th>5</th>\n",
       "      <td>Berbatov</td>\n",
       "      <td>Bulgaria</td>\n",
       "      <td>Man Utd</td>\n",
       "      <td>False</td>\n",
       "      <td>1.88</td>\n",
       "      <td>0.0</td>\n",
       "    </tr>\n",
       "    <tr>\n",
       "      <th>6</th>\n",
       "      <td>Stoichkov</td>\n",
       "      <td>Bulgaria</td>\n",
       "      <td>FC Barcelona</td>\n",
       "      <td>False</td>\n",
       "      <td>1.80</td>\n",
       "      <td>0.0</td>\n",
       "    </tr>\n",
       "    <tr>\n",
       "      <th>7</th>\n",
       "      <td>van Basten</td>\n",
       "      <td>Netherlands</td>\n",
       "      <td>FC Milan</td>\n",
       "      <td>False</td>\n",
       "      <td>1.90</td>\n",
       "      <td>0.0</td>\n",
       "    </tr>\n",
       "  </tbody>\n",
       "</table>\n",
       "</div>"
      ],
      "text/plain": [
       "              Player  Nationality           Club World_Champion  Height  \\\n",
       "0       Lionel Messi    Argentina   FC Barcelona          False    1.70   \n",
       "1  Cristiano Ronaldo     Portugal    Juventus FC          False    1.87   \n",
       "2      Neymar Junior       Brasil       Paris SG          False    1.75   \n",
       "3      Kylian Mbappe       France       Paris SG           True    1.78   \n",
       "4       Manuel Neuer      Germany      FC Bayern           True    1.93   \n",
       "5           Berbatov     Bulgaria        Man Utd          False    1.88   \n",
       "6          Stoichkov     Bulgaria   FC Barcelona          False    1.80   \n",
       "7         van Basten  Netherlands       FC Milan          False    1.90   \n",
       "\n",
       "   Goals_2018  \n",
       "0        45.0  \n",
       "1        44.0  \n",
       "2        28.0  \n",
       "3        21.0  \n",
       "4         0.0  \n",
       "5         0.0  \n",
       "6         0.0  \n",
       "7         0.0  "
      ]
     },
     "execution_count": 43,
     "metadata": {},
     "output_type": "execute_result"
    }
   ],
   "source": [
    "mixed_df"
   ]
  },
  {
   "cell_type": "code",
   "execution_count": 38,
   "id": "63d2eebf-cc92-4e63-8844-114c471fb494",
   "metadata": {},
   "outputs": [],
   "source": [
    "mixed_df.set_index('Player', inplace = True)"
   ]
  },
  {
   "cell_type": "code",
   "execution_count": 39,
   "id": "8861b42d-ee41-49dd-b292-c325fbf46abf",
   "metadata": {},
   "outputs": [
    {
     "data": {
      "text/html": [
       "<div>\n",
       "<style scoped>\n",
       "    .dataframe tbody tr th:only-of-type {\n",
       "        vertical-align: middle;\n",
       "    }\n",
       "\n",
       "    .dataframe tbody tr th {\n",
       "        vertical-align: top;\n",
       "    }\n",
       "\n",
       "    .dataframe thead th {\n",
       "        text-align: right;\n",
       "    }\n",
       "</style>\n",
       "<table border=\"1\" class=\"dataframe\">\n",
       "  <thead>\n",
       "    <tr style=\"text-align: right;\">\n",
       "      <th></th>\n",
       "      <th>Nationality</th>\n",
       "      <th>Club</th>\n",
       "      <th>World_Champion</th>\n",
       "      <th>Height</th>\n",
       "      <th>Goals_2018</th>\n",
       "    </tr>\n",
       "    <tr>\n",
       "      <th>Player</th>\n",
       "      <th></th>\n",
       "      <th></th>\n",
       "      <th></th>\n",
       "      <th></th>\n",
       "      <th></th>\n",
       "    </tr>\n",
       "  </thead>\n",
       "  <tbody>\n",
       "    <tr>\n",
       "      <th>Lionel Messi</th>\n",
       "      <td>Argentina</td>\n",
       "      <td>FC Barcelona</td>\n",
       "      <td>False</td>\n",
       "      <td>1.70</td>\n",
       "      <td>45.0</td>\n",
       "    </tr>\n",
       "    <tr>\n",
       "      <th>Cristiano Ronaldo</th>\n",
       "      <td>Portugal</td>\n",
       "      <td>Juventus FC</td>\n",
       "      <td>False</td>\n",
       "      <td>1.87</td>\n",
       "      <td>44.0</td>\n",
       "    </tr>\n",
       "    <tr>\n",
       "      <th>Neymar Junior</th>\n",
       "      <td>Brasil</td>\n",
       "      <td>Paris SG</td>\n",
       "      <td>False</td>\n",
       "      <td>1.75</td>\n",
       "      <td>28.0</td>\n",
       "    </tr>\n",
       "    <tr>\n",
       "      <th>Kylian Mbappe</th>\n",
       "      <td>France</td>\n",
       "      <td>Paris SG</td>\n",
       "      <td>True</td>\n",
       "      <td>1.78</td>\n",
       "      <td>21.0</td>\n",
       "    </tr>\n",
       "    <tr>\n",
       "      <th>Manuel Neuer</th>\n",
       "      <td>Germany</td>\n",
       "      <td>FC Bayern</td>\n",
       "      <td>True</td>\n",
       "      <td>1.93</td>\n",
       "      <td>0.0</td>\n",
       "    </tr>\n",
       "    <tr>\n",
       "      <th>Berbatov</th>\n",
       "      <td>Bulgaria</td>\n",
       "      <td>Man Utd</td>\n",
       "      <td>False</td>\n",
       "      <td>1.88</td>\n",
       "      <td>0.0</td>\n",
       "    </tr>\n",
       "    <tr>\n",
       "      <th>Stoichkov</th>\n",
       "      <td>Bulgaria</td>\n",
       "      <td>FC Barcelona</td>\n",
       "      <td>False</td>\n",
       "      <td>1.80</td>\n",
       "      <td>0.0</td>\n",
       "    </tr>\n",
       "    <tr>\n",
       "      <th>van Basten</th>\n",
       "      <td>Netherlands</td>\n",
       "      <td>FC Milan</td>\n",
       "      <td>False</td>\n",
       "      <td>1.90</td>\n",
       "      <td>0.0</td>\n",
       "    </tr>\n",
       "  </tbody>\n",
       "</table>\n",
       "</div>"
      ],
      "text/plain": [
       "                   Nationality           Club World_Champion  Height  \\\n",
       "Player                                                                 \n",
       "Lionel Messi         Argentina   FC Barcelona          False    1.70   \n",
       "Cristiano Ronaldo     Portugal    Juventus FC          False    1.87   \n",
       "Neymar Junior           Brasil       Paris SG          False    1.75   \n",
       "Kylian Mbappe           France       Paris SG           True    1.78   \n",
       "Manuel Neuer           Germany      FC Bayern           True    1.93   \n",
       "Berbatov              Bulgaria        Man Utd          False    1.88   \n",
       "Stoichkov             Bulgaria   FC Barcelona          False    1.80   \n",
       "van Basten         Netherlands       FC Milan          False    1.90   \n",
       "\n",
       "                   Goals_2018  \n",
       "Player                         \n",
       "Lionel Messi             45.0  \n",
       "Cristiano Ronaldo        44.0  \n",
       "Neymar Junior            28.0  \n",
       "Kylian Mbappe            21.0  \n",
       "Manuel Neuer              0.0  \n",
       "Berbatov                  0.0  \n",
       "Stoichkov                 0.0  \n",
       "van Basten                0.0  "
      ]
     },
     "execution_count": 39,
     "metadata": {},
     "output_type": "execute_result"
    }
   ],
   "source": [
    "mixed_df"
   ]
  },
  {
   "cell_type": "code",
   "execution_count": null,
   "id": "fb22aa71-3f37-4224-854a-44e86aefaa85",
   "metadata": {},
   "outputs": [],
   "source": []
  }
 ],
 "metadata": {
  "kernelspec": {
   "display_name": "Python 3 (ipykernel)",
   "language": "python",
   "name": "python3"
  },
  "language_info": {
   "codemirror_mode": {
    "name": "ipython",
    "version": 3
   },
   "file_extension": ".py",
   "mimetype": "text/x-python",
   "name": "python",
   "nbconvert_exporter": "python",
   "pygments_lexer": "ipython3",
   "version": "3.11.7"
  }
 },
 "nbformat": 4,
 "nbformat_minor": 5
}
