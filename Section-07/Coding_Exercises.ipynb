{
 "cells": [
  {
   "cell_type": "markdown",
   "id": "3d940ff8-182f-48b0-9855-f3f6323188b2",
   "metadata": {
    "jp-MarkdownHeadingCollapsed": true
   },
   "source": [
    "## **Coding Exercise 18:** Filtering with one Condition"
   ]
  },
  {
   "cell_type": "markdown",
   "id": "de8155e6-9659-43f2-bec8-6099c0d8718f",
   "metadata": {},
   "source": [
    "#### **The Problem:**"
   ]
  },
  {
   "cell_type": "markdown",
   "id": "39c8bec5-657a-4133-8777-cc118ba1552b",
   "metadata": {},
   "source": [
    "Filter df for the Sport \"Volleyball\" and save the subset (with all columns) in the variable volley (you may print volley as well). "
   ]
  },
  {
   "cell_type": "markdown",
   "id": "637d959d-71a6-4e57-8726-e4ab1bde5be3",
   "metadata": {},
   "source": [
    "#### **The Solution:**"
   ]
  },
  {
   "cell_type": "code",
   "execution_count": null,
   "id": "66545400-c9ed-4b0d-9e13-7d46780254e9",
   "metadata": {},
   "outputs": [],
   "source": [
    "import pandas as pd"
   ]
  },
  {
   "cell_type": "code",
   "execution_count": null,
   "id": "2bb3c9c3-3b84-4d39-9e88-3e83012f7b83",
   "metadata": {},
   "outputs": [],
   "source": [
    "summer = pd.read_csv('summer.csv')"
   ]
  },
  {
   "cell_type": "code",
   "execution_count": null,
   "id": "3e46e67b-0fb2-47c7-aeea-556c17f7a140",
   "metadata": {},
   "outputs": [],
   "source": [
    "summer.head()"
   ]
  },
  {
   "cell_type": "code",
   "execution_count": null,
   "id": "8783854b-b82b-49ac-a6fe-a453825009cd",
   "metadata": {},
   "outputs": [],
   "source": [
    "volley_filter = summer[\"Sport\"] == \"Volleyball\"\n",
    "volley = summer.loc[volley_filter]\n",
    "volley.head()"
   ]
  },
  {
   "cell_type": "markdown",
   "id": "6715d93b-bf93-4545-afab-15e03d56b93b",
   "metadata": {},
   "source": [
    "## **Coding Exercise 19:** Filtering with many Conditions"
   ]
  },
  {
   "cell_type": "markdown",
   "id": "e8b2dbba-7aa2-4550-852c-40fccfaa33e6",
   "metadata": {},
   "source": [
    "#### **The Problem:**"
   ]
  },
  {
   "cell_type": "markdown",
   "id": "128a24c4-3ddd-4dda-8560-c7f81b97a76a",
   "metadata": {},
   "source": [
    "Filter df for all \"Gold\" Medal winners in the Sport \"Volleyball\" (all columns). Save the subset in the variable gold_volley (you may print gold_volley as well).  "
   ]
  },
  {
   "cell_type": "markdown",
   "id": "a0f7b6ae-49a8-4532-8950-4fe46c89cc78",
   "metadata": {},
   "source": [
    "#### **The Solution:**"
   ]
  },
  {
   "cell_type": "code",
   "execution_count": null,
   "id": "aee44a00-4e0a-46cf-83b8-5d38dbfcbaca",
   "metadata": {},
   "outputs": [],
   "source": [
    "import pandas as pd"
   ]
  },
  {
   "cell_type": "code",
   "execution_count": null,
   "id": "6f54b222-b163-4c75-b54c-83b866c27970",
   "metadata": {},
   "outputs": [],
   "source": [
    "summer = pd.read_csv(\"summer.csv\")"
   ]
  },
  {
   "cell_type": "code",
   "execution_count": null,
   "id": "77294a71-7a00-448d-9990-d18a59e1f9ae",
   "metadata": {},
   "outputs": [],
   "source": [
    "summer.head()"
   ]
  },
  {
   "cell_type": "code",
   "execution_count": null,
   "id": "d31ec174-c276-4b32-8135-5ae477ba0744",
   "metadata": {},
   "outputs": [],
   "source": [
    "sport = summer['Sport'] == \"Volleyball\"\n",
    "medal = summer['Medal'] == \"Gold\""
   ]
  },
  {
   "cell_type": "code",
   "execution_count": null,
   "id": "ad670b87-e6a6-458c-85ff-08a7752184ed",
   "metadata": {},
   "outputs": [],
   "source": [
    "gold_volley = summer.loc[sport & medal]\n",
    "gold_volley.head()"
   ]
  },
  {
   "cell_type": "markdown",
   "id": "a36636b5-95ef-4ebc-b925-b77bbf2b739e",
   "metadata": {},
   "source": [
    "## **Coding Exercise 20:** Advanced Filtering"
   ]
  },
  {
   "cell_type": "markdown",
   "id": "383d5ca5-f380-4c94-ac21-237923b870e1",
   "metadata": {},
   "source": [
    "#### **The Problem:**"
   ]
  },
  {
   "cell_type": "markdown",
   "id": "e94c143d-4a58-4c08-b84e-9e19d645ee7e",
   "metadata": {},
   "source": [
    "Filter df for all Athletes from Italy (ITA), France (FRA), Spain (ESP), and the United States (USA) (all columns). Save the subset in the variable subset (you may print subset as well). "
   ]
  },
  {
   "cell_type": "markdown",
   "id": "c1242f3e-b2b9-427b-ac72-38e2262b771e",
   "metadata": {},
   "source": [
    "#### **The Solution:**"
   ]
  },
  {
   "cell_type": "code",
   "execution_count": null,
   "id": "a96a99e3-62b4-44b1-87e8-0dea91a099a3",
   "metadata": {},
   "outputs": [],
   "source": [
    "import pandas as pd"
   ]
  },
  {
   "cell_type": "code",
   "execution_count": null,
   "id": "4ca79f4a-7581-48e8-8e76-afc5cab244a2",
   "metadata": {},
   "outputs": [],
   "source": [
    "df = pd.read_csv(\"summer.csv\")"
   ]
  },
  {
   "cell_type": "code",
   "execution_count": null,
   "id": "9e5599a1-8e33-4ea6-b087-32b4c0aa9f38",
   "metadata": {},
   "outputs": [],
   "source": [
    "countries = ['ITA', 'FRA', 'ESP', 'USA']"
   ]
  },
  {
   "cell_type": "code",
   "execution_count": null,
   "id": "f020165d-19cc-4600-b303-ac996f4e0dbd",
   "metadata": {},
   "outputs": [],
   "source": [
    "subset = df.loc[df.Country.isin(countries)]"
   ]
  },
  {
   "cell_type": "code",
   "execution_count": null,
   "id": "f49a3810-1677-4293-95f8-c54cf09cc0ce",
   "metadata": {},
   "outputs": [],
   "source": [
    "subset"
   ]
  },
  {
   "cell_type": "code",
   "execution_count": null,
   "id": "cf8fb31b-853e-4c79-9309-f2910fdab545",
   "metadata": {},
   "outputs": [],
   "source": [
    "subset.Country.unique()"
   ]
  },
  {
   "cell_type": "markdown",
   "id": "1b4d4151-30e0-46db-a632-a5b46adad76b",
   "metadata": {},
   "source": [
    "## **Coding Exercise 21:** Search with any()"
   ]
  },
  {
   "cell_type": "markdown",
   "id": "a980281f-2fd0-4a47-9e94-f24c4969e376",
   "metadata": {},
   "source": [
    "#### **The Problem:**"
   ]
  },
  {
   "cell_type": "markdown",
   "id": "c36bb6eb-3a7a-41c6-9b61-2b8ab9adf119",
   "metadata": {},
   "source": [
    "Check, if any Athlete from Argentina (ARG) won a Medal in the 1972 Edition.\n",
    "\n",
    "(Print True or False)."
   ]
  },
  {
   "cell_type": "markdown",
   "id": "3c649258-9ba6-43e5-b0b7-68be5689736a",
   "metadata": {},
   "source": [
    "#### **The Solution:**"
   ]
  },
  {
   "cell_type": "code",
   "execution_count": null,
   "id": "ecb8d58c-0679-4d78-882c-4d7c714bda3c",
   "metadata": {},
   "outputs": [],
   "source": [
    "import pandas as pd"
   ]
  },
  {
   "cell_type": "code",
   "execution_count": null,
   "id": "a321e6a2-e234-43cf-adc6-18bc056c095d",
   "metadata": {},
   "outputs": [],
   "source": [
    "df = pd.read_csv(\"summer.csv\")"
   ]
  },
  {
   "cell_type": "code",
   "execution_count": null,
   "id": "466f37f6-f816-4144-a37b-113268524e2c",
   "metadata": {},
   "outputs": [],
   "source": [
    "check = (df.Country == 'ARG').any()"
   ]
  },
  {
   "cell_type": "code",
   "execution_count": null,
   "id": "d4266d0c-61b6-49ff-ba56-0f734186168e",
   "metadata": {},
   "outputs": [],
   "source": [
    "check"
   ]
  },
  {
   "cell_type": "markdown",
   "id": "59422ee8-f502-424e-a896-e2b7df424d3e",
   "metadata": {},
   "source": [
    "## **Coding Exercise 22:** Removing Columns"
   ]
  },
  {
   "cell_type": "markdown",
   "id": "ba09514c-63da-46ac-b38d-8857416287b7",
   "metadata": {},
   "source": [
    "#### **The Problem:**"
   ]
  },
  {
   "cell_type": "markdown",
   "id": "5a2774af-4216-49db-9164-134a3e58e681",
   "metadata": {},
   "source": [
    "Remove the columns \"embarked\" and \"deck\" from df (you may print df as well). "
   ]
  },
  {
   "cell_type": "markdown",
   "id": "76ffb7c7-a84e-45c9-9ba5-3dfeb6358238",
   "metadata": {},
   "source": [
    "#### **The Solution:**"
   ]
  },
  {
   "cell_type": "code",
   "execution_count": null,
   "id": "0899fdc0-9189-42de-abf3-244086bbfc6c",
   "metadata": {},
   "outputs": [],
   "source": [
    "import pandas as pd"
   ]
  },
  {
   "cell_type": "code",
   "execution_count": null,
   "id": "57275404-9af7-4a40-85a9-102033c25083",
   "metadata": {},
   "outputs": [],
   "source": [
    "df = pd.read_csv(\"titanic.csv\")"
   ]
  },
  {
   "cell_type": "code",
   "execution_count": null,
   "id": "1623b9ce-02c0-4307-831d-1d15fad6ca39",
   "metadata": {},
   "outputs": [],
   "source": [
    "df.drop(inplace = True, columns = ['embarked', 'deck'])"
   ]
  },
  {
   "cell_type": "code",
   "execution_count": null,
   "id": "389ac9e3-4cb6-472a-9aa5-c691adf012be",
   "metadata": {},
   "outputs": [],
   "source": [
    "df.head()"
   ]
  },
  {
   "cell_type": "markdown",
   "id": "df1035ba-9c5a-4fda-a65c-2a9e781269b3",
   "metadata": {},
   "source": [
    "## **Coding Exercise 23:** Adding new Columns"
   ]
  },
  {
   "cell_type": "markdown",
   "id": "83167c3d-8286-4960-a5eb-1f23a78c09e3",
   "metadata": {},
   "source": [
    "#### **The Problem:**"
   ]
  },
  {
   "cell_type": "markdown",
   "id": "37195c88-5f9a-4a23-86e9-4d3c2f915516",
   "metadata": {},
   "source": [
    "Add the column \"fare_EUR\" with the ticket price in EUR. Divide each USD ticket price by 1.1 (assuming a EUR/USD FX rate of 1.1). You may print df with the additional column as well."
   ]
  },
  {
   "cell_type": "markdown",
   "id": "ae31bdfa-b4fc-4bea-9b67-706705dbecc1",
   "metadata": {},
   "source": [
    "#### **The Solution:**"
   ]
  },
  {
   "cell_type": "code",
   "execution_count": 1,
   "id": "c2846f7e-2c98-43ab-997c-6700fd943c15",
   "metadata": {},
   "outputs": [],
   "source": [
    "import pandas as pd"
   ]
  },
  {
   "cell_type": "code",
   "execution_count": 2,
   "id": "69cbca52-7c10-4934-b352-f37d432388e3",
   "metadata": {},
   "outputs": [],
   "source": [
    "df = pd.read_csv(\"titanic.csv\")"
   ]
  },
  {
   "cell_type": "code",
   "execution_count": 3,
   "id": "34b2090d-e28c-4718-be38-667a948b6402",
   "metadata": {},
   "outputs": [],
   "source": [
    "df['fare_EUR'] = df['fare'] / 1.1"
   ]
  },
  {
   "cell_type": "code",
   "execution_count": 4,
   "id": "89f7d5ac-fbe0-4adf-912c-0e9555e7077a",
   "metadata": {
    "scrolled": true
   },
   "outputs": [
    {
     "data": {
      "text/html": [
       "<div>\n",
       "<style scoped>\n",
       "    .dataframe tbody tr th:only-of-type {\n",
       "        vertical-align: middle;\n",
       "    }\n",
       "\n",
       "    .dataframe tbody tr th {\n",
       "        vertical-align: top;\n",
       "    }\n",
       "\n",
       "    .dataframe thead th {\n",
       "        text-align: right;\n",
       "    }\n",
       "</style>\n",
       "<table border=\"1\" class=\"dataframe\">\n",
       "  <thead>\n",
       "    <tr style=\"text-align: right;\">\n",
       "      <th></th>\n",
       "      <th>survived</th>\n",
       "      <th>pclass</th>\n",
       "      <th>sex</th>\n",
       "      <th>age</th>\n",
       "      <th>sibsp</th>\n",
       "      <th>parch</th>\n",
       "      <th>fare</th>\n",
       "      <th>embarked</th>\n",
       "      <th>deck</th>\n",
       "      <th>fare_EUR</th>\n",
       "    </tr>\n",
       "  </thead>\n",
       "  <tbody>\n",
       "    <tr>\n",
       "      <th>0</th>\n",
       "      <td>0</td>\n",
       "      <td>3</td>\n",
       "      <td>male</td>\n",
       "      <td>22.0</td>\n",
       "      <td>1</td>\n",
       "      <td>0</td>\n",
       "      <td>7.2500</td>\n",
       "      <td>S</td>\n",
       "      <td>NaN</td>\n",
       "      <td>6.590909</td>\n",
       "    </tr>\n",
       "    <tr>\n",
       "      <th>1</th>\n",
       "      <td>1</td>\n",
       "      <td>1</td>\n",
       "      <td>female</td>\n",
       "      <td>38.0</td>\n",
       "      <td>1</td>\n",
       "      <td>0</td>\n",
       "      <td>71.2833</td>\n",
       "      <td>C</td>\n",
       "      <td>C</td>\n",
       "      <td>64.803000</td>\n",
       "    </tr>\n",
       "    <tr>\n",
       "      <th>2</th>\n",
       "      <td>1</td>\n",
       "      <td>3</td>\n",
       "      <td>female</td>\n",
       "      <td>26.0</td>\n",
       "      <td>0</td>\n",
       "      <td>0</td>\n",
       "      <td>7.9250</td>\n",
       "      <td>S</td>\n",
       "      <td>NaN</td>\n",
       "      <td>7.204545</td>\n",
       "    </tr>\n",
       "    <tr>\n",
       "      <th>3</th>\n",
       "      <td>1</td>\n",
       "      <td>1</td>\n",
       "      <td>female</td>\n",
       "      <td>35.0</td>\n",
       "      <td>1</td>\n",
       "      <td>0</td>\n",
       "      <td>53.1000</td>\n",
       "      <td>S</td>\n",
       "      <td>C</td>\n",
       "      <td>48.272727</td>\n",
       "    </tr>\n",
       "    <tr>\n",
       "      <th>4</th>\n",
       "      <td>0</td>\n",
       "      <td>3</td>\n",
       "      <td>male</td>\n",
       "      <td>35.0</td>\n",
       "      <td>0</td>\n",
       "      <td>0</td>\n",
       "      <td>8.0500</td>\n",
       "      <td>S</td>\n",
       "      <td>NaN</td>\n",
       "      <td>7.318182</td>\n",
       "    </tr>\n",
       "    <tr>\n",
       "      <th>...</th>\n",
       "      <td>...</td>\n",
       "      <td>...</td>\n",
       "      <td>...</td>\n",
       "      <td>...</td>\n",
       "      <td>...</td>\n",
       "      <td>...</td>\n",
       "      <td>...</td>\n",
       "      <td>...</td>\n",
       "      <td>...</td>\n",
       "      <td>...</td>\n",
       "    </tr>\n",
       "    <tr>\n",
       "      <th>886</th>\n",
       "      <td>0</td>\n",
       "      <td>2</td>\n",
       "      <td>male</td>\n",
       "      <td>27.0</td>\n",
       "      <td>0</td>\n",
       "      <td>0</td>\n",
       "      <td>13.0000</td>\n",
       "      <td>S</td>\n",
       "      <td>NaN</td>\n",
       "      <td>11.818182</td>\n",
       "    </tr>\n",
       "    <tr>\n",
       "      <th>887</th>\n",
       "      <td>1</td>\n",
       "      <td>1</td>\n",
       "      <td>female</td>\n",
       "      <td>19.0</td>\n",
       "      <td>0</td>\n",
       "      <td>0</td>\n",
       "      <td>30.0000</td>\n",
       "      <td>S</td>\n",
       "      <td>B</td>\n",
       "      <td>27.272727</td>\n",
       "    </tr>\n",
       "    <tr>\n",
       "      <th>888</th>\n",
       "      <td>0</td>\n",
       "      <td>3</td>\n",
       "      <td>female</td>\n",
       "      <td>NaN</td>\n",
       "      <td>1</td>\n",
       "      <td>2</td>\n",
       "      <td>23.4500</td>\n",
       "      <td>S</td>\n",
       "      <td>NaN</td>\n",
       "      <td>21.318182</td>\n",
       "    </tr>\n",
       "    <tr>\n",
       "      <th>889</th>\n",
       "      <td>1</td>\n",
       "      <td>1</td>\n",
       "      <td>male</td>\n",
       "      <td>26.0</td>\n",
       "      <td>0</td>\n",
       "      <td>0</td>\n",
       "      <td>30.0000</td>\n",
       "      <td>C</td>\n",
       "      <td>C</td>\n",
       "      <td>27.272727</td>\n",
       "    </tr>\n",
       "    <tr>\n",
       "      <th>890</th>\n",
       "      <td>0</td>\n",
       "      <td>3</td>\n",
       "      <td>male</td>\n",
       "      <td>32.0</td>\n",
       "      <td>0</td>\n",
       "      <td>0</td>\n",
       "      <td>7.7500</td>\n",
       "      <td>Q</td>\n",
       "      <td>NaN</td>\n",
       "      <td>7.045455</td>\n",
       "    </tr>\n",
       "  </tbody>\n",
       "</table>\n",
       "<p>891 rows × 10 columns</p>\n",
       "</div>"
      ],
      "text/plain": [
       "     survived  pclass     sex   age  sibsp  parch     fare embarked deck  \\\n",
       "0           0       3    male  22.0      1      0   7.2500        S  NaN   \n",
       "1           1       1  female  38.0      1      0  71.2833        C    C   \n",
       "2           1       3  female  26.0      0      0   7.9250        S  NaN   \n",
       "3           1       1  female  35.0      1      0  53.1000        S    C   \n",
       "4           0       3    male  35.0      0      0   8.0500        S  NaN   \n",
       "..        ...     ...     ...   ...    ...    ...      ...      ...  ...   \n",
       "886         0       2    male  27.0      0      0  13.0000        S  NaN   \n",
       "887         1       1  female  19.0      0      0  30.0000        S    B   \n",
       "888         0       3  female   NaN      1      2  23.4500        S  NaN   \n",
       "889         1       1    male  26.0      0      0  30.0000        C    C   \n",
       "890         0       3    male  32.0      0      0   7.7500        Q  NaN   \n",
       "\n",
       "      fare_EUR  \n",
       "0     6.590909  \n",
       "1    64.803000  \n",
       "2     7.204545  \n",
       "3    48.272727  \n",
       "4     7.318182  \n",
       "..         ...  \n",
       "886  11.818182  \n",
       "887  27.272727  \n",
       "888  21.318182  \n",
       "889  27.272727  \n",
       "890   7.045455  \n",
       "\n",
       "[891 rows x 10 columns]"
      ]
     },
     "execution_count": 4,
     "metadata": {},
     "output_type": "execute_result"
    }
   ],
   "source": [
    "df"
   ]
  },
  {
   "cell_type": "markdown",
   "id": "ec608e3e-7761-4769-8446-547012b6e99d",
   "metadata": {},
   "source": [
    "## **Coding Exercise 24:** Creating new DataFrames"
   ]
  },
  {
   "cell_type": "markdown",
   "id": "d46d3d25-b8ea-40ce-8e27-6c985629fafc",
   "metadata": {},
   "source": [
    "#### **The Problem:**"
   ]
  },
  {
   "cell_type": "markdown",
   "id": "9cd4e503-529d-4525-8eb0-d9fa30e07453",
   "metadata": {},
   "source": [
    "Create and save the (exact) following DataFrame from scratch in the variable df (you may print df as well):\n",
    "\n",
    "|     | Car | Job |\n",
    "|-----|-----|-----|\n",
    "| Mike| BMW |Pilot|\n",
    "|Steve|Honda| Cook|\n",
    "| Andy| Ford| Salesmen|"
   ]
  },
  {
   "cell_type": "markdown",
   "id": "19b5c7fe-2008-4df6-b571-2cec94a8eec7",
   "metadata": {},
   "source": [
    "#### **The Solution:**"
   ]
  },
  {
   "cell_type": "code",
   "execution_count": 1,
   "id": "3c18bc19-0c67-4510-bb1e-c8ff25f640b5",
   "metadata": {},
   "outputs": [],
   "source": [
    "import pandas as pd"
   ]
  },
  {
   "cell_type": "code",
   "execution_count": 2,
   "id": "1a27df5b-8e96-4833-8d42-5ad79e550245",
   "metadata": {},
   "outputs": [],
   "source": [
    "names = ['Mike', 'Steve', 'Andy']\n",
    "cars = ['BMW', 'Honda', 'Ford']\n",
    "jobs = ['Pilot', 'Cook', 'Salesman']"
   ]
  },
  {
   "cell_type": "code",
   "execution_count": 3,
   "id": "5c4a53e4-c187-4aa4-951e-ea577b80807e",
   "metadata": {},
   "outputs": [],
   "source": [
    "dic = {\n",
    "    'Name': names,\n",
    "    'Car': cars,\n",
    "    'Job': jobs\n",
    "}"
   ]
  },
  {
   "cell_type": "code",
   "execution_count": 4,
   "id": "faf824a8-8848-4207-9720-80e7dc6dba0d",
   "metadata": {},
   "outputs": [],
   "source": [
    "df = pd.DataFrame(data = dic)"
   ]
  },
  {
   "cell_type": "code",
   "execution_count": 5,
   "id": "a04266f3-8b0d-4123-96f6-f6d103762e59",
   "metadata": {},
   "outputs": [],
   "source": [
    "df.set_index('Name', inplace = True)"
   ]
  },
  {
   "cell_type": "code",
   "execution_count": 6,
   "id": "619c87a5-efb5-4877-b2c2-f4364aee08e0",
   "metadata": {},
   "outputs": [
    {
     "data": {
      "text/html": [
       "<div>\n",
       "<style scoped>\n",
       "    .dataframe tbody tr th:only-of-type {\n",
       "        vertical-align: middle;\n",
       "    }\n",
       "\n",
       "    .dataframe tbody tr th {\n",
       "        vertical-align: top;\n",
       "    }\n",
       "\n",
       "    .dataframe thead th {\n",
       "        text-align: right;\n",
       "    }\n",
       "</style>\n",
       "<table border=\"1\" class=\"dataframe\">\n",
       "  <thead>\n",
       "    <tr style=\"text-align: right;\">\n",
       "      <th></th>\n",
       "      <th>Car</th>\n",
       "      <th>Job</th>\n",
       "    </tr>\n",
       "    <tr>\n",
       "      <th>Name</th>\n",
       "      <th></th>\n",
       "      <th></th>\n",
       "    </tr>\n",
       "  </thead>\n",
       "  <tbody>\n",
       "    <tr>\n",
       "      <th>Mike</th>\n",
       "      <td>BMW</td>\n",
       "      <td>Pilot</td>\n",
       "    </tr>\n",
       "    <tr>\n",
       "      <th>Steve</th>\n",
       "      <td>Honda</td>\n",
       "      <td>Cook</td>\n",
       "    </tr>\n",
       "    <tr>\n",
       "      <th>Andy</th>\n",
       "      <td>Ford</td>\n",
       "      <td>Salesman</td>\n",
       "    </tr>\n",
       "  </tbody>\n",
       "</table>\n",
       "</div>"
      ],
      "text/plain": [
       "         Car       Job\n",
       "Name                  \n",
       "Mike     BMW     Pilot\n",
       "Steve  Honda      Cook\n",
       "Andy    Ford  Salesman"
      ]
     },
     "execution_count": 6,
     "metadata": {},
     "output_type": "execute_result"
    }
   ],
   "source": [
    "df"
   ]
  },
  {
   "cell_type": "code",
   "execution_count": null,
   "id": "f943aa3c-e6cf-49ad-b779-e24aaf46fabd",
   "metadata": {},
   "outputs": [],
   "source": []
  }
 ],
 "metadata": {
  "kernelspec": {
   "display_name": "Python 3 (ipykernel)",
   "language": "python",
   "name": "python3"
  },
  "language_info": {
   "codemirror_mode": {
    "name": "ipython",
    "version": 3
   },
   "file_extension": ".py",
   "mimetype": "text/x-python",
   "name": "python",
   "nbconvert_exporter": "python",
   "pygments_lexer": "ipython3",
   "version": "3.11.7"
  }
 },
 "nbformat": 4,
 "nbformat_minor": 5
}
