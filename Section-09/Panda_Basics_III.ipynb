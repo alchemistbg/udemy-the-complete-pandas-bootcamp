{
 "cells": [
  {
   "cell_type": "markdown",
   "id": "07ee4f44-a165-40a3-9d67-74926e291ca5",
   "metadata": {},
   "source": [
    "# **DataFrame Basics III**"
   ]
  },
  {
   "cell_type": "markdown",
   "id": "d166a0f3-1f7d-4912-8f40-b1b63450e3b1",
   "metadata": {},
   "source": [
    "## **Sorting dataframes**"
   ]
  },
  {
   "cell_type": "code",
   "execution_count": null,
   "id": "62ab7241-1d9a-48d0-8ebe-b6fce569bc23",
   "metadata": {},
   "outputs": [],
   "source": [
    "import pandas as pd"
   ]
  },
  {
   "cell_type": "code",
   "execution_count": null,
   "id": "d53234ea-cd18-4a0e-8e3c-6e164dad2228",
   "metadata": {},
   "outputs": [],
   "source": [
    "titanic = pd.read_csv('titanic.csv')"
   ]
  },
  {
   "cell_type": "code",
   "execution_count": null,
   "id": "ac810b49-f5bd-4c6e-9d42-b8a74dc78b52",
   "metadata": {},
   "outputs": [],
   "source": [
    "titanic.head()"
   ]
  },
  {
   "cell_type": "code",
   "execution_count": null,
   "id": "1cae2dde-3882-4286-a0f6-d7be51a5c417",
   "metadata": {},
   "outputs": [],
   "source": [
    "titanic.age.sort_values()"
   ]
  },
  {
   "cell_type": "code",
   "execution_count": null,
   "id": "113eecd0-7c34-4939-b3a7-7f857dbc21bf",
   "metadata": {},
   "outputs": [],
   "source": [
    "titanic.sort_values(by = 'age')"
   ]
  },
  {
   "cell_type": "code",
   "execution_count": null,
   "id": "5ae66ed3-1f42-48d0-9cc3-c2c9e0fe177a",
   "metadata": {},
   "outputs": [],
   "source": [
    "titanic"
   ]
  },
  {
   "cell_type": "code",
   "execution_count": null,
   "id": "dbbf5a9d-41c3-4450-b63f-6fdee8fc1f93",
   "metadata": {},
   "outputs": [],
   "source": [
    "titanic.sort_values(by = 'age', inplace = True)"
   ]
  },
  {
   "cell_type": "code",
   "execution_count": null,
   "id": "9bb8fa18-2db9-49ab-9420-87dcb610ca88",
   "metadata": {},
   "outputs": [],
   "source": [
    "titanic.head()"
   ]
  },
  {
   "cell_type": "code",
   "execution_count": null,
   "id": "59220cb3-0888-4883-9e24-57a206e835af",
   "metadata": {},
   "outputs": [],
   "source": [
    "titanic.sort_index(inplace = True)"
   ]
  },
  {
   "cell_type": "code",
   "execution_count": null,
   "id": "d41cece6-cc86-4789-ac37-b228b09e6a61",
   "metadata": {},
   "outputs": [],
   "source": [
    "titanic.head()"
   ]
  },
  {
   "cell_type": "code",
   "execution_count": null,
   "id": "e0d9ab8f-03ff-418e-a2e8-a70dbbf1160b",
   "metadata": {},
   "outputs": [],
   "source": [
    "titanic.sort_values(by = ['age', 'pclass'], inplace = True)"
   ]
  },
  {
   "cell_type": "code",
   "execution_count": null,
   "id": "68dffc1c-7505-480d-8b6c-63f0f4ed5c24",
   "metadata": {},
   "outputs": [],
   "source": [
    "titanic.head(20)"
   ]
  },
  {
   "cell_type": "code",
   "execution_count": null,
   "id": "0c9af065-d78c-43f0-b057-e8728cc561fd",
   "metadata": {},
   "outputs": [],
   "source": [
    "titanic.sort_index(inplace = True)"
   ]
  },
  {
   "cell_type": "code",
   "execution_count": null,
   "id": "2dc4c566-a3ba-4d31-ae4a-4055f6509259",
   "metadata": {},
   "outputs": [],
   "source": [
    "titanic.sort_values(by = ['age', 'pclass', 'sex'], ascending = [True, True, False], inplace = True)"
   ]
  },
  {
   "cell_type": "code",
   "execution_count": null,
   "id": "9289603c-f647-47af-b0ae-5b2780f7ea3c",
   "metadata": {},
   "outputs": [],
   "source": [
    "pd.options.display.max_rows = 900"
   ]
  },
  {
   "cell_type": "code",
   "execution_count": null,
   "id": "30aeccd5-db9b-4d09-be2d-3a99f5f39d5c",
   "metadata": {},
   "outputs": [],
   "source": [
    "titanic"
   ]
  },
  {
   "cell_type": "code",
   "execution_count": null,
   "id": "67689232-476a-4f2f-bec7-930e1ae26db2",
   "metadata": {},
   "outputs": [],
   "source": [
    "titanic.sort_index()"
   ]
  },
  {
   "cell_type": "code",
   "execution_count": null,
   "id": "c3488563-0349-4e53-8f5b-f7f484ac4a80",
   "metadata": {},
   "outputs": [],
   "source": [
    "pd.options.display.max_rows = 10"
   ]
  },
  {
   "cell_type": "code",
   "execution_count": null,
   "id": "b7ebe265-2e05-4cd9-9488-c96575c29c7c",
   "metadata": {},
   "outputs": [],
   "source": [
    "titanic"
   ]
  },
  {
   "cell_type": "markdown",
   "id": "98573ff8-6ceb-452f-b414-fc0ed3577766",
   "metadata": {},
   "source": [
    "## **Ranking DataFrames**"
   ]
  },
  {
   "cell_type": "code",
   "execution_count": null,
   "id": "003e1700-56eb-4af0-85cd-6d15ac199abb",
   "metadata": {},
   "outputs": [],
   "source": [
    "import pandas as pd"
   ]
  },
  {
   "cell_type": "code",
   "execution_count": null,
   "id": "4194dbd4-f869-4215-8a6c-0c8a253d11f6",
   "metadata": {},
   "outputs": [],
   "source": [
    "sales = pd.Series([15, 32, 45, 21, 55, 15, 0], index = [\"Mon\", \"Tue\", \"Wen\", \"Thu\", \"Fri\", \"Sat\", \"Sun\"])"
   ]
  },
  {
   "cell_type": "code",
   "execution_count": null,
   "id": "68344d78-c83b-4104-ac61-af3005c8cae9",
   "metadata": {},
   "outputs": [],
   "source": [
    "sales"
   ]
  },
  {
   "cell_type": "code",
   "execution_count": null,
   "id": "cf6ae7bc-54ea-483a-8652-c8f7adcc168f",
   "metadata": {},
   "outputs": [],
   "source": [
    "sales.sort_values(ascending = False)"
   ]
  },
  {
   "cell_type": "code",
   "execution_count": null,
   "id": "1c924a2f-186c-4195-a31a-4fea3256986c",
   "metadata": {},
   "outputs": [],
   "source": [
    "sales.rank(method = 'max', ascending = False)"
   ]
  },
  {
   "cell_type": "code",
   "execution_count": null,
   "id": "90e79984-5252-4313-b53a-06de3441891c",
   "metadata": {},
   "outputs": [],
   "source": [
    "sales.rank(method = 'first', ascending = False).sort_values()"
   ]
  },
  {
   "cell_type": "code",
   "execution_count": null,
   "id": "360c6d72-1139-4133-b5b3-ed6b3eb6ac92",
   "metadata": {},
   "outputs": [],
   "source": [
    "sales.rank(method = 'average', ascending = False).sort_values()"
   ]
  },
  {
   "cell_type": "code",
   "execution_count": null,
   "id": "c3d773af-7f9e-4f07-88b7-a4c7c3da86f1",
   "metadata": {},
   "outputs": [],
   "source": [
    "titanic = pd.read_csv('titanic.csv')"
   ]
  },
  {
   "cell_type": "code",
   "execution_count": null,
   "id": "37278a6d-ade0-4c9a-b6ed-2a8521a29a1a",
   "metadata": {},
   "outputs": [],
   "source": [
    "titanic.head()"
   ]
  },
  {
   "cell_type": "code",
   "execution_count": null,
   "id": "2b81e22d-cdd0-47b5-b0ce-b9950973059e",
   "metadata": {},
   "outputs": [],
   "source": [
    "titanic.fare.sort_values(ascending = False)"
   ]
  },
  {
   "cell_type": "code",
   "execution_count": null,
   "id": "b34c7294-26d3-4af0-a1bd-39491f16d0e6",
   "metadata": {},
   "outputs": [],
   "source": [
    "titanic.fare.rank(ascending = False)"
   ]
  },
  {
   "cell_type": "code",
   "execution_count": null,
   "id": "f2a51393-2f00-408d-8966-fc7093f42673",
   "metadata": {},
   "outputs": [],
   "source": [
    "titanic.fare.rank(ascending = True, method = 'first').sort_values(ascending = False)"
   ]
  },
  {
   "cell_type": "code",
   "execution_count": null,
   "id": "054e7d32-654a-4af8-ab0c-114a698df0f3",
   "metadata": {},
   "outputs": [],
   "source": [
    "fare_rank = titanic.fare.rank(ascending = False, method = 'min')"
   ]
  },
  {
   "cell_type": "code",
   "execution_count": null,
   "id": "2073837d-add6-4ff2-ac3e-a03e25a0f623",
   "metadata": {},
   "outputs": [],
   "source": [
    "titanic.insert(column = 'fare_rank', value = fare_rank, loc = 7)"
   ]
  },
  {
   "cell_type": "code",
   "execution_count": null,
   "id": "cb6bb733-b714-4a40-bf29-442c791b263b",
   "metadata": {},
   "outputs": [],
   "source": [
    "titanic.head()"
   ]
  },
  {
   "cell_type": "code",
   "execution_count": null,
   "id": "84d64ea2-2ff0-4f85-9f80-b2d379cf1cc5",
   "metadata": {},
   "outputs": [],
   "source": [
    "titanic.sort_values(by = 'fare_rank')"
   ]
  },
  {
   "cell_type": "markdown",
   "id": "622617c4-faad-449e-a686-2fc5f534188c",
   "metadata": {},
   "source": [
    "## **nunique() and nlargest() / nsmallest() with DataFrames**"
   ]
  },
  {
   "cell_type": "code",
   "execution_count": null,
   "id": "d236d3ea-e029-41e5-a3b2-407dc4f00e35",
   "metadata": {},
   "outputs": [],
   "source": [
    "import pandas as pd"
   ]
  },
  {
   "cell_type": "code",
   "execution_count": null,
   "id": "aff9aca8-0d26-4be8-b047-85b9a27582c8",
   "metadata": {},
   "outputs": [],
   "source": [
    "titanic = pd.read_csv('titanic.csv')"
   ]
  },
  {
   "cell_type": "code",
   "execution_count": null,
   "id": "22c2e774-6a1a-4707-94d8-b638b552b836",
   "metadata": {},
   "outputs": [],
   "source": [
    "titanic.head()"
   ]
  },
  {
   "cell_type": "code",
   "execution_count": null,
   "id": "a37c9de6-7aa5-4bac-a6ff-1aa6e4bb74c7",
   "metadata": {},
   "outputs": [],
   "source": [
    "titanic.tail()"
   ]
  },
  {
   "cell_type": "markdown",
   "id": "97dc0b1f-7b26-40c2-884a-5ee517ed2655",
   "metadata": {},
   "source": [
    "#### **nunique()**"
   ]
  },
  {
   "cell_type": "code",
   "execution_count": null,
   "id": "372c8ccf-0cd7-4e25-97c9-105da36a5654",
   "metadata": {},
   "outputs": [],
   "source": [
    "titanic.age.unique()"
   ]
  },
  {
   "cell_type": "code",
   "execution_count": null,
   "id": "7fc1b121-3d0f-408f-8c18-be2d8110e031",
   "metadata": {},
   "outputs": [],
   "source": [
    "titanic.nunique(axis = 0)"
   ]
  },
  {
   "cell_type": "markdown",
   "id": "b30248bd-36b9-4d8e-9201-f7374e097ef2",
   "metadata": {},
   "source": [
    "#### **nlargest()**"
   ]
  },
  {
   "cell_type": "code",
   "execution_count": null,
   "id": "3a21be08-55a1-4e78-bf67-ef2b49f5a516",
   "metadata": {},
   "outputs": [],
   "source": [
    "titanic.nlargest(columns = 'age', n = 5)"
   ]
  },
  {
   "cell_type": "code",
   "execution_count": null,
   "id": "e0938e4c-a11f-4742-bdfc-f5896b74d114",
   "metadata": {},
   "outputs": [],
   "source": [
    "titanic.sort_values(by = 'age', ascending = False).head()"
   ]
  },
  {
   "cell_type": "markdown",
   "id": "1235434c-7625-4eb0-a0a2-60b5dd0b579f",
   "metadata": {},
   "source": [
    "#### **nsmallest()**"
   ]
  },
  {
   "cell_type": "code",
   "execution_count": null,
   "id": "7eafe15e-1ffc-4251-a35a-fc4e99612bf6",
   "metadata": {},
   "outputs": [],
   "source": [
    "titanic.nsmallest(n = 5, columns = 'age')"
   ]
  },
  {
   "cell_type": "code",
   "execution_count": null,
   "id": "dc9a5371-2efa-4b8d-bf53-b8488b15286a",
   "metadata": {},
   "outputs": [],
   "source": [
    "titanic.sort_values(by = 'age').head()"
   ]
  },
  {
   "cell_type": "code",
   "execution_count": null,
   "id": "717dbccb-efa2-4d42-ad5c-cd50452268f1",
   "metadata": {},
   "outputs": [],
   "source": [
    "titanic.loc[titanic.age.idxmin()]"
   ]
  },
  {
   "cell_type": "markdown",
   "id": "a0b4fafc-0c34-452e-856e-07691d1b778e",
   "metadata": {},
   "source": [
    "## **Summary statistics and accumulations**"
   ]
  },
  {
   "cell_type": "code",
   "execution_count": null,
   "id": "b8e3eac1-812d-4ee2-af0d-f0b781937098",
   "metadata": {},
   "outputs": [],
   "source": [
    "import pandas as pd"
   ]
  },
  {
   "cell_type": "code",
   "execution_count": null,
   "id": "dbb95344-bdb5-4df6-920b-f2849d0ca0fa",
   "metadata": {},
   "outputs": [],
   "source": [
    "titanic = pd.read_csv('titanic.csv')"
   ]
  },
  {
   "cell_type": "code",
   "execution_count": null,
   "id": "dba66756-4bff-46d0-8511-851f1bcb35f8",
   "metadata": {},
   "outputs": [],
   "source": [
    "titanic.head()"
   ]
  },
  {
   "cell_type": "code",
   "execution_count": null,
   "id": "fc46204b-beac-465c-a778-fdc588c9b187",
   "metadata": {},
   "outputs": [],
   "source": [
    "titanic.describe()"
   ]
  },
  {
   "cell_type": "code",
   "execution_count": null,
   "id": "213c3283-13a7-48f2-93d0-c61d63ae8ec8",
   "metadata": {},
   "outputs": [],
   "source": [
    "titanic.count()"
   ]
  },
  {
   "cell_type": "code",
   "execution_count": null,
   "id": "e5d1f149-8653-4609-ba2e-f725f358b7cc",
   "metadata": {},
   "outputs": [],
   "source": [
    "titanic.max(numeric_only = True)"
   ]
  },
  {
   "cell_type": "code",
   "execution_count": null,
   "id": "b8317cba-306f-4bd0-a08a-d81b93caeefd",
   "metadata": {},
   "outputs": [],
   "source": [
    "titanic.min(numeric_only = True)"
   ]
  },
  {
   "cell_type": "code",
   "execution_count": null,
   "id": "28a9fe53-816c-4ceb-9fc1-ed0987b631dc",
   "metadata": {},
   "outputs": [],
   "source": [
    "titanic.mean(numeric_only = True)"
   ]
  },
  {
   "cell_type": "code",
   "execution_count": null,
   "id": "96abd1c5-ada4-40b1-a943-57ec0a4a4f31",
   "metadata": {},
   "outputs": [],
   "source": [
    "titanic.sum(numeric_only = True)"
   ]
  },
  {
   "cell_type": "code",
   "execution_count": null,
   "id": "8f76ad5c-4126-42db-9014-f2acda681c29",
   "metadata": {},
   "outputs": [],
   "source": [
    "titanic.age.cumsum()"
   ]
  },
  {
   "cell_type": "code",
   "execution_count": null,
   "id": "02066513-9e57-410c-b298-0d602fef9271",
   "metadata": {},
   "outputs": [],
   "source": [
    "titanic.corr(numeric_only = True)"
   ]
  },
  {
   "cell_type": "code",
   "execution_count": null,
   "id": "d2af86a0-9ed5-46ea-b439-29024e673846",
   "metadata": {},
   "outputs": [],
   "source": [
    "titanic.survived.corr(titanic.fare)"
   ]
  },
  {
   "cell_type": "markdown",
   "id": "296f21a7-16bf-4160-baf9-17e5ad68cfad",
   "metadata": {},
   "source": [
    "## **The agg() method**"
   ]
  },
  {
   "cell_type": "code",
   "execution_count": null,
   "id": "49105fcc-fb71-408b-993b-9643758e5b7d",
   "metadata": {},
   "outputs": [],
   "source": [
    "import pandas as pd"
   ]
  },
  {
   "cell_type": "code",
   "execution_count": null,
   "id": "248c02ce-2894-4c60-877a-10ae7239a30e",
   "metadata": {},
   "outputs": [],
   "source": [
    "titanic = pd.read_csv('titanic.csv')"
   ]
  },
  {
   "cell_type": "code",
   "execution_count": null,
   "id": "f51c7f3f-a46b-45bc-a61a-185d109e3f30",
   "metadata": {},
   "outputs": [],
   "source": [
    "titanic.head()"
   ]
  },
  {
   "cell_type": "code",
   "execution_count": null,
   "id": "a6abd97b-af13-4b66-b123-8aae7f710307",
   "metadata": {},
   "outputs": [],
   "source": [
    "titanic.describe()"
   ]
  },
  {
   "cell_type": "code",
   "execution_count": null,
   "id": "87b02750-517b-4f5e-a4d9-e7f4bdac3f99",
   "metadata": {},
   "outputs": [],
   "source": [
    "titanic.agg('mean', numeric_only = True) # works but it is not recommended"
   ]
  },
  {
   "cell_type": "code",
   "execution_count": null,
   "id": "0a2c4f02-d019-4a1f-adb6-2d70abfd144e",
   "metadata": {},
   "outputs": [],
   "source": [
    "titanic.select_dtypes('number').agg('mean')"
   ]
  },
  {
   "cell_type": "code",
   "execution_count": null,
   "id": "44ad77c8-ce62-433b-92d3-09b28198e8cd",
   "metadata": {},
   "outputs": [],
   "source": [
    "titanic.select_dtypes('number').agg(['mean', 'sum', 'max'])"
   ]
  },
  {
   "cell_type": "code",
   "execution_count": null,
   "id": "fd7e7e7b-7f26-4686-a10b-50599fa2f6a3",
   "metadata": {},
   "outputs": [],
   "source": [
    "titanic.select_dtypes('number').agg({'age': ['min', 'max'], 'fare': ['mean', 'sum']})"
   ]
  },
  {
   "cell_type": "code",
   "execution_count": null,
   "id": "8b19f9b2-db53-4068-8922-c75784c0c290",
   "metadata": {},
   "outputs": [],
   "source": [
    "def dummy_func(n):\n",
    "    return 2*n"
   ]
  },
  {
   "cell_type": "code",
   "execution_count": null,
   "id": "2b45e74d-d15b-430c-a082-6182c1b0905c",
   "metadata": {},
   "outputs": [],
   "source": [
    "titanic.select_dtypes('number').agg({'age': ['min', 'max'], 'fare': ['mean', 'sum'], 'fare': dummy_func})"
   ]
  },
  {
   "cell_type": "code",
   "execution_count": null,
   "id": "34d1e77d-3d1e-44a1-9ef3-ae789825d32d",
   "metadata": {},
   "outputs": [],
   "source": [
    "titanic.select_dtypes('number').transform(dummy_func)"
   ]
  },
  {
   "cell_type": "markdown",
   "id": "731417ad-c42c-4bf8-8436-dbb032c6f064",
   "metadata": {},
   "source": [
    "## **User-defined functions with apply(), map() and applymap()**"
   ]
  },
  {
   "cell_type": "code",
   "execution_count": null,
   "id": "e0feb451-1baa-4eed-b40d-19854a949da2",
   "metadata": {},
   "outputs": [],
   "source": [
    "import pandas as pd"
   ]
  },
  {
   "cell_type": "code",
   "execution_count": null,
   "id": "15e99b3c-8d9d-4e18-a613-7b7c6e290281",
   "metadata": {},
   "outputs": [],
   "source": [
    "sales = pd.read_csv('sales.csv', index_col = 0)"
   ]
  },
  {
   "cell_type": "code",
   "execution_count": null,
   "id": "c3a77a14-52bb-4603-8097-cdfdb804aa59",
   "metadata": {},
   "outputs": [],
   "source": [
    "sales"
   ]
  },
  {
   "cell_type": "code",
   "execution_count": null,
   "id": "83a460fe-4851-444b-b098-2691e4706adb",
   "metadata": {},
   "outputs": [],
   "source": [
    "sales.info()"
   ]
  },
  {
   "cell_type": "code",
   "execution_count": null,
   "id": "8e7cae3b-4b6b-4471-8403-02c110951f57",
   "metadata": {},
   "outputs": [],
   "source": [
    "sales.describe()"
   ]
  },
  {
   "cell_type": "code",
   "execution_count": null,
   "id": "6023cdaf-da0a-4457-a337-f8bae7d8a301",
   "metadata": {},
   "outputs": [],
   "source": [
    "sales.min(axis = 0)"
   ]
  },
  {
   "cell_type": "code",
   "execution_count": null,
   "id": "da747ef8-8ea8-4b2b-badf-8adb282d6240",
   "metadata": {},
   "outputs": [],
   "source": [
    "sales.min(axis = 1)"
   ]
  },
  {
   "cell_type": "code",
   "execution_count": null,
   "id": "65d83335-a158-4a36-a2c5-742c6859f5aa",
   "metadata": {},
   "outputs": [],
   "source": [
    "def range(series):\n",
    "    return series.max() - series.min()"
   ]
  },
  {
   "cell_type": "code",
   "execution_count": null,
   "id": "a5109929-c5fd-40e1-8efe-21273bfd7875",
   "metadata": {},
   "outputs": [],
   "source": [
    "sales.apply(func = range, axis = 0)"
   ]
  },
  {
   "cell_type": "code",
   "execution_count": null,
   "id": "d9714250-1c56-4785-b4fa-af3d7f7cb292",
   "metadata": {},
   "outputs": [],
   "source": [
    "sales.apply(func = range, axis = 1)"
   ]
  },
  {
   "cell_type": "code",
   "execution_count": null,
   "id": "8fe9f786-9792-4f67-bd59-edf2ed7ecfc4",
   "metadata": {},
   "outputs": [],
   "source": [
    "sales.apply(func = lambda series: series.max() - series.min(), axis = 1)"
   ]
  },
  {
   "cell_type": "code",
   "execution_count": null,
   "id": "3a499260-bedd-4c7c-9e26-f079632cd7ae",
   "metadata": {},
   "outputs": [],
   "source": [
    "summer = pd.read_csv('summer.csv')"
   ]
  },
  {
   "cell_type": "code",
   "execution_count": null,
   "id": "cf3880a5-1c29-47fe-869f-0b35aaac828a",
   "metadata": {},
   "outputs": [],
   "source": [
    "summer.head()"
   ]
  },
  {
   "cell_type": "code",
   "execution_count": null,
   "id": "ecc7ba98-0bba-41ed-ac60-ec0139662030",
   "metadata": {},
   "outputs": [],
   "source": [
    "summer.Athlete.apply(lambda x: x[0])"
   ]
  },
  {
   "cell_type": "code",
   "execution_count": null,
   "id": "bb95537b-1caa-4ad0-9e75-793d052775d7",
   "metadata": {},
   "outputs": [],
   "source": [
    "sales.map(lambda x: 0 if pd.isna(x) else x * 5)"
   ]
  },
  {
   "cell_type": "code",
   "execution_count": null,
   "id": "9cbd502f-c2e4-41b8-8d73-37ce4136a33b",
   "metadata": {},
   "outputs": [],
   "source": [
    "sales.applymap(func = lambda x: x + 42)"
   ]
  },
  {
   "cell_type": "code",
   "execution_count": null,
   "id": "e03013c6-7ebd-4588-bc2e-853b2f73f4d5",
   "metadata": {},
   "outputs": [],
   "source": [
    "sales.map(func = lambda x: x + 42)"
   ]
  }
 ],
 "metadata": {
  "kernelspec": {
   "display_name": "Python 3 (ipykernel)",
   "language": "python",
   "name": "python3"
  },
  "language_info": {
   "codemirror_mode": {
    "name": "ipython",
    "version": 3
   },
   "file_extension": ".py",
   "mimetype": "text/x-python",
   "name": "python",
   "nbconvert_exporter": "python",
   "pygments_lexer": "ipython3",
   "version": "3.11.7"
  }
 },
 "nbformat": 4,
 "nbformat_minor": 5
}
