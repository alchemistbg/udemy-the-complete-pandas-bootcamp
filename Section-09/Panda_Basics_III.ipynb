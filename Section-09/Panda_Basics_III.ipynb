{
 "cells": [
  {
   "cell_type": "markdown",
   "id": "07ee4f44-a165-40a3-9d67-74926e291ca5",
   "metadata": {},
   "source": [
    "# **DataFrame Basics III**"
   ]
  },
  {
   "cell_type": "markdown",
   "id": "d166a0f3-1f7d-4912-8f40-b1b63450e3b1",
   "metadata": {},
   "source": [
    "## **Sorting dataframes**"
   ]
  },
  {
   "cell_type": "code",
   "execution_count": null,
   "id": "62ab7241-1d9a-48d0-8ebe-b6fce569bc23",
   "metadata": {},
   "outputs": [],
   "source": [
    "import pandas as pd"
   ]
  },
  {
   "cell_type": "code",
   "execution_count": null,
   "id": "d53234ea-cd18-4a0e-8e3c-6e164dad2228",
   "metadata": {},
   "outputs": [],
   "source": [
    "titanic = pd.read_csv('titanic.csv')"
   ]
  },
  {
   "cell_type": "code",
   "execution_count": null,
   "id": "ac810b49-f5bd-4c6e-9d42-b8a74dc78b52",
   "metadata": {},
   "outputs": [],
   "source": [
    "titanic.head()"
   ]
  },
  {
   "cell_type": "code",
   "execution_count": null,
   "id": "1cae2dde-3882-4286-a0f6-d7be51a5c417",
   "metadata": {},
   "outputs": [],
   "source": [
    "titanic.age.sort_values()"
   ]
  },
  {
   "cell_type": "code",
   "execution_count": null,
   "id": "113eecd0-7c34-4939-b3a7-7f857dbc21bf",
   "metadata": {},
   "outputs": [],
   "source": [
    "titanic.sort_values(by = 'age')"
   ]
  },
  {
   "cell_type": "code",
   "execution_count": null,
   "id": "5ae66ed3-1f42-48d0-9cc3-c2c9e0fe177a",
   "metadata": {},
   "outputs": [],
   "source": [
    "titanic"
   ]
  },
  {
   "cell_type": "code",
   "execution_count": null,
   "id": "dbbf5a9d-41c3-4450-b63f-6fdee8fc1f93",
   "metadata": {},
   "outputs": [],
   "source": [
    "titanic.sort_values(by = 'age', inplace = True)"
   ]
  },
  {
   "cell_type": "code",
   "execution_count": null,
   "id": "9bb8fa18-2db9-49ab-9420-87dcb610ca88",
   "metadata": {},
   "outputs": [],
   "source": [
    "titanic.head()"
   ]
  },
  {
   "cell_type": "code",
   "execution_count": null,
   "id": "59220cb3-0888-4883-9e24-57a206e835af",
   "metadata": {},
   "outputs": [],
   "source": [
    "titanic.sort_index(inplace = True)"
   ]
  },
  {
   "cell_type": "code",
   "execution_count": null,
   "id": "d41cece6-cc86-4789-ac37-b228b09e6a61",
   "metadata": {},
   "outputs": [],
   "source": [
    "titanic.head()"
   ]
  },
  {
   "cell_type": "code",
   "execution_count": null,
   "id": "e0d9ab8f-03ff-418e-a2e8-a70dbbf1160b",
   "metadata": {},
   "outputs": [],
   "source": [
    "titanic.sort_values(by = ['age', 'pclass'], inplace = True)"
   ]
  },
  {
   "cell_type": "code",
   "execution_count": null,
   "id": "68dffc1c-7505-480d-8b6c-63f0f4ed5c24",
   "metadata": {},
   "outputs": [],
   "source": [
    "titanic.head(20)"
   ]
  },
  {
   "cell_type": "code",
   "execution_count": null,
   "id": "0c9af065-d78c-43f0-b057-e8728cc561fd",
   "metadata": {},
   "outputs": [],
   "source": [
    "titanic.sort_index(inplace = True)"
   ]
  },
  {
   "cell_type": "code",
   "execution_count": null,
   "id": "2dc4c566-a3ba-4d31-ae4a-4055f6509259",
   "metadata": {},
   "outputs": [],
   "source": [
    "titanic.sort_values(by = ['age', 'pclass', 'sex'], ascending = [True, True, False], inplace = True)"
   ]
  },
  {
   "cell_type": "code",
   "execution_count": null,
   "id": "9289603c-f647-47af-b0ae-5b2780f7ea3c",
   "metadata": {},
   "outputs": [],
   "source": [
    "pd.options.display.max_rows = 900"
   ]
  },
  {
   "cell_type": "code",
   "execution_count": null,
   "id": "30aeccd5-db9b-4d09-be2d-3a99f5f39d5c",
   "metadata": {},
   "outputs": [],
   "source": [
    "titanic"
   ]
  },
  {
   "cell_type": "code",
   "execution_count": null,
   "id": "67689232-476a-4f2f-bec7-930e1ae26db2",
   "metadata": {},
   "outputs": [],
   "source": [
    "titanic.sort_index()"
   ]
  },
  {
   "cell_type": "code",
   "execution_count": null,
   "id": "c3488563-0349-4e53-8f5b-f7f484ac4a80",
   "metadata": {},
   "outputs": [],
   "source": [
    "pd.options.display.max_rows = 10"
   ]
  },
  {
   "cell_type": "code",
   "execution_count": null,
   "id": "b7ebe265-2e05-4cd9-9488-c96575c29c7c",
   "metadata": {},
   "outputs": [],
   "source": [
    "titanic"
   ]
  },
  {
   "cell_type": "markdown",
   "id": "98573ff8-6ceb-452f-b414-fc0ed3577766",
   "metadata": {},
   "source": [
    "## **Ranking DataFrames**"
   ]
  },
  {
   "cell_type": "code",
   "execution_count": null,
   "id": "003e1700-56eb-4af0-85cd-6d15ac199abb",
   "metadata": {},
   "outputs": [],
   "source": [
    "import pandas as pd"
   ]
  },
  {
   "cell_type": "code",
   "execution_count": null,
   "id": "4194dbd4-f869-4215-8a6c-0c8a253d11f6",
   "metadata": {},
   "outputs": [],
   "source": [
    "sales = pd.Series([15, 32, 45, 21, 55, 15, 0], index = [\"Mon\", \"Tue\", \"Wen\", \"Thu\", \"Fri\", \"Sat\", \"Sun\"])"
   ]
  },
  {
   "cell_type": "code",
   "execution_count": null,
   "id": "68344d78-c83b-4104-ac61-af3005c8cae9",
   "metadata": {},
   "outputs": [],
   "source": [
    "sales"
   ]
  },
  {
   "cell_type": "code",
   "execution_count": null,
   "id": "cf6ae7bc-54ea-483a-8652-c8f7adcc168f",
   "metadata": {},
   "outputs": [],
   "source": [
    "sales.sort_values(ascending = False)"
   ]
  },
  {
   "cell_type": "code",
   "execution_count": null,
   "id": "1c924a2f-186c-4195-a31a-4fea3256986c",
   "metadata": {},
   "outputs": [],
   "source": [
    "sales.rank(method = 'max', ascending = False)"
   ]
  },
  {
   "cell_type": "code",
   "execution_count": null,
   "id": "90e79984-5252-4313-b53a-06de3441891c",
   "metadata": {},
   "outputs": [],
   "source": [
    "sales.rank(method = 'first', ascending = False).sort_values()"
   ]
  },
  {
   "cell_type": "code",
   "execution_count": null,
   "id": "360c6d72-1139-4133-b5b3-ed6b3eb6ac92",
   "metadata": {},
   "outputs": [],
   "source": [
    "sales.rank(method = 'average', ascending = False).sort_values()"
   ]
  },
  {
   "cell_type": "code",
   "execution_count": null,
   "id": "c3d773af-7f9e-4f07-88b7-a4c7c3da86f1",
   "metadata": {},
   "outputs": [],
   "source": [
    "titanic = pd.read_csv('titanic.csv')"
   ]
  },
  {
   "cell_type": "code",
   "execution_count": null,
   "id": "37278a6d-ade0-4c9a-b6ed-2a8521a29a1a",
   "metadata": {},
   "outputs": [],
   "source": [
    "titanic.head()"
   ]
  },
  {
   "cell_type": "code",
   "execution_count": null,
   "id": "2b81e22d-cdd0-47b5-b0ce-b9950973059e",
   "metadata": {},
   "outputs": [],
   "source": [
    "titanic.fare.sort_values(ascending = False)"
   ]
  },
  {
   "cell_type": "code",
   "execution_count": null,
   "id": "b34c7294-26d3-4af0-a1bd-39491f16d0e6",
   "metadata": {},
   "outputs": [],
   "source": [
    "titanic.fare.rank(ascending = False)"
   ]
  },
  {
   "cell_type": "code",
   "execution_count": null,
   "id": "f2a51393-2f00-408d-8966-fc7093f42673",
   "metadata": {},
   "outputs": [],
   "source": [
    "titanic.fare.rank(ascending = True, method = 'first').sort_values(ascending = False)"
   ]
  },
  {
   "cell_type": "code",
   "execution_count": null,
   "id": "054e7d32-654a-4af8-ab0c-114a698df0f3",
   "metadata": {},
   "outputs": [],
   "source": [
    "fare_rank = titanic.fare.rank(ascending = False, method = 'min')"
   ]
  },
  {
   "cell_type": "code",
   "execution_count": null,
   "id": "2073837d-add6-4ff2-ac3e-a03e25a0f623",
   "metadata": {},
   "outputs": [],
   "source": [
    "titanic.insert(column = 'fare_rank', value = fare_rank, loc = 7)"
   ]
  },
  {
   "cell_type": "code",
   "execution_count": null,
   "id": "cb6bb733-b714-4a40-bf29-442c791b263b",
   "metadata": {},
   "outputs": [],
   "source": [
    "titanic.head()"
   ]
  },
  {
   "cell_type": "code",
   "execution_count": null,
   "id": "84d64ea2-2ff0-4f85-9f80-b2d379cf1cc5",
   "metadata": {},
   "outputs": [],
   "source": [
    "titanic.sort_values(by = 'fare_rank')"
   ]
  },
  {
   "cell_type": "markdown",
   "id": "622617c4-faad-449e-a686-2fc5f534188c",
   "metadata": {},
   "source": [
    "## **nunique() and nlargest() / nsmallest() with DataFrames**"
   ]
  },
  {
   "cell_type": "code",
   "execution_count": null,
   "id": "d236d3ea-e029-41e5-a3b2-407dc4f00e35",
   "metadata": {},
   "outputs": [],
   "source": [
    "import pandas as pd"
   ]
  },
  {
   "cell_type": "code",
   "execution_count": null,
   "id": "aff9aca8-0d26-4be8-b047-85b9a27582c8",
   "metadata": {},
   "outputs": [],
   "source": [
    "titanic = pd.read_csv('titanic.csv')"
   ]
  },
  {
   "cell_type": "code",
   "execution_count": null,
   "id": "22c2e774-6a1a-4707-94d8-b638b552b836",
   "metadata": {},
   "outputs": [],
   "source": [
    "titanic.head()"
   ]
  },
  {
   "cell_type": "code",
   "execution_count": null,
   "id": "a37c9de6-7aa5-4bac-a6ff-1aa6e4bb74c7",
   "metadata": {},
   "outputs": [],
   "source": [
    "titanic.tail()"
   ]
  },
  {
   "cell_type": "markdown",
   "id": "97dc0b1f-7b26-40c2-884a-5ee517ed2655",
   "metadata": {},
   "source": [
    "#### **nunique()**"
   ]
  },
  {
   "cell_type": "code",
   "execution_count": null,
   "id": "372c8ccf-0cd7-4e25-97c9-105da36a5654",
   "metadata": {},
   "outputs": [],
   "source": [
    "titanic.age.unique()"
   ]
  },
  {
   "cell_type": "code",
   "execution_count": null,
   "id": "7fc1b121-3d0f-408f-8c18-be2d8110e031",
   "metadata": {},
   "outputs": [],
   "source": [
    "titanic.nunique(axis = 0)"
   ]
  },
  {
   "cell_type": "markdown",
   "id": "b30248bd-36b9-4d8e-9201-f7374e097ef2",
   "metadata": {},
   "source": [
    "#### **nlargest()**"
   ]
  },
  {
   "cell_type": "code",
   "execution_count": null,
   "id": "3a21be08-55a1-4e78-bf67-ef2b49f5a516",
   "metadata": {},
   "outputs": [],
   "source": [
    "titanic.nlargest(columns = 'age', n = 5)"
   ]
  },
  {
   "cell_type": "code",
   "execution_count": null,
   "id": "e0938e4c-a11f-4742-bdfc-f5896b74d114",
   "metadata": {},
   "outputs": [],
   "source": [
    "titanic.sort_values(by = 'age', ascending = False).head()"
   ]
  },
  {
   "cell_type": "markdown",
   "id": "1235434c-7625-4eb0-a0a2-60b5dd0b579f",
   "metadata": {},
   "source": [
    "#### **nsmallest()**"
   ]
  },
  {
   "cell_type": "code",
   "execution_count": null,
   "id": "7eafe15e-1ffc-4251-a35a-fc4e99612bf6",
   "metadata": {},
   "outputs": [],
   "source": [
    "titanic.nsmallest(n = 5, columns = 'age')"
   ]
  },
  {
   "cell_type": "code",
   "execution_count": null,
   "id": "dc9a5371-2efa-4b8d-bf53-b8488b15286a",
   "metadata": {},
   "outputs": [],
   "source": [
    "titanic.sort_values(by = 'age').head()"
   ]
  },
  {
   "cell_type": "code",
   "execution_count": null,
   "id": "717dbccb-efa2-4d42-ad5c-cd50452268f1",
   "metadata": {},
   "outputs": [],
   "source": [
    "titanic.loc[titanic.age.idxmin()]"
   ]
  },
  {
   "cell_type": "markdown",
   "id": "a0b4fafc-0c34-452e-856e-07691d1b778e",
   "metadata": {},
   "source": [
    "## **Summary statistics and accumulations**"
   ]
  },
  {
   "cell_type": "code",
   "execution_count": null,
   "id": "b8e3eac1-812d-4ee2-af0d-f0b781937098",
   "metadata": {},
   "outputs": [],
   "source": [
    "import pandas as pd"
   ]
  },
  {
   "cell_type": "code",
   "execution_count": null,
   "id": "dbb95344-bdb5-4df6-920b-f2849d0ca0fa",
   "metadata": {},
   "outputs": [],
   "source": [
    "titanic = pd.read_csv('titanic.csv')"
   ]
  },
  {
   "cell_type": "code",
   "execution_count": null,
   "id": "dba66756-4bff-46d0-8511-851f1bcb35f8",
   "metadata": {},
   "outputs": [],
   "source": [
    "titanic.head()"
   ]
  },
  {
   "cell_type": "code",
   "execution_count": null,
   "id": "fc46204b-beac-465c-a778-fdc588c9b187",
   "metadata": {},
   "outputs": [],
   "source": [
    "titanic.describe()"
   ]
  },
  {
   "cell_type": "code",
   "execution_count": null,
   "id": "213c3283-13a7-48f2-93d0-c61d63ae8ec8",
   "metadata": {},
   "outputs": [],
   "source": [
    "titanic.count()"
   ]
  },
  {
   "cell_type": "code",
   "execution_count": null,
   "id": "e5d1f149-8653-4609-ba2e-f725f358b7cc",
   "metadata": {},
   "outputs": [],
   "source": [
    "titanic.max(numeric_only = True)"
   ]
  },
  {
   "cell_type": "code",
   "execution_count": null,
   "id": "b8317cba-306f-4bd0-a08a-d81b93caeefd",
   "metadata": {},
   "outputs": [],
   "source": [
    "titanic.min(numeric_only = True)"
   ]
  },
  {
   "cell_type": "code",
   "execution_count": null,
   "id": "28a9fe53-816c-4ceb-9fc1-ed0987b631dc",
   "metadata": {},
   "outputs": [],
   "source": [
    "titanic.mean(numeric_only = True)"
   ]
  },
  {
   "cell_type": "code",
   "execution_count": null,
   "id": "96abd1c5-ada4-40b1-a943-57ec0a4a4f31",
   "metadata": {},
   "outputs": [],
   "source": [
    "titanic.sum(numeric_only = True)"
   ]
  },
  {
   "cell_type": "code",
   "execution_count": null,
   "id": "8f76ad5c-4126-42db-9014-f2acda681c29",
   "metadata": {},
   "outputs": [],
   "source": [
    "titanic.age.cumsum()"
   ]
  },
  {
   "cell_type": "code",
   "execution_count": null,
   "id": "02066513-9e57-410c-b298-0d602fef9271",
   "metadata": {},
   "outputs": [],
   "source": [
    "titanic.corr(numeric_only = True)"
   ]
  },
  {
   "cell_type": "code",
   "execution_count": null,
   "id": "d2af86a0-9ed5-46ea-b439-29024e673846",
   "metadata": {},
   "outputs": [],
   "source": [
    "titanic.survived.corr(titanic.fare)"
   ]
  },
  {
   "cell_type": "markdown",
   "id": "296f21a7-16bf-4160-baf9-17e5ad68cfad",
   "metadata": {},
   "source": [
    "## **The agg() method**"
   ]
  },
  {
   "cell_type": "code",
   "execution_count": 1,
   "id": "49105fcc-fb71-408b-993b-9643758e5b7d",
   "metadata": {},
   "outputs": [],
   "source": [
    "import pandas as pd"
   ]
  },
  {
   "cell_type": "code",
   "execution_count": 2,
   "id": "248c02ce-2894-4c60-877a-10ae7239a30e",
   "metadata": {},
   "outputs": [],
   "source": [
    "titanic = pd.read_csv('titanic.csv')"
   ]
  },
  {
   "cell_type": "code",
   "execution_count": 3,
   "id": "f51c7f3f-a46b-45bc-a61a-185d109e3f30",
   "metadata": {},
   "outputs": [
    {
     "data": {
      "text/html": [
       "<div>\n",
       "<style scoped>\n",
       "    .dataframe tbody tr th:only-of-type {\n",
       "        vertical-align: middle;\n",
       "    }\n",
       "\n",
       "    .dataframe tbody tr th {\n",
       "        vertical-align: top;\n",
       "    }\n",
       "\n",
       "    .dataframe thead th {\n",
       "        text-align: right;\n",
       "    }\n",
       "</style>\n",
       "<table border=\"1\" class=\"dataframe\">\n",
       "  <thead>\n",
       "    <tr style=\"text-align: right;\">\n",
       "      <th></th>\n",
       "      <th>survived</th>\n",
       "      <th>pclass</th>\n",
       "      <th>sex</th>\n",
       "      <th>age</th>\n",
       "      <th>sibsp</th>\n",
       "      <th>parch</th>\n",
       "      <th>fare</th>\n",
       "      <th>embarked</th>\n",
       "      <th>deck</th>\n",
       "    </tr>\n",
       "  </thead>\n",
       "  <tbody>\n",
       "    <tr>\n",
       "      <th>0</th>\n",
       "      <td>0</td>\n",
       "      <td>3</td>\n",
       "      <td>male</td>\n",
       "      <td>22.0</td>\n",
       "      <td>1</td>\n",
       "      <td>0</td>\n",
       "      <td>7.2500</td>\n",
       "      <td>S</td>\n",
       "      <td>NaN</td>\n",
       "    </tr>\n",
       "    <tr>\n",
       "      <th>1</th>\n",
       "      <td>1</td>\n",
       "      <td>1</td>\n",
       "      <td>female</td>\n",
       "      <td>38.0</td>\n",
       "      <td>1</td>\n",
       "      <td>0</td>\n",
       "      <td>71.2833</td>\n",
       "      <td>C</td>\n",
       "      <td>C</td>\n",
       "    </tr>\n",
       "    <tr>\n",
       "      <th>2</th>\n",
       "      <td>1</td>\n",
       "      <td>3</td>\n",
       "      <td>female</td>\n",
       "      <td>26.0</td>\n",
       "      <td>0</td>\n",
       "      <td>0</td>\n",
       "      <td>7.9250</td>\n",
       "      <td>S</td>\n",
       "      <td>NaN</td>\n",
       "    </tr>\n",
       "    <tr>\n",
       "      <th>3</th>\n",
       "      <td>1</td>\n",
       "      <td>1</td>\n",
       "      <td>female</td>\n",
       "      <td>35.0</td>\n",
       "      <td>1</td>\n",
       "      <td>0</td>\n",
       "      <td>53.1000</td>\n",
       "      <td>S</td>\n",
       "      <td>C</td>\n",
       "    </tr>\n",
       "    <tr>\n",
       "      <th>4</th>\n",
       "      <td>0</td>\n",
       "      <td>3</td>\n",
       "      <td>male</td>\n",
       "      <td>35.0</td>\n",
       "      <td>0</td>\n",
       "      <td>0</td>\n",
       "      <td>8.0500</td>\n",
       "      <td>S</td>\n",
       "      <td>NaN</td>\n",
       "    </tr>\n",
       "  </tbody>\n",
       "</table>\n",
       "</div>"
      ],
      "text/plain": [
       "   survived  pclass     sex   age  sibsp  parch     fare embarked deck\n",
       "0         0       3    male  22.0      1      0   7.2500        S  NaN\n",
       "1         1       1  female  38.0      1      0  71.2833        C    C\n",
       "2         1       3  female  26.0      0      0   7.9250        S  NaN\n",
       "3         1       1  female  35.0      1      0  53.1000        S    C\n",
       "4         0       3    male  35.0      0      0   8.0500        S  NaN"
      ]
     },
     "execution_count": 3,
     "metadata": {},
     "output_type": "execute_result"
    }
   ],
   "source": [
    "titanic.head()"
   ]
  },
  {
   "cell_type": "code",
   "execution_count": 4,
   "id": "a6abd97b-af13-4b66-b123-8aae7f710307",
   "metadata": {},
   "outputs": [
    {
     "data": {
      "text/html": [
       "<div>\n",
       "<style scoped>\n",
       "    .dataframe tbody tr th:only-of-type {\n",
       "        vertical-align: middle;\n",
       "    }\n",
       "\n",
       "    .dataframe tbody tr th {\n",
       "        vertical-align: top;\n",
       "    }\n",
       "\n",
       "    .dataframe thead th {\n",
       "        text-align: right;\n",
       "    }\n",
       "</style>\n",
       "<table border=\"1\" class=\"dataframe\">\n",
       "  <thead>\n",
       "    <tr style=\"text-align: right;\">\n",
       "      <th></th>\n",
       "      <th>survived</th>\n",
       "      <th>pclass</th>\n",
       "      <th>age</th>\n",
       "      <th>sibsp</th>\n",
       "      <th>parch</th>\n",
       "      <th>fare</th>\n",
       "    </tr>\n",
       "  </thead>\n",
       "  <tbody>\n",
       "    <tr>\n",
       "      <th>count</th>\n",
       "      <td>891.000000</td>\n",
       "      <td>891.000000</td>\n",
       "      <td>714.000000</td>\n",
       "      <td>891.000000</td>\n",
       "      <td>891.000000</td>\n",
       "      <td>891.000000</td>\n",
       "    </tr>\n",
       "    <tr>\n",
       "      <th>mean</th>\n",
       "      <td>0.383838</td>\n",
       "      <td>2.308642</td>\n",
       "      <td>29.699118</td>\n",
       "      <td>0.523008</td>\n",
       "      <td>0.381594</td>\n",
       "      <td>32.204208</td>\n",
       "    </tr>\n",
       "    <tr>\n",
       "      <th>std</th>\n",
       "      <td>0.486592</td>\n",
       "      <td>0.836071</td>\n",
       "      <td>14.526497</td>\n",
       "      <td>1.102743</td>\n",
       "      <td>0.806057</td>\n",
       "      <td>49.693429</td>\n",
       "    </tr>\n",
       "    <tr>\n",
       "      <th>min</th>\n",
       "      <td>0.000000</td>\n",
       "      <td>1.000000</td>\n",
       "      <td>0.420000</td>\n",
       "      <td>0.000000</td>\n",
       "      <td>0.000000</td>\n",
       "      <td>0.000000</td>\n",
       "    </tr>\n",
       "    <tr>\n",
       "      <th>25%</th>\n",
       "      <td>0.000000</td>\n",
       "      <td>2.000000</td>\n",
       "      <td>20.125000</td>\n",
       "      <td>0.000000</td>\n",
       "      <td>0.000000</td>\n",
       "      <td>7.910400</td>\n",
       "    </tr>\n",
       "    <tr>\n",
       "      <th>50%</th>\n",
       "      <td>0.000000</td>\n",
       "      <td>3.000000</td>\n",
       "      <td>28.000000</td>\n",
       "      <td>0.000000</td>\n",
       "      <td>0.000000</td>\n",
       "      <td>14.454200</td>\n",
       "    </tr>\n",
       "    <tr>\n",
       "      <th>75%</th>\n",
       "      <td>1.000000</td>\n",
       "      <td>3.000000</td>\n",
       "      <td>38.000000</td>\n",
       "      <td>1.000000</td>\n",
       "      <td>0.000000</td>\n",
       "      <td>31.000000</td>\n",
       "    </tr>\n",
       "    <tr>\n",
       "      <th>max</th>\n",
       "      <td>1.000000</td>\n",
       "      <td>3.000000</td>\n",
       "      <td>80.000000</td>\n",
       "      <td>8.000000</td>\n",
       "      <td>6.000000</td>\n",
       "      <td>512.329200</td>\n",
       "    </tr>\n",
       "  </tbody>\n",
       "</table>\n",
       "</div>"
      ],
      "text/plain": [
       "         survived      pclass         age       sibsp       parch        fare\n",
       "count  891.000000  891.000000  714.000000  891.000000  891.000000  891.000000\n",
       "mean     0.383838    2.308642   29.699118    0.523008    0.381594   32.204208\n",
       "std      0.486592    0.836071   14.526497    1.102743    0.806057   49.693429\n",
       "min      0.000000    1.000000    0.420000    0.000000    0.000000    0.000000\n",
       "25%      0.000000    2.000000   20.125000    0.000000    0.000000    7.910400\n",
       "50%      0.000000    3.000000   28.000000    0.000000    0.000000   14.454200\n",
       "75%      1.000000    3.000000   38.000000    1.000000    0.000000   31.000000\n",
       "max      1.000000    3.000000   80.000000    8.000000    6.000000  512.329200"
      ]
     },
     "execution_count": 4,
     "metadata": {},
     "output_type": "execute_result"
    }
   ],
   "source": [
    "titanic.describe()"
   ]
  },
  {
   "cell_type": "code",
   "execution_count": 5,
   "id": "87b02750-517b-4f5e-a4d9-e7f4bdac3f99",
   "metadata": {},
   "outputs": [
    {
     "data": {
      "text/plain": [
       "survived     0.383838\n",
       "pclass       2.308642\n",
       "age         29.699118\n",
       "sibsp        0.523008\n",
       "parch        0.381594\n",
       "fare        32.204208\n",
       "dtype: float64"
      ]
     },
     "execution_count": 5,
     "metadata": {},
     "output_type": "execute_result"
    }
   ],
   "source": [
    "titanic.agg('mean', numeric_only = True) # works but it is not recommended"
   ]
  },
  {
   "cell_type": "code",
   "execution_count": 6,
   "id": "0a2c4f02-d019-4a1f-adb6-2d70abfd144e",
   "metadata": {},
   "outputs": [
    {
     "data": {
      "text/plain": [
       "survived     0.383838\n",
       "pclass       2.308642\n",
       "age         29.699118\n",
       "sibsp        0.523008\n",
       "parch        0.381594\n",
       "fare        32.204208\n",
       "dtype: float64"
      ]
     },
     "execution_count": 6,
     "metadata": {},
     "output_type": "execute_result"
    }
   ],
   "source": [
    "titanic.select_dtypes('number').agg('mean')"
   ]
  },
  {
   "cell_type": "code",
   "execution_count": 7,
   "id": "44ad77c8-ce62-433b-92d3-09b28198e8cd",
   "metadata": {},
   "outputs": [
    {
     "data": {
      "text/html": [
       "<div>\n",
       "<style scoped>\n",
       "    .dataframe tbody tr th:only-of-type {\n",
       "        vertical-align: middle;\n",
       "    }\n",
       "\n",
       "    .dataframe tbody tr th {\n",
       "        vertical-align: top;\n",
       "    }\n",
       "\n",
       "    .dataframe thead th {\n",
       "        text-align: right;\n",
       "    }\n",
       "</style>\n",
       "<table border=\"1\" class=\"dataframe\">\n",
       "  <thead>\n",
       "    <tr style=\"text-align: right;\">\n",
       "      <th></th>\n",
       "      <th>survived</th>\n",
       "      <th>pclass</th>\n",
       "      <th>age</th>\n",
       "      <th>sibsp</th>\n",
       "      <th>parch</th>\n",
       "      <th>fare</th>\n",
       "    </tr>\n",
       "  </thead>\n",
       "  <tbody>\n",
       "    <tr>\n",
       "      <th>mean</th>\n",
       "      <td>0.383838</td>\n",
       "      <td>2.308642</td>\n",
       "      <td>29.699118</td>\n",
       "      <td>0.523008</td>\n",
       "      <td>0.381594</td>\n",
       "      <td>32.204208</td>\n",
       "    </tr>\n",
       "    <tr>\n",
       "      <th>sum</th>\n",
       "      <td>342.000000</td>\n",
       "      <td>2057.000000</td>\n",
       "      <td>21205.170000</td>\n",
       "      <td>466.000000</td>\n",
       "      <td>340.000000</td>\n",
       "      <td>28693.949300</td>\n",
       "    </tr>\n",
       "    <tr>\n",
       "      <th>max</th>\n",
       "      <td>1.000000</td>\n",
       "      <td>3.000000</td>\n",
       "      <td>80.000000</td>\n",
       "      <td>8.000000</td>\n",
       "      <td>6.000000</td>\n",
       "      <td>512.329200</td>\n",
       "    </tr>\n",
       "  </tbody>\n",
       "</table>\n",
       "</div>"
      ],
      "text/plain": [
       "        survived       pclass           age       sibsp       parch  \\\n",
       "mean    0.383838     2.308642     29.699118    0.523008    0.381594   \n",
       "sum   342.000000  2057.000000  21205.170000  466.000000  340.000000   \n",
       "max     1.000000     3.000000     80.000000    8.000000    6.000000   \n",
       "\n",
       "              fare  \n",
       "mean     32.204208  \n",
       "sum   28693.949300  \n",
       "max     512.329200  "
      ]
     },
     "execution_count": 7,
     "metadata": {},
     "output_type": "execute_result"
    }
   ],
   "source": [
    "titanic.select_dtypes('number').agg(['mean', 'sum', 'max'])"
   ]
  },
  {
   "cell_type": "code",
   "execution_count": 8,
   "id": "fd7e7e7b-7f26-4686-a10b-50599fa2f6a3",
   "metadata": {},
   "outputs": [
    {
     "data": {
      "text/html": [
       "<div>\n",
       "<style scoped>\n",
       "    .dataframe tbody tr th:only-of-type {\n",
       "        vertical-align: middle;\n",
       "    }\n",
       "\n",
       "    .dataframe tbody tr th {\n",
       "        vertical-align: top;\n",
       "    }\n",
       "\n",
       "    .dataframe thead th {\n",
       "        text-align: right;\n",
       "    }\n",
       "</style>\n",
       "<table border=\"1\" class=\"dataframe\">\n",
       "  <thead>\n",
       "    <tr style=\"text-align: right;\">\n",
       "      <th></th>\n",
       "      <th>age</th>\n",
       "      <th>fare</th>\n",
       "    </tr>\n",
       "  </thead>\n",
       "  <tbody>\n",
       "    <tr>\n",
       "      <th>min</th>\n",
       "      <td>0.42</td>\n",
       "      <td>NaN</td>\n",
       "    </tr>\n",
       "    <tr>\n",
       "      <th>max</th>\n",
       "      <td>80.00</td>\n",
       "      <td>NaN</td>\n",
       "    </tr>\n",
       "    <tr>\n",
       "      <th>mean</th>\n",
       "      <td>NaN</td>\n",
       "      <td>32.204208</td>\n",
       "    </tr>\n",
       "    <tr>\n",
       "      <th>sum</th>\n",
       "      <td>NaN</td>\n",
       "      <td>28693.949300</td>\n",
       "    </tr>\n",
       "  </tbody>\n",
       "</table>\n",
       "</div>"
      ],
      "text/plain": [
       "        age          fare\n",
       "min    0.42           NaN\n",
       "max   80.00           NaN\n",
       "mean    NaN     32.204208\n",
       "sum     NaN  28693.949300"
      ]
     },
     "execution_count": 8,
     "metadata": {},
     "output_type": "execute_result"
    }
   ],
   "source": [
    "titanic.select_dtypes('number').agg({'age': ['min', 'max'], 'fare': ['mean', 'sum']})"
   ]
  },
  {
   "cell_type": "code",
   "execution_count": 9,
   "id": "8b19f9b2-db53-4068-8922-c75784c0c290",
   "metadata": {},
   "outputs": [],
   "source": [
    "def dummy_func(n):\n",
    "    return 2*n"
   ]
  },
  {
   "cell_type": "code",
   "execution_count": 10,
   "id": "2b45e74d-d15b-430c-a082-6182c1b0905c",
   "metadata": {},
   "outputs": [
    {
     "name": "stderr",
     "output_type": "stream",
     "text": [
      "C:\\Users\\Oggy\\AppData\\Local\\Temp\\ipykernel_22224\\2743394614.py:1: FutureWarning: using <function dummy_func at 0x000001B5C6A6FB00> in Series.agg cannot aggregate and has been deprecated. Use Series.transform to keep behavior unchanged.\n",
      "  titanic.select_dtypes('number').agg({'age': ['min', 'max'], 'fare': ['mean', 'sum'], 'fare': dummy_func})\n"
     ]
    },
    {
     "data": {
      "text/html": [
       "<div>\n",
       "<style scoped>\n",
       "    .dataframe tbody tr th:only-of-type {\n",
       "        vertical-align: middle;\n",
       "    }\n",
       "\n",
       "    .dataframe tbody tr th {\n",
       "        vertical-align: top;\n",
       "    }\n",
       "\n",
       "    .dataframe thead tr th {\n",
       "        text-align: left;\n",
       "    }\n",
       "</style>\n",
       "<table border=\"1\" class=\"dataframe\">\n",
       "  <thead>\n",
       "    <tr>\n",
       "      <th></th>\n",
       "      <th>age</th>\n",
       "      <th>fare</th>\n",
       "    </tr>\n",
       "    <tr>\n",
       "      <th></th>\n",
       "      <th>age</th>\n",
       "      <th>dummy_func</th>\n",
       "    </tr>\n",
       "  </thead>\n",
       "  <tbody>\n",
       "    <tr>\n",
       "      <th>min</th>\n",
       "      <td>0.42</td>\n",
       "      <td>NaN</td>\n",
       "    </tr>\n",
       "    <tr>\n",
       "      <th>max</th>\n",
       "      <td>80.00</td>\n",
       "      <td>NaN</td>\n",
       "    </tr>\n",
       "    <tr>\n",
       "      <th>0</th>\n",
       "      <td>NaN</td>\n",
       "      <td>14.5000</td>\n",
       "    </tr>\n",
       "    <tr>\n",
       "      <th>1</th>\n",
       "      <td>NaN</td>\n",
       "      <td>142.5666</td>\n",
       "    </tr>\n",
       "    <tr>\n",
       "      <th>2</th>\n",
       "      <td>NaN</td>\n",
       "      <td>15.8500</td>\n",
       "    </tr>\n",
       "    <tr>\n",
       "      <th>...</th>\n",
       "      <td>...</td>\n",
       "      <td>...</td>\n",
       "    </tr>\n",
       "    <tr>\n",
       "      <th>886</th>\n",
       "      <td>NaN</td>\n",
       "      <td>26.0000</td>\n",
       "    </tr>\n",
       "    <tr>\n",
       "      <th>887</th>\n",
       "      <td>NaN</td>\n",
       "      <td>60.0000</td>\n",
       "    </tr>\n",
       "    <tr>\n",
       "      <th>888</th>\n",
       "      <td>NaN</td>\n",
       "      <td>46.9000</td>\n",
       "    </tr>\n",
       "    <tr>\n",
       "      <th>889</th>\n",
       "      <td>NaN</td>\n",
       "      <td>60.0000</td>\n",
       "    </tr>\n",
       "    <tr>\n",
       "      <th>890</th>\n",
       "      <td>NaN</td>\n",
       "      <td>15.5000</td>\n",
       "    </tr>\n",
       "  </tbody>\n",
       "</table>\n",
       "<p>893 rows × 2 columns</p>\n",
       "</div>"
      ],
      "text/plain": [
       "       age       fare\n",
       "       age dummy_func\n",
       "min   0.42        NaN\n",
       "max  80.00        NaN\n",
       "0      NaN    14.5000\n",
       "1      NaN   142.5666\n",
       "2      NaN    15.8500\n",
       "..     ...        ...\n",
       "886    NaN    26.0000\n",
       "887    NaN    60.0000\n",
       "888    NaN    46.9000\n",
       "889    NaN    60.0000\n",
       "890    NaN    15.5000\n",
       "\n",
       "[893 rows x 2 columns]"
      ]
     },
     "execution_count": 10,
     "metadata": {},
     "output_type": "execute_result"
    }
   ],
   "source": [
    "titanic.select_dtypes('number').agg({'age': ['min', 'max'], 'fare': ['mean', 'sum'], 'fare': dummy_func})"
   ]
  },
  {
   "cell_type": "code",
   "execution_count": 11,
   "id": "34d1e77d-3d1e-44a1-9ef3-ae789825d32d",
   "metadata": {},
   "outputs": [
    {
     "data": {
      "text/html": [
       "<div>\n",
       "<style scoped>\n",
       "    .dataframe tbody tr th:only-of-type {\n",
       "        vertical-align: middle;\n",
       "    }\n",
       "\n",
       "    .dataframe tbody tr th {\n",
       "        vertical-align: top;\n",
       "    }\n",
       "\n",
       "    .dataframe thead th {\n",
       "        text-align: right;\n",
       "    }\n",
       "</style>\n",
       "<table border=\"1\" class=\"dataframe\">\n",
       "  <thead>\n",
       "    <tr style=\"text-align: right;\">\n",
       "      <th></th>\n",
       "      <th>survived</th>\n",
       "      <th>pclass</th>\n",
       "      <th>age</th>\n",
       "      <th>sibsp</th>\n",
       "      <th>parch</th>\n",
       "      <th>fare</th>\n",
       "    </tr>\n",
       "  </thead>\n",
       "  <tbody>\n",
       "    <tr>\n",
       "      <th>0</th>\n",
       "      <td>0</td>\n",
       "      <td>6</td>\n",
       "      <td>44.0</td>\n",
       "      <td>2</td>\n",
       "      <td>0</td>\n",
       "      <td>14.5000</td>\n",
       "    </tr>\n",
       "    <tr>\n",
       "      <th>1</th>\n",
       "      <td>2</td>\n",
       "      <td>2</td>\n",
       "      <td>76.0</td>\n",
       "      <td>2</td>\n",
       "      <td>0</td>\n",
       "      <td>142.5666</td>\n",
       "    </tr>\n",
       "    <tr>\n",
       "      <th>2</th>\n",
       "      <td>2</td>\n",
       "      <td>6</td>\n",
       "      <td>52.0</td>\n",
       "      <td>0</td>\n",
       "      <td>0</td>\n",
       "      <td>15.8500</td>\n",
       "    </tr>\n",
       "    <tr>\n",
       "      <th>3</th>\n",
       "      <td>2</td>\n",
       "      <td>2</td>\n",
       "      <td>70.0</td>\n",
       "      <td>2</td>\n",
       "      <td>0</td>\n",
       "      <td>106.2000</td>\n",
       "    </tr>\n",
       "    <tr>\n",
       "      <th>4</th>\n",
       "      <td>0</td>\n",
       "      <td>6</td>\n",
       "      <td>70.0</td>\n",
       "      <td>0</td>\n",
       "      <td>0</td>\n",
       "      <td>16.1000</td>\n",
       "    </tr>\n",
       "    <tr>\n",
       "      <th>...</th>\n",
       "      <td>...</td>\n",
       "      <td>...</td>\n",
       "      <td>...</td>\n",
       "      <td>...</td>\n",
       "      <td>...</td>\n",
       "      <td>...</td>\n",
       "    </tr>\n",
       "    <tr>\n",
       "      <th>886</th>\n",
       "      <td>0</td>\n",
       "      <td>4</td>\n",
       "      <td>54.0</td>\n",
       "      <td>0</td>\n",
       "      <td>0</td>\n",
       "      <td>26.0000</td>\n",
       "    </tr>\n",
       "    <tr>\n",
       "      <th>887</th>\n",
       "      <td>2</td>\n",
       "      <td>2</td>\n",
       "      <td>38.0</td>\n",
       "      <td>0</td>\n",
       "      <td>0</td>\n",
       "      <td>60.0000</td>\n",
       "    </tr>\n",
       "    <tr>\n",
       "      <th>888</th>\n",
       "      <td>0</td>\n",
       "      <td>6</td>\n",
       "      <td>NaN</td>\n",
       "      <td>2</td>\n",
       "      <td>4</td>\n",
       "      <td>46.9000</td>\n",
       "    </tr>\n",
       "    <tr>\n",
       "      <th>889</th>\n",
       "      <td>2</td>\n",
       "      <td>2</td>\n",
       "      <td>52.0</td>\n",
       "      <td>0</td>\n",
       "      <td>0</td>\n",
       "      <td>60.0000</td>\n",
       "    </tr>\n",
       "    <tr>\n",
       "      <th>890</th>\n",
       "      <td>0</td>\n",
       "      <td>6</td>\n",
       "      <td>64.0</td>\n",
       "      <td>0</td>\n",
       "      <td>0</td>\n",
       "      <td>15.5000</td>\n",
       "    </tr>\n",
       "  </tbody>\n",
       "</table>\n",
       "<p>891 rows × 6 columns</p>\n",
       "</div>"
      ],
      "text/plain": [
       "     survived  pclass   age  sibsp  parch      fare\n",
       "0           0       6  44.0      2      0   14.5000\n",
       "1           2       2  76.0      2      0  142.5666\n",
       "2           2       6  52.0      0      0   15.8500\n",
       "3           2       2  70.0      2      0  106.2000\n",
       "4           0       6  70.0      0      0   16.1000\n",
       "..        ...     ...   ...    ...    ...       ...\n",
       "886         0       4  54.0      0      0   26.0000\n",
       "887         2       2  38.0      0      0   60.0000\n",
       "888         0       6   NaN      2      4   46.9000\n",
       "889         2       2  52.0      0      0   60.0000\n",
       "890         0       6  64.0      0      0   15.5000\n",
       "\n",
       "[891 rows x 6 columns]"
      ]
     },
     "execution_count": 11,
     "metadata": {},
     "output_type": "execute_result"
    }
   ],
   "source": [
    "titanic.select_dtypes('number').transform(dummy_func)"
   ]
  },
  {
   "cell_type": "code",
   "execution_count": null,
   "id": "5ba3a65c-9c3a-475b-a6da-8233a963b4a4",
   "metadata": {},
   "outputs": [],
   "source": []
  }
 ],
 "metadata": {
  "kernelspec": {
   "display_name": "Python 3 (ipykernel)",
   "language": "python",
   "name": "python3"
  },
  "language_info": {
   "codemirror_mode": {
    "name": "ipython",
    "version": 3
   },
   "file_extension": ".py",
   "mimetype": "text/x-python",
   "name": "python",
   "nbconvert_exporter": "python",
   "pygments_lexer": "ipython3",
   "version": "3.11.7"
  }
 },
 "nbformat": 4,
 "nbformat_minor": 5
}
