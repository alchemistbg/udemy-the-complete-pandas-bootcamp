{
 "cells": [
  {
   "cell_type": "markdown",
   "id": "e9f0cd44-9412-43bb-a2db-230845b54d66",
   "metadata": {},
   "source": [
    "# **Python Basics**"
   ]
  },
  {
   "cell_type": "markdown",
   "id": "f47089bc-6bcc-4983-96c5-1c12ee733f75",
   "metadata": {},
   "source": [
    "## **First steps**"
   ]
  },
  {
   "cell_type": "code",
   "execution_count": 1,
   "id": "8ae95638-dc33-46b6-a01b-57f6b69483bf",
   "metadata": {},
   "outputs": [
    {
     "data": {
      "text/plain": [
       "10"
      ]
     },
     "execution_count": 1,
     "metadata": {},
     "output_type": "execute_result"
    }
   ],
   "source": [
    "5 + 5"
   ]
  },
  {
   "cell_type": "code",
   "execution_count": 2,
   "id": "3ca8ed77-4129-4646-82c9-c5ed000cd368",
   "metadata": {},
   "outputs": [
    {
     "data": {
      "text/plain": [
       "-2"
      ]
     },
     "execution_count": 2,
     "metadata": {},
     "output_type": "execute_result"
    }
   ],
   "source": [
    "10 - 12"
   ]
  },
  {
   "cell_type": "code",
   "execution_count": 3,
   "id": "7980e4dd-3218-41dd-8e21-4508d5a3ad0f",
   "metadata": {},
   "outputs": [
    {
     "data": {
      "text/plain": [
       "18"
      ]
     },
     "execution_count": 3,
     "metadata": {},
     "output_type": "execute_result"
    }
   ],
   "source": [
    "3 * 6"
   ]
  },
  {
   "cell_type": "code",
   "execution_count": 4,
   "id": "a16a4240-a607-4dd3-9850-3f28862227f8",
   "metadata": {},
   "outputs": [
    {
     "data": {
      "text/plain": [
       "3.0"
      ]
     },
     "execution_count": 4,
     "metadata": {},
     "output_type": "execute_result"
    }
   ],
   "source": [
    "6 / 2"
   ]
  },
  {
   "cell_type": "code",
   "execution_count": 5,
   "id": "5e3dbb6f-2441-4ba3-a972-70614b70486f",
   "metadata": {},
   "outputs": [
    {
     "data": {
      "text/plain": [
       "3.5"
      ]
     },
     "execution_count": 5,
     "metadata": {},
     "output_type": "execute_result"
    }
   ],
   "source": [
    "7 / 2"
   ]
  },
  {
   "cell_type": "code",
   "execution_count": 6,
   "id": "cb026aea-7c62-4505-99b9-f269602341b0",
   "metadata": {},
   "outputs": [
    {
     "data": {
      "text/plain": [
       "3"
      ]
     },
     "execution_count": 6,
     "metadata": {},
     "output_type": "execute_result"
    }
   ],
   "source": [
    "7 // 2"
   ]
  },
  {
   "cell_type": "code",
   "execution_count": 7,
   "id": "6e087a2b-6711-4bb7-98b3-046abe2dd619",
   "metadata": {},
   "outputs": [
    {
     "data": {
      "text/plain": [
       "25"
      ]
     },
     "execution_count": 7,
     "metadata": {},
     "output_type": "execute_result"
    }
   ],
   "source": [
    "5**2"
   ]
  },
  {
   "cell_type": "code",
   "execution_count": 8,
   "id": "909856f4-82c5-41da-820a-dbc179982a22",
   "metadata": {},
   "outputs": [
    {
     "name": "stdout",
     "output_type": "stream",
     "text": [
      "5\n"
     ]
    }
   ],
   "source": [
    "print(5)"
   ]
  },
  {
   "cell_type": "code",
   "execution_count": 9,
   "id": "18e25a1c-e7d0-4f55-b8e3-13ff26dc0f75",
   "metadata": {},
   "outputs": [
    {
     "name": "stdout",
     "output_type": "stream",
     "text": [
      "56\n"
     ]
    }
   ],
   "source": [
    "print(4*14)"
   ]
  },
  {
   "cell_type": "markdown",
   "id": "715c64e5-9d17-4ac8-a70f-0eaffd4d45ec",
   "metadata": {},
   "source": [
    "## **Variables**"
   ]
  },
  {
   "cell_type": "code",
   "execution_count": 10,
   "id": "b1813734-e968-438e-8cd2-c514334f0957",
   "metadata": {},
   "outputs": [],
   "source": [
    "a = 5"
   ]
  },
  {
   "cell_type": "code",
   "execution_count": 11,
   "id": "7993e01c-b2bf-47c8-8243-d61d18427a9a",
   "metadata": {},
   "outputs": [
    {
     "data": {
      "text/plain": [
       "5"
      ]
     },
     "execution_count": 11,
     "metadata": {},
     "output_type": "execute_result"
    }
   ],
   "source": [
    "a"
   ]
  },
  {
   "cell_type": "code",
   "execution_count": 12,
   "id": "30e7ad63-dca7-46c0-a869-f480ab2e2813",
   "metadata": {},
   "outputs": [],
   "source": [
    "b = a"
   ]
  },
  {
   "cell_type": "code",
   "execution_count": 13,
   "id": "d97da9ff-7250-49f4-a3df-730b35b29a1b",
   "metadata": {},
   "outputs": [
    {
     "name": "stdout",
     "output_type": "stream",
     "text": [
      "a is: 5; b is 5\n"
     ]
    }
   ],
   "source": [
    "print(f'a is: {a}; b is {b}')"
   ]
  },
  {
   "cell_type": "code",
   "execution_count": 14,
   "id": "cabf97be-be7f-47f1-aed5-b6f5bb7ee18c",
   "metadata": {},
   "outputs": [],
   "source": [
    "a = 12"
   ]
  },
  {
   "cell_type": "code",
   "execution_count": 15,
   "id": "a98b37f4-4f44-4bd6-84df-719cf3ae8aa3",
   "metadata": {},
   "outputs": [
    {
     "name": "stdout",
     "output_type": "stream",
     "text": [
      "a is: 12; b is 5\n"
     ]
    }
   ],
   "source": [
    "print(f'a is: {a}; b is {b}')"
   ]
  },
  {
   "cell_type": "code",
   "execution_count": 16,
   "id": "45e74ff7-2fb2-424a-ad6d-bdbc54e8451d",
   "metadata": {},
   "outputs": [
    {
     "name": "stdout",
     "output_type": "stream",
     "text": [
      "60\n"
     ]
    }
   ],
   "source": [
    "print(a * b)"
   ]
  },
  {
   "cell_type": "code",
   "execution_count": 17,
   "id": "6fbe7992-d299-47b7-9b96-3ed9601cdcd6",
   "metadata": {},
   "outputs": [],
   "source": [
    "c = a / b"
   ]
  },
  {
   "cell_type": "code",
   "execution_count": 18,
   "id": "646e6435-91fc-4c43-8760-a026ad76493f",
   "metadata": {},
   "outputs": [
    {
     "data": {
      "text/plain": [
       "2.4"
      ]
     },
     "execution_count": 18,
     "metadata": {},
     "output_type": "execute_result"
    }
   ],
   "source": [
    "c"
   ]
  },
  {
   "cell_type": "code",
   "execution_count": 19,
   "id": "24aba80d-1637-4a0c-abc2-831c1dd7c59d",
   "metadata": {},
   "outputs": [],
   "source": [
    "s = 'Python'"
   ]
  },
  {
   "cell_type": "code",
   "execution_count": 20,
   "id": "d1f98b40-ad2d-45f1-b709-fe21cb19c4ce",
   "metadata": {},
   "outputs": [
    {
     "data": {
      "text/plain": [
       "'Python'"
      ]
     },
     "execution_count": 20,
     "metadata": {},
     "output_type": "execute_result"
    }
   ],
   "source": [
    "s"
   ]
  },
  {
   "cell_type": "markdown",
   "id": "37132487-b848-4295-b11a-f665d172ce26",
   "metadata": {},
   "source": [
    "## **Data types**"
   ]
  },
  {
   "cell_type": "code",
   "execution_count": 21,
   "id": "d3327039-bc32-4e61-8005-af7022249659",
   "metadata": {},
   "outputs": [],
   "source": [
    "a = 5"
   ]
  },
  {
   "cell_type": "code",
   "execution_count": 22,
   "id": "9645e26f-4753-420c-a9a3-6bba44568a01",
   "metadata": {},
   "outputs": [],
   "source": [
    "b = 2"
   ]
  },
  {
   "cell_type": "code",
   "execution_count": 23,
   "id": "46af6a82-c5ca-446b-a6d5-5b57c76b40de",
   "metadata": {},
   "outputs": [
    {
     "data": {
      "text/plain": [
       "7"
      ]
     },
     "execution_count": 23,
     "metadata": {},
     "output_type": "execute_result"
    }
   ],
   "source": [
    "a + b"
   ]
  },
  {
   "cell_type": "code",
   "execution_count": 24,
   "id": "c1ebabf5-f91f-494e-8009-90a57c7adbba",
   "metadata": {},
   "outputs": [
    {
     "data": {
      "text/plain": [
       "3"
      ]
     },
     "execution_count": 24,
     "metadata": {},
     "output_type": "execute_result"
    }
   ],
   "source": [
    "a - b"
   ]
  },
  {
   "cell_type": "code",
   "execution_count": 25,
   "id": "a72d8717-f609-46de-904f-faa4add732de",
   "metadata": {},
   "outputs": [
    {
     "data": {
      "text/plain": [
       "-3"
      ]
     },
     "execution_count": 25,
     "metadata": {},
     "output_type": "execute_result"
    }
   ],
   "source": [
    "b - a"
   ]
  },
  {
   "cell_type": "code",
   "execution_count": 26,
   "id": "967b6104-cc23-4161-b199-bfef00527509",
   "metadata": {},
   "outputs": [
    {
     "data": {
      "text/plain": [
       "10"
      ]
     },
     "execution_count": 26,
     "metadata": {},
     "output_type": "execute_result"
    }
   ],
   "source": [
    "a * b"
   ]
  },
  {
   "cell_type": "code",
   "execution_count": 27,
   "id": "2c0e8317-1464-4535-948e-17c4cd7849bf",
   "metadata": {},
   "outputs": [],
   "source": [
    "c = a / b"
   ]
  },
  {
   "cell_type": "code",
   "execution_count": 28,
   "id": "24cf8485-49ec-4b80-80f4-18c39dff1c97",
   "metadata": {},
   "outputs": [
    {
     "data": {
      "text/plain": [
       "2.5"
      ]
     },
     "execution_count": 28,
     "metadata": {},
     "output_type": "execute_result"
    }
   ],
   "source": [
    "c"
   ]
  },
  {
   "cell_type": "code",
   "execution_count": 29,
   "id": "6a5499e8-de4d-44f5-8012-6bb0f30f77b4",
   "metadata": {},
   "outputs": [
    {
     "data": {
      "text/plain": [
       "(5, 2)"
      ]
     },
     "execution_count": 29,
     "metadata": {},
     "output_type": "execute_result"
    }
   ],
   "source": [
    "c.as_integer_ratio()"
   ]
  },
  {
   "cell_type": "code",
   "execution_count": 30,
   "id": "7d45b8a1-da5b-40e2-81ff-b81f21a237fa",
   "metadata": {},
   "outputs": [
    {
     "data": {
      "text/plain": [
       "2"
      ]
     },
     "execution_count": 30,
     "metadata": {},
     "output_type": "execute_result"
    }
   ],
   "source": [
    "b.numerator"
   ]
  },
  {
   "cell_type": "code",
   "execution_count": 31,
   "id": "7a48560c-e65d-421e-97bd-2ca223d8db33",
   "metadata": {},
   "outputs": [
    {
     "data": {
      "text/plain": [
       "1"
      ]
     },
     "execution_count": 31,
     "metadata": {},
     "output_type": "execute_result"
    }
   ],
   "source": [
    "b.denominator"
   ]
  },
  {
   "cell_type": "code",
   "execution_count": 32,
   "id": "1fc5a5e0-6a0e-40b7-89ad-7d29ae21b94c",
   "metadata": {},
   "outputs": [
    {
     "data": {
      "text/plain": [
       "False"
      ]
     },
     "execution_count": 32,
     "metadata": {},
     "output_type": "execute_result"
    }
   ],
   "source": [
    "c.is_integer()"
   ]
  },
  {
   "cell_type": "code",
   "execution_count": 33,
   "id": "8fe96557-d5a4-4d76-bfd5-eee16eaeb017",
   "metadata": {},
   "outputs": [
    {
     "data": {
      "text/plain": [
       "2.5"
      ]
     },
     "execution_count": 33,
     "metadata": {},
     "output_type": "execute_result"
    }
   ],
   "source": [
    "c.real"
   ]
  },
  {
   "cell_type": "code",
   "execution_count": 34,
   "id": "45ad5699-6da1-4418-af17-da344f90f595",
   "metadata": {},
   "outputs": [],
   "source": [
    "d = 11 / 3"
   ]
  },
  {
   "cell_type": "code",
   "execution_count": 35,
   "id": "acba3e0f-c0d2-4504-be35-61eb21d97849",
   "metadata": {},
   "outputs": [
    {
     "data": {
      "text/plain": [
       "(8256599316845909, 2251799813685248)"
      ]
     },
     "execution_count": 35,
     "metadata": {},
     "output_type": "execute_result"
    }
   ],
   "source": [
    "d.as_integer_ratio()"
   ]
  },
  {
   "cell_type": "code",
   "execution_count": 36,
   "id": "7beced81-6307-4f07-a4be-148cd310b84a",
   "metadata": {},
   "outputs": [
    {
     "data": {
      "text/plain": [
       "3.67"
      ]
     },
     "execution_count": 36,
     "metadata": {},
     "output_type": "execute_result"
    }
   ],
   "source": [
    "round(d, 2)"
   ]
  },
  {
   "cell_type": "code",
   "execution_count": 37,
   "id": "04f71443-1af9-42e8-bb41-fd90f45ff691",
   "metadata": {},
   "outputs": [
    {
     "data": {
      "text/plain": [
       "3.6666666666666665"
      ]
     },
     "execution_count": 37,
     "metadata": {},
     "output_type": "execute_result"
    }
   ],
   "source": [
    "d"
   ]
  },
  {
   "cell_type": "code",
   "execution_count": 38,
   "id": "e53a21bd-b6ed-451b-91bc-4280174f4786",
   "metadata": {},
   "outputs": [
    {
     "data": {
      "text/plain": [
       "(4165829655317709, 1125899906842624)"
      ]
     },
     "execution_count": 38,
     "metadata": {},
     "output_type": "execute_result"
    }
   ],
   "source": [
    "round(d, 1).as_integer_ratio()"
   ]
  },
  {
   "cell_type": "code",
   "execution_count": 39,
   "id": "15143043-a7ba-4dcb-9c1a-5cc46bd3661a",
   "metadata": {
    "scrolled": true
   },
   "outputs": [
    {
     "data": {
      "text/plain": [
       "3"
      ]
     },
     "execution_count": 39,
     "metadata": {},
     "output_type": "execute_result"
    }
   ],
   "source": [
    "int(d)"
   ]
  },
  {
   "cell_type": "code",
   "execution_count": 40,
   "id": "382e56d7-89fe-49f1-ba69-d08ac0f76fa8",
   "metadata": {},
   "outputs": [
    {
     "data": {
      "text/plain": [
       "5.0"
      ]
     },
     "execution_count": 40,
     "metadata": {},
     "output_type": "execute_result"
    }
   ],
   "source": [
    "float(a)"
   ]
  },
  {
   "cell_type": "code",
   "execution_count": 41,
   "id": "7a8d043d-77a1-4175-bb71-1de2e54f4e18",
   "metadata": {},
   "outputs": [
    {
     "data": {
      "text/plain": [
       "float"
      ]
     },
     "execution_count": 41,
     "metadata": {},
     "output_type": "execute_result"
    }
   ],
   "source": [
    "type(5.)"
   ]
  },
  {
   "cell_type": "code",
   "execution_count": 42,
   "id": "adec57e9-bac2-4487-bacc-4436ab2f163e",
   "metadata": {},
   "outputs": [],
   "source": [
    "f = \"5\""
   ]
  },
  {
   "cell_type": "code",
   "execution_count": 43,
   "id": "cd53faa2-2d17-4642-a005-c068a1003d0d",
   "metadata": {},
   "outputs": [
    {
     "ename": "TypeError",
     "evalue": "unsupported operand type(s) for +: 'int' and 'str'",
     "output_type": "error",
     "traceback": [
      "\u001b[1;31m---------------------------------------------------------------------------\u001b[0m",
      "\u001b[1;31mTypeError\u001b[0m                                 Traceback (most recent call last)",
      "Cell \u001b[1;32mIn[43], line 1\u001b[0m\n\u001b[1;32m----> 1\u001b[0m a \u001b[38;5;241m+\u001b[39m f\n",
      "\u001b[1;31mTypeError\u001b[0m: unsupported operand type(s) for +: 'int' and 'str'"
     ]
    }
   ],
   "source": [
    "a + f"
   ]
  },
  {
   "cell_type": "code",
   "execution_count": 44,
   "id": "86335f07-3c98-4196-a44a-cf5cdbfc1566",
   "metadata": {},
   "outputs": [
    {
     "data": {
      "text/plain": [
       "'Python'"
      ]
     },
     "execution_count": 44,
     "metadata": {},
     "output_type": "execute_result"
    }
   ],
   "source": [
    "s"
   ]
  },
  {
   "cell_type": "code",
   "execution_count": 45,
   "id": "28bf28db-e668-42bb-b356-ef70bc139132",
   "metadata": {},
   "outputs": [],
   "source": [
    "s1 = s + \" is a popular programming language!\""
   ]
  },
  {
   "cell_type": "code",
   "execution_count": 46,
   "id": "a0765041-8b30-4d27-8b06-57fba9e0c888",
   "metadata": {},
   "outputs": [
    {
     "data": {
      "text/plain": [
       "'Python is a popular programming language!'"
      ]
     },
     "execution_count": 46,
     "metadata": {},
     "output_type": "execute_result"
    }
   ],
   "source": [
    "s1"
   ]
  },
  {
   "cell_type": "code",
   "execution_count": 47,
   "id": "44aa1e8f-1ce2-4562-8750-4faa4053d21b",
   "metadata": {},
   "outputs": [],
   "source": [
    "l = list(s1)"
   ]
  },
  {
   "cell_type": "code",
   "execution_count": 48,
   "id": "275aef76-a4ed-4db8-994f-f429b9ef7150",
   "metadata": {},
   "outputs": [
    {
     "data": {
      "text/plain": [
       "['P',\n",
       " 'y',\n",
       " 't',\n",
       " 'h',\n",
       " 'o',\n",
       " 'n',\n",
       " ' ',\n",
       " 'i',\n",
       " 's',\n",
       " ' ',\n",
       " 'a',\n",
       " ' ',\n",
       " 'p',\n",
       " 'o',\n",
       " 'p',\n",
       " 'u',\n",
       " 'l',\n",
       " 'a',\n",
       " 'r',\n",
       " ' ',\n",
       " 'p',\n",
       " 'r',\n",
       " 'o',\n",
       " 'g',\n",
       " 'r',\n",
       " 'a',\n",
       " 'm',\n",
       " 'm',\n",
       " 'i',\n",
       " 'n',\n",
       " 'g',\n",
       " ' ',\n",
       " 'l',\n",
       " 'a',\n",
       " 'n',\n",
       " 'g',\n",
       " 'u',\n",
       " 'a',\n",
       " 'g',\n",
       " 'e',\n",
       " '!']"
      ]
     },
     "execution_count": 48,
     "metadata": {},
     "output_type": "execute_result"
    }
   ],
   "source": [
    "l"
   ]
  },
  {
   "cell_type": "code",
   "execution_count": 49,
   "id": "d5984aa6-ee2d-42b1-9def-74d2a12f4984",
   "metadata": {},
   "outputs": [
    {
     "data": {
      "text/plain": [
       "41"
      ]
     },
     "execution_count": 49,
     "metadata": {},
     "output_type": "execute_result"
    }
   ],
   "source": [
    "len(l)"
   ]
  },
  {
   "cell_type": "code",
   "execution_count": 50,
   "id": "c19c2ae0-0736-4b1f-af01-46e658680147",
   "metadata": {},
   "outputs": [],
   "source": [
    "l.sort()"
   ]
  },
  {
   "cell_type": "code",
   "execution_count": 51,
   "id": "913c3279-2bda-4b23-9285-60f76fa14d59",
   "metadata": {},
   "outputs": [
    {
     "data": {
      "text/plain": [
       "[' ',\n",
       " ' ',\n",
       " ' ',\n",
       " ' ',\n",
       " ' ',\n",
       " '!',\n",
       " 'P',\n",
       " 'a',\n",
       " 'a',\n",
       " 'a',\n",
       " 'a',\n",
       " 'a',\n",
       " 'e',\n",
       " 'g',\n",
       " 'g',\n",
       " 'g',\n",
       " 'g',\n",
       " 'h',\n",
       " 'i',\n",
       " 'i',\n",
       " 'l',\n",
       " 'l',\n",
       " 'm',\n",
       " 'm',\n",
       " 'n',\n",
       " 'n',\n",
       " 'n',\n",
       " 'o',\n",
       " 'o',\n",
       " 'o',\n",
       " 'p',\n",
       " 'p',\n",
       " 'p',\n",
       " 'r',\n",
       " 'r',\n",
       " 'r',\n",
       " 's',\n",
       " 't',\n",
       " 'u',\n",
       " 'u',\n",
       " 'y']"
      ]
     },
     "execution_count": 51,
     "metadata": {},
     "output_type": "execute_result"
    }
   ],
   "source": [
    "l"
   ]
  },
  {
   "cell_type": "code",
   "execution_count": 52,
   "id": "139d42b2-d1e0-4960-94f3-187d13619eea",
   "metadata": {},
   "outputs": [],
   "source": [
    "l1 = [1, 4, 5, 2, 76, 7, 2, 354, 3]"
   ]
  },
  {
   "cell_type": "code",
   "execution_count": 53,
   "id": "c8845e94-588a-4a88-88ac-91ec17859f59",
   "metadata": {},
   "outputs": [
    {
     "data": {
      "text/plain": [
       "[1, 4]"
      ]
     },
     "execution_count": 53,
     "metadata": {},
     "output_type": "execute_result"
    }
   ],
   "source": [
    "l1[:2]"
   ]
  },
  {
   "cell_type": "code",
   "execution_count": 54,
   "id": "f54e7693-89d5-4e18-a73d-cd04295464a2",
   "metadata": {},
   "outputs": [
    {
     "data": {
      "text/plain": [
       "[5, 2, 76]"
      ]
     },
     "execution_count": 54,
     "metadata": {},
     "output_type": "execute_result"
    }
   ],
   "source": [
    "l1[2:5]"
   ]
  },
  {
   "cell_type": "code",
   "execution_count": 55,
   "id": "82a060fb-0fd8-4db9-a9ab-05c649a637c9",
   "metadata": {},
   "outputs": [],
   "source": [
    "l2 = l1 + [9, 80, 56]"
   ]
  },
  {
   "cell_type": "code",
   "execution_count": 56,
   "id": "f1b7af9f-f5cf-4857-ab93-f2da2afe6334",
   "metadata": {},
   "outputs": [
    {
     "data": {
      "text/plain": [
       "[1, 4, 5, 2, 76, 7, 2, 354, 3]"
      ]
     },
     "execution_count": 56,
     "metadata": {},
     "output_type": "execute_result"
    }
   ],
   "source": [
    "l1"
   ]
  },
  {
   "cell_type": "code",
   "execution_count": 57,
   "id": "bc18feda-86a4-4d49-a295-3dfc9b03ab15",
   "metadata": {},
   "outputs": [
    {
     "data": {
      "text/plain": [
       "[1, 4, 5, 2, 76, 7, 2, 354, 3, 9, 80, 56]"
      ]
     },
     "execution_count": 57,
     "metadata": {},
     "output_type": "execute_result"
    }
   ],
   "source": [
    "l2"
   ]
  },
  {
   "cell_type": "code",
   "execution_count": 58,
   "id": "7a323c82-d31a-4877-b6ba-7e7f6edb6b34",
   "metadata": {},
   "outputs": [],
   "source": [
    "l3 = l2"
   ]
  },
  {
   "cell_type": "code",
   "execution_count": 59,
   "id": "527477ed-8e1b-43cf-a601-f3cd56ae7e66",
   "metadata": {},
   "outputs": [
    {
     "data": {
      "text/plain": [
       "[1, 4, 5, 2, 76, 7, 2, 354, 3, 9, 80, 56]"
      ]
     },
     "execution_count": 59,
     "metadata": {},
     "output_type": "execute_result"
    }
   ],
   "source": [
    "l2"
   ]
  },
  {
   "cell_type": "code",
   "execution_count": 60,
   "id": "b1af76cb-0336-4982-83b3-bd39a31d3936",
   "metadata": {},
   "outputs": [
    {
     "data": {
      "text/plain": [
       "[1, 4, 5, 2, 76, 7, 2, 354, 3, 9, 80, 56]"
      ]
     },
     "execution_count": 60,
     "metadata": {},
     "output_type": "execute_result"
    }
   ],
   "source": [
    "l3"
   ]
  },
  {
   "cell_type": "code",
   "execution_count": 61,
   "id": "43677da9-9048-4b1a-9231-af377e5ff7ef",
   "metadata": {},
   "outputs": [],
   "source": [
    "l2.append(42)"
   ]
  },
  {
   "cell_type": "code",
   "execution_count": 62,
   "id": "4d4a5393-2284-40cf-9c45-e487ae981b46",
   "metadata": {},
   "outputs": [
    {
     "data": {
      "text/plain": [
       "[1, 4, 5, 2, 76, 7, 2, 354, 3, 9, 80, 56, 42]"
      ]
     },
     "execution_count": 62,
     "metadata": {},
     "output_type": "execute_result"
    }
   ],
   "source": [
    "l2"
   ]
  },
  {
   "cell_type": "code",
   "execution_count": 63,
   "id": "663318fc-2480-49ee-8e58-b0e37279a301",
   "metadata": {},
   "outputs": [
    {
     "data": {
      "text/plain": [
       "[1, 4, 5, 2, 76, 7, 2, 354, 3, 9, 80, 56, 42]"
      ]
     },
     "execution_count": 63,
     "metadata": {},
     "output_type": "execute_result"
    }
   ],
   "source": [
    "l3"
   ]
  },
  {
   "cell_type": "code",
   "execution_count": 64,
   "id": "43868c08-9d8c-45bc-bac6-340736283f05",
   "metadata": {},
   "outputs": [],
   "source": [
    "l4 = l2.copy()"
   ]
  },
  {
   "cell_type": "code",
   "execution_count": 65,
   "id": "770dc2d2-5f86-4ec3-85e0-c65f3dfb9864",
   "metadata": {},
   "outputs": [
    {
     "data": {
      "text/plain": [
       "[1, 4, 5, 2, 76, 7, 2, 354, 3, 9, 80, 56, 42]"
      ]
     },
     "execution_count": 65,
     "metadata": {},
     "output_type": "execute_result"
    }
   ],
   "source": [
    "l2"
   ]
  },
  {
   "cell_type": "code",
   "execution_count": 66,
   "id": "e0650909-2097-4d09-b91b-121df5370716",
   "metadata": {},
   "outputs": [
    {
     "data": {
      "text/plain": [
       "[1, 4, 5, 2, 76, 7, 2, 354, 3, 9, 80, 56, 42]"
      ]
     },
     "execution_count": 66,
     "metadata": {},
     "output_type": "execute_result"
    }
   ],
   "source": [
    "l4"
   ]
  },
  {
   "cell_type": "code",
   "execution_count": 67,
   "id": "0de60339-bdd2-4721-a2e7-36f8b47a6bfb",
   "metadata": {},
   "outputs": [],
   "source": [
    "l2.append(44)"
   ]
  },
  {
   "cell_type": "code",
   "execution_count": 68,
   "id": "fa932485-d227-43e9-9896-b08ed0a82f4e",
   "metadata": {},
   "outputs": [
    {
     "data": {
      "text/plain": [
       "[1, 4, 5, 2, 76, 7, 2, 354, 3, 9, 80, 56, 42, 44]"
      ]
     },
     "execution_count": 68,
     "metadata": {},
     "output_type": "execute_result"
    }
   ],
   "source": [
    "l2"
   ]
  },
  {
   "cell_type": "code",
   "execution_count": 69,
   "id": "c7278b4b-d0a7-4ebe-94bf-7da24bffa82b",
   "metadata": {},
   "outputs": [
    {
     "data": {
      "text/plain": [
       "[1, 4, 5, 2, 76, 7, 2, 354, 3, 9, 80, 56, 42, 44]"
      ]
     },
     "execution_count": 69,
     "metadata": {},
     "output_type": "execute_result"
    }
   ],
   "source": [
    "l3"
   ]
  },
  {
   "cell_type": "code",
   "execution_count": 70,
   "id": "22b24672-0a06-4d45-b551-2b9f4fa5c409",
   "metadata": {},
   "outputs": [
    {
     "data": {
      "text/plain": [
       "[1, 4, 5, 2, 76, 7, 2, 354, 3, 9, 80, 56, 42, 44]"
      ]
     },
     "execution_count": 70,
     "metadata": {},
     "output_type": "execute_result"
    }
   ],
   "source": [
    "l3"
   ]
  },
  {
   "cell_type": "code",
   "execution_count": 71,
   "id": "753d0e1b-6b5e-4391-8241-edace15913f2",
   "metadata": {},
   "outputs": [
    {
     "data": {
      "text/plain": [
       "[1, 4, 5, 2, 76, 7, 2, 354, 3, 9, 80, 56, 42]"
      ]
     },
     "execution_count": 71,
     "metadata": {},
     "output_type": "execute_result"
    }
   ],
   "source": [
    "l4"
   ]
  },
  {
   "cell_type": "code",
   "execution_count": 72,
   "id": "6ed5004e-dd47-4317-bd24-8dc602f598ad",
   "metadata": {},
   "outputs": [
    {
     "data": {
      "text/plain": [
       "42"
      ]
     },
     "execution_count": 72,
     "metadata": {},
     "output_type": "execute_result"
    }
   ],
   "source": [
    "l4[-1]"
   ]
  },
  {
   "cell_type": "code",
   "execution_count": 73,
   "id": "b21f8b8d-b6f0-44eb-9569-35309a324c69",
   "metadata": {},
   "outputs": [
    {
     "data": {
      "text/plain": [
       "[5, 2, 76, 7, 2, 354, 3, 9, 80, 56]"
      ]
     },
     "execution_count": 73,
     "metadata": {},
     "output_type": "execute_result"
    }
   ],
   "source": [
    "l4[2:-1]"
   ]
  },
  {
   "cell_type": "code",
   "execution_count": 74,
   "id": "e8d31086-bfd6-41bc-b79f-514b898a04ee",
   "metadata": {},
   "outputs": [
    {
     "data": {
      "text/plain": [
       "[80, 56]"
      ]
     },
     "execution_count": 74,
     "metadata": {},
     "output_type": "execute_result"
    }
   ],
   "source": [
    "l4[-3:-1]"
   ]
  },
  {
   "cell_type": "code",
   "execution_count": 75,
   "id": "b2b09ecb-4063-4174-b9d5-654aa903d9a9",
   "metadata": {},
   "outputs": [
    {
     "data": {
      "text/plain": [
       "12"
      ]
     },
     "execution_count": 75,
     "metadata": {},
     "output_type": "execute_result"
    }
   ],
   "source": [
    "l4.index(42)"
   ]
  },
  {
   "cell_type": "code",
   "execution_count": 76,
   "id": "0a332b24-4907-4247-87aa-68c85ee66ba2",
   "metadata": {},
   "outputs": [
    {
     "ename": "ValueError",
     "evalue": "12 is not in list",
     "output_type": "error",
     "traceback": [
      "\u001b[1;31m---------------------------------------------------------------------------\u001b[0m",
      "\u001b[1;31mValueError\u001b[0m                                Traceback (most recent call last)",
      "Cell \u001b[1;32mIn[76], line 1\u001b[0m\n\u001b[1;32m----> 1\u001b[0m l4\u001b[38;5;241m.\u001b[39mindex(\u001b[38;5;241m12\u001b[39m)\n",
      "\u001b[1;31mValueError\u001b[0m: 12 is not in list"
     ]
    }
   ],
   "source": [
    "l4.index(12)"
   ]
  },
  {
   "cell_type": "code",
   "execution_count": 77,
   "id": "3693f2c3-97cb-4294-9fc5-5d4b004ee437",
   "metadata": {},
   "outputs": [
    {
     "data": {
      "text/plain": [
       "[1, 4, 5, 2, 76, 7, 2, 354, 3, 9, 80, 56, 42]"
      ]
     },
     "execution_count": 77,
     "metadata": {},
     "output_type": "execute_result"
    }
   ],
   "source": [
    "l4"
   ]
  },
  {
   "cell_type": "code",
   "execution_count": 78,
   "id": "71993991-a045-4e02-8d16-155bb91db72b",
   "metadata": {},
   "outputs": [
    {
     "data": {
      "text/plain": [
       "42"
      ]
     },
     "execution_count": 78,
     "metadata": {},
     "output_type": "execute_result"
    }
   ],
   "source": [
    "l4.pop()"
   ]
  },
  {
   "cell_type": "code",
   "execution_count": 79,
   "id": "fb726168-0b46-46d6-88d8-7c3ff24936e4",
   "metadata": {},
   "outputs": [
    {
     "data": {
      "text/plain": [
       "[1, 4, 5, 2, 76, 7, 2, 354, 3, 9, 80, 56]"
      ]
     },
     "execution_count": 79,
     "metadata": {},
     "output_type": "execute_result"
    }
   ],
   "source": [
    "l4"
   ]
  },
  {
   "cell_type": "code",
   "execution_count": 80,
   "id": "ef03ee78-2720-443f-9218-efeea37a824a",
   "metadata": {},
   "outputs": [
    {
     "data": {
      "text/plain": [
       "56"
      ]
     },
     "execution_count": 80,
     "metadata": {},
     "output_type": "execute_result"
    }
   ],
   "source": [
    "l4.pop()"
   ]
  },
  {
   "cell_type": "code",
   "execution_count": 81,
   "id": "8fcd1aac-145c-48ad-b874-ee13e6f68a67",
   "metadata": {},
   "outputs": [
    {
     "data": {
      "text/plain": [
       "[1, 4, 5, 2, 76, 7, 2, 354, 3, 9, 80]"
      ]
     },
     "execution_count": 81,
     "metadata": {},
     "output_type": "execute_result"
    }
   ],
   "source": [
    "l4"
   ]
  },
  {
   "cell_type": "code",
   "execution_count": 82,
   "id": "6e97bfaf-d028-4d6f-aca6-4515a910fd75",
   "metadata": {},
   "outputs": [],
   "source": [
    "l4.extend([42, 121])"
   ]
  },
  {
   "cell_type": "code",
   "execution_count": 83,
   "id": "ec9ee5be-9a9a-4812-b107-31b1be699fda",
   "metadata": {},
   "outputs": [
    {
     "data": {
      "text/plain": [
       "[1, 4, 5, 2, 76, 7, 2, 354, 3, 9, 80, 42, 121]"
      ]
     },
     "execution_count": 83,
     "metadata": {},
     "output_type": "execute_result"
    }
   ],
   "source": [
    "l4"
   ]
  },
  {
   "cell_type": "code",
   "execution_count": 84,
   "id": "b75034c4-2596-4e38-94c8-56a14c8275b1",
   "metadata": {},
   "outputs": [
    {
     "data": {
      "text/plain": [
       "[1, 4, 5, 2, 76, 7, 2, 354, 3, 9, 80, 42, 121]"
      ]
     },
     "execution_count": 84,
     "metadata": {},
     "output_type": "execute_result"
    }
   ],
   "source": [
    "l4[::1]"
   ]
  },
  {
   "cell_type": "code",
   "execution_count": 85,
   "id": "ae5dbc2a-2488-4a37-b110-5a750781ec8e",
   "metadata": {},
   "outputs": [
    {
     "data": {
      "text/plain": [
       "[1, 5, 76, 2, 3, 80, 121]"
      ]
     },
     "execution_count": 85,
     "metadata": {},
     "output_type": "execute_result"
    }
   ],
   "source": [
    "l4[::2]"
   ]
  },
  {
   "cell_type": "code",
   "execution_count": 86,
   "id": "0afe261e-0088-47c0-aa2b-de32d0d4699b",
   "metadata": {},
   "outputs": [
    {
     "data": {
      "text/plain": [
       "[121, 42, 80, 9, 3, 354, 2, 7, 76, 2, 5, 4, 1]"
      ]
     },
     "execution_count": 86,
     "metadata": {},
     "output_type": "execute_result"
    }
   ],
   "source": [
    "l4[::-1]"
   ]
  },
  {
   "cell_type": "code",
   "execution_count": 87,
   "id": "f40c1856-d831-4971-bff7-2bb44897b4d9",
   "metadata": {},
   "outputs": [
    {
     "data": {
      "text/plain": [
       "[121, 80, 3, 2, 76, 5, 1]"
      ]
     },
     "execution_count": 87,
     "metadata": {},
     "output_type": "execute_result"
    }
   ],
   "source": [
    "l4[::-2]"
   ]
  },
  {
   "cell_type": "code",
   "execution_count": 88,
   "id": "26be1fc6-91c6-4740-a5f5-091a5f8cdaf0",
   "metadata": {},
   "outputs": [
    {
     "data": {
      "text/plain": [
       "[1, 2, 2, 9, 121]"
      ]
     },
     "execution_count": 88,
     "metadata": {},
     "output_type": "execute_result"
    }
   ],
   "source": [
    "l4[::3]"
   ]
  },
  {
   "cell_type": "code",
   "execution_count": 89,
   "id": "a8153cac-d043-4a6f-80b7-5cf5777c754f",
   "metadata": {},
   "outputs": [],
   "source": [
    "l5 = [x / 2 for x in l4 if x % 2 == 0]"
   ]
  },
  {
   "cell_type": "code",
   "execution_count": 90,
   "id": "1dca596c-522e-4cfb-9213-097c6602e857",
   "metadata": {},
   "outputs": [
    {
     "data": {
      "text/plain": [
       "[2.0, 1.0, 38.0, 1.0, 177.0, 40.0, 21.0]"
      ]
     },
     "execution_count": 90,
     "metadata": {},
     "output_type": "execute_result"
    }
   ],
   "source": [
    "l5"
   ]
  },
  {
   "cell_type": "code",
   "execution_count": 91,
   "id": "063a410c-e340-48b2-b354-f84aaeffe0e1",
   "metadata": {},
   "outputs": [
    {
     "data": {
      "text/plain": [
       "7"
      ]
     },
     "execution_count": 91,
     "metadata": {},
     "output_type": "execute_result"
    }
   ],
   "source": [
    "len(l5)"
   ]
  },
  {
   "cell_type": "code",
   "execution_count": 92,
   "id": "3443bab7-5ba6-4fc1-8b5a-f9d1a2279c1e",
   "metadata": {},
   "outputs": [],
   "source": [
    "l5 = list(range(0, 7))"
   ]
  },
  {
   "cell_type": "code",
   "execution_count": 93,
   "id": "fc15f2ac-6886-42fb-8de1-00d39c1f02d9",
   "metadata": {},
   "outputs": [
    {
     "data": {
      "text/plain": [
       "[0, 1, 2, 3, 4, 5, 6]"
      ]
     },
     "execution_count": 93,
     "metadata": {},
     "output_type": "execute_result"
    }
   ],
   "source": [
    "l5"
   ]
  },
  {
   "cell_type": "code",
   "execution_count": 94,
   "id": "9d535b04-a7a6-4642-aa1d-35f8dc00a5a3",
   "metadata": {},
   "outputs": [],
   "source": [
    "l5 = 42"
   ]
  },
  {
   "cell_type": "code",
   "execution_count": 95,
   "id": "b518a4c7-4109-40b4-912a-2579ce0899ce",
   "metadata": {},
   "outputs": [
    {
     "data": {
      "text/plain": [
       "42"
      ]
     },
     "execution_count": 95,
     "metadata": {},
     "output_type": "execute_result"
    }
   ],
   "source": [
    "l5"
   ]
  },
  {
   "cell_type": "code",
   "execution_count": 96,
   "id": "ce4d27a2-acd4-43bf-b42b-2ccd220e2d80",
   "metadata": {},
   "outputs": [],
   "source": [
    "l5 = list(range(0, 7))"
   ]
  },
  {
   "cell_type": "code",
   "execution_count": 97,
   "id": "9cacae43-604f-47c9-ab22-ece20b07d081",
   "metadata": {},
   "outputs": [
    {
     "ename": "TypeError",
     "evalue": "can only assign an iterable",
     "output_type": "error",
     "traceback": [
      "\u001b[1;31m---------------------------------------------------------------------------\u001b[0m",
      "\u001b[1;31mTypeError\u001b[0m                                 Traceback (most recent call last)",
      "Cell \u001b[1;32mIn[97], line 1\u001b[0m\n\u001b[1;32m----> 1\u001b[0m l5[\u001b[38;5;241m-\u001b[39m\u001b[38;5;241m3\u001b[39m:] \u001b[38;5;241m=\u001b[39m \u001b[38;5;241m42\u001b[39m\n",
      "\u001b[1;31mTypeError\u001b[0m: can only assign an iterable"
     ]
    }
   ],
   "source": [
    "l5[-3:] = 42"
   ]
  },
  {
   "cell_type": "code",
   "execution_count": 98,
   "id": "91d237d2-93e4-4efd-92ab-5e38c487684f",
   "metadata": {},
   "outputs": [],
   "source": [
    "l5[-3:] = [42, 42, 42]"
   ]
  },
  {
   "cell_type": "code",
   "execution_count": 99,
   "id": "6317870d-9bc6-4136-9a68-ec9d0ec49b2d",
   "metadata": {},
   "outputs": [
    {
     "data": {
      "text/plain": [
       "[0, 1, 2, 3, 42, 42, 42]"
      ]
     },
     "execution_count": 99,
     "metadata": {},
     "output_type": "execute_result"
    }
   ],
   "source": [
    "l5"
   ]
  },
  {
   "cell_type": "code",
   "execution_count": 100,
   "id": "c9025060-b28a-4a62-b5aa-2be003111f72",
   "metadata": {},
   "outputs": [],
   "source": [
    "l6 = [[1, 2], [3, 4], [5, 6], [7, 8]]"
   ]
  },
  {
   "cell_type": "code",
   "execution_count": 101,
   "id": "59b11b16-836c-448a-9faf-6bc90d0397de",
   "metadata": {},
   "outputs": [
    {
     "data": {
      "text/plain": [
       "[[1, 2], [3, 4], [5, 6], [7, 8]]"
      ]
     },
     "execution_count": 101,
     "metadata": {},
     "output_type": "execute_result"
    }
   ],
   "source": [
    "l6"
   ]
  },
  {
   "cell_type": "code",
   "execution_count": 102,
   "id": "ce898538-238f-4c80-a895-60732542b96c",
   "metadata": {},
   "outputs": [
    {
     "name": "stdout",
     "output_type": "stream",
     "text": [
      "[1, 2]\n",
      "[3, 4]\n",
      "[5, 6]\n",
      "[7, 8]\n"
     ]
    }
   ],
   "source": [
    "for x in l6:\n",
    "    print(x)"
   ]
  },
  {
   "cell_type": "code",
   "execution_count": 103,
   "id": "47c47041-7149-4918-8e7b-b60fea5e8fac",
   "metadata": {
    "scrolled": true
   },
   "outputs": [
    {
     "name": "stdout",
     "output_type": "stream",
     "text": [
      "[1, 2]\n",
      "[3, 4]\n",
      "[5, 6]\n",
      "[7, 8]\n"
     ]
    },
    {
     "data": {
      "text/plain": [
       "[None, None, None, None]"
      ]
     },
     "execution_count": 103,
     "metadata": {},
     "output_type": "execute_result"
    }
   ],
   "source": [
    "[print(x) for x in l6]"
   ]
  },
  {
   "cell_type": "code",
   "execution_count": 104,
   "id": "25c83961-1ec4-406f-96b0-7475a82ff61b",
   "metadata": {},
   "outputs": [
    {
     "data": {
      "text/plain": [
       "1"
      ]
     },
     "execution_count": 104,
     "metadata": {},
     "output_type": "execute_result"
    }
   ],
   "source": [
    "l6[0][0]"
   ]
  },
  {
   "cell_type": "code",
   "execution_count": 105,
   "id": "be4b1f8c-7d83-4c0e-9b18-65b53cee0017",
   "metadata": {},
   "outputs": [
    {
     "data": {
      "text/plain": [
       "[3, 4]"
      ]
     },
     "execution_count": 105,
     "metadata": {},
     "output_type": "execute_result"
    }
   ],
   "source": [
    "l6[0:-1][1]"
   ]
  },
  {
   "cell_type": "code",
   "execution_count": 106,
   "id": "14e3b454-a16c-4e80-a6fc-96da1a881fb1",
   "metadata": {},
   "outputs": [
    {
     "data": {
      "text/plain": [
       "2171930378112"
      ]
     },
     "execution_count": 106,
     "metadata": {},
     "output_type": "execute_result"
    }
   ],
   "source": [
    "id(l2)"
   ]
  },
  {
   "cell_type": "code",
   "execution_count": 107,
   "id": "d2ecd4f3-6359-4483-8864-0e86339fb2e0",
   "metadata": {},
   "outputs": [
    {
     "data": {
      "text/plain": [
       "2171930378112"
      ]
     },
     "execution_count": 107,
     "metadata": {},
     "output_type": "execute_result"
    }
   ],
   "source": [
    "id(l3)"
   ]
  },
  {
   "cell_type": "code",
   "execution_count": 108,
   "id": "fb52554d-6811-4d5b-ba3d-a0cdb13e6c37",
   "metadata": {},
   "outputs": [
    {
     "data": {
      "text/plain": [
       "2171938108160"
      ]
     },
     "execution_count": 108,
     "metadata": {},
     "output_type": "execute_result"
    }
   ],
   "source": [
    "id(l4)"
   ]
  },
  {
   "cell_type": "code",
   "execution_count": 109,
   "id": "907b5d21-c42d-4e7a-800e-64c89b356324",
   "metadata": {},
   "outputs": [
    {
     "data": {
      "text/plain": [
       "2171924905216"
      ]
     },
     "execution_count": 109,
     "metadata": {},
     "output_type": "execute_result"
    }
   ],
   "source": [
    "id(l5)"
   ]
  },
  {
   "cell_type": "code",
   "execution_count": 110,
   "id": "f802162c-75c2-4adf-a033-06f456bcdb88",
   "metadata": {},
   "outputs": [
    {
     "data": {
      "text/plain": [
       "2171938139200"
      ]
     },
     "execution_count": 110,
     "metadata": {},
     "output_type": "execute_result"
    }
   ],
   "source": [
    "id(l6)"
   ]
  },
  {
   "cell_type": "code",
   "execution_count": 111,
   "id": "35c0f3cf-eecc-4815-bf08-c939c4f3764b",
   "metadata": {},
   "outputs": [],
   "source": [
    "l7 = [1, 2, 3]"
   ]
  },
  {
   "cell_type": "code",
   "execution_count": 112,
   "id": "4e76d687-c59b-4760-9ca0-7109c06d0442",
   "metadata": {},
   "outputs": [],
   "source": [
    "l8 = l7[:]"
   ]
  },
  {
   "cell_type": "code",
   "execution_count": 113,
   "id": "1c767fdf-5315-48b2-ba32-d73f9752f5b8",
   "metadata": {},
   "outputs": [
    {
     "data": {
      "text/plain": [
       "2171938143168"
      ]
     },
     "execution_count": 113,
     "metadata": {},
     "output_type": "execute_result"
    }
   ],
   "source": [
    "id(l7)"
   ]
  },
  {
   "cell_type": "code",
   "execution_count": 114,
   "id": "3076a7fc-0e60-4a07-b15f-c07b43c7b051",
   "metadata": {},
   "outputs": [
    {
     "data": {
      "text/plain": [
       "2171938134208"
      ]
     },
     "execution_count": 114,
     "metadata": {},
     "output_type": "execute_result"
    }
   ],
   "source": [
    "id(l8)"
   ]
  },
  {
   "cell_type": "markdown",
   "id": "cd1bc5db-365a-46db-a590-b4d4beb1bfdc",
   "metadata": {},
   "source": [
    "## **Tupples**"
   ]
  },
  {
   "cell_type": "code",
   "execution_count": 115,
   "id": "ee410e5a-de91-44b1-b8da-8e9921d06b26",
   "metadata": {},
   "outputs": [],
   "source": [
    "t = 1, 2, 3"
   ]
  },
  {
   "cell_type": "code",
   "execution_count": 116,
   "id": "1eddeb64-4cb2-4b08-ac50-ece7674cf63b",
   "metadata": {},
   "outputs": [
    {
     "data": {
      "text/plain": [
       "tuple"
      ]
     },
     "execution_count": 116,
     "metadata": {},
     "output_type": "execute_result"
    }
   ],
   "source": [
    "type(t)"
   ]
  },
  {
   "cell_type": "code",
   "execution_count": 117,
   "id": "004ca1dd-a414-4328-92cf-7e8e424f2138",
   "metadata": {},
   "outputs": [
    {
     "data": {
      "text/plain": [
       "1"
      ]
     },
     "execution_count": 117,
     "metadata": {},
     "output_type": "execute_result"
    }
   ],
   "source": [
    "t[0]"
   ]
  },
  {
   "cell_type": "code",
   "execution_count": 121,
   "id": "bcc27d69-f353-484b-8e18-0e257c9ee96c",
   "metadata": {},
   "outputs": [],
   "source": [
    "t2 = t + (4, 5, 6)"
   ]
  },
  {
   "cell_type": "code",
   "execution_count": 122,
   "id": "08b0a45f-ca85-4f58-ae16-442c058ce9c9",
   "metadata": {},
   "outputs": [
    {
     "data": {
      "text/plain": [
       "(1, 2, 3, 4, 5, 6)"
      ]
     },
     "execution_count": 122,
     "metadata": {},
     "output_type": "execute_result"
    }
   ],
   "source": [
    "t2"
   ]
  },
  {
   "cell_type": "code",
   "execution_count": 123,
   "id": "f79db38c-2930-4fd0-9420-a1eaf939ca41",
   "metadata": {},
   "outputs": [],
   "source": [
    "t3 = t2 * 2"
   ]
  },
  {
   "cell_type": "code",
   "execution_count": 124,
   "id": "11bf7cfa-4f6d-429f-b980-d994fcfd13a8",
   "metadata": {},
   "outputs": [
    {
     "data": {
      "text/plain": [
       "(1, 2, 3, 4, 5, 6, 1, 2, 3, 4, 5, 6)"
      ]
     },
     "execution_count": 124,
     "metadata": {},
     "output_type": "execute_result"
    }
   ],
   "source": [
    "t3"
   ]
  },
  {
   "cell_type": "code",
   "execution_count": 125,
   "id": "e63cd32e-8364-4bc5-9221-fad40f16a248",
   "metadata": {},
   "outputs": [],
   "source": [
    "t4 = t2"
   ]
  },
  {
   "cell_type": "code",
   "execution_count": 134,
   "id": "db512bde-626f-4345-aee7-f553e5210a14",
   "metadata": {},
   "outputs": [
    {
     "data": {
      "text/plain": [
       "(1, 2, 3, 4, 5, 6)"
      ]
     },
     "execution_count": 134,
     "metadata": {},
     "output_type": "execute_result"
    }
   ],
   "source": [
    "t4"
   ]
  },
  {
   "cell_type": "code",
   "execution_count": 126,
   "id": "596e6de6-13eb-46ae-a105-ab098d768a93",
   "metadata": {},
   "outputs": [
    {
     "name": "stdout",
     "output_type": "stream",
     "text": [
      "t2: 2171938580768: t4: 2171938580768\n"
     ]
    }
   ],
   "source": [
    "print(f't2: {id(t2)}: t4: {id(t4)}')"
   ]
  },
  {
   "cell_type": "code",
   "execution_count": 128,
   "id": "a55454b1-f5a9-456d-882e-5434a07be392",
   "metadata": {},
   "outputs": [
    {
     "name": "stdout",
     "output_type": "stream",
     "text": [
      "is t2 adress same as t4: True\n"
     ]
    }
   ],
   "source": [
    "print(f'is t2 adress same as t4: {id(t2) == id(t4)}')"
   ]
  },
  {
   "cell_type": "code",
   "execution_count": 132,
   "id": "504dcdf5-371b-4697-bafc-23b97d78f184",
   "metadata": {},
   "outputs": [],
   "source": [
    "t5 = tuple(list(t2))"
   ]
  },
  {
   "cell_type": "code",
   "execution_count": 133,
   "id": "8fd847c0-356e-4eff-9bba-6993abd2437c",
   "metadata": {},
   "outputs": [
    {
     "data": {
      "text/plain": [
       "(1, 2, 3, 4, 5, 6)"
      ]
     },
     "execution_count": 133,
     "metadata": {},
     "output_type": "execute_result"
    }
   ],
   "source": [
    "t5"
   ]
  },
  {
   "cell_type": "code",
   "execution_count": 135,
   "id": "4dcb1bd1-3f3e-4139-a7b6-c17099c249cc",
   "metadata": {},
   "outputs": [
    {
     "name": "stdout",
     "output_type": "stream",
     "text": [
      "t2: 2171938580768: t5: 2171950767008\n"
     ]
    }
   ],
   "source": [
    "print(f't2: {id(t2)}: t5: {id(t5)}')"
   ]
  },
  {
   "cell_type": "code",
   "execution_count": 136,
   "id": "d2b976ce-da3f-4255-b790-a352829b09da",
   "metadata": {},
   "outputs": [
    {
     "name": "stdout",
     "output_type": "stream",
     "text": [
      "is t2 adress same as t5: False\n"
     ]
    }
   ],
   "source": [
    "print(f'is t2 adress same as t5: {id(t2) == id(t5)}')"
   ]
  },
  {
   "cell_type": "code",
   "execution_count": 137,
   "id": "4fea1e9f-c918-4a9d-8e59-67093948f564",
   "metadata": {},
   "outputs": [
    {
     "data": {
      "text/plain": [
       "(1, 2, 3, 4, 5, 6)"
      ]
     },
     "execution_count": 137,
     "metadata": {},
     "output_type": "execute_result"
    }
   ],
   "source": [
    "t5"
   ]
  },
  {
   "cell_type": "code",
   "execution_count": 147,
   "id": "981e8b8d-ef89-45cf-bb05-7a7983c42292",
   "metadata": {},
   "outputs": [
    {
     "data": {
      "text/plain": [
       "1"
      ]
     },
     "execution_count": 147,
     "metadata": {},
     "output_type": "execute_result"
    }
   ],
   "source": [
    "t5.count(1)"
   ]
  },
  {
   "cell_type": "code",
   "execution_count": 155,
   "id": "c399bfe9-945d-4da3-b0e8-60c42946bcaa",
   "metadata": {},
   "outputs": [],
   "source": [
    "t5 = t5 * 2"
   ]
  },
  {
   "cell_type": "code",
   "execution_count": 156,
   "id": "fdf17c9b-9e05-4caa-8187-339a350d23ca",
   "metadata": {},
   "outputs": [
    {
     "data": {
      "text/plain": [
       "2"
      ]
     },
     "execution_count": 156,
     "metadata": {},
     "output_type": "execute_result"
    }
   ],
   "source": [
    "t5.count(1)"
   ]
  },
  {
   "cell_type": "code",
   "execution_count": 157,
   "id": "905fd2b3-b53b-4ae6-96a5-91a9f52196f0",
   "metadata": {},
   "outputs": [
    {
     "data": {
      "text/plain": [
       "(1, 2, 3)"
      ]
     },
     "execution_count": 157,
     "metadata": {},
     "output_type": "execute_result"
    }
   ],
   "source": [
    "t5[0:3]"
   ]
  },
  {
   "cell_type": "code",
   "execution_count": 158,
   "id": "9c0e68e4-76fc-48bd-ad65-65cc07156242",
   "metadata": {},
   "outputs": [
    {
     "data": {
      "text/plain": [
       "(4, 5, 6, 1, 2, 3, 4, 5, 6)"
      ]
     },
     "execution_count": 158,
     "metadata": {},
     "output_type": "execute_result"
    }
   ],
   "source": [
    "t5[3:]"
   ]
  },
  {
   "cell_type": "markdown",
   "id": "1c848c77-6ba0-49bf-a9a4-d2ad796f740b",
   "metadata": {},
   "source": [
    "## **Set**"
   ]
  },
  {
   "cell_type": "code",
   "execution_count": 143,
   "id": "763d00c1-cec7-4378-8b6b-b5e4871663e4",
   "metadata": {},
   "outputs": [],
   "source": [
    "l42 = [1, 2, 3, 3, 3, 4, 4, 5]"
   ]
  },
  {
   "cell_type": "code",
   "execution_count": 144,
   "id": "f5598a5c-21dc-4b6b-9572-71b10a449443",
   "metadata": {},
   "outputs": [],
   "source": [
    "s = set(l42)"
   ]
  },
  {
   "cell_type": "code",
   "execution_count": 145,
   "id": "48983dea-a663-4b9f-a6d6-b18ab8bcdd0a",
   "metadata": {},
   "outputs": [
    {
     "data": {
      "text/plain": [
       "{1, 2, 3, 4, 5}"
      ]
     },
     "execution_count": 145,
     "metadata": {},
     "output_type": "execute_result"
    }
   ],
   "source": [
    "s"
   ]
  },
  {
   "cell_type": "code",
   "execution_count": 148,
   "id": "3e500280-4b7d-494f-9eef-1c6aec8f8580",
   "metadata": {},
   "outputs": [],
   "source": [
    "s.add(5)"
   ]
  },
  {
   "cell_type": "code",
   "execution_count": 149,
   "id": "d8d3dae6-1285-4cd4-ab4c-2d2c2b2bec41",
   "metadata": {},
   "outputs": [
    {
     "data": {
      "text/plain": [
       "{1, 2, 3, 4, 5}"
      ]
     },
     "execution_count": 149,
     "metadata": {},
     "output_type": "execute_result"
    }
   ],
   "source": [
    "s"
   ]
  },
  {
   "cell_type": "code",
   "execution_count": 150,
   "id": "f9b88109-d2b0-4793-84fd-6b189bb47c69",
   "metadata": {},
   "outputs": [],
   "source": [
    "s.add(42)"
   ]
  },
  {
   "cell_type": "code",
   "execution_count": 151,
   "id": "d24f66e8-16bd-4afc-97ef-8bd8a3eaadaa",
   "metadata": {},
   "outputs": [
    {
     "data": {
      "text/plain": [
       "{1, 2, 3, 4, 5, 42}"
      ]
     },
     "execution_count": 151,
     "metadata": {},
     "output_type": "execute_result"
    }
   ],
   "source": [
    "s"
   ]
  },
  {
   "cell_type": "code",
   "execution_count": 152,
   "id": "8386122e-46e0-4b0c-afdf-d61d75e4d364",
   "metadata": {},
   "outputs": [
    {
     "ename": "TypeError",
     "evalue": "unsupported operand type(s) for +: 'set' and 'int'",
     "output_type": "error",
     "traceback": [
      "\u001b[1;31m---------------------------------------------------------------------------\u001b[0m",
      "\u001b[1;31mTypeError\u001b[0m                                 Traceback (most recent call last)",
      "Cell \u001b[1;32mIn[152], line 1\u001b[0m\n\u001b[1;32m----> 1\u001b[0m s \u001b[38;5;241m+\u001b[39m \u001b[38;5;241m24\u001b[39m\n",
      "\u001b[1;31mTypeError\u001b[0m: unsupported operand type(s) for +: 'set' and 'int'"
     ]
    }
   ],
   "source": [
    "s + 24"
   ]
  },
  {
   "cell_type": "code",
   "execution_count": null,
   "id": "5f403cc9-e83d-4f67-a8aa-9ed0b0bb3e7b",
   "metadata": {},
   "outputs": [],
   "source": []
  }
 ],
 "metadata": {
  "kernelspec": {
   "display_name": "Python 3 (ipykernel)",
   "language": "python",
   "name": "python3"
  },
  "language_info": {
   "codemirror_mode": {
    "name": "ipython",
    "version": 3
   },
   "file_extension": ".py",
   "mimetype": "text/x-python",
   "name": "python",
   "nbconvert_exporter": "python",
   "pygments_lexer": "ipython3",
   "version": "3.11.7"
  }
 },
 "nbformat": 4,
 "nbformat_minor": 5
}
