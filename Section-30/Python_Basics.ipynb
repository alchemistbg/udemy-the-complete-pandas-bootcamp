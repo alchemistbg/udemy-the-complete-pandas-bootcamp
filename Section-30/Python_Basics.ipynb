{
 "cells": [
  {
   "cell_type": "markdown",
   "id": "e9f0cd44-9412-43bb-a2db-230845b54d66",
   "metadata": {},
   "source": [
    "# **Python Basics**"
   ]
  },
  {
   "cell_type": "markdown",
   "id": "f47089bc-6bcc-4983-96c5-1c12ee733f75",
   "metadata": {},
   "source": [
    "## **First steps**"
   ]
  },
  {
   "cell_type": "code",
   "execution_count": 1,
   "id": "8ae95638-dc33-46b6-a01b-57f6b69483bf",
   "metadata": {},
   "outputs": [
    {
     "data": {
      "text/plain": [
       "10"
      ]
     },
     "execution_count": 1,
     "metadata": {},
     "output_type": "execute_result"
    }
   ],
   "source": [
    "5 + 5"
   ]
  },
  {
   "cell_type": "code",
   "execution_count": 2,
   "id": "3ca8ed77-4129-4646-82c9-c5ed000cd368",
   "metadata": {},
   "outputs": [
    {
     "data": {
      "text/plain": [
       "-2"
      ]
     },
     "execution_count": 2,
     "metadata": {},
     "output_type": "execute_result"
    }
   ],
   "source": [
    "10 - 12"
   ]
  },
  {
   "cell_type": "code",
   "execution_count": 3,
   "id": "7980e4dd-3218-41dd-8e21-4508d5a3ad0f",
   "metadata": {},
   "outputs": [
    {
     "data": {
      "text/plain": [
       "18"
      ]
     },
     "execution_count": 3,
     "metadata": {},
     "output_type": "execute_result"
    }
   ],
   "source": [
    "3 * 6"
   ]
  },
  {
   "cell_type": "code",
   "execution_count": 4,
   "id": "a16a4240-a607-4dd3-9850-3f28862227f8",
   "metadata": {},
   "outputs": [
    {
     "data": {
      "text/plain": [
       "3.0"
      ]
     },
     "execution_count": 4,
     "metadata": {},
     "output_type": "execute_result"
    }
   ],
   "source": [
    "6 / 2"
   ]
  },
  {
   "cell_type": "code",
   "execution_count": 5,
   "id": "5e3dbb6f-2441-4ba3-a972-70614b70486f",
   "metadata": {},
   "outputs": [
    {
     "data": {
      "text/plain": [
       "3.5"
      ]
     },
     "execution_count": 5,
     "metadata": {},
     "output_type": "execute_result"
    }
   ],
   "source": [
    "7 / 2"
   ]
  },
  {
   "cell_type": "code",
   "execution_count": 6,
   "id": "cb026aea-7c62-4505-99b9-f269602341b0",
   "metadata": {},
   "outputs": [
    {
     "data": {
      "text/plain": [
       "3"
      ]
     },
     "execution_count": 6,
     "metadata": {},
     "output_type": "execute_result"
    }
   ],
   "source": [
    "7 // 2"
   ]
  },
  {
   "cell_type": "code",
   "execution_count": 7,
   "id": "6e087a2b-6711-4bb7-98b3-046abe2dd619",
   "metadata": {},
   "outputs": [
    {
     "data": {
      "text/plain": [
       "25"
      ]
     },
     "execution_count": 7,
     "metadata": {},
     "output_type": "execute_result"
    }
   ],
   "source": [
    "5**2"
   ]
  },
  {
   "cell_type": "code",
   "execution_count": 8,
   "id": "909856f4-82c5-41da-820a-dbc179982a22",
   "metadata": {},
   "outputs": [
    {
     "name": "stdout",
     "output_type": "stream",
     "text": [
      "5\n"
     ]
    }
   ],
   "source": [
    "print(5)"
   ]
  },
  {
   "cell_type": "code",
   "execution_count": 9,
   "id": "18e25a1c-e7d0-4f55-b8e3-13ff26dc0f75",
   "metadata": {},
   "outputs": [
    {
     "name": "stdout",
     "output_type": "stream",
     "text": [
      "56\n"
     ]
    }
   ],
   "source": [
    "print(4*14)"
   ]
  },
  {
   "cell_type": "markdown",
   "id": "715c64e5-9d17-4ac8-a70f-0eaffd4d45ec",
   "metadata": {},
   "source": [
    "## **Variables**"
   ]
  },
  {
   "cell_type": "code",
   "execution_count": 10,
   "id": "b1813734-e968-438e-8cd2-c514334f0957",
   "metadata": {},
   "outputs": [],
   "source": [
    "a = 5"
   ]
  },
  {
   "cell_type": "code",
   "execution_count": 11,
   "id": "7993e01c-b2bf-47c8-8243-d61d18427a9a",
   "metadata": {},
   "outputs": [
    {
     "data": {
      "text/plain": [
       "5"
      ]
     },
     "execution_count": 11,
     "metadata": {},
     "output_type": "execute_result"
    }
   ],
   "source": [
    "a"
   ]
  },
  {
   "cell_type": "code",
   "execution_count": 12,
   "id": "30e7ad63-dca7-46c0-a869-f480ab2e2813",
   "metadata": {},
   "outputs": [],
   "source": [
    "b = a"
   ]
  },
  {
   "cell_type": "code",
   "execution_count": 13,
   "id": "d97da9ff-7250-49f4-a3df-730b35b29a1b",
   "metadata": {},
   "outputs": [
    {
     "name": "stdout",
     "output_type": "stream",
     "text": [
      "a is: 5; b is 5\n"
     ]
    }
   ],
   "source": [
    "print(f'a is: {a}; b is {b}')"
   ]
  },
  {
   "cell_type": "code",
   "execution_count": 14,
   "id": "cabf97be-be7f-47f1-aed5-b6f5bb7ee18c",
   "metadata": {},
   "outputs": [],
   "source": [
    "a = 12"
   ]
  },
  {
   "cell_type": "code",
   "execution_count": 15,
   "id": "a98b37f4-4f44-4bd6-84df-719cf3ae8aa3",
   "metadata": {},
   "outputs": [
    {
     "name": "stdout",
     "output_type": "stream",
     "text": [
      "a is: 12; b is 5\n"
     ]
    }
   ],
   "source": [
    "print(f'a is: {a}; b is {b}')"
   ]
  },
  {
   "cell_type": "code",
   "execution_count": 16,
   "id": "45e74ff7-2fb2-424a-ad6d-bdbc54e8451d",
   "metadata": {},
   "outputs": [
    {
     "name": "stdout",
     "output_type": "stream",
     "text": [
      "60\n"
     ]
    }
   ],
   "source": [
    "print(a * b)"
   ]
  },
  {
   "cell_type": "code",
   "execution_count": 17,
   "id": "6fbe7992-d299-47b7-9b96-3ed9601cdcd6",
   "metadata": {},
   "outputs": [],
   "source": [
    "c = a / b"
   ]
  },
  {
   "cell_type": "code",
   "execution_count": 18,
   "id": "646e6435-91fc-4c43-8760-a026ad76493f",
   "metadata": {},
   "outputs": [
    {
     "data": {
      "text/plain": [
       "2.4"
      ]
     },
     "execution_count": 18,
     "metadata": {},
     "output_type": "execute_result"
    }
   ],
   "source": [
    "c"
   ]
  },
  {
   "cell_type": "code",
   "execution_count": 19,
   "id": "24aba80d-1637-4a0c-abc2-831c1dd7c59d",
   "metadata": {},
   "outputs": [],
   "source": [
    "s = 'Python'"
   ]
  },
  {
   "cell_type": "code",
   "execution_count": 20,
   "id": "d1f98b40-ad2d-45f1-b709-fe21cb19c4ce",
   "metadata": {},
   "outputs": [
    {
     "data": {
      "text/plain": [
       "'Python'"
      ]
     },
     "execution_count": 20,
     "metadata": {},
     "output_type": "execute_result"
    }
   ],
   "source": [
    "s"
   ]
  },
  {
   "cell_type": "markdown",
   "id": "37132487-b848-4295-b11a-f665d172ce26",
   "metadata": {},
   "source": [
    "## **Data types**"
   ]
  },
  {
   "cell_type": "code",
   "execution_count": 21,
   "id": "d3327039-bc32-4e61-8005-af7022249659",
   "metadata": {},
   "outputs": [],
   "source": [
    "a = 5"
   ]
  },
  {
   "cell_type": "code",
   "execution_count": 22,
   "id": "9645e26f-4753-420c-a9a3-6bba44568a01",
   "metadata": {},
   "outputs": [],
   "source": [
    "b = 2"
   ]
  },
  {
   "cell_type": "code",
   "execution_count": 23,
   "id": "46af6a82-c5ca-446b-a6d5-5b57c76b40de",
   "metadata": {},
   "outputs": [
    {
     "data": {
      "text/plain": [
       "7"
      ]
     },
     "execution_count": 23,
     "metadata": {},
     "output_type": "execute_result"
    }
   ],
   "source": [
    "a + b"
   ]
  },
  {
   "cell_type": "code",
   "execution_count": 24,
   "id": "c1ebabf5-f91f-494e-8009-90a57c7adbba",
   "metadata": {},
   "outputs": [
    {
     "data": {
      "text/plain": [
       "3"
      ]
     },
     "execution_count": 24,
     "metadata": {},
     "output_type": "execute_result"
    }
   ],
   "source": [
    "a - b"
   ]
  },
  {
   "cell_type": "code",
   "execution_count": 25,
   "id": "a72d8717-f609-46de-904f-faa4add732de",
   "metadata": {},
   "outputs": [
    {
     "data": {
      "text/plain": [
       "-3"
      ]
     },
     "execution_count": 25,
     "metadata": {},
     "output_type": "execute_result"
    }
   ],
   "source": [
    "b - a"
   ]
  },
  {
   "cell_type": "code",
   "execution_count": 26,
   "id": "967b6104-cc23-4161-b199-bfef00527509",
   "metadata": {},
   "outputs": [
    {
     "data": {
      "text/plain": [
       "10"
      ]
     },
     "execution_count": 26,
     "metadata": {},
     "output_type": "execute_result"
    }
   ],
   "source": [
    "a * b"
   ]
  },
  {
   "cell_type": "code",
   "execution_count": 27,
   "id": "2c0e8317-1464-4535-948e-17c4cd7849bf",
   "metadata": {},
   "outputs": [],
   "source": [
    "c = a / b"
   ]
  },
  {
   "cell_type": "code",
   "execution_count": 28,
   "id": "24cf8485-49ec-4b80-80f4-18c39dff1c97",
   "metadata": {},
   "outputs": [
    {
     "data": {
      "text/plain": [
       "2.5"
      ]
     },
     "execution_count": 28,
     "metadata": {},
     "output_type": "execute_result"
    }
   ],
   "source": [
    "c"
   ]
  },
  {
   "cell_type": "code",
   "execution_count": 29,
   "id": "6a5499e8-de4d-44f5-8012-6bb0f30f77b4",
   "metadata": {},
   "outputs": [
    {
     "data": {
      "text/plain": [
       "(5, 2)"
      ]
     },
     "execution_count": 29,
     "metadata": {},
     "output_type": "execute_result"
    }
   ],
   "source": [
    "c.as_integer_ratio()"
   ]
  },
  {
   "cell_type": "code",
   "execution_count": 30,
   "id": "7d45b8a1-da5b-40e2-81ff-b81f21a237fa",
   "metadata": {},
   "outputs": [
    {
     "data": {
      "text/plain": [
       "2"
      ]
     },
     "execution_count": 30,
     "metadata": {},
     "output_type": "execute_result"
    }
   ],
   "source": [
    "b.numerator"
   ]
  },
  {
   "cell_type": "code",
   "execution_count": 31,
   "id": "7a48560c-e65d-421e-97bd-2ca223d8db33",
   "metadata": {},
   "outputs": [
    {
     "data": {
      "text/plain": [
       "1"
      ]
     },
     "execution_count": 31,
     "metadata": {},
     "output_type": "execute_result"
    }
   ],
   "source": [
    "b.denominator"
   ]
  },
  {
   "cell_type": "code",
   "execution_count": 32,
   "id": "1fc5a5e0-6a0e-40b7-89ad-7d29ae21b94c",
   "metadata": {},
   "outputs": [
    {
     "data": {
      "text/plain": [
       "False"
      ]
     },
     "execution_count": 32,
     "metadata": {},
     "output_type": "execute_result"
    }
   ],
   "source": [
    "c.is_integer()"
   ]
  },
  {
   "cell_type": "code",
   "execution_count": 33,
   "id": "8fe96557-d5a4-4d76-bfd5-eee16eaeb017",
   "metadata": {},
   "outputs": [
    {
     "data": {
      "text/plain": [
       "2.5"
      ]
     },
     "execution_count": 33,
     "metadata": {},
     "output_type": "execute_result"
    }
   ],
   "source": [
    "c.real"
   ]
  },
  {
   "cell_type": "code",
   "execution_count": 34,
   "id": "45ad5699-6da1-4418-af17-da344f90f595",
   "metadata": {},
   "outputs": [],
   "source": [
    "d = 11 / 3"
   ]
  },
  {
   "cell_type": "code",
   "execution_count": 35,
   "id": "acba3e0f-c0d2-4504-be35-61eb21d97849",
   "metadata": {},
   "outputs": [
    {
     "data": {
      "text/plain": [
       "(8256599316845909, 2251799813685248)"
      ]
     },
     "execution_count": 35,
     "metadata": {},
     "output_type": "execute_result"
    }
   ],
   "source": [
    "d.as_integer_ratio()"
   ]
  },
  {
   "cell_type": "code",
   "execution_count": 36,
   "id": "7beced81-6307-4f07-a4be-148cd310b84a",
   "metadata": {},
   "outputs": [
    {
     "data": {
      "text/plain": [
       "3.67"
      ]
     },
     "execution_count": 36,
     "metadata": {},
     "output_type": "execute_result"
    }
   ],
   "source": [
    "round(d, 2)"
   ]
  },
  {
   "cell_type": "code",
   "execution_count": 37,
   "id": "04f71443-1af9-42e8-bb41-fd90f45ff691",
   "metadata": {},
   "outputs": [
    {
     "data": {
      "text/plain": [
       "3.6666666666666665"
      ]
     },
     "execution_count": 37,
     "metadata": {},
     "output_type": "execute_result"
    }
   ],
   "source": [
    "d"
   ]
  },
  {
   "cell_type": "code",
   "execution_count": 38,
   "id": "e53a21bd-b6ed-451b-91bc-4280174f4786",
   "metadata": {},
   "outputs": [
    {
     "data": {
      "text/plain": [
       "(4165829655317709, 1125899906842624)"
      ]
     },
     "execution_count": 38,
     "metadata": {},
     "output_type": "execute_result"
    }
   ],
   "source": [
    "round(d, 1).as_integer_ratio()"
   ]
  },
  {
   "cell_type": "code",
   "execution_count": 39,
   "id": "15143043-a7ba-4dcb-9c1a-5cc46bd3661a",
   "metadata": {
    "scrolled": true
   },
   "outputs": [
    {
     "data": {
      "text/plain": [
       "3"
      ]
     },
     "execution_count": 39,
     "metadata": {},
     "output_type": "execute_result"
    }
   ],
   "source": [
    "int(d)"
   ]
  },
  {
   "cell_type": "code",
   "execution_count": 40,
   "id": "382e56d7-89fe-49f1-ba69-d08ac0f76fa8",
   "metadata": {},
   "outputs": [
    {
     "data": {
      "text/plain": [
       "5.0"
      ]
     },
     "execution_count": 40,
     "metadata": {},
     "output_type": "execute_result"
    }
   ],
   "source": [
    "float(a)"
   ]
  },
  {
   "cell_type": "code",
   "execution_count": 41,
   "id": "7a8d043d-77a1-4175-bb71-1de2e54f4e18",
   "metadata": {},
   "outputs": [
    {
     "data": {
      "text/plain": [
       "float"
      ]
     },
     "execution_count": 41,
     "metadata": {},
     "output_type": "execute_result"
    }
   ],
   "source": [
    "type(5.)"
   ]
  },
  {
   "cell_type": "code",
   "execution_count": 42,
   "id": "adec57e9-bac2-4487-bacc-4436ab2f163e",
   "metadata": {},
   "outputs": [],
   "source": [
    "f = \"5\""
   ]
  },
  {
   "cell_type": "code",
   "execution_count": 43,
   "id": "cd53faa2-2d17-4642-a005-c068a1003d0d",
   "metadata": {},
   "outputs": [
    {
     "ename": "TypeError",
     "evalue": "unsupported operand type(s) for +: 'int' and 'str'",
     "output_type": "error",
     "traceback": [
      "\u001b[1;31m---------------------------------------------------------------------------\u001b[0m",
      "\u001b[1;31mTypeError\u001b[0m                                 Traceback (most recent call last)",
      "Cell \u001b[1;32mIn[43], line 1\u001b[0m\n\u001b[1;32m----> 1\u001b[0m a \u001b[38;5;241m+\u001b[39m f\n",
      "\u001b[1;31mTypeError\u001b[0m: unsupported operand type(s) for +: 'int' and 'str'"
     ]
    }
   ],
   "source": [
    "a + f"
   ]
  },
  {
   "cell_type": "code",
   "execution_count": 44,
   "id": "86335f07-3c98-4196-a44a-cf5cdbfc1566",
   "metadata": {},
   "outputs": [
    {
     "data": {
      "text/plain": [
       "'Python'"
      ]
     },
     "execution_count": 44,
     "metadata": {},
     "output_type": "execute_result"
    }
   ],
   "source": [
    "s"
   ]
  },
  {
   "cell_type": "code",
   "execution_count": 45,
   "id": "28bf28db-e668-42bb-b356-ef70bc139132",
   "metadata": {},
   "outputs": [],
   "source": [
    "s1 = s + \" is a popular programming language!\""
   ]
  },
  {
   "cell_type": "code",
   "execution_count": 46,
   "id": "a0765041-8b30-4d27-8b06-57fba9e0c888",
   "metadata": {},
   "outputs": [
    {
     "data": {
      "text/plain": [
       "'Python is a popular programming language!'"
      ]
     },
     "execution_count": 46,
     "metadata": {},
     "output_type": "execute_result"
    }
   ],
   "source": [
    "s1"
   ]
  },
  {
   "cell_type": "code",
   "execution_count": 47,
   "id": "44aa1e8f-1ce2-4562-8750-4faa4053d21b",
   "metadata": {},
   "outputs": [],
   "source": [
    "l = list(s1)"
   ]
  },
  {
   "cell_type": "code",
   "execution_count": 48,
   "id": "275aef76-a4ed-4db8-994f-f429b9ef7150",
   "metadata": {},
   "outputs": [
    {
     "data": {
      "text/plain": [
       "['P',\n",
       " 'y',\n",
       " 't',\n",
       " 'h',\n",
       " 'o',\n",
       " 'n',\n",
       " ' ',\n",
       " 'i',\n",
       " 's',\n",
       " ' ',\n",
       " 'a',\n",
       " ' ',\n",
       " 'p',\n",
       " 'o',\n",
       " 'p',\n",
       " 'u',\n",
       " 'l',\n",
       " 'a',\n",
       " 'r',\n",
       " ' ',\n",
       " 'p',\n",
       " 'r',\n",
       " 'o',\n",
       " 'g',\n",
       " 'r',\n",
       " 'a',\n",
       " 'm',\n",
       " 'm',\n",
       " 'i',\n",
       " 'n',\n",
       " 'g',\n",
       " ' ',\n",
       " 'l',\n",
       " 'a',\n",
       " 'n',\n",
       " 'g',\n",
       " 'u',\n",
       " 'a',\n",
       " 'g',\n",
       " 'e',\n",
       " '!']"
      ]
     },
     "execution_count": 48,
     "metadata": {},
     "output_type": "execute_result"
    }
   ],
   "source": [
    "l"
   ]
  },
  {
   "cell_type": "code",
   "execution_count": 49,
   "id": "d5984aa6-ee2d-42b1-9def-74d2a12f4984",
   "metadata": {},
   "outputs": [
    {
     "data": {
      "text/plain": [
       "41"
      ]
     },
     "execution_count": 49,
     "metadata": {},
     "output_type": "execute_result"
    }
   ],
   "source": [
    "len(l)"
   ]
  },
  {
   "cell_type": "code",
   "execution_count": 50,
   "id": "c19c2ae0-0736-4b1f-af01-46e658680147",
   "metadata": {},
   "outputs": [],
   "source": [
    "l.sort()"
   ]
  },
  {
   "cell_type": "code",
   "execution_count": 51,
   "id": "913c3279-2bda-4b23-9285-60f76fa14d59",
   "metadata": {},
   "outputs": [
    {
     "data": {
      "text/plain": [
       "[' ',\n",
       " ' ',\n",
       " ' ',\n",
       " ' ',\n",
       " ' ',\n",
       " '!',\n",
       " 'P',\n",
       " 'a',\n",
       " 'a',\n",
       " 'a',\n",
       " 'a',\n",
       " 'a',\n",
       " 'e',\n",
       " 'g',\n",
       " 'g',\n",
       " 'g',\n",
       " 'g',\n",
       " 'h',\n",
       " 'i',\n",
       " 'i',\n",
       " 'l',\n",
       " 'l',\n",
       " 'm',\n",
       " 'm',\n",
       " 'n',\n",
       " 'n',\n",
       " 'n',\n",
       " 'o',\n",
       " 'o',\n",
       " 'o',\n",
       " 'p',\n",
       " 'p',\n",
       " 'p',\n",
       " 'r',\n",
       " 'r',\n",
       " 'r',\n",
       " 's',\n",
       " 't',\n",
       " 'u',\n",
       " 'u',\n",
       " 'y']"
      ]
     },
     "execution_count": 51,
     "metadata": {},
     "output_type": "execute_result"
    }
   ],
   "source": [
    "l"
   ]
  },
  {
   "cell_type": "code",
   "execution_count": 52,
   "id": "139d42b2-d1e0-4960-94f3-187d13619eea",
   "metadata": {},
   "outputs": [],
   "source": [
    "l1 = [1, 4, 5, 2, 76, 7, 2, 354, 3]"
   ]
  },
  {
   "cell_type": "code",
   "execution_count": 53,
   "id": "c8845e94-588a-4a88-88ac-91ec17859f59",
   "metadata": {},
   "outputs": [
    {
     "data": {
      "text/plain": [
       "[1, 4]"
      ]
     },
     "execution_count": 53,
     "metadata": {},
     "output_type": "execute_result"
    }
   ],
   "source": [
    "l1[:2]"
   ]
  },
  {
   "cell_type": "code",
   "execution_count": 54,
   "id": "f54e7693-89d5-4e18-a73d-cd04295464a2",
   "metadata": {},
   "outputs": [
    {
     "data": {
      "text/plain": [
       "[5, 2, 76]"
      ]
     },
     "execution_count": 54,
     "metadata": {},
     "output_type": "execute_result"
    }
   ],
   "source": [
    "l1[2:5]"
   ]
  },
  {
   "cell_type": "code",
   "execution_count": 55,
   "id": "82a060fb-0fd8-4db9-a9ab-05c649a637c9",
   "metadata": {},
   "outputs": [],
   "source": [
    "l2 = l1 + [9, 80, 56]"
   ]
  },
  {
   "cell_type": "code",
   "execution_count": 56,
   "id": "f1b7af9f-f5cf-4857-ab93-f2da2afe6334",
   "metadata": {},
   "outputs": [
    {
     "data": {
      "text/plain": [
       "[1, 4, 5, 2, 76, 7, 2, 354, 3]"
      ]
     },
     "execution_count": 56,
     "metadata": {},
     "output_type": "execute_result"
    }
   ],
   "source": [
    "l1"
   ]
  },
  {
   "cell_type": "code",
   "execution_count": 57,
   "id": "bc18feda-86a4-4d49-a295-3dfc9b03ab15",
   "metadata": {},
   "outputs": [
    {
     "data": {
      "text/plain": [
       "[1, 4, 5, 2, 76, 7, 2, 354, 3, 9, 80, 56]"
      ]
     },
     "execution_count": 57,
     "metadata": {},
     "output_type": "execute_result"
    }
   ],
   "source": [
    "l2"
   ]
  },
  {
   "cell_type": "code",
   "execution_count": 58,
   "id": "7a323c82-d31a-4877-b6ba-7e7f6edb6b34",
   "metadata": {},
   "outputs": [],
   "source": [
    "l3 = l2"
   ]
  },
  {
   "cell_type": "code",
   "execution_count": 59,
   "id": "527477ed-8e1b-43cf-a601-f3cd56ae7e66",
   "metadata": {},
   "outputs": [
    {
     "data": {
      "text/plain": [
       "[1, 4, 5, 2, 76, 7, 2, 354, 3, 9, 80, 56]"
      ]
     },
     "execution_count": 59,
     "metadata": {},
     "output_type": "execute_result"
    }
   ],
   "source": [
    "l2"
   ]
  },
  {
   "cell_type": "code",
   "execution_count": 60,
   "id": "b1af76cb-0336-4982-83b3-bd39a31d3936",
   "metadata": {},
   "outputs": [
    {
     "data": {
      "text/plain": [
       "[1, 4, 5, 2, 76, 7, 2, 354, 3, 9, 80, 56]"
      ]
     },
     "execution_count": 60,
     "metadata": {},
     "output_type": "execute_result"
    }
   ],
   "source": [
    "l3"
   ]
  },
  {
   "cell_type": "code",
   "execution_count": 61,
   "id": "43677da9-9048-4b1a-9231-af377e5ff7ef",
   "metadata": {},
   "outputs": [],
   "source": [
    "l2.append(42)"
   ]
  },
  {
   "cell_type": "code",
   "execution_count": 62,
   "id": "4d4a5393-2284-40cf-9c45-e487ae981b46",
   "metadata": {},
   "outputs": [
    {
     "data": {
      "text/plain": [
       "[1, 4, 5, 2, 76, 7, 2, 354, 3, 9, 80, 56, 42]"
      ]
     },
     "execution_count": 62,
     "metadata": {},
     "output_type": "execute_result"
    }
   ],
   "source": [
    "l2"
   ]
  },
  {
   "cell_type": "code",
   "execution_count": 63,
   "id": "663318fc-2480-49ee-8e58-b0e37279a301",
   "metadata": {},
   "outputs": [
    {
     "data": {
      "text/plain": [
       "[1, 4, 5, 2, 76, 7, 2, 354, 3, 9, 80, 56, 42]"
      ]
     },
     "execution_count": 63,
     "metadata": {},
     "output_type": "execute_result"
    }
   ],
   "source": [
    "l3"
   ]
  },
  {
   "cell_type": "code",
   "execution_count": 64,
   "id": "43868c08-9d8c-45bc-bac6-340736283f05",
   "metadata": {},
   "outputs": [],
   "source": [
    "l4 = l2.copy()"
   ]
  },
  {
   "cell_type": "code",
   "execution_count": 65,
   "id": "770dc2d2-5f86-4ec3-85e0-c65f3dfb9864",
   "metadata": {},
   "outputs": [
    {
     "data": {
      "text/plain": [
       "[1, 4, 5, 2, 76, 7, 2, 354, 3, 9, 80, 56, 42]"
      ]
     },
     "execution_count": 65,
     "metadata": {},
     "output_type": "execute_result"
    }
   ],
   "source": [
    "l2"
   ]
  },
  {
   "cell_type": "code",
   "execution_count": 66,
   "id": "e0650909-2097-4d09-b91b-121df5370716",
   "metadata": {},
   "outputs": [
    {
     "data": {
      "text/plain": [
       "[1, 4, 5, 2, 76, 7, 2, 354, 3, 9, 80, 56, 42]"
      ]
     },
     "execution_count": 66,
     "metadata": {},
     "output_type": "execute_result"
    }
   ],
   "source": [
    "l4"
   ]
  },
  {
   "cell_type": "code",
   "execution_count": 67,
   "id": "0de60339-bdd2-4721-a2e7-36f8b47a6bfb",
   "metadata": {},
   "outputs": [],
   "source": [
    "l2.append(44)"
   ]
  },
  {
   "cell_type": "code",
   "execution_count": 68,
   "id": "fa932485-d227-43e9-9896-b08ed0a82f4e",
   "metadata": {},
   "outputs": [
    {
     "data": {
      "text/plain": [
       "[1, 4, 5, 2, 76, 7, 2, 354, 3, 9, 80, 56, 42, 44]"
      ]
     },
     "execution_count": 68,
     "metadata": {},
     "output_type": "execute_result"
    }
   ],
   "source": [
    "l2"
   ]
  },
  {
   "cell_type": "code",
   "execution_count": 69,
   "id": "c7278b4b-d0a7-4ebe-94bf-7da24bffa82b",
   "metadata": {},
   "outputs": [
    {
     "data": {
      "text/plain": [
       "[1, 4, 5, 2, 76, 7, 2, 354, 3, 9, 80, 56, 42, 44]"
      ]
     },
     "execution_count": 69,
     "metadata": {},
     "output_type": "execute_result"
    }
   ],
   "source": [
    "l3"
   ]
  },
  {
   "cell_type": "code",
   "execution_count": 70,
   "id": "22b24672-0a06-4d45-b551-2b9f4fa5c409",
   "metadata": {},
   "outputs": [
    {
     "data": {
      "text/plain": [
       "[1, 4, 5, 2, 76, 7, 2, 354, 3, 9, 80, 56, 42, 44]"
      ]
     },
     "execution_count": 70,
     "metadata": {},
     "output_type": "execute_result"
    }
   ],
   "source": [
    "l3"
   ]
  },
  {
   "cell_type": "code",
   "execution_count": 71,
   "id": "753d0e1b-6b5e-4391-8241-edace15913f2",
   "metadata": {},
   "outputs": [
    {
     "data": {
      "text/plain": [
       "[1, 4, 5, 2, 76, 7, 2, 354, 3, 9, 80, 56, 42]"
      ]
     },
     "execution_count": 71,
     "metadata": {},
     "output_type": "execute_result"
    }
   ],
   "source": [
    "l4"
   ]
  },
  {
   "cell_type": "code",
   "execution_count": 72,
   "id": "6ed5004e-dd47-4317-bd24-8dc602f598ad",
   "metadata": {},
   "outputs": [
    {
     "data": {
      "text/plain": [
       "42"
      ]
     },
     "execution_count": 72,
     "metadata": {},
     "output_type": "execute_result"
    }
   ],
   "source": [
    "l4[-1]"
   ]
  },
  {
   "cell_type": "code",
   "execution_count": 73,
   "id": "b21f8b8d-b6f0-44eb-9569-35309a324c69",
   "metadata": {},
   "outputs": [
    {
     "data": {
      "text/plain": [
       "[5, 2, 76, 7, 2, 354, 3, 9, 80, 56]"
      ]
     },
     "execution_count": 73,
     "metadata": {},
     "output_type": "execute_result"
    }
   ],
   "source": [
    "l4[2:-1]"
   ]
  },
  {
   "cell_type": "code",
   "execution_count": 74,
   "id": "e8d31086-bfd6-41bc-b79f-514b898a04ee",
   "metadata": {},
   "outputs": [
    {
     "data": {
      "text/plain": [
       "[80, 56]"
      ]
     },
     "execution_count": 74,
     "metadata": {},
     "output_type": "execute_result"
    }
   ],
   "source": [
    "l4[-3:-1]"
   ]
  },
  {
   "cell_type": "code",
   "execution_count": 75,
   "id": "b2b09ecb-4063-4174-b9d5-654aa903d9a9",
   "metadata": {},
   "outputs": [
    {
     "data": {
      "text/plain": [
       "12"
      ]
     },
     "execution_count": 75,
     "metadata": {},
     "output_type": "execute_result"
    }
   ],
   "source": [
    "l4.index(42)"
   ]
  },
  {
   "cell_type": "code",
   "execution_count": 76,
   "id": "0a332b24-4907-4247-87aa-68c85ee66ba2",
   "metadata": {},
   "outputs": [
    {
     "ename": "ValueError",
     "evalue": "12 is not in list",
     "output_type": "error",
     "traceback": [
      "\u001b[1;31m---------------------------------------------------------------------------\u001b[0m",
      "\u001b[1;31mValueError\u001b[0m                                Traceback (most recent call last)",
      "Cell \u001b[1;32mIn[76], line 1\u001b[0m\n\u001b[1;32m----> 1\u001b[0m l4\u001b[38;5;241m.\u001b[39mindex(\u001b[38;5;241m12\u001b[39m)\n",
      "\u001b[1;31mValueError\u001b[0m: 12 is not in list"
     ]
    }
   ],
   "source": [
    "l4.index(12)"
   ]
  },
  {
   "cell_type": "code",
   "execution_count": 77,
   "id": "3693f2c3-97cb-4294-9fc5-5d4b004ee437",
   "metadata": {},
   "outputs": [
    {
     "data": {
      "text/plain": [
       "[1, 4, 5, 2, 76, 7, 2, 354, 3, 9, 80, 56, 42]"
      ]
     },
     "execution_count": 77,
     "metadata": {},
     "output_type": "execute_result"
    }
   ],
   "source": [
    "l4"
   ]
  },
  {
   "cell_type": "code",
   "execution_count": 78,
   "id": "71993991-a045-4e02-8d16-155bb91db72b",
   "metadata": {},
   "outputs": [
    {
     "data": {
      "text/plain": [
       "42"
      ]
     },
     "execution_count": 78,
     "metadata": {},
     "output_type": "execute_result"
    }
   ],
   "source": [
    "l4.pop()"
   ]
  },
  {
   "cell_type": "code",
   "execution_count": 79,
   "id": "fb726168-0b46-46d6-88d8-7c3ff24936e4",
   "metadata": {},
   "outputs": [
    {
     "data": {
      "text/plain": [
       "[1, 4, 5, 2, 76, 7, 2, 354, 3, 9, 80, 56]"
      ]
     },
     "execution_count": 79,
     "metadata": {},
     "output_type": "execute_result"
    }
   ],
   "source": [
    "l4"
   ]
  },
  {
   "cell_type": "code",
   "execution_count": 80,
   "id": "ef03ee78-2720-443f-9218-efeea37a824a",
   "metadata": {},
   "outputs": [
    {
     "data": {
      "text/plain": [
       "56"
      ]
     },
     "execution_count": 80,
     "metadata": {},
     "output_type": "execute_result"
    }
   ],
   "source": [
    "l4.pop()"
   ]
  },
  {
   "cell_type": "code",
   "execution_count": 81,
   "id": "8fcd1aac-145c-48ad-b874-ee13e6f68a67",
   "metadata": {},
   "outputs": [
    {
     "data": {
      "text/plain": [
       "[1, 4, 5, 2, 76, 7, 2, 354, 3, 9, 80]"
      ]
     },
     "execution_count": 81,
     "metadata": {},
     "output_type": "execute_result"
    }
   ],
   "source": [
    "l4"
   ]
  },
  {
   "cell_type": "code",
   "execution_count": 82,
   "id": "6e97bfaf-d028-4d6f-aca6-4515a910fd75",
   "metadata": {},
   "outputs": [],
   "source": [
    "l4.extend([42, 121])"
   ]
  },
  {
   "cell_type": "code",
   "execution_count": 83,
   "id": "ec9ee5be-9a9a-4812-b107-31b1be699fda",
   "metadata": {},
   "outputs": [
    {
     "data": {
      "text/plain": [
       "[1, 4, 5, 2, 76, 7, 2, 354, 3, 9, 80, 42, 121]"
      ]
     },
     "execution_count": 83,
     "metadata": {},
     "output_type": "execute_result"
    }
   ],
   "source": [
    "l4"
   ]
  },
  {
   "cell_type": "code",
   "execution_count": null,
   "id": "b75034c4-2596-4e38-94c8-56a14c8275b1",
   "metadata": {},
   "outputs": [],
   "source": []
  }
 ],
 "metadata": {
  "kernelspec": {
   "display_name": "Python 3 (ipykernel)",
   "language": "python",
   "name": "python3"
  },
  "language_info": {
   "codemirror_mode": {
    "name": "ipython",
    "version": 3
   },
   "file_extension": ".py",
   "mimetype": "text/x-python",
   "name": "python",
   "nbconvert_exporter": "python",
   "pygments_lexer": "ipython3",
   "version": "3.11.7"
  }
 },
 "nbformat": 4,
 "nbformat_minor": 5
}
