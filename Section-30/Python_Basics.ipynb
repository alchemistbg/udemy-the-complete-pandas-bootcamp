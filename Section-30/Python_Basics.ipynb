{
 "cells": [
  {
   "cell_type": "markdown",
   "id": "e9f0cd44-9412-43bb-a2db-230845b54d66",
   "metadata": {},
   "source": [
    "# **Python Basics**"
   ]
  },
  {
   "cell_type": "markdown",
   "id": "f47089bc-6bcc-4983-96c5-1c12ee733f75",
   "metadata": {},
   "source": [
    "## **First steps**"
   ]
  },
  {
   "cell_type": "code",
   "execution_count": 1,
   "id": "8ae95638-dc33-46b6-a01b-57f6b69483bf",
   "metadata": {},
   "outputs": [
    {
     "data": {
      "text/plain": [
       "10"
      ]
     },
     "execution_count": 1,
     "metadata": {},
     "output_type": "execute_result"
    }
   ],
   "source": [
    "5 + 5"
   ]
  },
  {
   "cell_type": "code",
   "execution_count": 2,
   "id": "3ca8ed77-4129-4646-82c9-c5ed000cd368",
   "metadata": {},
   "outputs": [
    {
     "data": {
      "text/plain": [
       "-2"
      ]
     },
     "execution_count": 2,
     "metadata": {},
     "output_type": "execute_result"
    }
   ],
   "source": [
    "10 - 12"
   ]
  },
  {
   "cell_type": "code",
   "execution_count": 3,
   "id": "7980e4dd-3218-41dd-8e21-4508d5a3ad0f",
   "metadata": {},
   "outputs": [
    {
     "data": {
      "text/plain": [
       "18"
      ]
     },
     "execution_count": 3,
     "metadata": {},
     "output_type": "execute_result"
    }
   ],
   "source": [
    "3 * 6"
   ]
  },
  {
   "cell_type": "code",
   "execution_count": 4,
   "id": "a16a4240-a607-4dd3-9850-3f28862227f8",
   "metadata": {},
   "outputs": [
    {
     "data": {
      "text/plain": [
       "3.0"
      ]
     },
     "execution_count": 4,
     "metadata": {},
     "output_type": "execute_result"
    }
   ],
   "source": [
    "6 / 2"
   ]
  },
  {
   "cell_type": "code",
   "execution_count": 5,
   "id": "5e3dbb6f-2441-4ba3-a972-70614b70486f",
   "metadata": {},
   "outputs": [
    {
     "data": {
      "text/plain": [
       "3.5"
      ]
     },
     "execution_count": 5,
     "metadata": {},
     "output_type": "execute_result"
    }
   ],
   "source": [
    "7 / 2"
   ]
  },
  {
   "cell_type": "code",
   "execution_count": 6,
   "id": "cb026aea-7c62-4505-99b9-f269602341b0",
   "metadata": {},
   "outputs": [
    {
     "data": {
      "text/plain": [
       "3"
      ]
     },
     "execution_count": 6,
     "metadata": {},
     "output_type": "execute_result"
    }
   ],
   "source": [
    "7 // 2"
   ]
  },
  {
   "cell_type": "code",
   "execution_count": 7,
   "id": "6e087a2b-6711-4bb7-98b3-046abe2dd619",
   "metadata": {},
   "outputs": [
    {
     "data": {
      "text/plain": [
       "25"
      ]
     },
     "execution_count": 7,
     "metadata": {},
     "output_type": "execute_result"
    }
   ],
   "source": [
    "5**2"
   ]
  },
  {
   "cell_type": "code",
   "execution_count": 8,
   "id": "909856f4-82c5-41da-820a-dbc179982a22",
   "metadata": {},
   "outputs": [
    {
     "name": "stdout",
     "output_type": "stream",
     "text": [
      "5\n"
     ]
    }
   ],
   "source": [
    "print(5)"
   ]
  },
  {
   "cell_type": "code",
   "execution_count": 9,
   "id": "18e25a1c-e7d0-4f55-b8e3-13ff26dc0f75",
   "metadata": {},
   "outputs": [
    {
     "name": "stdout",
     "output_type": "stream",
     "text": [
      "56\n"
     ]
    }
   ],
   "source": [
    "print(4*14)"
   ]
  },
  {
   "cell_type": "markdown",
   "id": "715c64e5-9d17-4ac8-a70f-0eaffd4d45ec",
   "metadata": {},
   "source": [
    "## **Variables**"
   ]
  },
  {
   "cell_type": "code",
   "execution_count": 10,
   "id": "b1813734-e968-438e-8cd2-c514334f0957",
   "metadata": {},
   "outputs": [],
   "source": [
    "a = 5"
   ]
  },
  {
   "cell_type": "code",
   "execution_count": 11,
   "id": "7993e01c-b2bf-47c8-8243-d61d18427a9a",
   "metadata": {},
   "outputs": [
    {
     "data": {
      "text/plain": [
       "5"
      ]
     },
     "execution_count": 11,
     "metadata": {},
     "output_type": "execute_result"
    }
   ],
   "source": [
    "a"
   ]
  },
  {
   "cell_type": "code",
   "execution_count": 12,
   "id": "30e7ad63-dca7-46c0-a869-f480ab2e2813",
   "metadata": {},
   "outputs": [],
   "source": [
    "b = a"
   ]
  },
  {
   "cell_type": "code",
   "execution_count": 13,
   "id": "d97da9ff-7250-49f4-a3df-730b35b29a1b",
   "metadata": {},
   "outputs": [
    {
     "name": "stdout",
     "output_type": "stream",
     "text": [
      "a is: 5; b is 5\n"
     ]
    }
   ],
   "source": [
    "print(f'a is: {a}; b is {b}')"
   ]
  },
  {
   "cell_type": "code",
   "execution_count": 14,
   "id": "cabf97be-be7f-47f1-aed5-b6f5bb7ee18c",
   "metadata": {},
   "outputs": [],
   "source": [
    "a = 12"
   ]
  },
  {
   "cell_type": "code",
   "execution_count": 15,
   "id": "a98b37f4-4f44-4bd6-84df-719cf3ae8aa3",
   "metadata": {},
   "outputs": [
    {
     "name": "stdout",
     "output_type": "stream",
     "text": [
      "a is: 12; b is 5\n"
     ]
    }
   ],
   "source": [
    "print(f'a is: {a}; b is {b}')"
   ]
  },
  {
   "cell_type": "code",
   "execution_count": 16,
   "id": "45e74ff7-2fb2-424a-ad6d-bdbc54e8451d",
   "metadata": {},
   "outputs": [
    {
     "name": "stdout",
     "output_type": "stream",
     "text": [
      "60\n"
     ]
    }
   ],
   "source": [
    "print(a * b)"
   ]
  },
  {
   "cell_type": "code",
   "execution_count": 17,
   "id": "6fbe7992-d299-47b7-9b96-3ed9601cdcd6",
   "metadata": {},
   "outputs": [],
   "source": [
    "c = a / b"
   ]
  },
  {
   "cell_type": "code",
   "execution_count": 18,
   "id": "646e6435-91fc-4c43-8760-a026ad76493f",
   "metadata": {},
   "outputs": [
    {
     "data": {
      "text/plain": [
       "2.4"
      ]
     },
     "execution_count": 18,
     "metadata": {},
     "output_type": "execute_result"
    }
   ],
   "source": [
    "c"
   ]
  },
  {
   "cell_type": "code",
   "execution_count": 19,
   "id": "24aba80d-1637-4a0c-abc2-831c1dd7c59d",
   "metadata": {},
   "outputs": [],
   "source": [
    "s = 'Python'"
   ]
  },
  {
   "cell_type": "code",
   "execution_count": 20,
   "id": "d1f98b40-ad2d-45f1-b709-fe21cb19c4ce",
   "metadata": {},
   "outputs": [
    {
     "data": {
      "text/plain": [
       "'Python'"
      ]
     },
     "execution_count": 20,
     "metadata": {},
     "output_type": "execute_result"
    }
   ],
   "source": [
    "s"
   ]
  },
  {
   "cell_type": "markdown",
   "id": "37132487-b848-4295-b11a-f665d172ce26",
   "metadata": {},
   "source": [
    "## **Data types**"
   ]
  },
  {
   "cell_type": "code",
   "execution_count": 21,
   "id": "d3327039-bc32-4e61-8005-af7022249659",
   "metadata": {},
   "outputs": [],
   "source": [
    "a = 5"
   ]
  },
  {
   "cell_type": "code",
   "execution_count": 22,
   "id": "9645e26f-4753-420c-a9a3-6bba44568a01",
   "metadata": {},
   "outputs": [],
   "source": [
    "b = 2"
   ]
  },
  {
   "cell_type": "code",
   "execution_count": 23,
   "id": "46af6a82-c5ca-446b-a6d5-5b57c76b40de",
   "metadata": {},
   "outputs": [
    {
     "data": {
      "text/plain": [
       "7"
      ]
     },
     "execution_count": 23,
     "metadata": {},
     "output_type": "execute_result"
    }
   ],
   "source": [
    "a + b"
   ]
  },
  {
   "cell_type": "code",
   "execution_count": 24,
   "id": "c1ebabf5-f91f-494e-8009-90a57c7adbba",
   "metadata": {},
   "outputs": [
    {
     "data": {
      "text/plain": [
       "3"
      ]
     },
     "execution_count": 24,
     "metadata": {},
     "output_type": "execute_result"
    }
   ],
   "source": [
    "a - b"
   ]
  },
  {
   "cell_type": "code",
   "execution_count": 25,
   "id": "a72d8717-f609-46de-904f-faa4add732de",
   "metadata": {},
   "outputs": [
    {
     "data": {
      "text/plain": [
       "-3"
      ]
     },
     "execution_count": 25,
     "metadata": {},
     "output_type": "execute_result"
    }
   ],
   "source": [
    "b - a"
   ]
  },
  {
   "cell_type": "code",
   "execution_count": 26,
   "id": "967b6104-cc23-4161-b199-bfef00527509",
   "metadata": {},
   "outputs": [
    {
     "data": {
      "text/plain": [
       "10"
      ]
     },
     "execution_count": 26,
     "metadata": {},
     "output_type": "execute_result"
    }
   ],
   "source": [
    "a * b"
   ]
  },
  {
   "cell_type": "code",
   "execution_count": 27,
   "id": "2c0e8317-1464-4535-948e-17c4cd7849bf",
   "metadata": {},
   "outputs": [],
   "source": [
    "c = a / b"
   ]
  },
  {
   "cell_type": "code",
   "execution_count": 28,
   "id": "24cf8485-49ec-4b80-80f4-18c39dff1c97",
   "metadata": {},
   "outputs": [
    {
     "data": {
      "text/plain": [
       "2.5"
      ]
     },
     "execution_count": 28,
     "metadata": {},
     "output_type": "execute_result"
    }
   ],
   "source": [
    "c"
   ]
  },
  {
   "cell_type": "code",
   "execution_count": 29,
   "id": "6a5499e8-de4d-44f5-8012-6bb0f30f77b4",
   "metadata": {},
   "outputs": [
    {
     "data": {
      "text/plain": [
       "(5, 2)"
      ]
     },
     "execution_count": 29,
     "metadata": {},
     "output_type": "execute_result"
    }
   ],
   "source": [
    "c.as_integer_ratio()"
   ]
  },
  {
   "cell_type": "code",
   "execution_count": 30,
   "id": "7d45b8a1-da5b-40e2-81ff-b81f21a237fa",
   "metadata": {},
   "outputs": [
    {
     "data": {
      "text/plain": [
       "2"
      ]
     },
     "execution_count": 30,
     "metadata": {},
     "output_type": "execute_result"
    }
   ],
   "source": [
    "b.numerator"
   ]
  },
  {
   "cell_type": "code",
   "execution_count": 31,
   "id": "7a48560c-e65d-421e-97bd-2ca223d8db33",
   "metadata": {},
   "outputs": [
    {
     "data": {
      "text/plain": [
       "1"
      ]
     },
     "execution_count": 31,
     "metadata": {},
     "output_type": "execute_result"
    }
   ],
   "source": [
    "b.denominator"
   ]
  },
  {
   "cell_type": "code",
   "execution_count": 32,
   "id": "1fc5a5e0-6a0e-40b7-89ad-7d29ae21b94c",
   "metadata": {},
   "outputs": [
    {
     "data": {
      "text/plain": [
       "False"
      ]
     },
     "execution_count": 32,
     "metadata": {},
     "output_type": "execute_result"
    }
   ],
   "source": [
    "c.is_integer()"
   ]
  },
  {
   "cell_type": "code",
   "execution_count": 33,
   "id": "8fe96557-d5a4-4d76-bfd5-eee16eaeb017",
   "metadata": {},
   "outputs": [
    {
     "data": {
      "text/plain": [
       "2.5"
      ]
     },
     "execution_count": 33,
     "metadata": {},
     "output_type": "execute_result"
    }
   ],
   "source": [
    "c.real"
   ]
  },
  {
   "cell_type": "code",
   "execution_count": 34,
   "id": "45ad5699-6da1-4418-af17-da344f90f595",
   "metadata": {},
   "outputs": [],
   "source": [
    "d = 11 / 3"
   ]
  },
  {
   "cell_type": "code",
   "execution_count": 35,
   "id": "acba3e0f-c0d2-4504-be35-61eb21d97849",
   "metadata": {},
   "outputs": [
    {
     "data": {
      "text/plain": [
       "(8256599316845909, 2251799813685248)"
      ]
     },
     "execution_count": 35,
     "metadata": {},
     "output_type": "execute_result"
    }
   ],
   "source": [
    "d.as_integer_ratio()"
   ]
  },
  {
   "cell_type": "code",
   "execution_count": 36,
   "id": "7beced81-6307-4f07-a4be-148cd310b84a",
   "metadata": {},
   "outputs": [
    {
     "data": {
      "text/plain": [
       "3.67"
      ]
     },
     "execution_count": 36,
     "metadata": {},
     "output_type": "execute_result"
    }
   ],
   "source": [
    "round(d, 2)"
   ]
  },
  {
   "cell_type": "code",
   "execution_count": 37,
   "id": "04f71443-1af9-42e8-bb41-fd90f45ff691",
   "metadata": {},
   "outputs": [
    {
     "data": {
      "text/plain": [
       "3.6666666666666665"
      ]
     },
     "execution_count": 37,
     "metadata": {},
     "output_type": "execute_result"
    }
   ],
   "source": [
    "d"
   ]
  },
  {
   "cell_type": "code",
   "execution_count": 38,
   "id": "e53a21bd-b6ed-451b-91bc-4280174f4786",
   "metadata": {},
   "outputs": [
    {
     "data": {
      "text/plain": [
       "(4165829655317709, 1125899906842624)"
      ]
     },
     "execution_count": 38,
     "metadata": {},
     "output_type": "execute_result"
    }
   ],
   "source": [
    "round(d, 1).as_integer_ratio()"
   ]
  },
  {
   "cell_type": "code",
   "execution_count": 39,
   "id": "15143043-a7ba-4dcb-9c1a-5cc46bd3661a",
   "metadata": {
    "scrolled": true
   },
   "outputs": [
    {
     "data": {
      "text/plain": [
       "3"
      ]
     },
     "execution_count": 39,
     "metadata": {},
     "output_type": "execute_result"
    }
   ],
   "source": [
    "int(d)"
   ]
  },
  {
   "cell_type": "code",
   "execution_count": 40,
   "id": "382e56d7-89fe-49f1-ba69-d08ac0f76fa8",
   "metadata": {},
   "outputs": [
    {
     "data": {
      "text/plain": [
       "5.0"
      ]
     },
     "execution_count": 40,
     "metadata": {},
     "output_type": "execute_result"
    }
   ],
   "source": [
    "float(a)"
   ]
  },
  {
   "cell_type": "code",
   "execution_count": 41,
   "id": "7a8d043d-77a1-4175-bb71-1de2e54f4e18",
   "metadata": {},
   "outputs": [
    {
     "data": {
      "text/plain": [
       "float"
      ]
     },
     "execution_count": 41,
     "metadata": {},
     "output_type": "execute_result"
    }
   ],
   "source": [
    "type(5.)"
   ]
  },
  {
   "cell_type": "code",
   "execution_count": 42,
   "id": "adec57e9-bac2-4487-bacc-4436ab2f163e",
   "metadata": {},
   "outputs": [],
   "source": [
    "f = \"5\""
   ]
  },
  {
   "cell_type": "code",
   "execution_count": 43,
   "id": "cd53faa2-2d17-4642-a005-c068a1003d0d",
   "metadata": {},
   "outputs": [],
   "source": [
    "# unsupported operand type(s) for +: 'int' and 'str'\n",
    "# a + f"
   ]
  },
  {
   "cell_type": "code",
   "execution_count": 44,
   "id": "86335f07-3c98-4196-a44a-cf5cdbfc1566",
   "metadata": {},
   "outputs": [
    {
     "data": {
      "text/plain": [
       "'Python'"
      ]
     },
     "execution_count": 44,
     "metadata": {},
     "output_type": "execute_result"
    }
   ],
   "source": [
    "s"
   ]
  },
  {
   "cell_type": "code",
   "execution_count": 45,
   "id": "28bf28db-e668-42bb-b356-ef70bc139132",
   "metadata": {},
   "outputs": [],
   "source": [
    "s1 = s + \" is a popular programming language!\""
   ]
  },
  {
   "cell_type": "code",
   "execution_count": 46,
   "id": "a0765041-8b30-4d27-8b06-57fba9e0c888",
   "metadata": {},
   "outputs": [
    {
     "data": {
      "text/plain": [
       "'Python is a popular programming language!'"
      ]
     },
     "execution_count": 46,
     "metadata": {},
     "output_type": "execute_result"
    }
   ],
   "source": [
    "s1"
   ]
  },
  {
   "cell_type": "code",
   "execution_count": 47,
   "id": "44aa1e8f-1ce2-4562-8750-4faa4053d21b",
   "metadata": {},
   "outputs": [],
   "source": [
    "l = list(s1)"
   ]
  },
  {
   "cell_type": "code",
   "execution_count": 48,
   "id": "275aef76-a4ed-4db8-994f-f429b9ef7150",
   "metadata": {},
   "outputs": [
    {
     "data": {
      "text/plain": [
       "['P',\n",
       " 'y',\n",
       " 't',\n",
       " 'h',\n",
       " 'o',\n",
       " 'n',\n",
       " ' ',\n",
       " 'i',\n",
       " 's',\n",
       " ' ',\n",
       " 'a',\n",
       " ' ',\n",
       " 'p',\n",
       " 'o',\n",
       " 'p',\n",
       " 'u',\n",
       " 'l',\n",
       " 'a',\n",
       " 'r',\n",
       " ' ',\n",
       " 'p',\n",
       " 'r',\n",
       " 'o',\n",
       " 'g',\n",
       " 'r',\n",
       " 'a',\n",
       " 'm',\n",
       " 'm',\n",
       " 'i',\n",
       " 'n',\n",
       " 'g',\n",
       " ' ',\n",
       " 'l',\n",
       " 'a',\n",
       " 'n',\n",
       " 'g',\n",
       " 'u',\n",
       " 'a',\n",
       " 'g',\n",
       " 'e',\n",
       " '!']"
      ]
     },
     "execution_count": 48,
     "metadata": {},
     "output_type": "execute_result"
    }
   ],
   "source": [
    "l"
   ]
  },
  {
   "cell_type": "code",
   "execution_count": 49,
   "id": "d5984aa6-ee2d-42b1-9def-74d2a12f4984",
   "metadata": {},
   "outputs": [
    {
     "data": {
      "text/plain": [
       "41"
      ]
     },
     "execution_count": 49,
     "metadata": {},
     "output_type": "execute_result"
    }
   ],
   "source": [
    "len(l)"
   ]
  },
  {
   "cell_type": "code",
   "execution_count": 50,
   "id": "c19c2ae0-0736-4b1f-af01-46e658680147",
   "metadata": {},
   "outputs": [],
   "source": [
    "l.sort()"
   ]
  },
  {
   "cell_type": "code",
   "execution_count": 51,
   "id": "913c3279-2bda-4b23-9285-60f76fa14d59",
   "metadata": {},
   "outputs": [
    {
     "data": {
      "text/plain": [
       "[' ',\n",
       " ' ',\n",
       " ' ',\n",
       " ' ',\n",
       " ' ',\n",
       " '!',\n",
       " 'P',\n",
       " 'a',\n",
       " 'a',\n",
       " 'a',\n",
       " 'a',\n",
       " 'a',\n",
       " 'e',\n",
       " 'g',\n",
       " 'g',\n",
       " 'g',\n",
       " 'g',\n",
       " 'h',\n",
       " 'i',\n",
       " 'i',\n",
       " 'l',\n",
       " 'l',\n",
       " 'm',\n",
       " 'm',\n",
       " 'n',\n",
       " 'n',\n",
       " 'n',\n",
       " 'o',\n",
       " 'o',\n",
       " 'o',\n",
       " 'p',\n",
       " 'p',\n",
       " 'p',\n",
       " 'r',\n",
       " 'r',\n",
       " 'r',\n",
       " 's',\n",
       " 't',\n",
       " 'u',\n",
       " 'u',\n",
       " 'y']"
      ]
     },
     "execution_count": 51,
     "metadata": {},
     "output_type": "execute_result"
    }
   ],
   "source": [
    "l"
   ]
  },
  {
   "cell_type": "code",
   "execution_count": 52,
   "id": "139d42b2-d1e0-4960-94f3-187d13619eea",
   "metadata": {},
   "outputs": [],
   "source": [
    "l1 = [1, 4, 5, 2, 76, 7, 2, 354, 3]"
   ]
  },
  {
   "cell_type": "code",
   "execution_count": 53,
   "id": "c8845e94-588a-4a88-88ac-91ec17859f59",
   "metadata": {},
   "outputs": [
    {
     "data": {
      "text/plain": [
       "[1, 4]"
      ]
     },
     "execution_count": 53,
     "metadata": {},
     "output_type": "execute_result"
    }
   ],
   "source": [
    "l1[:2]"
   ]
  },
  {
   "cell_type": "code",
   "execution_count": 54,
   "id": "f54e7693-89d5-4e18-a73d-cd04295464a2",
   "metadata": {},
   "outputs": [
    {
     "data": {
      "text/plain": [
       "[5, 2, 76]"
      ]
     },
     "execution_count": 54,
     "metadata": {},
     "output_type": "execute_result"
    }
   ],
   "source": [
    "l1[2:5]"
   ]
  },
  {
   "cell_type": "code",
   "execution_count": 55,
   "id": "82a060fb-0fd8-4db9-a9ab-05c649a637c9",
   "metadata": {},
   "outputs": [],
   "source": [
    "l2 = l1 + [9, 80, 56]"
   ]
  },
  {
   "cell_type": "code",
   "execution_count": 56,
   "id": "f1b7af9f-f5cf-4857-ab93-f2da2afe6334",
   "metadata": {},
   "outputs": [
    {
     "data": {
      "text/plain": [
       "[1, 4, 5, 2, 76, 7, 2, 354, 3]"
      ]
     },
     "execution_count": 56,
     "metadata": {},
     "output_type": "execute_result"
    }
   ],
   "source": [
    "l1"
   ]
  },
  {
   "cell_type": "code",
   "execution_count": 57,
   "id": "bc18feda-86a4-4d49-a295-3dfc9b03ab15",
   "metadata": {},
   "outputs": [
    {
     "data": {
      "text/plain": [
       "[1, 4, 5, 2, 76, 7, 2, 354, 3, 9, 80, 56]"
      ]
     },
     "execution_count": 57,
     "metadata": {},
     "output_type": "execute_result"
    }
   ],
   "source": [
    "l2"
   ]
  },
  {
   "cell_type": "code",
   "execution_count": 58,
   "id": "7a323c82-d31a-4877-b6ba-7e7f6edb6b34",
   "metadata": {},
   "outputs": [],
   "source": [
    "l3 = l2"
   ]
  },
  {
   "cell_type": "code",
   "execution_count": 59,
   "id": "527477ed-8e1b-43cf-a601-f3cd56ae7e66",
   "metadata": {},
   "outputs": [
    {
     "data": {
      "text/plain": [
       "[1, 4, 5, 2, 76, 7, 2, 354, 3, 9, 80, 56]"
      ]
     },
     "execution_count": 59,
     "metadata": {},
     "output_type": "execute_result"
    }
   ],
   "source": [
    "l2"
   ]
  },
  {
   "cell_type": "code",
   "execution_count": 60,
   "id": "b1af76cb-0336-4982-83b3-bd39a31d3936",
   "metadata": {},
   "outputs": [
    {
     "data": {
      "text/plain": [
       "[1, 4, 5, 2, 76, 7, 2, 354, 3, 9, 80, 56]"
      ]
     },
     "execution_count": 60,
     "metadata": {},
     "output_type": "execute_result"
    }
   ],
   "source": [
    "l3"
   ]
  },
  {
   "cell_type": "code",
   "execution_count": 61,
   "id": "43677da9-9048-4b1a-9231-af377e5ff7ef",
   "metadata": {},
   "outputs": [],
   "source": [
    "l2.append(42)"
   ]
  },
  {
   "cell_type": "code",
   "execution_count": 62,
   "id": "4d4a5393-2284-40cf-9c45-e487ae981b46",
   "metadata": {},
   "outputs": [
    {
     "data": {
      "text/plain": [
       "[1, 4, 5, 2, 76, 7, 2, 354, 3, 9, 80, 56, 42]"
      ]
     },
     "execution_count": 62,
     "metadata": {},
     "output_type": "execute_result"
    }
   ],
   "source": [
    "l2"
   ]
  },
  {
   "cell_type": "code",
   "execution_count": 63,
   "id": "663318fc-2480-49ee-8e58-b0e37279a301",
   "metadata": {},
   "outputs": [
    {
     "data": {
      "text/plain": [
       "[1, 4, 5, 2, 76, 7, 2, 354, 3, 9, 80, 56, 42]"
      ]
     },
     "execution_count": 63,
     "metadata": {},
     "output_type": "execute_result"
    }
   ],
   "source": [
    "l3"
   ]
  },
  {
   "cell_type": "code",
   "execution_count": 64,
   "id": "43868c08-9d8c-45bc-bac6-340736283f05",
   "metadata": {},
   "outputs": [],
   "source": [
    "l4 = l2.copy()"
   ]
  },
  {
   "cell_type": "code",
   "execution_count": 65,
   "id": "770dc2d2-5f86-4ec3-85e0-c65f3dfb9864",
   "metadata": {},
   "outputs": [
    {
     "data": {
      "text/plain": [
       "[1, 4, 5, 2, 76, 7, 2, 354, 3, 9, 80, 56, 42]"
      ]
     },
     "execution_count": 65,
     "metadata": {},
     "output_type": "execute_result"
    }
   ],
   "source": [
    "l2"
   ]
  },
  {
   "cell_type": "code",
   "execution_count": 66,
   "id": "e0650909-2097-4d09-b91b-121df5370716",
   "metadata": {},
   "outputs": [
    {
     "data": {
      "text/plain": [
       "[1, 4, 5, 2, 76, 7, 2, 354, 3, 9, 80, 56, 42]"
      ]
     },
     "execution_count": 66,
     "metadata": {},
     "output_type": "execute_result"
    }
   ],
   "source": [
    "l4"
   ]
  },
  {
   "cell_type": "code",
   "execution_count": 67,
   "id": "0de60339-bdd2-4721-a2e7-36f8b47a6bfb",
   "metadata": {},
   "outputs": [],
   "source": [
    "l2.append(44)"
   ]
  },
  {
   "cell_type": "code",
   "execution_count": 68,
   "id": "fa932485-d227-43e9-9896-b08ed0a82f4e",
   "metadata": {},
   "outputs": [
    {
     "data": {
      "text/plain": [
       "[1, 4, 5, 2, 76, 7, 2, 354, 3, 9, 80, 56, 42, 44]"
      ]
     },
     "execution_count": 68,
     "metadata": {},
     "output_type": "execute_result"
    }
   ],
   "source": [
    "l2"
   ]
  },
  {
   "cell_type": "code",
   "execution_count": 69,
   "id": "c7278b4b-d0a7-4ebe-94bf-7da24bffa82b",
   "metadata": {},
   "outputs": [
    {
     "data": {
      "text/plain": [
       "[1, 4, 5, 2, 76, 7, 2, 354, 3, 9, 80, 56, 42, 44]"
      ]
     },
     "execution_count": 69,
     "metadata": {},
     "output_type": "execute_result"
    }
   ],
   "source": [
    "l3"
   ]
  },
  {
   "cell_type": "code",
   "execution_count": 70,
   "id": "22b24672-0a06-4d45-b551-2b9f4fa5c409",
   "metadata": {},
   "outputs": [
    {
     "data": {
      "text/plain": [
       "[1, 4, 5, 2, 76, 7, 2, 354, 3, 9, 80, 56, 42, 44]"
      ]
     },
     "execution_count": 70,
     "metadata": {},
     "output_type": "execute_result"
    }
   ],
   "source": [
    "l3"
   ]
  },
  {
   "cell_type": "code",
   "execution_count": 71,
   "id": "753d0e1b-6b5e-4391-8241-edace15913f2",
   "metadata": {},
   "outputs": [
    {
     "data": {
      "text/plain": [
       "[1, 4, 5, 2, 76, 7, 2, 354, 3, 9, 80, 56, 42]"
      ]
     },
     "execution_count": 71,
     "metadata": {},
     "output_type": "execute_result"
    }
   ],
   "source": [
    "l4"
   ]
  },
  {
   "cell_type": "code",
   "execution_count": 72,
   "id": "6ed5004e-dd47-4317-bd24-8dc602f598ad",
   "metadata": {},
   "outputs": [
    {
     "data": {
      "text/plain": [
       "42"
      ]
     },
     "execution_count": 72,
     "metadata": {},
     "output_type": "execute_result"
    }
   ],
   "source": [
    "l4[-1]"
   ]
  },
  {
   "cell_type": "code",
   "execution_count": 73,
   "id": "b21f8b8d-b6f0-44eb-9569-35309a324c69",
   "metadata": {},
   "outputs": [
    {
     "data": {
      "text/plain": [
       "[5, 2, 76, 7, 2, 354, 3, 9, 80, 56]"
      ]
     },
     "execution_count": 73,
     "metadata": {},
     "output_type": "execute_result"
    }
   ],
   "source": [
    "l4[2:-1]"
   ]
  },
  {
   "cell_type": "code",
   "execution_count": 74,
   "id": "e8d31086-bfd6-41bc-b79f-514b898a04ee",
   "metadata": {},
   "outputs": [
    {
     "data": {
      "text/plain": [
       "[80, 56]"
      ]
     },
     "execution_count": 74,
     "metadata": {},
     "output_type": "execute_result"
    }
   ],
   "source": [
    "l4[-3:-1]"
   ]
  },
  {
   "cell_type": "code",
   "execution_count": 75,
   "id": "b2b09ecb-4063-4174-b9d5-654aa903d9a9",
   "metadata": {},
   "outputs": [
    {
     "data": {
      "text/plain": [
       "12"
      ]
     },
     "execution_count": 75,
     "metadata": {},
     "output_type": "execute_result"
    }
   ],
   "source": [
    "l4.index(42)"
   ]
  },
  {
   "cell_type": "code",
   "execution_count": 76,
   "id": "0a332b24-4907-4247-87aa-68c85ee66ba2",
   "metadata": {},
   "outputs": [],
   "source": [
    "# 12 is not in list\n",
    "# l4.index(12)"
   ]
  },
  {
   "cell_type": "code",
   "execution_count": 77,
   "id": "3693f2c3-97cb-4294-9fc5-5d4b004ee437",
   "metadata": {},
   "outputs": [
    {
     "data": {
      "text/plain": [
       "[1, 4, 5, 2, 76, 7, 2, 354, 3, 9, 80, 56, 42]"
      ]
     },
     "execution_count": 77,
     "metadata": {},
     "output_type": "execute_result"
    }
   ],
   "source": [
    "l4"
   ]
  },
  {
   "cell_type": "code",
   "execution_count": 78,
   "id": "71993991-a045-4e02-8d16-155bb91db72b",
   "metadata": {},
   "outputs": [
    {
     "data": {
      "text/plain": [
       "42"
      ]
     },
     "execution_count": 78,
     "metadata": {},
     "output_type": "execute_result"
    }
   ],
   "source": [
    "l4.pop()"
   ]
  },
  {
   "cell_type": "code",
   "execution_count": 79,
   "id": "fb726168-0b46-46d6-88d8-7c3ff24936e4",
   "metadata": {},
   "outputs": [
    {
     "data": {
      "text/plain": [
       "[1, 4, 5, 2, 76, 7, 2, 354, 3, 9, 80, 56]"
      ]
     },
     "execution_count": 79,
     "metadata": {},
     "output_type": "execute_result"
    }
   ],
   "source": [
    "l4"
   ]
  },
  {
   "cell_type": "code",
   "execution_count": 80,
   "id": "ef03ee78-2720-443f-9218-efeea37a824a",
   "metadata": {},
   "outputs": [
    {
     "data": {
      "text/plain": [
       "56"
      ]
     },
     "execution_count": 80,
     "metadata": {},
     "output_type": "execute_result"
    }
   ],
   "source": [
    "l4.pop()"
   ]
  },
  {
   "cell_type": "code",
   "execution_count": 81,
   "id": "8fcd1aac-145c-48ad-b874-ee13e6f68a67",
   "metadata": {},
   "outputs": [
    {
     "data": {
      "text/plain": [
       "[1, 4, 5, 2, 76, 7, 2, 354, 3, 9, 80]"
      ]
     },
     "execution_count": 81,
     "metadata": {},
     "output_type": "execute_result"
    }
   ],
   "source": [
    "l4"
   ]
  },
  {
   "cell_type": "code",
   "execution_count": 82,
   "id": "6e97bfaf-d028-4d6f-aca6-4515a910fd75",
   "metadata": {},
   "outputs": [],
   "source": [
    "l4.extend([42, 121])"
   ]
  },
  {
   "cell_type": "code",
   "execution_count": 83,
   "id": "ec9ee5be-9a9a-4812-b107-31b1be699fda",
   "metadata": {},
   "outputs": [
    {
     "data": {
      "text/plain": [
       "[1, 4, 5, 2, 76, 7, 2, 354, 3, 9, 80, 42, 121]"
      ]
     },
     "execution_count": 83,
     "metadata": {},
     "output_type": "execute_result"
    }
   ],
   "source": [
    "l4"
   ]
  },
  {
   "cell_type": "code",
   "execution_count": 84,
   "id": "b75034c4-2596-4e38-94c8-56a14c8275b1",
   "metadata": {},
   "outputs": [
    {
     "data": {
      "text/plain": [
       "[1, 4, 5, 2, 76, 7, 2, 354, 3, 9, 80, 42, 121]"
      ]
     },
     "execution_count": 84,
     "metadata": {},
     "output_type": "execute_result"
    }
   ],
   "source": [
    "l4[::1]"
   ]
  },
  {
   "cell_type": "code",
   "execution_count": 85,
   "id": "ae5dbc2a-2488-4a37-b110-5a750781ec8e",
   "metadata": {},
   "outputs": [
    {
     "data": {
      "text/plain": [
       "[1, 5, 76, 2, 3, 80, 121]"
      ]
     },
     "execution_count": 85,
     "metadata": {},
     "output_type": "execute_result"
    }
   ],
   "source": [
    "l4[::2]"
   ]
  },
  {
   "cell_type": "code",
   "execution_count": 86,
   "id": "0afe261e-0088-47c0-aa2b-de32d0d4699b",
   "metadata": {},
   "outputs": [
    {
     "data": {
      "text/plain": [
       "[121, 42, 80, 9, 3, 354, 2, 7, 76, 2, 5, 4, 1]"
      ]
     },
     "execution_count": 86,
     "metadata": {},
     "output_type": "execute_result"
    }
   ],
   "source": [
    "l4[::-1]"
   ]
  },
  {
   "cell_type": "code",
   "execution_count": 87,
   "id": "f40c1856-d831-4971-bff7-2bb44897b4d9",
   "metadata": {},
   "outputs": [
    {
     "data": {
      "text/plain": [
       "[121, 80, 3, 2, 76, 5, 1]"
      ]
     },
     "execution_count": 87,
     "metadata": {},
     "output_type": "execute_result"
    }
   ],
   "source": [
    "l4[::-2]"
   ]
  },
  {
   "cell_type": "code",
   "execution_count": 88,
   "id": "26be1fc6-91c6-4740-a5f5-091a5f8cdaf0",
   "metadata": {},
   "outputs": [
    {
     "data": {
      "text/plain": [
       "[1, 2, 2, 9, 121]"
      ]
     },
     "execution_count": 88,
     "metadata": {},
     "output_type": "execute_result"
    }
   ],
   "source": [
    "l4[::3]"
   ]
  },
  {
   "cell_type": "code",
   "execution_count": 89,
   "id": "a8153cac-d043-4a6f-80b7-5cf5777c754f",
   "metadata": {},
   "outputs": [],
   "source": [
    "l5 = [x / 2 for x in l4 if x % 2 == 0]"
   ]
  },
  {
   "cell_type": "code",
   "execution_count": 90,
   "id": "1dca596c-522e-4cfb-9213-097c6602e857",
   "metadata": {},
   "outputs": [
    {
     "data": {
      "text/plain": [
       "[2.0, 1.0, 38.0, 1.0, 177.0, 40.0, 21.0]"
      ]
     },
     "execution_count": 90,
     "metadata": {},
     "output_type": "execute_result"
    }
   ],
   "source": [
    "l5"
   ]
  },
  {
   "cell_type": "code",
   "execution_count": 91,
   "id": "063a410c-e340-48b2-b354-f84aaeffe0e1",
   "metadata": {},
   "outputs": [
    {
     "data": {
      "text/plain": [
       "7"
      ]
     },
     "execution_count": 91,
     "metadata": {},
     "output_type": "execute_result"
    }
   ],
   "source": [
    "len(l5)"
   ]
  },
  {
   "cell_type": "code",
   "execution_count": 92,
   "id": "3443bab7-5ba6-4fc1-8b5a-f9d1a2279c1e",
   "metadata": {},
   "outputs": [],
   "source": [
    "l5 = list(range(0, 7))"
   ]
  },
  {
   "cell_type": "code",
   "execution_count": 93,
   "id": "fc15f2ac-6886-42fb-8de1-00d39c1f02d9",
   "metadata": {},
   "outputs": [
    {
     "data": {
      "text/plain": [
       "[0, 1, 2, 3, 4, 5, 6]"
      ]
     },
     "execution_count": 93,
     "metadata": {},
     "output_type": "execute_result"
    }
   ],
   "source": [
    "l5"
   ]
  },
  {
   "cell_type": "code",
   "execution_count": 94,
   "id": "9d535b04-a7a6-4642-aa1d-35f8dc00a5a3",
   "metadata": {},
   "outputs": [],
   "source": [
    "l5 = 42"
   ]
  },
  {
   "cell_type": "code",
   "execution_count": 95,
   "id": "b518a4c7-4109-40b4-912a-2579ce0899ce",
   "metadata": {},
   "outputs": [
    {
     "data": {
      "text/plain": [
       "42"
      ]
     },
     "execution_count": 95,
     "metadata": {},
     "output_type": "execute_result"
    }
   ],
   "source": [
    "l5"
   ]
  },
  {
   "cell_type": "code",
   "execution_count": 96,
   "id": "ce4d27a2-acd4-43bf-b42b-2ccd220e2d80",
   "metadata": {},
   "outputs": [],
   "source": [
    "l5 = list(range(0, 7))"
   ]
  },
  {
   "cell_type": "code",
   "execution_count": 97,
   "id": "9cacae43-604f-47c9-ab22-ece20b07d081",
   "metadata": {},
   "outputs": [],
   "source": [
    "# can only assign an iterable\n",
    "# l5[-3:] = 42"
   ]
  },
  {
   "cell_type": "code",
   "execution_count": 98,
   "id": "91d237d2-93e4-4efd-92ab-5e38c487684f",
   "metadata": {},
   "outputs": [],
   "source": [
    "l5[-3:] = [42, 42, 42]"
   ]
  },
  {
   "cell_type": "code",
   "execution_count": 99,
   "id": "6317870d-9bc6-4136-9a68-ec9d0ec49b2d",
   "metadata": {},
   "outputs": [
    {
     "data": {
      "text/plain": [
       "[0, 1, 2, 3, 42, 42, 42]"
      ]
     },
     "execution_count": 99,
     "metadata": {},
     "output_type": "execute_result"
    }
   ],
   "source": [
    "l5"
   ]
  },
  {
   "cell_type": "code",
   "execution_count": 100,
   "id": "c9025060-b28a-4a62-b5aa-2be003111f72",
   "metadata": {},
   "outputs": [],
   "source": [
    "l6 = [[1, 2], [3, 4], [5, 6], [7, 8]]"
   ]
  },
  {
   "cell_type": "code",
   "execution_count": 101,
   "id": "59b11b16-836c-448a-9faf-6bc90d0397de",
   "metadata": {},
   "outputs": [
    {
     "data": {
      "text/plain": [
       "[[1, 2], [3, 4], [5, 6], [7, 8]]"
      ]
     },
     "execution_count": 101,
     "metadata": {},
     "output_type": "execute_result"
    }
   ],
   "source": [
    "l6"
   ]
  },
  {
   "cell_type": "code",
   "execution_count": 102,
   "id": "ce898538-238f-4c80-a895-60732542b96c",
   "metadata": {},
   "outputs": [
    {
     "name": "stdout",
     "output_type": "stream",
     "text": [
      "[1, 2]\n",
      "[3, 4]\n",
      "[5, 6]\n",
      "[7, 8]\n"
     ]
    }
   ],
   "source": [
    "for x in l6:\n",
    "    print(x)"
   ]
  },
  {
   "cell_type": "code",
   "execution_count": 103,
   "id": "47c47041-7149-4918-8e7b-b60fea5e8fac",
   "metadata": {
    "scrolled": true
   },
   "outputs": [
    {
     "name": "stdout",
     "output_type": "stream",
     "text": [
      "[1, 2]\n",
      "[3, 4]\n",
      "[5, 6]\n",
      "[7, 8]\n"
     ]
    },
    {
     "data": {
      "text/plain": [
       "[None, None, None, None]"
      ]
     },
     "execution_count": 103,
     "metadata": {},
     "output_type": "execute_result"
    }
   ],
   "source": [
    "[print(x) for x in l6]"
   ]
  },
  {
   "cell_type": "code",
   "execution_count": 104,
   "id": "25c83961-1ec4-406f-96b0-7475a82ff61b",
   "metadata": {},
   "outputs": [
    {
     "data": {
      "text/plain": [
       "1"
      ]
     },
     "execution_count": 104,
     "metadata": {},
     "output_type": "execute_result"
    }
   ],
   "source": [
    "l6[0][0]"
   ]
  },
  {
   "cell_type": "code",
   "execution_count": 105,
   "id": "be4b1f8c-7d83-4c0e-9b18-65b53cee0017",
   "metadata": {},
   "outputs": [
    {
     "data": {
      "text/plain": [
       "[3, 4]"
      ]
     },
     "execution_count": 105,
     "metadata": {},
     "output_type": "execute_result"
    }
   ],
   "source": [
    "l6[0:-1][1]"
   ]
  },
  {
   "cell_type": "code",
   "execution_count": 106,
   "id": "14e3b454-a16c-4e80-a6fc-96da1a881fb1",
   "metadata": {},
   "outputs": [
    {
     "data": {
      "text/plain": [
       "1202748680000"
      ]
     },
     "execution_count": 106,
     "metadata": {},
     "output_type": "execute_result"
    }
   ],
   "source": [
    "id(l2)"
   ]
  },
  {
   "cell_type": "code",
   "execution_count": 107,
   "id": "d2ecd4f3-6359-4483-8864-0e86339fb2e0",
   "metadata": {},
   "outputs": [
    {
     "data": {
      "text/plain": [
       "1202748680000"
      ]
     },
     "execution_count": 107,
     "metadata": {},
     "output_type": "execute_result"
    }
   ],
   "source": [
    "id(l3)"
   ]
  },
  {
   "cell_type": "code",
   "execution_count": 108,
   "id": "fb52554d-6811-4d5b-ba3d-a0cdb13e6c37",
   "metadata": {},
   "outputs": [
    {
     "data": {
      "text/plain": [
       "1202748678912"
      ]
     },
     "execution_count": 108,
     "metadata": {},
     "output_type": "execute_result"
    }
   ],
   "source": [
    "id(l4)"
   ]
  },
  {
   "cell_type": "code",
   "execution_count": 109,
   "id": "907b5d21-c42d-4e7a-800e-64c89b356324",
   "metadata": {},
   "outputs": [
    {
     "data": {
      "text/plain": [
       "1202748852096"
      ]
     },
     "execution_count": 109,
     "metadata": {},
     "output_type": "execute_result"
    }
   ],
   "source": [
    "id(l5)"
   ]
  },
  {
   "cell_type": "code",
   "execution_count": 110,
   "id": "f802162c-75c2-4adf-a033-06f456bcdb88",
   "metadata": {},
   "outputs": [
    {
     "data": {
      "text/plain": [
       "1202748741248"
      ]
     },
     "execution_count": 110,
     "metadata": {},
     "output_type": "execute_result"
    }
   ],
   "source": [
    "id(l6)"
   ]
  },
  {
   "cell_type": "code",
   "execution_count": 111,
   "id": "35c0f3cf-eecc-4815-bf08-c939c4f3764b",
   "metadata": {},
   "outputs": [],
   "source": [
    "l7 = [1, 2, 3]"
   ]
  },
  {
   "cell_type": "code",
   "execution_count": 112,
   "id": "4e76d687-c59b-4760-9ca0-7109c06d0442",
   "metadata": {},
   "outputs": [],
   "source": [
    "l8 = l7[:]"
   ]
  },
  {
   "cell_type": "code",
   "execution_count": 113,
   "id": "1c767fdf-5315-48b2-ba32-d73f9752f5b8",
   "metadata": {},
   "outputs": [
    {
     "data": {
      "text/plain": [
       "1202747311232"
      ]
     },
     "execution_count": 113,
     "metadata": {},
     "output_type": "execute_result"
    }
   ],
   "source": [
    "id(l7)"
   ]
  },
  {
   "cell_type": "code",
   "execution_count": 114,
   "id": "3076a7fc-0e60-4a07-b15f-c07b43c7b051",
   "metadata": {},
   "outputs": [
    {
     "data": {
      "text/plain": [
       "1202748910592"
      ]
     },
     "execution_count": 114,
     "metadata": {},
     "output_type": "execute_result"
    }
   ],
   "source": [
    "id(l8)"
   ]
  },
  {
   "cell_type": "markdown",
   "id": "cd1bc5db-365a-46db-a590-b4d4beb1bfdc",
   "metadata": {},
   "source": [
    "## **Tupples**"
   ]
  },
  {
   "cell_type": "code",
   "execution_count": 115,
   "id": "ee410e5a-de91-44b1-b8da-8e9921d06b26",
   "metadata": {},
   "outputs": [],
   "source": [
    "t = 1, 2, 3"
   ]
  },
  {
   "cell_type": "code",
   "execution_count": 116,
   "id": "1eddeb64-4cb2-4b08-ac50-ece7674cf63b",
   "metadata": {},
   "outputs": [
    {
     "data": {
      "text/plain": [
       "tuple"
      ]
     },
     "execution_count": 116,
     "metadata": {},
     "output_type": "execute_result"
    }
   ],
   "source": [
    "type(t)"
   ]
  },
  {
   "cell_type": "code",
   "execution_count": 117,
   "id": "004ca1dd-a414-4328-92cf-7e8e424f2138",
   "metadata": {},
   "outputs": [
    {
     "data": {
      "text/plain": [
       "1"
      ]
     },
     "execution_count": 117,
     "metadata": {},
     "output_type": "execute_result"
    }
   ],
   "source": [
    "t[0]"
   ]
  },
  {
   "cell_type": "code",
   "execution_count": 118,
   "id": "bcc27d69-f353-484b-8e18-0e257c9ee96c",
   "metadata": {},
   "outputs": [],
   "source": [
    "t2 = t + (4, 5, 6)"
   ]
  },
  {
   "cell_type": "code",
   "execution_count": 119,
   "id": "08b0a45f-ca85-4f58-ae16-442c058ce9c9",
   "metadata": {},
   "outputs": [
    {
     "data": {
      "text/plain": [
       "(1, 2, 3, 4, 5, 6)"
      ]
     },
     "execution_count": 119,
     "metadata": {},
     "output_type": "execute_result"
    }
   ],
   "source": [
    "t2"
   ]
  },
  {
   "cell_type": "code",
   "execution_count": 120,
   "id": "f79db38c-2930-4fd0-9420-a1eaf939ca41",
   "metadata": {},
   "outputs": [],
   "source": [
    "t3 = t2 * 2"
   ]
  },
  {
   "cell_type": "code",
   "execution_count": 121,
   "id": "11bf7cfa-4f6d-429f-b980-d994fcfd13a8",
   "metadata": {},
   "outputs": [
    {
     "data": {
      "text/plain": [
       "(1, 2, 3, 4, 5, 6, 1, 2, 3, 4, 5, 6)"
      ]
     },
     "execution_count": 121,
     "metadata": {},
     "output_type": "execute_result"
    }
   ],
   "source": [
    "t3"
   ]
  },
  {
   "cell_type": "code",
   "execution_count": 122,
   "id": "e63cd32e-8364-4bc5-9221-fad40f16a248",
   "metadata": {},
   "outputs": [],
   "source": [
    "t4 = t2"
   ]
  },
  {
   "cell_type": "code",
   "execution_count": 123,
   "id": "db512bde-626f-4345-aee7-f553e5210a14",
   "metadata": {},
   "outputs": [
    {
     "data": {
      "text/plain": [
       "(1, 2, 3, 4, 5, 6)"
      ]
     },
     "execution_count": 123,
     "metadata": {},
     "output_type": "execute_result"
    }
   ],
   "source": [
    "t4"
   ]
  },
  {
   "cell_type": "code",
   "execution_count": 124,
   "id": "596e6de6-13eb-46ae-a105-ab098d768a93",
   "metadata": {},
   "outputs": [
    {
     "name": "stdout",
     "output_type": "stream",
     "text": [
      "t2: 1202723052256: t4: 1202723052256\n"
     ]
    }
   ],
   "source": [
    "print(f't2: {id(t2)}: t4: {id(t4)}')"
   ]
  },
  {
   "cell_type": "code",
   "execution_count": 125,
   "id": "a55454b1-f5a9-456d-882e-5434a07be392",
   "metadata": {},
   "outputs": [
    {
     "name": "stdout",
     "output_type": "stream",
     "text": [
      "is t2 adress same as t4: True\n"
     ]
    }
   ],
   "source": [
    "print(f'is t2 adress same as t4: {id(t2) == id(t4)}')"
   ]
  },
  {
   "cell_type": "code",
   "execution_count": 126,
   "id": "504dcdf5-371b-4697-bafc-23b97d78f184",
   "metadata": {},
   "outputs": [],
   "source": [
    "t5 = tuple(list(t2))"
   ]
  },
  {
   "cell_type": "code",
   "execution_count": 127,
   "id": "8fd847c0-356e-4eff-9bba-6993abd2437c",
   "metadata": {},
   "outputs": [
    {
     "data": {
      "text/plain": [
       "(1, 2, 3, 4, 5, 6)"
      ]
     },
     "execution_count": 127,
     "metadata": {},
     "output_type": "execute_result"
    }
   ],
   "source": [
    "t5"
   ]
  },
  {
   "cell_type": "code",
   "execution_count": 128,
   "id": "4dcb1bd1-3f3e-4139-a7b6-c17099c249cc",
   "metadata": {},
   "outputs": [
    {
     "name": "stdout",
     "output_type": "stream",
     "text": [
      "t2: 1202723052256: t5: 1202747156672\n"
     ]
    }
   ],
   "source": [
    "print(f't2: {id(t2)}: t5: {id(t5)}')"
   ]
  },
  {
   "cell_type": "code",
   "execution_count": 129,
   "id": "d2b976ce-da3f-4255-b790-a352829b09da",
   "metadata": {},
   "outputs": [
    {
     "name": "stdout",
     "output_type": "stream",
     "text": [
      "is t2 adress same as t5: False\n"
     ]
    }
   ],
   "source": [
    "print(f'is t2 adress same as t5: {id(t2) == id(t5)}')"
   ]
  },
  {
   "cell_type": "code",
   "execution_count": 130,
   "id": "4fea1e9f-c918-4a9d-8e59-67093948f564",
   "metadata": {},
   "outputs": [
    {
     "data": {
      "text/plain": [
       "(1, 2, 3, 4, 5, 6)"
      ]
     },
     "execution_count": 130,
     "metadata": {},
     "output_type": "execute_result"
    }
   ],
   "source": [
    "t5"
   ]
  },
  {
   "cell_type": "code",
   "execution_count": 131,
   "id": "981e8b8d-ef89-45cf-bb05-7a7983c42292",
   "metadata": {},
   "outputs": [
    {
     "data": {
      "text/plain": [
       "1"
      ]
     },
     "execution_count": 131,
     "metadata": {},
     "output_type": "execute_result"
    }
   ],
   "source": [
    "t5.count(1)"
   ]
  },
  {
   "cell_type": "code",
   "execution_count": 132,
   "id": "c399bfe9-945d-4da3-b0e8-60c42946bcaa",
   "metadata": {},
   "outputs": [],
   "source": [
    "t5 = t5 * 2"
   ]
  },
  {
   "cell_type": "code",
   "execution_count": 133,
   "id": "fdf17c9b-9e05-4caa-8187-339a350d23ca",
   "metadata": {},
   "outputs": [
    {
     "data": {
      "text/plain": [
       "2"
      ]
     },
     "execution_count": 133,
     "metadata": {},
     "output_type": "execute_result"
    }
   ],
   "source": [
    "t5.count(1)"
   ]
  },
  {
   "cell_type": "code",
   "execution_count": 134,
   "id": "905fd2b3-b53b-4ae6-96a5-91a9f52196f0",
   "metadata": {},
   "outputs": [
    {
     "data": {
      "text/plain": [
       "(1, 2, 3)"
      ]
     },
     "execution_count": 134,
     "metadata": {},
     "output_type": "execute_result"
    }
   ],
   "source": [
    "t5[0:3]"
   ]
  },
  {
   "cell_type": "code",
   "execution_count": 135,
   "id": "9c0e68e4-76fc-48bd-ad65-65cc07156242",
   "metadata": {},
   "outputs": [
    {
     "data": {
      "text/plain": [
       "(4, 5, 6, 1, 2, 3, 4, 5, 6)"
      ]
     },
     "execution_count": 135,
     "metadata": {},
     "output_type": "execute_result"
    }
   ],
   "source": [
    "t5[3:]"
   ]
  },
  {
   "cell_type": "markdown",
   "id": "1c848c77-6ba0-49bf-a9a4-d2ad796f740b",
   "metadata": {},
   "source": [
    "## **Set**"
   ]
  },
  {
   "cell_type": "code",
   "execution_count": 136,
   "id": "763d00c1-cec7-4378-8b6b-b5e4871663e4",
   "metadata": {},
   "outputs": [],
   "source": [
    "l42 = [1, 2, 3, 3, 3, 4, 4, 5]"
   ]
  },
  {
   "cell_type": "code",
   "execution_count": 137,
   "id": "f5598a5c-21dc-4b6b-9572-71b10a449443",
   "metadata": {},
   "outputs": [],
   "source": [
    "s = set(l42)"
   ]
  },
  {
   "cell_type": "code",
   "execution_count": 138,
   "id": "48983dea-a663-4b9f-a6d6-b18ab8bcdd0a",
   "metadata": {},
   "outputs": [
    {
     "data": {
      "text/plain": [
       "{1, 2, 3, 4, 5}"
      ]
     },
     "execution_count": 138,
     "metadata": {},
     "output_type": "execute_result"
    }
   ],
   "source": [
    "s"
   ]
  },
  {
   "cell_type": "code",
   "execution_count": 139,
   "id": "3e500280-4b7d-494f-9eef-1c6aec8f8580",
   "metadata": {},
   "outputs": [],
   "source": [
    "s.add(5)"
   ]
  },
  {
   "cell_type": "code",
   "execution_count": 140,
   "id": "d8d3dae6-1285-4cd4-ab4c-2d2c2b2bec41",
   "metadata": {},
   "outputs": [
    {
     "data": {
      "text/plain": [
       "{1, 2, 3, 4, 5}"
      ]
     },
     "execution_count": 140,
     "metadata": {},
     "output_type": "execute_result"
    }
   ],
   "source": [
    "s"
   ]
  },
  {
   "cell_type": "code",
   "execution_count": 141,
   "id": "f9b88109-d2b0-4793-84fd-6b189bb47c69",
   "metadata": {},
   "outputs": [],
   "source": [
    "s.add(42)"
   ]
  },
  {
   "cell_type": "code",
   "execution_count": 142,
   "id": "d24f66e8-16bd-4afc-97ef-8bd8a3eaadaa",
   "metadata": {},
   "outputs": [
    {
     "data": {
      "text/plain": [
       "{1, 2, 3, 4, 5, 42}"
      ]
     },
     "execution_count": 142,
     "metadata": {},
     "output_type": "execute_result"
    }
   ],
   "source": [
    "s"
   ]
  },
  {
   "cell_type": "code",
   "execution_count": 143,
   "id": "8386122e-46e0-4b0c-afdf-d61d75e4d364",
   "metadata": {},
   "outputs": [],
   "source": [
    "# unsupported operand type(s) for +: 'set' and 'int'\n",
    "# s + 24"
   ]
  },
  {
   "cell_type": "markdown",
   "id": "ff7d2873-a6ca-4140-ab01-d4f85a57e82d",
   "metadata": {},
   "source": [
    "## **Operators**"
   ]
  },
  {
   "cell_type": "markdown",
   "id": "0936138e-04c5-47bb-a11d-79073bbaf77b",
   "metadata": {},
   "source": [
    "#### **Arithmetic**"
   ]
  },
  {
   "cell_type": "code",
   "execution_count": 144,
   "id": "93c3b885-ca4d-4ca5-8fe6-02370ea51252",
   "metadata": {},
   "outputs": [],
   "source": [
    "a = 42\n",
    "b = 24\n",
    "c = 2"
   ]
  },
  {
   "cell_type": "code",
   "execution_count": 145,
   "id": "f47e1714-5777-4d8f-b422-a8b4f01e87a8",
   "metadata": {},
   "outputs": [
    {
     "data": {
      "text/plain": [
       "66"
      ]
     },
     "execution_count": 145,
     "metadata": {},
     "output_type": "execute_result"
    }
   ],
   "source": [
    "a + b"
   ]
  },
  {
   "cell_type": "code",
   "execution_count": 146,
   "id": "a3aed0dc-f7bd-44b6-af01-c95ffd695dce",
   "metadata": {},
   "outputs": [
    {
     "data": {
      "text/plain": [
       "18"
      ]
     },
     "execution_count": 146,
     "metadata": {},
     "output_type": "execute_result"
    }
   ],
   "source": [
    "a - b"
   ]
  },
  {
   "cell_type": "code",
   "execution_count": 147,
   "id": "f8b4c45b-6037-453b-b919-20f130f0ddc6",
   "metadata": {},
   "outputs": [
    {
     "data": {
      "text/plain": [
       "1008"
      ]
     },
     "execution_count": 147,
     "metadata": {},
     "output_type": "execute_result"
    }
   ],
   "source": [
    "a * b"
   ]
  },
  {
   "cell_type": "code",
   "execution_count": 148,
   "id": "0563efec-4d32-4337-bbb7-4d589ea79ff5",
   "metadata": {},
   "outputs": [
    {
     "data": {
      "text/plain": [
       "1.75"
      ]
     },
     "execution_count": 148,
     "metadata": {},
     "output_type": "execute_result"
    }
   ],
   "source": [
    "a / b"
   ]
  },
  {
   "cell_type": "code",
   "execution_count": 149,
   "id": "64b43373-a57b-4764-8962-b09bdcb60d5c",
   "metadata": {},
   "outputs": [
    {
     "data": {
      "text/plain": [
       "1"
      ]
     },
     "execution_count": 149,
     "metadata": {},
     "output_type": "execute_result"
    }
   ],
   "source": [
    "a // b"
   ]
  },
  {
   "cell_type": "code",
   "execution_count": 150,
   "id": "aa5e30a8-3a46-4d61-ae90-dbdafd336d50",
   "metadata": {},
   "outputs": [
    {
     "data": {
      "text/plain": [
       "18"
      ]
     },
     "execution_count": 150,
     "metadata": {},
     "output_type": "execute_result"
    }
   ],
   "source": [
    "a % b"
   ]
  },
  {
   "cell_type": "code",
   "execution_count": 151,
   "id": "9254d94a-70c2-4975-b4e2-18af209f45a6",
   "metadata": {},
   "outputs": [
    {
     "data": {
      "text/plain": [
       "907784931546351634835748413459499319296"
      ]
     },
     "execution_count": 151,
     "metadata": {},
     "output_type": "execute_result"
    }
   ],
   "source": [
    "a ** b"
   ]
  },
  {
   "cell_type": "code",
   "execution_count": 152,
   "id": "4fefc0a3-d107-4e1b-af98-61c859ea5221",
   "metadata": {},
   "outputs": [
    {
     "data": {
      "text/plain": [
       "1764"
      ]
     },
     "execution_count": 152,
     "metadata": {},
     "output_type": "execute_result"
    }
   ],
   "source": [
    "a ** c"
   ]
  },
  {
   "cell_type": "markdown",
   "id": "cb6262cf-d955-4063-8934-fbfce4ff4804",
   "metadata": {},
   "source": [
    "#### **Comparison**"
   ]
  },
  {
   "cell_type": "code",
   "execution_count": 153,
   "id": "bd099d56-2e6c-4a4c-8e15-05fc6ee153fc",
   "metadata": {},
   "outputs": [],
   "source": [
    "d = 5\n",
    "e = 11\n",
    "f = 16"
   ]
  },
  {
   "cell_type": "code",
   "execution_count": 154,
   "id": "7e10d8e0-8d35-4779-b97f-50371116b28a",
   "metadata": {},
   "outputs": [
    {
     "data": {
      "text/plain": [
       "False"
      ]
     },
     "execution_count": 154,
     "metadata": {},
     "output_type": "execute_result"
    }
   ],
   "source": [
    "d == e"
   ]
  },
  {
   "cell_type": "code",
   "execution_count": 155,
   "id": "81bcd0be-0bb8-4db3-a2e1-75eb297bddfb",
   "metadata": {},
   "outputs": [
    {
     "data": {
      "text/plain": [
       "True"
      ]
     },
     "execution_count": 155,
     "metadata": {},
     "output_type": "execute_result"
    }
   ],
   "source": [
    "d != e"
   ]
  },
  {
   "cell_type": "code",
   "execution_count": 156,
   "id": "5ce28df4-98b0-45cb-b542-847c1627fe68",
   "metadata": {},
   "outputs": [
    {
     "data": {
      "text/plain": [
       "True"
      ]
     },
     "execution_count": 156,
     "metadata": {},
     "output_type": "execute_result"
    }
   ],
   "source": [
    "d < e"
   ]
  },
  {
   "cell_type": "code",
   "execution_count": 157,
   "id": "c0bd1a76-7078-4df8-9de5-c8db01e56540",
   "metadata": {},
   "outputs": [
    {
     "data": {
      "text/plain": [
       "False"
      ]
     },
     "execution_count": 157,
     "metadata": {},
     "output_type": "execute_result"
    }
   ],
   "source": [
    "d > e"
   ]
  },
  {
   "cell_type": "code",
   "execution_count": 158,
   "id": "9ee4db94-3928-453a-86ec-7836641fc253",
   "metadata": {},
   "outputs": [
    {
     "data": {
      "text/plain": [
       "True"
      ]
     },
     "execution_count": 158,
     "metadata": {},
     "output_type": "execute_result"
    }
   ],
   "source": [
    "d + f > e"
   ]
  },
  {
   "cell_type": "markdown",
   "id": "2a6c7371-58cf-4dd9-b582-be9df5217a51",
   "metadata": {},
   "source": [
    "#### **Booleans**"
   ]
  },
  {
   "cell_type": "code",
   "execution_count": 159,
   "id": "63bd87d5-b0da-47a5-9cbd-b2fe02622f18",
   "metadata": {},
   "outputs": [
    {
     "data": {
      "text/plain": [
       "bool"
      ]
     },
     "execution_count": 159,
     "metadata": {},
     "output_type": "execute_result"
    }
   ],
   "source": [
    "type(True)"
   ]
  },
  {
   "cell_type": "code",
   "execution_count": 160,
   "id": "008bba11-5909-4fa1-a05e-d5dffc355d7d",
   "metadata": {},
   "outputs": [
    {
     "data": {
      "text/plain": [
       "1"
      ]
     },
     "execution_count": 160,
     "metadata": {},
     "output_type": "execute_result"
    }
   ],
   "source": [
    "int(True)"
   ]
  },
  {
   "cell_type": "code",
   "execution_count": 161,
   "id": "d670c3ba-649c-49ce-bd08-ffbd1afbf7b3",
   "metadata": {},
   "outputs": [
    {
     "data": {
      "text/plain": [
       "0"
      ]
     },
     "execution_count": 161,
     "metadata": {},
     "output_type": "execute_result"
    }
   ],
   "source": [
    "int(False)"
   ]
  },
  {
   "cell_type": "code",
   "execution_count": 162,
   "id": "8233d573-7ce2-4c11-8c82-ba2781c2854a",
   "metadata": {},
   "outputs": [
    {
     "data": {
      "text/plain": [
       "True"
      ]
     },
     "execution_count": 162,
     "metadata": {},
     "output_type": "execute_result"
    }
   ],
   "source": [
    "bool(1)"
   ]
  },
  {
   "cell_type": "code",
   "execution_count": 163,
   "id": "102a0ebe-6ac5-4afc-a732-f6ed76fa7c46",
   "metadata": {},
   "outputs": [
    {
     "data": {
      "text/plain": [
       "False"
      ]
     },
     "execution_count": 163,
     "metadata": {},
     "output_type": "execute_result"
    }
   ],
   "source": [
    "bool([])"
   ]
  },
  {
   "cell_type": "code",
   "execution_count": 164,
   "id": "40643423-ea42-42ee-be71-b2e52d687570",
   "metadata": {},
   "outputs": [
    {
     "data": {
      "text/plain": [
       "True"
      ]
     },
     "execution_count": 164,
     "metadata": {},
     "output_type": "execute_result"
    }
   ],
   "source": [
    "bool(not [])"
   ]
  },
  {
   "cell_type": "code",
   "execution_count": 165,
   "id": "e04797cc-08c7-4b3a-9bf4-c408dfef8dad",
   "metadata": {},
   "outputs": [
    {
     "data": {
      "text/plain": [
       "True"
      ]
     },
     "execution_count": 165,
     "metadata": {},
     "output_type": "execute_result"
    }
   ],
   "source": [
    "bool([1, 2, 3])"
   ]
  },
  {
   "cell_type": "code",
   "execution_count": 166,
   "id": "b722bffc-5183-41da-9636-4a246392a68e",
   "metadata": {},
   "outputs": [
    {
     "data": {
      "text/plain": [
       "False"
      ]
     },
     "execution_count": 166,
     "metadata": {},
     "output_type": "execute_result"
    }
   ],
   "source": [
    "bool(not [1, 2, 3])"
   ]
  },
  {
   "cell_type": "code",
   "execution_count": 167,
   "id": "e916d379-4453-44e5-bd2c-4026867d5404",
   "metadata": {},
   "outputs": [
    {
     "data": {
      "text/plain": [
       "False"
      ]
     },
     "execution_count": 167,
     "metadata": {},
     "output_type": "execute_result"
    }
   ],
   "source": [
    "bool({})"
   ]
  },
  {
   "cell_type": "code",
   "execution_count": 168,
   "id": "75ce9952-2a46-40b5-86af-e664115ae6c6",
   "metadata": {},
   "outputs": [
    {
     "data": {
      "text/plain": [
       "True"
      ]
     },
     "execution_count": 168,
     "metadata": {},
     "output_type": "execute_result"
    }
   ],
   "source": [
    "bool({'foo': 'bar'})"
   ]
  },
  {
   "cell_type": "markdown",
   "id": "3e41c26d-31dc-40b5-9b5a-acbd5aed16fb",
   "metadata": {},
   "source": [
    "#### **Logical operators**"
   ]
  },
  {
   "cell_type": "code",
   "execution_count": 169,
   "id": "668685d6-94d0-440d-b3f4-6b4f5fee51c9",
   "metadata": {},
   "outputs": [
    {
     "data": {
      "text/plain": [
       "True"
      ]
     },
     "execution_count": 169,
     "metadata": {},
     "output_type": "execute_result"
    }
   ],
   "source": [
    "True and True"
   ]
  },
  {
   "cell_type": "code",
   "execution_count": 170,
   "id": "b65f2d48-82bb-414c-ba03-de9c7ac00643",
   "metadata": {},
   "outputs": [
    {
     "data": {
      "text/plain": [
       "True"
      ]
     },
     "execution_count": 170,
     "metadata": {},
     "output_type": "execute_result"
    }
   ],
   "source": [
    "True & True"
   ]
  },
  {
   "cell_type": "code",
   "execution_count": 171,
   "id": "a0f6eee8-5e29-4bb1-8c7b-a3a8e2cd1ad7",
   "metadata": {},
   "outputs": [
    {
     "data": {
      "text/plain": [
       "False"
      ]
     },
     "execution_count": 171,
     "metadata": {},
     "output_type": "execute_result"
    }
   ],
   "source": [
    "True & False"
   ]
  },
  {
   "cell_type": "code",
   "execution_count": 172,
   "id": "9798f922-f575-4049-8e59-3b3bccfeee24",
   "metadata": {},
   "outputs": [
    {
     "data": {
      "text/plain": [
       "False"
      ]
     },
     "execution_count": 172,
     "metadata": {},
     "output_type": "execute_result"
    }
   ],
   "source": [
    "False & False"
   ]
  },
  {
   "cell_type": "code",
   "execution_count": 173,
   "id": "3ae1bb73-b230-40e0-8a18-0db6891c040f",
   "metadata": {},
   "outputs": [
    {
     "data": {
      "text/plain": [
       "True"
      ]
     },
     "execution_count": 173,
     "metadata": {},
     "output_type": "execute_result"
    }
   ],
   "source": [
    "True | True"
   ]
  },
  {
   "cell_type": "code",
   "execution_count": 174,
   "id": "a344cb9c-207e-4ebb-83dc-2bd5f35cf27e",
   "metadata": {},
   "outputs": [
    {
     "data": {
      "text/plain": [
       "True"
      ]
     },
     "execution_count": 174,
     "metadata": {},
     "output_type": "execute_result"
    }
   ],
   "source": [
    "True | False"
   ]
  },
  {
   "cell_type": "code",
   "execution_count": 175,
   "id": "2c1a6a2e-8a8b-4583-b50e-0604bf5db66b",
   "metadata": {},
   "outputs": [
    {
     "data": {
      "text/plain": [
       "False"
      ]
     },
     "execution_count": 175,
     "metadata": {},
     "output_type": "execute_result"
    }
   ],
   "source": [
    "False | False"
   ]
  },
  {
   "cell_type": "code",
   "execution_count": 176,
   "id": "a9b42060-8ed8-42fc-8874-c4b0e4afcffe",
   "metadata": {},
   "outputs": [
    {
     "data": {
      "text/plain": [
       "False"
      ]
     },
     "execution_count": 176,
     "metadata": {},
     "output_type": "execute_result"
    }
   ],
   "source": [
    "(not True) & True"
   ]
  },
  {
   "cell_type": "code",
   "execution_count": 177,
   "id": "bf64f659-9dcc-4d11-a88e-fddbf73276e1",
   "metadata": {},
   "outputs": [
    {
     "data": {
      "text/plain": [
       "True"
      ]
     },
     "execution_count": 177,
     "metadata": {},
     "output_type": "execute_result"
    }
   ],
   "source": [
    "(not True) | True"
   ]
  },
  {
   "cell_type": "code",
   "execution_count": 178,
   "id": "d2ffe1d0-a7e3-4b4d-891e-7d3e08f613a3",
   "metadata": {},
   "outputs": [
    {
     "data": {
      "text/plain": [
       "-1"
      ]
     },
     "execution_count": 178,
     "metadata": {},
     "output_type": "execute_result"
    }
   ],
   "source": [
    "(~True) | True"
   ]
  },
  {
   "cell_type": "code",
   "execution_count": 179,
   "id": "e026fc1a-9b6f-4771-818b-285a878bddba",
   "metadata": {},
   "outputs": [
    {
     "data": {
      "text/plain": [
       "True"
      ]
     },
     "execution_count": 179,
     "metadata": {},
     "output_type": "execute_result"
    }
   ],
   "source": [
    "(a > 7) and (b > 5)"
   ]
  },
  {
   "cell_type": "code",
   "execution_count": 180,
   "id": "504b0271-a434-49b2-a6dc-dec0f11c0277",
   "metadata": {},
   "outputs": [
    {
     "data": {
      "text/plain": [
       "True"
      ]
     },
     "execution_count": 180,
     "metadata": {},
     "output_type": "execute_result"
    }
   ],
   "source": [
    "(a > 7) & (b > 5)"
   ]
  },
  {
   "cell_type": "code",
   "execution_count": 181,
   "id": "909b72e8-4731-4bb2-b974-d28224dbcb90",
   "metadata": {},
   "outputs": [
    {
     "data": {
      "text/plain": [
       "True"
      ]
     },
     "execution_count": 181,
     "metadata": {},
     "output_type": "execute_result"
    }
   ],
   "source": [
    "(a > 100) or (b > 5)"
   ]
  },
  {
   "cell_type": "code",
   "execution_count": 182,
   "id": "688d889b-c396-4a44-97e8-e6791cd86471",
   "metadata": {},
   "outputs": [
    {
     "data": {
      "text/plain": [
       "True"
      ]
     },
     "execution_count": 182,
     "metadata": {},
     "output_type": "execute_result"
    }
   ],
   "source": [
    "(a > 100) | (b > 5)"
   ]
  },
  {
   "cell_type": "code",
   "execution_count": 183,
   "id": "9c7defed-af17-4e15-bbc9-82e4fc5ba61d",
   "metadata": {},
   "outputs": [
    {
     "data": {
      "text/plain": [
       "False"
      ]
     },
     "execution_count": 183,
     "metadata": {},
     "output_type": "execute_result"
    }
   ],
   "source": [
    "(a > 100) & (b > 5)"
   ]
  },
  {
   "cell_type": "code",
   "execution_count": 184,
   "id": "ac310be4-cbaf-43e1-8fd3-9e27049737c3",
   "metadata": {},
   "outputs": [
    {
     "data": {
      "text/plain": [
       "-1"
      ]
     },
     "execution_count": 184,
     "metadata": {},
     "output_type": "execute_result"
    }
   ],
   "source": [
    "~0"
   ]
  },
  {
   "cell_type": "code",
   "execution_count": 185,
   "id": "016fe4b5-2cda-49c3-b9c9-a73935004c5b",
   "metadata": {},
   "outputs": [
    {
     "data": {
      "text/plain": [
       "False"
      ]
     },
     "execution_count": 185,
     "metadata": {},
     "output_type": "execute_result"
    }
   ],
   "source": [
    "not 1"
   ]
  },
  {
   "cell_type": "code",
   "execution_count": 186,
   "id": "2bd957e3-17c2-45b6-8c10-576873b14efc",
   "metadata": {},
   "outputs": [
    {
     "data": {
      "text/plain": [
       "True"
      ]
     },
     "execution_count": 186,
     "metadata": {},
     "output_type": "execute_result"
    }
   ],
   "source": [
    "not \"\""
   ]
  },
  {
   "cell_type": "code",
   "execution_count": 187,
   "id": "39f5d203-6107-4cdd-a3fa-a8924325160a",
   "metadata": {},
   "outputs": [
    {
     "data": {
      "text/plain": [
       "False"
      ]
     },
     "execution_count": 187,
     "metadata": {},
     "output_type": "execute_result"
    }
   ],
   "source": [
    "not \"1\""
   ]
  },
  {
   "cell_type": "code",
   "execution_count": 188,
   "id": "cd2ac1ec-dc1c-4b98-bc05-8da9fd1c3746",
   "metadata": {},
   "outputs": [
    {
     "data": {
      "text/plain": [
       "-2"
      ]
     },
     "execution_count": 188,
     "metadata": {},
     "output_type": "execute_result"
    }
   ],
   "source": [
    "~1 or 1"
   ]
  },
  {
   "cell_type": "markdown",
   "id": "5a4470a4-3cf6-489f-bd9e-496a5950d75f",
   "metadata": {},
   "source": [
    "#### **Conditional statements**"
   ]
  },
  {
   "cell_type": "code",
   "execution_count": 189,
   "id": "27bf825e-c5d4-44bd-9b6e-34c7259b267a",
   "metadata": {},
   "outputs": [],
   "source": [
    "g = 42"
   ]
  },
  {
   "cell_type": "code",
   "execution_count": 190,
   "id": "c0e4164f-a019-478a-bcc7-a76fb5796847",
   "metadata": {},
   "outputs": [],
   "source": [
    "h = 42"
   ]
  },
  {
   "cell_type": "code",
   "execution_count": 191,
   "id": "1c6db1bd-3e12-4e20-9498-5d3b14812629",
   "metadata": {},
   "outputs": [
    {
     "name": "stdout",
     "output_type": "stream",
     "text": [
      "a = b\n"
     ]
    }
   ],
   "source": [
    "if g == h:\n",
    "    print('a = b')\n",
    "else:\n",
    "    print('a != a')"
   ]
  },
  {
   "cell_type": "code",
   "execution_count": 192,
   "id": "358bdd0d-cd22-4b8e-936f-36687164d716",
   "metadata": {},
   "outputs": [
    {
     "name": "stdout",
     "output_type": "stream",
     "text": [
      "g = h\n"
     ]
    }
   ],
   "source": [
    "if g > h:\n",
    "    print('g > h')\n",
    "elif g < h:\n",
    "    print('g < h')\n",
    "else:\n",
    "    print('g = h')"
   ]
  },
  {
   "cell_type": "code",
   "execution_count": 193,
   "id": "a7a4092d-391c-4e5e-8fad-f9c59c2c1500",
   "metadata": {},
   "outputs": [],
   "source": [
    "i = 10"
   ]
  },
  {
   "cell_type": "code",
   "execution_count": 194,
   "id": "53066037-ffdf-444e-9042-c3852ad0cd52",
   "metadata": {},
   "outputs": [
    {
     "name": "stdout",
     "output_type": "stream",
     "text": [
      "11\n"
     ]
    }
   ],
   "source": [
    "if i < 20:\n",
    "    i += 1\n",
    "    print(i)"
   ]
  },
  {
   "cell_type": "code",
   "execution_count": 195,
   "id": "22a03dbe-9e93-40b0-a5a1-058563e9fa51",
   "metadata": {},
   "outputs": [
    {
     "name": "stdout",
     "output_type": "stream",
     "text": [
      "11\n",
      "12\n",
      "13\n",
      "14\n",
      "15\n",
      "16\n",
      "17\n",
      "18\n",
      "19\n",
      "20\n"
     ]
    }
   ],
   "source": [
    "i = 10\n",
    "while i < 20:\n",
    "    i += 1\n",
    "    print(i)"
   ]
  },
  {
   "cell_type": "code",
   "execution_count": 196,
   "id": "fc992fa0-417b-4cf5-8a2a-c2efea55f241",
   "metadata": {},
   "outputs": [
    {
     "name": "stdout",
     "output_type": "stream",
     "text": [
      "11\n",
      "12\n",
      "13\n",
      "14\n",
      "15\n",
      "16\n",
      "17\n",
      "18\n",
      "19\n",
      "20\n",
      "while loop stopped\n"
     ]
    }
   ],
   "source": [
    "i = 10\n",
    "while i < 20:\n",
    "    i += 1\n",
    "    print(i)\n",
    "else:\n",
    "    print('while loop stopped')"
   ]
  },
  {
   "cell_type": "code",
   "execution_count": 197,
   "id": "8612b199-5b39-409c-8444-fe411ab0af21",
   "metadata": {},
   "outputs": [
    {
     "name": "stdout",
     "output_type": "stream",
     "text": [
      "11\n",
      "12\n",
      "13\n",
      "14\n",
      "15\n",
      "emergency\n"
     ]
    }
   ],
   "source": [
    "i = 10\n",
    "while i < 20:\n",
    "    i += 1\n",
    "    print(i)\n",
    "    if i >= 15:\n",
    "        print('emergency')\n",
    "        break\n",
    "else:\n",
    "    print('while loop stopped')"
   ]
  },
  {
   "cell_type": "code",
   "execution_count": 198,
   "id": "ad453afc-8beb-45b9-9bb0-62fb8b20930a",
   "metadata": {},
   "outputs": [
    {
     "name": "stdout",
     "output_type": "stream",
     "text": [
      "11\n",
      "12\n",
      "13\n",
      "14\n",
      "15\n",
      "emergency\n"
     ]
    }
   ],
   "source": [
    "i = 10\n",
    "while i < 20:\n",
    "    if i < 15:\n",
    "        i += 1\n",
    "        print(i)\n",
    "    else:\n",
    "        print('emergency')\n",
    "        break\n",
    "else:\n",
    "    print('while loop stopped')"
   ]
  },
  {
   "cell_type": "markdown",
   "id": "3125ada7-193a-4017-b812-a20837aedea1",
   "metadata": {},
   "source": [
    "## **For loops**"
   ]
  },
  {
   "cell_type": "code",
   "execution_count": 199,
   "id": "58388112-53b2-43df-933f-cd84fd0dfc96",
   "metadata": {},
   "outputs": [],
   "source": [
    "list42 = [1, 2, 3]"
   ]
  },
  {
   "cell_type": "code",
   "execution_count": 200,
   "id": "a8c60030-676a-4a27-b452-910763b191ce",
   "metadata": {},
   "outputs": [
    {
     "data": {
      "text/plain": [
       "[1, 2, 3, 1, 2, 3]"
      ]
     },
     "execution_count": 200,
     "metadata": {},
     "output_type": "execute_result"
    }
   ],
   "source": [
    "list42 * 2"
   ]
  },
  {
   "cell_type": "code",
   "execution_count": 201,
   "id": "30de9846-29ab-451c-a63f-d5f56c774f15",
   "metadata": {},
   "outputs": [
    {
     "name": "stdout",
     "output_type": "stream",
     "text": [
      "2\n",
      "4\n",
      "6\n"
     ]
    }
   ],
   "source": [
    "for el in list42:\n",
    "    print(el * 2)"
   ]
  },
  {
   "cell_type": "code",
   "execution_count": 202,
   "id": "5997e5ed-55db-400c-b73d-06e51e051780",
   "metadata": {},
   "outputs": [],
   "source": [
    "for idx in range(len(list42)):\n",
    "    list42[idx] = list42[idx] ** 2"
   ]
  },
  {
   "cell_type": "code",
   "execution_count": 203,
   "id": "6c832aa5-1a9c-4f07-b564-408008bbbda7",
   "metadata": {},
   "outputs": [
    {
     "data": {
      "text/plain": [
       "[1, 4, 9]"
      ]
     },
     "execution_count": 203,
     "metadata": {},
     "output_type": "execute_result"
    }
   ],
   "source": [
    "list42"
   ]
  },
  {
   "cell_type": "code",
   "execution_count": 204,
   "id": "e6caaefc-aef4-40ab-8bfe-08ec91ec863d",
   "metadata": {},
   "outputs": [],
   "source": [
    "for idx in range(0, len(list42)):\n",
    "    list42[idx] = list42[idx] ** 2"
   ]
  },
  {
   "cell_type": "code",
   "execution_count": 205,
   "id": "954675ea-263a-4ce3-bb75-973fac86c96d",
   "metadata": {},
   "outputs": [
    {
     "data": {
      "text/plain": [
       "[1, 16, 81]"
      ]
     },
     "execution_count": 205,
     "metadata": {},
     "output_type": "execute_result"
    }
   ],
   "source": [
    "list42"
   ]
  },
  {
   "cell_type": "code",
   "execution_count": 206,
   "id": "1cee18de-4f17-487d-a84d-d39fc324f605",
   "metadata": {},
   "outputs": [],
   "source": [
    "list42.append(42)"
   ]
  },
  {
   "cell_type": "code",
   "execution_count": 207,
   "id": "2c881737-b559-4186-b687-ecdb197fefee",
   "metadata": {},
   "outputs": [],
   "source": [
    "list42 = list42 + [24, 82]"
   ]
  },
  {
   "cell_type": "code",
   "execution_count": 208,
   "id": "c083088e-e4b5-4671-85a4-46c641c971d7",
   "metadata": {},
   "outputs": [],
   "source": [
    "for idx in range(0, len(list42), 2):\n",
    "    list42[idx] = list42[idx] ** 2"
   ]
  },
  {
   "cell_type": "code",
   "execution_count": 209,
   "id": "8ff34a89-5f67-4ad6-8d63-17207a3b416a",
   "metadata": {},
   "outputs": [
    {
     "data": {
      "text/plain": [
       "[1, 16, 6561, 42, 576, 82]"
      ]
     },
     "execution_count": 209,
     "metadata": {},
     "output_type": "execute_result"
    }
   ],
   "source": [
    "list42"
   ]
  },
  {
   "cell_type": "code",
   "execution_count": 210,
   "id": "2076cf34-ad0c-41ef-9bdd-a9fa15071cfa",
   "metadata": {},
   "outputs": [
    {
     "data": {
      "text/plain": [
       "[1, 256, 43046721, 1764, 331776, 6724]"
      ]
     },
     "execution_count": 210,
     "metadata": {},
     "output_type": "execute_result"
    }
   ],
   "source": [
    "[x ** 2 for x in list42]"
   ]
  },
  {
   "cell_type": "code",
   "execution_count": 211,
   "id": "cead5cdb-8cee-4a8e-bdc3-aa9ff0038120",
   "metadata": {},
   "outputs": [
    {
     "data": {
      "text/plain": [
       "[0, 10, 20, 30, 40, 50, 60, 70, 80, 90, 100]"
      ]
     },
     "execution_count": 211,
     "metadata": {},
     "output_type": "execute_result"
    }
   ],
   "source": [
    "result = []\n",
    "[result.append(x) for x in range(101) if (x % 2 == 0) and (x % 5 == 0)] \n",
    "result"
   ]
  },
  {
   "cell_type": "markdown",
   "id": "7ceaad81-1415-4905-9bbd-07b0d19cf47b",
   "metadata": {},
   "source": [
    "## **Keywords**"
   ]
  },
  {
   "cell_type": "code",
   "execution_count": 212,
   "id": "06a2c61b-bd19-4aa0-bb51-d1b8aea3feb5",
   "metadata": {},
   "outputs": [
    {
     "data": {
      "text/plain": [
       "[1, 16, 6561, 42, 576, 82]"
      ]
     },
     "execution_count": 212,
     "metadata": {},
     "output_type": "execute_result"
    }
   ],
   "source": [
    "list42"
   ]
  },
  {
   "cell_type": "code",
   "execution_count": 213,
   "id": "261c1185-bd19-45ae-90ba-d5d9b3cfdea8",
   "metadata": {},
   "outputs": [],
   "source": [
    "list43 = [1, 3, 5, 7, 10, 11, 13, 14, 15]"
   ]
  },
  {
   "cell_type": "code",
   "execution_count": 214,
   "id": "ca7c98e8-e73b-4ef4-9502-20a335aa6fff",
   "metadata": {},
   "outputs": [
    {
     "name": "stdout",
     "output_type": "stream",
     "text": [
      "1 is odd\n",
      "3 is odd\n",
      "5 is odd\n",
      "7 is odd\n",
      "The first evenelement is 10\n"
     ]
    }
   ],
   "source": [
    "for el in list43:\n",
    "    if el % 2 == 0:\n",
    "        print(f'The first evenelement is {el}')\n",
    "        break\n",
    "    else:\n",
    "        print(f'{el} is odd')"
   ]
  },
  {
   "cell_type": "code",
   "execution_count": 215,
   "id": "971a4a33-2b33-4678-a1e8-bed54c7b4f5d",
   "metadata": {},
   "outputs": [
    {
     "name": "stdout",
     "output_type": "stream",
     "text": [
      "The first evenelement is 10\n"
     ]
    }
   ],
   "source": [
    "for el in list43:\n",
    "    if el % 2 == 0:\n",
    "        print(f'The first evenelement is {el}')\n",
    "        break\n",
    "    else:\n",
    "        pass"
   ]
  },
  {
   "cell_type": "code",
   "execution_count": 216,
   "id": "13fc78fd-9171-4b60-8b50-2e689f2c29d1",
   "metadata": {},
   "outputs": [
    {
     "name": "stdout",
     "output_type": "stream",
     "text": [
      "The first evenelement is 10\n"
     ]
    }
   ],
   "source": [
    "for el in list43:\n",
    "    if el % 2 == 0:\n",
    "        print(f'The first evenelement is {el}')\n",
    "        break"
   ]
  },
  {
   "cell_type": "code",
   "execution_count": 217,
   "id": "d4477dda-20be-45b5-9261-5dce6aa05d09",
   "metadata": {},
   "outputs": [
    {
     "name": "stdout",
     "output_type": "stream",
     "text": [
      "The first evenelement is 10\n"
     ]
    }
   ],
   "source": [
    "for el in list43:\n",
    "    if el % 2 != 0:\n",
    "        pass\n",
    "    else:\n",
    "        print(f'The first evenelement is {el}')\n",
    "        break"
   ]
  },
  {
   "cell_type": "code",
   "execution_count": 218,
   "id": "0c3d144e-b4e0-42bb-93fb-47ade9aae16a",
   "metadata": {},
   "outputs": [
    {
     "name": "stdout",
     "output_type": "stream",
     "text": [
      "1\n",
      "3\n",
      "5\n",
      "7\n",
      "The first evenelement is 10\n"
     ]
    }
   ],
   "source": [
    "for el in list43:\n",
    "    if el % 2 != 0:\n",
    "        pass\n",
    "        print(el)\n",
    "    else:\n",
    "        print(f'The first evenelement is {el}')\n",
    "        break"
   ]
  },
  {
   "cell_type": "code",
   "execution_count": 219,
   "id": "7e77bbbf-5b85-40f2-b988-1cefa3f489e1",
   "metadata": {},
   "outputs": [
    {
     "name": "stdout",
     "output_type": "stream",
     "text": [
      "The first evenelement is 10\n"
     ]
    }
   ],
   "source": [
    "for el in list43:\n",
    "    if el % 2 != 0:\n",
    "        continue\n",
    "        print(el)\n",
    "    else:\n",
    "        print(f'The first evenelement is {el}')\n",
    "        break"
   ]
  },
  {
   "cell_type": "markdown",
   "id": "f14e1353-ad80-44ed-af2c-9b48a9d3be2f",
   "metadata": {},
   "source": [
    "## **Random numbers**"
   ]
  },
  {
   "cell_type": "code",
   "execution_count": 220,
   "id": "d3616985-d784-4b5b-9150-20381b133587",
   "metadata": {},
   "outputs": [],
   "source": [
    "import random"
   ]
  },
  {
   "cell_type": "code",
   "execution_count": 221,
   "id": "09e23f5b-8aa2-4f3e-a27a-ce12a47463a6",
   "metadata": {},
   "outputs": [
    {
     "data": {
      "text/plain": [
       "0.40321136711358385"
      ]
     },
     "execution_count": 221,
     "metadata": {},
     "output_type": "execute_result"
    }
   ],
   "source": [
    "random.random()"
   ]
  },
  {
   "cell_type": "code",
   "execution_count": 222,
   "id": "c1dea66d-1b4c-453d-b92b-04872f372311",
   "metadata": {},
   "outputs": [
    {
     "data": {
      "text/plain": [
       "60"
      ]
     },
     "execution_count": 222,
     "metadata": {},
     "output_type": "execute_result"
    }
   ],
   "source": [
    "random.randrange(0, 100, 5)"
   ]
  },
  {
   "cell_type": "code",
   "execution_count": 223,
   "id": "3c4f853e-1cca-43ae-a07f-c147ca18d677",
   "metadata": {},
   "outputs": [
    {
     "data": {
      "text/plain": [
       "98"
      ]
     },
     "execution_count": 223,
     "metadata": {},
     "output_type": "execute_result"
    }
   ],
   "source": [
    "random.randint(0, 100)"
   ]
  },
  {
   "cell_type": "code",
   "execution_count": 224,
   "id": "f21f86fd-a777-4591-b871-aa5ec1338529",
   "metadata": {},
   "outputs": [
    {
     "data": {
      "text/plain": [
       "0.052363598850944326"
      ]
     },
     "execution_count": 224,
     "metadata": {},
     "output_type": "execute_result"
    }
   ],
   "source": [
    "random.seed(123)\n",
    "random.random()"
   ]
  },
  {
   "cell_type": "code",
   "execution_count": 225,
   "id": "86994a2d-b50b-4190-b3df-0a0c27a548f5",
   "metadata": {},
   "outputs": [
    {
     "data": {
      "text/plain": [
       "0.08718667752263232"
      ]
     },
     "execution_count": 225,
     "metadata": {},
     "output_type": "execute_result"
    }
   ],
   "source": [
    "random.random()"
   ]
  },
  {
   "cell_type": "code",
   "execution_count": 226,
   "id": "aaf999d4-694a-4d4a-93d1-042d00247ea2",
   "metadata": {},
   "outputs": [],
   "source": [
    "lottery = []\n",
    "random.seed(123)\n",
    "for _ in range(10):\n",
    "    el = random.randint(1, 100)\n",
    "    lottery.append(el)"
   ]
  },
  {
   "cell_type": "code",
   "execution_count": 227,
   "id": "50ad4ed5-915f-4614-bb5c-b0bcaffc02cf",
   "metadata": {},
   "outputs": [
    {
     "data": {
      "text/plain": [
       "[7, 35, 12, 99, 53, 35, 14, 5, 49, 69]"
      ]
     },
     "execution_count": 227,
     "metadata": {},
     "output_type": "execute_result"
    }
   ],
   "source": [
    "lottery"
   ]
  },
  {
   "cell_type": "markdown",
   "id": "87969b78-0cbf-4983-ad03-2b6e075ab4d8",
   "metadata": {},
   "source": [
    "## **Functions**"
   ]
  },
  {
   "cell_type": "code",
   "execution_count": 228,
   "id": "6abadb99-7db6-42a5-8f26-25ae49c8a819",
   "metadata": {},
   "outputs": [],
   "source": [
    "list44 = [2, 5, 4, 9, 7]"
   ]
  },
  {
   "cell_type": "code",
   "execution_count": 229,
   "id": "359b8abb-0612-4ae1-9795-8439f65656cc",
   "metadata": {},
   "outputs": [
    {
     "data": {
      "text/plain": [
       "[2, 5, 4, 9, 7]"
      ]
     },
     "execution_count": 229,
     "metadata": {},
     "output_type": "execute_result"
    }
   ],
   "source": [
    "list44"
   ]
  },
  {
   "cell_type": "code",
   "execution_count": 230,
   "id": "2c8c14b1-85da-47fc-be5f-21e3d84bc078",
   "metadata": {},
   "outputs": [
    {
     "data": {
      "text/plain": [
       "2"
      ]
     },
     "execution_count": 230,
     "metadata": {},
     "output_type": "execute_result"
    }
   ],
   "source": [
    "min(list44)"
   ]
  },
  {
   "cell_type": "code",
   "execution_count": 231,
   "id": "eebb4838-a355-41f0-9d62-561b099d75aa",
   "metadata": {},
   "outputs": [
    {
     "data": {
      "text/plain": [
       "9"
      ]
     },
     "execution_count": 231,
     "metadata": {},
     "output_type": "execute_result"
    }
   ],
   "source": [
    "max(list44)"
   ]
  },
  {
   "cell_type": "code",
   "execution_count": 232,
   "id": "7774e837-21dd-499e-9d6a-451124c8b40c",
   "metadata": {},
   "outputs": [
    {
     "data": {
      "text/plain": [
       "27"
      ]
     },
     "execution_count": 232,
     "metadata": {},
     "output_type": "execute_result"
    }
   ],
   "source": [
    "sum(list44)"
   ]
  },
  {
   "cell_type": "code",
   "execution_count": 233,
   "id": "b6e556e9-d25c-4472-aa8d-629c7ff74924",
   "metadata": {},
   "outputs": [
    {
     "data": {
      "text/plain": [
       "5"
      ]
     },
     "execution_count": 233,
     "metadata": {},
     "output_type": "execute_result"
    }
   ],
   "source": [
    "len(list44)"
   ]
  },
  {
   "cell_type": "code",
   "execution_count": 234,
   "id": "5c28cc6e-5693-4aad-8d4e-af54891bd1c1",
   "metadata": {},
   "outputs": [
    {
     "data": {
      "text/plain": [
       "[2, 4, 5, 7, 9]"
      ]
     },
     "execution_count": 234,
     "metadata": {},
     "output_type": "execute_result"
    }
   ],
   "source": [
    "sorted(list44)"
   ]
  },
  {
   "cell_type": "code",
   "execution_count": 235,
   "id": "e26bf607-8746-46b0-9a25-be7ad4c9788e",
   "metadata": {},
   "outputs": [],
   "source": [
    "list44.sort()"
   ]
  },
  {
   "cell_type": "code",
   "execution_count": 236,
   "id": "246a7d0a-0e0e-43d1-b465-b32c6e8f092a",
   "metadata": {},
   "outputs": [
    {
     "data": {
      "text/plain": [
       "[2, 4, 5, 7, 9]"
      ]
     },
     "execution_count": 236,
     "metadata": {},
     "output_type": "execute_result"
    }
   ],
   "source": [
    "list44"
   ]
  },
  {
   "cell_type": "code",
   "execution_count": 237,
   "id": "a9058f7c-fd1d-444b-8160-81b238ad511d",
   "metadata": {},
   "outputs": [],
   "source": [
    "list44.sort(reverse = True)"
   ]
  },
  {
   "cell_type": "code",
   "execution_count": 238,
   "id": "998dda8a-9524-4d84-ae8a-8fdf0b21e721",
   "metadata": {},
   "outputs": [
    {
     "data": {
      "text/plain": [
       "[9, 7, 5, 4, 2]"
      ]
     },
     "execution_count": 238,
     "metadata": {},
     "output_type": "execute_result"
    }
   ],
   "source": [
    "list44"
   ]
  },
  {
   "cell_type": "code",
   "execution_count": 239,
   "id": "d05f12ee-88da-4ca6-a2d8-d5dd8566f05a",
   "metadata": {},
   "outputs": [],
   "source": [
    "# name 'mean' is not defined\n",
    "# mean(list44)"
   ]
  },
  {
   "cell_type": "code",
   "execution_count": 240,
   "id": "dad6266a-2763-4a98-8d08-75f1b60ea86a",
   "metadata": {},
   "outputs": [],
   "source": [
    "def mean(iter):\n",
    "    mean = sum(iter) / len(iter)\n",
    "    return mean"
   ]
  },
  {
   "cell_type": "code",
   "execution_count": 241,
   "id": "65eed770-a4cc-4ba6-af59-ca8a5435efb9",
   "metadata": {},
   "outputs": [
    {
     "data": {
      "text/plain": [
       "5.4"
      ]
     },
     "execution_count": 241,
     "metadata": {},
     "output_type": "execute_result"
    }
   ],
   "source": [
    "mean(list44)"
   ]
  },
  {
   "cell_type": "code",
   "execution_count": 242,
   "id": "267ca20b-3398-4302-80c6-bb9887d721b1",
   "metadata": {},
   "outputs": [
    {
     "data": {
      "text/plain": [
       "(1, 2, 3)"
      ]
     },
     "execution_count": 242,
     "metadata": {},
     "output_type": "execute_result"
    }
   ],
   "source": [
    "t"
   ]
  },
  {
   "cell_type": "code",
   "execution_count": 243,
   "id": "c8152204-b654-478a-b5b8-fc343191d8b9",
   "metadata": {},
   "outputs": [],
   "source": [
    "t1 = (1, 2, 3, 4, 5, 6)"
   ]
  },
  {
   "cell_type": "code",
   "execution_count": 244,
   "id": "f1352d50-10ca-404b-8107-865b7c3d04df",
   "metadata": {},
   "outputs": [
    {
     "data": {
      "text/plain": [
       "3.5"
      ]
     },
     "execution_count": 244,
     "metadata": {},
     "output_type": "execute_result"
    }
   ],
   "source": [
    "mean(t1)"
   ]
  },
  {
   "cell_type": "code",
   "execution_count": 245,
   "id": "371724a7-d802-44ad-b022-c8f071f8bce8",
   "metadata": {},
   "outputs": [
    {
     "data": {
      "text/plain": [
       "{1, 2, 3, 4, 5, 42}"
      ]
     },
     "execution_count": 245,
     "metadata": {},
     "output_type": "execute_result"
    }
   ],
   "source": [
    "s"
   ]
  },
  {
   "cell_type": "code",
   "execution_count": 246,
   "id": "e186e81d-2d85-4247-b8ca-8665d0ff8c81",
   "metadata": {},
   "outputs": [
    {
     "data": {
      "text/plain": [
       "9.5"
      ]
     },
     "execution_count": 246,
     "metadata": {},
     "output_type": "execute_result"
    }
   ],
   "source": [
    "mean(s)"
   ]
  },
  {
   "cell_type": "code",
   "execution_count": 247,
   "id": "1f948485-13bd-4054-ba33-2de8395b5cfd",
   "metadata": {},
   "outputs": [],
   "source": [
    "def power(x, y):\n",
    "    return x**y"
   ]
  },
  {
   "cell_type": "code",
   "execution_count": 248,
   "id": "f349d30e-636d-4f82-b6c7-153a5390e423",
   "metadata": {},
   "outputs": [
    {
     "data": {
      "text/plain": [
       "4"
      ]
     },
     "execution_count": 248,
     "metadata": {},
     "output_type": "execute_result"
    }
   ],
   "source": [
    "power(2, 2)"
   ]
  },
  {
   "cell_type": "code",
   "execution_count": 249,
   "id": "944d8481-09a8-4e52-b65c-435a092a085c",
   "metadata": {},
   "outputs": [
    {
     "data": {
      "text/plain": [
       "32"
      ]
     },
     "execution_count": 249,
     "metadata": {},
     "output_type": "execute_result"
    }
   ],
   "source": [
    "power(2, 5)"
   ]
  },
  {
   "cell_type": "code",
   "execution_count": 250,
   "id": "90d3bf9c-12f4-400a-8335-c3df13c03a8d",
   "metadata": {},
   "outputs": [
    {
     "data": {
      "text/plain": [
       "32"
      ]
     },
     "execution_count": 250,
     "metadata": {},
     "output_type": "execute_result"
    }
   ],
   "source": [
    "power(2, y = 5)"
   ]
  },
  {
   "cell_type": "code",
   "execution_count": 251,
   "id": "06e0b732-e378-4216-bdc9-bb927c73ccd3",
   "metadata": {},
   "outputs": [
    {
     "data": {
      "text/plain": [
       "32"
      ]
     },
     "execution_count": 251,
     "metadata": {},
     "output_type": "execute_result"
    }
   ],
   "source": [
    "power(x = 2, y = 5)"
   ]
  },
  {
   "cell_type": "code",
   "execution_count": 252,
   "id": "f802faae-687d-4130-91e2-daeb764218c8",
   "metadata": {},
   "outputs": [
    {
     "data": {
      "text/plain": [
       "32"
      ]
     },
     "execution_count": 252,
     "metadata": {},
     "output_type": "execute_result"
    }
   ],
   "source": [
    "power(y = 5, x = 2)"
   ]
  },
  {
   "cell_type": "code",
   "execution_count": 253,
   "id": "712e3ff3-d722-4995-b0bb-43ffc86ddf09",
   "metadata": {},
   "outputs": [],
   "source": [
    "def some_calc(a, b):\n",
    "    add = a + b\n",
    "    sub = a - b\n",
    "    mul = a * b\n",
    "    div = a / b\n",
    "    return add, sub, mul, div"
   ]
  },
  {
   "cell_type": "code",
   "execution_count": 254,
   "id": "d4b14cd7-4059-4011-9ddb-32298e6cd27f",
   "metadata": {},
   "outputs": [
    {
     "data": {
      "text/plain": [
       "(7, 3, 10, 2.5)"
      ]
     },
     "execution_count": 254,
     "metadata": {},
     "output_type": "execute_result"
    }
   ],
   "source": [
    "some_calc(5, 2)"
   ]
  },
  {
   "cell_type": "code",
   "execution_count": 255,
   "id": "79801ce9-def4-41ac-9ff7-2535417cb10a",
   "metadata": {},
   "outputs": [
    {
     "data": {
      "text/plain": [
       "tuple"
      ]
     },
     "execution_count": 255,
     "metadata": {},
     "output_type": "execute_result"
    }
   ],
   "source": [
    "type(some_calc(5, 2))"
   ]
  },
  {
   "cell_type": "code",
   "execution_count": 256,
   "id": "4b51b7b4-52e0-420d-b9d1-a2560e8a8020",
   "metadata": {},
   "outputs": [
    {
     "data": {
      "text/plain": [
       "(12, 8, 20, 5.0)"
      ]
     },
     "execution_count": 256,
     "metadata": {},
     "output_type": "execute_result"
    }
   ],
   "source": [
    "some_calc(10, 2)"
   ]
  },
  {
   "cell_type": "code",
   "execution_count": 257,
   "id": "df7d593c-40a4-4b50-b00a-80280bef2053",
   "metadata": {},
   "outputs": [],
   "source": [
    "add, sub, mul, div = some_calc(10, 2)"
   ]
  },
  {
   "cell_type": "code",
   "execution_count": 258,
   "id": "8d78f176-5c88-4c6b-8d3f-3cdd2e6ed589",
   "metadata": {},
   "outputs": [
    {
     "name": "stdout",
     "output_type": "stream",
     "text": [
      "add = 12, sub = 8, mul = 20, div = 5.0\n"
     ]
    }
   ],
   "source": [
    "print(f'add = {add}, sub = {sub}, mul = {mul}, div = {div}')"
   ]
  },
  {
   "cell_type": "code",
   "execution_count": 259,
   "id": "8a7a0b0d-3ba2-4a23-af22-41df6553a8a2",
   "metadata": {},
   "outputs": [],
   "source": [
    "def median(iter):\n",
    "    n = len(iter)\n",
    "    if n < 1:\n",
    "        return None\n",
    "    elif n % 2 == 1:\n",
    "        return sorted(iter)[n // 2]\n",
    "    else:\n",
    "        return sum(sorted(iter)[(n // 2 - 1):(n // 2 + 1)]) / 2.0"
   ]
  },
  {
   "cell_type": "code",
   "execution_count": 260,
   "id": "6557d85f-0abf-44c7-b637-4783d1b49b2e",
   "metadata": {},
   "outputs": [
    {
     "data": {
      "text/plain": [
       "4"
      ]
     },
     "execution_count": 260,
     "metadata": {},
     "output_type": "execute_result"
    }
   ],
   "source": [
    "median([1, 2, 3, 4, 5, 6, 7])"
   ]
  },
  {
   "cell_type": "code",
   "execution_count": 261,
   "id": "c78d1fe5-fa5d-4c2e-812e-6e84e9a52fa6",
   "metadata": {},
   "outputs": [
    {
     "data": {
      "text/plain": [
       "42"
      ]
     },
     "execution_count": 261,
     "metadata": {},
     "output_type": "execute_result"
    }
   ],
   "source": [
    "median([101, 3, 4, 90, 42])"
   ]
  },
  {
   "cell_type": "code",
   "execution_count": 262,
   "id": "37681bd7-c523-475b-835e-d365f680c3fa",
   "metadata": {},
   "outputs": [
    {
     "data": {
      "text/plain": [
       "3.5"
      ]
     },
     "execution_count": 262,
     "metadata": {},
     "output_type": "execute_result"
    }
   ],
   "source": [
    "median([1, 2, 3, 4, 5, 6])"
   ]
  },
  {
   "cell_type": "markdown",
   "id": "bbb24685-00f3-4c14-8df2-c1f86dd6648a",
   "metadata": {},
   "source": [
    "## **Visualizations**"
   ]
  },
  {
   "cell_type": "code",
   "execution_count": 263,
   "id": "b0ab8b04-e935-4f2c-96a1-6a63c316b267",
   "metadata": {},
   "outputs": [],
   "source": [
    "import matplotlib.pyplot as plt\n",
    "%matplotlib inline"
   ]
  },
  {
   "cell_type": "code",
   "execution_count": 264,
   "id": "13da5e19-64f5-4b45-9016-ef3b52958ac5",
   "metadata": {},
   "outputs": [],
   "source": [
    "list45 = [1, 3, 5, 7, 9]"
   ]
  },
  {
   "cell_type": "code",
   "execution_count": 265,
   "id": "727f3446-9202-4a70-a48c-8c90a883ebbb",
   "metadata": {},
   "outputs": [
    {
     "data": {
      "text/plain": [
       "[1, 3, 5, 7, 9]"
      ]
     },
     "execution_count": 265,
     "metadata": {},
     "output_type": "execute_result"
    }
   ],
   "source": [
    "list45"
   ]
  },
  {
   "cell_type": "code",
   "execution_count": 266,
   "id": "5c07b58c-7585-4f3c-a881-788127f22da8",
   "metadata": {},
   "outputs": [
    {
     "data": {
      "image/png": "[encoded data removed]",
      "text/plain": [
       "<Figure size 640x480 with 1 Axes>"
      ]
     },
     "metadata": {},
     "output_type": "display_data"
    }
   ],
   "source": [
    "plt.plot(list45)\n",
    "plt.show()"
   ]
  },
  {
   "cell_type": "code",
   "execution_count": 267,
   "id": "1fc6bf43-1d44-4096-8d91-41bd7d9589ca",
   "metadata": {},
   "outputs": [
    {
     "data": {
      "image/png": "[encoded data removed]",
      "text/plain": [
       "<Figure size 640x480 with 1 Axes>"
      ]
     },
     "metadata": {},
     "output_type": "display_data"
    }
   ],
   "source": [
    "plt.plot(range(0, 10, 2), list45)\n",
    "plt.show()"
   ]
  },
  {
   "cell_type": "code",
   "execution_count": 268,
   "id": "9c3db77f-52e7-42ee-a5a5-d891fb8f28f9",
   "metadata": {},
   "outputs": [
    {
     "data": {
      "image/png": "[encoded data removed]",
      "text/plain": [
       "<Figure size 640x480 with 1 Axes>"
      ]
     },
     "metadata": {},
     "output_type": "display_data"
    }
   ],
   "source": [
    "plt.scatter(x = range(0, 20, 4), y = list45)\n",
    "plt.show()"
   ]
  },
  {
   "cell_type": "code",
   "execution_count": 269,
   "id": "758ef2d9-6d77-4018-b408-bd03927e2c45",
   "metadata": {},
   "outputs": [],
   "source": [
    "import random"
   ]
  },
  {
   "cell_type": "code",
   "execution_count": 273,
   "id": "b2f0da59-6f87-4820-97c9-0faf888e3835",
   "metadata": {},
   "outputs": [],
   "source": [
    "random.seed(123)\n",
    "speed_ny = [random.normalvariate(55, 5) for _ in range(10000)]\n",
    "speed_la = [random.normalvariate(60, 8) for _ in range(10000)]"
   ]
  },
  {
   "cell_type": "code",
   "execution_count": 305,
   "id": "ba8df222-5a25-4546-829b-16d339309b50",
   "metadata": {},
   "outputs": [
    {
     "data": {
      "image/png": "[encoded data removed]",
      "text/plain": [
       "<Figure size 1200x600 with 1 Axes>"
      ]
     },
     "metadata": {},
     "output_type": "display_data"
    }
   ],
   "source": [
    "plt.style.use('seaborn-v0_8')\n",
    "plt.figure(figsize = (12,6))\n",
    "plt.hist(speed_ny, bins = 100, color = 'red', alpha = 0.5, label = 'New York')\n",
    "plt.vlines(sum(speed_ny) / len(speed_ny), 0, 400, color = 'red', linestyle = '--', label = 'Mean New Your')\n",
    "plt.hist(speed_la, bins = 100, color = 'blue', alpha = 0.5, label = 'Los Angeles')\n",
    "plt.vlines(sum(speed_la) / len(speed_la), 0, 400, color = 'blue', linestyle = '--', label = \"Mean Los Angeles\")\n",
    "plt.xticks(range(30, 101, 5))\n",
    "plt.yticks(range(0, 401, 50))\n",
    "plt.legend(loc = 7)\n",
    "plt.show()"
   ]
  },
  {
   "cell_type": "code",
   "execution_count": null,
   "id": "25e4366d-bc9d-420b-a21b-692c700c6e08",
   "metadata": {},
   "outputs": [],
   "source": []
  }
 ],
 "metadata": {
  "kernelspec": {
   "display_name": "Python 3 (ipykernel)",
   "language": "python",
   "name": "python3"
  },
  "language_info": {
   "codemirror_mode": {
    "name": "ipython",
    "version": 3
   },
   "file_extension": ".py",
   "mimetype": "text/x-python",
   "name": "python",
   "nbconvert_exporter": "python",
   "pygments_lexer": "ipython3",
   "version": "3.11.7"
  }
 },
 "nbformat": 4,
 "nbformat_minor": 5
}
