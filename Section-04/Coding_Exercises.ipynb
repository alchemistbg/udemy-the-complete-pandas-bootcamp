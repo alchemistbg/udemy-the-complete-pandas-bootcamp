{
 "cells": [
  {
   "cell_type": "markdown",
   "id": "13252788-cdac-438a-8391-a5c10894639e",
   "metadata": {},
   "source": [
    "# Coding Exercises"
   ]
  },
  {
   "cell_type": "markdown",
   "id": "4060b760-e057-4c9c-8ef7-45c714905687",
   "metadata": {},
   "source": [
    "## **Exercise 1:** Loading a CSV-file into Pandas"
   ]
  },
  {
   "cell_type": "markdown",
   "id": "c8c46b1b-e0a5-4c81-ae42-31d9413cf2ed",
   "metadata": {},
   "source": [
    "#### **The Problem:**"
   ]
  },
  {
   "cell_type": "markdown",
   "id": "7b8a0a4a-52ba-4581-a4ac-3d8d53601a5e",
   "metadata": {},
   "source": [
    "Import Pandas and load the csv-file \"titanic.csv\". Save the DataFrame in the variable df. (finally, you may print df and inspect the data as well)"
   ]
  },
  {
   "cell_type": "markdown",
   "id": "b178e2d0-d0bf-4a03-8bbf-1a5c3ee10a4b",
   "metadata": {},
   "source": [
    "#### **The Solution:**"
   ]
  },
  {
   "cell_type": "code",
   "execution_count": 1,
   "id": "0c33d8f4-a65f-4590-b441-00926d61a645",
   "metadata": {},
   "outputs": [],
   "source": [
    "import pandas as pd"
   ]
  },
  {
   "cell_type": "code",
   "execution_count": 2,
   "id": "d364f0a4-2f70-4c99-a59b-d3cde3a33c71",
   "metadata": {},
   "outputs": [],
   "source": [
    "df = pd.read_csv('titanic.csv')"
   ]
  },
  {
   "cell_type": "code",
   "execution_count": 3,
   "id": "cb976ac8-831d-49cf-9c21-bd47e608dd54",
   "metadata": {},
   "outputs": [
    {
     "data": {
      "text/html": [
       "<div>\n",
       "<style scoped>\n",
       "    .dataframe tbody tr th:only-of-type {\n",
       "        vertical-align: middle;\n",
       "    }\n",
       "\n",
       "    .dataframe tbody tr th {\n",
       "        vertical-align: top;\n",
       "    }\n",
       "\n",
       "    .dataframe thead th {\n",
       "        text-align: right;\n",
       "    }\n",
       "</style>\n",
       "<table border=\"1\" class=\"dataframe\">\n",
       "  <thead>\n",
       "    <tr style=\"text-align: right;\">\n",
       "      <th></th>\n",
       "      <th>survived</th>\n",
       "      <th>pclass</th>\n",
       "      <th>sex</th>\n",
       "      <th>age</th>\n",
       "      <th>sibsp</th>\n",
       "      <th>parch</th>\n",
       "      <th>fare</th>\n",
       "      <th>embarked</th>\n",
       "      <th>deck</th>\n",
       "    </tr>\n",
       "  </thead>\n",
       "  <tbody>\n",
       "    <tr>\n",
       "      <th>0</th>\n",
       "      <td>0</td>\n",
       "      <td>3</td>\n",
       "      <td>male</td>\n",
       "      <td>22.0</td>\n",
       "      <td>1</td>\n",
       "      <td>0</td>\n",
       "      <td>7.2500</td>\n",
       "      <td>S</td>\n",
       "      <td>NaN</td>\n",
       "    </tr>\n",
       "    <tr>\n",
       "      <th>1</th>\n",
       "      <td>1</td>\n",
       "      <td>1</td>\n",
       "      <td>female</td>\n",
       "      <td>38.0</td>\n",
       "      <td>1</td>\n",
       "      <td>0</td>\n",
       "      <td>71.2833</td>\n",
       "      <td>C</td>\n",
       "      <td>C</td>\n",
       "    </tr>\n",
       "    <tr>\n",
       "      <th>2</th>\n",
       "      <td>1</td>\n",
       "      <td>3</td>\n",
       "      <td>female</td>\n",
       "      <td>26.0</td>\n",
       "      <td>0</td>\n",
       "      <td>0</td>\n",
       "      <td>7.9250</td>\n",
       "      <td>S</td>\n",
       "      <td>NaN</td>\n",
       "    </tr>\n",
       "    <tr>\n",
       "      <th>3</th>\n",
       "      <td>1</td>\n",
       "      <td>1</td>\n",
       "      <td>female</td>\n",
       "      <td>35.0</td>\n",
       "      <td>1</td>\n",
       "      <td>0</td>\n",
       "      <td>53.1000</td>\n",
       "      <td>S</td>\n",
       "      <td>C</td>\n",
       "    </tr>\n",
       "    <tr>\n",
       "      <th>4</th>\n",
       "      <td>0</td>\n",
       "      <td>3</td>\n",
       "      <td>male</td>\n",
       "      <td>35.0</td>\n",
       "      <td>0</td>\n",
       "      <td>0</td>\n",
       "      <td>8.0500</td>\n",
       "      <td>S</td>\n",
       "      <td>NaN</td>\n",
       "    </tr>\n",
       "    <tr>\n",
       "      <th>...</th>\n",
       "      <td>...</td>\n",
       "      <td>...</td>\n",
       "      <td>...</td>\n",
       "      <td>...</td>\n",
       "      <td>...</td>\n",
       "      <td>...</td>\n",
       "      <td>...</td>\n",
       "      <td>...</td>\n",
       "      <td>...</td>\n",
       "    </tr>\n",
       "    <tr>\n",
       "      <th>886</th>\n",
       "      <td>0</td>\n",
       "      <td>2</td>\n",
       "      <td>male</td>\n",
       "      <td>27.0</td>\n",
       "      <td>0</td>\n",
       "      <td>0</td>\n",
       "      <td>13.0000</td>\n",
       "      <td>S</td>\n",
       "      <td>NaN</td>\n",
       "    </tr>\n",
       "    <tr>\n",
       "      <th>887</th>\n",
       "      <td>1</td>\n",
       "      <td>1</td>\n",
       "      <td>female</td>\n",
       "      <td>19.0</td>\n",
       "      <td>0</td>\n",
       "      <td>0</td>\n",
       "      <td>30.0000</td>\n",
       "      <td>S</td>\n",
       "      <td>B</td>\n",
       "    </tr>\n",
       "    <tr>\n",
       "      <th>888</th>\n",
       "      <td>0</td>\n",
       "      <td>3</td>\n",
       "      <td>female</td>\n",
       "      <td>NaN</td>\n",
       "      <td>1</td>\n",
       "      <td>2</td>\n",
       "      <td>23.4500</td>\n",
       "      <td>S</td>\n",
       "      <td>NaN</td>\n",
       "    </tr>\n",
       "    <tr>\n",
       "      <th>889</th>\n",
       "      <td>1</td>\n",
       "      <td>1</td>\n",
       "      <td>male</td>\n",
       "      <td>26.0</td>\n",
       "      <td>0</td>\n",
       "      <td>0</td>\n",
       "      <td>30.0000</td>\n",
       "      <td>C</td>\n",
       "      <td>C</td>\n",
       "    </tr>\n",
       "    <tr>\n",
       "      <th>890</th>\n",
       "      <td>0</td>\n",
       "      <td>3</td>\n",
       "      <td>male</td>\n",
       "      <td>32.0</td>\n",
       "      <td>0</td>\n",
       "      <td>0</td>\n",
       "      <td>7.7500</td>\n",
       "      <td>Q</td>\n",
       "      <td>NaN</td>\n",
       "    </tr>\n",
       "  </tbody>\n",
       "</table>\n",
       "<p>891 rows × 9 columns</p>\n",
       "</div>"
      ],
      "text/plain": [
       "     survived  pclass     sex   age  sibsp  parch     fare embarked deck\n",
       "0           0       3    male  22.0      1      0   7.2500        S  NaN\n",
       "1           1       1  female  38.0      1      0  71.2833        C    C\n",
       "2           1       3  female  26.0      0      0   7.9250        S  NaN\n",
       "3           1       1  female  35.0      1      0  53.1000        S    C\n",
       "4           0       3    male  35.0      0      0   8.0500        S  NaN\n",
       "..        ...     ...     ...   ...    ...    ...      ...      ...  ...\n",
       "886         0       2    male  27.0      0      0  13.0000        S  NaN\n",
       "887         1       1  female  19.0      0      0  30.0000        S    B\n",
       "888         0       3  female   NaN      1      2  23.4500        S  NaN\n",
       "889         1       1    male  26.0      0      0  30.0000        C    C\n",
       "890         0       3    male  32.0      0      0   7.7500        Q  NaN\n",
       "\n",
       "[891 rows x 9 columns]"
      ]
     },
     "execution_count": 3,
     "metadata": {},
     "output_type": "execute_result"
    }
   ],
   "source": [
    "df"
   ]
  },
  {
   "cell_type": "markdown",
   "id": "30426169-3c70-4974-824f-d30bfcecacbf",
   "metadata": {},
   "source": [
    "## **Exercise 2:** Summary Statistics"
   ]
  },
  {
   "cell_type": "markdown",
   "id": "912258e4-b635-4e04-92d4-df9ce8f627cc",
   "metadata": {},
   "source": [
    "#### **The Problem:**"
   ]
  },
  {
   "cell_type": "markdown",
   "id": "13cf591c-dd3f-4ab5-b090-eff9cd21a39d",
   "metadata": {},
   "source": [
    "Get some summary statistics for the numerical columns of the titanic dataset and save the summary DataFrame in the variable summary. (you may print the summary as well)  "
   ]
  },
  {
   "cell_type": "markdown",
   "id": "794d2626-32b6-44fa-b60e-8a1c0b224f52",
   "metadata": {},
   "source": [
    "#### **The Solution:**"
   ]
  },
  {
   "cell_type": "code",
   "execution_count": 4,
   "id": "86a8c3b8-4e41-4706-9ade-dac786919596",
   "metadata": {},
   "outputs": [
    {
     "name": "stdout",
     "output_type": "stream",
     "text": [
      "         survived      pclass         age       sibsp       parch        fare\n",
      "count  891.000000  891.000000  714.000000  891.000000  891.000000  891.000000\n",
      "mean     0.383838    2.308642   29.699118    0.523008    0.381594   32.204208\n",
      "std      0.486592    0.836071   14.526497    1.102743    0.806057   49.693429\n",
      "min      0.000000    1.000000    0.420000    0.000000    0.000000    0.000000\n",
      "25%      0.000000    2.000000   20.125000    0.000000    0.000000    7.910400\n",
      "50%      0.000000    3.000000   28.000000    0.000000    0.000000   14.454200\n",
      "75%      1.000000    3.000000   38.000000    1.000000    0.000000   31.000000\n",
      "max      1.000000    3.000000   80.000000    8.000000    6.000000  512.329200\n"
     ]
    }
   ],
   "source": [
    "import pandas as pd\n",
    "\n",
    "df = pd.read_csv(\"titanic.csv\")\n",
    "summary = df.describe()\n",
    "print(summary)"
   ]
  },
  {
   "cell_type": "markdown",
   "id": "9332832f-f6a1-4eee-ad5a-75f0bda65e4a",
   "metadata": {},
   "source": [
    "## **Exercise 3:** Selecting Columns"
   ]
  },
  {
   "cell_type": "markdown",
   "id": "6ab2fd2d-9a46-47d3-bb7a-f09354d2ca70",
   "metadata": {},
   "source": [
    "#### **The Problem:**"
   ]
  },
  {
   "cell_type": "markdown",
   "id": "38d74de1-dc57-4946-843d-9c8281528f76",
   "metadata": {},
   "source": [
    "Select and save the \"fare\" column in the variable fare. (you may print fare as well). "
   ]
  },
  {
   "cell_type": "markdown",
   "id": "2ed68675-dd10-4e29-84e1-d8b5c8f92cf4",
   "metadata": {},
   "source": [
    "#### **The Solution:**"
   ]
  },
  {
   "cell_type": "code",
   "execution_count": 5,
   "id": "35c3210b-2193-46ba-9229-6adbdeeb1666",
   "metadata": {},
   "outputs": [
    {
     "data": {
      "text/plain": [
       "0       7.2500\n",
       "1      71.2833\n",
       "2       7.9250\n",
       "3      53.1000\n",
       "4       8.0500\n",
       "        ...   \n",
       "886    13.0000\n",
       "887    30.0000\n",
       "888    23.4500\n",
       "889    30.0000\n",
       "890     7.7500\n",
       "Name: fare, Length: 891, dtype: float64"
      ]
     },
     "execution_count": 5,
     "metadata": {},
     "output_type": "execute_result"
    }
   ],
   "source": [
    "import pandas as pd\n",
    "\n",
    "df = pd.read_csv(\"titanic.csv\")\n",
    "fare = df.fare\n",
    "fare"
   ]
  },
  {
   "cell_type": "markdown",
   "id": "6268a377-a80a-4159-9dc0-67592eba9667",
   "metadata": {},
   "source": [
    "## **Exercise 4:** Position-based Indexing 1"
   ]
  },
  {
   "cell_type": "markdown",
   "id": "7115c367-95e0-4a55-9886-ef005bf2f1bb",
   "metadata": {},
   "source": [
    "#### **The Problem:**"
   ]
  },
  {
   "cell_type": "markdown",
   "id": "52cf89d3-8e3b-4704-aad5-35c84d9da23d",
   "metadata": {},
   "source": [
    "Print the element in the 3rd row and the 4th column."
   ]
  },
  {
   "cell_type": "markdown",
   "id": "1d17c4f2-019c-41db-977e-102f73194a4c",
   "metadata": {},
   "source": [
    "#### **The Solution:**"
   ]
  },
  {
   "cell_type": "code",
   "execution_count": 6,
   "id": "3e0d2800-a797-428a-a2a6-3a8268c36683",
   "metadata": {},
   "outputs": [
    {
     "name": "stdout",
     "output_type": "stream",
     "text": [
      "26.0\n"
     ]
    }
   ],
   "source": [
    "import pandas as pd\n",
    "\n",
    "df = pd.read_csv(\"titanic.csv\")\n",
    "\n",
    "print(df.iloc[2, 3])"
   ]
  },
  {
   "cell_type": "markdown",
   "id": "400ff604-8e5f-4e35-a905-1772a2c0674f",
   "metadata": {},
   "source": [
    "## **Exercise 4:** Position-based Indexing 2"
   ]
  },
  {
   "cell_type": "markdown",
   "id": "097b5b83-045f-4827-83d4-930951b915ed",
   "metadata": {},
   "source": [
    "#### **The Prolem:**"
   ]
  },
  {
   "cell_type": "markdown",
   "id": "e95c629c-6f61-476a-b33a-f0d6b389a453",
   "metadata": {},
   "source": [
    "Select and save the last 10 rows (and only the first two columns) in the variable last_rows (you may print last_rows as well). "
   ]
  },
  {
   "cell_type": "code",
   "execution_count": 7,
   "id": "c78bb2e5-34fd-4d64-be33-074f7500e6c6",
   "metadata": {},
   "outputs": [
    {
     "name": "stdout",
     "output_type": "stream",
     "text": [
      "     survived  pclass\n",
      "881         0       3\n",
      "882         0       3\n",
      "883         0       2\n",
      "884         0       3\n",
      "885         0       3\n",
      "886         0       2\n",
      "887         1       1\n",
      "888         0       3\n",
      "889         1       1\n",
      "890         0       3\n"
     ]
    }
   ],
   "source": [
    "import pandas as pd\n",
    "\n",
    "df = pd.read_csv(\"titanic.csv\")\n",
    "\n",
    "last_rows = df.iloc[-10:, :2]\n",
    "print(last_rows)"
   ]
  },
  {
   "cell_type": "markdown",
   "id": "899f223e-ebfe-466e-8e88-09f61b64ca46",
   "metadata": {},
   "source": [
    "## **Exercise 5:** Label-based Indexing 1"
   ]
  },
  {
   "cell_type": "markdown",
   "id": "e759fe1c-7ace-46ff-bc04-aa6254f9f015",
   "metadata": {},
   "source": [
    "#### **The Prolem:**"
   ]
  },
  {
   "cell_type": "markdown",
   "id": "126d7e48-47bb-48d8-8b7b-225462cb31f6",
   "metadata": {},
   "source": [
    "Load and save the Summer Olympic medals dataset \"summer.csv\" (small excerpt) in the variable df. Make sure the \"Athlete\" column is the Index of df.\n",
    "\n",
    "In which Wrestling Freestyle \"Event\" did the Spanish female Athlete \"UNDA, Maider\" win the Bronze Medal in London 2012? (Note: this is her only Olympic Medal). (print the Event)  "
   ]
  },
  {
   "cell_type": "markdown",
   "id": "d068c882-3e33-499a-bf1a-da2f4812e30d",
   "metadata": {},
   "source": [
    "#### **The Solution:**"
   ]
  },
  {
   "cell_type": "code",
   "execution_count": 19,
   "id": "7249ad67-5387-455d-ad40-6dce1ce06cff",
   "metadata": {},
   "outputs": [
    {
     "name": "stdout",
     "output_type": "stream",
     "text": [
      "Wf 72 KG\n"
     ]
    }
   ],
   "source": [
    "import pandas as pd\n",
    "\n",
    "df = pd.read_csv('summer.csv', index_col = 'Athlete')\n",
    "\n",
    "event = df.loc['UNDA, Maider', 'Event']\n",
    "\n",
    "print(event)"
   ]
  },
  {
   "cell_type": "markdown",
   "id": "9ec74b8f-ae38-4e1f-a36f-894fd3956868",
   "metadata": {},
   "source": [
    "## **Exercise 6:** Label-based Indexing 2"
   ]
  },
  {
   "cell_type": "markdown",
   "id": "20f7f4a7-b9c2-488c-adc5-5ef15738c18c",
   "metadata": {},
   "source": [
    "#### **The Prolem:**"
   ]
  },
  {
   "cell_type": "markdown",
   "id": "5a82f8e6-37e2-485a-8ba8-51faddb6ba98",
   "metadata": {},
   "source": [
    "Select \"Country\" and \"Sport\" for the Athletes \"PAVIA, Automne\" and \"OCHAL, Glenn\". Save the sliced DataFrame in the variable sliced (you may print sliced as well). "
   ]
  },
  {
   "cell_type": "markdown",
   "id": "b1fe3fb0-df16-4e9f-8200-1fd6bc116b25",
   "metadata": {},
   "source": [
    "#### **The Solution:**"
   ]
  },
  {
   "cell_type": "code",
   "execution_count": 28,
   "id": "d50c695d-83c3-4dc8-9ba8-6c10e0472858",
   "metadata": {},
   "outputs": [
    {
     "name": "stdout",
     "output_type": "stream",
     "text": [
      "               Country   Sport\n",
      "Athlete                       \n",
      "PAVIA, Automne     FRA    Judo\n",
      "OCHAL, Glenn       USA  Rowing\n"
     ]
    }
   ],
   "source": [
    "import pandas as pd\n",
    "\n",
    "df = pd.read_csv('summer.csv', index_col = 'Athlete')\n",
    "\n",
    "sliced = df.loc[['PAVIA, Automne', 'OCHAL, Glenn'], ['Country', 'Sport']]\n",
    "\n",
    "print(sliced)"
   ]
  }
 ],
 "metadata": {
  "kernelspec": {
   "display_name": "Python 3 (ipykernel)",
   "language": "python",
   "name": "python3"
  },
  "language_info": {
   "codemirror_mode": {
    "name": "ipython",
    "version": 3
   },
   "file_extension": ".py",
   "mimetype": "text/x-python",
   "name": "python",
   "nbconvert_exporter": "python",
   "pygments_lexer": "ipython3",
   "version": "3.11.7"
  }
 },
 "nbformat": 4,
 "nbformat_minor": 5
}
