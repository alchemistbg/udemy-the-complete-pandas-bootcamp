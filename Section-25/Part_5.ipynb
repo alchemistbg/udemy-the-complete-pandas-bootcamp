{
 "cells": [
  {
   "cell_type": "markdown",
   "id": "0cf9f0e7-bcc5-4db6-84e1-00fac5bab848",
   "metadata": {},
   "source": [
    "# **Part 5**"
   ]
  },
  {
   "cell_type": "markdown",
   "id": "ec5381b9-076c-4b28-baf3-2fe5798a853c",
   "metadata": {},
   "source": [
    "Promised response from ois an introduction to **machine learning** with **pandas** and **scikit-learn**. It gives an introduction to **regression** and **classification** and covers a complete **machine learning project** from A-Z."
   ]
  }
 ],
 "metadata": {
  "kernelspec": {
   "display_name": "Python 3 (ipykernel)",
   "language": "python",
   "name": "python3"
  },
  "language_info": {
   "codemirror_mode": {
    "name": "ipython",
    "version": 3
   },
   "file_extension": ".py",
   "mimetype": "text/x-python",
   "name": "python",
   "nbconvert_exporter": "python",
   "pygments_lexer": "ipython3",
   "version": "3.11.7"
  }
 },
 "nbformat": 4,
 "nbformat_minor": 5
}
