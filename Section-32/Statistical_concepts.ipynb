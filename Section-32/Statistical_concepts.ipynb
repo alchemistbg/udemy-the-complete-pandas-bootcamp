{
 "cells": [
  {
   "cell_type": "markdown",
   "id": "b72c8f73-e4c1-4013-8c22-93c8ed45f562",
   "metadata": {},
   "source": [
    "# **Statistical concepts**"
   ]
  },
  {
   "cell_type": "markdown",
   "id": "4822bda8-2a2c-49f0-ba6e-ca513aa13248",
   "metadata": {},
   "source": [
    "## **Population vs sample**"
   ]
  },
  {
   "cell_type": "code",
   "execution_count": 1,
   "id": "046021fb-e60a-49d7-b46e-4800a5015a61",
   "metadata": {},
   "outputs": [],
   "source": [
    "import numpy as np\n",
    "np.set_printoptions(precision = 2, suppress = True)"
   ]
  },
  {
   "cell_type": "code",
   "execution_count": 2,
   "id": "0d5edbe9-e024-47d0-83c4-d92c0e764681",
   "metadata": {},
   "outputs": [],
   "source": [
    "pop = np.loadtxt(fname = 'SP500_pop.csv', delimiter = ',', usecols = 1)"
   ]
  },
  {
   "cell_type": "code",
   "execution_count": 3,
   "id": "6d17973b-4005-44fa-904b-451932f823b3",
   "metadata": {},
   "outputs": [
    {
     "data": {
      "text/plain": [
       "array([ 0.47,  0.11, -0.41,  0.46,  0.54,  0.17,  0.66,  0.49,  0.31,\n",
       "        0.7 ,  0.23, -0.12,  0.14,  0.11,  0.42,  0.12,  0.17, -0.07,\n",
       "        0.26, -0.22, -0.09, -0.04,  0.09,  0.22, -0.02,  0.49,  1.31,\n",
       "       -0.17,  0.41,  0.24, -0.02,  0.58,  0.11, -0.09,  0.49,  0.41,\n",
       "        0.19,  0.53,  0.35,  0.56,  1.43,  0.6 ,  0.57,  0.2 ,  0.29,\n",
       "       -0.33,  0.14,  0.31,  0.5 ,  0.18,  0.47,  0.16,  0.75,  0.01,\n",
       "        0.45,  0.64,  0.26,  0.34, -0.1 ,  0.89,  0.34,  0.46,  0.06,\n",
       "        0.6 ,  0.29,  0.09,  0.53, -0.51,  0.12,  0.14,  0.19,  0.35,\n",
       "        0.01,  0.05,  0.37,  0.22,  0.15,  0.3 ,  0.03,  0.25, -0.05,\n",
       "       -0.15,  0.7 ,  0.11,  0.69,  0.38, -0.07,  0.28,  0.27,  0.66,\n",
       "        0.33,  0.36, -0.1 ,  0.42,  0.35,  0.18,  0.14,  0.22,  0.17,\n",
       "        0.52, -0.01,  0.15,  0.24,  0.27,  0.16,  0.27, -0.23,  0.29,\n",
       "        0.14,  0.79,  0.15,  0.14,  0.22,  0.25,  0.09,  0.16,  0.09,\n",
       "       -0.2 ,  0.46,  0.56,  0.49,  0.27,  0.53,  0.35, -0.3 ,  0.27,\n",
       "        0.24, -0.08,  0.06,  0.13,  0.06,  0.14,  0.24,  0.52,  0.07,\n",
       "        0.26,  0.07,  0.87,  0.19,  0.03, -0.18, -0.21, -0.18,  0.16,\n",
       "        0.39,  0.35,  0.02,  0.32,  0.11,  0.08,  0.13, -0.09,  0.6 ,\n",
       "        0.33,  0.27,  0.14,  0.15, -0.  , -0.12,  0.66,  0.23,  0.25,\n",
       "        0.07,  0.27, -0.01,  0.14,  0.04,  0.43,  0.18,  0.11, -0.06,\n",
       "        0.2 ,  0.11,  0.22,  0.06,  0.13,  0.03,  0.25,  0.16,  0.53,\n",
       "        0.28,  0.44,  0.34, -0.01, -0.09,  0.24,  0.23,  0.12,  0.29,\n",
       "       -0.12,  0.36,  0.67, -0.06, -0.07, -0.12,  0.45,  0.35,  0.18,\n",
       "       -0.45,  0.  , -0.04,  0.23,  0.32,  0.18,  0.36,  0.33, -0.01,\n",
       "        0.44,  0.52,  0.23,  0.06,  0.02, -0.1 ,  0.17,  0.1 , -0.03,\n",
       "        0.19, -0.12,  0.41, -0.24,  0.56,  0.18,  0.28,  0.43, -0.13,\n",
       "        0.07,  0.32, -0.16,  0.07,  0.42,  0.14,  0.05, -0.08,  0.05,\n",
       "        0.1 ,  0.22, -0.08,  0.25,  0.33,  0.47,  0.3 ,  0.71, -0.06,\n",
       "        0.28,  0.27,  0.38,  0.09, -0.14,  1.17,  0.29,  0.19,  0.16,\n",
       "        0.73,  0.22,  0.36,  0.2 ,  0.18, -0.07,  0.16,  0.14,  0.32,\n",
       "        0.21,  0.01,  0.24, -0.01, -0.08,  0.1 ,  0.14, -0.11, -0.28,\n",
       "        0.34,  0.06, -0.13, -0.  ,  0.11, -0.2 ,  0.1 ,  0.24,  0.07,\n",
       "       -0.09,  0.26, -0.02,  0.5 ,  0.24,  0.38,  0.32,  0.33,  0.15,\n",
       "        0.28,  0.16,  0.12,  0.31,  0.74,  0.31,  0.49,  0.29, -0.3 ,\n",
       "        0.47,  0.03, -0.07,  0.64,  0.39,  0.41,  0.37,  0.11,  0.57,\n",
       "       -0.03,  0.13,  0.05,  0.16,  0.38,  0.09,  0.37, -0.  ,  0.2 ,\n",
       "        0.32,  0.43,  0.06, -0.13,  0.31, -0.04, -0.02,  0.24,  0.61,\n",
       "        0.38,  0.09,  0.09,  0.48,  0.88,  0.36,  0.11, -0.23,  0.25,\n",
       "        0.14,  0.31,  0.1 ,  0.55,  0.16,  0.23,  3.87, -0.13,  0.32,\n",
       "       -0.04,  1.32,  0.34,  0.57,  0.12,  0.07,  0.81, -0.31,  0.41,\n",
       "        0.41, -0.01, -0.07, -0.14,  0.23, -0.14,  0.03,  0.12, -0.03,\n",
       "        0.11,  0.17,  0.15,  0.12,  0.22,  0.09,  0.59,  0.43,  0.81,\n",
       "        0.42,  0.4 ,  0.22,  0.15,  0.23,  0.26,  0.09,  0.23, -0.09,\n",
       "        0.05,  0.1 , -0.06,  0.17,  0.52,  0.12, -0.04,  0.87, -0.02,\n",
       "        0.26,  0.45,  0.02,  0.  ,  0.02,  0.2 ,  0.14,  0.29,  0.15,\n",
       "        0.36,  0.46,  0.38,  0.41,  0.22,  0.19,  0.32,  0.58,  0.03,\n",
       "        0.3 ,  0.09,  0.53,  0.36, -0.03, -0.2 , -0.06,  0.02,  0.45,\n",
       "       -0.02, -0.03,  0.58,  0.06,  0.18,  0.26,  0.1 ,  0.49,  0.48,\n",
       "        0.27,  0.06,  0.29,  0.17,  0.1 , -0.09, -0.16,  0.1 ,  0.37,\n",
       "        0.54, -0.1 ,  0.34,  0.02,  0.35,  0.1 ,  0.26, -0.26,  0.39,\n",
       "        0.11, -0.01,  0.31,  1.23,  0.47,  0.43,  0.17, -0.47, -0.5 ,\n",
       "       -0.08,  0.06,  0.07, -0.12,  0.38,  0.25,  0.29,  0.04,  0.63,\n",
       "        0.04,  0.16,  0.46,  0.41,  0.39, -0.12,  0.35,  0.03, -0.07,\n",
       "        0.18,  0.5 ,  1.03, -0.04, -0.01, -0.02,  0.44, -0.12,  0.47,\n",
       "        0.17,  0.13, -0.05,  0.1 , -0.07,  0.23,  0.22, -0.02,  0.43,\n",
       "        0.25, -0.12,  0.17,  0.95, -0.1 ,  0.18,  0.12, -0.07,  0.14,\n",
       "        0.27,  0.38,  0.29,  0.18,  0.35])"
      ]
     },
     "execution_count": 3,
     "metadata": {},
     "output_type": "execute_result"
    }
   ],
   "source": [
    "pop"
   ]
  },
  {
   "cell_type": "code",
   "execution_count": 4,
   "id": "8e76dbae-404e-4c41-bd72-d0ce790b3523",
   "metadata": {},
   "outputs": [],
   "source": [
    "pop = pop * 100"
   ]
  },
  {
   "cell_type": "code",
   "execution_count": 5,
   "id": "61ab5cc9-0fb5-4dd6-968a-53919557b50d",
   "metadata": {},
   "outputs": [
    {
     "data": {
      "text/plain": [
       "(500,)"
      ]
     },
     "execution_count": 5,
     "metadata": {},
     "output_type": "execute_result"
    }
   ],
   "source": [
    "pop.shape"
   ]
  },
  {
   "cell_type": "code",
   "execution_count": 6,
   "id": "0726e9a0-c7fe-4331-b903-2af26d735541",
   "metadata": {},
   "outputs": [
    {
     "data": {
      "text/plain": [
       "array([ 46.99,  11.44, -41.05,  46.11,  54.44,  17.43,  66.32,  48.58,\n",
       "        30.7 ,  70.22,  22.6 , -12.2 ,  14.02,  10.93,  41.64,  12.45,\n",
       "        16.85,  -6.8 ,  26.12, -22.11,  -8.77,  -3.83,   8.59,  21.79,\n",
       "        -2.46,  48.57, 131.13, -17.15,  41.27,  24.31,  -2.26,  58.41,\n",
       "        11.01,  -9.35,  49.12,  41.26,  18.94,  52.76,  35.  ,  55.96,\n",
       "       143.44,  59.57,  56.51,  20.15,  29.42, -33.48,  14.09,  30.65,\n",
       "        50.27,  17.51,  46.98,  15.83,  75.35,   0.71,  45.33,  63.57,\n",
       "        26.44,  34.06,  -9.93,  89.43,  33.57,  45.78,   5.74,  60.46,\n",
       "        29.3 ,   9.47,  52.87, -51.3 ,  12.34,  13.68,  18.53,  35.  ,\n",
       "         0.85,   4.86,  36.62,  21.62,  14.61,  29.54,   3.38,  25.21,\n",
       "        -4.75, -14.87,  69.92,  10.6 ,  68.62,  37.54,  -7.26,  27.94,\n",
       "        27.49,  65.82,  33.4 ,  35.99,  -9.84,  42.26,  35.13,  17.82,\n",
       "        13.53,  21.61,  16.69,  52.25,  -1.03,  15.3 ,  23.93,  27.46,\n",
       "        15.99,  26.61, -23.4 ,  29.25,  13.65,  78.55,  15.1 ,  14.14,\n",
       "        22.43,  24.55,   9.47,  16.25,   8.63, -20.44,  46.46,  55.92,\n",
       "        49.33,  26.74,  53.1 ,  34.85, -29.86,  26.75,  23.73,  -8.12,\n",
       "         6.36,  13.29,   5.84,  13.84,  24.47,  51.89,   6.7 ,  25.57,\n",
       "         7.17,  86.86,  19.24,   3.16, -18.35, -20.95, -17.57,  15.92,\n",
       "        39.04,  34.78,   2.45,  32.04,  11.12,   8.36,  12.54,  -9.35,\n",
       "        59.71,  33.39,  27.11,  14.47,  15.3 ,  -0.26, -12.15,  66.35,\n",
       "        23.18,  25.  ,   6.74,  26.81,  -0.92,  14.39,   3.82,  43.06,\n",
       "        17.77,  10.78,  -6.3 ,  20.29,  11.05,  22.15,   5.73,  13.22,\n",
       "         2.97,  24.93,  16.39,  53.38,  28.02,  43.75,  34.02,  -1.13,\n",
       "        -9.33,  24.39,  23.39,  12.5 ,  28.82, -12.32,  35.97,  67.38,\n",
       "        -5.97,  -6.54, -11.88,  45.05,  34.91,  17.83, -44.77,   0.04,\n",
       "        -4.01,  22.98,  31.81,  17.65,  35.58,  32.93,  -0.55,  44.42,\n",
       "        51.78,  22.85,   6.39,   1.72,  -9.65,  16.84,  10.14,  -3.06,\n",
       "        18.67, -12.25,  41.36, -23.79,  56.35,  18.11,  27.97,  43.09,\n",
       "       -12.79,   6.56,  32.38, -16.49,   6.77,  41.58,  14.05,   4.54,\n",
       "        -7.87,   5.36,   9.75,  21.59,  -7.57,  25.06,  33.35,  46.54,\n",
       "        29.52,  70.64,  -5.55,  27.51,  27.27,  37.67,   9.2 , -13.88,\n",
       "       116.93,  28.73,  18.86,  16.16,  72.64,  21.85,  36.25,  20.44,\n",
       "        18.45,  -7.48,  15.72,  13.92,  31.74,  21.27,   0.85,  23.93,\n",
       "        -1.15,  -7.77,  10.4 ,  13.75, -10.95, -27.86,  33.54,   5.73,\n",
       "       -12.75,  -0.4 ,  10.66, -20.46,   9.82,  24.01,   6.83,  -8.54,\n",
       "        26.26,  -2.35,  49.82,  24.25,  38.24,  31.99,  32.69,  14.83,\n",
       "        28.45,  16.  ,  12.46,  30.68,  74.09,  31.32,  49.14,  28.61,\n",
       "       -29.66,  46.6 ,   2.7 ,  -7.28,  64.16,  38.96,  41.41,  36.99,\n",
       "        11.04,  56.58,  -3.45,  13.37,   5.27,  15.82,  38.17,   9.19,\n",
       "        37.32,  -0.22,  20.42,  31.81,  42.74,   5.6 , -12.51,  31.04,\n",
       "        -4.42,  -2.2 ,  24.19,  60.62,  37.66,   8.99,   9.31,  48.01,\n",
       "        87.59,  35.55,  10.9 , -23.44,  25.21,  14.47,  30.75,  10.13,\n",
       "        55.06,  15.94,  23.06, 386.72, -13.23,  31.96,  -3.79, 132.3 ,\n",
       "        34.08,  56.85,  12.17,   6.82,  81.28, -30.8 ,  40.68,  41.45,\n",
       "        -0.8 ,  -6.9 , -14.43,  22.96, -13.6 ,   3.41,  11.83,  -3.41,\n",
       "        11.24,  17.37,  14.61,  11.51,  21.95,   9.28,  58.65,  42.56,\n",
       "        80.9 ,  42.12,  40.21,  22.2 ,  15.48,  23.37,  25.94,   9.16,\n",
       "        23.28,  -9.1 ,   4.72,  10.49,  -6.49,  17.06,  52.05,  12.22,\n",
       "        -4.01,  86.52,  -1.81,  26.3 ,  45.39,   2.25,   0.33,   2.42,\n",
       "        20.33,  13.86,  28.92,  14.8 ,  36.49,  46.09,  37.74,  41.47,\n",
       "        22.33,  18.51,  32.29,  58.2 ,   3.44,  30.15,   8.73,  52.58,\n",
       "        36.18,  -2.98, -19.73,  -6.16,   1.77,  44.82,  -2.24,  -3.34,\n",
       "        57.52,   6.24,  17.76,  25.59,   9.61,  49.09,  47.96,  27.18,\n",
       "         6.45,  29.24,  17.46,   9.68,  -8.58, -15.66,  10.31,  37.18,\n",
       "        54.4 ,  -9.66,  34.25,   1.78,  34.57,  10.43,  26.3 , -25.68,\n",
       "        39.42,  10.8 ,  -1.4 ,  31.44, 122.72,  47.3 ,  43.13,  16.54,\n",
       "       -47.08, -50.33,  -7.52,   5.59,   6.55, -12.27,  37.75,  24.95,\n",
       "        29.34,   3.93,  62.82,   4.3 ,  16.37,  46.14,  41.18,  38.69,\n",
       "       -12.22,  34.53,   2.57,  -7.34,  18.27,  50.44, 103.42,  -4.01,\n",
       "        -0.84,  -1.92,  43.75, -12.25,  46.71,  17.04,  13.27,  -4.72,\n",
       "        10.09,  -7.22,  23.23,  21.7 ,  -2.09,  42.87,  24.5 , -12.48,\n",
       "        17.18,  94.88, -10.22,  18.21,  11.68,  -7.33,  14.03,  26.74,\n",
       "        37.72,  28.86,  18.1 ,  34.58])"
      ]
     },
     "execution_count": 6,
     "metadata": {},
     "output_type": "execute_result"
    }
   ],
   "source": [
    "pop"
   ]
  },
  {
   "cell_type": "code",
   "execution_count": 7,
   "id": "b27f15a5-2de8-4cd4-b0e3-329b912f045c",
   "metadata": {},
   "outputs": [
    {
     "data": {
      "text/plain": [
       "500"
      ]
     },
     "execution_count": 7,
     "metadata": {},
     "output_type": "execute_result"
    }
   ],
   "source": [
    "pop.size"
   ]
  },
  {
   "cell_type": "code",
   "execution_count": 8,
   "id": "e28580f7-fef4-42b6-9faf-c36ab53432c2",
   "metadata": {},
   "outputs": [],
   "source": [
    "sample = np.loadtxt(fname = 'sample.csv', delimiter = ',', usecols = 1)"
   ]
  },
  {
   "cell_type": "code",
   "execution_count": 9,
   "id": "3ff8fd75-3c04-47f0-9b6e-f614560be160",
   "metadata": {},
   "outputs": [
    {
     "data": {
      "text/plain": [
       "array([ 0.42,  0.16,  0.48,  0.58, -0.03,  0.14,  0.17,  0.37,  0.34,\n",
       "        0.07,  0.1 , -0.01,  0.49,  0.11,  0.95, -0.12,  0.05, -0.07,\n",
       "        0.29,  0.71,  0.42,  0.38, -0.12,  0.24,  0.19,  0.25, -0.  ,\n",
       "        0.89, -0.1 ,  0.2 ,  0.09,  0.38,  0.1 ,  0.19, -0.13,  0.15,\n",
       "        0.24,  0.23, -0.09,  1.32,  0.12,  0.7 ,  0.36, -0.01,  0.5 ,\n",
       "        0.26,  0.12, -0.09, -0.02,  0.7 ])"
      ]
     },
     "execution_count": 9,
     "metadata": {},
     "output_type": "execute_result"
    }
   ],
   "source": [
    "sample"
   ]
  },
  {
   "cell_type": "code",
   "execution_count": 10,
   "id": "847c2d75-5bb2-4860-9d11-3e9a94ba5749",
   "metadata": {},
   "outputs": [],
   "source": [
    "sample = sample * 100"
   ]
  },
  {
   "cell_type": "code",
   "execution_count": 11,
   "id": "b32be15e-6d46-4ddc-8274-f43b0403a2f7",
   "metadata": {},
   "outputs": [
    {
     "data": {
      "text/plain": [
       "array([ 41.58,  15.94,  48.01,  57.52,  -3.45,  13.84,  17.43,  37.18,\n",
       "        34.25,   6.7 ,   9.82,  -1.15,  49.12,  10.66,  94.88, -12.2 ,\n",
       "         4.72,  -7.34,  29.24,  70.64,  42.26,  38.17, -12.32,  24.01,\n",
       "        19.24,  25.21,  -0.22,  89.43,  -9.65,  20.29,   9.16,  37.54,\n",
       "        10.4 ,  18.94, -12.75,  14.83,  24.39,  23.06,  -9.35, 132.3 ,\n",
       "        11.51,  70.22,  35.58,  -0.84,  50.27,  26.26,  12.45,  -9.33,\n",
       "        -2.46,  69.92])"
      ]
     },
     "execution_count": 11,
     "metadata": {},
     "output_type": "execute_result"
    }
   ],
   "source": [
    "sample"
   ]
  },
  {
   "cell_type": "code",
   "execution_count": 12,
   "id": "56dbbe56-ea5f-4215-a2f8-76a4b70b5ae6",
   "metadata": {},
   "outputs": [
    {
     "data": {
      "text/plain": [
       "50"
      ]
     },
     "execution_count": 12,
     "metadata": {},
     "output_type": "execute_result"
    }
   ],
   "source": [
    "sample.size"
   ]
  },
  {
   "cell_type": "code",
   "execution_count": 13,
   "id": "0bd3f8a2-ffa2-4561-9478-c066e861b32b",
   "metadata": {},
   "outputs": [
    {
     "data": {
      "text/plain": [
       "array([ True,  True,  True,  True,  True,  True,  True,  True,  True,\n",
       "        True,  True,  True,  True,  True,  True,  True,  True,  True,\n",
       "        True,  True,  True,  True,  True,  True,  True,  True,  True,\n",
       "        True,  True,  True,  True,  True,  True,  True,  True,  True,\n",
       "        True,  True,  True,  True,  True,  True,  True,  True,  True,\n",
       "        True,  True,  True,  True,  True])"
      ]
     },
     "execution_count": 13,
     "metadata": {},
     "output_type": "execute_result"
    }
   ],
   "source": [
    "np.isin(sample, pop)"
   ]
  },
  {
   "cell_type": "markdown",
   "id": "a057b6bf-e646-492e-b2d9-4a03f13fd4d5",
   "metadata": {},
   "source": [
    "## **Visualizing frequencies**"
   ]
  },
  {
   "cell_type": "code",
   "execution_count": 14,
   "id": "e31a78ee-c78f-46ec-abc4-9bd1ee89fad2",
   "metadata": {},
   "outputs": [],
   "source": [
    "import matplotlib.pyplot as plt\n",
    "plt.style.use('seaborn-v0_8')"
   ]
  },
  {
   "cell_type": "code",
   "execution_count": 15,
   "id": "523538d3-21fd-4ef7-b888-4020b5545a07",
   "metadata": {},
   "outputs": [
    {
     "data": {
      "image/png": "[encoded data removed]",
      "text/plain": [
       "<Figure size 1200x600 with 1 Axes>"
      ]
     },
     "metadata": {},
     "output_type": "display_data"
    }
   ],
   "source": [
    "plt.figure(figsize = (12, 6))\n",
    "plt.hist(pop, bins = 75)\n",
    "plt.title(\"Absolute Frequencies - Population\", fontsize = 20)\n",
    "plt.xlabel(\"Stock Returns - 2017 (in %)\")\n",
    "plt.xticks(np.arange(-100, 400, 25))\n",
    "plt.ylabel(\"Absolute Frequencies\")\n",
    "plt.show()"
   ]
  },
  {
   "cell_type": "code",
   "execution_count": 16,
   "id": "04ca8c74-ccd8-40c6-a644-d574dfa4dac3",
   "metadata": {},
   "outputs": [
    {
     "data": {
      "image/png": "[encoded data removed]",
      "text/plain": [
       "<Figure size 1200x600 with 1 Axes>"
      ]
     },
     "metadata": {},
     "output_type": "display_data"
    }
   ],
   "source": [
    "plt.figure(figsize = (12, 6))\n",
    "plt.hist(sample, bins = 15)\n",
    "plt.title(\"Absolute Frequencies - Population\", fontsize = 20)\n",
    "plt.xlabel(\"Stock Returns - 2017 (in %)\")\n",
    "plt.ylabel(\"Absolute Frequencies\")\n",
    "plt.show()"
   ]
  },
  {
   "cell_type": "code",
   "execution_count": 17,
   "id": "dbe39b2b-111e-48aa-aa43-b569714663cc",
   "metadata": {},
   "outputs": [],
   "source": [
    "np.set_printoptions(precision = 4, suppress = True)"
   ]
  },
  {
   "cell_type": "code",
   "execution_count": 18,
   "id": "700f8b29-754e-4eee-880b-1b47a4892e40",
   "metadata": {},
   "outputs": [],
   "source": [
    "weights_pop = (np.ones(len(pop)) / len(pop))"
   ]
  },
  {
   "cell_type": "code",
   "execution_count": 19,
   "id": "6b199c48-d389-46a2-8f2d-7c78ea60280b",
   "metadata": {},
   "outputs": [
    {
     "data": {
      "image/png": "[encoded data removed]",
      "text/plain": [
       "<Figure size 1200x600 with 1 Axes>"
      ]
     },
     "metadata": {},
     "output_type": "display_data"
    }
   ],
   "source": [
    "plt.figure(figsize = (12, 6))\n",
    "plt.hist(pop, bins = 75, weights = weights_pop)\n",
    "plt.title(\"Relative Frequencies - Population\", fontsize = 20)\n",
    "plt.xlabel(\"Stock Returns - 2017 (in %)\")\n",
    "plt.xticks(np.arange(-100, 400, 25))\n",
    "plt.ylabel(\"Relative Frequencies\")\n",
    "plt.show()"
   ]
  },
  {
   "cell_type": "code",
   "execution_count": 20,
   "id": "72e88824-ab24-4fd1-8985-1c8942822655",
   "metadata": {},
   "outputs": [],
   "source": [
    "weights_sample = np.ones(len(sample)) / len(sample)"
   ]
  },
  {
   "cell_type": "code",
   "execution_count": 21,
   "id": "1611e923-6f96-4f75-bb1b-e74839c7f7a2",
   "metadata": {},
   "outputs": [
    {
     "data": {
      "image/png": "[encoded data removed]",
      "text/plain": [
       "<Figure size 1200x600 with 1 Axes>"
      ]
     },
     "metadata": {},
     "output_type": "display_data"
    }
   ],
   "source": [
    "plt.figure(figsize = (12, 6))\n",
    "plt.hist(sample, bins = 15, weights = weights_sample)\n",
    "plt.title(\"Relative Frequencies - Population\", fontsize = 20)\n",
    "plt.xlabel(\"Stock Returns - 2017 (in %)\")\n",
    "plt.ylabel(\"Relative Frequencies\")\n",
    "plt.show()"
   ]
  },
  {
   "cell_type": "markdown",
   "id": "54379886-19af-430a-b4d7-68d5e109e763",
   "metadata": {},
   "source": [
    "## **Measures of central tendecy**"
   ]
  },
  {
   "cell_type": "code",
   "execution_count": 22,
   "id": "93f9e968-ead5-4c4b-b9d2-d0cbc4ec687f",
   "metadata": {},
   "outputs": [
    {
     "data": {
      "text/plain": [
       "21.780347999003943"
      ]
     },
     "execution_count": 22,
     "metadata": {},
     "output_type": "execute_result"
    }
   ],
   "source": [
    "pop.mean()"
   ]
  },
  {
   "cell_type": "code",
   "execution_count": 23,
   "id": "4681aae4-fe19-44d0-a31c-d1106cf4319c",
   "metadata": {},
   "outputs": [
    {
     "data": {
      "text/plain": [
       "21.780347999003943"
      ]
     },
     "execution_count": 23,
     "metadata": {},
     "output_type": "execute_result"
    }
   ],
   "source": [
    "np.mean(pop)"
   ]
  },
  {
   "cell_type": "code",
   "execution_count": 24,
   "id": "65ac88a3-d5b5-434a-b353-a0b346f7c5ad",
   "metadata": {},
   "outputs": [
    {
     "data": {
      "text/plain": [
       "25.318589009450747"
      ]
     },
     "execution_count": 24,
     "metadata": {},
     "output_type": "execute_result"
    }
   ],
   "source": [
    "sample.mean()"
   ]
  },
  {
   "cell_type": "code",
   "execution_count": 25,
   "id": "8318020a-9ccc-41d7-a69b-9f21e8a20e63",
   "metadata": {},
   "outputs": [
    {
     "data": {
      "text/plain": [
       "25.318589009450747"
      ]
     },
     "execution_count": 25,
     "metadata": {},
     "output_type": "execute_result"
    }
   ],
   "source": [
    "np.mean(sample)"
   ]
  },
  {
   "cell_type": "code",
   "execution_count": 26,
   "id": "9295a2f5-0aef-48da-bc14-6a98dfe33eba",
   "metadata": {},
   "outputs": [],
   "source": [
    "def my_median(array):\n",
    "    array_lengt = len(array)\n",
    "    array_sorted = sorted(array)\n",
    "    if array_lengt % 2 != 0:\n",
    "        return array_sorted[array_lengt // 2]\n",
    "    else:\n",
    "        return sum(array_sorted[(array_lengt // 2) - 1 : (array_lengt // 2)  + 1]) / 2"
   ]
  },
  {
   "cell_type": "code",
   "execution_count": 27,
   "id": "577e7105-2f13-4c2e-97cb-aa47aed82216",
   "metadata": {},
   "outputs": [
    {
     "data": {
      "text/plain": [
       "18.158807954190955"
      ]
     },
     "execution_count": 27,
     "metadata": {},
     "output_type": "execute_result"
    }
   ],
   "source": [
    "np.median(pop)"
   ]
  },
  {
   "cell_type": "code",
   "execution_count": 28,
   "id": "8fbb350a-b1b6-4ff2-8d35-80058f44dc57",
   "metadata": {},
   "outputs": [
    {
     "data": {
      "text/plain": [
       "18.158807954190955"
      ]
     },
     "execution_count": 28,
     "metadata": {},
     "output_type": "execute_result"
    }
   ],
   "source": [
    "my_median(pop)"
   ]
  },
  {
   "cell_type": "code",
   "execution_count": 29,
   "id": "bb000d1d-bdb9-4d0c-9432-0e07ce14a317",
   "metadata": {},
   "outputs": [],
   "source": [
    "prices = np.array([100, 107, 102, 110])"
   ]
  },
  {
   "cell_type": "code",
   "execution_count": 30,
   "id": "06c8fd00-2cb2-4caf-9d8f-527b3639af98",
   "metadata": {},
   "outputs": [],
   "source": [
    "returns = (prices[1:] / prices[:-1]) - 1"
   ]
  },
  {
   "cell_type": "code",
   "execution_count": 31,
   "id": "0736ee47-596c-4edf-84bd-066367faf74e",
   "metadata": {},
   "outputs": [],
   "source": [
    "returns_geo_mean = (returns + 1).prod() ** (1 / returns.size) - 1"
   ]
  },
  {
   "cell_type": "code",
   "execution_count": 32,
   "id": "7a9831a7-acc2-4491-be22-d0d6b3f4ec61",
   "metadata": {},
   "outputs": [
    {
     "data": {
      "text/plain": [
       "0.03228011545636722"
      ]
     },
     "execution_count": 32,
     "metadata": {},
     "output_type": "execute_result"
    }
   ],
   "source": [
    "returns_geo_mean"
   ]
  },
  {
   "cell_type": "markdown",
   "id": "7d74594b-6668-4e21-be46-8e59102f8834",
   "metadata": {},
   "source": [
    "## **Variability around the central tendency**"
   ]
  },
  {
   "cell_type": "code",
   "execution_count": 33,
   "id": "c6553acc-dd3e-4128-b179-9c5c3fb7440d",
   "metadata": {},
   "outputs": [
    {
     "data": {
      "text/plain": [
       "-51.30060027705095"
      ]
     },
     "execution_count": 33,
     "metadata": {},
     "output_type": "execute_result"
    }
   ],
   "source": [
    "pop.min()"
   ]
  },
  {
   "cell_type": "code",
   "execution_count": 34,
   "id": "cd1aa281-5756-4ec7-844a-822e93dad2b9",
   "metadata": {},
   "outputs": [
    {
     "data": {
      "text/plain": [
       "386.7155664221679"
      ]
     },
     "execution_count": 34,
     "metadata": {},
     "output_type": "execute_result"
    }
   ],
   "source": [
    "pop.max()"
   ]
  },
  {
   "cell_type": "code",
   "execution_count": 35,
   "id": "36574069-7f32-473c-b23d-fca84427621f",
   "metadata": {},
   "outputs": [
    {
     "data": {
      "text/plain": [
       "438.01616669921884"
      ]
     },
     "execution_count": 35,
     "metadata": {},
     "output_type": "execute_result"
    }
   ],
   "source": [
    "pop.ptp()"
   ]
  },
  {
   "cell_type": "code",
   "execution_count": 36,
   "id": "81c72030-8af2-4a8f-8cf5-eb48149447fb",
   "metadata": {},
   "outputs": [
    {
     "data": {
      "text/plain": [
       "438.01616669921884"
      ]
     },
     "execution_count": 36,
     "metadata": {},
     "output_type": "execute_result"
    }
   ],
   "source": [
    "pop.max() - pop.min()"
   ]
  },
  {
   "cell_type": "code",
   "execution_count": 37,
   "id": "d40feb5f-6a34-44d8-b7b9-bfccd48d5780",
   "metadata": {},
   "outputs": [
    {
     "data": {
      "text/plain": [
       "-12.747464992757129"
      ]
     },
     "execution_count": 37,
     "metadata": {},
     "output_type": "execute_result"
    }
   ],
   "source": [
    "sample.min()"
   ]
  },
  {
   "cell_type": "code",
   "execution_count": 38,
   "id": "db2e243e-2a3a-4561-b3f2-b2f40a2015de",
   "metadata": {},
   "outputs": [
    {
     "data": {
      "text/plain": [
       "132.30016313213704"
      ]
     },
     "execution_count": 38,
     "metadata": {},
     "output_type": "execute_result"
    }
   ],
   "source": [
    "sample.max()"
   ]
  },
  {
   "cell_type": "code",
   "execution_count": 39,
   "id": "e4240c26-b510-4640-a095-e016a86c422e",
   "metadata": {},
   "outputs": [
    {
     "data": {
      "text/plain": [
       "145.04762812489417"
      ]
     },
     "execution_count": 39,
     "metadata": {},
     "output_type": "execute_result"
    }
   ],
   "source": [
    "sample.ptp()"
   ]
  },
  {
   "cell_type": "code",
   "execution_count": 40,
   "id": "3b349741-3bba-4fe4-b222-46fcb40251bc",
   "metadata": {},
   "outputs": [
    {
     "data": {
      "text/plain": [
       "18.158807954190955"
      ]
     },
     "execution_count": 40,
     "metadata": {},
     "output_type": "execute_result"
    }
   ],
   "source": [
    "np.percentile(pop, 50)"
   ]
  },
  {
   "cell_type": "code",
   "execution_count": 41,
   "id": "d8c5b681-8b88-45dd-b337-8c47a8afad61",
   "metadata": {},
   "outputs": [
    {
     "data": {
      "text/plain": [
       "18.158807954190955"
      ]
     },
     "execution_count": 41,
     "metadata": {},
     "output_type": "execute_result"
    }
   ],
   "source": [
    "np.median(pop)"
   ]
  },
  {
   "cell_type": "code",
   "execution_count": 42,
   "id": "cdbb7d61-24d3-4237-89ce-b1cf9e0b9dd9",
   "metadata": {},
   "outputs": [
    {
     "data": {
      "text/plain": [
       "962.631408916871"
      ]
     },
     "execution_count": 42,
     "metadata": {},
     "output_type": "execute_result"
    }
   ],
   "source": [
    "pop.var()"
   ]
  },
  {
   "cell_type": "code",
   "execution_count": 43,
   "id": "3fb57551-12ed-43d8-8f83-934cdb1e642c",
   "metadata": {},
   "outputs": [
    {
     "data": {
      "text/plain": [
       "31.026301889153192"
      ]
     },
     "execution_count": 43,
     "metadata": {},
     "output_type": "execute_result"
    }
   ],
   "source": [
    "pop.std()"
   ]
  },
  {
   "cell_type": "code",
   "execution_count": 44,
   "id": "5256344b-1363-4654-af07-b59aee533c3b",
   "metadata": {},
   "outputs": [
    {
     "data": {
      "text/plain": [
       "930.0397527373713"
      ]
     },
     "execution_count": 44,
     "metadata": {},
     "output_type": "execute_result"
    }
   ],
   "source": [
    "sample.var(ddof = 1)"
   ]
  },
  {
   "cell_type": "code",
   "execution_count": 45,
   "id": "2f53eadc-504c-4d65-93bf-582e891cafb6",
   "metadata": {},
   "outputs": [
    {
     "data": {
      "text/plain": [
       "30.496553128794265"
      ]
     },
     "execution_count": 45,
     "metadata": {},
     "output_type": "execute_result"
    }
   ],
   "source": [
    "sample.std(ddof = 1)"
   ]
  },
  {
   "cell_type": "markdown",
   "id": "6079a613-a650-4672-b73a-b81acdf52495",
   "metadata": {},
   "source": [
    "## **Skew and kurtosis**"
   ]
  },
  {
   "cell_type": "code",
   "execution_count": 46,
   "id": "ada9ba58-cc53-4d22-9876-154a5a725c09",
   "metadata": {},
   "outputs": [],
   "source": [
    "import scipy.stats as stats"
   ]
  },
  {
   "cell_type": "code",
   "execution_count": 47,
   "id": "026a11d0-36aa-4d5f-a142-6ef9eaf91e9d",
   "metadata": {
    "scrolled": true
   },
   "outputs": [
    {
     "data": {
      "text/plain": [
       "3.69215566312915"
      ]
     },
     "execution_count": 47,
     "metadata": {},
     "output_type": "execute_result"
    }
   ],
   "source": [
    "stats.skew(pop)"
   ]
  },
  {
   "cell_type": "code",
   "execution_count": 48,
   "id": "5418ebe0-c1fa-4126-b001-d131e2c6b91b",
   "metadata": {},
   "outputs": [
    {
     "data": {
      "text/plain": [
       "SkewtestResult(statistic=16.94983170028088, pvalue=1.930054846544556e-64)"
      ]
     },
     "execution_count": 48,
     "metadata": {},
     "output_type": "execute_result"
    }
   ],
   "source": [
    "stats.skewtest(pop)"
   ]
  },
  {
   "cell_type": "code",
   "execution_count": 49,
   "id": "2982fdbc-e3ba-45c9-b87e-c1235c0717a4",
   "metadata": {},
   "outputs": [
    {
     "data": {
      "text/plain": [
       "38.01022437524736"
      ]
     },
     "execution_count": 49,
     "metadata": {},
     "output_type": "execute_result"
    }
   ],
   "source": [
    "stats.kurtosis(pop, fisher = True)"
   ]
  },
  {
   "cell_type": "code",
   "execution_count": 50,
   "id": "5666661a-6b0c-4604-a5c3-d78c906ba9cd",
   "metadata": {},
   "outputs": [
    {
     "data": {
      "text/plain": [
       "41.01022437524736"
      ]
     },
     "execution_count": 50,
     "metadata": {},
     "output_type": "execute_result"
    }
   ],
   "source": [
    "stats.kurtosis(pop, fisher = False)"
   ]
  },
  {
   "cell_type": "markdown",
   "id": "d43ba6d2-e964-408b-a21b-8e0666ff8e10",
   "metadata": {},
   "source": [
    "## **Probability distribution**"
   ]
  },
  {
   "cell_type": "code",
   "execution_count": 51,
   "id": "56ac9c1a-25d8-4ef8-a6f0-b49cb516e145",
   "metadata": {},
   "outputs": [],
   "source": [
    "np.random.seed(123)\n",
    "dice = np.random.randint(low = 1, high = 7, size = 100000)"
   ]
  },
  {
   "cell_type": "code",
   "execution_count": 52,
   "id": "fefdf306-337a-4a21-ac01-47dad790d3d0",
   "metadata": {},
   "outputs": [
    {
     "data": {
      "text/plain": [
       "3.49939"
      ]
     },
     "execution_count": 52,
     "metadata": {},
     "output_type": "execute_result"
    }
   ],
   "source": [
    "dice.mean()"
   ]
  },
  {
   "cell_type": "code",
   "execution_count": 53,
   "id": "ae8e5e74-2763-4c6b-a772-65dadf6ef023",
   "metadata": {},
   "outputs": [
    {
     "data": {
      "text/plain": [
       "1.701352293882722"
      ]
     },
     "execution_count": 53,
     "metadata": {},
     "output_type": "execute_result"
    }
   ],
   "source": [
    "dice.std()"
   ]
  },
  {
   "cell_type": "code",
   "execution_count": 54,
   "id": "48d1017e-fb05-4075-b190-21330b67181e",
   "metadata": {},
   "outputs": [
    {
     "data": {
      "image/png": "[encoded data removed]",
      "text/plain": [
       "<Figure size 1200x600 with 1 Axes>"
      ]
     },
     "metadata": {},
     "output_type": "display_data"
    }
   ],
   "source": [
    "plt.figure(figsize = (12, 6))\n",
    "plt.hist(dice, bins = 6, ec = 'black')\n",
    "plt.show()"
   ]
  },
  {
   "cell_type": "code",
   "execution_count": 55,
   "id": "7d206c81-3517-4d56-9cef-3af71aef70bb",
   "metadata": {},
   "outputs": [
    {
     "data": {
      "image/png": "[encoded data removed]",
      "text/plain": [
       "<Figure size 1200x600 with 1 Axes>"
      ]
     },
     "metadata": {},
     "output_type": "display_data"
    }
   ],
   "source": [
    "plt.figure(figsize = (12, 6))\n",
    "plt.hist(dice, bins = 6, ec = 'black', weights = np.ones(dice.size) / dice.size)\n",
    "plt.show()"
   ]
  },
  {
   "cell_type": "code",
   "execution_count": 56,
   "id": "da538d58-9f58-44c7-b907-0ea33cdb4531",
   "metadata": {},
   "outputs": [],
   "source": [
    "np.random.seed(123)\n",
    "data = np.random.uniform(low = 0, high = 10, size = 10000000)"
   ]
  },
  {
   "cell_type": "code",
   "execution_count": 57,
   "id": "e5013119-7b28-4bde-ae18-dbf834362e2a",
   "metadata": {},
   "outputs": [
    {
     "data": {
      "text/plain": [
       "4.999750521964992"
      ]
     },
     "execution_count": 57,
     "metadata": {},
     "output_type": "execute_result"
    }
   ],
   "source": [
    "data.mean()"
   ]
  },
  {
   "cell_type": "code",
   "execution_count": 58,
   "id": "b59b3d5f-a6b7-4a2d-b53e-a3e8d4a7f7f1",
   "metadata": {},
   "outputs": [
    {
     "data": {
      "text/plain": [
       "2.8861410883156915"
      ]
     },
     "execution_count": 58,
     "metadata": {},
     "output_type": "execute_result"
    }
   ],
   "source": [
    "data.std()"
   ]
  },
  {
   "cell_type": "code",
   "execution_count": 59,
   "id": "521d71b0-336e-4637-92f1-a9f5a4b5b84e",
   "metadata": {},
   "outputs": [
    {
     "data": {
      "image/png": "[encoded data removed]",
      "text/plain": [
       "<Figure size 1200x600 with 1 Axes>"
      ]
     },
     "metadata": {},
     "output_type": "display_data"
    }
   ],
   "source": [
    "plt.figure(figsize = (12, 6))\n",
    "plt.hist(data, bins = 1000, ec = 'black')\n",
    "plt.show()"
   ]
  },
  {
   "cell_type": "markdown",
   "id": "5f36ff7a-d29c-45f0-8582-bd6faff830b1",
   "metadata": {},
   "source": [
    "## **The normal distribution**"
   ]
  },
  {
   "cell_type": "code",
   "execution_count": 60,
   "id": "a8eccadd-b359-49ea-bcc8-72126cf54b15",
   "metadata": {},
   "outputs": [],
   "source": [
    "mu = 100\n",
    "sigma = 2\n",
    "size = 1000000"
   ]
  },
  {
   "cell_type": "code",
   "execution_count": 61,
   "id": "ce1bac28-0acf-45d3-9498-7a6384e05f0d",
   "metadata": {},
   "outputs": [],
   "source": [
    "np.random.seed(123)\n",
    "rand_data = np.random.normal(loc = mu, scale = sigma, size = size)"
   ]
  },
  {
   "cell_type": "code",
   "execution_count": 62,
   "id": "f02e995b-6157-41e1-aaaf-e15373d3ae91",
   "metadata": {
    "scrolled": true
   },
   "outputs": [
    {
     "data": {
      "text/plain": [
       "100.00125900261469"
      ]
     },
     "execution_count": 62,
     "metadata": {},
     "output_type": "execute_result"
    }
   ],
   "source": [
    "rand_data.mean()"
   ]
  },
  {
   "cell_type": "code",
   "execution_count": 63,
   "id": "1438df68-bd23-45d2-8213-ff07de6c91af",
   "metadata": {},
   "outputs": [
    {
     "data": {
      "text/plain": [
       "2.0005171072042"
      ]
     },
     "execution_count": 63,
     "metadata": {},
     "output_type": "execute_result"
    }
   ],
   "source": [
    "rand_data.std()"
   ]
  },
  {
   "cell_type": "code",
   "execution_count": 64,
   "id": "c49b21ef-c665-4d82-b50e-d927b6eed5b0",
   "metadata": {},
   "outputs": [
    {
     "data": {
      "image/png": "[encoded data removed]",
      "text/plain": [
       "<Figure size 1200x600 with 1 Axes>"
      ]
     },
     "metadata": {},
     "output_type": "display_data"
    }
   ],
   "source": [
    "plt.figure(figsize = (12, 6))\n",
    "plt.hist(rand_data, bins = 1000)\n",
    "plt.show()"
   ]
  },
  {
   "cell_type": "code",
   "execution_count": 65,
   "id": "09a35063-0c8d-4f60-8610-de70a8f9caff",
   "metadata": {},
   "outputs": [
    {
     "data": {
      "text/plain": [
       "0.0002286155024783446"
      ]
     },
     "execution_count": 65,
     "metadata": {},
     "output_type": "execute_result"
    }
   ],
   "source": [
    "stats.skew(rand_data)"
   ]
  },
  {
   "cell_type": "code",
   "execution_count": 66,
   "id": "76bd9654-0064-4ff3-8ece-dac269ffb7cd",
   "metadata": {},
   "outputs": [
    {
     "data": {
      "text/plain": [
       "-0.005837588254301362"
      ]
     },
     "execution_count": 66,
     "metadata": {},
     "output_type": "execute_result"
    }
   ],
   "source": [
    "stats.kurtosis(rand_data, fisher = True)"
   ]
  },
  {
   "cell_type": "code",
   "execution_count": 67,
   "id": "cc812370-c1e8-4b21-aa4b-5d0ff60b4ccd",
   "metadata": {},
   "outputs": [
    {
     "data": {
      "text/plain": [
       "2.9941624117456986"
      ]
     },
     "execution_count": 67,
     "metadata": {},
     "output_type": "execute_result"
    }
   ],
   "source": [
    "stats.kurtosis(rand_data, fisher = False)"
   ]
  },
  {
   "cell_type": "code",
   "execution_count": 68,
   "id": "35b4ea05-51ad-4506-9c54-066595a7fa21",
   "metadata": {},
   "outputs": [
    {
     "data": {
      "text/plain": [
       "DescribeResult(nobs=1000000, minmax=(90.78574017842989, 109.25515988525538), mean=100.00125900261469, variance=4.00207269828936, skewness=0.0002286155024783446, kurtosis=-0.005837588254301362)"
      ]
     },
     "execution_count": 68,
     "metadata": {},
     "output_type": "execute_result"
    }
   ],
   "source": [
    "stats.describe(rand_data)"
   ]
  },
  {
   "cell_type": "code",
   "execution_count": 69,
   "id": "13414714-2653-458a-bdfe-8dca7420a9ce",
   "metadata": {},
   "outputs": [],
   "source": [
    "mu = 100\n",
    "sigma = 2"
   ]
  },
  {
   "cell_type": "code",
   "execution_count": 70,
   "id": "e6ffae6a-e1b4-4ee2-b9e1-c1b3e43a3b81",
   "metadata": {},
   "outputs": [
    {
     "data": {
      "text/plain": [
       "array([ 90.    ,  90.02  ,  90.04  ,  90.0601,  90.0801,  90.1001,\n",
       "        90.1201,  90.1401,  90.1602,  90.1802,  90.2002,  90.2202,\n",
       "        90.2402,  90.2603,  90.2803,  90.3003,  90.3203,  90.3403,\n",
       "        90.3604,  90.3804,  90.4004,  90.4204,  90.4404,  90.4605,\n",
       "        90.4805,  90.5005,  90.5205,  90.5405,  90.5606,  90.5806,\n",
       "        90.6006,  90.6206,  90.6406,  90.6607,  90.6807,  90.7007,\n",
       "        90.7207,  90.7407,  90.7608,  90.7808,  90.8008,  90.8208,\n",
       "        90.8408,  90.8609,  90.8809,  90.9009,  90.9209,  90.9409,\n",
       "        90.961 ,  90.981 ,  91.001 ,  91.021 ,  91.041 ,  91.0611,\n",
       "        91.0811,  91.1011,  91.1211,  91.1411,  91.1612,  91.1812,\n",
       "        91.2012,  91.2212,  91.2412,  91.2613,  91.2813,  91.3013,\n",
       "        91.3213,  91.3413,  91.3614,  91.3814,  91.4014,  91.4214,\n",
       "        91.4414,  91.4615,  91.4815,  91.5015,  91.5215,  91.5415,\n",
       "        91.5616,  91.5816,  91.6016,  91.6216,  91.6416,  91.6617,\n",
       "        91.6817,  91.7017,  91.7217,  91.7417,  91.7618,  91.7818,\n",
       "        91.8018,  91.8218,  91.8418,  91.8619,  91.8819,  91.9019,\n",
       "        91.9219,  91.9419,  91.962 ,  91.982 ,  92.002 ,  92.022 ,\n",
       "        92.042 ,  92.0621,  92.0821,  92.1021,  92.1221,  92.1421,\n",
       "        92.1622,  92.1822,  92.2022,  92.2222,  92.2422,  92.2623,\n",
       "        92.2823,  92.3023,  92.3223,  92.3423,  92.3624,  92.3824,\n",
       "        92.4024,  92.4224,  92.4424,  92.4625,  92.4825,  92.5025,\n",
       "        92.5225,  92.5425,  92.5626,  92.5826,  92.6026,  92.6226,\n",
       "        92.6426,  92.6627,  92.6827,  92.7027,  92.7227,  92.7427,\n",
       "        92.7628,  92.7828,  92.8028,  92.8228,  92.8428,  92.8629,\n",
       "        92.8829,  92.9029,  92.9229,  92.9429,  92.963 ,  92.983 ,\n",
       "        93.003 ,  93.023 ,  93.043 ,  93.0631,  93.0831,  93.1031,\n",
       "        93.1231,  93.1431,  93.1632,  93.1832,  93.2032,  93.2232,\n",
       "        93.2432,  93.2633,  93.2833,  93.3033,  93.3233,  93.3433,\n",
       "        93.3634,  93.3834,  93.4034,  93.4234,  93.4434,  93.4635,\n",
       "        93.4835,  93.5035,  93.5235,  93.5435,  93.5636,  93.5836,\n",
       "        93.6036,  93.6236,  93.6436,  93.6637,  93.6837,  93.7037,\n",
       "        93.7237,  93.7437,  93.7638,  93.7838,  93.8038,  93.8238,\n",
       "        93.8438,  93.8639,  93.8839,  93.9039,  93.9239,  93.9439,\n",
       "        93.964 ,  93.984 ,  94.004 ,  94.024 ,  94.044 ,  94.0641,\n",
       "        94.0841,  94.1041,  94.1241,  94.1441,  94.1642,  94.1842,\n",
       "        94.2042,  94.2242,  94.2442,  94.2643,  94.2843,  94.3043,\n",
       "        94.3243,  94.3443,  94.3644,  94.3844,  94.4044,  94.4244,\n",
       "        94.4444,  94.4645,  94.4845,  94.5045,  94.5245,  94.5445,\n",
       "        94.5646,  94.5846,  94.6046,  94.6246,  94.6446,  94.6647,\n",
       "        94.6847,  94.7047,  94.7247,  94.7447,  94.7648,  94.7848,\n",
       "        94.8048,  94.8248,  94.8448,  94.8649,  94.8849,  94.9049,\n",
       "        94.9249,  94.9449,  94.965 ,  94.985 ,  95.005 ,  95.025 ,\n",
       "        95.045 ,  95.0651,  95.0851,  95.1051,  95.1251,  95.1451,\n",
       "        95.1652,  95.1852,  95.2052,  95.2252,  95.2452,  95.2653,\n",
       "        95.2853,  95.3053,  95.3253,  95.3453,  95.3654,  95.3854,\n",
       "        95.4054,  95.4254,  95.4454,  95.4655,  95.4855,  95.5055,\n",
       "        95.5255,  95.5455,  95.5656,  95.5856,  95.6056,  95.6256,\n",
       "        95.6456,  95.6657,  95.6857,  95.7057,  95.7257,  95.7457,\n",
       "        95.7658,  95.7858,  95.8058,  95.8258,  95.8458,  95.8659,\n",
       "        95.8859,  95.9059,  95.9259,  95.9459,  95.966 ,  95.986 ,\n",
       "        96.006 ,  96.026 ,  96.046 ,  96.0661,  96.0861,  96.1061,\n",
       "        96.1261,  96.1461,  96.1662,  96.1862,  96.2062,  96.2262,\n",
       "        96.2462,  96.2663,  96.2863,  96.3063,  96.3263,  96.3463,\n",
       "        96.3664,  96.3864,  96.4064,  96.4264,  96.4464,  96.4665,\n",
       "        96.4865,  96.5065,  96.5265,  96.5465,  96.5666,  96.5866,\n",
       "        96.6066,  96.6266,  96.6466,  96.6667,  96.6867,  96.7067,\n",
       "        96.7267,  96.7467,  96.7668,  96.7868,  96.8068,  96.8268,\n",
       "        96.8468,  96.8669,  96.8869,  96.9069,  96.9269,  96.9469,\n",
       "        96.967 ,  96.987 ,  97.007 ,  97.027 ,  97.047 ,  97.0671,\n",
       "        97.0871,  97.1071,  97.1271,  97.1471,  97.1672,  97.1872,\n",
       "        97.2072,  97.2272,  97.2472,  97.2673,  97.2873,  97.3073,\n",
       "        97.3273,  97.3473,  97.3674,  97.3874,  97.4074,  97.4274,\n",
       "        97.4474,  97.4675,  97.4875,  97.5075,  97.5275,  97.5475,\n",
       "        97.5676,  97.5876,  97.6076,  97.6276,  97.6476,  97.6677,\n",
       "        97.6877,  97.7077,  97.7277,  97.7477,  97.7678,  97.7878,\n",
       "        97.8078,  97.8278,  97.8478,  97.8679,  97.8879,  97.9079,\n",
       "        97.9279,  97.9479,  97.968 ,  97.988 ,  98.008 ,  98.028 ,\n",
       "        98.048 ,  98.0681,  98.0881,  98.1081,  98.1281,  98.1481,\n",
       "        98.1682,  98.1882,  98.2082,  98.2282,  98.2482,  98.2683,\n",
       "        98.2883,  98.3083,  98.3283,  98.3483,  98.3684,  98.3884,\n",
       "        98.4084,  98.4284,  98.4484,  98.4685,  98.4885,  98.5085,\n",
       "        98.5285,  98.5485,  98.5686,  98.5886,  98.6086,  98.6286,\n",
       "        98.6486,  98.6687,  98.6887,  98.7087,  98.7287,  98.7487,\n",
       "        98.7688,  98.7888,  98.8088,  98.8288,  98.8488,  98.8689,\n",
       "        98.8889,  98.9089,  98.9289,  98.9489,  98.969 ,  98.989 ,\n",
       "        99.009 ,  99.029 ,  99.049 ,  99.0691,  99.0891,  99.1091,\n",
       "        99.1291,  99.1491,  99.1692,  99.1892,  99.2092,  99.2292,\n",
       "        99.2492,  99.2693,  99.2893,  99.3093,  99.3293,  99.3493,\n",
       "        99.3694,  99.3894,  99.4094,  99.4294,  99.4494,  99.4695,\n",
       "        99.4895,  99.5095,  99.5295,  99.5495,  99.5696,  99.5896,\n",
       "        99.6096,  99.6296,  99.6496,  99.6697,  99.6897,  99.7097,\n",
       "        99.7297,  99.7497,  99.7698,  99.7898,  99.8098,  99.8298,\n",
       "        99.8498,  99.8699,  99.8899,  99.9099,  99.9299,  99.9499,\n",
       "        99.97  ,  99.99  , 100.01  , 100.03  , 100.0501, 100.0701,\n",
       "       100.0901, 100.1101, 100.1301, 100.1502, 100.1702, 100.1902,\n",
       "       100.2102, 100.2302, 100.2503, 100.2703, 100.2903, 100.3103,\n",
       "       100.3303, 100.3504, 100.3704, 100.3904, 100.4104, 100.4304,\n",
       "       100.4505, 100.4705, 100.4905, 100.5105, 100.5305, 100.5506,\n",
       "       100.5706, 100.5906, 100.6106, 100.6306, 100.6507, 100.6707,\n",
       "       100.6907, 100.7107, 100.7307, 100.7508, 100.7708, 100.7908,\n",
       "       100.8108, 100.8308, 100.8509, 100.8709, 100.8909, 100.9109,\n",
       "       100.9309, 100.951 , 100.971 , 100.991 , 101.011 , 101.031 ,\n",
       "       101.0511, 101.0711, 101.0911, 101.1111, 101.1311, 101.1512,\n",
       "       101.1712, 101.1912, 101.2112, 101.2312, 101.2513, 101.2713,\n",
       "       101.2913, 101.3113, 101.3313, 101.3514, 101.3714, 101.3914,\n",
       "       101.4114, 101.4314, 101.4515, 101.4715, 101.4915, 101.5115,\n",
       "       101.5315, 101.5516, 101.5716, 101.5916, 101.6116, 101.6316,\n",
       "       101.6517, 101.6717, 101.6917, 101.7117, 101.7317, 101.7518,\n",
       "       101.7718, 101.7918, 101.8118, 101.8318, 101.8519, 101.8719,\n",
       "       101.8919, 101.9119, 101.9319, 101.952 , 101.972 , 101.992 ,\n",
       "       102.012 , 102.032 , 102.0521, 102.0721, 102.0921, 102.1121,\n",
       "       102.1321, 102.1522, 102.1722, 102.1922, 102.2122, 102.2322,\n",
       "       102.2523, 102.2723, 102.2923, 102.3123, 102.3323, 102.3524,\n",
       "       102.3724, 102.3924, 102.4124, 102.4324, 102.4525, 102.4725,\n",
       "       102.4925, 102.5125, 102.5325, 102.5526, 102.5726, 102.5926,\n",
       "       102.6126, 102.6326, 102.6527, 102.6727, 102.6927, 102.7127,\n",
       "       102.7327, 102.7528, 102.7728, 102.7928, 102.8128, 102.8328,\n",
       "       102.8529, 102.8729, 102.8929, 102.9129, 102.9329, 102.953 ,\n",
       "       102.973 , 102.993 , 103.013 , 103.033 , 103.0531, 103.0731,\n",
       "       103.0931, 103.1131, 103.1331, 103.1532, 103.1732, 103.1932,\n",
       "       103.2132, 103.2332, 103.2533, 103.2733, 103.2933, 103.3133,\n",
       "       103.3333, 103.3534, 103.3734, 103.3934, 103.4134, 103.4334,\n",
       "       103.4535, 103.4735, 103.4935, 103.5135, 103.5335, 103.5536,\n",
       "       103.5736, 103.5936, 103.6136, 103.6336, 103.6537, 103.6737,\n",
       "       103.6937, 103.7137, 103.7337, 103.7538, 103.7738, 103.7938,\n",
       "       103.8138, 103.8338, 103.8539, 103.8739, 103.8939, 103.9139,\n",
       "       103.9339, 103.954 , 103.974 , 103.994 , 104.014 , 104.034 ,\n",
       "       104.0541, 104.0741, 104.0941, 104.1141, 104.1341, 104.1542,\n",
       "       104.1742, 104.1942, 104.2142, 104.2342, 104.2543, 104.2743,\n",
       "       104.2943, 104.3143, 104.3343, 104.3544, 104.3744, 104.3944,\n",
       "       104.4144, 104.4344, 104.4545, 104.4745, 104.4945, 104.5145,\n",
       "       104.5345, 104.5546, 104.5746, 104.5946, 104.6146, 104.6346,\n",
       "       104.6547, 104.6747, 104.6947, 104.7147, 104.7347, 104.7548,\n",
       "       104.7748, 104.7948, 104.8148, 104.8348, 104.8549, 104.8749,\n",
       "       104.8949, 104.9149, 104.9349, 104.955 , 104.975 , 104.995 ,\n",
       "       105.015 , 105.035 , 105.0551, 105.0751, 105.0951, 105.1151,\n",
       "       105.1351, 105.1552, 105.1752, 105.1952, 105.2152, 105.2352,\n",
       "       105.2553, 105.2753, 105.2953, 105.3153, 105.3353, 105.3554,\n",
       "       105.3754, 105.3954, 105.4154, 105.4354, 105.4555, 105.4755,\n",
       "       105.4955, 105.5155, 105.5355, 105.5556, 105.5756, 105.5956,\n",
       "       105.6156, 105.6356, 105.6557, 105.6757, 105.6957, 105.7157,\n",
       "       105.7357, 105.7558, 105.7758, 105.7958, 105.8158, 105.8358,\n",
       "       105.8559, 105.8759, 105.8959, 105.9159, 105.9359, 105.956 ,\n",
       "       105.976 , 105.996 , 106.016 , 106.036 , 106.0561, 106.0761,\n",
       "       106.0961, 106.1161, 106.1361, 106.1562, 106.1762, 106.1962,\n",
       "       106.2162, 106.2362, 106.2563, 106.2763, 106.2963, 106.3163,\n",
       "       106.3363, 106.3564, 106.3764, 106.3964, 106.4164, 106.4364,\n",
       "       106.4565, 106.4765, 106.4965, 106.5165, 106.5365, 106.5566,\n",
       "       106.5766, 106.5966, 106.6166, 106.6366, 106.6567, 106.6767,\n",
       "       106.6967, 106.7167, 106.7367, 106.7568, 106.7768, 106.7968,\n",
       "       106.8168, 106.8368, 106.8569, 106.8769, 106.8969, 106.9169,\n",
       "       106.9369, 106.957 , 106.977 , 106.997 , 107.017 , 107.037 ,\n",
       "       107.0571, 107.0771, 107.0971, 107.1171, 107.1371, 107.1572,\n",
       "       107.1772, 107.1972, 107.2172, 107.2372, 107.2573, 107.2773,\n",
       "       107.2973, 107.3173, 107.3373, 107.3574, 107.3774, 107.3974,\n",
       "       107.4174, 107.4374, 107.4575, 107.4775, 107.4975, 107.5175,\n",
       "       107.5375, 107.5576, 107.5776, 107.5976, 107.6176, 107.6376,\n",
       "       107.6577, 107.6777, 107.6977, 107.7177, 107.7377, 107.7578,\n",
       "       107.7778, 107.7978, 107.8178, 107.8378, 107.8579, 107.8779,\n",
       "       107.8979, 107.9179, 107.9379, 107.958 , 107.978 , 107.998 ,\n",
       "       108.018 , 108.038 , 108.0581, 108.0781, 108.0981, 108.1181,\n",
       "       108.1381, 108.1582, 108.1782, 108.1982, 108.2182, 108.2382,\n",
       "       108.2583, 108.2783, 108.2983, 108.3183, 108.3383, 108.3584,\n",
       "       108.3784, 108.3984, 108.4184, 108.4384, 108.4585, 108.4785,\n",
       "       108.4985, 108.5185, 108.5385, 108.5586, 108.5786, 108.5986,\n",
       "       108.6186, 108.6386, 108.6587, 108.6787, 108.6987, 108.7187,\n",
       "       108.7387, 108.7588, 108.7788, 108.7988, 108.8188, 108.8388,\n",
       "       108.8589, 108.8789, 108.8989, 108.9189, 108.9389, 108.959 ,\n",
       "       108.979 , 108.999 , 109.019 , 109.039 , 109.0591, 109.0791,\n",
       "       109.0991, 109.1191, 109.1391, 109.1592, 109.1792, 109.1992,\n",
       "       109.2192, 109.2392, 109.2593, 109.2793, 109.2993, 109.3193,\n",
       "       109.3393, 109.3594, 109.3794, 109.3994, 109.4194, 109.4394,\n",
       "       109.4595, 109.4795, 109.4995, 109.5195, 109.5395, 109.5596,\n",
       "       109.5796, 109.5996, 109.6196, 109.6396, 109.6597, 109.6797,\n",
       "       109.6997, 109.7197, 109.7397, 109.7598, 109.7798, 109.7998,\n",
       "       109.8198, 109.8398, 109.8599, 109.8799, 109.8999, 109.9199,\n",
       "       109.9399, 109.96  , 109.98  , 110.    ])"
      ]
     },
     "execution_count": 70,
     "metadata": {},
     "output_type": "execute_result"
    }
   ],
   "source": [
    "x = np.linspace(90, 110, 1000)\n",
    "x"
   ]
  },
  {
   "cell_type": "code",
   "execution_count": 71,
   "id": "3046bfd6-5ae7-4692-80ac-060d1648a965",
   "metadata": {},
   "outputs": [],
   "source": [
    "y1 = stats.norm.pdf(x, loc = mu, scale = sigma)"
   ]
  },
  {
   "cell_type": "code",
   "execution_count": 72,
   "id": "f32e85a0-380f-4d00-8d29-26ef3ab51985",
   "metadata": {},
   "outputs": [
    {
     "data": {
      "image/png": "[encoded data removed]",
      "text/plain": [
       "<Figure size 1200x600 with 1 Axes>"
      ]
     },
     "metadata": {},
     "output_type": "display_data"
    }
   ],
   "source": [
    "plt.figure(figsize = (12,6))\n",
    "plt.hist(rand_data, density = True, bins = 1000)\n",
    "plt.plot(x, y1, linewidth = 3, color = 'red')\n",
    "plt.show()"
   ]
  },
  {
   "cell_type": "code",
   "execution_count": 73,
   "id": "d9670aeb-4961-43ba-a30a-f8c2929ef7f6",
   "metadata": {},
   "outputs": [],
   "source": [
    "y2 = stats.norm.cdf(x, loc = mu, scale = sigma)"
   ]
  },
  {
   "cell_type": "code",
   "execution_count": 74,
   "id": "ec2fd920-55d7-4a9f-bc0b-8d9dd2de5cac",
   "metadata": {},
   "outputs": [
    {
     "data": {
      "image/png": "[encoded data removed]",
      "text/plain": [
       "<Figure size 1200x600 with 1 Axes>"
      ]
     },
     "metadata": {},
     "output_type": "display_data"
    }
   ],
   "source": [
    "plt.figure(figsize = (12,6))\n",
    "plt.hist(rand_data, bins = 1000, density = True, cumulative = True)\n",
    "plt.plot(x, y2, linewidth = 3, color = 'red')\n",
    "plt.show()"
   ]
  },
  {
   "cell_type": "code",
   "execution_count": 75,
   "id": "5c06a430-07a8-42e3-b9dc-a957323e8012",
   "metadata": {},
   "outputs": [
    {
     "data": {
      "text/plain": [
       "100.00125900261469"
      ]
     },
     "execution_count": 75,
     "metadata": {},
     "output_type": "execute_result"
    }
   ],
   "source": [
    "mu = rand_data.mean()\n",
    "mu"
   ]
  },
  {
   "cell_type": "code",
   "execution_count": 76,
   "id": "85b0ae1e-0ca4-4a57-bcbb-4fdb41da2ca1",
   "metadata": {},
   "outputs": [
    {
     "data": {
      "text/plain": [
       "2.0005171072042"
      ]
     },
     "execution_count": 76,
     "metadata": {},
     "output_type": "execute_result"
    }
   ],
   "source": [
    "sigma = rand_data.std()\n",
    "sigma"
   ]
  },
  {
   "cell_type": "code",
   "execution_count": 77,
   "id": "4bc0c989-3001-4612-94fd-de3b2ed24960",
   "metadata": {},
   "outputs": [],
   "source": [
    "z_scores = (rand_data - mu) / sigma"
   ]
  },
  {
   "cell_type": "code",
   "execution_count": 78,
   "id": "985d5c77-3880-4a49-a9b8-d2a5efe9d8f7",
   "metadata": {},
   "outputs": [
    {
     "data": {
      "text/plain": [
       "array([-1.086 ,  0.9965,  0.2823, ..., -0.8481, -0.7386, -1.2931])"
      ]
     },
     "execution_count": 78,
     "metadata": {},
     "output_type": "execute_result"
    }
   ],
   "source": [
    "z_scores"
   ]
  },
  {
   "cell_type": "code",
   "execution_count": 79,
   "id": "9250571b-a4d3-4c51-baf0-79fa93561f19",
   "metadata": {},
   "outputs": [
    {
     "data": {
      "text/plain": [
       "array([-1.086 ,  0.9965,  0.2823, ..., -0.8481, -0.7386, -1.2931])"
      ]
     },
     "execution_count": 79,
     "metadata": {},
     "output_type": "execute_result"
    }
   ],
   "source": [
    "stats.zscore(rand_data)"
   ]
  },
  {
   "cell_type": "code",
   "execution_count": 80,
   "id": "e7cfa8ef-3956-4ff3-b511-0de9afbd1b0a",
   "metadata": {},
   "outputs": [
    {
     "data": {
      "text/plain": [
       "0.0"
      ]
     },
     "execution_count": 80,
     "metadata": {},
     "output_type": "execute_result"
    }
   ],
   "source": [
    "round(z_scores.mean(), 4)"
   ]
  },
  {
   "cell_type": "code",
   "execution_count": 81,
   "id": "ff195e7e-326b-468f-9f9a-212df8455273",
   "metadata": {},
   "outputs": [
    {
     "data": {
      "text/plain": [
       "0.9999999999999999"
      ]
     },
     "execution_count": 81,
     "metadata": {},
     "output_type": "execute_result"
    }
   ],
   "source": [
    "z_scores.std()"
   ]
  },
  {
   "cell_type": "code",
   "execution_count": 82,
   "id": "29aef758-00ff-482f-b86c-9bc1dc0e546f",
   "metadata": {},
   "outputs": [
    {
     "data": {
      "text/plain": [
       "0.00022861550244412926"
      ]
     },
     "execution_count": 82,
     "metadata": {},
     "output_type": "execute_result"
    }
   ],
   "source": [
    "stats.skew(z_scores)"
   ]
  },
  {
   "cell_type": "code",
   "execution_count": 83,
   "id": "bf0c6f78-719c-4c65-a9d3-116cafe025b1",
   "metadata": {},
   "outputs": [
    {
     "data": {
      "text/plain": [
       "-0.005837588254299586"
      ]
     },
     "execution_count": 83,
     "metadata": {},
     "output_type": "execute_result"
    }
   ],
   "source": [
    "stats.kurtosis(z_scores)"
   ]
  },
  {
   "cell_type": "markdown",
   "id": "3a3c5295-c9ad-4b20-a02d-74676c98ebe0",
   "metadata": {},
   "source": [
    "## **Properties of Standard normal distribution**"
   ]
  },
  {
   "cell_type": "code",
   "execution_count": 84,
   "id": "08078f27-7e05-4b1d-b583-988ebb5c8e3d",
   "metadata": {},
   "outputs": [
    {
     "data": {
      "text/plain": [
       "0.15865525393145707"
      ]
     },
     "execution_count": 84,
     "metadata": {},
     "output_type": "execute_result"
    }
   ],
   "source": [
    "stats.norm.cdf(-1, loc = 0, scale = 1)"
   ]
  },
  {
   "cell_type": "code",
   "execution_count": 85,
   "id": "d932d45c-120a-4b8e-b50a-b0b298662af4",
   "metadata": {},
   "outputs": [
    {
     "data": {
      "text/plain": [
       "0.8413447460685429"
      ]
     },
     "execution_count": 85,
     "metadata": {},
     "output_type": "execute_result"
    }
   ],
   "source": [
    "stats.norm.cdf(1, loc = 0, scale = 1)"
   ]
  },
  {
   "cell_type": "code",
   "execution_count": 86,
   "id": "bb5cc752-daca-4c82-8210-feba14c170b2",
   "metadata": {},
   "outputs": [
    {
     "data": {
      "text/plain": [
       "0.15865525393145707"
      ]
     },
     "execution_count": 86,
     "metadata": {},
     "output_type": "execute_result"
    }
   ],
   "source": [
    "1 - stats.norm.cdf(1, loc = 0, scale = 1)"
   ]
  },
  {
   "cell_type": "code",
   "execution_count": 87,
   "id": "a7deb8d6-1557-4e2e-ba03-47f2ab6676d9",
   "metadata": {},
   "outputs": [
    {
     "data": {
      "text/plain": [
       "0.6826894921370859"
      ]
     },
     "execution_count": 87,
     "metadata": {},
     "output_type": "execute_result"
    }
   ],
   "source": [
    "stats.norm.cdf(1, loc = 0, scale = 1) - stats.norm.cdf(-1, loc = 0, scale = 1)"
   ]
  },
  {
   "cell_type": "code",
   "execution_count": 88,
   "id": "136f9495-cbde-4fd9-ad4a-72e2905c0863",
   "metadata": {},
   "outputs": [
    {
     "data": {
      "text/plain": [
       "0.022750131948179195"
      ]
     },
     "execution_count": 88,
     "metadata": {},
     "output_type": "execute_result"
    }
   ],
   "source": [
    "stats.norm.cdf(-2, loc = 0, scale = 1)"
   ]
  },
  {
   "cell_type": "code",
   "execution_count": 89,
   "id": "db83bf4d-bf07-437f-bd90-491f38c1b2a2",
   "metadata": {},
   "outputs": [
    {
     "data": {
      "text/plain": [
       "0.9772498680518208"
      ]
     },
     "execution_count": 89,
     "metadata": {},
     "output_type": "execute_result"
    }
   ],
   "source": [
    "stats.norm.cdf(2, loc = 0, scale = 1)"
   ]
  },
  {
   "cell_type": "code",
   "execution_count": 90,
   "id": "d2fee3ce-e955-4e6b-aa96-7836ea0b94b1",
   "metadata": {},
   "outputs": [
    {
     "data": {
      "text/plain": [
       "0.02275013194817921"
      ]
     },
     "execution_count": 90,
     "metadata": {},
     "output_type": "execute_result"
    }
   ],
   "source": [
    "1 - stats.norm.cdf(2, loc = 0, scale = 1)"
   ]
  },
  {
   "cell_type": "code",
   "execution_count": 91,
   "id": "6f73e6e5-5f31-4a0e-b837-cb96febffa22",
   "metadata": {},
   "outputs": [
    {
     "data": {
      "text/plain": [
       "0.9544997361036416"
      ]
     },
     "execution_count": 91,
     "metadata": {},
     "output_type": "execute_result"
    }
   ],
   "source": [
    "stats.norm.cdf(2, loc = 0, scale = 1) - stats.norm.cdf(-2, loc = 0, scale = 1)"
   ]
  },
  {
   "cell_type": "code",
   "execution_count": 92,
   "id": "61c18b37-2408-4e39-8303-3bf000b3a4c6",
   "metadata": {},
   "outputs": [
    {
     "data": {
      "text/plain": [
       "100.00125900261469"
      ]
     },
     "execution_count": 92,
     "metadata": {},
     "output_type": "execute_result"
    }
   ],
   "source": [
    "rand_data.mean()"
   ]
  },
  {
   "cell_type": "code",
   "execution_count": 93,
   "id": "668e98e3-df77-42e9-a168-1f568350d4db",
   "metadata": {},
   "outputs": [],
   "source": [
    "minus_2_sigma = rand_data.mean() - (rand_data.std() * 2)"
   ]
  },
  {
   "cell_type": "code",
   "execution_count": 94,
   "id": "b5c57885-a96d-4ee7-85a0-b0ca820bb22d",
   "metadata": {},
   "outputs": [
    {
     "data": {
      "text/plain": [
       "96.00022478820628"
      ]
     },
     "execution_count": 94,
     "metadata": {},
     "output_type": "execute_result"
    }
   ],
   "source": [
    "minus_2_sigma"
   ]
  },
  {
   "cell_type": "code",
   "execution_count": 95,
   "id": "f7e251f6-cbc9-42e5-b341-45ce1bbad890",
   "metadata": {},
   "outputs": [
    {
     "data": {
      "text/plain": [
       "0.022783"
      ]
     },
     "execution_count": 95,
     "metadata": {},
     "output_type": "execute_result"
    }
   ],
   "source": [
    "(rand_data < minus_2_sigma).mean()"
   ]
  },
  {
   "cell_type": "code",
   "execution_count": 96,
   "id": "250b94c7-095d-4b3b-b904-9f6b6f7f5288",
   "metadata": {},
   "outputs": [],
   "source": [
    "plus_2_sigma = rand_data.mean() + (rand_data.std() * 2)"
   ]
  },
  {
   "cell_type": "code",
   "execution_count": 97,
   "id": "7c552479-bd29-499f-9401-6a6492650ebe",
   "metadata": {},
   "outputs": [
    {
     "data": {
      "text/plain": [
       "104.0022932170231"
      ]
     },
     "execution_count": 97,
     "metadata": {},
     "output_type": "execute_result"
    }
   ],
   "source": [
    "plus_2_sigma"
   ]
  },
  {
   "cell_type": "code",
   "execution_count": 98,
   "id": "47945fbe-e0e1-432b-922f-810524d3565a",
   "metadata": {},
   "outputs": [
    {
     "data": {
      "text/plain": [
       "0.022861"
      ]
     },
     "execution_count": 98,
     "metadata": {},
     "output_type": "execute_result"
    }
   ],
   "source": [
    "(rand_data > plus_2_sigma).mean()"
   ]
  },
  {
   "cell_type": "code",
   "execution_count": 99,
   "id": "4f1a8f78-a635-4515-8aa5-dad8eecd0a0a",
   "metadata": {},
   "outputs": [
    {
     "data": {
      "text/plain": [
       "0.977139"
      ]
     },
     "execution_count": 99,
     "metadata": {},
     "output_type": "execute_result"
    }
   ],
   "source": [
    "(rand_data < plus_2_sigma).mean()"
   ]
  },
  {
   "cell_type": "code",
   "execution_count": 100,
   "id": "486066c0-43d8-4fb3-9e51-cada3cdbea0a",
   "metadata": {},
   "outputs": [
    {
     "data": {
      "text/plain": [
       "0.9937679406729488"
      ]
     },
     "execution_count": 100,
     "metadata": {},
     "output_type": "execute_result"
    }
   ],
   "source": [
    "stats.norm.cdf(105, loc = rand_data.mean(), scale = rand_data.std())"
   ]
  },
  {
   "cell_type": "code",
   "execution_count": 101,
   "id": "1cd84041-7a42-485f-a291-dbdca03bf098",
   "metadata": {},
   "outputs": [
    {
     "data": {
      "text/plain": [
       "0.006232059327051176"
      ]
     },
     "execution_count": 101,
     "metadata": {},
     "output_type": "execute_result"
    }
   ],
   "source": [
    "1 - stats.norm.cdf(105, loc = rand_data.mean(), scale = rand_data.std())"
   ]
  },
  {
   "cell_type": "code",
   "execution_count": 102,
   "id": "ad7aa20e-78a3-416f-a20f-fb11a9a49498",
   "metadata": {},
   "outputs": [
    {
     "data": {
      "text/plain": [
       "2.4987244444868786"
      ]
     },
     "execution_count": 102,
     "metadata": {},
     "output_type": "execute_result"
    }
   ],
   "source": [
    "z_score = (105 - rand_data.mean()) / rand_data.std()\n",
    "z_score"
   ]
  },
  {
   "cell_type": "code",
   "execution_count": 103,
   "id": "fc180705-4649-44f8-8f9a-b9e258d8df97",
   "metadata": {},
   "outputs": [
    {
     "data": {
      "text/plain": [
       "0.9937679406729488"
      ]
     },
     "execution_count": 103,
     "metadata": {},
     "output_type": "execute_result"
    }
   ],
   "source": [
    "stats.norm.cdf(z_score)"
   ]
  },
  {
   "cell_type": "code",
   "execution_count": 104,
   "id": "f9bfc9bd-b235-4ab1-85bb-9e755735eb1b",
   "metadata": {},
   "outputs": [
    {
     "data": {
      "text/plain": [
       "0.0"
      ]
     },
     "execution_count": 104,
     "metadata": {},
     "output_type": "execute_result"
    }
   ],
   "source": [
    "stats.norm.ppf(q = 0.5, loc = 0, scale = 1)"
   ]
  },
  {
   "cell_type": "code",
   "execution_count": 105,
   "id": "62453639-5e05-49ce-a1c0-57a741005dd6",
   "metadata": {},
   "outputs": [
    {
     "data": {
      "text/plain": [
       "-1.6448536269514729"
      ]
     },
     "execution_count": 105,
     "metadata": {},
     "output_type": "execute_result"
    }
   ],
   "source": [
    "stats.norm.ppf(q = 0.05, loc = 0, scale = 1)"
   ]
  },
  {
   "cell_type": "code",
   "execution_count": 106,
   "id": "9e7cf683-8208-499b-87a6-78cfd2fcca2c",
   "metadata": {},
   "outputs": [
    {
     "data": {
      "text/plain": [
       "1.6448536269514722"
      ]
     },
     "execution_count": 106,
     "metadata": {},
     "output_type": "execute_result"
    }
   ],
   "source": [
    "stats.norm.ppf(q = 0.95, loc = 0, scale = 1)"
   ]
  },
  {
   "cell_type": "code",
   "execution_count": 107,
   "id": "1fc42a29-4478-47e2-a86f-7a645f7a56ca",
   "metadata": {},
   "outputs": [
    {
     "data": {
      "text/plain": [
       "100.00125900261469"
      ]
     },
     "execution_count": 107,
     "metadata": {},
     "output_type": "execute_result"
    }
   ],
   "source": [
    "stats.norm.ppf(q = 0.5, loc = rand_data.mean(), scale = rand_data.std())"
   ]
  },
  {
   "cell_type": "code",
   "execution_count": 108,
   "id": "dae1b16d-ac6b-4d2c-9f5a-bd5562533cb0",
   "metadata": {},
   "outputs": [
    {
     "data": {
      "text/plain": [
       "96.71070118305138"
      ]
     },
     "execution_count": 108,
     "metadata": {},
     "output_type": "execute_result"
    }
   ],
   "source": [
    "stats.norm.ppf(q = 0.05, loc = rand_data.mean(), scale = rand_data.std())"
   ]
  },
  {
   "cell_type": "code",
   "execution_count": 109,
   "id": "c20db79f-4f27-453c-9d70-bae2d72ff4d9",
   "metadata": {},
   "outputs": [
    {
     "data": {
      "text/plain": [
       "103.29181682217798"
      ]
     },
     "execution_count": 109,
     "metadata": {},
     "output_type": "execute_result"
    }
   ],
   "source": [
    "stats.norm.ppf(q = 0.95, loc = rand_data.mean(), scale = rand_data.std())"
   ]
  },
  {
   "cell_type": "code",
   "execution_count": 110,
   "id": "94ba0a1e-2fd7-4930-9a7d-d21fd29724aa",
   "metadata": {},
   "outputs": [],
   "source": [
    "conf = 0.90"
   ]
  },
  {
   "cell_type": "code",
   "execution_count": 111,
   "id": "371ebafc-6629-4f5c-9b42-fee5b60e76d8",
   "metadata": {},
   "outputs": [],
   "source": [
    "tails = (1 - conf) / 2"
   ]
  },
  {
   "cell_type": "code",
   "execution_count": 112,
   "id": "802563c6-f7f4-4178-8e25-ce7bb1475124",
   "metadata": {},
   "outputs": [
    {
     "data": {
      "text/plain": [
       "0.04999999999999999"
      ]
     },
     "execution_count": 112,
     "metadata": {},
     "output_type": "execute_result"
    }
   ],
   "source": [
    "tails"
   ]
  },
  {
   "cell_type": "code",
   "execution_count": 113,
   "id": "4a3a49d4-040d-4f4d-979b-780dd4ec729a",
   "metadata": {},
   "outputs": [],
   "source": [
    "left_boundary = stats.norm.ppf(tails)"
   ]
  },
  {
   "cell_type": "code",
   "execution_count": 114,
   "id": "cbcf156a-766f-4ef3-a438-12f9fce0c11f",
   "metadata": {},
   "outputs": [
    {
     "data": {
      "text/plain": [
       "-1.6448536269514729"
      ]
     },
     "execution_count": 114,
     "metadata": {},
     "output_type": "execute_result"
    }
   ],
   "source": [
    "left_boundary"
   ]
  },
  {
   "cell_type": "code",
   "execution_count": 115,
   "id": "58b8a7f3-41d9-492b-95e4-b9288525b73b",
   "metadata": {},
   "outputs": [],
   "source": [
    "right_boundary = stats.norm.ppf(1 - tails)"
   ]
  },
  {
   "cell_type": "code",
   "execution_count": 116,
   "id": "3929a74d-bab1-46e4-92bb-99f12b5b96dd",
   "metadata": {},
   "outputs": [
    {
     "data": {
      "text/plain": [
       "1.6448536269514722"
      ]
     },
     "execution_count": 116,
     "metadata": {},
     "output_type": "execute_result"
    }
   ],
   "source": [
    "right_boundary"
   ]
  },
  {
   "cell_type": "code",
   "execution_count": 117,
   "id": "5a559b35-9ec3-4ec4-be51-2a31a12c4041",
   "metadata": {},
   "outputs": [
    {
     "data": {
      "text/plain": [
       "(-1.6448536269514729, 1.6448536269514722)"
      ]
     },
     "execution_count": 117,
     "metadata": {},
     "output_type": "execute_result"
    }
   ],
   "source": [
    "stats.norm.interval(conf)"
   ]
  },
  {
   "cell_type": "code",
   "execution_count": 118,
   "id": "85a0aa57-e04a-4878-86bb-1ec595adafad",
   "metadata": {},
   "outputs": [
    {
     "data": {
      "text/plain": [
       "(96.71070118305138, 103.29181682217798)"
      ]
     },
     "execution_count": 118,
     "metadata": {},
     "output_type": "execute_result"
    }
   ],
   "source": [
    "stats.norm.interval(conf, loc = rand_data.mean(), scale = rand_data.std())"
   ]
  },
  {
   "cell_type": "code",
   "execution_count": 119,
   "id": "219e6789-7d3e-4c35-8aef-1edcea9fbae3",
   "metadata": {},
   "outputs": [],
   "source": [
    "conf1 = 0.95"
   ]
  },
  {
   "cell_type": "code",
   "execution_count": 120,
   "id": "f007397d-2d23-420e-8a11-ed1295ea76b3",
   "metadata": {},
   "outputs": [
    {
     "data": {
      "text/plain": [
       "(96.0803175220382, 103.92220048319118)"
      ]
     },
     "execution_count": 120,
     "metadata": {},
     "output_type": "execute_result"
    }
   ],
   "source": [
    "stats.norm.interval(conf1, loc = rand_data.mean(), scale = rand_data.std())"
   ]
  },
  {
   "cell_type": "markdown",
   "id": "1035806e-2b58-48b3-a5d3-b1e6f1f02438",
   "metadata": {},
   "source": [
    "## **Covariance and correlation coeffitient**"
   ]
  },
  {
   "cell_type": "code",
   "execution_count": 121,
   "id": "fb26dba1-76ac-4600-8b81-319a7a36196f",
   "metadata": {},
   "outputs": [],
   "source": [
    "import pandas as pd"
   ]
  },
  {
   "cell_type": "code",
   "execution_count": 132,
   "id": "efb2dee6-7ac0-4201-ad14-fcd60b4f26c8",
   "metadata": {},
   "outputs": [],
   "source": [
    "movies = pd.read_csv('movies_metadata.csv', low_memory = False)"
   ]
  },
  {
   "cell_type": "code",
   "execution_count": 131,
   "id": "24d748b9-c733-4cf8-8948-bf6b82a747b3",
   "metadata": {},
   "outputs": [
    {
     "data": {
      "text/html": [
       "<div>\n",
       "<style scoped>\n",
       "    .dataframe tbody tr th:only-of-type {\n",
       "        vertical-align: middle;\n",
       "    }\n",
       "\n",
       "    .dataframe tbody tr th {\n",
       "        vertical-align: top;\n",
       "    }\n",
       "\n",
       "    .dataframe thead th {\n",
       "        text-align: right;\n",
       "    }\n",
       "</style>\n",
       "<table border=\"1\" class=\"dataframe\">\n",
       "  <thead>\n",
       "    <tr style=\"text-align: right;\">\n",
       "      <th></th>\n",
       "      <th>adult</th>\n",
       "      <th>belongs_to_collection</th>\n",
       "      <th>budget</th>\n",
       "      <th>genres</th>\n",
       "      <th>homepage</th>\n",
       "      <th>id</th>\n",
       "      <th>imdb_id</th>\n",
       "      <th>original_language</th>\n",
       "      <th>original_title</th>\n",
       "      <th>overview</th>\n",
       "      <th>...</th>\n",
       "      <th>release_date</th>\n",
       "      <th>revenue</th>\n",
       "      <th>runtime</th>\n",
       "      <th>spoken_languages</th>\n",
       "      <th>status</th>\n",
       "      <th>tagline</th>\n",
       "      <th>title</th>\n",
       "      <th>video</th>\n",
       "      <th>vote_average</th>\n",
       "      <th>vote_count</th>\n",
       "    </tr>\n",
       "  </thead>\n",
       "  <tbody>\n",
       "    <tr>\n",
       "      <th>0</th>\n",
       "      <td>False</td>\n",
       "      <td>{'id': 10194, 'name': 'Toy Story Collection', ...</td>\n",
       "      <td>30000000</td>\n",
       "      <td>[{'id': 16, 'name': 'Animation'}, {'id': 35, '...</td>\n",
       "      <td>http://toystory.disney.com/toy-story</td>\n",
       "      <td>862</td>\n",
       "      <td>tt0114709</td>\n",
       "      <td>en</td>\n",
       "      <td>Toy Story</td>\n",
       "      <td>Led by Woody, Andy's toys live happily in his ...</td>\n",
       "      <td>...</td>\n",
       "      <td>1995-10-30</td>\n",
       "      <td>373554033.0</td>\n",
       "      <td>81.0</td>\n",
       "      <td>[{'iso_639_1': 'en', 'name': 'English'}]</td>\n",
       "      <td>Released</td>\n",
       "      <td>NaN</td>\n",
       "      <td>Toy Story</td>\n",
       "      <td>False</td>\n",
       "      <td>7.7</td>\n",
       "      <td>5415.0</td>\n",
       "    </tr>\n",
       "    <tr>\n",
       "      <th>1</th>\n",
       "      <td>False</td>\n",
       "      <td>NaN</td>\n",
       "      <td>65000000</td>\n",
       "      <td>[{'id': 12, 'name': 'Adventure'}, {'id': 14, '...</td>\n",
       "      <td>NaN</td>\n",
       "      <td>8844</td>\n",
       "      <td>tt0113497</td>\n",
       "      <td>en</td>\n",
       "      <td>Jumanji</td>\n",
       "      <td>When siblings Judy and Peter discover an encha...</td>\n",
       "      <td>...</td>\n",
       "      <td>1995-12-15</td>\n",
       "      <td>262797249.0</td>\n",
       "      <td>104.0</td>\n",
       "      <td>[{'iso_639_1': 'en', 'name': 'English'}, {'iso...</td>\n",
       "      <td>Released</td>\n",
       "      <td>Roll the dice and unleash the excitement!</td>\n",
       "      <td>Jumanji</td>\n",
       "      <td>False</td>\n",
       "      <td>6.9</td>\n",
       "      <td>2413.0</td>\n",
       "    </tr>\n",
       "    <tr>\n",
       "      <th>2</th>\n",
       "      <td>False</td>\n",
       "      <td>{'id': 119050, 'name': 'Grumpy Old Men Collect...</td>\n",
       "      <td>0</td>\n",
       "      <td>[{'id': 10749, 'name': 'Romance'}, {'id': 35, ...</td>\n",
       "      <td>NaN</td>\n",
       "      <td>15602</td>\n",
       "      <td>tt0113228</td>\n",
       "      <td>en</td>\n",
       "      <td>Grumpier Old Men</td>\n",
       "      <td>A family wedding reignites the ancient feud be...</td>\n",
       "      <td>...</td>\n",
       "      <td>1995-12-22</td>\n",
       "      <td>0.0</td>\n",
       "      <td>101.0</td>\n",
       "      <td>[{'iso_639_1': 'en', 'name': 'English'}]</td>\n",
       "      <td>Released</td>\n",
       "      <td>Still Yelling. Still Fighting. Still Ready for...</td>\n",
       "      <td>Grumpier Old Men</td>\n",
       "      <td>False</td>\n",
       "      <td>6.5</td>\n",
       "      <td>92.0</td>\n",
       "    </tr>\n",
       "    <tr>\n",
       "      <th>3</th>\n",
       "      <td>False</td>\n",
       "      <td>NaN</td>\n",
       "      <td>16000000</td>\n",
       "      <td>[{'id': 35, 'name': 'Comedy'}, {'id': 18, 'nam...</td>\n",
       "      <td>NaN</td>\n",
       "      <td>31357</td>\n",
       "      <td>tt0114885</td>\n",
       "      <td>en</td>\n",
       "      <td>Waiting to Exhale</td>\n",
       "      <td>Cheated on, mistreated and stepped on, the wom...</td>\n",
       "      <td>...</td>\n",
       "      <td>1995-12-22</td>\n",
       "      <td>81452156.0</td>\n",
       "      <td>127.0</td>\n",
       "      <td>[{'iso_639_1': 'en', 'name': 'English'}]</td>\n",
       "      <td>Released</td>\n",
       "      <td>Friends are the people who let you be yourself...</td>\n",
       "      <td>Waiting to Exhale</td>\n",
       "      <td>False</td>\n",
       "      <td>6.1</td>\n",
       "      <td>34.0</td>\n",
       "    </tr>\n",
       "    <tr>\n",
       "      <th>4</th>\n",
       "      <td>False</td>\n",
       "      <td>{'id': 96871, 'name': 'Father of the Bride Col...</td>\n",
       "      <td>0</td>\n",
       "      <td>[{'id': 35, 'name': 'Comedy'}]</td>\n",
       "      <td>NaN</td>\n",
       "      <td>11862</td>\n",
       "      <td>tt0113041</td>\n",
       "      <td>en</td>\n",
       "      <td>Father of the Bride Part II</td>\n",
       "      <td>Just when George Banks has recovered from his ...</td>\n",
       "      <td>...</td>\n",
       "      <td>1995-02-10</td>\n",
       "      <td>76578911.0</td>\n",
       "      <td>106.0</td>\n",
       "      <td>[{'iso_639_1': 'en', 'name': 'English'}]</td>\n",
       "      <td>Released</td>\n",
       "      <td>Just When His World Is Back To Normal... He's ...</td>\n",
       "      <td>Father of the Bride Part II</td>\n",
       "      <td>False</td>\n",
       "      <td>5.7</td>\n",
       "      <td>173.0</td>\n",
       "    </tr>\n",
       "    <tr>\n",
       "      <th>...</th>\n",
       "      <td>...</td>\n",
       "      <td>...</td>\n",
       "      <td>...</td>\n",
       "      <td>...</td>\n",
       "      <td>...</td>\n",
       "      <td>...</td>\n",
       "      <td>...</td>\n",
       "      <td>...</td>\n",
       "      <td>...</td>\n",
       "      <td>...</td>\n",
       "      <td>...</td>\n",
       "      <td>...</td>\n",
       "      <td>...</td>\n",
       "      <td>...</td>\n",
       "      <td>...</td>\n",
       "      <td>...</td>\n",
       "      <td>...</td>\n",
       "      <td>...</td>\n",
       "      <td>...</td>\n",
       "      <td>...</td>\n",
       "      <td>...</td>\n",
       "    </tr>\n",
       "    <tr>\n",
       "      <th>45461</th>\n",
       "      <td>False</td>\n",
       "      <td>NaN</td>\n",
       "      <td>0</td>\n",
       "      <td>[{'id': 18, 'name': 'Drama'}, {'id': 10751, 'n...</td>\n",
       "      <td>http://www.imdb.com/title/tt6209470/</td>\n",
       "      <td>439050</td>\n",
       "      <td>tt6209470</td>\n",
       "      <td>fa</td>\n",
       "      <td>رگ خواب</td>\n",
       "      <td>Rising and falling between a man and woman.</td>\n",
       "      <td>...</td>\n",
       "      <td>NaN</td>\n",
       "      <td>0.0</td>\n",
       "      <td>90.0</td>\n",
       "      <td>[{'iso_639_1': 'fa', 'name': 'فارسی'}]</td>\n",
       "      <td>Released</td>\n",
       "      <td>Rising and falling between a man and woman</td>\n",
       "      <td>Subdue</td>\n",
       "      <td>False</td>\n",
       "      <td>4.0</td>\n",
       "      <td>1.0</td>\n",
       "    </tr>\n",
       "    <tr>\n",
       "      <th>45462</th>\n",
       "      <td>False</td>\n",
       "      <td>NaN</td>\n",
       "      <td>0</td>\n",
       "      <td>[{'id': 18, 'name': 'Drama'}]</td>\n",
       "      <td>NaN</td>\n",
       "      <td>111109</td>\n",
       "      <td>tt2028550</td>\n",
       "      <td>tl</td>\n",
       "      <td>Siglo ng Pagluluwal</td>\n",
       "      <td>An artist struggles to finish his work while a...</td>\n",
       "      <td>...</td>\n",
       "      <td>2011-11-17</td>\n",
       "      <td>0.0</td>\n",
       "      <td>360.0</td>\n",
       "      <td>[{'iso_639_1': 'tl', 'name': ''}]</td>\n",
       "      <td>Released</td>\n",
       "      <td>NaN</td>\n",
       "      <td>Century of Birthing</td>\n",
       "      <td>False</td>\n",
       "      <td>9.0</td>\n",
       "      <td>3.0</td>\n",
       "    </tr>\n",
       "    <tr>\n",
       "      <th>45463</th>\n",
       "      <td>False</td>\n",
       "      <td>NaN</td>\n",
       "      <td>0</td>\n",
       "      <td>[{'id': 28, 'name': 'Action'}, {'id': 18, 'nam...</td>\n",
       "      <td>NaN</td>\n",
       "      <td>67758</td>\n",
       "      <td>tt0303758</td>\n",
       "      <td>en</td>\n",
       "      <td>Betrayal</td>\n",
       "      <td>When one of her hits goes wrong, a professiona...</td>\n",
       "      <td>...</td>\n",
       "      <td>2003-08-01</td>\n",
       "      <td>0.0</td>\n",
       "      <td>90.0</td>\n",
       "      <td>[{'iso_639_1': 'en', 'name': 'English'}]</td>\n",
       "      <td>Released</td>\n",
       "      <td>A deadly game of wits.</td>\n",
       "      <td>Betrayal</td>\n",
       "      <td>False</td>\n",
       "      <td>3.8</td>\n",
       "      <td>6.0</td>\n",
       "    </tr>\n",
       "    <tr>\n",
       "      <th>45464</th>\n",
       "      <td>False</td>\n",
       "      <td>NaN</td>\n",
       "      <td>0</td>\n",
       "      <td>[]</td>\n",
       "      <td>NaN</td>\n",
       "      <td>227506</td>\n",
       "      <td>tt0008536</td>\n",
       "      <td>en</td>\n",
       "      <td>Satana likuyushchiy</td>\n",
       "      <td>In a small town live two brothers, one a minis...</td>\n",
       "      <td>...</td>\n",
       "      <td>1917-10-21</td>\n",
       "      <td>0.0</td>\n",
       "      <td>87.0</td>\n",
       "      <td>[]</td>\n",
       "      <td>Released</td>\n",
       "      <td>NaN</td>\n",
       "      <td>Satan Triumphant</td>\n",
       "      <td>False</td>\n",
       "      <td>0.0</td>\n",
       "      <td>0.0</td>\n",
       "    </tr>\n",
       "    <tr>\n",
       "      <th>45465</th>\n",
       "      <td>False</td>\n",
       "      <td>NaN</td>\n",
       "      <td>0</td>\n",
       "      <td>[]</td>\n",
       "      <td>NaN</td>\n",
       "      <td>461257</td>\n",
       "      <td>tt6980792</td>\n",
       "      <td>en</td>\n",
       "      <td>Queerama</td>\n",
       "      <td>50 years after decriminalisation of homosexual...</td>\n",
       "      <td>...</td>\n",
       "      <td>2017-06-09</td>\n",
       "      <td>0.0</td>\n",
       "      <td>75.0</td>\n",
       "      <td>[{'iso_639_1': 'en', 'name': 'English'}]</td>\n",
       "      <td>Released</td>\n",
       "      <td>NaN</td>\n",
       "      <td>Queerama</td>\n",
       "      <td>False</td>\n",
       "      <td>0.0</td>\n",
       "      <td>0.0</td>\n",
       "    </tr>\n",
       "  </tbody>\n",
       "</table>\n",
       "<p>45466 rows × 24 columns</p>\n",
       "</div>"
      ],
      "text/plain": [
       "       adult                              belongs_to_collection    budget  \\\n",
       "0      False  {'id': 10194, 'name': 'Toy Story Collection', ...  30000000   \n",
       "1      False                                                NaN  65000000   \n",
       "2      False  {'id': 119050, 'name': 'Grumpy Old Men Collect...         0   \n",
       "3      False                                                NaN  16000000   \n",
       "4      False  {'id': 96871, 'name': 'Father of the Bride Col...         0   \n",
       "...      ...                                                ...       ...   \n",
       "45461  False                                                NaN         0   \n",
       "45462  False                                                NaN         0   \n",
       "45463  False                                                NaN         0   \n",
       "45464  False                                                NaN         0   \n",
       "45465  False                                                NaN         0   \n",
       "\n",
       "                                                  genres  \\\n",
       "0      [{'id': 16, 'name': 'Animation'}, {'id': 35, '...   \n",
       "1      [{'id': 12, 'name': 'Adventure'}, {'id': 14, '...   \n",
       "2      [{'id': 10749, 'name': 'Romance'}, {'id': 35, ...   \n",
       "3      [{'id': 35, 'name': 'Comedy'}, {'id': 18, 'nam...   \n",
       "4                         [{'id': 35, 'name': 'Comedy'}]   \n",
       "...                                                  ...   \n",
       "45461  [{'id': 18, 'name': 'Drama'}, {'id': 10751, 'n...   \n",
       "45462                      [{'id': 18, 'name': 'Drama'}]   \n",
       "45463  [{'id': 28, 'name': 'Action'}, {'id': 18, 'nam...   \n",
       "45464                                                 []   \n",
       "45465                                                 []   \n",
       "\n",
       "                                   homepage      id    imdb_id  \\\n",
       "0      http://toystory.disney.com/toy-story     862  tt0114709   \n",
       "1                                       NaN    8844  tt0113497   \n",
       "2                                       NaN   15602  tt0113228   \n",
       "3                                       NaN   31357  tt0114885   \n",
       "4                                       NaN   11862  tt0113041   \n",
       "...                                     ...     ...        ...   \n",
       "45461  http://www.imdb.com/title/tt6209470/  439050  tt6209470   \n",
       "45462                                   NaN  111109  tt2028550   \n",
       "45463                                   NaN   67758  tt0303758   \n",
       "45464                                   NaN  227506  tt0008536   \n",
       "45465                                   NaN  461257  tt6980792   \n",
       "\n",
       "      original_language               original_title  \\\n",
       "0                    en                    Toy Story   \n",
       "1                    en                      Jumanji   \n",
       "2                    en             Grumpier Old Men   \n",
       "3                    en            Waiting to Exhale   \n",
       "4                    en  Father of the Bride Part II   \n",
       "...                 ...                          ...   \n",
       "45461                fa                      رگ خواب   \n",
       "45462                tl          Siglo ng Pagluluwal   \n",
       "45463                en                     Betrayal   \n",
       "45464                en          Satana likuyushchiy   \n",
       "45465                en                     Queerama   \n",
       "\n",
       "                                                overview  ... release_date  \\\n",
       "0      Led by Woody, Andy's toys live happily in his ...  ...   1995-10-30   \n",
       "1      When siblings Judy and Peter discover an encha...  ...   1995-12-15   \n",
       "2      A family wedding reignites the ancient feud be...  ...   1995-12-22   \n",
       "3      Cheated on, mistreated and stepped on, the wom...  ...   1995-12-22   \n",
       "4      Just when George Banks has recovered from his ...  ...   1995-02-10   \n",
       "...                                                  ...  ...          ...   \n",
       "45461        Rising and falling between a man and woman.  ...          NaN   \n",
       "45462  An artist struggles to finish his work while a...  ...   2011-11-17   \n",
       "45463  When one of her hits goes wrong, a professiona...  ...   2003-08-01   \n",
       "45464  In a small town live two brothers, one a minis...  ...   1917-10-21   \n",
       "45465  50 years after decriminalisation of homosexual...  ...   2017-06-09   \n",
       "\n",
       "           revenue runtime                                   spoken_languages  \\\n",
       "0      373554033.0    81.0           [{'iso_639_1': 'en', 'name': 'English'}]   \n",
       "1      262797249.0   104.0  [{'iso_639_1': 'en', 'name': 'English'}, {'iso...   \n",
       "2              0.0   101.0           [{'iso_639_1': 'en', 'name': 'English'}]   \n",
       "3       81452156.0   127.0           [{'iso_639_1': 'en', 'name': 'English'}]   \n",
       "4       76578911.0   106.0           [{'iso_639_1': 'en', 'name': 'English'}]   \n",
       "...            ...     ...                                                ...   \n",
       "45461          0.0    90.0             [{'iso_639_1': 'fa', 'name': 'فارسی'}]   \n",
       "45462          0.0   360.0                  [{'iso_639_1': 'tl', 'name': ''}]   \n",
       "45463          0.0    90.0           [{'iso_639_1': 'en', 'name': 'English'}]   \n",
       "45464          0.0    87.0                                                 []   \n",
       "45465          0.0    75.0           [{'iso_639_1': 'en', 'name': 'English'}]   \n",
       "\n",
       "         status                                            tagline  \\\n",
       "0      Released                                                NaN   \n",
       "1      Released          Roll the dice and unleash the excitement!   \n",
       "2      Released  Still Yelling. Still Fighting. Still Ready for...   \n",
       "3      Released  Friends are the people who let you be yourself...   \n",
       "4      Released  Just When His World Is Back To Normal... He's ...   \n",
       "...         ...                                                ...   \n",
       "45461  Released         Rising and falling between a man and woman   \n",
       "45462  Released                                                NaN   \n",
       "45463  Released                             A deadly game of wits.   \n",
       "45464  Released                                                NaN   \n",
       "45465  Released                                                NaN   \n",
       "\n",
       "                             title  video vote_average vote_count  \n",
       "0                        Toy Story  False          7.7     5415.0  \n",
       "1                          Jumanji  False          6.9     2413.0  \n",
       "2                 Grumpier Old Men  False          6.5       92.0  \n",
       "3                Waiting to Exhale  False          6.1       34.0  \n",
       "4      Father of the Bride Part II  False          5.7      173.0  \n",
       "...                            ...    ...          ...        ...  \n",
       "45461                       Subdue  False          4.0        1.0  \n",
       "45462          Century of Birthing  False          9.0        3.0  \n",
       "45463                     Betrayal  False          3.8        6.0  \n",
       "45464             Satan Triumphant  False          0.0        0.0  \n",
       "45465                     Queerama  False          0.0        0.0  \n",
       "\n",
       "[45466 rows x 24 columns]"
      ]
     },
     "execution_count": 131,
     "metadata": {},
     "output_type": "execute_result"
    }
   ],
   "source": [
    "movies"
   ]
  },
  {
   "cell_type": "code",
   "execution_count": 134,
   "id": "056326be-17b8-4b66-b343-5300c1061224",
   "metadata": {},
   "outputs": [
    {
     "name": "stdout",
     "output_type": "stream",
     "text": [
      "<class 'pandas.core.frame.DataFrame'>\n",
      "RangeIndex: 45466 entries, 0 to 45465\n",
      "Data columns (total 24 columns):\n",
      " #   Column                 Non-Null Count  Dtype  \n",
      "---  ------                 --------------  -----  \n",
      " 0   adult                  45466 non-null  object \n",
      " 1   belongs_to_collection  4494 non-null   object \n",
      " 2   budget                 45466 non-null  object \n",
      " 3   genres                 45466 non-null  object \n",
      " 4   homepage               7782 non-null   object \n",
      " 5   id                     45466 non-null  object \n",
      " 6   imdb_id                45449 non-null  object \n",
      " 7   original_language      45455 non-null  object \n",
      " 8   original_title         45466 non-null  object \n",
      " 9   overview               44512 non-null  object \n",
      " 10  popularity             45461 non-null  object \n",
      " 11  poster_path            45080 non-null  object \n",
      " 12  production_companies   45463 non-null  object \n",
      " 13  production_countries   45463 non-null  object \n",
      " 14  release_date           45379 non-null  object \n",
      " 15  revenue                45460 non-null  float64\n",
      " 16  runtime                45203 non-null  float64\n",
      " 17  spoken_languages       45460 non-null  object \n",
      " 18  status                 45379 non-null  object \n",
      " 19  tagline                20412 non-null  object \n",
      " 20  title                  45460 non-null  object \n",
      " 21  video                  45460 non-null  object \n",
      " 22  vote_average           45460 non-null  float64\n",
      " 23  vote_count             45460 non-null  float64\n",
      "dtypes: float64(4), object(20)\n",
      "memory usage: 8.3+ MB\n"
     ]
    }
   ],
   "source": [
    "movies.info()"
   ]
  },
  {
   "cell_type": "code",
   "execution_count": 135,
   "id": "044d239c-3f77-433d-b5b8-6e2f8c36068e",
   "metadata": {},
   "outputs": [
    {
     "data": {
      "text/html": [
       "<div>\n",
       "<style scoped>\n",
       "    .dataframe tbody tr th:only-of-type {\n",
       "        vertical-align: middle;\n",
       "    }\n",
       "\n",
       "    .dataframe tbody tr th {\n",
       "        vertical-align: top;\n",
       "    }\n",
       "\n",
       "    .dataframe thead th {\n",
       "        text-align: right;\n",
       "    }\n",
       "</style>\n",
       "<table border=\"1\" class=\"dataframe\">\n",
       "  <thead>\n",
       "    <tr style=\"text-align: right;\">\n",
       "      <th></th>\n",
       "      <th>revenue</th>\n",
       "      <th>runtime</th>\n",
       "      <th>vote_average</th>\n",
       "      <th>vote_count</th>\n",
       "    </tr>\n",
       "  </thead>\n",
       "  <tbody>\n",
       "    <tr>\n",
       "      <th>count</th>\n",
       "      <td>4.546000e+04</td>\n",
       "      <td>45203.000000</td>\n",
       "      <td>45460.000000</td>\n",
       "      <td>45460.000000</td>\n",
       "    </tr>\n",
       "    <tr>\n",
       "      <th>mean</th>\n",
       "      <td>1.120935e+07</td>\n",
       "      <td>94.128199</td>\n",
       "      <td>5.618207</td>\n",
       "      <td>109.897338</td>\n",
       "    </tr>\n",
       "    <tr>\n",
       "      <th>std</th>\n",
       "      <td>6.433225e+07</td>\n",
       "      <td>38.407810</td>\n",
       "      <td>1.924216</td>\n",
       "      <td>491.310374</td>\n",
       "    </tr>\n",
       "    <tr>\n",
       "      <th>min</th>\n",
       "      <td>0.000000e+00</td>\n",
       "      <td>0.000000</td>\n",
       "      <td>0.000000</td>\n",
       "      <td>0.000000</td>\n",
       "    </tr>\n",
       "    <tr>\n",
       "      <th>25%</th>\n",
       "      <td>0.000000e+00</td>\n",
       "      <td>85.000000</td>\n",
       "      <td>5.000000</td>\n",
       "      <td>3.000000</td>\n",
       "    </tr>\n",
       "    <tr>\n",
       "      <th>50%</th>\n",
       "      <td>0.000000e+00</td>\n",
       "      <td>95.000000</td>\n",
       "      <td>6.000000</td>\n",
       "      <td>10.000000</td>\n",
       "    </tr>\n",
       "    <tr>\n",
       "      <th>75%</th>\n",
       "      <td>0.000000e+00</td>\n",
       "      <td>107.000000</td>\n",
       "      <td>6.800000</td>\n",
       "      <td>34.000000</td>\n",
       "    </tr>\n",
       "    <tr>\n",
       "      <th>max</th>\n",
       "      <td>2.787965e+09</td>\n",
       "      <td>1256.000000</td>\n",
       "      <td>10.000000</td>\n",
       "      <td>14075.000000</td>\n",
       "    </tr>\n",
       "  </tbody>\n",
       "</table>\n",
       "</div>"
      ],
      "text/plain": [
       "            revenue       runtime  vote_average    vote_count\n",
       "count  4.546000e+04  45203.000000  45460.000000  45460.000000\n",
       "mean   1.120935e+07     94.128199      5.618207    109.897338\n",
       "std    6.433225e+07     38.407810      1.924216    491.310374\n",
       "min    0.000000e+00      0.000000      0.000000      0.000000\n",
       "25%    0.000000e+00     85.000000      5.000000      3.000000\n",
       "50%    0.000000e+00     95.000000      6.000000     10.000000\n",
       "75%    0.000000e+00    107.000000      6.800000     34.000000\n",
       "max    2.787965e+09   1256.000000     10.000000  14075.000000"
      ]
     },
     "execution_count": 135,
     "metadata": {},
     "output_type": "execute_result"
    }
   ],
   "source": [
    "movies.describe()"
   ]
  },
  {
   "cell_type": "code",
   "execution_count": 144,
   "id": "e134c695-b510-451c-a924-c253b76624f3",
   "metadata": {},
   "outputs": [
    {
     "data": {
      "text/plain": [
       "0       1995-10-30\n",
       "1       1995-12-15\n",
       "2       1995-12-22\n",
       "3       1995-12-22\n",
       "4       1995-02-10\n",
       "           ...    \n",
       "45461          NaT\n",
       "45462   2011-11-17\n",
       "45463   2003-08-01\n",
       "45464   1917-10-21\n",
       "45465   2017-06-09\n",
       "Name: release_date, Length: 45466, dtype: datetime64[ns]"
      ]
     },
     "execution_count": 144,
     "metadata": {},
     "output_type": "execute_result"
    }
   ],
   "source": [
    "pd.to_datetime(movies.release_date, errors = 'coerce')"
   ]
  },
  {
   "cell_type": "code",
   "execution_count": 148,
   "id": "7a49fece-9c26-482a-9ddd-542b8296239e",
   "metadata": {},
   "outputs": [],
   "source": [
    "movies = movies.set_index(pd.to_datetime(movies.release_date, errors = 'coerce')).drop(columns = ['release_date'])"
   ]
  },
  {
   "cell_type": "code",
   "execution_count": 149,
   "id": "33a3a4b0-7189-4468-be0f-2fead7303579",
   "metadata": {},
   "outputs": [
    {
     "data": {
      "text/html": [
       "<div>\n",
       "<style scoped>\n",
       "    .dataframe tbody tr th:only-of-type {\n",
       "        vertical-align: middle;\n",
       "    }\n",
       "\n",
       "    .dataframe tbody tr th {\n",
       "        vertical-align: top;\n",
       "    }\n",
       "\n",
       "    .dataframe thead th {\n",
       "        text-align: right;\n",
       "    }\n",
       "</style>\n",
       "<table border=\"1\" class=\"dataframe\">\n",
       "  <thead>\n",
       "    <tr style=\"text-align: right;\">\n",
       "      <th></th>\n",
       "      <th>adult</th>\n",
       "      <th>belongs_to_collection</th>\n",
       "      <th>budget</th>\n",
       "      <th>genres</th>\n",
       "      <th>homepage</th>\n",
       "      <th>id</th>\n",
       "      <th>imdb_id</th>\n",
       "      <th>original_language</th>\n",
       "      <th>original_title</th>\n",
       "      <th>overview</th>\n",
       "      <th>...</th>\n",
       "      <th>production_countries</th>\n",
       "      <th>revenue</th>\n",
       "      <th>runtime</th>\n",
       "      <th>spoken_languages</th>\n",
       "      <th>status</th>\n",
       "      <th>tagline</th>\n",
       "      <th>title</th>\n",
       "      <th>video</th>\n",
       "      <th>vote_average</th>\n",
       "      <th>vote_count</th>\n",
       "    </tr>\n",
       "    <tr>\n",
       "      <th>release_date</th>\n",
       "      <th></th>\n",
       "      <th></th>\n",
       "      <th></th>\n",
       "      <th></th>\n",
       "      <th></th>\n",
       "      <th></th>\n",
       "      <th></th>\n",
       "      <th></th>\n",
       "      <th></th>\n",
       "      <th></th>\n",
       "      <th></th>\n",
       "      <th></th>\n",
       "      <th></th>\n",
       "      <th></th>\n",
       "      <th></th>\n",
       "      <th></th>\n",
       "      <th></th>\n",
       "      <th></th>\n",
       "      <th></th>\n",
       "      <th></th>\n",
       "      <th></th>\n",
       "    </tr>\n",
       "  </thead>\n",
       "  <tbody>\n",
       "    <tr>\n",
       "      <th>1995-10-30</th>\n",
       "      <td>False</td>\n",
       "      <td>{'id': 10194, 'name': 'Toy Story Collection', ...</td>\n",
       "      <td>30000000</td>\n",
       "      <td>[{'id': 16, 'name': 'Animation'}, {'id': 35, '...</td>\n",
       "      <td>http://toystory.disney.com/toy-story</td>\n",
       "      <td>862</td>\n",
       "      <td>tt0114709</td>\n",
       "      <td>en</td>\n",
       "      <td>Toy Story</td>\n",
       "      <td>Led by Woody, Andy's toys live happily in his ...</td>\n",
       "      <td>...</td>\n",
       "      <td>[{'iso_3166_1': 'US', 'name': 'United States o...</td>\n",
       "      <td>373554033.0</td>\n",
       "      <td>81.0</td>\n",
       "      <td>[{'iso_639_1': 'en', 'name': 'English'}]</td>\n",
       "      <td>Released</td>\n",
       "      <td>NaN</td>\n",
       "      <td>Toy Story</td>\n",
       "      <td>False</td>\n",
       "      <td>7.7</td>\n",
       "      <td>5415.0</td>\n",
       "    </tr>\n",
       "    <tr>\n",
       "      <th>1995-12-15</th>\n",
       "      <td>False</td>\n",
       "      <td>NaN</td>\n",
       "      <td>65000000</td>\n",
       "      <td>[{'id': 12, 'name': 'Adventure'}, {'id': 14, '...</td>\n",
       "      <td>NaN</td>\n",
       "      <td>8844</td>\n",
       "      <td>tt0113497</td>\n",
       "      <td>en</td>\n",
       "      <td>Jumanji</td>\n",
       "      <td>When siblings Judy and Peter discover an encha...</td>\n",
       "      <td>...</td>\n",
       "      <td>[{'iso_3166_1': 'US', 'name': 'United States o...</td>\n",
       "      <td>262797249.0</td>\n",
       "      <td>104.0</td>\n",
       "      <td>[{'iso_639_1': 'en', 'name': 'English'}, {'iso...</td>\n",
       "      <td>Released</td>\n",
       "      <td>Roll the dice and unleash the excitement!</td>\n",
       "      <td>Jumanji</td>\n",
       "      <td>False</td>\n",
       "      <td>6.9</td>\n",
       "      <td>2413.0</td>\n",
       "    </tr>\n",
       "    <tr>\n",
       "      <th>1995-12-22</th>\n",
       "      <td>False</td>\n",
       "      <td>{'id': 119050, 'name': 'Grumpy Old Men Collect...</td>\n",
       "      <td>0</td>\n",
       "      <td>[{'id': 10749, 'name': 'Romance'}, {'id': 35, ...</td>\n",
       "      <td>NaN</td>\n",
       "      <td>15602</td>\n",
       "      <td>tt0113228</td>\n",
       "      <td>en</td>\n",
       "      <td>Grumpier Old Men</td>\n",
       "      <td>A family wedding reignites the ancient feud be...</td>\n",
       "      <td>...</td>\n",
       "      <td>[{'iso_3166_1': 'US', 'name': 'United States o...</td>\n",
       "      <td>0.0</td>\n",
       "      <td>101.0</td>\n",
       "      <td>[{'iso_639_1': 'en', 'name': 'English'}]</td>\n",
       "      <td>Released</td>\n",
       "      <td>Still Yelling. Still Fighting. Still Ready for...</td>\n",
       "      <td>Grumpier Old Men</td>\n",
       "      <td>False</td>\n",
       "      <td>6.5</td>\n",
       "      <td>92.0</td>\n",
       "    </tr>\n",
       "    <tr>\n",
       "      <th>1995-12-22</th>\n",
       "      <td>False</td>\n",
       "      <td>NaN</td>\n",
       "      <td>16000000</td>\n",
       "      <td>[{'id': 35, 'name': 'Comedy'}, {'id': 18, 'nam...</td>\n",
       "      <td>NaN</td>\n",
       "      <td>31357</td>\n",
       "      <td>tt0114885</td>\n",
       "      <td>en</td>\n",
       "      <td>Waiting to Exhale</td>\n",
       "      <td>Cheated on, mistreated and stepped on, the wom...</td>\n",
       "      <td>...</td>\n",
       "      <td>[{'iso_3166_1': 'US', 'name': 'United States o...</td>\n",
       "      <td>81452156.0</td>\n",
       "      <td>127.0</td>\n",
       "      <td>[{'iso_639_1': 'en', 'name': 'English'}]</td>\n",
       "      <td>Released</td>\n",
       "      <td>Friends are the people who let you be yourself...</td>\n",
       "      <td>Waiting to Exhale</td>\n",
       "      <td>False</td>\n",
       "      <td>6.1</td>\n",
       "      <td>34.0</td>\n",
       "    </tr>\n",
       "    <tr>\n",
       "      <th>1995-02-10</th>\n",
       "      <td>False</td>\n",
       "      <td>{'id': 96871, 'name': 'Father of the Bride Col...</td>\n",
       "      <td>0</td>\n",
       "      <td>[{'id': 35, 'name': 'Comedy'}]</td>\n",
       "      <td>NaN</td>\n",
       "      <td>11862</td>\n",
       "      <td>tt0113041</td>\n",
       "      <td>en</td>\n",
       "      <td>Father of the Bride Part II</td>\n",
       "      <td>Just when George Banks has recovered from his ...</td>\n",
       "      <td>...</td>\n",
       "      <td>[{'iso_3166_1': 'US', 'name': 'United States o...</td>\n",
       "      <td>76578911.0</td>\n",
       "      <td>106.0</td>\n",
       "      <td>[{'iso_639_1': 'en', 'name': 'English'}]</td>\n",
       "      <td>Released</td>\n",
       "      <td>Just When His World Is Back To Normal... He's ...</td>\n",
       "      <td>Father of the Bride Part II</td>\n",
       "      <td>False</td>\n",
       "      <td>5.7</td>\n",
       "      <td>173.0</td>\n",
       "    </tr>\n",
       "    <tr>\n",
       "      <th>...</th>\n",
       "      <td>...</td>\n",
       "      <td>...</td>\n",
       "      <td>...</td>\n",
       "      <td>...</td>\n",
       "      <td>...</td>\n",
       "      <td>...</td>\n",
       "      <td>...</td>\n",
       "      <td>...</td>\n",
       "      <td>...</td>\n",
       "      <td>...</td>\n",
       "      <td>...</td>\n",
       "      <td>...</td>\n",
       "      <td>...</td>\n",
       "      <td>...</td>\n",
       "      <td>...</td>\n",
       "      <td>...</td>\n",
       "      <td>...</td>\n",
       "      <td>...</td>\n",
       "      <td>...</td>\n",
       "      <td>...</td>\n",
       "      <td>...</td>\n",
       "    </tr>\n",
       "    <tr>\n",
       "      <th>NaT</th>\n",
       "      <td>False</td>\n",
       "      <td>NaN</td>\n",
       "      <td>0</td>\n",
       "      <td>[{'id': 18, 'name': 'Drama'}, {'id': 10751, 'n...</td>\n",
       "      <td>http://www.imdb.com/title/tt6209470/</td>\n",
       "      <td>439050</td>\n",
       "      <td>tt6209470</td>\n",
       "      <td>fa</td>\n",
       "      <td>رگ خواب</td>\n",
       "      <td>Rising and falling between a man and woman.</td>\n",
       "      <td>...</td>\n",
       "      <td>[{'iso_3166_1': 'IR', 'name': 'Iran'}]</td>\n",
       "      <td>0.0</td>\n",
       "      <td>90.0</td>\n",
       "      <td>[{'iso_639_1': 'fa', 'name': 'فارسی'}]</td>\n",
       "      <td>Released</td>\n",
       "      <td>Rising and falling between a man and woman</td>\n",
       "      <td>Subdue</td>\n",
       "      <td>False</td>\n",
       "      <td>4.0</td>\n",
       "      <td>1.0</td>\n",
       "    </tr>\n",
       "    <tr>\n",
       "      <th>2011-11-17</th>\n",
       "      <td>False</td>\n",
       "      <td>NaN</td>\n",
       "      <td>0</td>\n",
       "      <td>[{'id': 18, 'name': 'Drama'}]</td>\n",
       "      <td>NaN</td>\n",
       "      <td>111109</td>\n",
       "      <td>tt2028550</td>\n",
       "      <td>tl</td>\n",
       "      <td>Siglo ng Pagluluwal</td>\n",
       "      <td>An artist struggles to finish his work while a...</td>\n",
       "      <td>...</td>\n",
       "      <td>[{'iso_3166_1': 'PH', 'name': 'Philippines'}]</td>\n",
       "      <td>0.0</td>\n",
       "      <td>360.0</td>\n",
       "      <td>[{'iso_639_1': 'tl', 'name': ''}]</td>\n",
       "      <td>Released</td>\n",
       "      <td>NaN</td>\n",
       "      <td>Century of Birthing</td>\n",
       "      <td>False</td>\n",
       "      <td>9.0</td>\n",
       "      <td>3.0</td>\n",
       "    </tr>\n",
       "    <tr>\n",
       "      <th>2003-08-01</th>\n",
       "      <td>False</td>\n",
       "      <td>NaN</td>\n",
       "      <td>0</td>\n",
       "      <td>[{'id': 28, 'name': 'Action'}, {'id': 18, 'nam...</td>\n",
       "      <td>NaN</td>\n",
       "      <td>67758</td>\n",
       "      <td>tt0303758</td>\n",
       "      <td>en</td>\n",
       "      <td>Betrayal</td>\n",
       "      <td>When one of her hits goes wrong, a professiona...</td>\n",
       "      <td>...</td>\n",
       "      <td>[{'iso_3166_1': 'US', 'name': 'United States o...</td>\n",
       "      <td>0.0</td>\n",
       "      <td>90.0</td>\n",
       "      <td>[{'iso_639_1': 'en', 'name': 'English'}]</td>\n",
       "      <td>Released</td>\n",
       "      <td>A deadly game of wits.</td>\n",
       "      <td>Betrayal</td>\n",
       "      <td>False</td>\n",
       "      <td>3.8</td>\n",
       "      <td>6.0</td>\n",
       "    </tr>\n",
       "    <tr>\n",
       "      <th>1917-10-21</th>\n",
       "      <td>False</td>\n",
       "      <td>NaN</td>\n",
       "      <td>0</td>\n",
       "      <td>[]</td>\n",
       "      <td>NaN</td>\n",
       "      <td>227506</td>\n",
       "      <td>tt0008536</td>\n",
       "      <td>en</td>\n",
       "      <td>Satana likuyushchiy</td>\n",
       "      <td>In a small town live two brothers, one a minis...</td>\n",
       "      <td>...</td>\n",
       "      <td>[{'iso_3166_1': 'RU', 'name': 'Russia'}]</td>\n",
       "      <td>0.0</td>\n",
       "      <td>87.0</td>\n",
       "      <td>[]</td>\n",
       "      <td>Released</td>\n",
       "      <td>NaN</td>\n",
       "      <td>Satan Triumphant</td>\n",
       "      <td>False</td>\n",
       "      <td>0.0</td>\n",
       "      <td>0.0</td>\n",
       "    </tr>\n",
       "    <tr>\n",
       "      <th>2017-06-09</th>\n",
       "      <td>False</td>\n",
       "      <td>NaN</td>\n",
       "      <td>0</td>\n",
       "      <td>[]</td>\n",
       "      <td>NaN</td>\n",
       "      <td>461257</td>\n",
       "      <td>tt6980792</td>\n",
       "      <td>en</td>\n",
       "      <td>Queerama</td>\n",
       "      <td>50 years after decriminalisation of homosexual...</td>\n",
       "      <td>...</td>\n",
       "      <td>[{'iso_3166_1': 'GB', 'name': 'United Kingdom'}]</td>\n",
       "      <td>0.0</td>\n",
       "      <td>75.0</td>\n",
       "      <td>[{'iso_639_1': 'en', 'name': 'English'}]</td>\n",
       "      <td>Released</td>\n",
       "      <td>NaN</td>\n",
       "      <td>Queerama</td>\n",
       "      <td>False</td>\n",
       "      <td>0.0</td>\n",
       "      <td>0.0</td>\n",
       "    </tr>\n",
       "  </tbody>\n",
       "</table>\n",
       "<p>45466 rows × 23 columns</p>\n",
       "</div>"
      ],
      "text/plain": [
       "              adult                              belongs_to_collection  \\\n",
       "release_date                                                             \n",
       "1995-10-30    False  {'id': 10194, 'name': 'Toy Story Collection', ...   \n",
       "1995-12-15    False                                                NaN   \n",
       "1995-12-22    False  {'id': 119050, 'name': 'Grumpy Old Men Collect...   \n",
       "1995-12-22    False                                                NaN   \n",
       "1995-02-10    False  {'id': 96871, 'name': 'Father of the Bride Col...   \n",
       "...             ...                                                ...   \n",
       "NaT           False                                                NaN   \n",
       "2011-11-17    False                                                NaN   \n",
       "2003-08-01    False                                                NaN   \n",
       "1917-10-21    False                                                NaN   \n",
       "2017-06-09    False                                                NaN   \n",
       "\n",
       "                budget                                             genres  \\\n",
       "release_date                                                                \n",
       "1995-10-30    30000000  [{'id': 16, 'name': 'Animation'}, {'id': 35, '...   \n",
       "1995-12-15    65000000  [{'id': 12, 'name': 'Adventure'}, {'id': 14, '...   \n",
       "1995-12-22           0  [{'id': 10749, 'name': 'Romance'}, {'id': 35, ...   \n",
       "1995-12-22    16000000  [{'id': 35, 'name': 'Comedy'}, {'id': 18, 'nam...   \n",
       "1995-02-10           0                     [{'id': 35, 'name': 'Comedy'}]   \n",
       "...                ...                                                ...   \n",
       "NaT                  0  [{'id': 18, 'name': 'Drama'}, {'id': 10751, 'n...   \n",
       "2011-11-17           0                      [{'id': 18, 'name': 'Drama'}]   \n",
       "2003-08-01           0  [{'id': 28, 'name': 'Action'}, {'id': 18, 'nam...   \n",
       "1917-10-21           0                                                 []   \n",
       "2017-06-09           0                                                 []   \n",
       "\n",
       "                                          homepage      id    imdb_id  \\\n",
       "release_date                                                            \n",
       "1995-10-30    http://toystory.disney.com/toy-story     862  tt0114709   \n",
       "1995-12-15                                     NaN    8844  tt0113497   \n",
       "1995-12-22                                     NaN   15602  tt0113228   \n",
       "1995-12-22                                     NaN   31357  tt0114885   \n",
       "1995-02-10                                     NaN   11862  tt0113041   \n",
       "...                                            ...     ...        ...   \n",
       "NaT           http://www.imdb.com/title/tt6209470/  439050  tt6209470   \n",
       "2011-11-17                                     NaN  111109  tt2028550   \n",
       "2003-08-01                                     NaN   67758  tt0303758   \n",
       "1917-10-21                                     NaN  227506  tt0008536   \n",
       "2017-06-09                                     NaN  461257  tt6980792   \n",
       "\n",
       "             original_language               original_title  \\\n",
       "release_date                                                  \n",
       "1995-10-30                  en                    Toy Story   \n",
       "1995-12-15                  en                      Jumanji   \n",
       "1995-12-22                  en             Grumpier Old Men   \n",
       "1995-12-22                  en            Waiting to Exhale   \n",
       "1995-02-10                  en  Father of the Bride Part II   \n",
       "...                        ...                          ...   \n",
       "NaT                         fa                      رگ خواب   \n",
       "2011-11-17                  tl          Siglo ng Pagluluwal   \n",
       "2003-08-01                  en                     Betrayal   \n",
       "1917-10-21                  en          Satana likuyushchiy   \n",
       "2017-06-09                  en                     Queerama   \n",
       "\n",
       "                                                       overview  ...  \\\n",
       "release_date                                                     ...   \n",
       "1995-10-30    Led by Woody, Andy's toys live happily in his ...  ...   \n",
       "1995-12-15    When siblings Judy and Peter discover an encha...  ...   \n",
       "1995-12-22    A family wedding reignites the ancient feud be...  ...   \n",
       "1995-12-22    Cheated on, mistreated and stepped on, the wom...  ...   \n",
       "1995-02-10    Just when George Banks has recovered from his ...  ...   \n",
       "...                                                         ...  ...   \n",
       "NaT                 Rising and falling between a man and woman.  ...   \n",
       "2011-11-17    An artist struggles to finish his work while a...  ...   \n",
       "2003-08-01    When one of her hits goes wrong, a professiona...  ...   \n",
       "1917-10-21    In a small town live two brothers, one a minis...  ...   \n",
       "2017-06-09    50 years after decriminalisation of homosexual...  ...   \n",
       "\n",
       "                                           production_countries      revenue  \\\n",
       "release_date                                                                   \n",
       "1995-10-30    [{'iso_3166_1': 'US', 'name': 'United States o...  373554033.0   \n",
       "1995-12-15    [{'iso_3166_1': 'US', 'name': 'United States o...  262797249.0   \n",
       "1995-12-22    [{'iso_3166_1': 'US', 'name': 'United States o...          0.0   \n",
       "1995-12-22    [{'iso_3166_1': 'US', 'name': 'United States o...   81452156.0   \n",
       "1995-02-10    [{'iso_3166_1': 'US', 'name': 'United States o...   76578911.0   \n",
       "...                                                         ...          ...   \n",
       "NaT                      [{'iso_3166_1': 'IR', 'name': 'Iran'}]          0.0   \n",
       "2011-11-17        [{'iso_3166_1': 'PH', 'name': 'Philippines'}]          0.0   \n",
       "2003-08-01    [{'iso_3166_1': 'US', 'name': 'United States o...          0.0   \n",
       "1917-10-21             [{'iso_3166_1': 'RU', 'name': 'Russia'}]          0.0   \n",
       "2017-06-09     [{'iso_3166_1': 'GB', 'name': 'United Kingdom'}]          0.0   \n",
       "\n",
       "             runtime                                   spoken_languages  \\\n",
       "release_date                                                              \n",
       "1995-10-30      81.0           [{'iso_639_1': 'en', 'name': 'English'}]   \n",
       "1995-12-15     104.0  [{'iso_639_1': 'en', 'name': 'English'}, {'iso...   \n",
       "1995-12-22     101.0           [{'iso_639_1': 'en', 'name': 'English'}]   \n",
       "1995-12-22     127.0           [{'iso_639_1': 'en', 'name': 'English'}]   \n",
       "1995-02-10     106.0           [{'iso_639_1': 'en', 'name': 'English'}]   \n",
       "...              ...                                                ...   \n",
       "NaT             90.0             [{'iso_639_1': 'fa', 'name': 'فارسی'}]   \n",
       "2011-11-17     360.0                  [{'iso_639_1': 'tl', 'name': ''}]   \n",
       "2003-08-01      90.0           [{'iso_639_1': 'en', 'name': 'English'}]   \n",
       "1917-10-21      87.0                                                 []   \n",
       "2017-06-09      75.0           [{'iso_639_1': 'en', 'name': 'English'}]   \n",
       "\n",
       "                status                                            tagline  \\\n",
       "release_date                                                                \n",
       "1995-10-30    Released                                                NaN   \n",
       "1995-12-15    Released          Roll the dice and unleash the excitement!   \n",
       "1995-12-22    Released  Still Yelling. Still Fighting. Still Ready for...   \n",
       "1995-12-22    Released  Friends are the people who let you be yourself...   \n",
       "1995-02-10    Released  Just When His World Is Back To Normal... He's ...   \n",
       "...                ...                                                ...   \n",
       "NaT           Released         Rising and falling between a man and woman   \n",
       "2011-11-17    Released                                                NaN   \n",
       "2003-08-01    Released                             A deadly game of wits.   \n",
       "1917-10-21    Released                                                NaN   \n",
       "2017-06-09    Released                                                NaN   \n",
       "\n",
       "                                    title  video vote_average vote_count  \n",
       "release_date                                                              \n",
       "1995-10-30                      Toy Story  False          7.7     5415.0  \n",
       "1995-12-15                        Jumanji  False          6.9     2413.0  \n",
       "1995-12-22               Grumpier Old Men  False          6.5       92.0  \n",
       "1995-12-22              Waiting to Exhale  False          6.1       34.0  \n",
       "1995-02-10    Father of the Bride Part II  False          5.7      173.0  \n",
       "...                                   ...    ...          ...        ...  \n",
       "NaT                                Subdue  False          4.0        1.0  \n",
       "2011-11-17            Century of Birthing  False          9.0        3.0  \n",
       "2003-08-01                       Betrayal  False          3.8        6.0  \n",
       "1917-10-21               Satan Triumphant  False          0.0        0.0  \n",
       "2017-06-09                       Queerama  False          0.0        0.0  \n",
       "\n",
       "[45466 rows x 23 columns]"
      ]
     },
     "execution_count": 149,
     "metadata": {},
     "output_type": "execute_result"
    }
   ],
   "source": [
    "movies"
   ]
  },
  {
   "cell_type": "code",
   "execution_count": 150,
   "id": "93962d71-f1cb-467c-b0bc-8d776950354a",
   "metadata": {},
   "outputs": [],
   "source": [
    "movies.sort_index(inplace = True)"
   ]
  },
  {
   "cell_type": "code",
   "execution_count": 151,
   "id": "e6eee6fc-51c6-473e-9e85-4ac5c2bdaae2",
   "metadata": {},
   "outputs": [
    {
     "data": {
      "text/html": [
       "<div>\n",
       "<style scoped>\n",
       "    .dataframe tbody tr th:only-of-type {\n",
       "        vertical-align: middle;\n",
       "    }\n",
       "\n",
       "    .dataframe tbody tr th {\n",
       "        vertical-align: top;\n",
       "    }\n",
       "\n",
       "    .dataframe thead th {\n",
       "        text-align: right;\n",
       "    }\n",
       "</style>\n",
       "<table border=\"1\" class=\"dataframe\">\n",
       "  <thead>\n",
       "    <tr style=\"text-align: right;\">\n",
       "      <th></th>\n",
       "      <th>adult</th>\n",
       "      <th>belongs_to_collection</th>\n",
       "      <th>budget</th>\n",
       "      <th>genres</th>\n",
       "      <th>homepage</th>\n",
       "      <th>id</th>\n",
       "      <th>imdb_id</th>\n",
       "      <th>original_language</th>\n",
       "      <th>original_title</th>\n",
       "      <th>overview</th>\n",
       "      <th>...</th>\n",
       "      <th>production_countries</th>\n",
       "      <th>revenue</th>\n",
       "      <th>runtime</th>\n",
       "      <th>spoken_languages</th>\n",
       "      <th>status</th>\n",
       "      <th>tagline</th>\n",
       "      <th>title</th>\n",
       "      <th>video</th>\n",
       "      <th>vote_average</th>\n",
       "      <th>vote_count</th>\n",
       "    </tr>\n",
       "    <tr>\n",
       "      <th>release_date</th>\n",
       "      <th></th>\n",
       "      <th></th>\n",
       "      <th></th>\n",
       "      <th></th>\n",
       "      <th></th>\n",
       "      <th></th>\n",
       "      <th></th>\n",
       "      <th></th>\n",
       "      <th></th>\n",
       "      <th></th>\n",
       "      <th></th>\n",
       "      <th></th>\n",
       "      <th></th>\n",
       "      <th></th>\n",
       "      <th></th>\n",
       "      <th></th>\n",
       "      <th></th>\n",
       "      <th></th>\n",
       "      <th></th>\n",
       "      <th></th>\n",
       "      <th></th>\n",
       "    </tr>\n",
       "  </thead>\n",
       "  <tbody>\n",
       "    <tr>\n",
       "      <th>1874-12-09</th>\n",
       "      <td>False</td>\n",
       "      <td>NaN</td>\n",
       "      <td>0</td>\n",
       "      <td>[{'id': 99, 'name': 'Documentary'}]</td>\n",
       "      <td>NaN</td>\n",
       "      <td>315946</td>\n",
       "      <td>tt3155794</td>\n",
       "      <td>xx</td>\n",
       "      <td>Passage de Venus</td>\n",
       "      <td>Photo sequence of the rare transit of Venus ov...</td>\n",
       "      <td>...</td>\n",
       "      <td>[{'iso_3166_1': 'FR', 'name': 'France'}]</td>\n",
       "      <td>0.0</td>\n",
       "      <td>1.0</td>\n",
       "      <td>[{'iso_639_1': 'xx', 'name': 'No Language'}]</td>\n",
       "      <td>Released</td>\n",
       "      <td>NaN</td>\n",
       "      <td>Passage of Venus</td>\n",
       "      <td>False</td>\n",
       "      <td>6.0</td>\n",
       "      <td>19.0</td>\n",
       "    </tr>\n",
       "    <tr>\n",
       "      <th>1878-06-14</th>\n",
       "      <td>False</td>\n",
       "      <td>NaN</td>\n",
       "      <td>0</td>\n",
       "      <td>[{'id': 99, 'name': 'Documentary'}]</td>\n",
       "      <td>NaN</td>\n",
       "      <td>194079</td>\n",
       "      <td>tt2221420</td>\n",
       "      <td>en</td>\n",
       "      <td>Sallie Gardner at a Gallop</td>\n",
       "      <td>Sallie Gardner at a Gallop was one of the earl...</td>\n",
       "      <td>...</td>\n",
       "      <td>[{'iso_3166_1': 'US', 'name': 'United States o...</td>\n",
       "      <td>0.0</td>\n",
       "      <td>1.0</td>\n",
       "      <td>[{'iso_639_1': 'xx', 'name': 'No Language'}]</td>\n",
       "      <td>Released</td>\n",
       "      <td>NaN</td>\n",
       "      <td>Sallie Gardner at a Gallop</td>\n",
       "      <td>False</td>\n",
       "      <td>6.2</td>\n",
       "      <td>25.0</td>\n",
       "    </tr>\n",
       "    <tr>\n",
       "      <th>1883-11-19</th>\n",
       "      <td>False</td>\n",
       "      <td>NaN</td>\n",
       "      <td>0</td>\n",
       "      <td>[{'id': 99, 'name': 'Documentary'}]</td>\n",
       "      <td>NaN</td>\n",
       "      <td>426903</td>\n",
       "      <td>tt5459794</td>\n",
       "      <td>en</td>\n",
       "      <td>Buffalo Running</td>\n",
       "      <td>Individual photographs of the running of a buf...</td>\n",
       "      <td>...</td>\n",
       "      <td>[{'iso_3166_1': 'US', 'name': 'United States o...</td>\n",
       "      <td>0.0</td>\n",
       "      <td>1.0</td>\n",
       "      <td>[{'iso_639_1': 'xx', 'name': 'No Language'}]</td>\n",
       "      <td>Released</td>\n",
       "      <td>NaN</td>\n",
       "      <td>Buffalo Running</td>\n",
       "      <td>False</td>\n",
       "      <td>5.4</td>\n",
       "      <td>7.0</td>\n",
       "    </tr>\n",
       "    <tr>\n",
       "      <th>1887-08-18</th>\n",
       "      <td>False</td>\n",
       "      <td>NaN</td>\n",
       "      <td>0</td>\n",
       "      <td>[{'id': 99, 'name': 'Documentary'}]</td>\n",
       "      <td>NaN</td>\n",
       "      <td>159897</td>\n",
       "      <td>tt2075247</td>\n",
       "      <td>xx</td>\n",
       "      <td>Man Walking Around a Corner</td>\n",
       "      <td>The last remaining production of Le Prince's L...</td>\n",
       "      <td>...</td>\n",
       "      <td>[{'iso_3166_1': 'US', 'name': 'United States o...</td>\n",
       "      <td>0.0</td>\n",
       "      <td>1.0</td>\n",
       "      <td>[{'iso_639_1': 'xx', 'name': 'No Language'}]</td>\n",
       "      <td>Released</td>\n",
       "      <td>NaN</td>\n",
       "      <td>Man Walking Around a Corner</td>\n",
       "      <td>False</td>\n",
       "      <td>4.1</td>\n",
       "      <td>17.0</td>\n",
       "    </tr>\n",
       "    <tr>\n",
       "      <th>1888-01-01</th>\n",
       "      <td>False</td>\n",
       "      <td>NaN</td>\n",
       "      <td>0</td>\n",
       "      <td>[{'id': 99, 'name': 'Documentary'}]</td>\n",
       "      <td>NaN</td>\n",
       "      <td>96882</td>\n",
       "      <td>tt1758563</td>\n",
       "      <td>xx</td>\n",
       "      <td>Accordion Player</td>\n",
       "      <td>The last remaining film of Le Prince's LPCCP T...</td>\n",
       "      <td>...</td>\n",
       "      <td>[{'iso_3166_1': 'GB', 'name': 'United Kingdom'}]</td>\n",
       "      <td>0.0</td>\n",
       "      <td>1.0</td>\n",
       "      <td>[{'iso_639_1': 'xx', 'name': 'No Language'}]</td>\n",
       "      <td>Released</td>\n",
       "      <td>NaN</td>\n",
       "      <td>Accordion Player</td>\n",
       "      <td>False</td>\n",
       "      <td>4.4</td>\n",
       "      <td>18.0</td>\n",
       "    </tr>\n",
       "    <tr>\n",
       "      <th>...</th>\n",
       "      <td>...</td>\n",
       "      <td>...</td>\n",
       "      <td>...</td>\n",
       "      <td>...</td>\n",
       "      <td>...</td>\n",
       "      <td>...</td>\n",
       "      <td>...</td>\n",
       "      <td>...</td>\n",
       "      <td>...</td>\n",
       "      <td>...</td>\n",
       "      <td>...</td>\n",
       "      <td>...</td>\n",
       "      <td>...</td>\n",
       "      <td>...</td>\n",
       "      <td>...</td>\n",
       "      <td>...</td>\n",
       "      <td>...</td>\n",
       "      <td>...</td>\n",
       "      <td>...</td>\n",
       "      <td>...</td>\n",
       "      <td>...</td>\n",
       "    </tr>\n",
       "    <tr>\n",
       "      <th>NaT</th>\n",
       "      <td>False</td>\n",
       "      <td>NaN</td>\n",
       "      <td>0</td>\n",
       "      <td>[]</td>\n",
       "      <td>NaN</td>\n",
       "      <td>438910</td>\n",
       "      <td>tt0810384</td>\n",
       "      <td>ru</td>\n",
       "      <td>Konstruktor krasnogo tsveta -1993</td>\n",
       "      <td>Engineering Red - 1993  Dir: Andrey I. Y. Petr...</td>\n",
       "      <td>...</td>\n",
       "      <td>[]</td>\n",
       "      <td>0.0</td>\n",
       "      <td>76.0</td>\n",
       "      <td>[]</td>\n",
       "      <td>Released</td>\n",
       "      <td>NaN</td>\n",
       "      <td>Engineering Red</td>\n",
       "      <td>False</td>\n",
       "      <td>6.0</td>\n",
       "      <td>2.0</td>\n",
       "    </tr>\n",
       "    <tr>\n",
       "      <th>NaT</th>\n",
       "      <td>False</td>\n",
       "      <td>NaN</td>\n",
       "      <td>0</td>\n",
       "      <td>[{'id': 9648, 'name': 'Mystery'}, {'id': 878, ...</td>\n",
       "      <td>NaN</td>\n",
       "      <td>433711</td>\n",
       "      <td>tt3158690</td>\n",
       "      <td>en</td>\n",
       "      <td>All Superheroes Must Die 2: The Last Superhero</td>\n",
       "      <td>In a no holds barred documentary, acclaimed jo...</td>\n",
       "      <td>...</td>\n",
       "      <td>[]</td>\n",
       "      <td>0.0</td>\n",
       "      <td>74.0</td>\n",
       "      <td>[{'iso_639_1': 'en', 'name': 'English'}]</td>\n",
       "      <td>Released</td>\n",
       "      <td>NaN</td>\n",
       "      <td>All Superheroes Must Die 2: The Last Superhero</td>\n",
       "      <td>False</td>\n",
       "      <td>4.0</td>\n",
       "      <td>1.0</td>\n",
       "    </tr>\n",
       "    <tr>\n",
       "      <th>NaT</th>\n",
       "      <td>False</td>\n",
       "      <td>NaN</td>\n",
       "      <td>0</td>\n",
       "      <td>[]</td>\n",
       "      <td>NaN</td>\n",
       "      <td>335251</td>\n",
       "      <td>tt1883368</td>\n",
       "      <td>en</td>\n",
       "      <td>The Land Where the Blues Began</td>\n",
       "      <td>An exploration of the musical and social origi...</td>\n",
       "      <td>...</td>\n",
       "      <td>[]</td>\n",
       "      <td>0.0</td>\n",
       "      <td>0.0</td>\n",
       "      <td>[]</td>\n",
       "      <td>Released</td>\n",
       "      <td>NaN</td>\n",
       "      <td>The Land Where the Blues Began</td>\n",
       "      <td>False</td>\n",
       "      <td>0.0</td>\n",
       "      <td>0.0</td>\n",
       "    </tr>\n",
       "    <tr>\n",
       "      <th>NaT</th>\n",
       "      <td>False</td>\n",
       "      <td>NaN</td>\n",
       "      <td>0</td>\n",
       "      <td>[{'id': 18, 'name': 'Drama'}, {'id': 80, 'name...</td>\n",
       "      <td>NaN</td>\n",
       "      <td>449131</td>\n",
       "      <td>tt0321264</td>\n",
       "      <td>ru</td>\n",
       "      <td>Aprel</td>\n",
       "      <td>NaN</td>\n",
       "      <td>...</td>\n",
       "      <td>[{'iso_3166_1': 'RU', 'name': 'Russia'}]</td>\n",
       "      <td>0.0</td>\n",
       "      <td>NaN</td>\n",
       "      <td>[]</td>\n",
       "      <td>Released</td>\n",
       "      <td>NaN</td>\n",
       "      <td>Aprel</td>\n",
       "      <td>False</td>\n",
       "      <td>6.0</td>\n",
       "      <td>1.0</td>\n",
       "    </tr>\n",
       "    <tr>\n",
       "      <th>NaT</th>\n",
       "      <td>False</td>\n",
       "      <td>NaN</td>\n",
       "      <td>0</td>\n",
       "      <td>[{'id': 18, 'name': 'Drama'}, {'id': 10751, 'n...</td>\n",
       "      <td>http://www.imdb.com/title/tt6209470/</td>\n",
       "      <td>439050</td>\n",
       "      <td>tt6209470</td>\n",
       "      <td>fa</td>\n",
       "      <td>رگ خواب</td>\n",
       "      <td>Rising and falling between a man and woman.</td>\n",
       "      <td>...</td>\n",
       "      <td>[{'iso_3166_1': 'IR', 'name': 'Iran'}]</td>\n",
       "      <td>0.0</td>\n",
       "      <td>90.0</td>\n",
       "      <td>[{'iso_639_1': 'fa', 'name': 'فارسی'}]</td>\n",
       "      <td>Released</td>\n",
       "      <td>Rising and falling between a man and woman</td>\n",
       "      <td>Subdue</td>\n",
       "      <td>False</td>\n",
       "      <td>4.0</td>\n",
       "      <td>1.0</td>\n",
       "    </tr>\n",
       "  </tbody>\n",
       "</table>\n",
       "<p>45466 rows × 23 columns</p>\n",
       "</div>"
      ],
      "text/plain": [
       "              adult belongs_to_collection budget  \\\n",
       "release_date                                       \n",
       "1874-12-09    False                   NaN      0   \n",
       "1878-06-14    False                   NaN      0   \n",
       "1883-11-19    False                   NaN      0   \n",
       "1887-08-18    False                   NaN      0   \n",
       "1888-01-01    False                   NaN      0   \n",
       "...             ...                   ...    ...   \n",
       "NaT           False                   NaN      0   \n",
       "NaT           False                   NaN      0   \n",
       "NaT           False                   NaN      0   \n",
       "NaT           False                   NaN      0   \n",
       "NaT           False                   NaN      0   \n",
       "\n",
       "                                                         genres  \\\n",
       "release_date                                                      \n",
       "1874-12-09                  [{'id': 99, 'name': 'Documentary'}]   \n",
       "1878-06-14                  [{'id': 99, 'name': 'Documentary'}]   \n",
       "1883-11-19                  [{'id': 99, 'name': 'Documentary'}]   \n",
       "1887-08-18                  [{'id': 99, 'name': 'Documentary'}]   \n",
       "1888-01-01                  [{'id': 99, 'name': 'Documentary'}]   \n",
       "...                                                         ...   \n",
       "NaT                                                          []   \n",
       "NaT           [{'id': 9648, 'name': 'Mystery'}, {'id': 878, ...   \n",
       "NaT                                                          []   \n",
       "NaT           [{'id': 18, 'name': 'Drama'}, {'id': 80, 'name...   \n",
       "NaT           [{'id': 18, 'name': 'Drama'}, {'id': 10751, 'n...   \n",
       "\n",
       "                                          homepage      id    imdb_id  \\\n",
       "release_date                                                            \n",
       "1874-12-09                                     NaN  315946  tt3155794   \n",
       "1878-06-14                                     NaN  194079  tt2221420   \n",
       "1883-11-19                                     NaN  426903  tt5459794   \n",
       "1887-08-18                                     NaN  159897  tt2075247   \n",
       "1888-01-01                                     NaN   96882  tt1758563   \n",
       "...                                            ...     ...        ...   \n",
       "NaT                                            NaN  438910  tt0810384   \n",
       "NaT                                            NaN  433711  tt3158690   \n",
       "NaT                                            NaN  335251  tt1883368   \n",
       "NaT                                            NaN  449131  tt0321264   \n",
       "NaT           http://www.imdb.com/title/tt6209470/  439050  tt6209470   \n",
       "\n",
       "             original_language  \\\n",
       "release_date                     \n",
       "1874-12-09                  xx   \n",
       "1878-06-14                  en   \n",
       "1883-11-19                  en   \n",
       "1887-08-18                  xx   \n",
       "1888-01-01                  xx   \n",
       "...                        ...   \n",
       "NaT                         ru   \n",
       "NaT                         en   \n",
       "NaT                         en   \n",
       "NaT                         ru   \n",
       "NaT                         fa   \n",
       "\n",
       "                                              original_title  \\\n",
       "release_date                                                   \n",
       "1874-12-09                                  Passage de Venus   \n",
       "1878-06-14                        Sallie Gardner at a Gallop   \n",
       "1883-11-19                                   Buffalo Running   \n",
       "1887-08-18                       Man Walking Around a Corner   \n",
       "1888-01-01                                  Accordion Player   \n",
       "...                                                      ...   \n",
       "NaT                        Konstruktor krasnogo tsveta -1993   \n",
       "NaT           All Superheroes Must Die 2: The Last Superhero   \n",
       "NaT                           The Land Where the Blues Began   \n",
       "NaT                                                    Aprel   \n",
       "NaT                                                  رگ خواب   \n",
       "\n",
       "                                                       overview  ...  \\\n",
       "release_date                                                     ...   \n",
       "1874-12-09    Photo sequence of the rare transit of Venus ov...  ...   \n",
       "1878-06-14    Sallie Gardner at a Gallop was one of the earl...  ...   \n",
       "1883-11-19    Individual photographs of the running of a buf...  ...   \n",
       "1887-08-18    The last remaining production of Le Prince's L...  ...   \n",
       "1888-01-01    The last remaining film of Le Prince's LPCCP T...  ...   \n",
       "...                                                         ...  ...   \n",
       "NaT           Engineering Red - 1993  Dir: Andrey I. Y. Petr...  ...   \n",
       "NaT           In a no holds barred documentary, acclaimed jo...  ...   \n",
       "NaT           An exploration of the musical and social origi...  ...   \n",
       "NaT                                                         NaN  ...   \n",
       "NaT                 Rising and falling between a man and woman.  ...   \n",
       "\n",
       "                                           production_countries revenue  \\\n",
       "release_date                                                              \n",
       "1874-12-09             [{'iso_3166_1': 'FR', 'name': 'France'}]     0.0   \n",
       "1878-06-14    [{'iso_3166_1': 'US', 'name': 'United States o...     0.0   \n",
       "1883-11-19    [{'iso_3166_1': 'US', 'name': 'United States o...     0.0   \n",
       "1887-08-18    [{'iso_3166_1': 'US', 'name': 'United States o...     0.0   \n",
       "1888-01-01     [{'iso_3166_1': 'GB', 'name': 'United Kingdom'}]     0.0   \n",
       "...                                                         ...     ...   \n",
       "NaT                                                          []     0.0   \n",
       "NaT                                                          []     0.0   \n",
       "NaT                                                          []     0.0   \n",
       "NaT                    [{'iso_3166_1': 'RU', 'name': 'Russia'}]     0.0   \n",
       "NaT                      [{'iso_3166_1': 'IR', 'name': 'Iran'}]     0.0   \n",
       "\n",
       "             runtime                              spoken_languages    status  \\\n",
       "release_date                                                                   \n",
       "1874-12-09       1.0  [{'iso_639_1': 'xx', 'name': 'No Language'}]  Released   \n",
       "1878-06-14       1.0  [{'iso_639_1': 'xx', 'name': 'No Language'}]  Released   \n",
       "1883-11-19       1.0  [{'iso_639_1': 'xx', 'name': 'No Language'}]  Released   \n",
       "1887-08-18       1.0  [{'iso_639_1': 'xx', 'name': 'No Language'}]  Released   \n",
       "1888-01-01       1.0  [{'iso_639_1': 'xx', 'name': 'No Language'}]  Released   \n",
       "...              ...                                           ...       ...   \n",
       "NaT             76.0                                            []  Released   \n",
       "NaT             74.0      [{'iso_639_1': 'en', 'name': 'English'}]  Released   \n",
       "NaT              0.0                                            []  Released   \n",
       "NaT              NaN                                            []  Released   \n",
       "NaT             90.0        [{'iso_639_1': 'fa', 'name': 'فارسی'}]  Released   \n",
       "\n",
       "                                                 tagline  \\\n",
       "release_date                                               \n",
       "1874-12-09                                           NaN   \n",
       "1878-06-14                                           NaN   \n",
       "1883-11-19                                           NaN   \n",
       "1887-08-18                                           NaN   \n",
       "1888-01-01                                           NaN   \n",
       "...                                                  ...   \n",
       "NaT                                                  NaN   \n",
       "NaT                                                  NaN   \n",
       "NaT                                                  NaN   \n",
       "NaT                                                  NaN   \n",
       "NaT           Rising and falling between a man and woman   \n",
       "\n",
       "                                                       title  video  \\\n",
       "release_date                                                          \n",
       "1874-12-09                                  Passage of Venus  False   \n",
       "1878-06-14                        Sallie Gardner at a Gallop  False   \n",
       "1883-11-19                                   Buffalo Running  False   \n",
       "1887-08-18                       Man Walking Around a Corner  False   \n",
       "1888-01-01                                  Accordion Player  False   \n",
       "...                                                      ...    ...   \n",
       "NaT                                          Engineering Red  False   \n",
       "NaT           All Superheroes Must Die 2: The Last Superhero  False   \n",
       "NaT                           The Land Where the Blues Began  False   \n",
       "NaT                                                    Aprel  False   \n",
       "NaT                                                   Subdue  False   \n",
       "\n",
       "             vote_average vote_count  \n",
       "release_date                          \n",
       "1874-12-09            6.0       19.0  \n",
       "1878-06-14            6.2       25.0  \n",
       "1883-11-19            5.4        7.0  \n",
       "1887-08-18            4.1       17.0  \n",
       "1888-01-01            4.4       18.0  \n",
       "...                   ...        ...  \n",
       "NaT                   6.0        2.0  \n",
       "NaT                   4.0        1.0  \n",
       "NaT                   0.0        0.0  \n",
       "NaT                   6.0        1.0  \n",
       "NaT                   4.0        1.0  \n",
       "\n",
       "[45466 rows x 23 columns]"
      ]
     },
     "execution_count": 151,
     "metadata": {},
     "output_type": "execute_result"
    }
   ],
   "source": [
    "movies"
   ]
  },
  {
   "cell_type": "code",
   "execution_count": 153,
   "id": "ccb299eb-ba06-4720-9505-18954849531a",
   "metadata": {},
   "outputs": [],
   "source": [
    "movies_df = movies.loc[:, ['title', 'budget', 'revenue']].copy()"
   ]
  },
  {
   "cell_type": "code",
   "execution_count": 155,
   "id": "c86cbc0b-d7e8-48a7-a182-b649eb99f399",
   "metadata": {},
   "outputs": [
    {
     "name": "stdout",
     "output_type": "stream",
     "text": [
      "<class 'pandas.core.frame.DataFrame'>\n",
      "DatetimeIndex: 45466 entries, 1874-12-09 to NaT\n",
      "Data columns (total 3 columns):\n",
      " #   Column   Non-Null Count  Dtype  \n",
      "---  ------   --------------  -----  \n",
      " 0   title    45460 non-null  object \n",
      " 1   budget   45466 non-null  object \n",
      " 2   revenue  45460 non-null  float64\n",
      "dtypes: float64(1), object(2)\n",
      "memory usage: 1.4+ MB\n"
     ]
    }
   ],
   "source": [
    "movies_df.info()"
   ]
  },
  {
   "cell_type": "code",
   "execution_count": 157,
   "id": "71ae2699-bf34-4f3c-b7cd-5fbe1d4daae9",
   "metadata": {},
   "outputs": [
    {
     "data": {
      "text/html": [
       "<div>\n",
       "<style scoped>\n",
       "    .dataframe tbody tr th:only-of-type {\n",
       "        vertical-align: middle;\n",
       "    }\n",
       "\n",
       "    .dataframe tbody tr th {\n",
       "        vertical-align: top;\n",
       "    }\n",
       "\n",
       "    .dataframe thead th {\n",
       "        text-align: right;\n",
       "    }\n",
       "</style>\n",
       "<table border=\"1\" class=\"dataframe\">\n",
       "  <thead>\n",
       "    <tr style=\"text-align: right;\">\n",
       "      <th></th>\n",
       "      <th>revenue</th>\n",
       "    </tr>\n",
       "  </thead>\n",
       "  <tbody>\n",
       "    <tr>\n",
       "      <th>count</th>\n",
       "      <td>4.546000e+04</td>\n",
       "    </tr>\n",
       "    <tr>\n",
       "      <th>mean</th>\n",
       "      <td>1.120935e+07</td>\n",
       "    </tr>\n",
       "    <tr>\n",
       "      <th>std</th>\n",
       "      <td>6.433225e+07</td>\n",
       "    </tr>\n",
       "    <tr>\n",
       "      <th>min</th>\n",
       "      <td>0.000000e+00</td>\n",
       "    </tr>\n",
       "    <tr>\n",
       "      <th>25%</th>\n",
       "      <td>0.000000e+00</td>\n",
       "    </tr>\n",
       "    <tr>\n",
       "      <th>50%</th>\n",
       "      <td>0.000000e+00</td>\n",
       "    </tr>\n",
       "    <tr>\n",
       "      <th>75%</th>\n",
       "      <td>0.000000e+00</td>\n",
       "    </tr>\n",
       "    <tr>\n",
       "      <th>max</th>\n",
       "      <td>2.787965e+09</td>\n",
       "    </tr>\n",
       "  </tbody>\n",
       "</table>\n",
       "</div>"
      ],
      "text/plain": [
       "            revenue\n",
       "count  4.546000e+04\n",
       "mean   1.120935e+07\n",
       "std    6.433225e+07\n",
       "min    0.000000e+00\n",
       "25%    0.000000e+00\n",
       "50%    0.000000e+00\n",
       "75%    0.000000e+00\n",
       "max    2.787965e+09"
      ]
     },
     "execution_count": 157,
     "metadata": {},
     "output_type": "execute_result"
    }
   ],
   "source": [
    "movies_df.describe()"
   ]
  },
  {
   "cell_type": "code",
   "execution_count": 158,
   "id": "07e63fce-f242-4c12-8bb3-f6af1d00d63a",
   "metadata": {},
   "outputs": [],
   "source": [
    "movies_df.budget = pd.to_numeric(movies_df.budget, errors = 'coerce')"
   ]
  },
  {
   "cell_type": "code",
   "execution_count": 161,
   "id": "c7f4ab86-1962-4a01-8f5b-136a3087b2a1",
   "metadata": {},
   "outputs": [
    {
     "data": {
      "text/html": [
       "<div>\n",
       "<style scoped>\n",
       "    .dataframe tbody tr th:only-of-type {\n",
       "        vertical-align: middle;\n",
       "    }\n",
       "\n",
       "    .dataframe tbody tr th {\n",
       "        vertical-align: top;\n",
       "    }\n",
       "\n",
       "    .dataframe thead th {\n",
       "        text-align: right;\n",
       "    }\n",
       "</style>\n",
       "<table border=\"1\" class=\"dataframe\">\n",
       "  <thead>\n",
       "    <tr style=\"text-align: right;\">\n",
       "      <th></th>\n",
       "      <th>title</th>\n",
       "      <th>budget</th>\n",
       "      <th>revenue</th>\n",
       "    </tr>\n",
       "    <tr>\n",
       "      <th>release_date</th>\n",
       "      <th></th>\n",
       "      <th></th>\n",
       "      <th></th>\n",
       "    </tr>\n",
       "  </thead>\n",
       "  <tbody>\n",
       "    <tr>\n",
       "      <th>1874-12-09</th>\n",
       "      <td>Passage of Venus</td>\n",
       "      <td>0.0</td>\n",
       "      <td>0.0</td>\n",
       "    </tr>\n",
       "    <tr>\n",
       "      <th>1878-06-14</th>\n",
       "      <td>Sallie Gardner at a Gallop</td>\n",
       "      <td>0.0</td>\n",
       "      <td>0.0</td>\n",
       "    </tr>\n",
       "    <tr>\n",
       "      <th>1883-11-19</th>\n",
       "      <td>Buffalo Running</td>\n",
       "      <td>0.0</td>\n",
       "      <td>0.0</td>\n",
       "    </tr>\n",
       "    <tr>\n",
       "      <th>1887-08-18</th>\n",
       "      <td>Man Walking Around a Corner</td>\n",
       "      <td>0.0</td>\n",
       "      <td>0.0</td>\n",
       "    </tr>\n",
       "    <tr>\n",
       "      <th>1888-01-01</th>\n",
       "      <td>Accordion Player</td>\n",
       "      <td>0.0</td>\n",
       "      <td>0.0</td>\n",
       "    </tr>\n",
       "    <tr>\n",
       "      <th>...</th>\n",
       "      <td>...</td>\n",
       "      <td>...</td>\n",
       "      <td>...</td>\n",
       "    </tr>\n",
       "    <tr>\n",
       "      <th>NaT</th>\n",
       "      <td>Engineering Red</td>\n",
       "      <td>0.0</td>\n",
       "      <td>0.0</td>\n",
       "    </tr>\n",
       "    <tr>\n",
       "      <th>NaT</th>\n",
       "      <td>All Superheroes Must Die 2: The Last Superhero</td>\n",
       "      <td>0.0</td>\n",
       "      <td>0.0</td>\n",
       "    </tr>\n",
       "    <tr>\n",
       "      <th>NaT</th>\n",
       "      <td>The Land Where the Blues Began</td>\n",
       "      <td>0.0</td>\n",
       "      <td>0.0</td>\n",
       "    </tr>\n",
       "    <tr>\n",
       "      <th>NaT</th>\n",
       "      <td>Aprel</td>\n",
       "      <td>0.0</td>\n",
       "      <td>0.0</td>\n",
       "    </tr>\n",
       "    <tr>\n",
       "      <th>NaT</th>\n",
       "      <td>Subdue</td>\n",
       "      <td>0.0</td>\n",
       "      <td>0.0</td>\n",
       "    </tr>\n",
       "  </tbody>\n",
       "</table>\n",
       "<p>45466 rows × 3 columns</p>\n",
       "</div>"
      ],
      "text/plain": [
       "                                                       title  budget  revenue\n",
       "release_date                                                                 \n",
       "1874-12-09                                  Passage of Venus     0.0      0.0\n",
       "1878-06-14                        Sallie Gardner at a Gallop     0.0      0.0\n",
       "1883-11-19                                   Buffalo Running     0.0      0.0\n",
       "1887-08-18                       Man Walking Around a Corner     0.0      0.0\n",
       "1888-01-01                                  Accordion Player     0.0      0.0\n",
       "...                                                      ...     ...      ...\n",
       "NaT                                          Engineering Red     0.0      0.0\n",
       "NaT           All Superheroes Must Die 2: The Last Superhero     0.0      0.0\n",
       "NaT                           The Land Where the Blues Began     0.0      0.0\n",
       "NaT                                                    Aprel     0.0      0.0\n",
       "NaT                                                   Subdue     0.0      0.0\n",
       "\n",
       "[45466 rows x 3 columns]"
      ]
     },
     "execution_count": 161,
     "metadata": {},
     "output_type": "execute_result"
    }
   ],
   "source": [
    "movies_df"
   ]
  },
  {
   "cell_type": "code",
   "execution_count": 162,
   "id": "ea2b9e9c-95e7-4337-9831-f674f769aba1",
   "metadata": {},
   "outputs": [
    {
     "data": {
      "text/html": [
       "<div>\n",
       "<style scoped>\n",
       "    .dataframe tbody tr th:only-of-type {\n",
       "        vertical-align: middle;\n",
       "    }\n",
       "\n",
       "    .dataframe tbody tr th {\n",
       "        vertical-align: top;\n",
       "    }\n",
       "\n",
       "    .dataframe thead th {\n",
       "        text-align: right;\n",
       "    }\n",
       "</style>\n",
       "<table border=\"1\" class=\"dataframe\">\n",
       "  <thead>\n",
       "    <tr style=\"text-align: right;\">\n",
       "      <th></th>\n",
       "      <th>budget</th>\n",
       "      <th>revenue</th>\n",
       "    </tr>\n",
       "  </thead>\n",
       "  <tbody>\n",
       "    <tr>\n",
       "      <th>count</th>\n",
       "      <td>4.546300e+04</td>\n",
       "      <td>4.546000e+04</td>\n",
       "    </tr>\n",
       "    <tr>\n",
       "      <th>mean</th>\n",
       "      <td>4.224579e+06</td>\n",
       "      <td>1.120935e+07</td>\n",
       "    </tr>\n",
       "    <tr>\n",
       "      <th>std</th>\n",
       "      <td>1.742413e+07</td>\n",
       "      <td>6.433225e+07</td>\n",
       "    </tr>\n",
       "    <tr>\n",
       "      <th>min</th>\n",
       "      <td>0.000000e+00</td>\n",
       "      <td>0.000000e+00</td>\n",
       "    </tr>\n",
       "    <tr>\n",
       "      <th>25%</th>\n",
       "      <td>0.000000e+00</td>\n",
       "      <td>0.000000e+00</td>\n",
       "    </tr>\n",
       "    <tr>\n",
       "      <th>50%</th>\n",
       "      <td>0.000000e+00</td>\n",
       "      <td>0.000000e+00</td>\n",
       "    </tr>\n",
       "    <tr>\n",
       "      <th>75%</th>\n",
       "      <td>0.000000e+00</td>\n",
       "      <td>0.000000e+00</td>\n",
       "    </tr>\n",
       "    <tr>\n",
       "      <th>max</th>\n",
       "      <td>3.800000e+08</td>\n",
       "      <td>2.787965e+09</td>\n",
       "    </tr>\n",
       "  </tbody>\n",
       "</table>\n",
       "</div>"
      ],
      "text/plain": [
       "             budget       revenue\n",
       "count  4.546300e+04  4.546000e+04\n",
       "mean   4.224579e+06  1.120935e+07\n",
       "std    1.742413e+07  6.433225e+07\n",
       "min    0.000000e+00  0.000000e+00\n",
       "25%    0.000000e+00  0.000000e+00\n",
       "50%    0.000000e+00  0.000000e+00\n",
       "75%    0.000000e+00  0.000000e+00\n",
       "max    3.800000e+08  2.787965e+09"
      ]
     },
     "execution_count": 162,
     "metadata": {},
     "output_type": "execute_result"
    }
   ],
   "source": [
    "movies_df.describe()"
   ]
  },
  {
   "cell_type": "code",
   "execution_count": 164,
   "id": "c721932c-4784-450a-b086-6333059eba0c",
   "metadata": {},
   "outputs": [],
   "source": [
    "movies_df.iloc[:, -2:] = movies_df.iloc[:, -2:] / 1000000"
   ]
  },
  {
   "cell_type": "code",
   "execution_count": 165,
   "id": "96e4cc55-f602-4f90-8ea7-1124b5189bcf",
   "metadata": {},
   "outputs": [
    {
     "data": {
      "text/html": [
       "<div>\n",
       "<style scoped>\n",
       "    .dataframe tbody tr th:only-of-type {\n",
       "        vertical-align: middle;\n",
       "    }\n",
       "\n",
       "    .dataframe tbody tr th {\n",
       "        vertical-align: top;\n",
       "    }\n",
       "\n",
       "    .dataframe thead th {\n",
       "        text-align: right;\n",
       "    }\n",
       "</style>\n",
       "<table border=\"1\" class=\"dataframe\">\n",
       "  <thead>\n",
       "    <tr style=\"text-align: right;\">\n",
       "      <th></th>\n",
       "      <th>budget</th>\n",
       "      <th>revenue</th>\n",
       "    </tr>\n",
       "  </thead>\n",
       "  <tbody>\n",
       "    <tr>\n",
       "      <th>count</th>\n",
       "      <td>45463.000000</td>\n",
       "      <td>45460.000000</td>\n",
       "    </tr>\n",
       "    <tr>\n",
       "      <th>mean</th>\n",
       "      <td>4.224579</td>\n",
       "      <td>11.209349</td>\n",
       "    </tr>\n",
       "    <tr>\n",
       "      <th>std</th>\n",
       "      <td>17.424133</td>\n",
       "      <td>64.332247</td>\n",
       "    </tr>\n",
       "    <tr>\n",
       "      <th>min</th>\n",
       "      <td>0.000000</td>\n",
       "      <td>0.000000</td>\n",
       "    </tr>\n",
       "    <tr>\n",
       "      <th>25%</th>\n",
       "      <td>0.000000</td>\n",
       "      <td>0.000000</td>\n",
       "    </tr>\n",
       "    <tr>\n",
       "      <th>50%</th>\n",
       "      <td>0.000000</td>\n",
       "      <td>0.000000</td>\n",
       "    </tr>\n",
       "    <tr>\n",
       "      <th>75%</th>\n",
       "      <td>0.000000</td>\n",
       "      <td>0.000000</td>\n",
       "    </tr>\n",
       "    <tr>\n",
       "      <th>max</th>\n",
       "      <td>380.000000</td>\n",
       "      <td>2787.965087</td>\n",
       "    </tr>\n",
       "  </tbody>\n",
       "</table>\n",
       "</div>"
      ],
      "text/plain": [
       "             budget       revenue\n",
       "count  45463.000000  45460.000000\n",
       "mean       4.224579     11.209349\n",
       "std       17.424133     64.332247\n",
       "min        0.000000      0.000000\n",
       "25%        0.000000      0.000000\n",
       "50%        0.000000      0.000000\n",
       "75%        0.000000      0.000000\n",
       "max      380.000000   2787.965087"
      ]
     },
     "execution_count": 165,
     "metadata": {},
     "output_type": "execute_result"
    }
   ],
   "source": [
    "movies_df.describe()"
   ]
  },
  {
   "cell_type": "code",
   "execution_count": 166,
   "id": "783d9590-b0da-4e6f-ae53-7bcdb5f3abf3",
   "metadata": {},
   "outputs": [
    {
     "data": {
      "text/html": [
       "<div>\n",
       "<style scoped>\n",
       "    .dataframe tbody tr th:only-of-type {\n",
       "        vertical-align: middle;\n",
       "    }\n",
       "\n",
       "    .dataframe tbody tr th {\n",
       "        vertical-align: top;\n",
       "    }\n",
       "\n",
       "    .dataframe thead th {\n",
       "        text-align: right;\n",
       "    }\n",
       "</style>\n",
       "<table border=\"1\" class=\"dataframe\">\n",
       "  <thead>\n",
       "    <tr style=\"text-align: right;\">\n",
       "      <th></th>\n",
       "      <th>title</th>\n",
       "      <th>budget</th>\n",
       "      <th>revenue</th>\n",
       "    </tr>\n",
       "    <tr>\n",
       "      <th>release_date</th>\n",
       "      <th></th>\n",
       "      <th></th>\n",
       "      <th></th>\n",
       "    </tr>\n",
       "  </thead>\n",
       "  <tbody>\n",
       "    <tr>\n",
       "      <th>NaT</th>\n",
       "      <td>NaN</td>\n",
       "      <td>0.0</td>\n",
       "      <td>NaN</td>\n",
       "    </tr>\n",
       "    <tr>\n",
       "      <th>NaT</th>\n",
       "      <td>NaN</td>\n",
       "      <td>NaN</td>\n",
       "      <td>NaN</td>\n",
       "    </tr>\n",
       "    <tr>\n",
       "      <th>NaT</th>\n",
       "      <td>NaN</td>\n",
       "      <td>0.0</td>\n",
       "      <td>NaN</td>\n",
       "    </tr>\n",
       "    <tr>\n",
       "      <th>NaT</th>\n",
       "      <td>NaN</td>\n",
       "      <td>NaN</td>\n",
       "      <td>NaN</td>\n",
       "    </tr>\n",
       "    <tr>\n",
       "      <th>NaT</th>\n",
       "      <td>NaN</td>\n",
       "      <td>0.0</td>\n",
       "      <td>NaN</td>\n",
       "    </tr>\n",
       "    <tr>\n",
       "      <th>NaT</th>\n",
       "      <td>NaN</td>\n",
       "      <td>NaN</td>\n",
       "      <td>NaN</td>\n",
       "    </tr>\n",
       "  </tbody>\n",
       "</table>\n",
       "</div>"
      ],
      "text/plain": [
       "             title  budget  revenue\n",
       "release_date                       \n",
       "NaT            NaN     0.0      NaN\n",
       "NaT            NaN     NaN      NaN\n",
       "NaT            NaN     0.0      NaN\n",
       "NaT            NaN     NaN      NaN\n",
       "NaT            NaN     0.0      NaN\n",
       "NaT            NaN     NaN      NaN"
      ]
     },
     "execution_count": 166,
     "metadata": {},
     "output_type": "execute_result"
    }
   ],
   "source": [
    "movies_df.loc[movies.title.isna()]"
   ]
  },
  {
   "cell_type": "code",
   "execution_count": 169,
   "id": "4436a782-2eba-4943-b210-3cb723e70abb",
   "metadata": {},
   "outputs": [],
   "source": [
    "movies_df.dropna(inplace = True)"
   ]
  },
  {
   "cell_type": "code",
   "execution_count": 172,
   "id": "73129c23-cced-4b7e-9c08-ff5f5ba64ef0",
   "metadata": {},
   "outputs": [
    {
     "data": {
      "text/html": [
       "<div>\n",
       "<style scoped>\n",
       "    .dataframe tbody tr th:only-of-type {\n",
       "        vertical-align: middle;\n",
       "    }\n",
       "\n",
       "    .dataframe tbody tr th {\n",
       "        vertical-align: top;\n",
       "    }\n",
       "\n",
       "    .dataframe thead th {\n",
       "        text-align: right;\n",
       "    }\n",
       "</style>\n",
       "<table border=\"1\" class=\"dataframe\">\n",
       "  <thead>\n",
       "    <tr style=\"text-align: right;\">\n",
       "      <th></th>\n",
       "      <th>title</th>\n",
       "      <th>budget</th>\n",
       "      <th>revenue</th>\n",
       "    </tr>\n",
       "    <tr>\n",
       "      <th>release_date</th>\n",
       "      <th></th>\n",
       "      <th></th>\n",
       "      <th></th>\n",
       "    </tr>\n",
       "  </thead>\n",
       "  <tbody>\n",
       "    <tr>\n",
       "      <th>1915-02-08</th>\n",
       "      <td>The Birth of a Nation</td>\n",
       "      <td>0.100000</td>\n",
       "      <td>11.000000</td>\n",
       "    </tr>\n",
       "    <tr>\n",
       "      <th>1915-12-13</th>\n",
       "      <td>The Cheat</td>\n",
       "      <td>0.017311</td>\n",
       "      <td>0.137365</td>\n",
       "    </tr>\n",
       "    <tr>\n",
       "      <th>1916-12-24</th>\n",
       "      <td>20,000 Leagues Under the Sea</td>\n",
       "      <td>0.200000</td>\n",
       "      <td>8.000000</td>\n",
       "    </tr>\n",
       "    <tr>\n",
       "      <th>1918-08-01</th>\n",
       "      <td>Mickey</td>\n",
       "      <td>0.250000</td>\n",
       "      <td>8.000000</td>\n",
       "    </tr>\n",
       "    <tr>\n",
       "      <th>1921-01-21</th>\n",
       "      <td>The Kid</td>\n",
       "      <td>0.250000</td>\n",
       "      <td>2.500000</td>\n",
       "    </tr>\n",
       "    <tr>\n",
       "      <th>...</th>\n",
       "      <td>...</td>\n",
       "      <td>...</td>\n",
       "      <td>...</td>\n",
       "    </tr>\n",
       "    <tr>\n",
       "      <th>2017-07-26</th>\n",
       "      <td>Atomic Blonde</td>\n",
       "      <td>30.000000</td>\n",
       "      <td>90.007945</td>\n",
       "    </tr>\n",
       "    <tr>\n",
       "      <th>2017-07-28</th>\n",
       "      <td>The Emoji Movie</td>\n",
       "      <td>50.000000</td>\n",
       "      <td>66.913939</td>\n",
       "    </tr>\n",
       "    <tr>\n",
       "      <th>2017-08-03</th>\n",
       "      <td>The Dark Tower</td>\n",
       "      <td>60.000000</td>\n",
       "      <td>71.000000</td>\n",
       "    </tr>\n",
       "    <tr>\n",
       "      <th>2017-08-03</th>\n",
       "      <td>Wind River</td>\n",
       "      <td>11.000000</td>\n",
       "      <td>184.770205</td>\n",
       "    </tr>\n",
       "    <tr>\n",
       "      <th>2017-08-04</th>\n",
       "      <td>Kidnap</td>\n",
       "      <td>21.000000</td>\n",
       "      <td>24.527158</td>\n",
       "    </tr>\n",
       "  </tbody>\n",
       "</table>\n",
       "<p>5381 rows × 3 columns</p>\n",
       "</div>"
      ],
      "text/plain": [
       "                                     title     budget     revenue\n",
       "release_date                                                     \n",
       "1915-02-08           The Birth of a Nation   0.100000   11.000000\n",
       "1915-12-13                       The Cheat   0.017311    0.137365\n",
       "1916-12-24    20,000 Leagues Under the Sea   0.200000    8.000000\n",
       "1918-08-01                          Mickey   0.250000    8.000000\n",
       "1921-01-21                         The Kid   0.250000    2.500000\n",
       "...                                    ...        ...         ...\n",
       "2017-07-26                   Atomic Blonde  30.000000   90.007945\n",
       "2017-07-28                 The Emoji Movie  50.000000   66.913939\n",
       "2017-08-03                  The Dark Tower  60.000000   71.000000\n",
       "2017-08-03                      Wind River  11.000000  184.770205\n",
       "2017-08-04                          Kidnap  21.000000   24.527158\n",
       "\n",
       "[5381 rows x 3 columns]"
      ]
     },
     "execution_count": 172,
     "metadata": {},
     "output_type": "execute_result"
    }
   ],
   "source": [
    "movies_df.loc[(movies_df.budget > 0) & (movies_df.revenue > 0)]"
   ]
  },
  {
   "cell_type": "code",
   "execution_count": 173,
   "id": "227bf282-53f4-4f33-8751-ebe063e2f4bb",
   "metadata": {},
   "outputs": [],
   "source": [
    "movies_df = movies_df.loc[(movies_df.budget > 0) & (movies_df.revenue > 0)]"
   ]
  },
  {
   "cell_type": "code",
   "execution_count": 174,
   "id": "1eb848b9-2081-48b0-81ba-b87cd3d885fb",
   "metadata": {},
   "outputs": [
    {
     "name": "stdout",
     "output_type": "stream",
     "text": [
      "<class 'pandas.core.frame.DataFrame'>\n",
      "DatetimeIndex: 5381 entries, 1915-02-08 to 2017-08-04\n",
      "Data columns (total 3 columns):\n",
      " #   Column   Non-Null Count  Dtype  \n",
      "---  ------   --------------  -----  \n",
      " 0   title    5381 non-null   object \n",
      " 1   budget   5381 non-null   float64\n",
      " 2   revenue  5381 non-null   float64\n",
      "dtypes: float64(2), object(1)\n",
      "memory usage: 168.2+ KB\n"
     ]
    }
   ],
   "source": [
    "movies_df.info()"
   ]
  },
  {
   "cell_type": "code",
   "execution_count": 175,
   "id": "c5a4ac44-cbd3-4eb4-9614-fca6b6eafaef",
   "metadata": {},
   "outputs": [
    {
     "data": {
      "text/html": [
       "<div>\n",
       "<style scoped>\n",
       "    .dataframe tbody tr th:only-of-type {\n",
       "        vertical-align: middle;\n",
       "    }\n",
       "\n",
       "    .dataframe tbody tr th {\n",
       "        vertical-align: top;\n",
       "    }\n",
       "\n",
       "    .dataframe thead th {\n",
       "        text-align: right;\n",
       "    }\n",
       "</style>\n",
       "<table border=\"1\" class=\"dataframe\">\n",
       "  <thead>\n",
       "    <tr style=\"text-align: right;\">\n",
       "      <th></th>\n",
       "      <th>budget</th>\n",
       "      <th>revenue</th>\n",
       "    </tr>\n",
       "  </thead>\n",
       "  <tbody>\n",
       "    <tr>\n",
       "      <th>count</th>\n",
       "      <td>5381.000000</td>\n",
       "      <td>5381.000000</td>\n",
       "    </tr>\n",
       "    <tr>\n",
       "      <th>mean</th>\n",
       "      <td>31.094796</td>\n",
       "      <td>90.318123</td>\n",
       "    </tr>\n",
       "    <tr>\n",
       "      <th>std</th>\n",
       "      <td>40.162625</td>\n",
       "      <td>166.142264</td>\n",
       "    </tr>\n",
       "    <tr>\n",
       "      <th>min</th>\n",
       "      <td>0.000001</td>\n",
       "      <td>0.000001</td>\n",
       "    </tr>\n",
       "    <tr>\n",
       "      <th>25%</th>\n",
       "      <td>5.037000</td>\n",
       "      <td>7.011317</td>\n",
       "    </tr>\n",
       "    <tr>\n",
       "      <th>50%</th>\n",
       "      <td>17.000000</td>\n",
       "      <td>29.918745</td>\n",
       "    </tr>\n",
       "    <tr>\n",
       "      <th>75%</th>\n",
       "      <td>40.000000</td>\n",
       "      <td>99.965753</td>\n",
       "    </tr>\n",
       "    <tr>\n",
       "      <th>max</th>\n",
       "      <td>380.000000</td>\n",
       "      <td>2787.965087</td>\n",
       "    </tr>\n",
       "  </tbody>\n",
       "</table>\n",
       "</div>"
      ],
      "text/plain": [
       "            budget      revenue\n",
       "count  5381.000000  5381.000000\n",
       "mean     31.094796    90.318123\n",
       "std      40.162625   166.142264\n",
       "min       0.000001     0.000001\n",
       "25%       5.037000     7.011317\n",
       "50%      17.000000    29.918745\n",
       "75%      40.000000    99.965753\n",
       "max     380.000000  2787.965087"
      ]
     },
     "execution_count": 175,
     "metadata": {},
     "output_type": "execute_result"
    }
   ],
   "source": [
    "movies_df.describe()"
   ]
  },
  {
   "cell_type": "code",
   "execution_count": 176,
   "id": "710f1566-e872-480b-aa48-f6c1e176f5a5",
   "metadata": {},
   "outputs": [],
   "source": [
    "movies_df.to_csv('bud_vs_rev.csv')"
   ]
  },
  {
   "cell_type": "code",
   "execution_count": 177,
   "id": "ee3c0dd5-bdf8-4c75-ae08-6707024208a7",
   "metadata": {},
   "outputs": [],
   "source": [
    "movies_df_2016 = movies_df.loc['2016']"
   ]
  },
  {
   "cell_type": "code",
   "execution_count": 178,
   "id": "95a83466-61b5-4657-bf30-07997cb7377d",
   "metadata": {},
   "outputs": [
    {
     "data": {
      "text/html": [
       "<div>\n",
       "<style scoped>\n",
       "    .dataframe tbody tr th:only-of-type {\n",
       "        vertical-align: middle;\n",
       "    }\n",
       "\n",
       "    .dataframe tbody tr th {\n",
       "        vertical-align: top;\n",
       "    }\n",
       "\n",
       "    .dataframe thead th {\n",
       "        text-align: right;\n",
       "    }\n",
       "</style>\n",
       "<table border=\"1\" class=\"dataframe\">\n",
       "  <thead>\n",
       "    <tr style=\"text-align: right;\">\n",
       "      <th></th>\n",
       "      <th>title</th>\n",
       "      <th>budget</th>\n",
       "      <th>revenue</th>\n",
       "    </tr>\n",
       "    <tr>\n",
       "      <th>release_date</th>\n",
       "      <th></th>\n",
       "      <th></th>\n",
       "      <th></th>\n",
       "    </tr>\n",
       "  </thead>\n",
       "  <tbody>\n",
       "    <tr>\n",
       "      <th>2016-01-01</th>\n",
       "      <td>Jane Got a Gun</td>\n",
       "      <td>25.0</td>\n",
       "      <td>1.397284</td>\n",
       "    </tr>\n",
       "    <tr>\n",
       "      <th>2016-01-07</th>\n",
       "      <td>Friend Request</td>\n",
       "      <td>9.9</td>\n",
       "      <td>2.400000</td>\n",
       "    </tr>\n",
       "    <tr>\n",
       "      <th>2016-01-07</th>\n",
       "      <td>The Forest</td>\n",
       "      <td>10.0</td>\n",
       "      <td>40.055439</td>\n",
       "    </tr>\n",
       "    <tr>\n",
       "      <th>2016-01-07</th>\n",
       "      <td>Wazir</td>\n",
       "      <td>5.2</td>\n",
       "      <td>9.200000</td>\n",
       "    </tr>\n",
       "    <tr>\n",
       "      <th>2016-01-13</th>\n",
       "      <td>13 Hours: The Secret Soldiers of Benghazi</td>\n",
       "      <td>50.0</td>\n",
       "      <td>69.411370</td>\n",
       "    </tr>\n",
       "    <tr>\n",
       "      <th>...</th>\n",
       "      <td>...</td>\n",
       "      <td>...</td>\n",
       "      <td>...</td>\n",
       "    </tr>\n",
       "    <tr>\n",
       "      <th>2016-12-23</th>\n",
       "      <td>Resident Evil: The Final Chapter</td>\n",
       "      <td>40.0</td>\n",
       "      <td>312.242626</td>\n",
       "    </tr>\n",
       "    <tr>\n",
       "      <th>2016-12-23</th>\n",
       "      <td>Railroad Tigers</td>\n",
       "      <td>50.0</td>\n",
       "      <td>102.205175</td>\n",
       "    </tr>\n",
       "    <tr>\n",
       "      <th>2016-12-23</th>\n",
       "      <td>Dangal</td>\n",
       "      <td>10.4</td>\n",
       "      <td>310.000000</td>\n",
       "    </tr>\n",
       "    <tr>\n",
       "      <th>2016-12-25</th>\n",
       "      <td>Live by Night</td>\n",
       "      <td>108.0</td>\n",
       "      <td>22.678555</td>\n",
       "    </tr>\n",
       "    <tr>\n",
       "      <th>2016-12-25</th>\n",
       "      <td>20th Century Women</td>\n",
       "      <td>7.0</td>\n",
       "      <td>5.816211</td>\n",
       "    </tr>\n",
       "  </tbody>\n",
       "</table>\n",
       "<p>235 rows × 3 columns</p>\n",
       "</div>"
      ],
      "text/plain": [
       "                                                  title  budget     revenue\n",
       "release_date                                                               \n",
       "2016-01-01                               Jane Got a Gun    25.0    1.397284\n",
       "2016-01-07                               Friend Request     9.9    2.400000\n",
       "2016-01-07                                   The Forest    10.0   40.055439\n",
       "2016-01-07                                        Wazir     5.2    9.200000\n",
       "2016-01-13    13 Hours: The Secret Soldiers of Benghazi    50.0   69.411370\n",
       "...                                                 ...     ...         ...\n",
       "2016-12-23             Resident Evil: The Final Chapter    40.0  312.242626\n",
       "2016-12-23                              Railroad Tigers    50.0  102.205175\n",
       "2016-12-23                                       Dangal    10.4  310.000000\n",
       "2016-12-25                                Live by Night   108.0   22.678555\n",
       "2016-12-25                           20th Century Women     7.0    5.816211\n",
       "\n",
       "[235 rows x 3 columns]"
      ]
     },
     "execution_count": 178,
     "metadata": {},
     "output_type": "execute_result"
    }
   ],
   "source": [
    "movies_df_2016"
   ]
  },
  {
   "cell_type": "code",
   "execution_count": 179,
   "id": "3aa273ad-b734-4a70-b771-aacc66318c50",
   "metadata": {},
   "outputs": [
    {
     "name": "stdout",
     "output_type": "stream",
     "text": [
      "<class 'pandas.core.frame.DataFrame'>\n",
      "DatetimeIndex: 235 entries, 2016-01-01 to 2016-12-25\n",
      "Data columns (total 3 columns):\n",
      " #   Column   Non-Null Count  Dtype  \n",
      "---  ------   --------------  -----  \n",
      " 0   title    235 non-null    object \n",
      " 1   budget   235 non-null    float64\n",
      " 2   revenue  235 non-null    float64\n",
      "dtypes: float64(2), object(1)\n",
      "memory usage: 7.3+ KB\n"
     ]
    }
   ],
   "source": [
    "movies_df_2016.info()"
   ]
  },
  {
   "cell_type": "code",
   "execution_count": 180,
   "id": "4e6136a5-8a33-4157-88d4-f5c5f0eded4d",
   "metadata": {},
   "outputs": [
    {
     "data": {
      "text/html": [
       "<div>\n",
       "<style scoped>\n",
       "    .dataframe tbody tr th:only-of-type {\n",
       "        vertical-align: middle;\n",
       "    }\n",
       "\n",
       "    .dataframe tbody tr th {\n",
       "        vertical-align: top;\n",
       "    }\n",
       "\n",
       "    .dataframe thead th {\n",
       "        text-align: right;\n",
       "    }\n",
       "</style>\n",
       "<table border=\"1\" class=\"dataframe\">\n",
       "  <thead>\n",
       "    <tr style=\"text-align: right;\">\n",
       "      <th></th>\n",
       "      <th>budget</th>\n",
       "      <th>revenue</th>\n",
       "    </tr>\n",
       "  </thead>\n",
       "  <tbody>\n",
       "    <tr>\n",
       "      <th>count</th>\n",
       "      <td>235.000000</td>\n",
       "      <td>235.000000</td>\n",
       "    </tr>\n",
       "    <tr>\n",
       "      <th>mean</th>\n",
       "      <td>40.461695</td>\n",
       "      <td>126.074160</td>\n",
       "    </tr>\n",
       "    <tr>\n",
       "      <th>std</th>\n",
       "      <td>51.435816</td>\n",
       "      <td>215.314723</td>\n",
       "    </tr>\n",
       "    <tr>\n",
       "      <th>min</th>\n",
       "      <td>0.000500</td>\n",
       "      <td>0.000050</td>\n",
       "    </tr>\n",
       "    <tr>\n",
       "      <th>25%</th>\n",
       "      <td>8.500000</td>\n",
       "      <td>5.889868</td>\n",
       "    </tr>\n",
       "    <tr>\n",
       "      <th>50%</th>\n",
       "      <td>20.000000</td>\n",
       "      <td>32.000000</td>\n",
       "    </tr>\n",
       "    <tr>\n",
       "      <th>75%</th>\n",
       "      <td>45.500000</td>\n",
       "      <td>142.200330</td>\n",
       "    </tr>\n",
       "    <tr>\n",
       "      <th>max</th>\n",
       "      <td>250.000000</td>\n",
       "      <td>1153.304495</td>\n",
       "    </tr>\n",
       "  </tbody>\n",
       "</table>\n",
       "</div>"
      ],
      "text/plain": [
       "           budget      revenue\n",
       "count  235.000000   235.000000\n",
       "mean    40.461695   126.074160\n",
       "std     51.435816   215.314723\n",
       "min      0.000500     0.000050\n",
       "25%      8.500000     5.889868\n",
       "50%     20.000000    32.000000\n",
       "75%     45.500000   142.200330\n",
       "max    250.000000  1153.304495"
      ]
     },
     "execution_count": 180,
     "metadata": {},
     "output_type": "execute_result"
    }
   ],
   "source": [
    "movies_df_2016.describe()"
   ]
  },
  {
   "cell_type": "code",
   "execution_count": 182,
   "id": "1300c12c-39bd-4869-b775-05ddd45cb632",
   "metadata": {},
   "outputs": [
    {
     "data": {
      "text/plain": [
       "budget      40.461695\n",
       "revenue    126.074160\n",
       "dtype: float64"
      ]
     },
     "execution_count": 182,
     "metadata": {},
     "output_type": "execute_result"
    }
   ],
   "source": [
    "movies_df_2016.mean(numeric_only = True)"
   ]
  },
  {
   "cell_type": "code",
   "execution_count": 183,
   "id": "ed30109c-e285-43b6-92e8-5c04722f7214",
   "metadata": {},
   "outputs": [
    {
     "data": {
      "text/plain": [
       "budget      51.435816\n",
       "revenue    215.314723\n",
       "dtype: float64"
      ]
     },
     "execution_count": 183,
     "metadata": {},
     "output_type": "execute_result"
    }
   ],
   "source": [
    "movies_df_2016.std(numeric_only = True)"
   ]
  },
  {
   "cell_type": "code",
   "execution_count": 184,
   "id": "00282359-8ef2-4012-8e66-cfbd418aa839",
   "metadata": {},
   "outputs": [
    {
     "data": {
      "text/plain": [
       "budget      2645.643127\n",
       "revenue    46360.429784\n",
       "dtype: float64"
      ]
     },
     "execution_count": 184,
     "metadata": {},
     "output_type": "execute_result"
    }
   ],
   "source": [
    "movies_df_2016.var(numeric_only = True)"
   ]
  },
  {
   "cell_type": "code",
   "execution_count": 185,
   "id": "5c3d9bc9-fe42-4b6a-8fed-22a3c0d84b0a",
   "metadata": {},
   "outputs": [
    {
     "data": {
      "text/html": [
       "<div>\n",
       "<style scoped>\n",
       "    .dataframe tbody tr th:only-of-type {\n",
       "        vertical-align: middle;\n",
       "    }\n",
       "\n",
       "    .dataframe tbody tr th {\n",
       "        vertical-align: top;\n",
       "    }\n",
       "\n",
       "    .dataframe thead th {\n",
       "        text-align: right;\n",
       "    }\n",
       "</style>\n",
       "<table border=\"1\" class=\"dataframe\">\n",
       "  <thead>\n",
       "    <tr style=\"text-align: right;\">\n",
       "      <th></th>\n",
       "      <th>budget</th>\n",
       "      <th>revenue</th>\n",
       "    </tr>\n",
       "  </thead>\n",
       "  <tbody>\n",
       "    <tr>\n",
       "      <th>budget</th>\n",
       "      <td>2645.643127</td>\n",
       "      <td>8861.380845</td>\n",
       "    </tr>\n",
       "    <tr>\n",
       "      <th>revenue</th>\n",
       "      <td>8861.380845</td>\n",
       "      <td>46360.429784</td>\n",
       "    </tr>\n",
       "  </tbody>\n",
       "</table>\n",
       "</div>"
      ],
      "text/plain": [
       "              budget       revenue\n",
       "budget   2645.643127   8861.380845\n",
       "revenue  8861.380845  46360.429784"
      ]
     },
     "execution_count": 185,
     "metadata": {},
     "output_type": "execute_result"
    }
   ],
   "source": [
    "movies_df_2016.cov(numeric_only = True)"
   ]
  },
  {
   "cell_type": "code",
   "execution_count": 186,
   "id": "d9463bba-c25b-4444-85bb-a2c865bdc36d",
   "metadata": {},
   "outputs": [
    {
     "data": {
      "text/plain": [
       "8861.380845230347"
      ]
     },
     "execution_count": 186,
     "metadata": {},
     "output_type": "execute_result"
    }
   ],
   "source": [
    "movies_df_2016.budget.cov(movies_df_2016.revenue)"
   ]
  },
  {
   "cell_type": "code",
   "execution_count": 190,
   "id": "50e6975f-7362-4ce9-868b-e26bac58d70c",
   "metadata": {},
   "outputs": [
    {
     "data": {
      "text/html": [
       "<div>\n",
       "<style scoped>\n",
       "    .dataframe tbody tr th:only-of-type {\n",
       "        vertical-align: middle;\n",
       "    }\n",
       "\n",
       "    .dataframe tbody tr th {\n",
       "        vertical-align: top;\n",
       "    }\n",
       "\n",
       "    .dataframe thead th {\n",
       "        text-align: right;\n",
       "    }\n",
       "</style>\n",
       "<table border=\"1\" class=\"dataframe\">\n",
       "  <thead>\n",
       "    <tr style=\"text-align: right;\">\n",
       "      <th></th>\n",
       "      <th>budget</th>\n",
       "      <th>revenue</th>\n",
       "    </tr>\n",
       "  </thead>\n",
       "  <tbody>\n",
       "    <tr>\n",
       "      <th>budget</th>\n",
       "      <td>1.000000</td>\n",
       "      <td>0.800133</td>\n",
       "    </tr>\n",
       "    <tr>\n",
       "      <th>revenue</th>\n",
       "      <td>0.800133</td>\n",
       "      <td>1.000000</td>\n",
       "    </tr>\n",
       "  </tbody>\n",
       "</table>\n",
       "</div>"
      ],
      "text/plain": [
       "           budget   revenue\n",
       "budget   1.000000  0.800133\n",
       "revenue  0.800133  1.000000"
      ]
     },
     "execution_count": 190,
     "metadata": {},
     "output_type": "execute_result"
    }
   ],
   "source": [
    "movies_df_2016.corr(numeric_only = True)"
   ]
  },
  {
   "cell_type": "code",
   "execution_count": 187,
   "id": "16d06130-beb3-4c9e-ada3-d4c3f02712b7",
   "metadata": {},
   "outputs": [
    {
     "data": {
      "text/plain": [
       "0.8001327462030166"
      ]
     },
     "execution_count": 187,
     "metadata": {},
     "output_type": "execute_result"
    }
   ],
   "source": [
    "movies_df_2016.budget.corr(movies_df_2016.revenue)"
   ]
  },
  {
   "cell_type": "code",
   "execution_count": 197,
   "id": "155b90e2-fa0f-4464-aa34-8853cecfd46e",
   "metadata": {},
   "outputs": [
    {
     "data": {
      "text/plain": [
       "array([[ 2645.6431,  8861.3808],\n",
       "       [ 8861.3808, 46360.4298]])"
      ]
     },
     "execution_count": 197,
     "metadata": {},
     "output_type": "execute_result"
    }
   ],
   "source": [
    "np.cov(movies_df_2016.budget, movies_df_2016.revenue, ddof = 1)"
   ]
  },
  {
   "cell_type": "code",
   "execution_count": 200,
   "id": "8e72b7fc-b998-4cad-9460-c47b26206773",
   "metadata": {},
   "outputs": [
    {
     "name": "stderr",
     "output_type": "stream",
     "text": [
      "C:\\Users\\Oggy\\AppData\\Local\\Temp\\ipykernel_16512\\619844813.py:1: DeprecationWarning: bias and ddof have no effect and are deprecated\n",
      "  np.corrcoef(movies_df_2016.budget, movies_df_2016.revenue, ddof = 1)\n"
     ]
    },
    {
     "data": {
      "text/plain": [
       "array([[1.    , 0.8001],\n",
       "       [0.8001, 1.    ]])"
      ]
     },
     "execution_count": 200,
     "metadata": {},
     "output_type": "execute_result"
    }
   ],
   "source": [
    "np.corrcoef(movies_df_2016.budget, movies_df_2016.revenue, ddof = 1)"
   ]
  },
  {
   "cell_type": "code",
   "execution_count": 201,
   "id": "00301879-919d-41ba-93bf-09b36ec01a98",
   "metadata": {},
   "outputs": [],
   "source": [
    "import seaborn as sns"
   ]
  },
  {
   "cell_type": "code",
   "execution_count": 206,
   "id": "5c388e20-679b-4974-9abf-a6a97d2f4b6a",
   "metadata": {},
   "outputs": [
    {
     "data": {
      "image/png": "[encoded data removed]",
      "text/plain": [
       "<Figure size 1200x600 with 1 Axes>"
      ]
     },
     "metadata": {},
     "output_type": "display_data"
    }
   ],
   "source": [
    "# plt.figure(figsize = (12, 6))\n",
    "movies_df_2016.plot(kind = 'scatter', x = 'budget', y = 'revenue', figsize = (12, 6))\n",
    "plt.show()"
   ]
  },
  {
   "cell_type": "code",
   "execution_count": 208,
   "id": "e14af7ac-a270-4595-aceb-da5c5296cd63",
   "metadata": {},
   "outputs": [
    {
     "data": {
      "image/png": "[encoded data removed]",
      "text/plain": [
       "<Figure size 600x600 with 3 Axes>"
      ]
     },
     "metadata": {},
     "output_type": "display_data"
    }
   ],
   "source": [
    "sns.jointplot(data = movies_df_2016, x = 'budget', y = 'revenue')\n",
    "plt.show()"
   ]
  },
  {
   "cell_type": "markdown",
   "id": "03668221-a712-40ee-9d99-baf759b7ba36",
   "metadata": {},
   "source": [
    "## **Linear regression**"
   ]
  },
  {
   "cell_type": "code",
   "execution_count": 215,
   "id": "e190f4bd-8ed1-49f2-b8a9-1388e0711d61",
   "metadata": {},
   "outputs": [
    {
     "data": {
      "image/png": "[encoded data removed]",
      "text/plain": [
       "<Figure size 500x500 with 1 Axes>"
      ]
     },
     "metadata": {},
     "output_type": "display_data"
    }
   ],
   "source": [
    "sns.lmplot(data = movies_df_2016, x = 'budget', y = 'revenue', ci = None, line_kws = {'color': 'red'})\n",
    "plt.show()"
   ]
  },
  {
   "cell_type": "markdown",
   "id": "a083271f-1ffd-4157-9ca3-02cab1945d76",
   "metadata": {},
   "source": [
    "#### **Using numpy**"
   ]
  },
  {
   "cell_type": "code",
   "execution_count": 220,
   "id": "04452d95-795c-4496-954e-21eb2f890ccb",
   "metadata": {},
   "outputs": [],
   "source": [
    "x = movies_df_2016.iloc[:, -2]"
   ]
  },
  {
   "cell_type": "code",
   "execution_count": 221,
   "id": "e2222b44-ec23-4d32-8c59-0c9304ca26a9",
   "metadata": {},
   "outputs": [],
   "source": [
    "y = movies_df_2016.iloc[:, -1]"
   ]
  },
  {
   "cell_type": "code",
   "execution_count": 222,
   "id": "a8495e53-97d9-4fa9-8b5c-fc921e67f06e",
   "metadata": {},
   "outputs": [],
   "source": [
    "reg = np.polyfit(x = x, y = y, deg = 1)"
   ]
  },
  {
   "cell_type": "code",
   "execution_count": 223,
   "id": "e9ca0e2b-9f61-431e-a458-d2b17987bc8f",
   "metadata": {},
   "outputs": [
    {
     "data": {
      "text/plain": [
       "array([ 3.3494, -9.4492])"
      ]
     },
     "execution_count": 223,
     "metadata": {},
     "output_type": "execute_result"
    }
   ],
   "source": [
    "reg"
   ]
  },
  {
   "cell_type": "code",
   "execution_count": 224,
   "id": "8135e17f-f9c6-4192-a599-78ea5e678b61",
   "metadata": {},
   "outputs": [
    {
     "data": {
      "text/plain": [
       "array([ 3.3494, -9.4492])"
      ]
     },
     "execution_count": 224,
     "metadata": {},
     "output_type": "execute_result"
    }
   ],
   "source": [
    "np.polyfit(x = movies_df_2016.budget, y = movies_df_2016.revenue, deg = 1)"
   ]
  },
  {
   "cell_type": "code",
   "execution_count": 226,
   "id": "bc814df9-3b60-4149-b1b9-c1014ba311a4",
   "metadata": {},
   "outputs": [],
   "source": [
    "X = np.array([min(x), max(x)])"
   ]
  },
  {
   "cell_type": "code",
   "execution_count": 227,
   "id": "1d0665c4-c587-4e63-b655-e5b2c2f5becb",
   "metadata": {},
   "outputs": [
    {
     "data": {
      "text/plain": [
       "array([  0.0005, 250.    ])"
      ]
     },
     "execution_count": 227,
     "metadata": {},
     "output_type": "execute_result"
    }
   ],
   "source": [
    "X"
   ]
  },
  {
   "cell_type": "code",
   "execution_count": 230,
   "id": "c8a9e5db-0c2d-4199-9f59-d3addd4e4406",
   "metadata": {},
   "outputs": [],
   "source": [
    "Y = np.polyval(reg, X)"
   ]
  },
  {
   "cell_type": "code",
   "execution_count": 231,
   "id": "40d46430-c450-4cbb-944f-90431d8ff112",
   "metadata": {},
   "outputs": [
    {
     "data": {
      "text/plain": [
       "array([ -9.4475, 827.9068])"
      ]
     },
     "execution_count": 231,
     "metadata": {},
     "output_type": "execute_result"
    }
   ],
   "source": [
    "Y"
   ]
  },
  {
   "cell_type": "code",
   "execution_count": 235,
   "id": "10469c4a-2aa2-4dc8-9340-ae103d1b765b",
   "metadata": {},
   "outputs": [
    {
     "data": {
      "image/png": "[encoded data removed]",
      "text/plain": [
       "<Figure size 1200x600 with 1 Axes>"
      ]
     },
     "metadata": {},
     "output_type": "display_data"
    }
   ],
   "source": [
    "plt.figure(figsize = (12, 6))\n",
    "plt.plot(X, Y)\n",
    "plt.scatter(x = x, y = y)\n",
    "plt.show()"
   ]
  },
  {
   "cell_type": "markdown",
   "id": "e5df5d21-36ee-41db-a365-544332eb79b6",
   "metadata": {},
   "source": [
    "#### **Using scipy**"
   ]
  },
  {
   "cell_type": "code",
   "execution_count": 236,
   "id": "f3d8fef0-af7e-4ba5-9bd1-524670fac6ea",
   "metadata": {},
   "outputs": [
    {
     "data": {
      "text/plain": [
       "LinregressResult(slope=3.3494240988498913, intercept=-9.44921505388669, rvalue=0.8001327462030164, pvalue=1.238743107523989e-53, stderr=0.1644951979393438, intercept_stderr=10.750908075249312)"
      ]
     },
     "execution_count": 236,
     "metadata": {},
     "output_type": "execute_result"
    }
   ],
   "source": [
    "stats.linregress(x = x, y = y)"
   ]
  },
  {
   "cell_type": "code",
   "execution_count": null,
   "id": "df772b5c-1419-45e6-a9bb-a5f6499bb604",
   "metadata": {},
   "outputs": [],
   "source": [
    "s"
   ]
  }
 ],
 "metadata": {
  "kernelspec": {
   "display_name": "Python 3 (ipykernel)",
   "language": "python",
   "name": "python3"
  },
  "language_info": {
   "codemirror_mode": {
    "name": "ipython",
    "version": 3
   },
   "file_extension": ".py",
   "mimetype": "text/x-python",
   "name": "python",
   "nbconvert_exporter": "python",
   "pygments_lexer": "ipython3",
   "version": "3.11.7"
  }
 },
 "nbformat": 4,
 "nbformat_minor": 5
}
