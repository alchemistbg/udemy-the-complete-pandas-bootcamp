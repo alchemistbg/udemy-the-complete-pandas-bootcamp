{
 "cells": [
  {
   "cell_type": "markdown",
   "id": "b72c8f73-e4c1-4013-8c22-93c8ed45f562",
   "metadata": {},
   "source": [
    "# **Statistical concepts**"
   ]
  },
  {
   "cell_type": "markdown",
   "id": "4822bda8-2a2c-49f0-ba6e-ca513aa13248",
   "metadata": {},
   "source": [
    "## **Population vs sample**"
   ]
  },
  {
   "cell_type": "code",
   "execution_count": 1,
   "id": "046021fb-e60a-49d7-b46e-4800a5015a61",
   "metadata": {},
   "outputs": [],
   "source": [
    "import numpy as np\n",
    "np.set_printoptions(precision = 2, suppress = True)"
   ]
  },
  {
   "cell_type": "code",
   "execution_count": 2,
   "id": "0d5edbe9-e024-47d0-83c4-d92c0e764681",
   "metadata": {},
   "outputs": [],
   "source": [
    "pop = np.loadtxt(fname = 'SP500_pop.csv', delimiter = ',', usecols = 1)"
   ]
  },
  {
   "cell_type": "code",
   "execution_count": 3,
   "id": "6d17973b-4005-44fa-904b-451932f823b3",
   "metadata": {},
   "outputs": [
    {
     "data": {
      "text/plain": [
       "array([ 0.47,  0.11, -0.41,  0.46,  0.54,  0.17,  0.66,  0.49,  0.31,\n",
       "        0.7 ,  0.23, -0.12,  0.14,  0.11,  0.42,  0.12,  0.17, -0.07,\n",
       "        0.26, -0.22, -0.09, -0.04,  0.09,  0.22, -0.02,  0.49,  1.31,\n",
       "       -0.17,  0.41,  0.24, -0.02,  0.58,  0.11, -0.09,  0.49,  0.41,\n",
       "        0.19,  0.53,  0.35,  0.56,  1.43,  0.6 ,  0.57,  0.2 ,  0.29,\n",
       "       -0.33,  0.14,  0.31,  0.5 ,  0.18,  0.47,  0.16,  0.75,  0.01,\n",
       "        0.45,  0.64,  0.26,  0.34, -0.1 ,  0.89,  0.34,  0.46,  0.06,\n",
       "        0.6 ,  0.29,  0.09,  0.53, -0.51,  0.12,  0.14,  0.19,  0.35,\n",
       "        0.01,  0.05,  0.37,  0.22,  0.15,  0.3 ,  0.03,  0.25, -0.05,\n",
       "       -0.15,  0.7 ,  0.11,  0.69,  0.38, -0.07,  0.28,  0.27,  0.66,\n",
       "        0.33,  0.36, -0.1 ,  0.42,  0.35,  0.18,  0.14,  0.22,  0.17,\n",
       "        0.52, -0.01,  0.15,  0.24,  0.27,  0.16,  0.27, -0.23,  0.29,\n",
       "        0.14,  0.79,  0.15,  0.14,  0.22,  0.25,  0.09,  0.16,  0.09,\n",
       "       -0.2 ,  0.46,  0.56,  0.49,  0.27,  0.53,  0.35, -0.3 ,  0.27,\n",
       "        0.24, -0.08,  0.06,  0.13,  0.06,  0.14,  0.24,  0.52,  0.07,\n",
       "        0.26,  0.07,  0.87,  0.19,  0.03, -0.18, -0.21, -0.18,  0.16,\n",
       "        0.39,  0.35,  0.02,  0.32,  0.11,  0.08,  0.13, -0.09,  0.6 ,\n",
       "        0.33,  0.27,  0.14,  0.15, -0.  , -0.12,  0.66,  0.23,  0.25,\n",
       "        0.07,  0.27, -0.01,  0.14,  0.04,  0.43,  0.18,  0.11, -0.06,\n",
       "        0.2 ,  0.11,  0.22,  0.06,  0.13,  0.03,  0.25,  0.16,  0.53,\n",
       "        0.28,  0.44,  0.34, -0.01, -0.09,  0.24,  0.23,  0.12,  0.29,\n",
       "       -0.12,  0.36,  0.67, -0.06, -0.07, -0.12,  0.45,  0.35,  0.18,\n",
       "       -0.45,  0.  , -0.04,  0.23,  0.32,  0.18,  0.36,  0.33, -0.01,\n",
       "        0.44,  0.52,  0.23,  0.06,  0.02, -0.1 ,  0.17,  0.1 , -0.03,\n",
       "        0.19, -0.12,  0.41, -0.24,  0.56,  0.18,  0.28,  0.43, -0.13,\n",
       "        0.07,  0.32, -0.16,  0.07,  0.42,  0.14,  0.05, -0.08,  0.05,\n",
       "        0.1 ,  0.22, -0.08,  0.25,  0.33,  0.47,  0.3 ,  0.71, -0.06,\n",
       "        0.28,  0.27,  0.38,  0.09, -0.14,  1.17,  0.29,  0.19,  0.16,\n",
       "        0.73,  0.22,  0.36,  0.2 ,  0.18, -0.07,  0.16,  0.14,  0.32,\n",
       "        0.21,  0.01,  0.24, -0.01, -0.08,  0.1 ,  0.14, -0.11, -0.28,\n",
       "        0.34,  0.06, -0.13, -0.  ,  0.11, -0.2 ,  0.1 ,  0.24,  0.07,\n",
       "       -0.09,  0.26, -0.02,  0.5 ,  0.24,  0.38,  0.32,  0.33,  0.15,\n",
       "        0.28,  0.16,  0.12,  0.31,  0.74,  0.31,  0.49,  0.29, -0.3 ,\n",
       "        0.47,  0.03, -0.07,  0.64,  0.39,  0.41,  0.37,  0.11,  0.57,\n",
       "       -0.03,  0.13,  0.05,  0.16,  0.38,  0.09,  0.37, -0.  ,  0.2 ,\n",
       "        0.32,  0.43,  0.06, -0.13,  0.31, -0.04, -0.02,  0.24,  0.61,\n",
       "        0.38,  0.09,  0.09,  0.48,  0.88,  0.36,  0.11, -0.23,  0.25,\n",
       "        0.14,  0.31,  0.1 ,  0.55,  0.16,  0.23,  3.87, -0.13,  0.32,\n",
       "       -0.04,  1.32,  0.34,  0.57,  0.12,  0.07,  0.81, -0.31,  0.41,\n",
       "        0.41, -0.01, -0.07, -0.14,  0.23, -0.14,  0.03,  0.12, -0.03,\n",
       "        0.11,  0.17,  0.15,  0.12,  0.22,  0.09,  0.59,  0.43,  0.81,\n",
       "        0.42,  0.4 ,  0.22,  0.15,  0.23,  0.26,  0.09,  0.23, -0.09,\n",
       "        0.05,  0.1 , -0.06,  0.17,  0.52,  0.12, -0.04,  0.87, -0.02,\n",
       "        0.26,  0.45,  0.02,  0.  ,  0.02,  0.2 ,  0.14,  0.29,  0.15,\n",
       "        0.36,  0.46,  0.38,  0.41,  0.22,  0.19,  0.32,  0.58,  0.03,\n",
       "        0.3 ,  0.09,  0.53,  0.36, -0.03, -0.2 , -0.06,  0.02,  0.45,\n",
       "       -0.02, -0.03,  0.58,  0.06,  0.18,  0.26,  0.1 ,  0.49,  0.48,\n",
       "        0.27,  0.06,  0.29,  0.17,  0.1 , -0.09, -0.16,  0.1 ,  0.37,\n",
       "        0.54, -0.1 ,  0.34,  0.02,  0.35,  0.1 ,  0.26, -0.26,  0.39,\n",
       "        0.11, -0.01,  0.31,  1.23,  0.47,  0.43,  0.17, -0.47, -0.5 ,\n",
       "       -0.08,  0.06,  0.07, -0.12,  0.38,  0.25,  0.29,  0.04,  0.63,\n",
       "        0.04,  0.16,  0.46,  0.41,  0.39, -0.12,  0.35,  0.03, -0.07,\n",
       "        0.18,  0.5 ,  1.03, -0.04, -0.01, -0.02,  0.44, -0.12,  0.47,\n",
       "        0.17,  0.13, -0.05,  0.1 , -0.07,  0.23,  0.22, -0.02,  0.43,\n",
       "        0.25, -0.12,  0.17,  0.95, -0.1 ,  0.18,  0.12, -0.07,  0.14,\n",
       "        0.27,  0.38,  0.29,  0.18,  0.35])"
      ]
     },
     "execution_count": 3,
     "metadata": {},
     "output_type": "execute_result"
    }
   ],
   "source": [
    "pop"
   ]
  },
  {
   "cell_type": "code",
   "execution_count": 4,
   "id": "8e76dbae-404e-4c41-bd72-d0ce790b3523",
   "metadata": {},
   "outputs": [],
   "source": [
    "pop = pop * 100"
   ]
  },
  {
   "cell_type": "code",
   "execution_count": 5,
   "id": "61ab5cc9-0fb5-4dd6-968a-53919557b50d",
   "metadata": {},
   "outputs": [
    {
     "data": {
      "text/plain": [
       "(500,)"
      ]
     },
     "execution_count": 5,
     "metadata": {},
     "output_type": "execute_result"
    }
   ],
   "source": [
    "pop.shape"
   ]
  },
  {
   "cell_type": "code",
   "execution_count": 6,
   "id": "0726e9a0-c7fe-4331-b903-2af26d735541",
   "metadata": {},
   "outputs": [
    {
     "data": {
      "text/plain": [
       "array([ 46.99,  11.44, -41.05,  46.11,  54.44,  17.43,  66.32,  48.58,\n",
       "        30.7 ,  70.22,  22.6 , -12.2 ,  14.02,  10.93,  41.64,  12.45,\n",
       "        16.85,  -6.8 ,  26.12, -22.11,  -8.77,  -3.83,   8.59,  21.79,\n",
       "        -2.46,  48.57, 131.13, -17.15,  41.27,  24.31,  -2.26,  58.41,\n",
       "        11.01,  -9.35,  49.12,  41.26,  18.94,  52.76,  35.  ,  55.96,\n",
       "       143.44,  59.57,  56.51,  20.15,  29.42, -33.48,  14.09,  30.65,\n",
       "        50.27,  17.51,  46.98,  15.83,  75.35,   0.71,  45.33,  63.57,\n",
       "        26.44,  34.06,  -9.93,  89.43,  33.57,  45.78,   5.74,  60.46,\n",
       "        29.3 ,   9.47,  52.87, -51.3 ,  12.34,  13.68,  18.53,  35.  ,\n",
       "         0.85,   4.86,  36.62,  21.62,  14.61,  29.54,   3.38,  25.21,\n",
       "        -4.75, -14.87,  69.92,  10.6 ,  68.62,  37.54,  -7.26,  27.94,\n",
       "        27.49,  65.82,  33.4 ,  35.99,  -9.84,  42.26,  35.13,  17.82,\n",
       "        13.53,  21.61,  16.69,  52.25,  -1.03,  15.3 ,  23.93,  27.46,\n",
       "        15.99,  26.61, -23.4 ,  29.25,  13.65,  78.55,  15.1 ,  14.14,\n",
       "        22.43,  24.55,   9.47,  16.25,   8.63, -20.44,  46.46,  55.92,\n",
       "        49.33,  26.74,  53.1 ,  34.85, -29.86,  26.75,  23.73,  -8.12,\n",
       "         6.36,  13.29,   5.84,  13.84,  24.47,  51.89,   6.7 ,  25.57,\n",
       "         7.17,  86.86,  19.24,   3.16, -18.35, -20.95, -17.57,  15.92,\n",
       "        39.04,  34.78,   2.45,  32.04,  11.12,   8.36,  12.54,  -9.35,\n",
       "        59.71,  33.39,  27.11,  14.47,  15.3 ,  -0.26, -12.15,  66.35,\n",
       "        23.18,  25.  ,   6.74,  26.81,  -0.92,  14.39,   3.82,  43.06,\n",
       "        17.77,  10.78,  -6.3 ,  20.29,  11.05,  22.15,   5.73,  13.22,\n",
       "         2.97,  24.93,  16.39,  53.38,  28.02,  43.75,  34.02,  -1.13,\n",
       "        -9.33,  24.39,  23.39,  12.5 ,  28.82, -12.32,  35.97,  67.38,\n",
       "        -5.97,  -6.54, -11.88,  45.05,  34.91,  17.83, -44.77,   0.04,\n",
       "        -4.01,  22.98,  31.81,  17.65,  35.58,  32.93,  -0.55,  44.42,\n",
       "        51.78,  22.85,   6.39,   1.72,  -9.65,  16.84,  10.14,  -3.06,\n",
       "        18.67, -12.25,  41.36, -23.79,  56.35,  18.11,  27.97,  43.09,\n",
       "       -12.79,   6.56,  32.38, -16.49,   6.77,  41.58,  14.05,   4.54,\n",
       "        -7.87,   5.36,   9.75,  21.59,  -7.57,  25.06,  33.35,  46.54,\n",
       "        29.52,  70.64,  -5.55,  27.51,  27.27,  37.67,   9.2 , -13.88,\n",
       "       116.93,  28.73,  18.86,  16.16,  72.64,  21.85,  36.25,  20.44,\n",
       "        18.45,  -7.48,  15.72,  13.92,  31.74,  21.27,   0.85,  23.93,\n",
       "        -1.15,  -7.77,  10.4 ,  13.75, -10.95, -27.86,  33.54,   5.73,\n",
       "       -12.75,  -0.4 ,  10.66, -20.46,   9.82,  24.01,   6.83,  -8.54,\n",
       "        26.26,  -2.35,  49.82,  24.25,  38.24,  31.99,  32.69,  14.83,\n",
       "        28.45,  16.  ,  12.46,  30.68,  74.09,  31.32,  49.14,  28.61,\n",
       "       -29.66,  46.6 ,   2.7 ,  -7.28,  64.16,  38.96,  41.41,  36.99,\n",
       "        11.04,  56.58,  -3.45,  13.37,   5.27,  15.82,  38.17,   9.19,\n",
       "        37.32,  -0.22,  20.42,  31.81,  42.74,   5.6 , -12.51,  31.04,\n",
       "        -4.42,  -2.2 ,  24.19,  60.62,  37.66,   8.99,   9.31,  48.01,\n",
       "        87.59,  35.55,  10.9 , -23.44,  25.21,  14.47,  30.75,  10.13,\n",
       "        55.06,  15.94,  23.06, 386.72, -13.23,  31.96,  -3.79, 132.3 ,\n",
       "        34.08,  56.85,  12.17,   6.82,  81.28, -30.8 ,  40.68,  41.45,\n",
       "        -0.8 ,  -6.9 , -14.43,  22.96, -13.6 ,   3.41,  11.83,  -3.41,\n",
       "        11.24,  17.37,  14.61,  11.51,  21.95,   9.28,  58.65,  42.56,\n",
       "        80.9 ,  42.12,  40.21,  22.2 ,  15.48,  23.37,  25.94,   9.16,\n",
       "        23.28,  -9.1 ,   4.72,  10.49,  -6.49,  17.06,  52.05,  12.22,\n",
       "        -4.01,  86.52,  -1.81,  26.3 ,  45.39,   2.25,   0.33,   2.42,\n",
       "        20.33,  13.86,  28.92,  14.8 ,  36.49,  46.09,  37.74,  41.47,\n",
       "        22.33,  18.51,  32.29,  58.2 ,   3.44,  30.15,   8.73,  52.58,\n",
       "        36.18,  -2.98, -19.73,  -6.16,   1.77,  44.82,  -2.24,  -3.34,\n",
       "        57.52,   6.24,  17.76,  25.59,   9.61,  49.09,  47.96,  27.18,\n",
       "         6.45,  29.24,  17.46,   9.68,  -8.58, -15.66,  10.31,  37.18,\n",
       "        54.4 ,  -9.66,  34.25,   1.78,  34.57,  10.43,  26.3 , -25.68,\n",
       "        39.42,  10.8 ,  -1.4 ,  31.44, 122.72,  47.3 ,  43.13,  16.54,\n",
       "       -47.08, -50.33,  -7.52,   5.59,   6.55, -12.27,  37.75,  24.95,\n",
       "        29.34,   3.93,  62.82,   4.3 ,  16.37,  46.14,  41.18,  38.69,\n",
       "       -12.22,  34.53,   2.57,  -7.34,  18.27,  50.44, 103.42,  -4.01,\n",
       "        -0.84,  -1.92,  43.75, -12.25,  46.71,  17.04,  13.27,  -4.72,\n",
       "        10.09,  -7.22,  23.23,  21.7 ,  -2.09,  42.87,  24.5 , -12.48,\n",
       "        17.18,  94.88, -10.22,  18.21,  11.68,  -7.33,  14.03,  26.74,\n",
       "        37.72,  28.86,  18.1 ,  34.58])"
      ]
     },
     "execution_count": 6,
     "metadata": {},
     "output_type": "execute_result"
    }
   ],
   "source": [
    "pop"
   ]
  },
  {
   "cell_type": "code",
   "execution_count": 7,
   "id": "b27f15a5-2de8-4cd4-b0e3-329b912f045c",
   "metadata": {},
   "outputs": [
    {
     "data": {
      "text/plain": [
       "500"
      ]
     },
     "execution_count": 7,
     "metadata": {},
     "output_type": "execute_result"
    }
   ],
   "source": [
    "pop.size"
   ]
  },
  {
   "cell_type": "code",
   "execution_count": 8,
   "id": "e28580f7-fef4-42b6-9faf-c36ab53432c2",
   "metadata": {},
   "outputs": [],
   "source": [
    "sample = np.loadtxt(fname = 'sample.csv', delimiter = ',', usecols = 1)"
   ]
  },
  {
   "cell_type": "code",
   "execution_count": 9,
   "id": "3ff8fd75-3c04-47f0-9b6e-f614560be160",
   "metadata": {},
   "outputs": [
    {
     "data": {
      "text/plain": [
       "array([ 0.42,  0.16,  0.48,  0.58, -0.03,  0.14,  0.17,  0.37,  0.34,\n",
       "        0.07,  0.1 , -0.01,  0.49,  0.11,  0.95, -0.12,  0.05, -0.07,\n",
       "        0.29,  0.71,  0.42,  0.38, -0.12,  0.24,  0.19,  0.25, -0.  ,\n",
       "        0.89, -0.1 ,  0.2 ,  0.09,  0.38,  0.1 ,  0.19, -0.13,  0.15,\n",
       "        0.24,  0.23, -0.09,  1.32,  0.12,  0.7 ,  0.36, -0.01,  0.5 ,\n",
       "        0.26,  0.12, -0.09, -0.02,  0.7 ])"
      ]
     },
     "execution_count": 9,
     "metadata": {},
     "output_type": "execute_result"
    }
   ],
   "source": [
    "sample"
   ]
  },
  {
   "cell_type": "code",
   "execution_count": 10,
   "id": "847c2d75-5bb2-4860-9d11-3e9a94ba5749",
   "metadata": {},
   "outputs": [],
   "source": [
    "sample = sample * 100"
   ]
  },
  {
   "cell_type": "code",
   "execution_count": 11,
   "id": "b32be15e-6d46-4ddc-8274-f43b0403a2f7",
   "metadata": {},
   "outputs": [
    {
     "data": {
      "text/plain": [
       "array([ 41.58,  15.94,  48.01,  57.52,  -3.45,  13.84,  17.43,  37.18,\n",
       "        34.25,   6.7 ,   9.82,  -1.15,  49.12,  10.66,  94.88, -12.2 ,\n",
       "         4.72,  -7.34,  29.24,  70.64,  42.26,  38.17, -12.32,  24.01,\n",
       "        19.24,  25.21,  -0.22,  89.43,  -9.65,  20.29,   9.16,  37.54,\n",
       "        10.4 ,  18.94, -12.75,  14.83,  24.39,  23.06,  -9.35, 132.3 ,\n",
       "        11.51,  70.22,  35.58,  -0.84,  50.27,  26.26,  12.45,  -9.33,\n",
       "        -2.46,  69.92])"
      ]
     },
     "execution_count": 11,
     "metadata": {},
     "output_type": "execute_result"
    }
   ],
   "source": [
    "sample"
   ]
  },
  {
   "cell_type": "code",
   "execution_count": 12,
   "id": "56dbbe56-ea5f-4215-a2f8-76a4b70b5ae6",
   "metadata": {},
   "outputs": [
    {
     "data": {
      "text/plain": [
       "50"
      ]
     },
     "execution_count": 12,
     "metadata": {},
     "output_type": "execute_result"
    }
   ],
   "source": [
    "sample.size"
   ]
  },
  {
   "cell_type": "code",
   "execution_count": 13,
   "id": "0bd3f8a2-ffa2-4561-9478-c066e861b32b",
   "metadata": {},
   "outputs": [
    {
     "data": {
      "text/plain": [
       "array([ True,  True,  True,  True,  True,  True,  True,  True,  True,\n",
       "        True,  True,  True,  True,  True,  True,  True,  True,  True,\n",
       "        True,  True,  True,  True,  True,  True,  True,  True,  True,\n",
       "        True,  True,  True,  True,  True,  True,  True,  True,  True,\n",
       "        True,  True,  True,  True,  True,  True,  True,  True,  True,\n",
       "        True,  True,  True,  True,  True])"
      ]
     },
     "execution_count": 13,
     "metadata": {},
     "output_type": "execute_result"
    }
   ],
   "source": [
    "np.isin(sample, pop)"
   ]
  },
  {
   "cell_type": "markdown",
   "id": "a057b6bf-e646-492e-b2d9-4a03f13fd4d5",
   "metadata": {},
   "source": [
    "## **Visualizing frequencies**"
   ]
  },
  {
   "cell_type": "code",
   "execution_count": 14,
   "id": "e31a78ee-c78f-46ec-abc4-9bd1ee89fad2",
   "metadata": {},
   "outputs": [],
   "source": [
    "import matplotlib.pyplot as plt\n",
    "plt.style.use('seaborn-v0_8')"
   ]
  },
  {
   "cell_type": "code",
   "execution_count": 15,
   "id": "523538d3-21fd-4ef7-b888-4020b5545a07",
   "metadata": {},
   "outputs": [
    {
     "data": {
      "image/png": "[encoded data removed]",
      "text/plain": [
       "<Figure size 1200x600 with 1 Axes>"
      ]
     },
     "metadata": {},
     "output_type": "display_data"
    }
   ],
   "source": [
    "plt.figure(figsize = (12, 6))\n",
    "plt.hist(pop, bins = 75)\n",
    "plt.title(\"Absolute Frequencies - Population\", fontsize = 20)\n",
    "plt.xlabel(\"Stock Returns - 2017 (in %)\")\n",
    "plt.xticks(np.arange(-100, 400, 25))\n",
    "plt.ylabel(\"Absolute Frequencies\")\n",
    "plt.show()"
   ]
  },
  {
   "cell_type": "code",
   "execution_count": 16,
   "id": "04ca8c74-ccd8-40c6-a644-d574dfa4dac3",
   "metadata": {},
   "outputs": [
    {
     "data": {
      "image/png": "[encoded data removed]",
      "text/plain": [
       "<Figure size 1200x600 with 1 Axes>"
      ]
     },
     "metadata": {},
     "output_type": "display_data"
    }
   ],
   "source": [
    "plt.figure(figsize = (12, 6))\n",
    "plt.hist(sample, bins = 15)\n",
    "plt.title(\"Absolute Frequencies - Population\", fontsize = 20)\n",
    "plt.xlabel(\"Stock Returns - 2017 (in %)\")\n",
    "plt.ylabel(\"Absolute Frequencies\")\n",
    "plt.show()"
   ]
  },
  {
   "cell_type": "code",
   "execution_count": 17,
   "id": "dbe39b2b-111e-48aa-aa43-b569714663cc",
   "metadata": {},
   "outputs": [],
   "source": [
    "np.set_printoptions(precision = 4, suppress = True)"
   ]
  },
  {
   "cell_type": "code",
   "execution_count": 18,
   "id": "700f8b29-754e-4eee-880b-1b47a4892e40",
   "metadata": {},
   "outputs": [],
   "source": [
    "weights_pop = (np.ones(len(pop)) / len(pop))"
   ]
  },
  {
   "cell_type": "code",
   "execution_count": 19,
   "id": "6b199c48-d389-46a2-8f2d-7c78ea60280b",
   "metadata": {},
   "outputs": [
    {
     "data": {
      "image/png": "[encoded data removed]",
      "text/plain": [
       "<Figure size 1200x600 with 1 Axes>"
      ]
     },
     "metadata": {},
     "output_type": "display_data"
    }
   ],
   "source": [
    "plt.figure(figsize = (12, 6))\n",
    "plt.hist(pop, bins = 75, weights = weights_pop)\n",
    "plt.title(\"Relative Frequencies - Population\", fontsize = 20)\n",
    "plt.xlabel(\"Stock Returns - 2017 (in %)\")\n",
    "plt.xticks(np.arange(-100, 400, 25))\n",
    "plt.ylabel(\"Relative Frequencies\")\n",
    "plt.show()"
   ]
  },
  {
   "cell_type": "code",
   "execution_count": 20,
   "id": "72e88824-ab24-4fd1-8985-1c8942822655",
   "metadata": {},
   "outputs": [],
   "source": [
    "weights_sample = np.ones(len(sample)) / len(sample)"
   ]
  },
  {
   "cell_type": "code",
   "execution_count": 21,
   "id": "1611e923-6f96-4f75-bb1b-e74839c7f7a2",
   "metadata": {},
   "outputs": [
    {
     "data": {
      "image/png": "[encoded data removed]",
      "text/plain": [
       "<Figure size 1200x600 with 1 Axes>"
      ]
     },
     "metadata": {},
     "output_type": "display_data"
    }
   ],
   "source": [
    "plt.figure(figsize = (12, 6))\n",
    "plt.hist(sample, bins = 15, weights = weights_sample)\n",
    "plt.title(\"Relative Frequencies - Population\", fontsize = 20)\n",
    "plt.xlabel(\"Stock Returns - 2017 (in %)\")\n",
    "plt.ylabel(\"Relative Frequencies\")\n",
    "plt.show()"
   ]
  },
  {
   "cell_type": "markdown",
   "id": "54379886-19af-430a-b4d7-68d5e109e763",
   "metadata": {},
   "source": [
    "## **Measures of central tendecy**"
   ]
  },
  {
   "cell_type": "code",
   "execution_count": 22,
   "id": "93f9e968-ead5-4c4b-b9d2-d0cbc4ec687f",
   "metadata": {},
   "outputs": [
    {
     "data": {
      "text/plain": [
       "21.780347999003943"
      ]
     },
     "execution_count": 22,
     "metadata": {},
     "output_type": "execute_result"
    }
   ],
   "source": [
    "pop.mean()"
   ]
  },
  {
   "cell_type": "code",
   "execution_count": 23,
   "id": "4681aae4-fe19-44d0-a31c-d1106cf4319c",
   "metadata": {},
   "outputs": [
    {
     "data": {
      "text/plain": [
       "21.780347999003943"
      ]
     },
     "execution_count": 23,
     "metadata": {},
     "output_type": "execute_result"
    }
   ],
   "source": [
    "np.mean(pop)"
   ]
  },
  {
   "cell_type": "code",
   "execution_count": 24,
   "id": "65ac88a3-d5b5-434a-b353-a0b346f7c5ad",
   "metadata": {},
   "outputs": [
    {
     "data": {
      "text/plain": [
       "25.318589009450747"
      ]
     },
     "execution_count": 24,
     "metadata": {},
     "output_type": "execute_result"
    }
   ],
   "source": [
    "sample.mean()"
   ]
  },
  {
   "cell_type": "code",
   "execution_count": 25,
   "id": "8318020a-9ccc-41d7-a69b-9f21e8a20e63",
   "metadata": {},
   "outputs": [
    {
     "data": {
      "text/plain": [
       "25.318589009450747"
      ]
     },
     "execution_count": 25,
     "metadata": {},
     "output_type": "execute_result"
    }
   ],
   "source": [
    "np.mean(sample)"
   ]
  },
  {
   "cell_type": "code",
   "execution_count": 26,
   "id": "9295a2f5-0aef-48da-bc14-6a98dfe33eba",
   "metadata": {},
   "outputs": [],
   "source": [
    "def my_median(array):\n",
    "    array_lengt = len(array)\n",
    "    array_sorted = sorted(array)\n",
    "    if array_lengt % 2 != 0:\n",
    "        return array_sorted[array_lengt // 2]\n",
    "    else:\n",
    "        return sum(array_sorted[(array_lengt // 2) - 1 : (array_lengt // 2)  + 1]) / 2"
   ]
  },
  {
   "cell_type": "code",
   "execution_count": 27,
   "id": "577e7105-2f13-4c2e-97cb-aa47aed82216",
   "metadata": {},
   "outputs": [
    {
     "data": {
      "text/plain": [
       "18.158807954190955"
      ]
     },
     "execution_count": 27,
     "metadata": {},
     "output_type": "execute_result"
    }
   ],
   "source": [
    "np.median(pop)"
   ]
  },
  {
   "cell_type": "code",
   "execution_count": 28,
   "id": "8fbb350a-b1b6-4ff2-8d35-80058f44dc57",
   "metadata": {},
   "outputs": [
    {
     "data": {
      "text/plain": [
       "18.158807954190955"
      ]
     },
     "execution_count": 28,
     "metadata": {},
     "output_type": "execute_result"
    }
   ],
   "source": [
    "my_median(pop)"
   ]
  },
  {
   "cell_type": "code",
   "execution_count": 29,
   "id": "bb000d1d-bdb9-4d0c-9432-0e07ce14a317",
   "metadata": {},
   "outputs": [],
   "source": [
    "prices = np.array([100, 107, 102, 110])"
   ]
  },
  {
   "cell_type": "code",
   "execution_count": 30,
   "id": "06c8fd00-2cb2-4caf-9d8f-527b3639af98",
   "metadata": {},
   "outputs": [],
   "source": [
    "returns = (prices[1:] / prices[:-1]) - 1"
   ]
  },
  {
   "cell_type": "code",
   "execution_count": 31,
   "id": "0736ee47-596c-4edf-84bd-066367faf74e",
   "metadata": {},
   "outputs": [],
   "source": [
    "returns_geo_mean = (returns + 1).prod() ** (1 / returns.size) - 1"
   ]
  },
  {
   "cell_type": "code",
   "execution_count": 32,
   "id": "7a9831a7-acc2-4491-be22-d0d6b3f4ec61",
   "metadata": {},
   "outputs": [
    {
     "data": {
      "text/plain": [
       "0.03228011545636722"
      ]
     },
     "execution_count": 32,
     "metadata": {},
     "output_type": "execute_result"
    }
   ],
   "source": [
    "returns_geo_mean"
   ]
  },
  {
   "cell_type": "markdown",
   "id": "7d74594b-6668-4e21-be46-8e59102f8834",
   "metadata": {},
   "source": [
    "## **Variability around the central tendency**"
   ]
  },
  {
   "cell_type": "code",
   "execution_count": 33,
   "id": "c6553acc-dd3e-4128-b179-9c5c3fb7440d",
   "metadata": {},
   "outputs": [
    {
     "data": {
      "text/plain": [
       "-51.30060027705095"
      ]
     },
     "execution_count": 33,
     "metadata": {},
     "output_type": "execute_result"
    }
   ],
   "source": [
    "pop.min()"
   ]
  },
  {
   "cell_type": "code",
   "execution_count": 34,
   "id": "cd1aa281-5756-4ec7-844a-822e93dad2b9",
   "metadata": {},
   "outputs": [
    {
     "data": {
      "text/plain": [
       "386.7155664221679"
      ]
     },
     "execution_count": 34,
     "metadata": {},
     "output_type": "execute_result"
    }
   ],
   "source": [
    "pop.max()"
   ]
  },
  {
   "cell_type": "code",
   "execution_count": 35,
   "id": "36574069-7f32-473c-b23d-fca84427621f",
   "metadata": {},
   "outputs": [
    {
     "data": {
      "text/plain": [
       "438.01616669921884"
      ]
     },
     "execution_count": 35,
     "metadata": {},
     "output_type": "execute_result"
    }
   ],
   "source": [
    "pop.ptp()"
   ]
  },
  {
   "cell_type": "code",
   "execution_count": 36,
   "id": "81c72030-8af2-4a8f-8cf5-eb48149447fb",
   "metadata": {},
   "outputs": [
    {
     "data": {
      "text/plain": [
       "438.01616669921884"
      ]
     },
     "execution_count": 36,
     "metadata": {},
     "output_type": "execute_result"
    }
   ],
   "source": [
    "pop.max() - pop.min()"
   ]
  },
  {
   "cell_type": "code",
   "execution_count": 37,
   "id": "d40feb5f-6a34-44d8-b7b9-bfccd48d5780",
   "metadata": {},
   "outputs": [
    {
     "data": {
      "text/plain": [
       "-12.747464992757129"
      ]
     },
     "execution_count": 37,
     "metadata": {},
     "output_type": "execute_result"
    }
   ],
   "source": [
    "sample.min()"
   ]
  },
  {
   "cell_type": "code",
   "execution_count": 38,
   "id": "db2e243e-2a3a-4561-b3f2-b2f40a2015de",
   "metadata": {},
   "outputs": [
    {
     "data": {
      "text/plain": [
       "132.30016313213704"
      ]
     },
     "execution_count": 38,
     "metadata": {},
     "output_type": "execute_result"
    }
   ],
   "source": [
    "sample.max()"
   ]
  },
  {
   "cell_type": "code",
   "execution_count": 39,
   "id": "e4240c26-b510-4640-a095-e016a86c422e",
   "metadata": {},
   "outputs": [
    {
     "data": {
      "text/plain": [
       "145.04762812489417"
      ]
     },
     "execution_count": 39,
     "metadata": {},
     "output_type": "execute_result"
    }
   ],
   "source": [
    "sample.ptp()"
   ]
  },
  {
   "cell_type": "code",
   "execution_count": 40,
   "id": "3b349741-3bba-4fe4-b222-46fcb40251bc",
   "metadata": {},
   "outputs": [
    {
     "data": {
      "text/plain": [
       "18.158807954190955"
      ]
     },
     "execution_count": 40,
     "metadata": {},
     "output_type": "execute_result"
    }
   ],
   "source": [
    "np.percentile(pop, 50)"
   ]
  },
  {
   "cell_type": "code",
   "execution_count": 41,
   "id": "d8c5b681-8b88-45dd-b337-8c47a8afad61",
   "metadata": {},
   "outputs": [
    {
     "data": {
      "text/plain": [
       "18.158807954190955"
      ]
     },
     "execution_count": 41,
     "metadata": {},
     "output_type": "execute_result"
    }
   ],
   "source": [
    "np.median(pop)"
   ]
  },
  {
   "cell_type": "code",
   "execution_count": 42,
   "id": "cdbb7d61-24d3-4237-89ce-b1cf9e0b9dd9",
   "metadata": {},
   "outputs": [
    {
     "data": {
      "text/plain": [
       "962.631408916871"
      ]
     },
     "execution_count": 42,
     "metadata": {},
     "output_type": "execute_result"
    }
   ],
   "source": [
    "pop.var()"
   ]
  },
  {
   "cell_type": "code",
   "execution_count": 43,
   "id": "3fb57551-12ed-43d8-8f83-934cdb1e642c",
   "metadata": {},
   "outputs": [
    {
     "data": {
      "text/plain": [
       "31.026301889153192"
      ]
     },
     "execution_count": 43,
     "metadata": {},
     "output_type": "execute_result"
    }
   ],
   "source": [
    "pop.std()"
   ]
  },
  {
   "cell_type": "code",
   "execution_count": 44,
   "id": "5256344b-1363-4654-af07-b59aee533c3b",
   "metadata": {},
   "outputs": [
    {
     "data": {
      "text/plain": [
       "930.0397527373713"
      ]
     },
     "execution_count": 44,
     "metadata": {},
     "output_type": "execute_result"
    }
   ],
   "source": [
    "sample.var(ddof = 1)"
   ]
  },
  {
   "cell_type": "code",
   "execution_count": 45,
   "id": "2f53eadc-504c-4d65-93bf-582e891cafb6",
   "metadata": {},
   "outputs": [
    {
     "data": {
      "text/plain": [
       "30.496553128794265"
      ]
     },
     "execution_count": 45,
     "metadata": {},
     "output_type": "execute_result"
    }
   ],
   "source": [
    "sample.std(ddof = 1)"
   ]
  },
  {
   "cell_type": "markdown",
   "id": "6079a613-a650-4672-b73a-b81acdf52495",
   "metadata": {},
   "source": [
    "## **Skew and kurtosis**"
   ]
  },
  {
   "cell_type": "code",
   "execution_count": 46,
   "id": "ada9ba58-cc53-4d22-9876-154a5a725c09",
   "metadata": {},
   "outputs": [],
   "source": [
    "import scipy.stats as stats"
   ]
  },
  {
   "cell_type": "code",
   "execution_count": 47,
   "id": "026a11d0-36aa-4d5f-a142-6ef9eaf91e9d",
   "metadata": {
    "scrolled": true
   },
   "outputs": [
    {
     "data": {
      "text/plain": [
       "3.69215566312915"
      ]
     },
     "execution_count": 47,
     "metadata": {},
     "output_type": "execute_result"
    }
   ],
   "source": [
    "stats.skew(pop)"
   ]
  },
  {
   "cell_type": "code",
   "execution_count": 48,
   "id": "5418ebe0-c1fa-4126-b001-d131e2c6b91b",
   "metadata": {},
   "outputs": [
    {
     "data": {
      "text/plain": [
       "SkewtestResult(statistic=16.94983170028088, pvalue=1.930054846544556e-64)"
      ]
     },
     "execution_count": 48,
     "metadata": {},
     "output_type": "execute_result"
    }
   ],
   "source": [
    "stats.skewtest(pop)"
   ]
  },
  {
   "cell_type": "code",
   "execution_count": 49,
   "id": "2982fdbc-e3ba-45c9-b87e-c1235c0717a4",
   "metadata": {},
   "outputs": [
    {
     "data": {
      "text/plain": [
       "38.01022437524736"
      ]
     },
     "execution_count": 49,
     "metadata": {},
     "output_type": "execute_result"
    }
   ],
   "source": [
    "stats.kurtosis(pop, fisher = True)"
   ]
  },
  {
   "cell_type": "code",
   "execution_count": 50,
   "id": "5666661a-6b0c-4604-a5c3-d78c906ba9cd",
   "metadata": {},
   "outputs": [
    {
     "data": {
      "text/plain": [
       "41.01022437524736"
      ]
     },
     "execution_count": 50,
     "metadata": {},
     "output_type": "execute_result"
    }
   ],
   "source": [
    "stats.kurtosis(pop, fisher = False)"
   ]
  },
  {
   "cell_type": "markdown",
   "id": "d43ba6d2-e964-408b-a21b-8e0666ff8e10",
   "metadata": {},
   "source": [
    "## **Probability distribution**"
   ]
  },
  {
   "cell_type": "code",
   "execution_count": 51,
   "id": "56ac9c1a-25d8-4ef8-a6f0-b49cb516e145",
   "metadata": {},
   "outputs": [],
   "source": [
    "np.random.seed(123)\n",
    "dice = np.random.randint(low = 1, high = 7, size = 100000)"
   ]
  },
  {
   "cell_type": "code",
   "execution_count": 52,
   "id": "fefdf306-337a-4a21-ac01-47dad790d3d0",
   "metadata": {},
   "outputs": [
    {
     "data": {
      "text/plain": [
       "3.49939"
      ]
     },
     "execution_count": 52,
     "metadata": {},
     "output_type": "execute_result"
    }
   ],
   "source": [
    "dice.mean()"
   ]
  },
  {
   "cell_type": "code",
   "execution_count": 53,
   "id": "ae8e5e74-2763-4c6b-a772-65dadf6ef023",
   "metadata": {},
   "outputs": [
    {
     "data": {
      "text/plain": [
       "1.701352293882722"
      ]
     },
     "execution_count": 53,
     "metadata": {},
     "output_type": "execute_result"
    }
   ],
   "source": [
    "dice.std()"
   ]
  },
  {
   "cell_type": "code",
   "execution_count": 54,
   "id": "48d1017e-fb05-4075-b190-21330b67181e",
   "metadata": {},
   "outputs": [
    {
     "data": {
      "image/png": "[encoded data removed]",
      "text/plain": [
       "<Figure size 1200x600 with 1 Axes>"
      ]
     },
     "metadata": {},
     "output_type": "display_data"
    }
   ],
   "source": [
    "plt.figure(figsize = (12, 6))\n",
    "plt.hist(dice, bins = 6, ec = 'black')\n",
    "plt.show()"
   ]
  },
  {
   "cell_type": "code",
   "execution_count": 55,
   "id": "7d206c81-3517-4d56-9cef-3af71aef70bb",
   "metadata": {},
   "outputs": [
    {
     "data": {
      "image/png": "[encoded data removed]",
      "text/plain": [
       "<Figure size 1200x600 with 1 Axes>"
      ]
     },
     "metadata": {},
     "output_type": "display_data"
    }
   ],
   "source": [
    "plt.figure(figsize = (12, 6))\n",
    "plt.hist(dice, bins = 6, ec = 'black', weights = np.ones(dice.size) / dice.size)\n",
    "plt.show()"
   ]
  },
  {
   "cell_type": "code",
   "execution_count": 56,
   "id": "da538d58-9f58-44c7-b907-0ea33cdb4531",
   "metadata": {},
   "outputs": [],
   "source": [
    "np.random.seed(123)\n",
    "data = np.random.uniform(low = 0, high = 10, size = 10000000)"
   ]
  },
  {
   "cell_type": "code",
   "execution_count": 57,
   "id": "e5013119-7b28-4bde-ae18-dbf834362e2a",
   "metadata": {},
   "outputs": [
    {
     "data": {
      "text/plain": [
       "4.999750521964992"
      ]
     },
     "execution_count": 57,
     "metadata": {},
     "output_type": "execute_result"
    }
   ],
   "source": [
    "data.mean()"
   ]
  },
  {
   "cell_type": "code",
   "execution_count": 58,
   "id": "b59b3d5f-a6b7-4a2d-b53e-a3e8d4a7f7f1",
   "metadata": {},
   "outputs": [
    {
     "data": {
      "text/plain": [
       "2.8861410883156915"
      ]
     },
     "execution_count": 58,
     "metadata": {},
     "output_type": "execute_result"
    }
   ],
   "source": [
    "data.std()"
   ]
  },
  {
   "cell_type": "code",
   "execution_count": 59,
   "id": "521d71b0-336e-4637-92f1-a9f5a4b5b84e",
   "metadata": {},
   "outputs": [
    {
     "data": {
      "image/png": "[encoded data removed]",
      "text/plain": [
       "<Figure size 1200x600 with 1 Axes>"
      ]
     },
     "metadata": {},
     "output_type": "display_data"
    }
   ],
   "source": [
    "plt.figure(figsize = (12, 6))\n",
    "plt.hist(data, bins = 1000, ec = 'black')\n",
    "plt.show()"
   ]
  },
  {
   "cell_type": "markdown",
   "id": "5f36ff7a-d29c-45f0-8582-bd6faff830b1",
   "metadata": {},
   "source": [
    "## **The normal distribution**"
   ]
  },
  {
   "cell_type": "code",
   "execution_count": 60,
   "id": "a8eccadd-b359-49ea-bcc8-72126cf54b15",
   "metadata": {},
   "outputs": [],
   "source": [
    "mu = 100\n",
    "sigma = 2\n",
    "size = 1000000"
   ]
  },
  {
   "cell_type": "code",
   "execution_count": 61,
   "id": "ce1bac28-0acf-45d3-9498-7a6384e05f0d",
   "metadata": {},
   "outputs": [],
   "source": [
    "np.random.seed(123)\n",
    "rand_data = np.random.normal(loc = mu, scale = sigma, size = size)"
   ]
  },
  {
   "cell_type": "code",
   "execution_count": 62,
   "id": "f02e995b-6157-41e1-aaaf-e15373d3ae91",
   "metadata": {
    "scrolled": true
   },
   "outputs": [
    {
     "data": {
      "text/plain": [
       "100.00125900261469"
      ]
     },
     "execution_count": 62,
     "metadata": {},
     "output_type": "execute_result"
    }
   ],
   "source": [
    "rand_data.mean()"
   ]
  },
  {
   "cell_type": "code",
   "execution_count": 63,
   "id": "1438df68-bd23-45d2-8213-ff07de6c91af",
   "metadata": {},
   "outputs": [
    {
     "data": {
      "text/plain": [
       "2.0005171072042"
      ]
     },
     "execution_count": 63,
     "metadata": {},
     "output_type": "execute_result"
    }
   ],
   "source": [
    "rand_data.std()"
   ]
  },
  {
   "cell_type": "code",
   "execution_count": 64,
   "id": "c49b21ef-c665-4d82-b50e-d927b6eed5b0",
   "metadata": {},
   "outputs": [
    {
     "data": {
      "image/png": "[encoded data removed]",
      "text/plain": [
       "<Figure size 1200x600 with 1 Axes>"
      ]
     },
     "metadata": {},
     "output_type": "display_data"
    }
   ],
   "source": [
    "plt.figure(figsize = (12, 6))\n",
    "plt.hist(rand_data, bins = 1000)\n",
    "plt.show()"
   ]
  },
  {
   "cell_type": "code",
   "execution_count": 65,
   "id": "09a35063-0c8d-4f60-8610-de70a8f9caff",
   "metadata": {},
   "outputs": [
    {
     "data": {
      "text/plain": [
       "0.0002286155024783446"
      ]
     },
     "execution_count": 65,
     "metadata": {},
     "output_type": "execute_result"
    }
   ],
   "source": [
    "stats.skew(rand_data)"
   ]
  },
  {
   "cell_type": "code",
   "execution_count": 66,
   "id": "76bd9654-0064-4ff3-8ece-dac269ffb7cd",
   "metadata": {},
   "outputs": [
    {
     "data": {
      "text/plain": [
       "-0.005837588254301362"
      ]
     },
     "execution_count": 66,
     "metadata": {},
     "output_type": "execute_result"
    }
   ],
   "source": [
    "stats.kurtosis(rand_data, fisher = True)"
   ]
  },
  {
   "cell_type": "code",
   "execution_count": 67,
   "id": "cc812370-c1e8-4b21-aa4b-5d0ff60b4ccd",
   "metadata": {},
   "outputs": [
    {
     "data": {
      "text/plain": [
       "2.9941624117456986"
      ]
     },
     "execution_count": 67,
     "metadata": {},
     "output_type": "execute_result"
    }
   ],
   "source": [
    "stats.kurtosis(rand_data, fisher = False)"
   ]
  },
  {
   "cell_type": "code",
   "execution_count": 68,
   "id": "35b4ea05-51ad-4506-9c54-066595a7fa21",
   "metadata": {},
   "outputs": [
    {
     "data": {
      "text/plain": [
       "DescribeResult(nobs=1000000, minmax=(90.78574017842989, 109.25515988525538), mean=100.00125900261469, variance=4.00207269828936, skewness=0.0002286155024783446, kurtosis=-0.005837588254301362)"
      ]
     },
     "execution_count": 68,
     "metadata": {},
     "output_type": "execute_result"
    }
   ],
   "source": [
    "stats.describe(rand_data)"
   ]
  },
  {
   "cell_type": "code",
   "execution_count": 69,
   "id": "13414714-2653-458a-bdfe-8dca7420a9ce",
   "metadata": {},
   "outputs": [],
   "source": [
    "mu = 100\n",
    "sigma = 2"
   ]
  },
  {
   "cell_type": "code",
   "execution_count": 70,
   "id": "e6ffae6a-e1b4-4ee2-b9e1-c1b3e43a3b81",
   "metadata": {},
   "outputs": [
    {
     "data": {
      "text/plain": [
       "array([ 90.    ,  90.02  ,  90.04  ,  90.0601,  90.0801,  90.1001,\n",
       "        90.1201,  90.1401,  90.1602,  90.1802,  90.2002,  90.2202,\n",
       "        90.2402,  90.2603,  90.2803,  90.3003,  90.3203,  90.3403,\n",
       "        90.3604,  90.3804,  90.4004,  90.4204,  90.4404,  90.4605,\n",
       "        90.4805,  90.5005,  90.5205,  90.5405,  90.5606,  90.5806,\n",
       "        90.6006,  90.6206,  90.6406,  90.6607,  90.6807,  90.7007,\n",
       "        90.7207,  90.7407,  90.7608,  90.7808,  90.8008,  90.8208,\n",
       "        90.8408,  90.8609,  90.8809,  90.9009,  90.9209,  90.9409,\n",
       "        90.961 ,  90.981 ,  91.001 ,  91.021 ,  91.041 ,  91.0611,\n",
       "        91.0811,  91.1011,  91.1211,  91.1411,  91.1612,  91.1812,\n",
       "        91.2012,  91.2212,  91.2412,  91.2613,  91.2813,  91.3013,\n",
       "        91.3213,  91.3413,  91.3614,  91.3814,  91.4014,  91.4214,\n",
       "        91.4414,  91.4615,  91.4815,  91.5015,  91.5215,  91.5415,\n",
       "        91.5616,  91.5816,  91.6016,  91.6216,  91.6416,  91.6617,\n",
       "        91.6817,  91.7017,  91.7217,  91.7417,  91.7618,  91.7818,\n",
       "        91.8018,  91.8218,  91.8418,  91.8619,  91.8819,  91.9019,\n",
       "        91.9219,  91.9419,  91.962 ,  91.982 ,  92.002 ,  92.022 ,\n",
       "        92.042 ,  92.0621,  92.0821,  92.1021,  92.1221,  92.1421,\n",
       "        92.1622,  92.1822,  92.2022,  92.2222,  92.2422,  92.2623,\n",
       "        92.2823,  92.3023,  92.3223,  92.3423,  92.3624,  92.3824,\n",
       "        92.4024,  92.4224,  92.4424,  92.4625,  92.4825,  92.5025,\n",
       "        92.5225,  92.5425,  92.5626,  92.5826,  92.6026,  92.6226,\n",
       "        92.6426,  92.6627,  92.6827,  92.7027,  92.7227,  92.7427,\n",
       "        92.7628,  92.7828,  92.8028,  92.8228,  92.8428,  92.8629,\n",
       "        92.8829,  92.9029,  92.9229,  92.9429,  92.963 ,  92.983 ,\n",
       "        93.003 ,  93.023 ,  93.043 ,  93.0631,  93.0831,  93.1031,\n",
       "        93.1231,  93.1431,  93.1632,  93.1832,  93.2032,  93.2232,\n",
       "        93.2432,  93.2633,  93.2833,  93.3033,  93.3233,  93.3433,\n",
       "        93.3634,  93.3834,  93.4034,  93.4234,  93.4434,  93.4635,\n",
       "        93.4835,  93.5035,  93.5235,  93.5435,  93.5636,  93.5836,\n",
       "        93.6036,  93.6236,  93.6436,  93.6637,  93.6837,  93.7037,\n",
       "        93.7237,  93.7437,  93.7638,  93.7838,  93.8038,  93.8238,\n",
       "        93.8438,  93.8639,  93.8839,  93.9039,  93.9239,  93.9439,\n",
       "        93.964 ,  93.984 ,  94.004 ,  94.024 ,  94.044 ,  94.0641,\n",
       "        94.0841,  94.1041,  94.1241,  94.1441,  94.1642,  94.1842,\n",
       "        94.2042,  94.2242,  94.2442,  94.2643,  94.2843,  94.3043,\n",
       "        94.3243,  94.3443,  94.3644,  94.3844,  94.4044,  94.4244,\n",
       "        94.4444,  94.4645,  94.4845,  94.5045,  94.5245,  94.5445,\n",
       "        94.5646,  94.5846,  94.6046,  94.6246,  94.6446,  94.6647,\n",
       "        94.6847,  94.7047,  94.7247,  94.7447,  94.7648,  94.7848,\n",
       "        94.8048,  94.8248,  94.8448,  94.8649,  94.8849,  94.9049,\n",
       "        94.9249,  94.9449,  94.965 ,  94.985 ,  95.005 ,  95.025 ,\n",
       "        95.045 ,  95.0651,  95.0851,  95.1051,  95.1251,  95.1451,\n",
       "        95.1652,  95.1852,  95.2052,  95.2252,  95.2452,  95.2653,\n",
       "        95.2853,  95.3053,  95.3253,  95.3453,  95.3654,  95.3854,\n",
       "        95.4054,  95.4254,  95.4454,  95.4655,  95.4855,  95.5055,\n",
       "        95.5255,  95.5455,  95.5656,  95.5856,  95.6056,  95.6256,\n",
       "        95.6456,  95.6657,  95.6857,  95.7057,  95.7257,  95.7457,\n",
       "        95.7658,  95.7858,  95.8058,  95.8258,  95.8458,  95.8659,\n",
       "        95.8859,  95.9059,  95.9259,  95.9459,  95.966 ,  95.986 ,\n",
       "        96.006 ,  96.026 ,  96.046 ,  96.0661,  96.0861,  96.1061,\n",
       "        96.1261,  96.1461,  96.1662,  96.1862,  96.2062,  96.2262,\n",
       "        96.2462,  96.2663,  96.2863,  96.3063,  96.3263,  96.3463,\n",
       "        96.3664,  96.3864,  96.4064,  96.4264,  96.4464,  96.4665,\n",
       "        96.4865,  96.5065,  96.5265,  96.5465,  96.5666,  96.5866,\n",
       "        96.6066,  96.6266,  96.6466,  96.6667,  96.6867,  96.7067,\n",
       "        96.7267,  96.7467,  96.7668,  96.7868,  96.8068,  96.8268,\n",
       "        96.8468,  96.8669,  96.8869,  96.9069,  96.9269,  96.9469,\n",
       "        96.967 ,  96.987 ,  97.007 ,  97.027 ,  97.047 ,  97.0671,\n",
       "        97.0871,  97.1071,  97.1271,  97.1471,  97.1672,  97.1872,\n",
       "        97.2072,  97.2272,  97.2472,  97.2673,  97.2873,  97.3073,\n",
       "        97.3273,  97.3473,  97.3674,  97.3874,  97.4074,  97.4274,\n",
       "        97.4474,  97.4675,  97.4875,  97.5075,  97.5275,  97.5475,\n",
       "        97.5676,  97.5876,  97.6076,  97.6276,  97.6476,  97.6677,\n",
       "        97.6877,  97.7077,  97.7277,  97.7477,  97.7678,  97.7878,\n",
       "        97.8078,  97.8278,  97.8478,  97.8679,  97.8879,  97.9079,\n",
       "        97.9279,  97.9479,  97.968 ,  97.988 ,  98.008 ,  98.028 ,\n",
       "        98.048 ,  98.0681,  98.0881,  98.1081,  98.1281,  98.1481,\n",
       "        98.1682,  98.1882,  98.2082,  98.2282,  98.2482,  98.2683,\n",
       "        98.2883,  98.3083,  98.3283,  98.3483,  98.3684,  98.3884,\n",
       "        98.4084,  98.4284,  98.4484,  98.4685,  98.4885,  98.5085,\n",
       "        98.5285,  98.5485,  98.5686,  98.5886,  98.6086,  98.6286,\n",
       "        98.6486,  98.6687,  98.6887,  98.7087,  98.7287,  98.7487,\n",
       "        98.7688,  98.7888,  98.8088,  98.8288,  98.8488,  98.8689,\n",
       "        98.8889,  98.9089,  98.9289,  98.9489,  98.969 ,  98.989 ,\n",
       "        99.009 ,  99.029 ,  99.049 ,  99.0691,  99.0891,  99.1091,\n",
       "        99.1291,  99.1491,  99.1692,  99.1892,  99.2092,  99.2292,\n",
       "        99.2492,  99.2693,  99.2893,  99.3093,  99.3293,  99.3493,\n",
       "        99.3694,  99.3894,  99.4094,  99.4294,  99.4494,  99.4695,\n",
       "        99.4895,  99.5095,  99.5295,  99.5495,  99.5696,  99.5896,\n",
       "        99.6096,  99.6296,  99.6496,  99.6697,  99.6897,  99.7097,\n",
       "        99.7297,  99.7497,  99.7698,  99.7898,  99.8098,  99.8298,\n",
       "        99.8498,  99.8699,  99.8899,  99.9099,  99.9299,  99.9499,\n",
       "        99.97  ,  99.99  , 100.01  , 100.03  , 100.0501, 100.0701,\n",
       "       100.0901, 100.1101, 100.1301, 100.1502, 100.1702, 100.1902,\n",
       "       100.2102, 100.2302, 100.2503, 100.2703, 100.2903, 100.3103,\n",
       "       100.3303, 100.3504, 100.3704, 100.3904, 100.4104, 100.4304,\n",
       "       100.4505, 100.4705, 100.4905, 100.5105, 100.5305, 100.5506,\n",
       "       100.5706, 100.5906, 100.6106, 100.6306, 100.6507, 100.6707,\n",
       "       100.6907, 100.7107, 100.7307, 100.7508, 100.7708, 100.7908,\n",
       "       100.8108, 100.8308, 100.8509, 100.8709, 100.8909, 100.9109,\n",
       "       100.9309, 100.951 , 100.971 , 100.991 , 101.011 , 101.031 ,\n",
       "       101.0511, 101.0711, 101.0911, 101.1111, 101.1311, 101.1512,\n",
       "       101.1712, 101.1912, 101.2112, 101.2312, 101.2513, 101.2713,\n",
       "       101.2913, 101.3113, 101.3313, 101.3514, 101.3714, 101.3914,\n",
       "       101.4114, 101.4314, 101.4515, 101.4715, 101.4915, 101.5115,\n",
       "       101.5315, 101.5516, 101.5716, 101.5916, 101.6116, 101.6316,\n",
       "       101.6517, 101.6717, 101.6917, 101.7117, 101.7317, 101.7518,\n",
       "       101.7718, 101.7918, 101.8118, 101.8318, 101.8519, 101.8719,\n",
       "       101.8919, 101.9119, 101.9319, 101.952 , 101.972 , 101.992 ,\n",
       "       102.012 , 102.032 , 102.0521, 102.0721, 102.0921, 102.1121,\n",
       "       102.1321, 102.1522, 102.1722, 102.1922, 102.2122, 102.2322,\n",
       "       102.2523, 102.2723, 102.2923, 102.3123, 102.3323, 102.3524,\n",
       "       102.3724, 102.3924, 102.4124, 102.4324, 102.4525, 102.4725,\n",
       "       102.4925, 102.5125, 102.5325, 102.5526, 102.5726, 102.5926,\n",
       "       102.6126, 102.6326, 102.6527, 102.6727, 102.6927, 102.7127,\n",
       "       102.7327, 102.7528, 102.7728, 102.7928, 102.8128, 102.8328,\n",
       "       102.8529, 102.8729, 102.8929, 102.9129, 102.9329, 102.953 ,\n",
       "       102.973 , 102.993 , 103.013 , 103.033 , 103.0531, 103.0731,\n",
       "       103.0931, 103.1131, 103.1331, 103.1532, 103.1732, 103.1932,\n",
       "       103.2132, 103.2332, 103.2533, 103.2733, 103.2933, 103.3133,\n",
       "       103.3333, 103.3534, 103.3734, 103.3934, 103.4134, 103.4334,\n",
       "       103.4535, 103.4735, 103.4935, 103.5135, 103.5335, 103.5536,\n",
       "       103.5736, 103.5936, 103.6136, 103.6336, 103.6537, 103.6737,\n",
       "       103.6937, 103.7137, 103.7337, 103.7538, 103.7738, 103.7938,\n",
       "       103.8138, 103.8338, 103.8539, 103.8739, 103.8939, 103.9139,\n",
       "       103.9339, 103.954 , 103.974 , 103.994 , 104.014 , 104.034 ,\n",
       "       104.0541, 104.0741, 104.0941, 104.1141, 104.1341, 104.1542,\n",
       "       104.1742, 104.1942, 104.2142, 104.2342, 104.2543, 104.2743,\n",
       "       104.2943, 104.3143, 104.3343, 104.3544, 104.3744, 104.3944,\n",
       "       104.4144, 104.4344, 104.4545, 104.4745, 104.4945, 104.5145,\n",
       "       104.5345, 104.5546, 104.5746, 104.5946, 104.6146, 104.6346,\n",
       "       104.6547, 104.6747, 104.6947, 104.7147, 104.7347, 104.7548,\n",
       "       104.7748, 104.7948, 104.8148, 104.8348, 104.8549, 104.8749,\n",
       "       104.8949, 104.9149, 104.9349, 104.955 , 104.975 , 104.995 ,\n",
       "       105.015 , 105.035 , 105.0551, 105.0751, 105.0951, 105.1151,\n",
       "       105.1351, 105.1552, 105.1752, 105.1952, 105.2152, 105.2352,\n",
       "       105.2553, 105.2753, 105.2953, 105.3153, 105.3353, 105.3554,\n",
       "       105.3754, 105.3954, 105.4154, 105.4354, 105.4555, 105.4755,\n",
       "       105.4955, 105.5155, 105.5355, 105.5556, 105.5756, 105.5956,\n",
       "       105.6156, 105.6356, 105.6557, 105.6757, 105.6957, 105.7157,\n",
       "       105.7357, 105.7558, 105.7758, 105.7958, 105.8158, 105.8358,\n",
       "       105.8559, 105.8759, 105.8959, 105.9159, 105.9359, 105.956 ,\n",
       "       105.976 , 105.996 , 106.016 , 106.036 , 106.0561, 106.0761,\n",
       "       106.0961, 106.1161, 106.1361, 106.1562, 106.1762, 106.1962,\n",
       "       106.2162, 106.2362, 106.2563, 106.2763, 106.2963, 106.3163,\n",
       "       106.3363, 106.3564, 106.3764, 106.3964, 106.4164, 106.4364,\n",
       "       106.4565, 106.4765, 106.4965, 106.5165, 106.5365, 106.5566,\n",
       "       106.5766, 106.5966, 106.6166, 106.6366, 106.6567, 106.6767,\n",
       "       106.6967, 106.7167, 106.7367, 106.7568, 106.7768, 106.7968,\n",
       "       106.8168, 106.8368, 106.8569, 106.8769, 106.8969, 106.9169,\n",
       "       106.9369, 106.957 , 106.977 , 106.997 , 107.017 , 107.037 ,\n",
       "       107.0571, 107.0771, 107.0971, 107.1171, 107.1371, 107.1572,\n",
       "       107.1772, 107.1972, 107.2172, 107.2372, 107.2573, 107.2773,\n",
       "       107.2973, 107.3173, 107.3373, 107.3574, 107.3774, 107.3974,\n",
       "       107.4174, 107.4374, 107.4575, 107.4775, 107.4975, 107.5175,\n",
       "       107.5375, 107.5576, 107.5776, 107.5976, 107.6176, 107.6376,\n",
       "       107.6577, 107.6777, 107.6977, 107.7177, 107.7377, 107.7578,\n",
       "       107.7778, 107.7978, 107.8178, 107.8378, 107.8579, 107.8779,\n",
       "       107.8979, 107.9179, 107.9379, 107.958 , 107.978 , 107.998 ,\n",
       "       108.018 , 108.038 , 108.0581, 108.0781, 108.0981, 108.1181,\n",
       "       108.1381, 108.1582, 108.1782, 108.1982, 108.2182, 108.2382,\n",
       "       108.2583, 108.2783, 108.2983, 108.3183, 108.3383, 108.3584,\n",
       "       108.3784, 108.3984, 108.4184, 108.4384, 108.4585, 108.4785,\n",
       "       108.4985, 108.5185, 108.5385, 108.5586, 108.5786, 108.5986,\n",
       "       108.6186, 108.6386, 108.6587, 108.6787, 108.6987, 108.7187,\n",
       "       108.7387, 108.7588, 108.7788, 108.7988, 108.8188, 108.8388,\n",
       "       108.8589, 108.8789, 108.8989, 108.9189, 108.9389, 108.959 ,\n",
       "       108.979 , 108.999 , 109.019 , 109.039 , 109.0591, 109.0791,\n",
       "       109.0991, 109.1191, 109.1391, 109.1592, 109.1792, 109.1992,\n",
       "       109.2192, 109.2392, 109.2593, 109.2793, 109.2993, 109.3193,\n",
       "       109.3393, 109.3594, 109.3794, 109.3994, 109.4194, 109.4394,\n",
       "       109.4595, 109.4795, 109.4995, 109.5195, 109.5395, 109.5596,\n",
       "       109.5796, 109.5996, 109.6196, 109.6396, 109.6597, 109.6797,\n",
       "       109.6997, 109.7197, 109.7397, 109.7598, 109.7798, 109.7998,\n",
       "       109.8198, 109.8398, 109.8599, 109.8799, 109.8999, 109.9199,\n",
       "       109.9399, 109.96  , 109.98  , 110.    ])"
      ]
     },
     "execution_count": 70,
     "metadata": {},
     "output_type": "execute_result"
    }
   ],
   "source": [
    "x = np.linspace(90, 110, 1000)\n",
    "x"
   ]
  },
  {
   "cell_type": "code",
   "execution_count": 71,
   "id": "3046bfd6-5ae7-4692-80ac-060d1648a965",
   "metadata": {},
   "outputs": [],
   "source": [
    "y1 = stats.norm.pdf(x, loc = mu, scale = sigma)"
   ]
  },
  {
   "cell_type": "code",
   "execution_count": 72,
   "id": "f32e85a0-380f-4d00-8d29-26ef3ab51985",
   "metadata": {},
   "outputs": [
    {
     "data": {
      "image/png": "[encoded data removed]",
      "text/plain": [
       "<Figure size 1200x600 with 1 Axes>"
      ]
     },
     "metadata": {},
     "output_type": "display_data"
    }
   ],
   "source": [
    "plt.figure(figsize = (12,6))\n",
    "plt.hist(rand_data, density = True, bins = 1000)\n",
    "plt.plot(x, y1, linewidth = 3, color = 'red')\n",
    "plt.show()"
   ]
  },
  {
   "cell_type": "code",
   "execution_count": 73,
   "id": "d9670aeb-4961-43ba-a30a-f8c2929ef7f6",
   "metadata": {},
   "outputs": [],
   "source": [
    "y2 = stats.norm.cdf(x, loc = mu, scale = sigma)"
   ]
  },
  {
   "cell_type": "code",
   "execution_count": 74,
   "id": "ec2fd920-55d7-4a9f-bc0b-8d9dd2de5cac",
   "metadata": {},
   "outputs": [
    {
     "data": {
      "image/png": "[encoded data removed]",
      "text/plain": [
       "<Figure size 1200x600 with 1 Axes>"
      ]
     },
     "metadata": {},
     "output_type": "display_data"
    }
   ],
   "source": [
    "plt.figure(figsize = (12,6))\n",
    "plt.hist(rand_data, bins = 1000, density = True, cumulative = True)\n",
    "plt.plot(x, y2, linewidth = 3, color = 'red')\n",
    "plt.show()"
   ]
  },
  {
   "cell_type": "code",
   "execution_count": 75,
   "id": "5c06a430-07a8-42e3-b9dc-a957323e8012",
   "metadata": {},
   "outputs": [
    {
     "data": {
      "text/plain": [
       "100.00125900261469"
      ]
     },
     "execution_count": 75,
     "metadata": {},
     "output_type": "execute_result"
    }
   ],
   "source": [
    "mu = rand_data.mean()\n",
    "mu"
   ]
  },
  {
   "cell_type": "code",
   "execution_count": 76,
   "id": "85b0ae1e-0ca4-4a57-bcbb-4fdb41da2ca1",
   "metadata": {},
   "outputs": [
    {
     "data": {
      "text/plain": [
       "2.0005171072042"
      ]
     },
     "execution_count": 76,
     "metadata": {},
     "output_type": "execute_result"
    }
   ],
   "source": [
    "sigma = rand_data.std()\n",
    "sigma"
   ]
  },
  {
   "cell_type": "code",
   "execution_count": 79,
   "id": "4bc0c989-3001-4612-94fd-de3b2ed24960",
   "metadata": {},
   "outputs": [],
   "source": [
    "z_scores = (rand_data - mu) / sigma"
   ]
  },
  {
   "cell_type": "code",
   "execution_count": 80,
   "id": "985d5c77-3880-4a49-a9b8-d2a5efe9d8f7",
   "metadata": {},
   "outputs": [
    {
     "data": {
      "text/plain": [
       "array([-1.086 ,  0.9965,  0.2823, ..., -0.8481, -0.7386, -1.2931])"
      ]
     },
     "execution_count": 80,
     "metadata": {},
     "output_type": "execute_result"
    }
   ],
   "source": [
    "z_scores"
   ]
  },
  {
   "cell_type": "code",
   "execution_count": 81,
   "id": "9250571b-a4d3-4c51-baf0-79fa93561f19",
   "metadata": {},
   "outputs": [
    {
     "data": {
      "text/plain": [
       "array([-1.086 ,  0.9965,  0.2823, ..., -0.8481, -0.7386, -1.2931])"
      ]
     },
     "execution_count": 81,
     "metadata": {},
     "output_type": "execute_result"
    }
   ],
   "source": [
    "stats.zscore(rand_data)"
   ]
  },
  {
   "cell_type": "code",
   "execution_count": 83,
   "id": "e7cfa8ef-3956-4ff3-b511-0de9afbd1b0a",
   "metadata": {},
   "outputs": [
    {
     "data": {
      "text/plain": [
       "0.0"
      ]
     },
     "execution_count": 83,
     "metadata": {},
     "output_type": "execute_result"
    }
   ],
   "source": [
    "round(z_scores.mean(), 4)"
   ]
  },
  {
   "cell_type": "code",
   "execution_count": 84,
   "id": "ff195e7e-326b-468f-9f9a-212df8455273",
   "metadata": {},
   "outputs": [
    {
     "data": {
      "text/plain": [
       "0.9999999999999999"
      ]
     },
     "execution_count": 84,
     "metadata": {},
     "output_type": "execute_result"
    }
   ],
   "source": [
    "z_scores.std()"
   ]
  },
  {
   "cell_type": "code",
   "execution_count": 85,
   "id": "29aef758-00ff-482f-b86c-9bc1dc0e546f",
   "metadata": {},
   "outputs": [
    {
     "data": {
      "text/plain": [
       "0.00022861550244412926"
      ]
     },
     "execution_count": 85,
     "metadata": {},
     "output_type": "execute_result"
    }
   ],
   "source": [
    "stats.skew(z_scores)"
   ]
  },
  {
   "cell_type": "code",
   "execution_count": 86,
   "id": "bf0c6f78-719c-4c65-a9d3-116cafe025b1",
   "metadata": {},
   "outputs": [
    {
     "data": {
      "text/plain": [
       "-0.005837588254299586"
      ]
     },
     "execution_count": 86,
     "metadata": {},
     "output_type": "execute_result"
    }
   ],
   "source": [
    "stats.kurtosis(z_scores)"
   ]
  },
  {
   "cell_type": "code",
   "execution_count": null,
   "id": "c53cd31c-61b5-4ad3-9a82-2aed353845c3",
   "metadata": {},
   "outputs": [],
   "source": []
  }
 ],
 "metadata": {
  "kernelspec": {
   "display_name": "Python 3 (ipykernel)",
   "language": "python",
   "name": "python3"
  },
  "language_info": {
   "codemirror_mode": {
    "name": "ipython",
    "version": 3
   },
   "file_extension": ".py",
   "mimetype": "text/x-python",
   "name": "python",
   "nbconvert_exporter": "python",
   "pygments_lexer": "ipython3",
   "version": "3.11.7"
  }
 },
 "nbformat": 4,
 "nbformat_minor": 5
}
