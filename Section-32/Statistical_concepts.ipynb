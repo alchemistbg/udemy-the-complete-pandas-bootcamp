{
 "cells": [
  {
   "cell_type": "markdown",
   "id": "b72c8f73-e4c1-4013-8c22-93c8ed45f562",
   "metadata": {},
   "source": [
    "# **Statistical concepts**"
   ]
  },
  {
   "cell_type": "code",
   "execution_count": 1,
   "id": "046021fb-e60a-49d7-b46e-4800a5015a61",
   "metadata": {},
   "outputs": [],
   "source": [
    "import numpy as np\n",
    "np.set_printoptions(precision = 2, suppress = True)"
   ]
  },
  {
   "cell_type": "code",
   "execution_count": 2,
   "id": "0d5edbe9-e024-47d0-83c4-d92c0e764681",
   "metadata": {},
   "outputs": [],
   "source": [
    "pop = np.loadtxt(fname = 'SP500_pop.csv', delimiter = ',', usecols = 1)"
   ]
  },
  {
   "cell_type": "code",
   "execution_count": 3,
   "id": "6d17973b-4005-44fa-904b-451932f823b3",
   "metadata": {},
   "outputs": [
    {
     "data": {
      "text/plain": [
       "array([ 0.47,  0.11, -0.41,  0.46,  0.54,  0.17,  0.66,  0.49,  0.31,\n",
       "        0.7 ,  0.23, -0.12,  0.14,  0.11,  0.42,  0.12,  0.17, -0.07,\n",
       "        0.26, -0.22, -0.09, -0.04,  0.09,  0.22, -0.02,  0.49,  1.31,\n",
       "       -0.17,  0.41,  0.24, -0.02,  0.58,  0.11, -0.09,  0.49,  0.41,\n",
       "        0.19,  0.53,  0.35,  0.56,  1.43,  0.6 ,  0.57,  0.2 ,  0.29,\n",
       "       -0.33,  0.14,  0.31,  0.5 ,  0.18,  0.47,  0.16,  0.75,  0.01,\n",
       "        0.45,  0.64,  0.26,  0.34, -0.1 ,  0.89,  0.34,  0.46,  0.06,\n",
       "        0.6 ,  0.29,  0.09,  0.53, -0.51,  0.12,  0.14,  0.19,  0.35,\n",
       "        0.01,  0.05,  0.37,  0.22,  0.15,  0.3 ,  0.03,  0.25, -0.05,\n",
       "       -0.15,  0.7 ,  0.11,  0.69,  0.38, -0.07,  0.28,  0.27,  0.66,\n",
       "        0.33,  0.36, -0.1 ,  0.42,  0.35,  0.18,  0.14,  0.22,  0.17,\n",
       "        0.52, -0.01,  0.15,  0.24,  0.27,  0.16,  0.27, -0.23,  0.29,\n",
       "        0.14,  0.79,  0.15,  0.14,  0.22,  0.25,  0.09,  0.16,  0.09,\n",
       "       -0.2 ,  0.46,  0.56,  0.49,  0.27,  0.53,  0.35, -0.3 ,  0.27,\n",
       "        0.24, -0.08,  0.06,  0.13,  0.06,  0.14,  0.24,  0.52,  0.07,\n",
       "        0.26,  0.07,  0.87,  0.19,  0.03, -0.18, -0.21, -0.18,  0.16,\n",
       "        0.39,  0.35,  0.02,  0.32,  0.11,  0.08,  0.13, -0.09,  0.6 ,\n",
       "        0.33,  0.27,  0.14,  0.15, -0.  , -0.12,  0.66,  0.23,  0.25,\n",
       "        0.07,  0.27, -0.01,  0.14,  0.04,  0.43,  0.18,  0.11, -0.06,\n",
       "        0.2 ,  0.11,  0.22,  0.06,  0.13,  0.03,  0.25,  0.16,  0.53,\n",
       "        0.28,  0.44,  0.34, -0.01, -0.09,  0.24,  0.23,  0.12,  0.29,\n",
       "       -0.12,  0.36,  0.67, -0.06, -0.07, -0.12,  0.45,  0.35,  0.18,\n",
       "       -0.45,  0.  , -0.04,  0.23,  0.32,  0.18,  0.36,  0.33, -0.01,\n",
       "        0.44,  0.52,  0.23,  0.06,  0.02, -0.1 ,  0.17,  0.1 , -0.03,\n",
       "        0.19, -0.12,  0.41, -0.24,  0.56,  0.18,  0.28,  0.43, -0.13,\n",
       "        0.07,  0.32, -0.16,  0.07,  0.42,  0.14,  0.05, -0.08,  0.05,\n",
       "        0.1 ,  0.22, -0.08,  0.25,  0.33,  0.47,  0.3 ,  0.71, -0.06,\n",
       "        0.28,  0.27,  0.38,  0.09, -0.14,  1.17,  0.29,  0.19,  0.16,\n",
       "        0.73,  0.22,  0.36,  0.2 ,  0.18, -0.07,  0.16,  0.14,  0.32,\n",
       "        0.21,  0.01,  0.24, -0.01, -0.08,  0.1 ,  0.14, -0.11, -0.28,\n",
       "        0.34,  0.06, -0.13, -0.  ,  0.11, -0.2 ,  0.1 ,  0.24,  0.07,\n",
       "       -0.09,  0.26, -0.02,  0.5 ,  0.24,  0.38,  0.32,  0.33,  0.15,\n",
       "        0.28,  0.16,  0.12,  0.31,  0.74,  0.31,  0.49,  0.29, -0.3 ,\n",
       "        0.47,  0.03, -0.07,  0.64,  0.39,  0.41,  0.37,  0.11,  0.57,\n",
       "       -0.03,  0.13,  0.05,  0.16,  0.38,  0.09,  0.37, -0.  ,  0.2 ,\n",
       "        0.32,  0.43,  0.06, -0.13,  0.31, -0.04, -0.02,  0.24,  0.61,\n",
       "        0.38,  0.09,  0.09,  0.48,  0.88,  0.36,  0.11, -0.23,  0.25,\n",
       "        0.14,  0.31,  0.1 ,  0.55,  0.16,  0.23,  3.87, -0.13,  0.32,\n",
       "       -0.04,  1.32,  0.34,  0.57,  0.12,  0.07,  0.81, -0.31,  0.41,\n",
       "        0.41, -0.01, -0.07, -0.14,  0.23, -0.14,  0.03,  0.12, -0.03,\n",
       "        0.11,  0.17,  0.15,  0.12,  0.22,  0.09,  0.59,  0.43,  0.81,\n",
       "        0.42,  0.4 ,  0.22,  0.15,  0.23,  0.26,  0.09,  0.23, -0.09,\n",
       "        0.05,  0.1 , -0.06,  0.17,  0.52,  0.12, -0.04,  0.87, -0.02,\n",
       "        0.26,  0.45,  0.02,  0.  ,  0.02,  0.2 ,  0.14,  0.29,  0.15,\n",
       "        0.36,  0.46,  0.38,  0.41,  0.22,  0.19,  0.32,  0.58,  0.03,\n",
       "        0.3 ,  0.09,  0.53,  0.36, -0.03, -0.2 , -0.06,  0.02,  0.45,\n",
       "       -0.02, -0.03,  0.58,  0.06,  0.18,  0.26,  0.1 ,  0.49,  0.48,\n",
       "        0.27,  0.06,  0.29,  0.17,  0.1 , -0.09, -0.16,  0.1 ,  0.37,\n",
       "        0.54, -0.1 ,  0.34,  0.02,  0.35,  0.1 ,  0.26, -0.26,  0.39,\n",
       "        0.11, -0.01,  0.31,  1.23,  0.47,  0.43,  0.17, -0.47, -0.5 ,\n",
       "       -0.08,  0.06,  0.07, -0.12,  0.38,  0.25,  0.29,  0.04,  0.63,\n",
       "        0.04,  0.16,  0.46,  0.41,  0.39, -0.12,  0.35,  0.03, -0.07,\n",
       "        0.18,  0.5 ,  1.03, -0.04, -0.01, -0.02,  0.44, -0.12,  0.47,\n",
       "        0.17,  0.13, -0.05,  0.1 , -0.07,  0.23,  0.22, -0.02,  0.43,\n",
       "        0.25, -0.12,  0.17,  0.95, -0.1 ,  0.18,  0.12, -0.07,  0.14,\n",
       "        0.27,  0.38,  0.29,  0.18,  0.35])"
      ]
     },
     "execution_count": 3,
     "metadata": {},
     "output_type": "execute_result"
    }
   ],
   "source": [
    "pop"
   ]
  },
  {
   "cell_type": "code",
   "execution_count": 4,
   "id": "8e76dbae-404e-4c41-bd72-d0ce790b3523",
   "metadata": {},
   "outputs": [],
   "source": [
    "pop = pop * 100"
   ]
  },
  {
   "cell_type": "code",
   "execution_count": 5,
   "id": "61ab5cc9-0fb5-4dd6-968a-53919557b50d",
   "metadata": {},
   "outputs": [
    {
     "data": {
      "text/plain": [
       "(500,)"
      ]
     },
     "execution_count": 5,
     "metadata": {},
     "output_type": "execute_result"
    }
   ],
   "source": [
    "pop.shape"
   ]
  },
  {
   "cell_type": "code",
   "execution_count": 6,
   "id": "0726e9a0-c7fe-4331-b903-2af26d735541",
   "metadata": {},
   "outputs": [
    {
     "data": {
      "text/plain": [
       "array([ 46.99,  11.44, -41.05,  46.11,  54.44,  17.43,  66.32,  48.58,\n",
       "        30.7 ,  70.22,  22.6 , -12.2 ,  14.02,  10.93,  41.64,  12.45,\n",
       "        16.85,  -6.8 ,  26.12, -22.11,  -8.77,  -3.83,   8.59,  21.79,\n",
       "        -2.46,  48.57, 131.13, -17.15,  41.27,  24.31,  -2.26,  58.41,\n",
       "        11.01,  -9.35,  49.12,  41.26,  18.94,  52.76,  35.  ,  55.96,\n",
       "       143.44,  59.57,  56.51,  20.15,  29.42, -33.48,  14.09,  30.65,\n",
       "        50.27,  17.51,  46.98,  15.83,  75.35,   0.71,  45.33,  63.57,\n",
       "        26.44,  34.06,  -9.93,  89.43,  33.57,  45.78,   5.74,  60.46,\n",
       "        29.3 ,   9.47,  52.87, -51.3 ,  12.34,  13.68,  18.53,  35.  ,\n",
       "         0.85,   4.86,  36.62,  21.62,  14.61,  29.54,   3.38,  25.21,\n",
       "        -4.75, -14.87,  69.92,  10.6 ,  68.62,  37.54,  -7.26,  27.94,\n",
       "        27.49,  65.82,  33.4 ,  35.99,  -9.84,  42.26,  35.13,  17.82,\n",
       "        13.53,  21.61,  16.69,  52.25,  -1.03,  15.3 ,  23.93,  27.46,\n",
       "        15.99,  26.61, -23.4 ,  29.25,  13.65,  78.55,  15.1 ,  14.14,\n",
       "        22.43,  24.55,   9.47,  16.25,   8.63, -20.44,  46.46,  55.92,\n",
       "        49.33,  26.74,  53.1 ,  34.85, -29.86,  26.75,  23.73,  -8.12,\n",
       "         6.36,  13.29,   5.84,  13.84,  24.47,  51.89,   6.7 ,  25.57,\n",
       "         7.17,  86.86,  19.24,   3.16, -18.35, -20.95, -17.57,  15.92,\n",
       "        39.04,  34.78,   2.45,  32.04,  11.12,   8.36,  12.54,  -9.35,\n",
       "        59.71,  33.39,  27.11,  14.47,  15.3 ,  -0.26, -12.15,  66.35,\n",
       "        23.18,  25.  ,   6.74,  26.81,  -0.92,  14.39,   3.82,  43.06,\n",
       "        17.77,  10.78,  -6.3 ,  20.29,  11.05,  22.15,   5.73,  13.22,\n",
       "         2.97,  24.93,  16.39,  53.38,  28.02,  43.75,  34.02,  -1.13,\n",
       "        -9.33,  24.39,  23.39,  12.5 ,  28.82, -12.32,  35.97,  67.38,\n",
       "        -5.97,  -6.54, -11.88,  45.05,  34.91,  17.83, -44.77,   0.04,\n",
       "        -4.01,  22.98,  31.81,  17.65,  35.58,  32.93,  -0.55,  44.42,\n",
       "        51.78,  22.85,   6.39,   1.72,  -9.65,  16.84,  10.14,  -3.06,\n",
       "        18.67, -12.25,  41.36, -23.79,  56.35,  18.11,  27.97,  43.09,\n",
       "       -12.79,   6.56,  32.38, -16.49,   6.77,  41.58,  14.05,   4.54,\n",
       "        -7.87,   5.36,   9.75,  21.59,  -7.57,  25.06,  33.35,  46.54,\n",
       "        29.52,  70.64,  -5.55,  27.51,  27.27,  37.67,   9.2 , -13.88,\n",
       "       116.93,  28.73,  18.86,  16.16,  72.64,  21.85,  36.25,  20.44,\n",
       "        18.45,  -7.48,  15.72,  13.92,  31.74,  21.27,   0.85,  23.93,\n",
       "        -1.15,  -7.77,  10.4 ,  13.75, -10.95, -27.86,  33.54,   5.73,\n",
       "       -12.75,  -0.4 ,  10.66, -20.46,   9.82,  24.01,   6.83,  -8.54,\n",
       "        26.26,  -2.35,  49.82,  24.25,  38.24,  31.99,  32.69,  14.83,\n",
       "        28.45,  16.  ,  12.46,  30.68,  74.09,  31.32,  49.14,  28.61,\n",
       "       -29.66,  46.6 ,   2.7 ,  -7.28,  64.16,  38.96,  41.41,  36.99,\n",
       "        11.04,  56.58,  -3.45,  13.37,   5.27,  15.82,  38.17,   9.19,\n",
       "        37.32,  -0.22,  20.42,  31.81,  42.74,   5.6 , -12.51,  31.04,\n",
       "        -4.42,  -2.2 ,  24.19,  60.62,  37.66,   8.99,   9.31,  48.01,\n",
       "        87.59,  35.55,  10.9 , -23.44,  25.21,  14.47,  30.75,  10.13,\n",
       "        55.06,  15.94,  23.06, 386.72, -13.23,  31.96,  -3.79, 132.3 ,\n",
       "        34.08,  56.85,  12.17,   6.82,  81.28, -30.8 ,  40.68,  41.45,\n",
       "        -0.8 ,  -6.9 , -14.43,  22.96, -13.6 ,   3.41,  11.83,  -3.41,\n",
       "        11.24,  17.37,  14.61,  11.51,  21.95,   9.28,  58.65,  42.56,\n",
       "        80.9 ,  42.12,  40.21,  22.2 ,  15.48,  23.37,  25.94,   9.16,\n",
       "        23.28,  -9.1 ,   4.72,  10.49,  -6.49,  17.06,  52.05,  12.22,\n",
       "        -4.01,  86.52,  -1.81,  26.3 ,  45.39,   2.25,   0.33,   2.42,\n",
       "        20.33,  13.86,  28.92,  14.8 ,  36.49,  46.09,  37.74,  41.47,\n",
       "        22.33,  18.51,  32.29,  58.2 ,   3.44,  30.15,   8.73,  52.58,\n",
       "        36.18,  -2.98, -19.73,  -6.16,   1.77,  44.82,  -2.24,  -3.34,\n",
       "        57.52,   6.24,  17.76,  25.59,   9.61,  49.09,  47.96,  27.18,\n",
       "         6.45,  29.24,  17.46,   9.68,  -8.58, -15.66,  10.31,  37.18,\n",
       "        54.4 ,  -9.66,  34.25,   1.78,  34.57,  10.43,  26.3 , -25.68,\n",
       "        39.42,  10.8 ,  -1.4 ,  31.44, 122.72,  47.3 ,  43.13,  16.54,\n",
       "       -47.08, -50.33,  -7.52,   5.59,   6.55, -12.27,  37.75,  24.95,\n",
       "        29.34,   3.93,  62.82,   4.3 ,  16.37,  46.14,  41.18,  38.69,\n",
       "       -12.22,  34.53,   2.57,  -7.34,  18.27,  50.44, 103.42,  -4.01,\n",
       "        -0.84,  -1.92,  43.75, -12.25,  46.71,  17.04,  13.27,  -4.72,\n",
       "        10.09,  -7.22,  23.23,  21.7 ,  -2.09,  42.87,  24.5 , -12.48,\n",
       "        17.18,  94.88, -10.22,  18.21,  11.68,  -7.33,  14.03,  26.74,\n",
       "        37.72,  28.86,  18.1 ,  34.58])"
      ]
     },
     "execution_count": 6,
     "metadata": {},
     "output_type": "execute_result"
    }
   ],
   "source": [
    "pop"
   ]
  },
  {
   "cell_type": "code",
   "execution_count": 7,
   "id": "b27f15a5-2de8-4cd4-b0e3-329b912f045c",
   "metadata": {},
   "outputs": [
    {
     "data": {
      "text/plain": [
       "500"
      ]
     },
     "execution_count": 7,
     "metadata": {},
     "output_type": "execute_result"
    }
   ],
   "source": [
    "pop.size"
   ]
  },
  {
   "cell_type": "code",
   "execution_count": 8,
   "id": "e28580f7-fef4-42b6-9faf-c36ab53432c2",
   "metadata": {},
   "outputs": [],
   "source": [
    "sample = np.loadtxt(fname = 'sample.csv', delimiter = ',', usecols = 1)"
   ]
  },
  {
   "cell_type": "code",
   "execution_count": 9,
   "id": "3ff8fd75-3c04-47f0-9b6e-f614560be160",
   "metadata": {},
   "outputs": [
    {
     "data": {
      "text/plain": [
       "array([ 0.42,  0.16,  0.48,  0.58, -0.03,  0.14,  0.17,  0.37,  0.34,\n",
       "        0.07,  0.1 , -0.01,  0.49,  0.11,  0.95, -0.12,  0.05, -0.07,\n",
       "        0.29,  0.71,  0.42,  0.38, -0.12,  0.24,  0.19,  0.25, -0.  ,\n",
       "        0.89, -0.1 ,  0.2 ,  0.09,  0.38,  0.1 ,  0.19, -0.13,  0.15,\n",
       "        0.24,  0.23, -0.09,  1.32,  0.12,  0.7 ,  0.36, -0.01,  0.5 ,\n",
       "        0.26,  0.12, -0.09, -0.02,  0.7 ])"
      ]
     },
     "execution_count": 9,
     "metadata": {},
     "output_type": "execute_result"
    }
   ],
   "source": [
    "sample"
   ]
  },
  {
   "cell_type": "code",
   "execution_count": 10,
   "id": "847c2d75-5bb2-4860-9d11-3e9a94ba5749",
   "metadata": {},
   "outputs": [],
   "source": [
    "sample = sample * 100"
   ]
  },
  {
   "cell_type": "code",
   "execution_count": 11,
   "id": "b32be15e-6d46-4ddc-8274-f43b0403a2f7",
   "metadata": {},
   "outputs": [
    {
     "data": {
      "text/plain": [
       "array([ 41.58,  15.94,  48.01,  57.52,  -3.45,  13.84,  17.43,  37.18,\n",
       "        34.25,   6.7 ,   9.82,  -1.15,  49.12,  10.66,  94.88, -12.2 ,\n",
       "         4.72,  -7.34,  29.24,  70.64,  42.26,  38.17, -12.32,  24.01,\n",
       "        19.24,  25.21,  -0.22,  89.43,  -9.65,  20.29,   9.16,  37.54,\n",
       "        10.4 ,  18.94, -12.75,  14.83,  24.39,  23.06,  -9.35, 132.3 ,\n",
       "        11.51,  70.22,  35.58,  -0.84,  50.27,  26.26,  12.45,  -9.33,\n",
       "        -2.46,  69.92])"
      ]
     },
     "execution_count": 11,
     "metadata": {},
     "output_type": "execute_result"
    }
   ],
   "source": [
    "sample"
   ]
  },
  {
   "cell_type": "code",
   "execution_count": 12,
   "id": "56dbbe56-ea5f-4215-a2f8-76a4b70b5ae6",
   "metadata": {},
   "outputs": [
    {
     "data": {
      "text/plain": [
       "50"
      ]
     },
     "execution_count": 12,
     "metadata": {},
     "output_type": "execute_result"
    }
   ],
   "source": [
    "sample.size"
   ]
  },
  {
   "cell_type": "code",
   "execution_count": 13,
   "id": "0bd3f8a2-ffa2-4561-9478-c066e861b32b",
   "metadata": {},
   "outputs": [
    {
     "data": {
      "text/plain": [
       "array([ True,  True,  True,  True,  True,  True,  True,  True,  True,\n",
       "        True,  True,  True,  True,  True,  True,  True,  True,  True,\n",
       "        True,  True,  True,  True,  True,  True,  True,  True,  True,\n",
       "        True,  True,  True,  True,  True,  True,  True,  True,  True,\n",
       "        True,  True,  True,  True,  True,  True,  True,  True,  True,\n",
       "        True,  True,  True,  True,  True])"
      ]
     },
     "execution_count": 13,
     "metadata": {},
     "output_type": "execute_result"
    }
   ],
   "source": [
    "np.isin(sample, pop)"
   ]
  },
  {
   "cell_type": "code",
   "execution_count": 14,
   "id": "e31a78ee-c78f-46ec-abc4-9bd1ee89fad2",
   "metadata": {},
   "outputs": [],
   "source": [
    "import matplotlib.pyplot as plt\n",
    "plt.style.use('seaborn-v0_8')"
   ]
  },
  {
   "cell_type": "code",
   "execution_count": 15,
   "id": "523538d3-21fd-4ef7-b888-4020b5545a07",
   "metadata": {},
   "outputs": [
    {
     "data": {
      "image/png": "[encoded data removed]",
      "text/plain": [
       "<Figure size 1200x600 with 1 Axes>"
      ]
     },
     "metadata": {},
     "output_type": "display_data"
    }
   ],
   "source": [
    "plt.figure(figsize = (12, 6))\n",
    "plt.hist(pop, bins = 75)\n",
    "plt.title(\"Absolute Frequencies - Population\", fontsize = 20)\n",
    "plt.xlabel(\"Stock Returns - 2017 (in %)\")\n",
    "plt.xticks(np.arange(-100, 400, 25))\n",
    "plt.ylabel(\"Absolute Frequencies\")\n",
    "plt.show()"
   ]
  },
  {
   "cell_type": "code",
   "execution_count": 16,
   "id": "04ca8c74-ccd8-40c6-a644-d574dfa4dac3",
   "metadata": {},
   "outputs": [
    {
     "data": {
      "image/png": "[encoded data removed]",
      "text/plain": [
       "<Figure size 1200x600 with 1 Axes>"
      ]
     },
     "metadata": {},
     "output_type": "display_data"
    }
   ],
   "source": [
    "plt.figure(figsize = (12, 6))\n",
    "plt.hist(sample, bins = 15)\n",
    "plt.title(\"Absolute Frequencies - Population\", fontsize = 20)\n",
    "plt.xlabel(\"Stock Returns - 2017 (in %)\")\n",
    "plt.ylabel(\"Absolute Frequencies\")\n",
    "plt.show()"
   ]
  },
  {
   "cell_type": "code",
   "execution_count": 17,
   "id": "dbe39b2b-111e-48aa-aa43-b569714663cc",
   "metadata": {},
   "outputs": [],
   "source": [
    "np.set_printoptions(precision = 4, suppress = True)"
   ]
  },
  {
   "cell_type": "code",
   "execution_count": 18,
   "id": "700f8b29-754e-4eee-880b-1b47a4892e40",
   "metadata": {},
   "outputs": [],
   "source": [
    "weights_pop = (np.ones(len(pop)) / len(pop))"
   ]
  },
  {
   "cell_type": "code",
   "execution_count": 19,
   "id": "6b199c48-d389-46a2-8f2d-7c78ea60280b",
   "metadata": {},
   "outputs": [
    {
     "data": {
      "image/png": "[encoded data removed]",
      "text/plain": [
       "<Figure size 1200x600 with 1 Axes>"
      ]
     },
     "metadata": {},
     "output_type": "display_data"
    }
   ],
   "source": [
    "plt.figure(figsize = (12, 6))\n",
    "plt.hist(pop, bins = 75, weights = weights_pop)\n",
    "plt.title(\"Relative Frequencies - Population\", fontsize = 20)\n",
    "plt.xlabel(\"Stock Returns - 2017 (in %)\")\n",
    "plt.xticks(np.arange(-100, 400, 25))\n",
    "plt.ylabel(\"Relative Frequencies\")\n",
    "plt.show()"
   ]
  },
  {
   "cell_type": "code",
   "execution_count": 20,
   "id": "72e88824-ab24-4fd1-8985-1c8942822655",
   "metadata": {},
   "outputs": [],
   "source": [
    "weights_sample = np.ones(len(sample)) / len(sample)"
   ]
  },
  {
   "cell_type": "code",
   "execution_count": 21,
   "id": "1611e923-6f96-4f75-bb1b-e74839c7f7a2",
   "metadata": {},
   "outputs": [
    {
     "data": {
      "image/png": "[encoded data removed]",
      "text/plain": [
       "<Figure size 1200x600 with 1 Axes>"
      ]
     },
     "metadata": {},
     "output_type": "display_data"
    }
   ],
   "source": [
    "plt.figure(figsize = (12, 6))\n",
    "plt.hist(sample, bins = 15, weights = weights_sample)\n",
    "plt.title(\"Relative Frequencies - Population\", fontsize = 20)\n",
    "plt.xlabel(\"Stock Returns - 2017 (in %)\")\n",
    "plt.ylabel(\"Relative Frequencies\")\n",
    "plt.show()"
   ]
  },
  {
   "cell_type": "code",
   "execution_count": 22,
   "id": "93f9e968-ead5-4c4b-b9d2-d0cbc4ec687f",
   "metadata": {},
   "outputs": [
    {
     "data": {
      "text/plain": [
       "21.780347999003943"
      ]
     },
     "execution_count": 22,
     "metadata": {},
     "output_type": "execute_result"
    }
   ],
   "source": [
    "pop.mean()"
   ]
  },
  {
   "cell_type": "code",
   "execution_count": 23,
   "id": "4681aae4-fe19-44d0-a31c-d1106cf4319c",
   "metadata": {},
   "outputs": [
    {
     "data": {
      "text/plain": [
       "21.780347999003943"
      ]
     },
     "execution_count": 23,
     "metadata": {},
     "output_type": "execute_result"
    }
   ],
   "source": [
    "np.mean(pop)"
   ]
  },
  {
   "cell_type": "code",
   "execution_count": 24,
   "id": "65ac88a3-d5b5-434a-b353-a0b346f7c5ad",
   "metadata": {},
   "outputs": [
    {
     "data": {
      "text/plain": [
       "25.318589009450747"
      ]
     },
     "execution_count": 24,
     "metadata": {},
     "output_type": "execute_result"
    }
   ],
   "source": [
    "sample.mean()"
   ]
  },
  {
   "cell_type": "code",
   "execution_count": 25,
   "id": "8318020a-9ccc-41d7-a69b-9f21e8a20e63",
   "metadata": {},
   "outputs": [
    {
     "data": {
      "text/plain": [
       "25.318589009450747"
      ]
     },
     "execution_count": 25,
     "metadata": {},
     "output_type": "execute_result"
    }
   ],
   "source": [
    "np.mean(sample)"
   ]
  },
  {
   "cell_type": "code",
   "execution_count": 41,
   "id": "9295a2f5-0aef-48da-bc14-6a98dfe33eba",
   "metadata": {},
   "outputs": [],
   "source": [
    "def my_median(array):\n",
    "    array_lengt = len(array)\n",
    "    array_sorted = sorted(array)\n",
    "    if array_lengt % 2 != 0:\n",
    "        return array_sorted[array_lengt // 2]\n",
    "    else:\n",
    "        return sum(array_sorted[(array_lengt // 2) - 1 : (array_lengt // 2)  + 1]) / 2"
   ]
  },
  {
   "cell_type": "code",
   "execution_count": 42,
   "id": "577e7105-2f13-4c2e-97cb-aa47aed82216",
   "metadata": {},
   "outputs": [
    {
     "data": {
      "text/plain": [
       "18.158807954190955"
      ]
     },
     "execution_count": 42,
     "metadata": {},
     "output_type": "execute_result"
    }
   ],
   "source": [
    "np.median(pop)"
   ]
  },
  {
   "cell_type": "code",
   "execution_count": 43,
   "id": "8fbb350a-b1b6-4ff2-8d35-80058f44dc57",
   "metadata": {},
   "outputs": [
    {
     "data": {
      "text/plain": [
       "18.158807954190955"
      ]
     },
     "execution_count": 43,
     "metadata": {},
     "output_type": "execute_result"
    }
   ],
   "source": [
    "my_median(pop)"
   ]
  },
  {
   "cell_type": "code",
   "execution_count": 61,
   "id": "bb000d1d-bdb9-4d0c-9432-0e07ce14a317",
   "metadata": {},
   "outputs": [],
   "source": [
    "prices = np.array([100, 107, 102, 110])"
   ]
  },
  {
   "cell_type": "code",
   "execution_count": 66,
   "id": "06c8fd00-2cb2-4caf-9d8f-527b3639af98",
   "metadata": {},
   "outputs": [],
   "source": [
    "returns = (prices[1:] / prices[:-1]) - 1"
   ]
  },
  {
   "cell_type": "code",
   "execution_count": 72,
   "id": "0736ee47-596c-4edf-84bd-066367faf74e",
   "metadata": {},
   "outputs": [],
   "source": [
    "returns_geo_mean = (returns + 1).prod() ** (1 / returns.size) - 1"
   ]
  },
  {
   "cell_type": "code",
   "execution_count": 73,
   "id": "7a9831a7-acc2-4491-be22-d0d6b3f4ec61",
   "metadata": {},
   "outputs": [
    {
     "data": {
      "text/plain": [
       "0.03228011545636722"
      ]
     },
     "execution_count": 73,
     "metadata": {},
     "output_type": "execute_result"
    }
   ],
   "source": [
    "returns_geo_mean"
   ]
  },
  {
   "cell_type": "code",
   "execution_count": 77,
   "id": "07340386-3b4f-4b09-a5b0-250f648d637a",
   "metadata": {},
   "outputs": [
    {
     "data": {
      "text/plain": [
       "-51.30060027705095"
      ]
     },
     "execution_count": 77,
     "metadata": {},
     "output_type": "execute_result"
    }
   ],
   "source": [
    "pop.min()"
   ]
  },
  {
   "cell_type": "code",
   "execution_count": 78,
   "id": "cd1aa281-5756-4ec7-844a-822e93dad2b9",
   "metadata": {},
   "outputs": [
    {
     "data": {
      "text/plain": [
       "386.7155664221679"
      ]
     },
     "execution_count": 78,
     "metadata": {},
     "output_type": "execute_result"
    }
   ],
   "source": [
    "pop.max()"
   ]
  },
  {
   "cell_type": "code",
   "execution_count": 75,
   "id": "36574069-7f32-473c-b23d-fca84427621f",
   "metadata": {},
   "outputs": [
    {
     "data": {
      "text/plain": [
       "438.01616669921884"
      ]
     },
     "execution_count": 75,
     "metadata": {},
     "output_type": "execute_result"
    }
   ],
   "source": [
    "pop.ptp()"
   ]
  },
  {
   "cell_type": "code",
   "execution_count": 76,
   "id": "81c72030-8af2-4a8f-8cf5-eb48149447fb",
   "metadata": {},
   "outputs": [
    {
     "data": {
      "text/plain": [
       "438.01616669921884"
      ]
     },
     "execution_count": 76,
     "metadata": {},
     "output_type": "execute_result"
    }
   ],
   "source": [
    "pop.max() - pop.min()"
   ]
  },
  {
   "cell_type": "code",
   "execution_count": 80,
   "id": "d40feb5f-6a34-44d8-b7b9-bfccd48d5780",
   "metadata": {},
   "outputs": [
    {
     "data": {
      "text/plain": [
       "-12.747464992757129"
      ]
     },
     "execution_count": 80,
     "metadata": {},
     "output_type": "execute_result"
    }
   ],
   "source": [
    "sample.min()"
   ]
  },
  {
   "cell_type": "code",
   "execution_count": 81,
   "id": "db2e243e-2a3a-4561-b3f2-b2f40a2015de",
   "metadata": {},
   "outputs": [
    {
     "data": {
      "text/plain": [
       "132.30016313213704"
      ]
     },
     "execution_count": 81,
     "metadata": {},
     "output_type": "execute_result"
    }
   ],
   "source": [
    "sample.max()"
   ]
  },
  {
   "cell_type": "code",
   "execution_count": 82,
   "id": "e4240c26-b510-4640-a095-e016a86c422e",
   "metadata": {},
   "outputs": [
    {
     "data": {
      "text/plain": [
       "145.04762812489417"
      ]
     },
     "execution_count": 82,
     "metadata": {},
     "output_type": "execute_result"
    }
   ],
   "source": [
    "sample.ptp()"
   ]
  },
  {
   "cell_type": "code",
   "execution_count": 83,
   "id": "3b349741-3bba-4fe4-b222-46fcb40251bc",
   "metadata": {},
   "outputs": [
    {
     "data": {
      "text/plain": [
       "18.158807954190955"
      ]
     },
     "execution_count": 83,
     "metadata": {},
     "output_type": "execute_result"
    }
   ],
   "source": [
    "np.percentile(pop, 50)"
   ]
  },
  {
   "cell_type": "code",
   "execution_count": 84,
   "id": "d8c5b681-8b88-45dd-b337-8c47a8afad61",
   "metadata": {},
   "outputs": [
    {
     "data": {
      "text/plain": [
       "18.158807954190955"
      ]
     },
     "execution_count": 84,
     "metadata": {},
     "output_type": "execute_result"
    }
   ],
   "source": [
    "np.median(pop)"
   ]
  },
  {
   "cell_type": "code",
   "execution_count": 85,
   "id": "cdbb7d61-24d3-4237-89ce-b1cf9e0b9dd9",
   "metadata": {},
   "outputs": [
    {
     "data": {
      "text/plain": [
       "962.631408916871"
      ]
     },
     "execution_count": 85,
     "metadata": {},
     "output_type": "execute_result"
    }
   ],
   "source": [
    "pop.var()"
   ]
  },
  {
   "cell_type": "code",
   "execution_count": 86,
   "id": "3fb57551-12ed-43d8-8f83-934cdb1e642c",
   "metadata": {},
   "outputs": [
    {
     "data": {
      "text/plain": [
       "31.026301889153192"
      ]
     },
     "execution_count": 86,
     "metadata": {},
     "output_type": "execute_result"
    }
   ],
   "source": [
    "pop.std()"
   ]
  },
  {
   "cell_type": "code",
   "execution_count": 87,
   "id": "5256344b-1363-4654-af07-b59aee533c3b",
   "metadata": {},
   "outputs": [
    {
     "data": {
      "text/plain": [
       "930.0397527373713"
      ]
     },
     "execution_count": 87,
     "metadata": {},
     "output_type": "execute_result"
    }
   ],
   "source": [
    "sample.var(ddof = 1)"
   ]
  },
  {
   "cell_type": "code",
   "execution_count": 88,
   "id": "2f53eadc-504c-4d65-93bf-582e891cafb6",
   "metadata": {},
   "outputs": [
    {
     "data": {
      "text/plain": [
       "30.496553128794265"
      ]
     },
     "execution_count": 88,
     "metadata": {},
     "output_type": "execute_result"
    }
   ],
   "source": [
    "sample.std(ddof = 1)"
   ]
  },
  {
   "cell_type": "code",
   "execution_count": 89,
   "id": "ada9ba58-cc53-4d22-9876-154a5a725c09",
   "metadata": {},
   "outputs": [],
   "source": [
    "import scipy.stats as stats"
   ]
  },
  {
   "cell_type": "code",
   "execution_count": 90,
   "id": "026a11d0-36aa-4d5f-a142-6ef9eaf91e9d",
   "metadata": {
    "scrolled": true
   },
   "outputs": [
    {
     "data": {
      "text/plain": [
       "3.69215566312915"
      ]
     },
     "execution_count": 90,
     "metadata": {},
     "output_type": "execute_result"
    }
   ],
   "source": [
    "stats.skew(pop)"
   ]
  },
  {
   "cell_type": "code",
   "execution_count": 92,
   "id": "5418ebe0-c1fa-4126-b001-d131e2c6b91b",
   "metadata": {},
   "outputs": [
    {
     "data": {
      "text/plain": [
       "SkewtestResult(statistic=16.94983170028088, pvalue=1.930054846544556e-64)"
      ]
     },
     "execution_count": 92,
     "metadata": {},
     "output_type": "execute_result"
    }
   ],
   "source": [
    "stats.skewtest(pop)"
   ]
  },
  {
   "cell_type": "code",
   "execution_count": 93,
   "id": "2982fdbc-e3ba-45c9-b87e-c1235c0717a4",
   "metadata": {},
   "outputs": [
    {
     "data": {
      "text/plain": [
       "38.01022437524736"
      ]
     },
     "execution_count": 93,
     "metadata": {},
     "output_type": "execute_result"
    }
   ],
   "source": [
    "stats.kurtosis(pop, fisher = True)"
   ]
  },
  {
   "cell_type": "code",
   "execution_count": 94,
   "id": "5666661a-6b0c-4604-a5c3-d78c906ba9cd",
   "metadata": {},
   "outputs": [
    {
     "data": {
      "text/plain": [
       "41.01022437524736"
      ]
     },
     "execution_count": 94,
     "metadata": {},
     "output_type": "execute_result"
    }
   ],
   "source": [
    "stats.kurtosis(pop, fisher = False)"
   ]
  },
  {
   "cell_type": "code",
   "execution_count": null,
   "id": "56ac9c1a-25d8-4ef8-a6f0-b49cb516e145",
   "metadata": {},
   "outputs": [],
   "source": []
  }
 ],
 "metadata": {
  "kernelspec": {
   "display_name": "Python 3 (ipykernel)",
   "language": "python",
   "name": "python3"
  },
  "language_info": {
   "codemirror_mode": {
    "name": "ipython",
    "version": 3
   },
   "file_extension": ".py",
   "mimetype": "text/x-python",
   "name": "python",
   "nbconvert_exporter": "python",
   "pygments_lexer": "ipython3",
   "version": "3.11.7"
  }
 },
 "nbformat": 4,
 "nbformat_minor": 5
}
