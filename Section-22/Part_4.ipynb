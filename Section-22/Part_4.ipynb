{
 "cells": [
  {
   "cell_type": "markdown",
   "id": "19db576a-2692-4f04-b66d-eddd6f11064a",
   "metadata": {},
   "source": [
    "# **Part 4**"
   ]
  },
  {
   "cell_type": "markdown",
   "id": "279b318e-679a-4e98-9cca-230d6f235af6",
   "metadata": {},
   "source": [
    "This part of the course deals with time-series data. The next two Sections are about how to import, manage, manipulate and resample Time Series Data."
   ]
  }
 ],
 "metadata": {
  "kernelspec": {
   "display_name": "Python 3 (ipykernel)",
   "language": "python",
   "name": "python3"
  },
  "language_info": {
   "codemirror_mode": {
    "name": "ipython",
    "version": 3
   },
   "file_extension": ".py",
   "mimetype": "text/x-python",
   "name": "python",
   "nbconvert_exporter": "python",
   "pygments_lexer": "ipython3",
   "version": "3.11.7"
  }
 },
 "nbformat": 4,
 "nbformat_minor": 5
}
