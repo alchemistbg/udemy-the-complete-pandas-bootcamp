{
 "cells": [
  {
   "cell_type": "markdown",
   "id": "c1158155-f793-45e9-b825-e8a4c24f905e",
   "metadata": {},
   "source": [
    "# Some tests with Jupyter notebook"
   ]
  },
  {
   "cell_type": "markdown",
   "id": "1e403caa-0ca9-49fc-a9b3-2d0ca1bab213",
   "metadata": {},
   "source": [
    "## Addition"
   ]
  },
  {
   "cell_type": "markdown",
   "id": "750f151c-3fea-49ab-956f-8a34f329913d",
   "metadata": {},
   "source": [
    "Read about addiction here: https://en.wikipedia.org/wiki/Addition"
   ]
  },
  {
   "cell_type": "code",
   "execution_count": 1,
   "id": "60a1f0a9-f73f-4bbb-bd54-9f68b835b304",
   "metadata": {},
   "outputs": [
    {
     "data": {
      "text/plain": [
       "7"
      ]
     },
     "execution_count": 1,
     "metadata": {},
     "output_type": "execute_result"
    }
   ],
   "source": [
    "5 + 2"
   ]
  }
 ],
 "metadata": {
  "kernelspec": {
   "display_name": "Python 3 (ipykernel)",
   "language": "python",
   "name": "python3"
  },
  "language_info": {
   "codemirror_mode": {
    "name": "ipython",
    "version": 3
   },
   "file_extension": ".py",
   "mimetype": "text/x-python",
   "name": "python",
   "nbconvert_exporter": "python",
   "pygments_lexer": "ipython3",
   "version": "3.11.7"
  }
 },
 "nbformat": 4,
 "nbformat_minor": 5
}
