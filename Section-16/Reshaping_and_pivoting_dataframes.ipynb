{
 "cells": [
  {
   "cell_type": "markdown",
   "id": "9cd7f431-655c-4aa7-86e3-cc25b06680e8",
   "metadata": {},
   "source": [
    "# **Reshaping and pivoting dataframes**"
   ]
  },
  {
   "cell_type": "markdown",
   "id": "b6312113-accf-464d-a86d-f59fa0409a3d",
   "metadata": {},
   "source": [
    "## **Transposing the dataframe**"
   ]
  },
  {
   "cell_type": "code",
   "execution_count": 2,
   "id": "82772cf5-0d93-4280-914e-4b76e65fdfab",
   "metadata": {},
   "outputs": [],
   "source": [
    "import pandas as pd"
   ]
  },
  {
   "cell_type": "code",
   "execution_count": null,
   "id": "d1844ddb-9aa7-482a-a1df-69f29da81734",
   "metadata": {},
   "outputs": [],
   "source": [
    "titanic = pd.read_csv('tit')"
   ]
  }
 ],
 "metadata": {
  "kernelspec": {
   "display_name": "Python 3 (ipykernel)",
   "language": "python",
   "name": "python3"
  },
  "language_info": {
   "codemirror_mode": {
    "name": "ipython",
    "version": 3
   },
   "file_extension": ".py",
   "mimetype": "text/x-python",
   "name": "python",
   "nbconvert_exporter": "python",
   "pygments_lexer": "ipython3",
   "version": "3.11.7"
  }
 },
 "nbformat": 4,
 "nbformat_minor": 5
}
