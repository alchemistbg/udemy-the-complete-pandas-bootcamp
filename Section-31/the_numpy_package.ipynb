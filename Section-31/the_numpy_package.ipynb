{
 "cells": [
  {
   "cell_type": "markdown",
   "id": "15a35433-4a64-40ee-aa54-55390cf4c524",
   "metadata": {},
   "source": [
    "# **The numpy pachage**"
   ]
  },
  {
   "cell_type": "markdown",
   "id": "ba1a85bd-4431-42c3-bb4f-bfd53dfc5334",
   "metadata": {},
   "source": [
    "## **Introduction**"
   ]
  },
  {
   "cell_type": "code",
   "execution_count": 1,
   "id": "ff47054c-5241-48b4-8f0a-c5bbfc26dbda",
   "metadata": {},
   "outputs": [],
   "source": [
    "import numpy as np"
   ]
  },
  {
   "cell_type": "code",
   "execution_count": 2,
   "id": "226d2003-0c96-48ef-adcc-6a14fe9c0d87",
   "metadata": {},
   "outputs": [],
   "source": [
    "list42 = list(range(1, 11))"
   ]
  },
  {
   "cell_type": "code",
   "execution_count": 3,
   "id": "f2d3b987-a6a1-4bb6-93bb-e968347ac41b",
   "metadata": {},
   "outputs": [
    {
     "data": {
      "text/plain": [
       "[1, 2, 3, 4, 5, 6, 7, 8, 9, 10]"
      ]
     },
     "execution_count": 3,
     "metadata": {},
     "output_type": "execute_result"
    }
   ],
   "source": [
    "list42"
   ]
  },
  {
   "cell_type": "code",
   "execution_count": 4,
   "id": "5345b7aa-feaf-47b6-bfa8-ebdac1d902b5",
   "metadata": {},
   "outputs": [],
   "source": [
    "np_list42 = np.array(list42)"
   ]
  },
  {
   "cell_type": "code",
   "execution_count": 5,
   "id": "bac0e3e9-5afe-405f-98b5-604de12a718d",
   "metadata": {},
   "outputs": [
    {
     "data": {
      "text/plain": [
       "array([ 1,  2,  3,  4,  5,  6,  7,  8,  9, 10])"
      ]
     },
     "execution_count": 5,
     "metadata": {},
     "output_type": "execute_result"
    }
   ],
   "source": [
    "np_list42"
   ]
  },
  {
   "cell_type": "code",
   "execution_count": 6,
   "id": "0a0a1c1e-7a06-4c87-848c-85a79c127696",
   "metadata": {},
   "outputs": [
    {
     "data": {
      "text/plain": [
       "numpy.ndarray"
      ]
     },
     "execution_count": 6,
     "metadata": {},
     "output_type": "execute_result"
    }
   ],
   "source": [
    "type(np_list42)"
   ]
  },
  {
   "cell_type": "code",
   "execution_count": 7,
   "id": "9ac974de-c7af-4ffa-9185-cfb0633ef14f",
   "metadata": {},
   "outputs": [
    {
     "data": {
      "text/plain": [
       "array([ 2,  4,  6,  8, 10, 12, 14, 16, 18, 20])"
      ]
     },
     "execution_count": 7,
     "metadata": {},
     "output_type": "execute_result"
    }
   ],
   "source": [
    "np_list42 * 2"
   ]
  },
  {
   "cell_type": "code",
   "execution_count": 8,
   "id": "00b8a7c4-4313-4065-8b1f-aecf92e6b294",
   "metadata": {},
   "outputs": [
    {
     "data": {
      "text/plain": [
       "array([ 1,  2,  3,  4,  5,  6,  7,  8,  9, 10])"
      ]
     },
     "execution_count": 8,
     "metadata": {},
     "output_type": "execute_result"
    }
   ],
   "source": [
    "np_list42"
   ]
  },
  {
   "cell_type": "code",
   "execution_count": null,
   "id": "a5e0f3f3-01da-4fd9-b95a-10e13518d24c",
   "metadata": {},
   "outputs": [],
   "source": []
  }
 ],
 "metadata": {
  "kernelspec": {
   "display_name": "Python 3 (ipykernel)",
   "language": "python",
   "name": "python3"
  },
  "language_info": {
   "codemirror_mode": {
    "name": "ipython",
    "version": 3
   },
   "file_extension": ".py",
   "mimetype": "text/x-python",
   "name": "python",
   "nbconvert_exporter": "python",
   "pygments_lexer": "ipython3",
   "version": "3.11.7"
  }
 },
 "nbformat": 4,
 "nbformat_minor": 5
}
