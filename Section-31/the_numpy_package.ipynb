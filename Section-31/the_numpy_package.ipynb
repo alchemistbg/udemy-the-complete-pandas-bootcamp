{
 "cells": [
  {
   "cell_type": "markdown",
   "id": "15a35433-4a64-40ee-aa54-55390cf4c524",
   "metadata": {},
   "source": [
    "# **The numpy pachage**"
   ]
  },
  {
   "cell_type": "markdown",
   "id": "ba1a85bd-4431-42c3-bb4f-bfd53dfc5334",
   "metadata": {},
   "source": [
    "## **Introduction**"
   ]
  },
  {
   "cell_type": "code",
   "execution_count": 1,
   "id": "ff47054c-5241-48b4-8f0a-c5bbfc26dbda",
   "metadata": {},
   "outputs": [],
   "source": [
    "import numpy as np"
   ]
  },
  {
   "cell_type": "code",
   "execution_count": 2,
   "id": "226d2003-0c96-48ef-adcc-6a14fe9c0d87",
   "metadata": {},
   "outputs": [],
   "source": [
    "list42 = list(range(1, 11))"
   ]
  },
  {
   "cell_type": "code",
   "execution_count": 3,
   "id": "f2d3b987-a6a1-4bb6-93bb-e968347ac41b",
   "metadata": {},
   "outputs": [
    {
     "data": {
      "text/plain": [
       "[1, 2, 3, 4, 5, 6, 7, 8, 9, 10]"
      ]
     },
     "execution_count": 3,
     "metadata": {},
     "output_type": "execute_result"
    }
   ],
   "source": [
    "list42"
   ]
  },
  {
   "cell_type": "code",
   "execution_count": 4,
   "id": "5345b7aa-feaf-47b6-bfa8-ebdac1d902b5",
   "metadata": {},
   "outputs": [],
   "source": [
    "np_list42 = np.array(list42)"
   ]
  },
  {
   "cell_type": "code",
   "execution_count": 5,
   "id": "bac0e3e9-5afe-405f-98b5-604de12a718d",
   "metadata": {},
   "outputs": [
    {
     "data": {
      "text/plain": [
       "array([ 1,  2,  3,  4,  5,  6,  7,  8,  9, 10])"
      ]
     },
     "execution_count": 5,
     "metadata": {},
     "output_type": "execute_result"
    }
   ],
   "source": [
    "np_list42"
   ]
  },
  {
   "cell_type": "code",
   "execution_count": 6,
   "id": "0a0a1c1e-7a06-4c87-848c-85a79c127696",
   "metadata": {},
   "outputs": [
    {
     "data": {
      "text/plain": [
       "numpy.ndarray"
      ]
     },
     "execution_count": 6,
     "metadata": {},
     "output_type": "execute_result"
    }
   ],
   "source": [
    "type(np_list42)"
   ]
  },
  {
   "cell_type": "code",
   "execution_count": 7,
   "id": "9ac974de-c7af-4ffa-9185-cfb0633ef14f",
   "metadata": {},
   "outputs": [
    {
     "data": {
      "text/plain": [
       "array([ 2,  4,  6,  8, 10, 12, 14, 16, 18, 20])"
      ]
     },
     "execution_count": 7,
     "metadata": {},
     "output_type": "execute_result"
    }
   ],
   "source": [
    "np_list42 * 2"
   ]
  },
  {
   "cell_type": "code",
   "execution_count": 8,
   "id": "00b8a7c4-4313-4065-8b1f-aecf92e6b294",
   "metadata": {},
   "outputs": [
    {
     "data": {
      "text/plain": [
       "array([ 1,  2,  3,  4,  5,  6,  7,  8,  9, 10])"
      ]
     },
     "execution_count": 8,
     "metadata": {},
     "output_type": "execute_result"
    }
   ],
   "source": [
    "np_list42"
   ]
  },
  {
   "cell_type": "markdown",
   "id": "7f8ba0d5-92e5-41c9-9469-c5c763363aa0",
   "metadata": {},
   "source": [
    "## **Arrays: Element-wise operations**"
   ]
  },
  {
   "cell_type": "code",
   "execution_count": 9,
   "id": "997d0e7b-144f-4235-9202-387bd3a1ba25",
   "metadata": {},
   "outputs": [
    {
     "data": {
      "text/plain": [
       "array([ 1,  2,  3,  4,  5,  6,  7,  8,  9, 10])"
      ]
     },
     "execution_count": 9,
     "metadata": {},
     "output_type": "execute_result"
    }
   ],
   "source": [
    "np.arange(1, 11)"
   ]
  },
  {
   "cell_type": "code",
   "execution_count": 10,
   "id": "ec65d16e-9181-473d-ab84-3fe9195c4cbc",
   "metadata": {},
   "outputs": [
    {
     "data": {
      "text/plain": [
       "array([1, 3, 5, 7, 9])"
      ]
     },
     "execution_count": 10,
     "metadata": {},
     "output_type": "execute_result"
    }
   ],
   "source": [
    "np.arange(1, 11, 2)"
   ]
  },
  {
   "cell_type": "code",
   "execution_count": 11,
   "id": "e84d1017-5b9f-4c56-bb81-30408c1c32b6",
   "metadata": {},
   "outputs": [],
   "source": [
    "list43 = [1, 2, 3, 4]"
   ]
  },
  {
   "cell_type": "code",
   "execution_count": 12,
   "id": "dd42a1d0-25f4-41f4-9f6a-f3aa11f0bccf",
   "metadata": {},
   "outputs": [
    {
     "data": {
      "text/plain": [
       "[1, 2, 3, 4]"
      ]
     },
     "execution_count": 12,
     "metadata": {},
     "output_type": "execute_result"
    }
   ],
   "source": [
    "list43"
   ]
  },
  {
   "cell_type": "code",
   "execution_count": 13,
   "id": "6b4998ee-edd3-4097-b28b-163ee58de49b",
   "metadata": {},
   "outputs": [
    {
     "data": {
      "text/plain": [
       "[1, 2, 3, 4, 1, 2, 3, 4]"
      ]
     },
     "execution_count": 13,
     "metadata": {},
     "output_type": "execute_result"
    }
   ],
   "source": [
    "list43 * 2"
   ]
  },
  {
   "cell_type": "code",
   "execution_count": 14,
   "id": "f9935141-5073-41b4-9dac-d76f92c85911",
   "metadata": {},
   "outputs": [],
   "source": [
    "list44 = []"
   ]
  },
  {
   "cell_type": "code",
   "execution_count": 15,
   "id": "1105723b-8860-4805-b4f0-e223c1c7d6b8",
   "metadata": {},
   "outputs": [],
   "source": [
    "for el in list43:\n",
    "    list44.append(el * 2)"
   ]
  },
  {
   "cell_type": "code",
   "execution_count": 16,
   "id": "83fa47cf-144c-408a-86d7-610e20663d43",
   "metadata": {},
   "outputs": [
    {
     "data": {
      "text/plain": [
       "[2, 4, 6, 8]"
      ]
     },
     "execution_count": 16,
     "metadata": {},
     "output_type": "execute_result"
    }
   ],
   "source": [
    "list44"
   ]
  },
  {
   "cell_type": "code",
   "execution_count": 17,
   "id": "24767a4a-812d-4b0e-a641-fdf2a57f8be1",
   "metadata": {},
   "outputs": [],
   "source": [
    "# can only concatenate list (not \"int\") to list\n",
    "# list43 + 2"
   ]
  },
  {
   "cell_type": "code",
   "execution_count": 18,
   "id": "6ef56207-3cf5-4052-a9d2-3ed0d47d1fde",
   "metadata": {},
   "outputs": [],
   "source": [
    "list45 = np.arange(1, 5)"
   ]
  },
  {
   "cell_type": "code",
   "execution_count": 19,
   "id": "bbd8dc94-de0e-460d-b408-d1691a751467",
   "metadata": {},
   "outputs": [
    {
     "data": {
      "text/plain": [
       "array([1, 2, 3, 4])"
      ]
     },
     "execution_count": 19,
     "metadata": {},
     "output_type": "execute_result"
    }
   ],
   "source": [
    "list45"
   ]
  },
  {
   "cell_type": "code",
   "execution_count": 20,
   "id": "73be63c2-a06f-473c-9e64-43e375584f63",
   "metadata": {},
   "outputs": [
    {
     "data": {
      "text/plain": [
       "array([2, 4, 6, 8])"
      ]
     },
     "execution_count": 20,
     "metadata": {},
     "output_type": "execute_result"
    }
   ],
   "source": [
    "list45 * 2"
   ]
  },
  {
   "cell_type": "code",
   "execution_count": 21,
   "id": "27111f00-cbda-404d-b7e0-fc825a810388",
   "metadata": {},
   "outputs": [
    {
     "data": {
      "text/plain": [
       "array([3, 4, 5, 6])"
      ]
     },
     "execution_count": 21,
     "metadata": {},
     "output_type": "execute_result"
    }
   ],
   "source": [
    "list45 + 2"
   ]
  },
  {
   "cell_type": "code",
   "execution_count": 22,
   "id": "a0fd7e87-fc67-40f7-a495-89f5f697b0ee",
   "metadata": {},
   "outputs": [
    {
     "data": {
      "text/plain": [
       "array([ 1,  4,  9, 16])"
      ]
     },
     "execution_count": 22,
     "metadata": {},
     "output_type": "execute_result"
    }
   ],
   "source": [
    "list45 ** 2"
   ]
  },
  {
   "cell_type": "code",
   "execution_count": 23,
   "id": "7bb7e6f4-4e76-470d-9e04-e29af25afff1",
   "metadata": {},
   "outputs": [
    {
     "data": {
      "text/plain": [
       "array([ 2,  4,  8, 16], dtype=int32)"
      ]
     },
     "execution_count": 23,
     "metadata": {},
     "output_type": "execute_result"
    }
   ],
   "source": [
    "2 ** list45"
   ]
  },
  {
   "cell_type": "code",
   "execution_count": 24,
   "id": "68ea7ec2-5af3-4479-8f4a-4054e227238f",
   "metadata": {},
   "outputs": [
    {
     "data": {
      "text/plain": [
       "array([1.        , 1.41421356, 1.73205081, 2.        ])"
      ]
     },
     "execution_count": 24,
     "metadata": {},
     "output_type": "execute_result"
    }
   ],
   "source": [
    "np.sqrt(list45)"
   ]
  },
  {
   "cell_type": "code",
   "execution_count": 25,
   "id": "94c62005-f4f2-4a86-bfb4-e253f9caf436",
   "metadata": {},
   "outputs": [
    {
     "data": {
      "text/plain": [
       "array([ 2.71828183,  7.3890561 , 20.08553692, 54.59815003])"
      ]
     },
     "execution_count": 25,
     "metadata": {},
     "output_type": "execute_result"
    }
   ],
   "source": [
    "np.exp(list45)"
   ]
  },
  {
   "cell_type": "code",
   "execution_count": 26,
   "id": "c25fbd2a-dd83-41ac-a169-f3f7d97fa539",
   "metadata": {},
   "outputs": [
    {
     "data": {
      "text/plain": [
       "2.718281828459045"
      ]
     },
     "execution_count": 26,
     "metadata": {},
     "output_type": "execute_result"
    }
   ],
   "source": [
    "np.exp(1)"
   ]
  },
  {
   "cell_type": "code",
   "execution_count": 27,
   "id": "c0522ece-732f-4fe9-ab52-c7dee555eac7",
   "metadata": {},
   "outputs": [
    {
     "data": {
      "text/plain": [
       "array([0.        , 0.69314718, 1.09861229, 1.38629436])"
      ]
     },
     "execution_count": 27,
     "metadata": {},
     "output_type": "execute_result"
    }
   ],
   "source": [
    "np.log(list45)"
   ]
  },
  {
   "cell_type": "code",
   "execution_count": 28,
   "id": "b7f91197-523e-4d8b-ad61-67dd7f39350c",
   "metadata": {},
   "outputs": [
    {
     "data": {
      "text/plain": [
       "10"
      ]
     },
     "execution_count": 28,
     "metadata": {},
     "output_type": "execute_result"
    }
   ],
   "source": [
    "list45.sum()"
   ]
  },
  {
   "cell_type": "code",
   "execution_count": 29,
   "id": "794d55d9-100d-4fad-aa08-c75b435c0bee",
   "metadata": {},
   "outputs": [
    {
     "data": {
      "text/plain": [
       "2.5"
      ]
     },
     "execution_count": 29,
     "metadata": {},
     "output_type": "execute_result"
    }
   ],
   "source": [
    "list45.mean()"
   ]
  },
  {
   "cell_type": "markdown",
   "id": "45244af0-6ce8-46f1-923f-cdf2a008349b",
   "metadata": {},
   "source": [
    "## **Arrays: Indexing and slicing**"
   ]
  },
  {
   "cell_type": "code",
   "execution_count": 30,
   "id": "c326674b-4295-4fb6-87d8-fb4575617e85",
   "metadata": {},
   "outputs": [
    {
     "data": {
      "text/plain": [
       "array([ 1,  2,  3,  4,  5,  6,  7,  8,  9, 10])"
      ]
     },
     "execution_count": 30,
     "metadata": {},
     "output_type": "execute_result"
    }
   ],
   "source": [
    "np_list42"
   ]
  },
  {
   "cell_type": "code",
   "execution_count": 31,
   "id": "ed36e779-a025-4ae1-833a-a044fd23c6e3",
   "metadata": {},
   "outputs": [
    {
     "data": {
      "text/plain": [
       "1"
      ]
     },
     "execution_count": 31,
     "metadata": {},
     "output_type": "execute_result"
    }
   ],
   "source": [
    "np_list42[0]"
   ]
  },
  {
   "cell_type": "code",
   "execution_count": 32,
   "id": "51fbee9f-90e6-4690-8e30-fd11e00e9ec1",
   "metadata": {},
   "outputs": [
    {
     "data": {
      "text/plain": [
       "10"
      ]
     },
     "execution_count": 32,
     "metadata": {},
     "output_type": "execute_result"
    }
   ],
   "source": [
    "np_list42[-1]"
   ]
  },
  {
   "cell_type": "code",
   "execution_count": 33,
   "id": "15811f3c-20a9-4dd0-9289-d12d8b02e61b",
   "metadata": {},
   "outputs": [
    {
     "data": {
      "text/plain": [
       "6"
      ]
     },
     "execution_count": 33,
     "metadata": {},
     "output_type": "execute_result"
    }
   ],
   "source": [
    "np_list42[-5]"
   ]
  },
  {
   "cell_type": "code",
   "execution_count": 34,
   "id": "9c947523-e282-45f9-ab6e-4c08dc9d08cc",
   "metadata": {},
   "outputs": [
    {
     "data": {
      "text/plain": [
       "array([1, 2, 3, 4, 5])"
      ]
     },
     "execution_count": 34,
     "metadata": {},
     "output_type": "execute_result"
    }
   ],
   "source": [
    "np_list42[0:5]"
   ]
  },
  {
   "cell_type": "code",
   "execution_count": 35,
   "id": "c000505f-d670-4e7d-917a-4426e5f5e18e",
   "metadata": {},
   "outputs": [
    {
     "data": {
      "text/plain": [
       "array([ 6,  7,  8,  9, 10])"
      ]
     },
     "execution_count": 35,
     "metadata": {},
     "output_type": "execute_result"
    }
   ],
   "source": [
    "np_list42[5:]"
   ]
  },
  {
   "cell_type": "code",
   "execution_count": 36,
   "id": "591f70bf-0188-4efa-b49e-9308c86c19c4",
   "metadata": {},
   "outputs": [
    {
     "data": {
      "text/plain": [
       "array([10,  9,  8,  7,  6,  5,  4,  3,  2,  1])"
      ]
     },
     "execution_count": 36,
     "metadata": {},
     "output_type": "execute_result"
    }
   ],
   "source": [
    "np_list42[::-1]"
   ]
  },
  {
   "cell_type": "code",
   "execution_count": 37,
   "id": "675844dd-69ca-4b8a-9377-24e36c7a3906",
   "metadata": {},
   "outputs": [
    {
     "data": {
      "text/plain": [
       "array([1, 3, 5, 7, 9])"
      ]
     },
     "execution_count": 37,
     "metadata": {},
     "output_type": "execute_result"
    }
   ],
   "source": [
    "np_list42[::2]"
   ]
  },
  {
   "cell_type": "code",
   "execution_count": 38,
   "id": "25b5571c-3bce-4281-9588-c17fe5dc327d",
   "metadata": {},
   "outputs": [
    {
     "data": {
      "text/plain": [
       "array([3, 5, 7, 9])"
      ]
     },
     "execution_count": 38,
     "metadata": {},
     "output_type": "execute_result"
    }
   ],
   "source": [
    "np_list42[2::2]"
   ]
  },
  {
   "cell_type": "code",
   "execution_count": 39,
   "id": "e01910aa-e458-4848-943a-fe3112a9394d",
   "metadata": {},
   "outputs": [
    {
     "data": {
      "text/plain": [
       "[(0, 1),\n",
       " (1, 2),\n",
       " (2, 3),\n",
       " (3, 4),\n",
       " (4, 5),\n",
       " (5, 6),\n",
       " (6, 7),\n",
       " (7, 8),\n",
       " (8, 9),\n",
       " (9, 10)]"
      ]
     },
     "execution_count": 39,
     "metadata": {},
     "output_type": "execute_result"
    }
   ],
   "source": [
    "list(enumerate(np_list42))"
   ]
  },
  {
   "cell_type": "code",
   "execution_count": 40,
   "id": "09d78f50-d98f-4352-9f60-0d9e9d6d3311",
   "metadata": {},
   "outputs": [],
   "source": [
    "np_list42[0] = 42"
   ]
  },
  {
   "cell_type": "code",
   "execution_count": 41,
   "id": "c94514a8-53fd-4a8c-b456-b03eebf3109a",
   "metadata": {},
   "outputs": [
    {
     "data": {
      "text/plain": [
       "array([42,  2,  3,  4,  5,  6,  7,  8,  9, 10])"
      ]
     },
     "execution_count": 41,
     "metadata": {},
     "output_type": "execute_result"
    }
   ],
   "source": [
    "np_list42"
   ]
  },
  {
   "cell_type": "code",
   "execution_count": 42,
   "id": "d4358ef2-ea3f-4336-a004-6b5c3739a968",
   "metadata": {},
   "outputs": [],
   "source": [
    "# can only assign an iterable\n",
    "# list42[1:4] = 43"
   ]
  },
  {
   "cell_type": "code",
   "execution_count": 43,
   "id": "27f2e056-e9f5-487a-bec5-a8a5c5976a37",
   "metadata": {},
   "outputs": [],
   "source": [
    "np_list42[1:4] = 43"
   ]
  },
  {
   "cell_type": "code",
   "execution_count": 44,
   "id": "6e81a3f7-1390-4a5e-b864-475aa5441e26",
   "metadata": {},
   "outputs": [
    {
     "data": {
      "text/plain": [
       "array([42, 43, 43, 43,  5,  6,  7,  8,  9, 10])"
      ]
     },
     "execution_count": 44,
     "metadata": {},
     "output_type": "execute_result"
    }
   ],
   "source": [
    "np_list42"
   ]
  },
  {
   "cell_type": "code",
   "execution_count": 45,
   "id": "2dafba38-eeb5-453d-92c7-816fef965329",
   "metadata": {},
   "outputs": [],
   "source": [
    "np_list42[4:7] = [44, 45, 46]"
   ]
  },
  {
   "cell_type": "code",
   "execution_count": 46,
   "id": "7bbea235-38e8-4248-9559-a7932a49329b",
   "metadata": {},
   "outputs": [
    {
     "data": {
      "text/plain": [
       "array([42, 43, 43, 43, 44, 45, 46,  8,  9, 10])"
      ]
     },
     "execution_count": 46,
     "metadata": {},
     "output_type": "execute_result"
    }
   ],
   "source": [
    "np_list42"
   ]
  },
  {
   "cell_type": "code",
   "execution_count": 47,
   "id": "aca27965-cbbf-48d9-8b7e-e2c7d94927fe",
   "metadata": {},
   "outputs": [],
   "source": [
    "np_list43 = np_list42[2:8]"
   ]
  },
  {
   "cell_type": "code",
   "execution_count": 48,
   "id": "5941ed3f-cc05-4992-9712-d12784217a51",
   "metadata": {},
   "outputs": [
    {
     "data": {
      "text/plain": [
       "array([43, 43, 44, 45, 46,  8])"
      ]
     },
     "execution_count": 48,
     "metadata": {},
     "output_type": "execute_result"
    }
   ],
   "source": [
    "np_list43"
   ]
  },
  {
   "cell_type": "code",
   "execution_count": 49,
   "id": "1f3ba911-d2a2-4614-934c-dd6c3ac61819",
   "metadata": {},
   "outputs": [],
   "source": [
    "np_list43[0] = 101"
   ]
  },
  {
   "cell_type": "code",
   "execution_count": 50,
   "id": "3986d373-cbe0-4c53-add8-34405b8f2032",
   "metadata": {},
   "outputs": [
    {
     "data": {
      "text/plain": [
       "array([101,  43,  44,  45,  46,   8])"
      ]
     },
     "execution_count": 50,
     "metadata": {},
     "output_type": "execute_result"
    }
   ],
   "source": [
    "np_list43"
   ]
  },
  {
   "cell_type": "code",
   "execution_count": 51,
   "id": "00a05b8b-b5e4-4f3f-b365-a22bbb6a632a",
   "metadata": {},
   "outputs": [
    {
     "data": {
      "text/plain": [
       "array([ 42,  43, 101,  43,  44,  45,  46,   8,   9,  10])"
      ]
     },
     "execution_count": 51,
     "metadata": {},
     "output_type": "execute_result"
    }
   ],
   "source": [
    "np_list42"
   ]
  },
  {
   "cell_type": "code",
   "execution_count": 52,
   "id": "e5344e75-b70b-4790-93d7-78be07b87519",
   "metadata": {},
   "outputs": [],
   "source": [
    "list46 = list(range(1, 11))"
   ]
  },
  {
   "cell_type": "code",
   "execution_count": 53,
   "id": "3bccf56c-0fcd-42c6-a348-271f2af6d834",
   "metadata": {},
   "outputs": [
    {
     "data": {
      "text/plain": [
       "[1, 2, 3, 4, 5, 6, 7, 8, 9, 10]"
      ]
     },
     "execution_count": 53,
     "metadata": {},
     "output_type": "execute_result"
    }
   ],
   "source": [
    "list46"
   ]
  },
  {
   "cell_type": "code",
   "execution_count": 54,
   "id": "83cb9222-d44a-4841-87b8-d69b456bb3c0",
   "metadata": {},
   "outputs": [],
   "source": [
    "list46_1 = list46[2:8]"
   ]
  },
  {
   "cell_type": "code",
   "execution_count": 55,
   "id": "f8b468a1-3060-462d-abd4-5be899655430",
   "metadata": {},
   "outputs": [
    {
     "data": {
      "text/plain": [
       "[3, 4, 5, 6, 7, 8]"
      ]
     },
     "execution_count": 55,
     "metadata": {},
     "output_type": "execute_result"
    }
   ],
   "source": [
    "list46_1"
   ]
  },
  {
   "cell_type": "code",
   "execution_count": 56,
   "id": "a87f5bcb-8e1f-4ee4-8305-94b88bda26f7",
   "metadata": {},
   "outputs": [],
   "source": [
    "list46_1[0] = 42"
   ]
  },
  {
   "cell_type": "code",
   "execution_count": 57,
   "id": "579d4a93-4087-4558-8804-c95f1edd51ca",
   "metadata": {},
   "outputs": [
    {
     "data": {
      "text/plain": [
       "[42, 4, 5, 6, 7, 8]"
      ]
     },
     "execution_count": 57,
     "metadata": {},
     "output_type": "execute_result"
    }
   ],
   "source": [
    "list46_1"
   ]
  },
  {
   "cell_type": "code",
   "execution_count": 58,
   "id": "b1984208-bcff-49ff-8989-c1efefd1c1c9",
   "metadata": {},
   "outputs": [
    {
     "data": {
      "text/plain": [
       "[1, 2, 3, 4, 5, 6, 7, 8, 9, 10]"
      ]
     },
     "execution_count": 58,
     "metadata": {},
     "output_type": "execute_result"
    }
   ],
   "source": [
    "list46"
   ]
  },
  {
   "cell_type": "code",
   "execution_count": 59,
   "id": "a284916c-3607-454c-8ef1-d0633647f019",
   "metadata": {},
   "outputs": [],
   "source": [
    "np_list46 = np.arange(1,11)"
   ]
  },
  {
   "cell_type": "code",
   "execution_count": 60,
   "id": "9ed07f94-6f2f-4afb-b6c2-0a522d68b8cf",
   "metadata": {},
   "outputs": [
    {
     "data": {
      "text/plain": [
       "array([ 1,  2,  3,  4,  5,  6,  7,  8,  9, 10])"
      ]
     },
     "execution_count": 60,
     "metadata": {},
     "output_type": "execute_result"
    }
   ],
   "source": [
    "np_list46"
   ]
  },
  {
   "cell_type": "code",
   "execution_count": 61,
   "id": "d50ba9bf-6c35-44eb-b079-798844affb7c",
   "metadata": {},
   "outputs": [],
   "source": [
    "np_list46_1 = np_list46[2:8].copy()"
   ]
  },
  {
   "cell_type": "code",
   "execution_count": 62,
   "id": "11ba63a7-4310-4d25-b623-cc9ca865c326",
   "metadata": {},
   "outputs": [],
   "source": [
    "np_list46_1[0] = 42"
   ]
  },
  {
   "cell_type": "code",
   "execution_count": 63,
   "id": "ab3d8ea7-a5eb-4956-8307-817b0140c3ef",
   "metadata": {},
   "outputs": [
    {
     "data": {
      "text/plain": [
       "array([42,  4,  5,  6,  7,  8])"
      ]
     },
     "execution_count": 63,
     "metadata": {},
     "output_type": "execute_result"
    }
   ],
   "source": [
    "np_list46_1"
   ]
  },
  {
   "cell_type": "code",
   "execution_count": 64,
   "id": "259b7828-fd78-499f-9184-f39c827b98de",
   "metadata": {},
   "outputs": [
    {
     "data": {
      "text/plain": [
       "array([ 1,  2,  3,  4,  5,  6,  7,  8,  9, 10])"
      ]
     },
     "execution_count": 64,
     "metadata": {},
     "output_type": "execute_result"
    }
   ],
   "source": [
    "np_list46"
   ]
  },
  {
   "cell_type": "markdown",
   "id": "e818666f-3acc-413c-bad7-772bc46d662a",
   "metadata": {},
   "source": [
    "## **Arrays: Shape and dimensions**"
   ]
  },
  {
   "cell_type": "code",
   "execution_count": 65,
   "id": "f487d225-2008-4999-bad2-3eff0f350522",
   "metadata": {},
   "outputs": [],
   "source": [
    "np_list47 = np.arange(1, 13)"
   ]
  },
  {
   "cell_type": "code",
   "execution_count": 66,
   "id": "bc81df35-ea49-414d-925d-d1db775157b4",
   "metadata": {},
   "outputs": [
    {
     "data": {
      "text/plain": [
       "array([ 1,  2,  3,  4,  5,  6,  7,  8,  9, 10, 11, 12])"
      ]
     },
     "execution_count": 66,
     "metadata": {},
     "output_type": "execute_result"
    }
   ],
   "source": [
    "np_list47"
   ]
  },
  {
   "cell_type": "code",
   "execution_count": 67,
   "id": "da0dc2fc-f1cb-458c-b204-00dc4d802b4f",
   "metadata": {},
   "outputs": [
    {
     "data": {
      "text/plain": [
       "(12,)"
      ]
     },
     "execution_count": 67,
     "metadata": {},
     "output_type": "execute_result"
    }
   ],
   "source": [
    "np_list47.shape"
   ]
  },
  {
   "cell_type": "code",
   "execution_count": 68,
   "id": "e07fd972-9af3-4299-8aad-f0b5395198d4",
   "metadata": {},
   "outputs": [
    {
     "data": {
      "text/plain": [
       "array([[ 1,  2,  3,  4,  5,  6],\n",
       "       [ 7,  8,  9, 10, 11, 12]])"
      ]
     },
     "execution_count": 68,
     "metadata": {},
     "output_type": "execute_result"
    }
   ],
   "source": [
    "np_list47.reshape(2, 6)"
   ]
  },
  {
   "cell_type": "code",
   "execution_count": 69,
   "id": "8777592c-6378-4871-a30e-ee100374e819",
   "metadata": {},
   "outputs": [
    {
     "data": {
      "text/plain": [
       "array([ 1,  2,  3,  4,  5,  6,  7,  8,  9, 10, 11, 12])"
      ]
     },
     "execution_count": 69,
     "metadata": {},
     "output_type": "execute_result"
    }
   ],
   "source": [
    "np_list47"
   ]
  },
  {
   "cell_type": "code",
   "execution_count": 70,
   "id": "41f51b73-27c9-41ff-b18b-c5e2139bfeb2",
   "metadata": {},
   "outputs": [
    {
     "data": {
      "text/plain": [
       "array([[ 1,  2,  3,  4],\n",
       "       [ 5,  6,  7,  8],\n",
       "       [ 9, 10, 11, 12]])"
      ]
     },
     "execution_count": 70,
     "metadata": {},
     "output_type": "execute_result"
    }
   ],
   "source": [
    "np_list47.reshape(3, 4)"
   ]
  },
  {
   "cell_type": "code",
   "execution_count": 71,
   "id": "a5d05dcd-9d57-4126-92b6-123963cb9b0f",
   "metadata": {},
   "outputs": [
    {
     "data": {
      "text/plain": [
       "array([[ 1,  2,  3,  4],\n",
       "       [ 5,  6,  7,  8],\n",
       "       [ 9, 10, 11, 12]])"
      ]
     },
     "execution_count": 71,
     "metadata": {},
     "output_type": "execute_result"
    }
   ],
   "source": [
    "np.reshape(np_list47, (3, 4))"
   ]
  },
  {
   "cell_type": "code",
   "execution_count": 72,
   "id": "d2c432fe-109c-470c-a3c0-a00b18265eac",
   "metadata": {},
   "outputs": [
    {
     "data": {
      "text/plain": [
       "array([[ 1,  2],\n",
       "       [ 3,  4],\n",
       "       [ 5,  6],\n",
       "       [ 7,  8],\n",
       "       [ 9, 10],\n",
       "       [11, 12]])"
      ]
     },
     "execution_count": 72,
     "metadata": {},
     "output_type": "execute_result"
    }
   ],
   "source": [
    "np_list47.reshape(6, 2)"
   ]
  },
  {
   "cell_type": "code",
   "execution_count": 73,
   "id": "2c167f95-18b8-4d9f-96a0-ef9b1c33a981",
   "metadata": {},
   "outputs": [
    {
     "data": {
      "text/plain": [
       "array([[1, 2],\n",
       "       [3, 4]])"
      ]
     },
     "execution_count": 73,
     "metadata": {},
     "output_type": "execute_result"
    }
   ],
   "source": [
    "np_list47.reshape(6, 2)[0:2, :]"
   ]
  },
  {
   "cell_type": "code",
   "execution_count": 74,
   "id": "67d0d99a-5e4c-4a9c-b80f-3ea63d8aa000",
   "metadata": {},
   "outputs": [],
   "source": [
    "# ValueError: cannot reshape array of size 12 into shape (3,5)\n",
    "# np_list47.reshape(3,5)"
   ]
  },
  {
   "cell_type": "code",
   "execution_count": 75,
   "id": "7fc89de4-fdc5-4ff7-b3df-30237fdace29",
   "metadata": {},
   "outputs": [
    {
     "data": {
      "text/plain": [
       "array([[[ 1,  2,  3],\n",
       "        [ 4,  5,  6]],\n",
       "\n",
       "       [[ 7,  8,  9],\n",
       "        [10, 11, 12]]])"
      ]
     },
     "execution_count": 75,
     "metadata": {},
     "output_type": "execute_result"
    }
   ],
   "source": [
    "np_list47.reshape(2, 2, 3)"
   ]
  },
  {
   "cell_type": "markdown",
   "id": "704123dd-9808-4dde-869e-d1aa078f31fd",
   "metadata": {},
   "source": [
    "## **Arrays: Indexing and slicing**"
   ]
  },
  {
   "cell_type": "code",
   "execution_count": 76,
   "id": "eb31ae1b-9883-490d-8fc0-37238baf3c03",
   "metadata": {},
   "outputs": [],
   "source": [
    "np_list48 = np.arange(1, 13)"
   ]
  },
  {
   "cell_type": "code",
   "execution_count": 77,
   "id": "14d1e98f-b0de-4760-bac3-dbf0ccfe4277",
   "metadata": {},
   "outputs": [
    {
     "data": {
      "text/plain": [
       "array([[ 1,  2,  3,  4],\n",
       "       [ 5,  6,  7,  8],\n",
       "       [ 9, 10, 11, 12]])"
      ]
     },
     "execution_count": 77,
     "metadata": {},
     "output_type": "execute_result"
    }
   ],
   "source": [
    "np_list48.reshape(3, 4)"
   ]
  },
  {
   "cell_type": "code",
   "execution_count": 78,
   "id": "527da1fe-3c84-44aa-b612-f3119f8656fe",
   "metadata": {},
   "outputs": [
    {
     "data": {
      "text/plain": [
       "array([[ 1,  4,  7, 10],\n",
       "       [ 2,  5,  8, 11],\n",
       "       [ 3,  6,  9, 12]])"
      ]
     },
     "execution_count": 78,
     "metadata": {},
     "output_type": "execute_result"
    }
   ],
   "source": [
    "np_list48.reshape(3, 4, order = 'F')"
   ]
  },
  {
   "cell_type": "code",
   "execution_count": 79,
   "id": "3978a875-a4a0-4262-a323-6855af67f42e",
   "metadata": {},
   "outputs": [],
   "source": [
    "np_list48 = np_list48.reshape(3, 4)"
   ]
  },
  {
   "cell_type": "code",
   "execution_count": 80,
   "id": "d800f0cf-1f24-4777-a1a2-72497abd193c",
   "metadata": {},
   "outputs": [
    {
     "data": {
      "text/plain": [
       "array([[ 1,  2,  3,  4],\n",
       "       [ 5,  6,  7,  8],\n",
       "       [ 9, 10, 11, 12]])"
      ]
     },
     "execution_count": 80,
     "metadata": {},
     "output_type": "execute_result"
    }
   ],
   "source": [
    "np_list48"
   ]
  },
  {
   "cell_type": "code",
   "execution_count": 81,
   "id": "8f633c79-7c0e-429e-9ce4-68f8e5c826dc",
   "metadata": {},
   "outputs": [
    {
     "data": {
      "text/plain": [
       "array([1, 2, 3, 4])"
      ]
     },
     "execution_count": 81,
     "metadata": {},
     "output_type": "execute_result"
    }
   ],
   "source": [
    "np_list48[0]"
   ]
  },
  {
   "cell_type": "code",
   "execution_count": 82,
   "id": "16e50a99-8240-4367-b595-bafd1ed054f1",
   "metadata": {},
   "outputs": [
    {
     "data": {
      "text/plain": [
       "array([5, 6, 7, 8])"
      ]
     },
     "execution_count": 82,
     "metadata": {},
     "output_type": "execute_result"
    }
   ],
   "source": [
    "np_list48[1]"
   ]
  },
  {
   "cell_type": "code",
   "execution_count": 83,
   "id": "d5dae288-1d4b-4b0b-88b3-d8d77b329d0b",
   "metadata": {},
   "outputs": [
    {
     "data": {
      "text/plain": [
       "1"
      ]
     },
     "execution_count": 83,
     "metadata": {},
     "output_type": "execute_result"
    }
   ],
   "source": [
    "np_list48[0][0]"
   ]
  },
  {
   "cell_type": "code",
   "execution_count": 84,
   "id": "7d6f3027-65ac-4454-b7de-452350a05d79",
   "metadata": {},
   "outputs": [
    {
     "data": {
      "text/plain": [
       "6"
      ]
     },
     "execution_count": 84,
     "metadata": {},
     "output_type": "execute_result"
    }
   ],
   "source": [
    "np_list48[1][1]"
   ]
  },
  {
   "cell_type": "code",
   "execution_count": 85,
   "id": "bb82b144-d199-43df-ba23-d1086f6628e4",
   "metadata": {},
   "outputs": [
    {
     "data": {
      "text/plain": [
       "6"
      ]
     },
     "execution_count": 85,
     "metadata": {},
     "output_type": "execute_result"
    }
   ],
   "source": [
    "np_list48[1, 1]"
   ]
  },
  {
   "cell_type": "code",
   "execution_count": 86,
   "id": "a36bd888-f77a-4081-bf1a-4de3ed68632f",
   "metadata": {},
   "outputs": [
    {
     "data": {
      "text/plain": [
       "12"
      ]
     },
     "execution_count": 86,
     "metadata": {},
     "output_type": "execute_result"
    }
   ],
   "source": [
    "np_list48[-1, -1]"
   ]
  },
  {
   "cell_type": "code",
   "execution_count": 87,
   "id": "5ab6d893-be77-48ca-b753-310dc7943642",
   "metadata": {},
   "outputs": [
    {
     "data": {
      "text/plain": [
       "array([ 4,  8, 12])"
      ]
     },
     "execution_count": 87,
     "metadata": {},
     "output_type": "execute_result"
    }
   ],
   "source": [
    "np_list48[:, -1]"
   ]
  },
  {
   "cell_type": "code",
   "execution_count": 88,
   "id": "9b60c197-962b-4a2c-8219-d8a38d40bfde",
   "metadata": {},
   "outputs": [
    {
     "data": {
      "text/plain": [
       "numpy.ndarray"
      ]
     },
     "execution_count": 88,
     "metadata": {},
     "output_type": "execute_result"
    }
   ],
   "source": [
    "type(np_list48[:, -1])"
   ]
  },
  {
   "cell_type": "code",
   "execution_count": 89,
   "id": "b42a7333-0083-4a12-abdf-ccde5d5e4e31",
   "metadata": {},
   "outputs": [
    {
     "data": {
      "text/plain": [
       "(3,)"
      ]
     },
     "execution_count": 89,
     "metadata": {},
     "output_type": "execute_result"
    }
   ],
   "source": [
    "np_list48[:, -1].shape"
   ]
  },
  {
   "cell_type": "code",
   "execution_count": 90,
   "id": "a70958bc-1922-4769-abeb-23178d172e9e",
   "metadata": {},
   "outputs": [
    {
     "data": {
      "text/plain": [
       "array([[ 1,  5,  9],\n",
       "       [ 2,  6, 10],\n",
       "       [ 3,  7, 11],\n",
       "       [ 4,  8, 12]])"
      ]
     },
     "execution_count": 90,
     "metadata": {},
     "output_type": "execute_result"
    }
   ],
   "source": [
    "np_list48.T"
   ]
  },
  {
   "cell_type": "code",
   "execution_count": 91,
   "id": "c189e0f9-7c56-4ffd-acb3-d3b1b234b38e",
   "metadata": {},
   "outputs": [
    {
     "data": {
      "text/plain": [
       "array([[ 1,  5,  9],\n",
       "       [ 2,  6, 10],\n",
       "       [ 3,  7, 11],\n",
       "       [ 4,  8, 12]])"
      ]
     },
     "execution_count": 91,
     "metadata": {},
     "output_type": "execute_result"
    }
   ],
   "source": [
    "np_list48.transpose()"
   ]
  },
  {
   "cell_type": "code",
   "execution_count": 92,
   "id": "1fa68807-9512-4812-bb70-608c0d83812f",
   "metadata": {},
   "outputs": [
    {
     "data": {
      "text/plain": [
       "array([1., 2., 3.])"
      ]
     },
     "execution_count": 92,
     "metadata": {},
     "output_type": "execute_result"
    }
   ],
   "source": [
    "np_list48[:, -1] / 4"
   ]
  },
  {
   "cell_type": "code",
   "execution_count": 93,
   "id": "0ec59a07-fdcc-4fb1-a29e-a4ebb8439966",
   "metadata": {},
   "outputs": [],
   "source": [
    "np_list48[:, -1]  = np_list48[:, -1] / 4"
   ]
  },
  {
   "cell_type": "code",
   "execution_count": 94,
   "id": "d3229e03-16ab-437b-acd3-aa4aed103c55",
   "metadata": {},
   "outputs": [
    {
     "data": {
      "text/plain": [
       "array([[ 1,  2,  3,  1],\n",
       "       [ 5,  6,  7,  2],\n",
       "       [ 9, 10, 11,  3]])"
      ]
     },
     "execution_count": 94,
     "metadata": {},
     "output_type": "execute_result"
    }
   ],
   "source": [
    "np_list48"
   ]
  },
  {
   "cell_type": "code",
   "execution_count": 95,
   "id": "88dc67b3-f7c3-458e-9475-904e79ea8a69",
   "metadata": {},
   "outputs": [
    {
     "data": {
      "text/plain": [
       "60"
      ]
     },
     "execution_count": 95,
     "metadata": {},
     "output_type": "execute_result"
    }
   ],
   "source": [
    "np_list48.sum()"
   ]
  },
  {
   "cell_type": "code",
   "execution_count": 96,
   "id": "847678fc-b60b-43ec-892e-20e2c69c0c02",
   "metadata": {},
   "outputs": [
    {
     "data": {
      "text/plain": [
       "array([15, 18, 21,  6])"
      ]
     },
     "execution_count": 96,
     "metadata": {},
     "output_type": "execute_result"
    }
   ],
   "source": [
    "np_list48.sum(axis = 0)"
   ]
  },
  {
   "cell_type": "code",
   "execution_count": 97,
   "id": "6ddf8226-d960-460e-9967-fe114ae48d22",
   "metadata": {},
   "outputs": [
    {
     "data": {
      "text/plain": [
       "array([ 7, 20, 33])"
      ]
     },
     "execution_count": 97,
     "metadata": {},
     "output_type": "execute_result"
    }
   ],
   "source": [
    "np_list48.sum(axis = 1)"
   ]
  },
  {
   "cell_type": "code",
   "execution_count": 98,
   "id": "e10e7e43-6d17-40f8-b3c9-a197682b374a",
   "metadata": {},
   "outputs": [
    {
     "data": {
      "text/plain": [
       "array([ 1,  3,  6,  7, 12, 18, 25, 27, 36, 46, 57, 60])"
      ]
     },
     "execution_count": 98,
     "metadata": {},
     "output_type": "execute_result"
    }
   ],
   "source": [
    "np_list48.cumsum()"
   ]
  },
  {
   "cell_type": "code",
   "execution_count": 99,
   "id": "dc05a1da-de4b-43a7-8a2b-4df5dca3fc0f",
   "metadata": {},
   "outputs": [
    {
     "data": {
      "text/plain": [
       "array([[ 1,  2,  3,  1],\n",
       "       [ 6,  8, 10,  3],\n",
       "       [15, 18, 21,  6]])"
      ]
     },
     "execution_count": 99,
     "metadata": {},
     "output_type": "execute_result"
    }
   ],
   "source": [
    "np_list48.cumsum(axis = 0)"
   ]
  },
  {
   "cell_type": "code",
   "execution_count": 100,
   "id": "be12aa72-0e66-4a77-9be1-c2ceb65f8a6c",
   "metadata": {},
   "outputs": [
    {
     "data": {
      "text/plain": [
       "array([[ 1,  3,  6,  7],\n",
       "       [ 5, 11, 18, 20],\n",
       "       [ 9, 19, 30, 33]])"
      ]
     },
     "execution_count": 100,
     "metadata": {},
     "output_type": "execute_result"
    }
   ],
   "source": [
    "np_list48.cumsum(axis = 1)"
   ]
  },
  {
   "cell_type": "code",
   "execution_count": 101,
   "id": "510c7107-b0e7-4104-8318-4f7f50602da4",
   "metadata": {},
   "outputs": [
    {
     "data": {
      "text/plain": [
       "7484400"
      ]
     },
     "execution_count": 101,
     "metadata": {},
     "output_type": "execute_result"
    }
   ],
   "source": [
    "np_list48.prod()"
   ]
  },
  {
   "cell_type": "code",
   "execution_count": 102,
   "id": "fc8f87d9-a238-4687-bba4-666a17354f31",
   "metadata": {},
   "outputs": [
    {
     "data": {
      "text/plain": [
       "array([ 45, 120, 231,   6])"
      ]
     },
     "execution_count": 102,
     "metadata": {},
     "output_type": "execute_result"
    }
   ],
   "source": [
    "np_list48.prod(axis = 0)"
   ]
  },
  {
   "cell_type": "code",
   "execution_count": 103,
   "id": "a675dc02-00c6-45fb-a684-ce84c9b2e95d",
   "metadata": {},
   "outputs": [
    {
     "data": {
      "text/plain": [
       "array([   6,  420, 2970])"
      ]
     },
     "execution_count": 103,
     "metadata": {},
     "output_type": "execute_result"
    }
   ],
   "source": [
    "np_list48.prod(axis = 1)"
   ]
  },
  {
   "cell_type": "code",
   "execution_count": 104,
   "id": "db0e21f7-49af-496b-8cc1-4465234be271",
   "metadata": {},
   "outputs": [
    {
     "data": {
      "text/plain": [
       "array([ 1,  6, 11])"
      ]
     },
     "execution_count": 104,
     "metadata": {},
     "output_type": "execute_result"
    }
   ],
   "source": [
    "np_list48.diagonal()"
   ]
  },
  {
   "cell_type": "code",
   "execution_count": 105,
   "id": "65307d92-a9b4-4e8a-a62a-56bc6375806d",
   "metadata": {},
   "outputs": [
    {
     "data": {
      "text/plain": [
       "array([ 5, 10])"
      ]
     },
     "execution_count": 105,
     "metadata": {},
     "output_type": "execute_result"
    }
   ],
   "source": [
    "np_list48.diagonal(offset = 1, axis1 = 1, axis2 = 0)"
   ]
  },
  {
   "cell_type": "code",
   "execution_count": 106,
   "id": "e56fa679-8803-4960-b6fe-50d531dd0870",
   "metadata": {},
   "outputs": [
    {
     "data": {
      "text/plain": [
       "array([ 5, 10])"
      ]
     },
     "execution_count": 106,
     "metadata": {},
     "output_type": "execute_result"
    }
   ],
   "source": [
    "np_list48.diagonal(offset = -1)"
   ]
  },
  {
   "cell_type": "code",
   "execution_count": 107,
   "id": "fcb0fa07-41a4-4259-ac63-125c429f0f9f",
   "metadata": {
    "scrolled": true
   },
   "outputs": [
    {
     "data": {
      "text/plain": [
       "array([ 5, 10])"
      ]
     },
     "execution_count": 107,
     "metadata": {},
     "output_type": "execute_result"
    }
   ],
   "source": [
    "np_list48.diagonal(offset = -1)"
   ]
  },
  {
   "cell_type": "markdown",
   "id": "d46622f6-989d-4910-9608-695301c444ba",
   "metadata": {},
   "source": [
    "## **Arrays: Boolean indexing**"
   ]
  },
  {
   "cell_type": "code",
   "execution_count": 108,
   "id": "f4638c5f-af34-48bb-889d-bf021d74883d",
   "metadata": {},
   "outputs": [],
   "source": [
    "np_list49 = np.arange(1, 11)"
   ]
  },
  {
   "cell_type": "code",
   "execution_count": 109,
   "id": "564e8629-d829-4ea9-a394-b83d4df97170",
   "metadata": {},
   "outputs": [],
   "source": [
    "mask1 = np_list49 > 5"
   ]
  },
  {
   "cell_type": "code",
   "execution_count": 110,
   "id": "a442ce78-6d8a-419d-bec6-93e060d4ad7e",
   "metadata": {},
   "outputs": [
    {
     "data": {
      "text/plain": [
       "array([False, False, False, False, False,  True,  True,  True,  True,\n",
       "        True])"
      ]
     },
     "execution_count": 110,
     "metadata": {},
     "output_type": "execute_result"
    }
   ],
   "source": [
    "mask1"
   ]
  },
  {
   "cell_type": "code",
   "execution_count": 111,
   "id": "4b68f30d-4c48-49b4-bb89-4e6ce8c8abbe",
   "metadata": {},
   "outputs": [
    {
     "data": {
      "text/plain": [
       "array([ 6,  7,  8,  9, 10])"
      ]
     },
     "execution_count": 111,
     "metadata": {},
     "output_type": "execute_result"
    }
   ],
   "source": [
    "np_list49[mask1]"
   ]
  },
  {
   "cell_type": "code",
   "execution_count": 112,
   "id": "63bf96c5-cd6d-42c8-942a-2701b9b6404f",
   "metadata": {},
   "outputs": [],
   "source": [
    "mask2 = (np_list49 > 5) & (np_list49 < 8)"
   ]
  },
  {
   "cell_type": "code",
   "execution_count": 113,
   "id": "e9d1229a-4215-4d16-a939-d2a888b5b9ef",
   "metadata": {},
   "outputs": [
    {
     "data": {
      "text/plain": [
       "array([6, 7])"
      ]
     },
     "execution_count": 113,
     "metadata": {},
     "output_type": "execute_result"
    }
   ],
   "source": [
    "np_list49[mask2]"
   ]
  },
  {
   "cell_type": "code",
   "execution_count": 114,
   "id": "0413574b-8827-4422-8076-1e4e615cd39e",
   "metadata": {},
   "outputs": [],
   "source": [
    "mask3 = (np_list49 > 5) | (np_list49 < 8)"
   ]
  },
  {
   "cell_type": "code",
   "execution_count": 115,
   "id": "e0808593-a467-4047-a46c-9d2a510cf51f",
   "metadata": {},
   "outputs": [
    {
     "data": {
      "text/plain": [
       "array([ 1,  2,  3,  4,  5,  6,  7,  8,  9, 10])"
      ]
     },
     "execution_count": 115,
     "metadata": {},
     "output_type": "execute_result"
    }
   ],
   "source": [
    "np_list49[mask3]"
   ]
  },
  {
   "cell_type": "markdown",
   "id": "9b5f53a9-5cfc-43ac-93ba-8dc612f20db0",
   "metadata": {},
   "source": [
    "## **Random numbers**"
   ]
  },
  {
   "cell_type": "code",
   "execution_count": 116,
   "id": "2482470d-f657-4ba3-83df-ef66b4a99d85",
   "metadata": {},
   "outputs": [
    {
     "data": {
      "text/plain": [
       "array([44, 36, 98, 71, 56, 41, 77, 81, 80, 94])"
      ]
     },
     "execution_count": 116,
     "metadata": {},
     "output_type": "execute_result"
    }
   ],
   "source": [
    "a = np.random.randint(1, 101, 10)\n",
    "a"
   ]
  },
  {
   "cell_type": "code",
   "execution_count": 117,
   "id": "1d39b856-6c85-4192-87e4-0a9cb3351d03",
   "metadata": {},
   "outputs": [
    {
     "data": {
      "text/plain": [
       "array([67, 93, 99, 18, 84, 58, 87, 98, 97, 48])"
      ]
     },
     "execution_count": 117,
     "metadata": {},
     "output_type": "execute_result"
    }
   ],
   "source": [
    "np.random.seed(123)\n",
    "b = np.random.randint(1, 101, 10)\n",
    "b"
   ]
  },
  {
   "cell_type": "code",
   "execution_count": 118,
   "id": "4822d2ac-a2f2-467a-b693-19cc614b4e5d",
   "metadata": {},
   "outputs": [
    {
     "data": {
      "text/plain": [
       "array([1.76139987, 2.77207117, 4.10511856, 8.33680322, 4.71325505,\n",
       "       3.7616182 , 3.46113306, 6.15349204, 5.25305184, 2.39702205])"
      ]
     },
     "execution_count": 118,
     "metadata": {},
     "output_type": "execute_result"
    }
   ],
   "source": [
    "c = np.random.normal(loc = 5, scale = 2, size = 10)\n",
    "c"
   ]
  },
  {
   "cell_type": "code",
   "execution_count": 119,
   "id": "2649c1d9-7a41-406c-80ef-ad946afddde2",
   "metadata": {},
   "outputs": [
    {
     "data": {
      "text/plain": [
       "array([  1,   2,   3,   4,   5,   6,   7,   8,   9,  10,  11,  12,  13,\n",
       "        14,  15,  16,  17,  18,  19,  20,  21,  22,  23,  24,  25,  26,\n",
       "        27,  28,  29,  30,  31,  32,  33,  34,  35,  36,  37,  38,  39,\n",
       "        40,  41,  42,  43,  44,  45,  46,  47,  48,  49,  50,  51,  52,\n",
       "        53,  54,  55,  56,  57,  58,  59,  60,  61,  62,  63,  64,  65,\n",
       "        66,  67,  68,  69,  70,  71,  72,  73,  74,  75,  76,  77,  78,\n",
       "        79,  80,  81,  82,  83,  84,  85,  86,  87,  88,  89,  90,  91,\n",
       "        92,  93,  94,  95,  96,  97,  98,  99, 100])"
      ]
     },
     "execution_count": 119,
     "metadata": {},
     "output_type": "execute_result"
    }
   ],
   "source": [
    "d = np.arange(1, 101)\n",
    "d"
   ]
  },
  {
   "cell_type": "code",
   "execution_count": 120,
   "id": "fd64ba53-4337-4774-b4ee-c146f5f06ad4",
   "metadata": {},
   "outputs": [],
   "source": [
    "np.random.shuffle(d)"
   ]
  },
  {
   "cell_type": "code",
   "execution_count": 121,
   "id": "a5046d73-dc1f-44f6-8b6f-c4bde24bded9",
   "metadata": {},
   "outputs": [
    {
     "data": {
      "text/plain": [
       "array([  5,   3,  96,  64,  73,  34,  37,  25,  67,  89,  17,  39,  30,\n",
       "         9,   6,   1,  14,  80,  98,  87,  63,  38,  82,  33,  58,  29,\n",
       "        66,  60,  32,  68,  20,  36,  74,  24,  10,  72, 100,  43,  46,\n",
       "        47,  84,  75,  40,  95,  22,  12,  99,  88,  81,  61,  90,  97,\n",
       "        42,  54,  45,  52,  69,  18,  79,  13,  50,  57,  21,  51,  26,\n",
       "        56,  83,  44,   2,  55,  15,   7,  27,  71,  94,  31,  92,  16,\n",
       "        19,  78,  23,  11,  59,  91,  76,  65,  70,   4,  41,  77,  35,\n",
       "        28,  86,  53,  93,   8,  49,  62,  48,  85])"
      ]
     },
     "execution_count": 121,
     "metadata": {},
     "output_type": "execute_result"
    }
   ],
   "source": [
    "d"
   ]
  },
  {
   "cell_type": "code",
   "execution_count": 122,
   "id": "ea8624d4-86f5-4faf-94bc-e83386bbf1d2",
   "metadata": {},
   "outputs": [
    {
     "data": {
      "text/plain": [
       "array([  1,   2,   3,   4,   5,   6,   7,   8,   9,  10,  11,  12,  13,\n",
       "        14,  15,  16,  17,  18,  19,  20,  21,  22,  23,  24,  25,  26,\n",
       "        27,  28,  29,  30,  31,  32,  33,  34,  35,  36,  37,  38,  39,\n",
       "        40,  41,  42,  43,  44,  45,  46,  47,  48,  49,  50,  51,  52,\n",
       "        53,  54,  55,  56,  57,  58,  59,  60,  61,  62,  63,  64,  65,\n",
       "        66,  67,  68,  69,  70,  71,  72,  73,  74,  75,  76,  77,  78,\n",
       "        79,  80,  81,  82,  83,  84,  85,  86,  87,  88,  89,  90,  91,\n",
       "        92,  93,  94,  95,  96,  97,  98,  99, 100])"
      ]
     },
     "execution_count": 122,
     "metadata": {},
     "output_type": "execute_result"
    }
   ],
   "source": [
    "d.sort()\n",
    "d"
   ]
  },
  {
   "cell_type": "code",
   "execution_count": 123,
   "id": "4446aeed-74a3-4f06-a3e7-a57955b739c7",
   "metadata": {},
   "outputs": [
    {
     "data": {
      "text/plain": [
       "array([100,  99,  98,  97,  96,  95,  94,  93,  92,  91,  90,  89,  88,\n",
       "        87,  86,  85,  84,  83,  82,  81,  80,  79,  78,  77,  76,  75,\n",
       "        74,  73,  72,  71,  70,  69,  68,  67,  66,  65,  64,  63,  62,\n",
       "        61,  60,  59,  58,  57,  56,  55,  54,  53,  52,  51,  50,  49,\n",
       "        48,  47,  46,  45,  44,  43,  42,  41,  40,  39,  38,  37,  36,\n",
       "        35,  34,  33,  32,  31,  30,  29,  28,  27,  26,  25,  24,  23,\n",
       "        22,  21,  20,  19,  18,  17,  16,  15,  14,  13,  12,  11,  10,\n",
       "         9,   8,   7,   6,   5,   4,   3,   2,   1])"
      ]
     },
     "execution_count": 123,
     "metadata": {},
     "output_type": "execute_result"
    }
   ],
   "source": [
    "d[::-1]"
   ]
  },
  {
   "cell_type": "code",
   "execution_count": 124,
   "id": "1bcbdeac-8214-4ba7-a716-9ae1a2182e1d",
   "metadata": {},
   "outputs": [
    {
     "data": {
      "text/plain": [
       "array([  1,   2,   3,   4,   5,   6,   7,   8,   9,  10,  11,  12,  13,\n",
       "        14,  15,  16,  17,  18,  19,  20,  21,  22,  23,  24,  25,  26,\n",
       "        27,  28,  29,  30,  31,  32,  33,  34,  35,  36,  37,  38,  39,\n",
       "        40,  41,  42,  43,  44,  45,  46,  47,  48,  49,  50,  51,  52,\n",
       "        53,  54,  55,  56,  57,  58,  59,  60,  61,  62,  63,  64,  65,\n",
       "        66,  67,  68,  69,  70,  71,  72,  73,  74,  75,  76,  77,  78,\n",
       "        79,  80,  81,  82,  83,  84,  85,  86,  87,  88,  89,  90,  91,\n",
       "        92,  93,  94,  95,  96,  97,  98,  99, 100])"
      ]
     },
     "execution_count": 124,
     "metadata": {},
     "output_type": "execute_result"
    }
   ],
   "source": [
    "d"
   ]
  },
  {
   "cell_type": "code",
   "execution_count": 125,
   "id": "9b2fd4da-fea6-4798-9566-9fa5781c35b3",
   "metadata": {},
   "outputs": [
    {
     "data": {
      "text/plain": [
       "array([ 67,  93,  99,  18,  84,  58,  87,  98,  97,  48,  74,  33,  47,\n",
       "        97,  26,  84,  79,  37,  97,  81,  69,  50,  56,  68,   3,  85,\n",
       "        40,  67,  85,  48,  62,  49,   8, 100,  93,  53,  98,  86,  95,\n",
       "        28,  35,  98,  77,  41,   4,  70,  65,  76,  35,  59,  11,  23,\n",
       "        78,  19,  16,  28,  31,  53,  71,  27,  81,   7,  15,  76,  55,\n",
       "        72,   2,  44,  59,  56,  26,  51,  85,  57,  50,  13,  19,  82,\n",
       "         2,  52,  45,  49,  57,  92,  50,  87,   4,  68,  12,  22,  90,\n",
       "        99,   4,  12,   4,  95,   7,  10,  88,  15])"
      ]
     },
     "execution_count": 125,
     "metadata": {},
     "output_type": "execute_result"
    }
   ],
   "source": [
    "np.random.seed(123)\n",
    "d1 = np.random.choice(d, size = 100, replace = True)\n",
    "d1"
   ]
  },
  {
   "cell_type": "code",
   "execution_count": 126,
   "id": "bc9ffc1c-89b2-41a5-954e-80580a1f089d",
   "metadata": {},
   "outputs": [
    {
     "data": {
      "text/plain": [
       "array([  2,   2,   3,   4,   4,   4,   4,   7,   7,   8,  10,  11,  12,\n",
       "        12,  13,  15,  15,  16,  18,  19,  19,  22,  23,  26,  26,  27,\n",
       "        28,  28,  31,  33,  35,  35,  37,  40,  41,  44,  45,  47,  48,\n",
       "        48,  49,  49,  50,  50,  50,  51,  52,  53,  53,  55,  56,  56,\n",
       "        57,  57,  58,  59,  59,  62,  65,  67,  67,  68,  68,  69,  70,\n",
       "        71,  72,  74,  76,  76,  77,  78,  79,  81,  81,  82,  84,  84,\n",
       "        85,  85,  85,  86,  87,  87,  88,  90,  92,  93,  93,  95,  95,\n",
       "        97,  97,  97,  98,  98,  98,  99,  99, 100])"
      ]
     },
     "execution_count": 126,
     "metadata": {},
     "output_type": "execute_result"
    }
   ],
   "source": [
    "d1.sort()\n",
    "d1"
   ]
  },
  {
   "cell_type": "code",
   "execution_count": 127,
   "id": "3ff0a518-5109-4fb9-a507-ab9e6f786dbc",
   "metadata": {},
   "outputs": [
    {
     "data": {
      "text/plain": [
       "array([  2,   3,   4,   7,   8,  10,  11,  12,  13,  15,  16,  18,  19,\n",
       "        22,  23,  26,  27,  28,  31,  33,  35,  37,  40,  41,  44,  45,\n",
       "        47,  48,  49,  50,  51,  52,  53,  55,  56,  57,  58,  59,  62,\n",
       "        65,  67,  68,  69,  70,  71,  72,  74,  76,  77,  78,  79,  81,\n",
       "        82,  84,  85,  86,  87,  88,  90,  92,  93,  95,  97,  98,  99,\n",
       "       100])"
      ]
     },
     "execution_count": 127,
     "metadata": {},
     "output_type": "execute_result"
    }
   ],
   "source": [
    "np.unique(d1)"
   ]
  },
  {
   "cell_type": "markdown",
   "id": "85d9ee69-ebec-40f5-aba3-736213aade8b",
   "metadata": {},
   "source": [
    "## **Performance issues**"
   ]
  },
  {
   "cell_type": "code",
   "execution_count": 137,
   "id": "188136e6-87bf-48b8-b1b1-e6b936c7960e",
   "metadata": {},
   "outputs": [],
   "source": [
    "size = 1000000"
   ]
  },
  {
   "cell_type": "code",
   "execution_count": 138,
   "id": "5cc52001-e8ab-4c32-9f71-b6ebf9e235b5",
   "metadata": {},
   "outputs": [
    {
     "data": {
      "text/plain": [
       "1000000"
      ]
     },
     "execution_count": 138,
     "metadata": {},
     "output_type": "execute_result"
    }
   ],
   "source": [
    "x = list(range(size))\n",
    "len(x)"
   ]
  },
  {
   "cell_type": "code",
   "execution_count": 139,
   "id": "4b6675ab-a0cd-4731-9c13-a50fc4f4f565",
   "metadata": {},
   "outputs": [
    {
     "data": {
      "text/plain": [
       "1000000"
      ]
     },
     "execution_count": 139,
     "metadata": {},
     "output_type": "execute_result"
    }
   ],
   "source": [
    "z = np.arange(size)\n",
    "len(z)"
   ]
  },
  {
   "cell_type": "code",
   "execution_count": 140,
   "id": "2ee8c176-c7e9-46c6-b54c-0b315dfa515e",
   "metadata": {},
   "outputs": [
    {
     "name": "stdout",
     "output_type": "stream",
     "text": [
      "34 ms ± 225 µs per loop (mean ± std. dev. of 7 runs, 10 loops each)\n"
     ]
    }
   ],
   "source": [
    "%timeit [i + 2 for i in x]"
   ]
  },
  {
   "cell_type": "code",
   "execution_count": 141,
   "id": "7bf6f398-e99d-4d49-b971-363600094145",
   "metadata": {},
   "outputs": [
    {
     "name": "stdout",
     "output_type": "stream",
     "text": [
      "610 µs ± 2.39 µs per loop (mean ± std. dev. of 7 runs, 1,000 loops each)\n"
     ]
    }
   ],
   "source": [
    "%timeit z + 2"
   ]
  },
  {
   "cell_type": "code",
   "execution_count": 142,
   "id": "8c01a7bf-4494-41a3-be36-b70d2d41d81f",
   "metadata": {},
   "outputs": [
    {
     "name": "stdout",
     "output_type": "stream",
     "text": [
      "42 ms ± 317 µs per loop (mean ± std. dev. of 7 runs, 10 loops each)\n"
     ]
    }
   ],
   "source": [
    "%timeit [i ** 2 for i in x]"
   ]
  },
  {
   "cell_type": "code",
   "execution_count": 143,
   "id": "57b52819-1d7c-45c4-a77a-4e0f9f2faca1",
   "metadata": {},
   "outputs": [
    {
     "name": "stdout",
     "output_type": "stream",
     "text": [
      "613 µs ± 5.93 µs per loop (mean ± std. dev. of 7 runs, 1,000 loops each)\n"
     ]
    }
   ],
   "source": [
    "%timeit z ** 2"
   ]
  },
  {
   "cell_type": "markdown",
   "id": "85e242e2-eddb-49f6-8494-f77b9e56690c",
   "metadata": {},
   "source": [
    "## **Case study**"
   ]
  },
  {
   "cell_type": "code",
   "execution_count": null,
   "id": "bc6de49e-4488-4eb9-bfa6-12affed89563",
   "metadata": {},
   "outputs": [],
   "source": []
  }
 ],
 "metadata": {
  "kernelspec": {
   "display_name": "Python 3 (ipykernel)",
   "language": "python",
   "name": "python3"
  },
  "language_info": {
   "codemirror_mode": {
    "name": "ipython",
    "version": 3
   },
   "file_extension": ".py",
   "mimetype": "text/x-python",
   "name": "python",
   "nbconvert_exporter": "python",
   "pygments_lexer": "ipython3",
   "version": "3.11.7"
  }
 },
 "nbformat": 4,
 "nbformat_minor": 5
}
