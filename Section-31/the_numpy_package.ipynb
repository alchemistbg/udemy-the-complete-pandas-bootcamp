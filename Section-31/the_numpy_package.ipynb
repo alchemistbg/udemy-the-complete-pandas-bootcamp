{
 "cells": [
  {
   "cell_type": "markdown",
   "id": "15a35433-4a64-40ee-aa54-55390cf4c524",
   "metadata": {},
   "source": [
    "# **The numpy pachage**"
   ]
  },
  {
   "cell_type": "markdown",
   "id": "ba1a85bd-4431-42c3-bb4f-bfd53dfc5334",
   "metadata": {},
   "source": [
    "## **Introduction**"
   ]
  },
  {
   "cell_type": "code",
   "execution_count": 1,
   "id": "ff47054c-5241-48b4-8f0a-c5bbfc26dbda",
   "metadata": {},
   "outputs": [],
   "source": [
    "import numpy as np"
   ]
  },
  {
   "cell_type": "code",
   "execution_count": 2,
   "id": "226d2003-0c96-48ef-adcc-6a14fe9c0d87",
   "metadata": {},
   "outputs": [],
   "source": [
    "list42 = list(range(1, 11))"
   ]
  },
  {
   "cell_type": "code",
   "execution_count": 3,
   "id": "f2d3b987-a6a1-4bb6-93bb-e968347ac41b",
   "metadata": {},
   "outputs": [
    {
     "data": {
      "text/plain": [
       "[1, 2, 3, 4, 5, 6, 7, 8, 9, 10]"
      ]
     },
     "execution_count": 3,
     "metadata": {},
     "output_type": "execute_result"
    }
   ],
   "source": [
    "list42"
   ]
  },
  {
   "cell_type": "code",
   "execution_count": 4,
   "id": "5345b7aa-feaf-47b6-bfa8-ebdac1d902b5",
   "metadata": {},
   "outputs": [],
   "source": [
    "np_list42 = np.array(list42)"
   ]
  },
  {
   "cell_type": "code",
   "execution_count": 5,
   "id": "bac0e3e9-5afe-405f-98b5-604de12a718d",
   "metadata": {},
   "outputs": [
    {
     "data": {
      "text/plain": [
       "array([ 1,  2,  3,  4,  5,  6,  7,  8,  9, 10])"
      ]
     },
     "execution_count": 5,
     "metadata": {},
     "output_type": "execute_result"
    }
   ],
   "source": [
    "np_list42"
   ]
  },
  {
   "cell_type": "code",
   "execution_count": 6,
   "id": "0a0a1c1e-7a06-4c87-848c-85a79c127696",
   "metadata": {},
   "outputs": [
    {
     "data": {
      "text/plain": [
       "numpy.ndarray"
      ]
     },
     "execution_count": 6,
     "metadata": {},
     "output_type": "execute_result"
    }
   ],
   "source": [
    "type(np_list42)"
   ]
  },
  {
   "cell_type": "code",
   "execution_count": 7,
   "id": "9ac974de-c7af-4ffa-9185-cfb0633ef14f",
   "metadata": {},
   "outputs": [
    {
     "data": {
      "text/plain": [
       "array([ 2,  4,  6,  8, 10, 12, 14, 16, 18, 20])"
      ]
     },
     "execution_count": 7,
     "metadata": {},
     "output_type": "execute_result"
    }
   ],
   "source": [
    "np_list42 * 2"
   ]
  },
  {
   "cell_type": "code",
   "execution_count": 8,
   "id": "00b8a7c4-4313-4065-8b1f-aecf92e6b294",
   "metadata": {},
   "outputs": [
    {
     "data": {
      "text/plain": [
       "array([ 1,  2,  3,  4,  5,  6,  7,  8,  9, 10])"
      ]
     },
     "execution_count": 8,
     "metadata": {},
     "output_type": "execute_result"
    }
   ],
   "source": [
    "np_list42"
   ]
  },
  {
   "cell_type": "markdown",
   "id": "7f8ba0d5-92e5-41c9-9469-c5c763363aa0",
   "metadata": {},
   "source": [
    "## **Arrays: Element-wise operations**"
   ]
  },
  {
   "cell_type": "code",
   "execution_count": 9,
   "id": "997d0e7b-144f-4235-9202-387bd3a1ba25",
   "metadata": {},
   "outputs": [
    {
     "data": {
      "text/plain": [
       "array([ 1,  2,  3,  4,  5,  6,  7,  8,  9, 10])"
      ]
     },
     "execution_count": 9,
     "metadata": {},
     "output_type": "execute_result"
    }
   ],
   "source": [
    "np.arange(1, 11)"
   ]
  },
  {
   "cell_type": "code",
   "execution_count": 10,
   "id": "ec65d16e-9181-473d-ab84-3fe9195c4cbc",
   "metadata": {},
   "outputs": [
    {
     "data": {
      "text/plain": [
       "array([1, 3, 5, 7, 9])"
      ]
     },
     "execution_count": 10,
     "metadata": {},
     "output_type": "execute_result"
    }
   ],
   "source": [
    "np.arange(1, 11, 2)"
   ]
  },
  {
   "cell_type": "code",
   "execution_count": 11,
   "id": "e84d1017-5b9f-4c56-bb81-30408c1c32b6",
   "metadata": {},
   "outputs": [],
   "source": [
    "list43 = [1, 2, 3, 4]"
   ]
  },
  {
   "cell_type": "code",
   "execution_count": 12,
   "id": "dd42a1d0-25f4-41f4-9f6a-f3aa11f0bccf",
   "metadata": {},
   "outputs": [
    {
     "data": {
      "text/plain": [
       "[1, 2, 3, 4]"
      ]
     },
     "execution_count": 12,
     "metadata": {},
     "output_type": "execute_result"
    }
   ],
   "source": [
    "list43"
   ]
  },
  {
   "cell_type": "code",
   "execution_count": 13,
   "id": "6b4998ee-edd3-4097-b28b-163ee58de49b",
   "metadata": {},
   "outputs": [
    {
     "data": {
      "text/plain": [
       "[1, 2, 3, 4, 1, 2, 3, 4]"
      ]
     },
     "execution_count": 13,
     "metadata": {},
     "output_type": "execute_result"
    }
   ],
   "source": [
    "list43 * 2"
   ]
  },
  {
   "cell_type": "code",
   "execution_count": 14,
   "id": "f9935141-5073-41b4-9dac-d76f92c85911",
   "metadata": {},
   "outputs": [],
   "source": [
    "list44 = []"
   ]
  },
  {
   "cell_type": "code",
   "execution_count": 15,
   "id": "1105723b-8860-4805-b4f0-e223c1c7d6b8",
   "metadata": {},
   "outputs": [],
   "source": [
    "for el in list43:\n",
    "    list44.append(el * 2)"
   ]
  },
  {
   "cell_type": "code",
   "execution_count": 16,
   "id": "83fa47cf-144c-408a-86d7-610e20663d43",
   "metadata": {},
   "outputs": [
    {
     "data": {
      "text/plain": [
       "[2, 4, 6, 8]"
      ]
     },
     "execution_count": 16,
     "metadata": {},
     "output_type": "execute_result"
    }
   ],
   "source": [
    "list44"
   ]
  },
  {
   "cell_type": "code",
   "execution_count": 17,
   "id": "24767a4a-812d-4b0e-a641-fdf2a57f8be1",
   "metadata": {},
   "outputs": [],
   "source": [
    "# can only concatenate list (not \"int\") to list\n",
    "# list43 + 2"
   ]
  },
  {
   "cell_type": "code",
   "execution_count": 18,
   "id": "6ef56207-3cf5-4052-a9d2-3ed0d47d1fde",
   "metadata": {},
   "outputs": [],
   "source": [
    "list45 = np.arange(1, 5)"
   ]
  },
  {
   "cell_type": "code",
   "execution_count": 19,
   "id": "bbd8dc94-de0e-460d-b408-d1691a751467",
   "metadata": {},
   "outputs": [
    {
     "data": {
      "text/plain": [
       "array([1, 2, 3, 4])"
      ]
     },
     "execution_count": 19,
     "metadata": {},
     "output_type": "execute_result"
    }
   ],
   "source": [
    "list45"
   ]
  },
  {
   "cell_type": "code",
   "execution_count": 20,
   "id": "73be63c2-a06f-473c-9e64-43e375584f63",
   "metadata": {},
   "outputs": [
    {
     "data": {
      "text/plain": [
       "array([2, 4, 6, 8])"
      ]
     },
     "execution_count": 20,
     "metadata": {},
     "output_type": "execute_result"
    }
   ],
   "source": [
    "list45 * 2"
   ]
  },
  {
   "cell_type": "code",
   "execution_count": 21,
   "id": "27111f00-cbda-404d-b7e0-fc825a810388",
   "metadata": {},
   "outputs": [
    {
     "data": {
      "text/plain": [
       "array([3, 4, 5, 6])"
      ]
     },
     "execution_count": 21,
     "metadata": {},
     "output_type": "execute_result"
    }
   ],
   "source": [
    "list45 + 2"
   ]
  },
  {
   "cell_type": "code",
   "execution_count": 22,
   "id": "a0fd7e87-fc67-40f7-a495-89f5f697b0ee",
   "metadata": {},
   "outputs": [
    {
     "data": {
      "text/plain": [
       "array([ 1,  4,  9, 16])"
      ]
     },
     "execution_count": 22,
     "metadata": {},
     "output_type": "execute_result"
    }
   ],
   "source": [
    "list45 ** 2"
   ]
  },
  {
   "cell_type": "code",
   "execution_count": 23,
   "id": "7bb7e6f4-4e76-470d-9e04-e29af25afff1",
   "metadata": {},
   "outputs": [
    {
     "data": {
      "text/plain": [
       "array([ 2,  4,  8, 16], dtype=int32)"
      ]
     },
     "execution_count": 23,
     "metadata": {},
     "output_type": "execute_result"
    }
   ],
   "source": [
    "2 ** list45"
   ]
  },
  {
   "cell_type": "code",
   "execution_count": 24,
   "id": "68ea7ec2-5af3-4479-8f4a-4054e227238f",
   "metadata": {},
   "outputs": [
    {
     "data": {
      "text/plain": [
       "array([1.        , 1.41421356, 1.73205081, 2.        ])"
      ]
     },
     "execution_count": 24,
     "metadata": {},
     "output_type": "execute_result"
    }
   ],
   "source": [
    "np.sqrt(list45)"
   ]
  },
  {
   "cell_type": "code",
   "execution_count": 25,
   "id": "94c62005-f4f2-4a86-bfb4-e253f9caf436",
   "metadata": {},
   "outputs": [
    {
     "data": {
      "text/plain": [
       "array([ 2.71828183,  7.3890561 , 20.08553692, 54.59815003])"
      ]
     },
     "execution_count": 25,
     "metadata": {},
     "output_type": "execute_result"
    }
   ],
   "source": [
    "np.exp(list45)"
   ]
  },
  {
   "cell_type": "code",
   "execution_count": 26,
   "id": "c25fbd2a-dd83-41ac-a169-f3f7d97fa539",
   "metadata": {},
   "outputs": [
    {
     "data": {
      "text/plain": [
       "2.718281828459045"
      ]
     },
     "execution_count": 26,
     "metadata": {},
     "output_type": "execute_result"
    }
   ],
   "source": [
    "np.exp(1)"
   ]
  },
  {
   "cell_type": "code",
   "execution_count": 27,
   "id": "c0522ece-732f-4fe9-ab52-c7dee555eac7",
   "metadata": {},
   "outputs": [
    {
     "data": {
      "text/plain": [
       "array([0.        , 0.69314718, 1.09861229, 1.38629436])"
      ]
     },
     "execution_count": 27,
     "metadata": {},
     "output_type": "execute_result"
    }
   ],
   "source": [
    "np.log(list45)"
   ]
  },
  {
   "cell_type": "code",
   "execution_count": 28,
   "id": "b7f91197-523e-4d8b-ad61-67dd7f39350c",
   "metadata": {},
   "outputs": [
    {
     "data": {
      "text/plain": [
       "10"
      ]
     },
     "execution_count": 28,
     "metadata": {},
     "output_type": "execute_result"
    }
   ],
   "source": [
    "list45.sum()"
   ]
  },
  {
   "cell_type": "code",
   "execution_count": 29,
   "id": "794d55d9-100d-4fad-aa08-c75b435c0bee",
   "metadata": {},
   "outputs": [
    {
     "data": {
      "text/plain": [
       "2.5"
      ]
     },
     "execution_count": 29,
     "metadata": {},
     "output_type": "execute_result"
    }
   ],
   "source": [
    "list45.mean()"
   ]
  },
  {
   "cell_type": "markdown",
   "id": "45244af0-6ce8-46f1-923f-cdf2a008349b",
   "metadata": {},
   "source": [
    "## **Arrays: Indexing and slicing**"
   ]
  },
  {
   "cell_type": "code",
   "execution_count": 30,
   "id": "c326674b-4295-4fb6-87d8-fb4575617e85",
   "metadata": {},
   "outputs": [
    {
     "data": {
      "text/plain": [
       "array([ 1,  2,  3,  4,  5,  6,  7,  8,  9, 10])"
      ]
     },
     "execution_count": 30,
     "metadata": {},
     "output_type": "execute_result"
    }
   ],
   "source": [
    "np_list42"
   ]
  },
  {
   "cell_type": "code",
   "execution_count": 31,
   "id": "ed36e779-a025-4ae1-833a-a044fd23c6e3",
   "metadata": {},
   "outputs": [
    {
     "data": {
      "text/plain": [
       "1"
      ]
     },
     "execution_count": 31,
     "metadata": {},
     "output_type": "execute_result"
    }
   ],
   "source": [
    "np_list42[0]"
   ]
  },
  {
   "cell_type": "code",
   "execution_count": 32,
   "id": "51fbee9f-90e6-4690-8e30-fd11e00e9ec1",
   "metadata": {},
   "outputs": [
    {
     "data": {
      "text/plain": [
       "10"
      ]
     },
     "execution_count": 32,
     "metadata": {},
     "output_type": "execute_result"
    }
   ],
   "source": [
    "np_list42[-1]"
   ]
  },
  {
   "cell_type": "code",
   "execution_count": 33,
   "id": "15811f3c-20a9-4dd0-9289-d12d8b02e61b",
   "metadata": {},
   "outputs": [
    {
     "data": {
      "text/plain": [
       "6"
      ]
     },
     "execution_count": 33,
     "metadata": {},
     "output_type": "execute_result"
    }
   ],
   "source": [
    "np_list42[-5]"
   ]
  },
  {
   "cell_type": "code",
   "execution_count": 34,
   "id": "9c947523-e282-45f9-ab6e-4c08dc9d08cc",
   "metadata": {},
   "outputs": [
    {
     "data": {
      "text/plain": [
       "array([1, 2, 3, 4, 5])"
      ]
     },
     "execution_count": 34,
     "metadata": {},
     "output_type": "execute_result"
    }
   ],
   "source": [
    "np_list42[0:5]"
   ]
  },
  {
   "cell_type": "code",
   "execution_count": 35,
   "id": "c000505f-d670-4e7d-917a-4426e5f5e18e",
   "metadata": {},
   "outputs": [
    {
     "data": {
      "text/plain": [
       "array([ 6,  7,  8,  9, 10])"
      ]
     },
     "execution_count": 35,
     "metadata": {},
     "output_type": "execute_result"
    }
   ],
   "source": [
    "np_list42[5:]"
   ]
  },
  {
   "cell_type": "code",
   "execution_count": 36,
   "id": "591f70bf-0188-4efa-b49e-9308c86c19c4",
   "metadata": {},
   "outputs": [
    {
     "data": {
      "text/plain": [
       "array([10,  9,  8,  7,  6,  5,  4,  3,  2,  1])"
      ]
     },
     "execution_count": 36,
     "metadata": {},
     "output_type": "execute_result"
    }
   ],
   "source": [
    "np_list42[::-1]"
   ]
  },
  {
   "cell_type": "code",
   "execution_count": 37,
   "id": "675844dd-69ca-4b8a-9377-24e36c7a3906",
   "metadata": {},
   "outputs": [
    {
     "data": {
      "text/plain": [
       "array([1, 3, 5, 7, 9])"
      ]
     },
     "execution_count": 37,
     "metadata": {},
     "output_type": "execute_result"
    }
   ],
   "source": [
    "np_list42[::2]"
   ]
  },
  {
   "cell_type": "code",
   "execution_count": 38,
   "id": "25b5571c-3bce-4281-9588-c17fe5dc327d",
   "metadata": {},
   "outputs": [
    {
     "data": {
      "text/plain": [
       "array([3, 5, 7, 9])"
      ]
     },
     "execution_count": 38,
     "metadata": {},
     "output_type": "execute_result"
    }
   ],
   "source": [
    "np_list42[2::2]"
   ]
  },
  {
   "cell_type": "code",
   "execution_count": 39,
   "id": "e01910aa-e458-4848-943a-fe3112a9394d",
   "metadata": {},
   "outputs": [
    {
     "data": {
      "text/plain": [
       "[(0, 1),\n",
       " (1, 2),\n",
       " (2, 3),\n",
       " (3, 4),\n",
       " (4, 5),\n",
       " (5, 6),\n",
       " (6, 7),\n",
       " (7, 8),\n",
       " (8, 9),\n",
       " (9, 10)]"
      ]
     },
     "execution_count": 39,
     "metadata": {},
     "output_type": "execute_result"
    }
   ],
   "source": [
    "list(enumerate(np_list42))"
   ]
  },
  {
   "cell_type": "code",
   "execution_count": 40,
   "id": "09d78f50-d98f-4352-9f60-0d9e9d6d3311",
   "metadata": {},
   "outputs": [],
   "source": [
    "np_list42[0] = 42"
   ]
  },
  {
   "cell_type": "code",
   "execution_count": 41,
   "id": "c94514a8-53fd-4a8c-b456-b03eebf3109a",
   "metadata": {},
   "outputs": [
    {
     "data": {
      "text/plain": [
       "array([42,  2,  3,  4,  5,  6,  7,  8,  9, 10])"
      ]
     },
     "execution_count": 41,
     "metadata": {},
     "output_type": "execute_result"
    }
   ],
   "source": [
    "np_list42"
   ]
  },
  {
   "cell_type": "code",
   "execution_count": 42,
   "id": "d4358ef2-ea3f-4336-a004-6b5c3739a968",
   "metadata": {},
   "outputs": [],
   "source": [
    "# can only assign an iterable\n",
    "# list42[1:4] = 43"
   ]
  },
  {
   "cell_type": "code",
   "execution_count": 43,
   "id": "27f2e056-e9f5-487a-bec5-a8a5c5976a37",
   "metadata": {},
   "outputs": [],
   "source": [
    "np_list42[1:4] = 43"
   ]
  },
  {
   "cell_type": "code",
   "execution_count": 44,
   "id": "6e81a3f7-1390-4a5e-b864-475aa5441e26",
   "metadata": {},
   "outputs": [
    {
     "data": {
      "text/plain": [
       "array([42, 43, 43, 43,  5,  6,  7,  8,  9, 10])"
      ]
     },
     "execution_count": 44,
     "metadata": {},
     "output_type": "execute_result"
    }
   ],
   "source": [
    "np_list42"
   ]
  },
  {
   "cell_type": "code",
   "execution_count": 45,
   "id": "2dafba38-eeb5-453d-92c7-816fef965329",
   "metadata": {},
   "outputs": [],
   "source": [
    "np_list42[4:7] = [44, 45, 46]"
   ]
  },
  {
   "cell_type": "code",
   "execution_count": 46,
   "id": "7bbea235-38e8-4248-9559-a7932a49329b",
   "metadata": {},
   "outputs": [
    {
     "data": {
      "text/plain": [
       "array([42, 43, 43, 43, 44, 45, 46,  8,  9, 10])"
      ]
     },
     "execution_count": 46,
     "metadata": {},
     "output_type": "execute_result"
    }
   ],
   "source": [
    "np_list42"
   ]
  },
  {
   "cell_type": "code",
   "execution_count": 47,
   "id": "aca27965-cbbf-48d9-8b7e-e2c7d94927fe",
   "metadata": {},
   "outputs": [],
   "source": [
    "np_list43 = np_list42[2:8]"
   ]
  },
  {
   "cell_type": "code",
   "execution_count": 48,
   "id": "5941ed3f-cc05-4992-9712-d12784217a51",
   "metadata": {},
   "outputs": [
    {
     "data": {
      "text/plain": [
       "array([43, 43, 44, 45, 46,  8])"
      ]
     },
     "execution_count": 48,
     "metadata": {},
     "output_type": "execute_result"
    }
   ],
   "source": [
    "np_list43"
   ]
  },
  {
   "cell_type": "code",
   "execution_count": 49,
   "id": "1f3ba911-d2a2-4614-934c-dd6c3ac61819",
   "metadata": {},
   "outputs": [],
   "source": [
    "np_list43[0] = 101"
   ]
  },
  {
   "cell_type": "code",
   "execution_count": 50,
   "id": "3986d373-cbe0-4c53-add8-34405b8f2032",
   "metadata": {},
   "outputs": [
    {
     "data": {
      "text/plain": [
       "array([101,  43,  44,  45,  46,   8])"
      ]
     },
     "execution_count": 50,
     "metadata": {},
     "output_type": "execute_result"
    }
   ],
   "source": [
    "np_list43"
   ]
  },
  {
   "cell_type": "code",
   "execution_count": 51,
   "id": "00a05b8b-b5e4-4f3f-b365-a22bbb6a632a",
   "metadata": {},
   "outputs": [
    {
     "data": {
      "text/plain": [
       "array([ 42,  43, 101,  43,  44,  45,  46,   8,   9,  10])"
      ]
     },
     "execution_count": 51,
     "metadata": {},
     "output_type": "execute_result"
    }
   ],
   "source": [
    "np_list42"
   ]
  },
  {
   "cell_type": "code",
   "execution_count": 52,
   "id": "e5344e75-b70b-4790-93d7-78be07b87519",
   "metadata": {},
   "outputs": [],
   "source": [
    "list46 = list(range(1, 11))"
   ]
  },
  {
   "cell_type": "code",
   "execution_count": 53,
   "id": "3bccf56c-0fcd-42c6-a348-271f2af6d834",
   "metadata": {},
   "outputs": [
    {
     "data": {
      "text/plain": [
       "[1, 2, 3, 4, 5, 6, 7, 8, 9, 10]"
      ]
     },
     "execution_count": 53,
     "metadata": {},
     "output_type": "execute_result"
    }
   ],
   "source": [
    "list46"
   ]
  },
  {
   "cell_type": "code",
   "execution_count": 54,
   "id": "83cb9222-d44a-4841-87b8-d69b456bb3c0",
   "metadata": {},
   "outputs": [],
   "source": [
    "list46_1 = list46[2:8]"
   ]
  },
  {
   "cell_type": "code",
   "execution_count": 55,
   "id": "f8b468a1-3060-462d-abd4-5be899655430",
   "metadata": {},
   "outputs": [
    {
     "data": {
      "text/plain": [
       "[3, 4, 5, 6, 7, 8]"
      ]
     },
     "execution_count": 55,
     "metadata": {},
     "output_type": "execute_result"
    }
   ],
   "source": [
    "list46_1"
   ]
  },
  {
   "cell_type": "code",
   "execution_count": 56,
   "id": "a87f5bcb-8e1f-4ee4-8305-94b88bda26f7",
   "metadata": {},
   "outputs": [],
   "source": [
    "list46_1[0] = 42"
   ]
  },
  {
   "cell_type": "code",
   "execution_count": 57,
   "id": "579d4a93-4087-4558-8804-c95f1edd51ca",
   "metadata": {},
   "outputs": [
    {
     "data": {
      "text/plain": [
       "[42, 4, 5, 6, 7, 8]"
      ]
     },
     "execution_count": 57,
     "metadata": {},
     "output_type": "execute_result"
    }
   ],
   "source": [
    "list46_1"
   ]
  },
  {
   "cell_type": "code",
   "execution_count": 58,
   "id": "b1984208-bcff-49ff-8989-c1efefd1c1c9",
   "metadata": {},
   "outputs": [
    {
     "data": {
      "text/plain": [
       "[1, 2, 3, 4, 5, 6, 7, 8, 9, 10]"
      ]
     },
     "execution_count": 58,
     "metadata": {},
     "output_type": "execute_result"
    }
   ],
   "source": [
    "list46"
   ]
  },
  {
   "cell_type": "code",
   "execution_count": 59,
   "id": "a284916c-3607-454c-8ef1-d0633647f019",
   "metadata": {},
   "outputs": [],
   "source": [
    "np_list46 = np.arange(1,11)"
   ]
  },
  {
   "cell_type": "code",
   "execution_count": 60,
   "id": "9ed07f94-6f2f-4afb-b6c2-0a522d68b8cf",
   "metadata": {},
   "outputs": [
    {
     "data": {
      "text/plain": [
       "array([ 1,  2,  3,  4,  5,  6,  7,  8,  9, 10])"
      ]
     },
     "execution_count": 60,
     "metadata": {},
     "output_type": "execute_result"
    }
   ],
   "source": [
    "np_list46"
   ]
  },
  {
   "cell_type": "code",
   "execution_count": 61,
   "id": "d50ba9bf-6c35-44eb-b079-798844affb7c",
   "metadata": {},
   "outputs": [],
   "source": [
    "np_list46_1 = np_list46[2:8].copy()"
   ]
  },
  {
   "cell_type": "code",
   "execution_count": 62,
   "id": "11ba63a7-4310-4d25-b623-cc9ca865c326",
   "metadata": {},
   "outputs": [],
   "source": [
    "np_list46_1[0] = 42"
   ]
  },
  {
   "cell_type": "code",
   "execution_count": 63,
   "id": "ab3d8ea7-a5eb-4956-8307-817b0140c3ef",
   "metadata": {},
   "outputs": [
    {
     "data": {
      "text/plain": [
       "array([42,  4,  5,  6,  7,  8])"
      ]
     },
     "execution_count": 63,
     "metadata": {},
     "output_type": "execute_result"
    }
   ],
   "source": [
    "np_list46_1"
   ]
  },
  {
   "cell_type": "code",
   "execution_count": 64,
   "id": "259b7828-fd78-499f-9184-f39c827b98de",
   "metadata": {},
   "outputs": [
    {
     "data": {
      "text/plain": [
       "array([ 1,  2,  3,  4,  5,  6,  7,  8,  9, 10])"
      ]
     },
     "execution_count": 64,
     "metadata": {},
     "output_type": "execute_result"
    }
   ],
   "source": [
    "np_list46"
   ]
  },
  {
   "cell_type": "markdown",
   "id": "e818666f-3acc-413c-bad7-772bc46d662a",
   "metadata": {},
   "source": [
    "## **Arrays: Shape and dimensions**"
   ]
  },
  {
   "cell_type": "code",
   "execution_count": 65,
   "id": "f487d225-2008-4999-bad2-3eff0f350522",
   "metadata": {},
   "outputs": [],
   "source": [
    "np_list47 = np.arange(1, 13)"
   ]
  },
  {
   "cell_type": "code",
   "execution_count": 66,
   "id": "bc81df35-ea49-414d-925d-d1db775157b4",
   "metadata": {},
   "outputs": [
    {
     "data": {
      "text/plain": [
       "array([ 1,  2,  3,  4,  5,  6,  7,  8,  9, 10, 11, 12])"
      ]
     },
     "execution_count": 66,
     "metadata": {},
     "output_type": "execute_result"
    }
   ],
   "source": [
    "np_list47"
   ]
  },
  {
   "cell_type": "code",
   "execution_count": 67,
   "id": "da0dc2fc-f1cb-458c-b204-00dc4d802b4f",
   "metadata": {},
   "outputs": [
    {
     "data": {
      "text/plain": [
       "(12,)"
      ]
     },
     "execution_count": 67,
     "metadata": {},
     "output_type": "execute_result"
    }
   ],
   "source": [
    "np_list47.shape"
   ]
  },
  {
   "cell_type": "code",
   "execution_count": 68,
   "id": "e07fd972-9af3-4299-8aad-f0b5395198d4",
   "metadata": {},
   "outputs": [
    {
     "data": {
      "text/plain": [
       "array([[ 1,  2,  3,  4,  5,  6],\n",
       "       [ 7,  8,  9, 10, 11, 12]])"
      ]
     },
     "execution_count": 68,
     "metadata": {},
     "output_type": "execute_result"
    }
   ],
   "source": [
    "np_list47.reshape(2, 6)"
   ]
  },
  {
   "cell_type": "code",
   "execution_count": 69,
   "id": "8777592c-6378-4871-a30e-ee100374e819",
   "metadata": {},
   "outputs": [
    {
     "data": {
      "text/plain": [
       "array([ 1,  2,  3,  4,  5,  6,  7,  8,  9, 10, 11, 12])"
      ]
     },
     "execution_count": 69,
     "metadata": {},
     "output_type": "execute_result"
    }
   ],
   "source": [
    "np_list47"
   ]
  },
  {
   "cell_type": "code",
   "execution_count": 70,
   "id": "41f51b73-27c9-41ff-b18b-c5e2139bfeb2",
   "metadata": {},
   "outputs": [
    {
     "data": {
      "text/plain": [
       "array([[ 1,  2,  3,  4],\n",
       "       [ 5,  6,  7,  8],\n",
       "       [ 9, 10, 11, 12]])"
      ]
     },
     "execution_count": 70,
     "metadata": {},
     "output_type": "execute_result"
    }
   ],
   "source": [
    "np_list47.reshape(3, 4)"
   ]
  },
  {
   "cell_type": "code",
   "execution_count": 71,
   "id": "a5d05dcd-9d57-4126-92b6-123963cb9b0f",
   "metadata": {},
   "outputs": [
    {
     "data": {
      "text/plain": [
       "array([[ 1,  2,  3,  4],\n",
       "       [ 5,  6,  7,  8],\n",
       "       [ 9, 10, 11, 12]])"
      ]
     },
     "execution_count": 71,
     "metadata": {},
     "output_type": "execute_result"
    }
   ],
   "source": [
    "np.reshape(np_list47, (3, 4))"
   ]
  },
  {
   "cell_type": "code",
   "execution_count": 72,
   "id": "d2c432fe-109c-470c-a3c0-a00b18265eac",
   "metadata": {},
   "outputs": [
    {
     "data": {
      "text/plain": [
       "array([[ 1,  2],\n",
       "       [ 3,  4],\n",
       "       [ 5,  6],\n",
       "       [ 7,  8],\n",
       "       [ 9, 10],\n",
       "       [11, 12]])"
      ]
     },
     "execution_count": 72,
     "metadata": {},
     "output_type": "execute_result"
    }
   ],
   "source": [
    "np_list47.reshape(6, 2)"
   ]
  },
  {
   "cell_type": "code",
   "execution_count": 73,
   "id": "2c167f95-18b8-4d9f-96a0-ef9b1c33a981",
   "metadata": {},
   "outputs": [
    {
     "data": {
      "text/plain": [
       "array([[1, 2],\n",
       "       [3, 4]])"
      ]
     },
     "execution_count": 73,
     "metadata": {},
     "output_type": "execute_result"
    }
   ],
   "source": [
    "np_list47.reshape(6, 2)[0:2, :]"
   ]
  },
  {
   "cell_type": "code",
   "execution_count": 74,
   "id": "67d0d99a-5e4c-4a9c-b80f-3ea63d8aa000",
   "metadata": {},
   "outputs": [],
   "source": [
    "# ValueError: cannot reshape array of size 12 into shape (3,5)\n",
    "# np_list47.reshape(3,5)"
   ]
  },
  {
   "cell_type": "code",
   "execution_count": 75,
   "id": "7fc89de4-fdc5-4ff7-b3df-30237fdace29",
   "metadata": {},
   "outputs": [
    {
     "data": {
      "text/plain": [
       "array([[[ 1,  2,  3],\n",
       "        [ 4,  5,  6]],\n",
       "\n",
       "       [[ 7,  8,  9],\n",
       "        [10, 11, 12]]])"
      ]
     },
     "execution_count": 75,
     "metadata": {},
     "output_type": "execute_result"
    }
   ],
   "source": [
    "np_list47.reshape(2, 2, 3)"
   ]
  },
  {
   "cell_type": "markdown",
   "id": "704123dd-9808-4dde-869e-d1aa078f31fd",
   "metadata": {},
   "source": [
    "## **Arrays: Indexing and slicing**"
   ]
  },
  {
   "cell_type": "code",
   "execution_count": 76,
   "id": "eb31ae1b-9883-490d-8fc0-37238baf3c03",
   "metadata": {},
   "outputs": [],
   "source": [
    "np_list48 = np.arange(1, 13)"
   ]
  },
  {
   "cell_type": "code",
   "execution_count": 77,
   "id": "14d1e98f-b0de-4760-bac3-dbf0ccfe4277",
   "metadata": {},
   "outputs": [
    {
     "data": {
      "text/plain": [
       "array([[ 1,  2,  3,  4],\n",
       "       [ 5,  6,  7,  8],\n",
       "       [ 9, 10, 11, 12]])"
      ]
     },
     "execution_count": 77,
     "metadata": {},
     "output_type": "execute_result"
    }
   ],
   "source": [
    "np_list48.reshape(3, 4)"
   ]
  },
  {
   "cell_type": "code",
   "execution_count": 78,
   "id": "527da1fe-3c84-44aa-b612-f3119f8656fe",
   "metadata": {},
   "outputs": [
    {
     "data": {
      "text/plain": [
       "array([[ 1,  4,  7, 10],\n",
       "       [ 2,  5,  8, 11],\n",
       "       [ 3,  6,  9, 12]])"
      ]
     },
     "execution_count": 78,
     "metadata": {},
     "output_type": "execute_result"
    }
   ],
   "source": [
    "np_list48.reshape(3, 4, order = 'F')"
   ]
  },
  {
   "cell_type": "code",
   "execution_count": 79,
   "id": "3978a875-a4a0-4262-a323-6855af67f42e",
   "metadata": {},
   "outputs": [],
   "source": [
    "np_list48 = np_list48.reshape(3, 4)"
   ]
  },
  {
   "cell_type": "code",
   "execution_count": 80,
   "id": "d800f0cf-1f24-4777-a1a2-72497abd193c",
   "metadata": {},
   "outputs": [
    {
     "data": {
      "text/plain": [
       "array([[ 1,  2,  3,  4],\n",
       "       [ 5,  6,  7,  8],\n",
       "       [ 9, 10, 11, 12]])"
      ]
     },
     "execution_count": 80,
     "metadata": {},
     "output_type": "execute_result"
    }
   ],
   "source": [
    "np_list48"
   ]
  },
  {
   "cell_type": "code",
   "execution_count": 81,
   "id": "8f633c79-7c0e-429e-9ce4-68f8e5c826dc",
   "metadata": {},
   "outputs": [
    {
     "data": {
      "text/plain": [
       "array([1, 2, 3, 4])"
      ]
     },
     "execution_count": 81,
     "metadata": {},
     "output_type": "execute_result"
    }
   ],
   "source": [
    "np_list48[0]"
   ]
  },
  {
   "cell_type": "code",
   "execution_count": 82,
   "id": "16e50a99-8240-4367-b595-bafd1ed054f1",
   "metadata": {},
   "outputs": [
    {
     "data": {
      "text/plain": [
       "array([5, 6, 7, 8])"
      ]
     },
     "execution_count": 82,
     "metadata": {},
     "output_type": "execute_result"
    }
   ],
   "source": [
    "np_list48[1]"
   ]
  },
  {
   "cell_type": "code",
   "execution_count": 83,
   "id": "d5dae288-1d4b-4b0b-88b3-d8d77b329d0b",
   "metadata": {},
   "outputs": [
    {
     "data": {
      "text/plain": [
       "1"
      ]
     },
     "execution_count": 83,
     "metadata": {},
     "output_type": "execute_result"
    }
   ],
   "source": [
    "np_list48[0][0]"
   ]
  },
  {
   "cell_type": "code",
   "execution_count": 84,
   "id": "7d6f3027-65ac-4454-b7de-452350a05d79",
   "metadata": {},
   "outputs": [
    {
     "data": {
      "text/plain": [
       "6"
      ]
     },
     "execution_count": 84,
     "metadata": {},
     "output_type": "execute_result"
    }
   ],
   "source": [
    "np_list48[1][1]"
   ]
  },
  {
   "cell_type": "code",
   "execution_count": 85,
   "id": "bb82b144-d199-43df-ba23-d1086f6628e4",
   "metadata": {},
   "outputs": [
    {
     "data": {
      "text/plain": [
       "6"
      ]
     },
     "execution_count": 85,
     "metadata": {},
     "output_type": "execute_result"
    }
   ],
   "source": [
    "np_list48[1, 1]"
   ]
  },
  {
   "cell_type": "code",
   "execution_count": 86,
   "id": "a36bd888-f77a-4081-bf1a-4de3ed68632f",
   "metadata": {},
   "outputs": [
    {
     "data": {
      "text/plain": [
       "12"
      ]
     },
     "execution_count": 86,
     "metadata": {},
     "output_type": "execute_result"
    }
   ],
   "source": [
    "np_list48[-1, -1]"
   ]
  },
  {
   "cell_type": "code",
   "execution_count": 87,
   "id": "5ab6d893-be77-48ca-b753-310dc7943642",
   "metadata": {},
   "outputs": [
    {
     "data": {
      "text/plain": [
       "array([ 4,  8, 12])"
      ]
     },
     "execution_count": 87,
     "metadata": {},
     "output_type": "execute_result"
    }
   ],
   "source": [
    "np_list48[:, -1]"
   ]
  },
  {
   "cell_type": "code",
   "execution_count": 88,
   "id": "9b60c197-962b-4a2c-8219-d8a38d40bfde",
   "metadata": {},
   "outputs": [
    {
     "data": {
      "text/plain": [
       "numpy.ndarray"
      ]
     },
     "execution_count": 88,
     "metadata": {},
     "output_type": "execute_result"
    }
   ],
   "source": [
    "type(np_list48[:, -1])"
   ]
  },
  {
   "cell_type": "code",
   "execution_count": 89,
   "id": "b42a7333-0083-4a12-abdf-ccde5d5e4e31",
   "metadata": {},
   "outputs": [
    {
     "data": {
      "text/plain": [
       "(3,)"
      ]
     },
     "execution_count": 89,
     "metadata": {},
     "output_type": "execute_result"
    }
   ],
   "source": [
    "np_list48[:, -1].shape"
   ]
  },
  {
   "cell_type": "code",
   "execution_count": 90,
   "id": "a70958bc-1922-4769-abeb-23178d172e9e",
   "metadata": {},
   "outputs": [
    {
     "data": {
      "text/plain": [
       "array([[ 1,  5,  9],\n",
       "       [ 2,  6, 10],\n",
       "       [ 3,  7, 11],\n",
       "       [ 4,  8, 12]])"
      ]
     },
     "execution_count": 90,
     "metadata": {},
     "output_type": "execute_result"
    }
   ],
   "source": [
    "np_list48.T"
   ]
  },
  {
   "cell_type": "code",
   "execution_count": 91,
   "id": "c189e0f9-7c56-4ffd-acb3-d3b1b234b38e",
   "metadata": {},
   "outputs": [
    {
     "data": {
      "text/plain": [
       "array([[ 1,  5,  9],\n",
       "       [ 2,  6, 10],\n",
       "       [ 3,  7, 11],\n",
       "       [ 4,  8, 12]])"
      ]
     },
     "execution_count": 91,
     "metadata": {},
     "output_type": "execute_result"
    }
   ],
   "source": [
    "np_list48.transpose()"
   ]
  },
  {
   "cell_type": "code",
   "execution_count": 92,
   "id": "1fa68807-9512-4812-bb70-608c0d83812f",
   "metadata": {},
   "outputs": [
    {
     "data": {
      "text/plain": [
       "array([1., 2., 3.])"
      ]
     },
     "execution_count": 92,
     "metadata": {},
     "output_type": "execute_result"
    }
   ],
   "source": [
    "np_list48[:, -1] / 4"
   ]
  },
  {
   "cell_type": "code",
   "execution_count": 93,
   "id": "0ec59a07-fdcc-4fb1-a29e-a4ebb8439966",
   "metadata": {},
   "outputs": [],
   "source": [
    "np_list48[:, -1]  = np_list48[:, -1] / 4"
   ]
  },
  {
   "cell_type": "code",
   "execution_count": 94,
   "id": "d3229e03-16ab-437b-acd3-aa4aed103c55",
   "metadata": {},
   "outputs": [
    {
     "data": {
      "text/plain": [
       "array([[ 1,  2,  3,  1],\n",
       "       [ 5,  6,  7,  2],\n",
       "       [ 9, 10, 11,  3]])"
      ]
     },
     "execution_count": 94,
     "metadata": {},
     "output_type": "execute_result"
    }
   ],
   "source": [
    "np_list48"
   ]
  },
  {
   "cell_type": "code",
   "execution_count": 95,
   "id": "88dc67b3-f7c3-458e-9475-904e79ea8a69",
   "metadata": {},
   "outputs": [
    {
     "data": {
      "text/plain": [
       "60"
      ]
     },
     "execution_count": 95,
     "metadata": {},
     "output_type": "execute_result"
    }
   ],
   "source": [
    "np_list48.sum()"
   ]
  },
  {
   "cell_type": "code",
   "execution_count": 96,
   "id": "847678fc-b60b-43ec-892e-20e2c69c0c02",
   "metadata": {},
   "outputs": [
    {
     "data": {
      "text/plain": [
       "array([15, 18, 21,  6])"
      ]
     },
     "execution_count": 96,
     "metadata": {},
     "output_type": "execute_result"
    }
   ],
   "source": [
    "np_list48.sum(axis = 0)"
   ]
  },
  {
   "cell_type": "code",
   "execution_count": 97,
   "id": "6ddf8226-d960-460e-9967-fe114ae48d22",
   "metadata": {},
   "outputs": [
    {
     "data": {
      "text/plain": [
       "array([ 7, 20, 33])"
      ]
     },
     "execution_count": 97,
     "metadata": {},
     "output_type": "execute_result"
    }
   ],
   "source": [
    "np_list48.sum(axis = 1)"
   ]
  },
  {
   "cell_type": "code",
   "execution_count": 98,
   "id": "e10e7e43-6d17-40f8-b3c9-a197682b374a",
   "metadata": {},
   "outputs": [
    {
     "data": {
      "text/plain": [
       "array([ 1,  3,  6,  7, 12, 18, 25, 27, 36, 46, 57, 60])"
      ]
     },
     "execution_count": 98,
     "metadata": {},
     "output_type": "execute_result"
    }
   ],
   "source": [
    "np_list48.cumsum()"
   ]
  },
  {
   "cell_type": "code",
   "execution_count": 99,
   "id": "dc05a1da-de4b-43a7-8a2b-4df5dca3fc0f",
   "metadata": {},
   "outputs": [
    {
     "data": {
      "text/plain": [
       "array([[ 1,  2,  3,  1],\n",
       "       [ 6,  8, 10,  3],\n",
       "       [15, 18, 21,  6]])"
      ]
     },
     "execution_count": 99,
     "metadata": {},
     "output_type": "execute_result"
    }
   ],
   "source": [
    "np_list48.cumsum(axis = 0)"
   ]
  },
  {
   "cell_type": "code",
   "execution_count": 100,
   "id": "be12aa72-0e66-4a77-9be1-c2ceb65f8a6c",
   "metadata": {},
   "outputs": [
    {
     "data": {
      "text/plain": [
       "array([[ 1,  3,  6,  7],\n",
       "       [ 5, 11, 18, 20],\n",
       "       [ 9, 19, 30, 33]])"
      ]
     },
     "execution_count": 100,
     "metadata": {},
     "output_type": "execute_result"
    }
   ],
   "source": [
    "np_list48.cumsum(axis = 1)"
   ]
  },
  {
   "cell_type": "code",
   "execution_count": 101,
   "id": "510c7107-b0e7-4104-8318-4f7f50602da4",
   "metadata": {},
   "outputs": [
    {
     "data": {
      "text/plain": [
       "7484400"
      ]
     },
     "execution_count": 101,
     "metadata": {},
     "output_type": "execute_result"
    }
   ],
   "source": [
    "np_list48.prod()"
   ]
  },
  {
   "cell_type": "code",
   "execution_count": 107,
   "id": "fc8f87d9-a238-4687-bba4-666a17354f31",
   "metadata": {},
   "outputs": [
    {
     "data": {
      "text/plain": [
       "array([ 45, 120, 231,   6])"
      ]
     },
     "execution_count": 107,
     "metadata": {},
     "output_type": "execute_result"
    }
   ],
   "source": [
    "np_list48.prod(axis = 0)"
   ]
  },
  {
   "cell_type": "code",
   "execution_count": 108,
   "id": "a675dc02-00c6-45fb-a684-ce84c9b2e95d",
   "metadata": {},
   "outputs": [
    {
     "data": {
      "text/plain": [
       "array([   6,  420, 2970])"
      ]
     },
     "execution_count": 108,
     "metadata": {},
     "output_type": "execute_result"
    }
   ],
   "source": [
    "np_list48.prod(axis = 1)"
   ]
  },
  {
   "cell_type": "code",
   "execution_count": 102,
   "id": "db0e21f7-49af-496b-8cc1-4465234be271",
   "metadata": {},
   "outputs": [
    {
     "data": {
      "text/plain": [
       "array([ 1,  6, 11])"
      ]
     },
     "execution_count": 102,
     "metadata": {},
     "output_type": "execute_result"
    }
   ],
   "source": [
    "np_list48.diagonal()"
   ]
  },
  {
   "cell_type": "code",
   "execution_count": 103,
   "id": "65307d92-a9b4-4e8a-a62a-56bc6375806d",
   "metadata": {},
   "outputs": [
    {
     "data": {
      "text/plain": [
       "array([ 5, 10])"
      ]
     },
     "execution_count": 103,
     "metadata": {},
     "output_type": "execute_result"
    }
   ],
   "source": [
    "np_list48.diagonal(offset = 1, axis1 = 1, axis2 = 0)"
   ]
  },
  {
   "cell_type": "code",
   "execution_count": 104,
   "id": "e56fa679-8803-4960-b6fe-50d531dd0870",
   "metadata": {},
   "outputs": [
    {
     "data": {
      "text/plain": [
       "array([ 5, 10])"
      ]
     },
     "execution_count": 104,
     "metadata": {},
     "output_type": "execute_result"
    }
   ],
   "source": [
    "np_list48.diagonal(offset = -1)"
   ]
  },
  {
   "cell_type": "code",
   "execution_count": 105,
   "id": "fcb0fa07-41a4-4259-ac63-125c429f0f9f",
   "metadata": {},
   "outputs": [
    {
     "data": {
      "text/plain": [
       "array([ 5, 10])"
      ]
     },
     "execution_count": 105,
     "metadata": {},
     "output_type": "execute_result"
    }
   ],
   "source": [
    "np_list48.diagonal(offset = -1)"
   ]
  }
 ],
 "metadata": {
  "kernelspec": {
   "display_name": "Python 3 (ipykernel)",
   "language": "python",
   "name": "python3"
  },
  "language_info": {
   "codemirror_mode": {
    "name": "ipython",
    "version": 3
   },
   "file_extension": ".py",
   "mimetype": "text/x-python",
   "name": "python",
   "nbconvert_exporter": "python",
   "pygments_lexer": "ipython3",
   "version": "3.11.7"
  }
 },
 "nbformat": 4,
 "nbformat_minor": 5
}
