{
 "cells": [
  {
   "cell_type": "markdown",
   "id": "428825a8-5ab0-41c3-9c13-ecc111e2ed07",
   "metadata": {},
   "source": [
    "# **GroupBy Operations**"
   ]
  },
  {
   "cell_type": "markdown",
   "id": "573813f3-af57-45e6-8a88-63390dd73d79",
   "metadata": {},
   "source": [
    "## **Understanding the GroupBy**"
   ]
  },
  {
   "cell_type": "code",
   "execution_count": null,
   "id": "030b4750-dcad-41eb-8cd3-1865bfedb69c",
   "metadata": {},
   "outputs": [],
   "source": [
    "import pandas as pd"
   ]
  },
  {
   "cell_type": "code",
   "execution_count": null,
   "id": "64759a17-8efa-4fca-8104-4c50e1152f3b",
   "metadata": {},
   "outputs": [],
   "source": [
    "titanic = pd.read_csv('titanic.csv')"
   ]
  },
  {
   "cell_type": "code",
   "execution_count": null,
   "id": "0301bc99-54a4-4992-be2e-2fb39d21916c",
   "metadata": {},
   "outputs": [],
   "source": [
    "titanic.info()"
   ]
  },
  {
   "cell_type": "code",
   "execution_count": null,
   "id": "18a8822d-508b-467a-aae6-137776e5c7bd",
   "metadata": {},
   "outputs": [],
   "source": [
    "titanic.head()"
   ]
  },
  {
   "cell_type": "code",
   "execution_count": null,
   "id": "cdf9d96e-67dc-4b1b-a8a9-c6d90d6c128d",
   "metadata": {},
   "outputs": [],
   "source": [
    "titanic.tail()"
   ]
  },
  {
   "cell_type": "code",
   "execution_count": null,
   "id": "8586de8b-8442-4c85-ab1c-2e3633977aa7",
   "metadata": {},
   "outputs": [],
   "source": [
    "titanic.info()"
   ]
  },
  {
   "cell_type": "code",
   "execution_count": null,
   "id": "bd1bf52c-637a-4aae-ac53-07a8ce4550f3",
   "metadata": {},
   "outputs": [],
   "source": [
    "titanic_slice = titanic.iloc[:10, [2,3]]"
   ]
  },
  {
   "cell_type": "code",
   "execution_count": null,
   "id": "d9ef10ab-d122-456f-98c4-4b3256adeb8d",
   "metadata": {},
   "outputs": [],
   "source": [
    "titanic_slice"
   ]
  },
  {
   "cell_type": "code",
   "execution_count": null,
   "id": "d55db1c4-ad0a-4b75-a430-49cb5dec9f04",
   "metadata": {},
   "outputs": [],
   "source": [
    "titanic_slice.groupby(by = 'sex')"
   ]
  },
  {
   "cell_type": "code",
   "execution_count": null,
   "id": "e15c2669-f35e-402d-8bb7-dd6d066de0e9",
   "metadata": {},
   "outputs": [],
   "source": [
    "gbo = titanic_slice.groupby(by = 'sex')"
   ]
  },
  {
   "cell_type": "code",
   "execution_count": null,
   "id": "95d93c9e-bfc1-4998-8141-584a31c50c30",
   "metadata": {},
   "outputs": [],
   "source": [
    "type(gbo)"
   ]
  },
  {
   "cell_type": "code",
   "execution_count": null,
   "id": "bd47cd84-34c8-4cc3-b12e-d4709328cce9",
   "metadata": {},
   "outputs": [],
   "source": [
    "gbo.groups"
   ]
  },
  {
   "cell_type": "code",
   "execution_count": null,
   "id": "a1ee12c9-a022-4071-9946-2bdb5449086a",
   "metadata": {},
   "outputs": [],
   "source": [
    "gbo_l = list(gbo)"
   ]
  },
  {
   "cell_type": "code",
   "execution_count": null,
   "id": "4acebbfe-032b-43a9-93bf-9bf9f7afb79e",
   "metadata": {},
   "outputs": [],
   "source": [
    "gbo_l[0]"
   ]
  },
  {
   "cell_type": "code",
   "execution_count": null,
   "id": "dd623a5e-2e8d-4d59-828b-ae674dbd1c17",
   "metadata": {},
   "outputs": [],
   "source": [
    "type(gbo_l[0])"
   ]
  },
  {
   "cell_type": "code",
   "execution_count": null,
   "id": "cdfd364c-f7f2-4aff-8fb9-1cda2eef48b8",
   "metadata": {},
   "outputs": [],
   "source": [
    "gbo_l[0][0]"
   ]
  },
  {
   "cell_type": "code",
   "execution_count": null,
   "id": "93df8d7d-61c2-43e1-945a-d333017051e6",
   "metadata": {},
   "outputs": [],
   "source": [
    "gbo_l[0][1]"
   ]
  },
  {
   "cell_type": "code",
   "execution_count": null,
   "id": "d687f197-8394-4949-898b-2f0c510355da",
   "metadata": {
    "scrolled": true
   },
   "outputs": [],
   "source": [
    "type(gbo_l[0][1])"
   ]
  },
  {
   "cell_type": "code",
   "execution_count": null,
   "id": "51cfc159-775e-49ae-8fae-6abca5d0dd04",
   "metadata": {},
   "outputs": [],
   "source": [
    "gbo_l[1][1]"
   ]
  },
  {
   "cell_type": "markdown",
   "id": "5ec6accd-5567-4ef6-b26f-9b60a6a7a70f",
   "metadata": {},
   "source": [
    "#### **Another approach for achieving the same result**"
   ]
  },
  {
   "cell_type": "code",
   "execution_count": null,
   "id": "9acb748e-87ea-4653-bde5-f0ff916d4a42",
   "metadata": {},
   "outputs": [],
   "source": [
    "titanic_slice_f = titanic_slice.loc[titanic_slice.sex == 'female']"
   ]
  },
  {
   "cell_type": "code",
   "execution_count": null,
   "id": "1be01261-804b-405c-a1c1-195749fd4285",
   "metadata": {},
   "outputs": [],
   "source": [
    "titanic_slice_f"
   ]
  },
  {
   "cell_type": "code",
   "execution_count": null,
   "id": "97045603-13e8-438c-9e6c-070940b383e6",
   "metadata": {},
   "outputs": [],
   "source": [
    "titanic_slice_m = titanic_slice.loc[titanic_slice.sex == 'male']"
   ]
  },
  {
   "cell_type": "code",
   "execution_count": null,
   "id": "40f1db5d-58ed-4a5c-8a72-ab9d86635133",
   "metadata": {},
   "outputs": [],
   "source": [
    "titanic_slice_m"
   ]
  },
  {
   "cell_type": "code",
   "execution_count": null,
   "id": "a791ffff-143c-4379-b1b5-90c2f905f04f",
   "metadata": {},
   "outputs": [],
   "source": [
    "titanic_slice_m.equals(gbo_l[1][1])"
   ]
  },
  {
   "cell_type": "code",
   "execution_count": null,
   "id": "1ccbda38-b41a-4a20-8f7e-15b2adeb44c3",
   "metadata": {},
   "outputs": [],
   "source": [
    "for element in gbo:\n",
    "    print(element)"
   ]
  },
  {
   "cell_type": "markdown",
   "id": "9f8cee04-e6e7-483e-ab9f-622b8d63b53e",
   "metadata": {},
   "source": [
    "## **Splitting with many keys**"
   ]
  },
  {
   "cell_type": "code",
   "execution_count": null,
   "id": "6d557397-72da-41c6-96cc-86a4eb4bbf7b",
   "metadata": {},
   "outputs": [],
   "source": [
    "import pandas as pd"
   ]
  },
  {
   "cell_type": "code",
   "execution_count": null,
   "id": "f2097cc2-8279-4e44-a47f-19bace93f782",
   "metadata": {},
   "outputs": [],
   "source": [
    "summer = pd.read_csv('summer.csv')"
   ]
  },
  {
   "cell_type": "code",
   "execution_count": null,
   "id": "b9889396-cd77-46e3-afbc-c754666e2c9e",
   "metadata": {},
   "outputs": [],
   "source": [
    "summer.info()"
   ]
  },
  {
   "cell_type": "code",
   "execution_count": null,
   "id": "74dfe5b6-842c-42aa-b52a-58280fe6e2ca",
   "metadata": {},
   "outputs": [],
   "source": [
    "summer.head()"
   ]
  },
  {
   "cell_type": "code",
   "execution_count": null,
   "id": "0f1073a7-d458-4521-83d2-1b8abffeee3b",
   "metadata": {},
   "outputs": [],
   "source": [
    "summer.Country.nunique()"
   ]
  },
  {
   "cell_type": "code",
   "execution_count": null,
   "id": "b7b61636-2294-4f7c-b279-c2d86d1847b1",
   "metadata": {},
   "outputs": [],
   "source": [
    "split1 = summer.groupby('Country')"
   ]
  },
  {
   "cell_type": "code",
   "execution_count": null,
   "id": "c01e5260-3d65-419a-8798-93d00662e28c",
   "metadata": {},
   "outputs": [],
   "source": [
    "split1_l = list(split1)"
   ]
  },
  {
   "cell_type": "code",
   "execution_count": null,
   "id": "ed6ac24d-3eb7-4f87-b6b7-f8805115cdf8",
   "metadata": {},
   "outputs": [],
   "source": [
    "len(split1_l)"
   ]
  },
  {
   "cell_type": "code",
   "execution_count": null,
   "id": "d662ae2e-4200-4073-9f98-7e79f9c09247",
   "metadata": {},
   "outputs": [],
   "source": [
    "countries = [c[0] for c in split1_l]"
   ]
  },
  {
   "cell_type": "code",
   "execution_count": null,
   "id": "49514a2b-b6dc-4121-bda6-1f49081b623c",
   "metadata": {},
   "outputs": [],
   "source": [
    "countries.index('BUL')"
   ]
  },
  {
   "cell_type": "code",
   "execution_count": null,
   "id": "64a43d82-4e5b-4e32-861e-f86e6209c8bb",
   "metadata": {},
   "outputs": [],
   "source": [
    "split1_l[19][1]"
   ]
  },
  {
   "cell_type": "code",
   "execution_count": null,
   "id": "0878e9d7-83f2-46dd-a2fc-d958afe80338",
   "metadata": {},
   "outputs": [],
   "source": [
    "split2 = summer.groupby(by = ['Country', 'Gender'])"
   ]
  },
  {
   "cell_type": "code",
   "execution_count": null,
   "id": "6786f52e-71f5-44ae-92b4-909023bfdafc",
   "metadata": {},
   "outputs": [],
   "source": [
    "split2_l = list(split2)"
   ]
  },
  {
   "cell_type": "code",
   "execution_count": null,
   "id": "1eaf3e29-4889-4a98-ae4b-e2f56ef9a711",
   "metadata": {},
   "outputs": [],
   "source": [
    "split2_l[30:32]"
   ]
  },
  {
   "cell_type": "markdown",
   "id": "bb9a27d0-5281-43c9-8ee2-8eb20eb64c6c",
   "metadata": {},
   "source": [
    "## **Split-Apply-Combine explained**"
   ]
  },
  {
   "cell_type": "code",
   "execution_count": null,
   "id": "5b7ca87f-9986-4348-84ef-1843fe9bcdb3",
   "metadata": {},
   "outputs": [],
   "source": [
    "import pandas as pd"
   ]
  },
  {
   "cell_type": "code",
   "execution_count": null,
   "id": "368e8eff-afbf-4a4a-9337-65ba39184004",
   "metadata": {},
   "outputs": [],
   "source": [
    "titanic = pd.read_csv('titanic.csv')"
   ]
  },
  {
   "cell_type": "code",
   "execution_count": null,
   "id": "39b16c0d-b28b-4641-878a-b60a8ce7ee47",
   "metadata": {},
   "outputs": [],
   "source": [
    "titanic_slice = titanic.iloc[:10, [2,3]]"
   ]
  },
  {
   "cell_type": "code",
   "execution_count": null,
   "id": "926bc416-0e84-4952-8025-f327438bf6e5",
   "metadata": {},
   "outputs": [],
   "source": [
    "titanic_slice"
   ]
  },
  {
   "cell_type": "code",
   "execution_count": null,
   "id": "79dfbc76-8e85-486a-bd62-9c4a096c4673",
   "metadata": {},
   "outputs": [],
   "source": [
    "list(titanic_slice.groupby('sex'))[0][1]"
   ]
  },
  {
   "cell_type": "code",
   "execution_count": null,
   "id": "c2825d84-7892-46da-8fe7-e9548fddd473",
   "metadata": {},
   "outputs": [],
   "source": [
    "list(titanic_slice.groupby('sex'))[0][1].age.mean()"
   ]
  },
  {
   "cell_type": "code",
   "execution_count": null,
   "id": "d4be37f5-f208-4c88-b17a-4634bad74a82",
   "metadata": {},
   "outputs": [],
   "source": [
    "list(titanic_slice.groupby('sex'))[1][1]"
   ]
  },
  {
   "cell_type": "code",
   "execution_count": null,
   "id": "1e5be22b-762b-435c-b527-809f3353451b",
   "metadata": {},
   "outputs": [],
   "source": [
    "list(titanic_slice.groupby('sex'))[1][1].age.mean()"
   ]
  },
  {
   "cell_type": "code",
   "execution_count": null,
   "id": "1d78051c-2dc3-4d85-8e17-54e56aeb41c2",
   "metadata": {},
   "outputs": [],
   "source": [
    "titanic_slice.groupby('sex').mean()"
   ]
  },
  {
   "cell_type": "code",
   "execution_count": null,
   "id": "c147a102-00bc-4cd4-9485-dd2ed5e28a0d",
   "metadata": {},
   "outputs": [],
   "source": [
    "titanic.info()"
   ]
  },
  {
   "cell_type": "code",
   "execution_count": null,
   "id": "09ac320e-b9d2-458f-a74e-5647dc76e73a",
   "metadata": {},
   "outputs": [],
   "source": [
    "titanic.groupby('sex').sum(numeric_only = True)"
   ]
  },
  {
   "cell_type": "code",
   "execution_count": null,
   "id": "83f7c5cd-8aa6-43db-adec-cece6ab2f77a",
   "metadata": {},
   "outputs": [],
   "source": [
    "titanic.groupby('sex').survived.sum()"
   ]
  },
  {
   "cell_type": "code",
   "execution_count": null,
   "id": "af9d6fba-0544-497e-a87e-123ff6824bf0",
   "metadata": {},
   "outputs": [],
   "source": [
    "titanic.groupby('sex')[['fare', 'age']].max()"
   ]
  },
  {
   "cell_type": "code",
   "execution_count": null,
   "id": "46e7b06f-3a34-40fc-95e4-ff3094d0ea7f",
   "metadata": {},
   "outputs": [],
   "source": [
    "l = list(titanic.groupby('sex'))"
   ]
  },
  {
   "cell_type": "code",
   "execution_count": null,
   "id": "3c9f7110-c4de-497d-9550-6d13a980e9ad",
   "metadata": {},
   "outputs": [],
   "source": [
    "l[0][1].age.max()"
   ]
  },
  {
   "cell_type": "code",
   "execution_count": null,
   "id": "0bf219b9-92d6-4551-8f0c-c191c3f7fed3",
   "metadata": {},
   "outputs": [],
   "source": [
    "l[1][1].age.max()"
   ]
  },
  {
   "cell_type": "code",
   "execution_count": null,
   "id": "51a33f66-2241-4f9f-82f5-7ad6225df8da",
   "metadata": {},
   "outputs": [],
   "source": [
    "titanic_mean = titanic.groupby('sex').mean(numeric_only = True)"
   ]
  },
  {
   "cell_type": "code",
   "execution_count": null,
   "id": "6c063861-c446-4fa2-aa6d-d821a229eb9f",
   "metadata": {},
   "outputs": [],
   "source": [
    "titanic_mean"
   ]
  },
  {
   "cell_type": "code",
   "execution_count": null,
   "id": "bf5e4ec6-aa10-4062-a08f-b221d74fceda",
   "metadata": {},
   "outputs": [],
   "source": [
    "%matplotlib inline\n",
    "import matplotlib.pyplot as plt"
   ]
  },
  {
   "cell_type": "code",
   "execution_count": null,
   "id": "590c0df1-a067-4e33-871c-bf1fc90bcc2f",
   "metadata": {},
   "outputs": [],
   "source": [
    "plt.style.available"
   ]
  },
  {
   "cell_type": "code",
   "execution_count": null,
   "id": "65899f2f-d728-4dab-a42b-e88575a794e2",
   "metadata": {},
   "outputs": [],
   "source": [
    "plt.style.use(\"seaborn-v0_8\")"
   ]
  },
  {
   "cell_type": "code",
   "execution_count": null,
   "id": "d16dcdbf-892b-47dd-a782-d79217a83040",
   "metadata": {},
   "outputs": [],
   "source": [
    "titanic_mean.plot(kind = 'bar', figsize = (7, 15), subplots = True)\n",
    "plt.show()"
   ]
  },
  {
   "cell_type": "markdown",
   "id": "a7ec2ead-0693-46c3-bafc-85dce9273655",
   "metadata": {},
   "source": [
    "## **Split-Apply-Combine applied**"
   ]
  },
  {
   "cell_type": "code",
   "execution_count": 129,
   "id": "e272f23f-c998-41b8-b6ae-b967899f205e",
   "metadata": {},
   "outputs": [],
   "source": [
    "import pandas as pd"
   ]
  },
  {
   "cell_type": "code",
   "execution_count": 130,
   "id": "fc6d7911-18be-4da4-ba60-f524e814e036",
   "metadata": {},
   "outputs": [],
   "source": [
    "summer = pd.read_csv('summer.csv')"
   ]
  },
  {
   "cell_type": "code",
   "execution_count": 131,
   "id": "4ca2c72d-94b3-4547-b2ba-8a3c6ec0a7f8",
   "metadata": {},
   "outputs": [
    {
     "name": "stdout",
     "output_type": "stream",
     "text": [
      "<class 'pandas.core.frame.DataFrame'>\n",
      "RangeIndex: 31165 entries, 0 to 31164\n",
      "Data columns (total 9 columns):\n",
      " #   Column      Non-Null Count  Dtype \n",
      "---  ------      --------------  ----- \n",
      " 0   Year        31165 non-null  int64 \n",
      " 1   City        31165 non-null  object\n",
      " 2   Sport       31165 non-null  object\n",
      " 3   Discipline  31165 non-null  object\n",
      " 4   Athlete     31165 non-null  object\n",
      " 5   Country     31161 non-null  object\n",
      " 6   Gender      31165 non-null  object\n",
      " 7   Event       31165 non-null  object\n",
      " 8   Medal       31165 non-null  object\n",
      "dtypes: int64(1), object(8)\n",
      "memory usage: 2.1+ MB\n"
     ]
    }
   ],
   "source": [
    "summer.info()"
   ]
  },
  {
   "cell_type": "code",
   "execution_count": 132,
   "id": "f01da077-6dc8-43ad-a787-e8c54a8f8437",
   "metadata": {},
   "outputs": [
    {
     "data": {
      "text/html": [
       "<div>\n",
       "<style scoped>\n",
       "    .dataframe tbody tr th:only-of-type {\n",
       "        vertical-align: middle;\n",
       "    }\n",
       "\n",
       "    .dataframe tbody tr th {\n",
       "        vertical-align: top;\n",
       "    }\n",
       "\n",
       "    .dataframe thead th {\n",
       "        text-align: right;\n",
       "    }\n",
       "</style>\n",
       "<table border=\"1\" class=\"dataframe\">\n",
       "  <thead>\n",
       "    <tr style=\"text-align: right;\">\n",
       "      <th></th>\n",
       "      <th>Year</th>\n",
       "      <th>City</th>\n",
       "      <th>Sport</th>\n",
       "      <th>Discipline</th>\n",
       "      <th>Athlete</th>\n",
       "      <th>Country</th>\n",
       "      <th>Gender</th>\n",
       "      <th>Event</th>\n",
       "      <th>Medal</th>\n",
       "    </tr>\n",
       "  </thead>\n",
       "  <tbody>\n",
       "    <tr>\n",
       "      <th>0</th>\n",
       "      <td>1896</td>\n",
       "      <td>Athens</td>\n",
       "      <td>Aquatics</td>\n",
       "      <td>Swimming</td>\n",
       "      <td>HAJOS, Alfred</td>\n",
       "      <td>HUN</td>\n",
       "      <td>Men</td>\n",
       "      <td>100M Freestyle</td>\n",
       "      <td>Gold</td>\n",
       "    </tr>\n",
       "    <tr>\n",
       "      <th>1</th>\n",
       "      <td>1896</td>\n",
       "      <td>Athens</td>\n",
       "      <td>Aquatics</td>\n",
       "      <td>Swimming</td>\n",
       "      <td>HERSCHMANN, Otto</td>\n",
       "      <td>AUT</td>\n",
       "      <td>Men</td>\n",
       "      <td>100M Freestyle</td>\n",
       "      <td>Silver</td>\n",
       "    </tr>\n",
       "    <tr>\n",
       "      <th>2</th>\n",
       "      <td>1896</td>\n",
       "      <td>Athens</td>\n",
       "      <td>Aquatics</td>\n",
       "      <td>Swimming</td>\n",
       "      <td>DRIVAS, Dimitrios</td>\n",
       "      <td>GRE</td>\n",
       "      <td>Men</td>\n",
       "      <td>100M Freestyle For Sailors</td>\n",
       "      <td>Bronze</td>\n",
       "    </tr>\n",
       "    <tr>\n",
       "      <th>3</th>\n",
       "      <td>1896</td>\n",
       "      <td>Athens</td>\n",
       "      <td>Aquatics</td>\n",
       "      <td>Swimming</td>\n",
       "      <td>MALOKINIS, Ioannis</td>\n",
       "      <td>GRE</td>\n",
       "      <td>Men</td>\n",
       "      <td>100M Freestyle For Sailors</td>\n",
       "      <td>Gold</td>\n",
       "    </tr>\n",
       "    <tr>\n",
       "      <th>4</th>\n",
       "      <td>1896</td>\n",
       "      <td>Athens</td>\n",
       "      <td>Aquatics</td>\n",
       "      <td>Swimming</td>\n",
       "      <td>CHASAPIS, Spiridon</td>\n",
       "      <td>GRE</td>\n",
       "      <td>Men</td>\n",
       "      <td>100M Freestyle For Sailors</td>\n",
       "      <td>Silver</td>\n",
       "    </tr>\n",
       "  </tbody>\n",
       "</table>\n",
       "</div>"
      ],
      "text/plain": [
       "   Year    City     Sport Discipline             Athlete Country Gender  \\\n",
       "0  1896  Athens  Aquatics   Swimming       HAJOS, Alfred     HUN    Men   \n",
       "1  1896  Athens  Aquatics   Swimming    HERSCHMANN, Otto     AUT    Men   \n",
       "2  1896  Athens  Aquatics   Swimming   DRIVAS, Dimitrios     GRE    Men   \n",
       "3  1896  Athens  Aquatics   Swimming  MALOKINIS, Ioannis     GRE    Men   \n",
       "4  1896  Athens  Aquatics   Swimming  CHASAPIS, Spiridon     GRE    Men   \n",
       "\n",
       "                        Event   Medal  \n",
       "0              100M Freestyle    Gold  \n",
       "1              100M Freestyle  Silver  \n",
       "2  100M Freestyle For Sailors  Bronze  \n",
       "3  100M Freestyle For Sailors    Gold  \n",
       "4  100M Freestyle For Sailors  Silver  "
      ]
     },
     "execution_count": 132,
     "metadata": {},
     "output_type": "execute_result"
    }
   ],
   "source": [
    "summer.head()"
   ]
  },
  {
   "cell_type": "code",
   "execution_count": 133,
   "id": "b546fe8c-fec0-41df-9c62-dc2abb02c6a6",
   "metadata": {},
   "outputs": [
    {
     "data": {
      "text/plain": [
       "<pandas.core.groupby.generic.DataFrameGroupBy object at 0x000001CA84B9D290>"
      ]
     },
     "execution_count": 133,
     "metadata": {},
     "output_type": "execute_result"
    }
   ],
   "source": [
    "summer.groupby('Country')"
   ]
  },
  {
   "cell_type": "code",
   "execution_count": 134,
   "id": "397171d3-d3ba-4618-9c2f-ff7c73e4bbb1",
   "metadata": {},
   "outputs": [],
   "source": [
    "medals_by_country = summer.groupby('Country').Medal.count()"
   ]
  },
  {
   "cell_type": "code",
   "execution_count": 135,
   "id": "442ee8a2-75b9-4506-9aa5-3c7cc507bb6c",
   "metadata": {},
   "outputs": [
    {
     "data": {
      "text/plain": [
       "Country\n",
       "AFG      2\n",
       "AHO      1\n",
       "ALG     15\n",
       "ANZ     29\n",
       "ARG    259\n",
       "      ... \n",
       "VIE      2\n",
       "YUG    435\n",
       "ZAM      2\n",
       "ZIM     23\n",
       "ZZX     48\n",
       "Name: Medal, Length: 147, dtype: int64"
      ]
     },
     "execution_count": 135,
     "metadata": {},
     "output_type": "execute_result"
    }
   ],
   "source": [
    "medals_by_country"
   ]
  },
  {
   "cell_type": "code",
   "execution_count": 136,
   "id": "037e0a69-72a0-469e-b9d4-83aeb744a4f5",
   "metadata": {},
   "outputs": [],
   "source": [
    "top20 = medals_by_country.nlargest(20)"
   ]
  },
  {
   "cell_type": "code",
   "execution_count": 137,
   "id": "67599b2e-bc8f-4618-99f9-ee850e7a675e",
   "metadata": {},
   "outputs": [
    {
     "data": {
      "text/plain": [
       "Country\n",
       "USA    4585\n",
       "URS    2049\n",
       "GBR    1720\n",
       "FRA    1396\n",
       "GER    1305\n",
       "ITA    1296\n",
       "AUS    1189\n",
       "HUN    1079\n",
       "SWE    1044\n",
       "NED     851\n",
       "GDR     825\n",
       "CHN     807\n",
       "JPN     788\n",
       "RUS     768\n",
       "CAN     649\n",
       "ROU     640\n",
       "NOR     554\n",
       "KOR     529\n",
       "POL     511\n",
       "DEN     507\n",
       "Name: Medal, dtype: int64"
      ]
     },
     "execution_count": 137,
     "metadata": {},
     "output_type": "execute_result"
    }
   ],
   "source": [
    "top20"
   ]
  },
  {
   "cell_type": "code",
   "execution_count": 138,
   "id": "e46b23ea-3508-4acf-b891-32d0b4e7db07",
   "metadata": {},
   "outputs": [],
   "source": [
    "%matplotlib inline\n",
    "import matplotlib.pyplot as plt\n",
    "plt.style.use('seaborn-v0_8')"
   ]
  },
  {
   "cell_type": "code",
   "execution_count": 173,
   "id": "5e2c93c6-eeea-458c-8821-cd24c8d9457b",
   "metadata": {},
   "outputs": [
    {
     "data": {
      "image/png": "[encoded data removed]",
      "text/plain": [
       "<Figure size 1000x700 with 1 Axes>"
      ]
     },
     "metadata": {},
     "output_type": "display_data"
    }
   ],
   "source": [
    "font_dict_common = {\n",
    "    'weight': 'bold',\n",
    "    'family': 'sans',\n",
    "    'color': 'darkred'\n",
    "}\n",
    "font_dict_specific = {\n",
    "    'labelpad': 20,\n",
    "    'fontsize': 12\n",
    "}\n",
    "top20.plot(kind = 'bar', figsize = (10, 7))\n",
    "plt.xlabel('Medals', **font_dict_common, **font_dict_specific)\n",
    "plt.xticks(**font_dict_common, fontsize = 10, rotation = 0)\n",
    "plt.ylabel('Country', **font_dict_common, **font_dict_specific)\n",
    "plt.yticks(**font_dict_common, fontsize = 10)\n",
    "plt.title('Summer Olympic Games (Medals per Country)', **font_dict, fontsize = 14)\n",
    "plt.show()"
   ]
  },
  {
   "cell_type": "code",
   "execution_count": 140,
   "id": "0d4a624d-f3b4-4bc1-adba-79d09f310c83",
   "metadata": {},
   "outputs": [],
   "source": [
    "titanic = pd.read_csv('titanic.csv')"
   ]
  },
  {
   "cell_type": "code",
   "execution_count": 141,
   "id": "41b54598-83fe-4695-a2a0-42e269c8946a",
   "metadata": {},
   "outputs": [
    {
     "name": "stdout",
     "output_type": "stream",
     "text": [
      "<class 'pandas.core.frame.DataFrame'>\n",
      "RangeIndex: 891 entries, 0 to 890\n",
      "Data columns (total 9 columns):\n",
      " #   Column    Non-Null Count  Dtype  \n",
      "---  ------    --------------  -----  \n",
      " 0   survived  891 non-null    int64  \n",
      " 1   pclass    891 non-null    int64  \n",
      " 2   sex       891 non-null    object \n",
      " 3   age       714 non-null    float64\n",
      " 4   sibsp     891 non-null    int64  \n",
      " 5   parch     891 non-null    int64  \n",
      " 6   fare      891 non-null    float64\n",
      " 7   embarked  889 non-null    object \n",
      " 8   deck      203 non-null    object \n",
      "dtypes: float64(2), int64(4), object(3)\n",
      "memory usage: 62.8+ KB\n"
     ]
    }
   ],
   "source": [
    "titanic.info()"
   ]
  },
  {
   "cell_type": "code",
   "execution_count": 142,
   "id": "11b6669c-0417-4193-a346-0bf0cde8e773",
   "metadata": {},
   "outputs": [
    {
     "data": {
      "text/html": [
       "<div>\n",
       "<style scoped>\n",
       "    .dataframe tbody tr th:only-of-type {\n",
       "        vertical-align: middle;\n",
       "    }\n",
       "\n",
       "    .dataframe tbody tr th {\n",
       "        vertical-align: top;\n",
       "    }\n",
       "\n",
       "    .dataframe thead th {\n",
       "        text-align: right;\n",
       "    }\n",
       "</style>\n",
       "<table border=\"1\" class=\"dataframe\">\n",
       "  <thead>\n",
       "    <tr style=\"text-align: right;\">\n",
       "      <th></th>\n",
       "      <th>survived</th>\n",
       "      <th>pclass</th>\n",
       "      <th>age</th>\n",
       "      <th>sibsp</th>\n",
       "      <th>parch</th>\n",
       "      <th>fare</th>\n",
       "    </tr>\n",
       "  </thead>\n",
       "  <tbody>\n",
       "    <tr>\n",
       "      <th>count</th>\n",
       "      <td>891.000000</td>\n",
       "      <td>891.000000</td>\n",
       "      <td>714.000000</td>\n",
       "      <td>891.000000</td>\n",
       "      <td>891.000000</td>\n",
       "      <td>891.000000</td>\n",
       "    </tr>\n",
       "    <tr>\n",
       "      <th>mean</th>\n",
       "      <td>0.383838</td>\n",
       "      <td>2.308642</td>\n",
       "      <td>29.699118</td>\n",
       "      <td>0.523008</td>\n",
       "      <td>0.381594</td>\n",
       "      <td>32.204208</td>\n",
       "    </tr>\n",
       "    <tr>\n",
       "      <th>std</th>\n",
       "      <td>0.486592</td>\n",
       "      <td>0.836071</td>\n",
       "      <td>14.526497</td>\n",
       "      <td>1.102743</td>\n",
       "      <td>0.806057</td>\n",
       "      <td>49.693429</td>\n",
       "    </tr>\n",
       "    <tr>\n",
       "      <th>min</th>\n",
       "      <td>0.000000</td>\n",
       "      <td>1.000000</td>\n",
       "      <td>0.420000</td>\n",
       "      <td>0.000000</td>\n",
       "      <td>0.000000</td>\n",
       "      <td>0.000000</td>\n",
       "    </tr>\n",
       "    <tr>\n",
       "      <th>25%</th>\n",
       "      <td>0.000000</td>\n",
       "      <td>2.000000</td>\n",
       "      <td>20.125000</td>\n",
       "      <td>0.000000</td>\n",
       "      <td>0.000000</td>\n",
       "      <td>7.910400</td>\n",
       "    </tr>\n",
       "    <tr>\n",
       "      <th>50%</th>\n",
       "      <td>0.000000</td>\n",
       "      <td>3.000000</td>\n",
       "      <td>28.000000</td>\n",
       "      <td>0.000000</td>\n",
       "      <td>0.000000</td>\n",
       "      <td>14.454200</td>\n",
       "    </tr>\n",
       "    <tr>\n",
       "      <th>75%</th>\n",
       "      <td>1.000000</td>\n",
       "      <td>3.000000</td>\n",
       "      <td>38.000000</td>\n",
       "      <td>1.000000</td>\n",
       "      <td>0.000000</td>\n",
       "      <td>31.000000</td>\n",
       "    </tr>\n",
       "    <tr>\n",
       "      <th>max</th>\n",
       "      <td>1.000000</td>\n",
       "      <td>3.000000</td>\n",
       "      <td>80.000000</td>\n",
       "      <td>8.000000</td>\n",
       "      <td>6.000000</td>\n",
       "      <td>512.329200</td>\n",
       "    </tr>\n",
       "  </tbody>\n",
       "</table>\n",
       "</div>"
      ],
      "text/plain": [
       "         survived      pclass         age       sibsp       parch        fare\n",
       "count  891.000000  891.000000  714.000000  891.000000  891.000000  891.000000\n",
       "mean     0.383838    2.308642   29.699118    0.523008    0.381594   32.204208\n",
       "std      0.486592    0.836071   14.526497    1.102743    0.806057   49.693429\n",
       "min      0.000000    1.000000    0.420000    0.000000    0.000000    0.000000\n",
       "25%      0.000000    2.000000   20.125000    0.000000    0.000000    7.910400\n",
       "50%      0.000000    3.000000   28.000000    0.000000    0.000000   14.454200\n",
       "75%      1.000000    3.000000   38.000000    1.000000    0.000000   31.000000\n",
       "max      1.000000    3.000000   80.000000    8.000000    6.000000  512.329200"
      ]
     },
     "execution_count": 142,
     "metadata": {},
     "output_type": "execute_result"
    }
   ],
   "source": [
    "titanic.describe()"
   ]
  },
  {
   "cell_type": "code",
   "execution_count": 143,
   "id": "322271bf-77e5-456b-8eb2-2234280f38d7",
   "metadata": {},
   "outputs": [
    {
     "data": {
      "text/plain": [
       "pclass\n",
       "1    84.154687\n",
       "2    20.662183\n",
       "3    13.675550\n",
       "Name: fare, dtype: float64"
      ]
     },
     "execution_count": 143,
     "metadata": {},
     "output_type": "execute_result"
    }
   ],
   "source": [
    "titanic.groupby('pclass').fare.mean()"
   ]
  },
  {
   "cell_type": "code",
   "execution_count": 144,
   "id": "1921ce80-afed-4fc4-8a17-367631e00dd3",
   "metadata": {},
   "outputs": [
    {
     "data": {
      "text/plain": [
       "sex\n",
       "female    0.742038\n",
       "male      0.188908\n",
       "Name: survived, dtype: float64"
      ]
     },
     "execution_count": 144,
     "metadata": {},
     "output_type": "execute_result"
    }
   ],
   "source": [
    "titanic.groupby('sex').survived.mean()"
   ]
  },
  {
   "cell_type": "code",
   "execution_count": 145,
   "id": "8a9bc097-0750-48e2-abf4-23c67813209d",
   "metadata": {},
   "outputs": [
    {
     "data": {
      "text/plain": [
       "pclass\n",
       "1    0.629630\n",
       "2    0.472826\n",
       "3    0.242363\n",
       "Name: survived, dtype: float64"
      ]
     },
     "execution_count": 145,
     "metadata": {},
     "output_type": "execute_result"
    }
   ],
   "source": [
    "titanic.groupby('pclass').survived.mean()"
   ]
  },
  {
   "cell_type": "code",
   "execution_count": 146,
   "id": "ffb3af11-545a-41ec-bcd6-d5f3183f8288",
   "metadata": {},
   "outputs": [],
   "source": [
    "titanic['ad_chi'] = 'adult'"
   ]
  },
  {
   "cell_type": "code",
   "execution_count": 147,
   "id": "f3eca019-20e6-4c83-bdbe-9f905c6295e4",
   "metadata": {},
   "outputs": [
    {
     "data": {
      "text/html": [
       "<div>\n",
       "<style scoped>\n",
       "    .dataframe tbody tr th:only-of-type {\n",
       "        vertical-align: middle;\n",
       "    }\n",
       "\n",
       "    .dataframe tbody tr th {\n",
       "        vertical-align: top;\n",
       "    }\n",
       "\n",
       "    .dataframe thead th {\n",
       "        text-align: right;\n",
       "    }\n",
       "</style>\n",
       "<table border=\"1\" class=\"dataframe\">\n",
       "  <thead>\n",
       "    <tr style=\"text-align: right;\">\n",
       "      <th></th>\n",
       "      <th>survived</th>\n",
       "      <th>pclass</th>\n",
       "      <th>sex</th>\n",
       "      <th>age</th>\n",
       "      <th>sibsp</th>\n",
       "      <th>parch</th>\n",
       "      <th>fare</th>\n",
       "      <th>embarked</th>\n",
       "      <th>deck</th>\n",
       "      <th>ad_chi</th>\n",
       "    </tr>\n",
       "  </thead>\n",
       "  <tbody>\n",
       "    <tr>\n",
       "      <th>0</th>\n",
       "      <td>0</td>\n",
       "      <td>3</td>\n",
       "      <td>male</td>\n",
       "      <td>22.0</td>\n",
       "      <td>1</td>\n",
       "      <td>0</td>\n",
       "      <td>7.2500</td>\n",
       "      <td>S</td>\n",
       "      <td>NaN</td>\n",
       "      <td>adult</td>\n",
       "    </tr>\n",
       "    <tr>\n",
       "      <th>1</th>\n",
       "      <td>1</td>\n",
       "      <td>1</td>\n",
       "      <td>female</td>\n",
       "      <td>38.0</td>\n",
       "      <td>1</td>\n",
       "      <td>0</td>\n",
       "      <td>71.2833</td>\n",
       "      <td>C</td>\n",
       "      <td>C</td>\n",
       "      <td>adult</td>\n",
       "    </tr>\n",
       "    <tr>\n",
       "      <th>2</th>\n",
       "      <td>1</td>\n",
       "      <td>3</td>\n",
       "      <td>female</td>\n",
       "      <td>26.0</td>\n",
       "      <td>0</td>\n",
       "      <td>0</td>\n",
       "      <td>7.9250</td>\n",
       "      <td>S</td>\n",
       "      <td>NaN</td>\n",
       "      <td>adult</td>\n",
       "    </tr>\n",
       "    <tr>\n",
       "      <th>3</th>\n",
       "      <td>1</td>\n",
       "      <td>1</td>\n",
       "      <td>female</td>\n",
       "      <td>35.0</td>\n",
       "      <td>1</td>\n",
       "      <td>0</td>\n",
       "      <td>53.1000</td>\n",
       "      <td>S</td>\n",
       "      <td>C</td>\n",
       "      <td>adult</td>\n",
       "    </tr>\n",
       "    <tr>\n",
       "      <th>4</th>\n",
       "      <td>0</td>\n",
       "      <td>3</td>\n",
       "      <td>male</td>\n",
       "      <td>35.0</td>\n",
       "      <td>0</td>\n",
       "      <td>0</td>\n",
       "      <td>8.0500</td>\n",
       "      <td>S</td>\n",
       "      <td>NaN</td>\n",
       "      <td>adult</td>\n",
       "    </tr>\n",
       "    <tr>\n",
       "      <th>5</th>\n",
       "      <td>0</td>\n",
       "      <td>3</td>\n",
       "      <td>male</td>\n",
       "      <td>NaN</td>\n",
       "      <td>0</td>\n",
       "      <td>0</td>\n",
       "      <td>8.4583</td>\n",
       "      <td>Q</td>\n",
       "      <td>NaN</td>\n",
       "      <td>adult</td>\n",
       "    </tr>\n",
       "    <tr>\n",
       "      <th>6</th>\n",
       "      <td>0</td>\n",
       "      <td>1</td>\n",
       "      <td>male</td>\n",
       "      <td>54.0</td>\n",
       "      <td>0</td>\n",
       "      <td>0</td>\n",
       "      <td>51.8625</td>\n",
       "      <td>S</td>\n",
       "      <td>E</td>\n",
       "      <td>adult</td>\n",
       "    </tr>\n",
       "    <tr>\n",
       "      <th>7</th>\n",
       "      <td>0</td>\n",
       "      <td>3</td>\n",
       "      <td>male</td>\n",
       "      <td>2.0</td>\n",
       "      <td>3</td>\n",
       "      <td>1</td>\n",
       "      <td>21.0750</td>\n",
       "      <td>S</td>\n",
       "      <td>NaN</td>\n",
       "      <td>adult</td>\n",
       "    </tr>\n",
       "    <tr>\n",
       "      <th>8</th>\n",
       "      <td>1</td>\n",
       "      <td>3</td>\n",
       "      <td>female</td>\n",
       "      <td>27.0</td>\n",
       "      <td>0</td>\n",
       "      <td>2</td>\n",
       "      <td>11.1333</td>\n",
       "      <td>S</td>\n",
       "      <td>NaN</td>\n",
       "      <td>adult</td>\n",
       "    </tr>\n",
       "    <tr>\n",
       "      <th>9</th>\n",
       "      <td>1</td>\n",
       "      <td>2</td>\n",
       "      <td>female</td>\n",
       "      <td>14.0</td>\n",
       "      <td>1</td>\n",
       "      <td>0</td>\n",
       "      <td>30.0708</td>\n",
       "      <td>C</td>\n",
       "      <td>NaN</td>\n",
       "      <td>adult</td>\n",
       "    </tr>\n",
       "  </tbody>\n",
       "</table>\n",
       "</div>"
      ],
      "text/plain": [
       "   survived  pclass     sex   age  sibsp  parch     fare embarked deck ad_chi\n",
       "0         0       3    male  22.0      1      0   7.2500        S  NaN  adult\n",
       "1         1       1  female  38.0      1      0  71.2833        C    C  adult\n",
       "2         1       3  female  26.0      0      0   7.9250        S  NaN  adult\n",
       "3         1       1  female  35.0      1      0  53.1000        S    C  adult\n",
       "4         0       3    male  35.0      0      0   8.0500        S  NaN  adult\n",
       "5         0       3    male   NaN      0      0   8.4583        Q  NaN  adult\n",
       "6         0       1    male  54.0      0      0  51.8625        S    E  adult\n",
       "7         0       3    male   2.0      3      1  21.0750        S  NaN  adult\n",
       "8         1       3  female  27.0      0      2  11.1333        S  NaN  adult\n",
       "9         1       2  female  14.0      1      0  30.0708        C  NaN  adult"
      ]
     },
     "execution_count": 147,
     "metadata": {},
     "output_type": "execute_result"
    }
   ],
   "source": [
    "titanic.head(10)"
   ]
  },
  {
   "cell_type": "code",
   "execution_count": 148,
   "id": "2832802e-78a5-4be7-a51e-241416685636",
   "metadata": {},
   "outputs": [],
   "source": [
    "titanic.loc[titanic.age < 18, 'ad_chi'] = 'child'"
   ]
  },
  {
   "cell_type": "code",
   "execution_count": 149,
   "id": "b49cf805-1f14-4ad5-8215-741d037b4105",
   "metadata": {},
   "outputs": [
    {
     "data": {
      "text/html": [
       "<div>\n",
       "<style scoped>\n",
       "    .dataframe tbody tr th:only-of-type {\n",
       "        vertical-align: middle;\n",
       "    }\n",
       "\n",
       "    .dataframe tbody tr th {\n",
       "        vertical-align: top;\n",
       "    }\n",
       "\n",
       "    .dataframe thead th {\n",
       "        text-align: right;\n",
       "    }\n",
       "</style>\n",
       "<table border=\"1\" class=\"dataframe\">\n",
       "  <thead>\n",
       "    <tr style=\"text-align: right;\">\n",
       "      <th></th>\n",
       "      <th>survived</th>\n",
       "      <th>pclass</th>\n",
       "      <th>sex</th>\n",
       "      <th>age</th>\n",
       "      <th>sibsp</th>\n",
       "      <th>parch</th>\n",
       "      <th>fare</th>\n",
       "      <th>embarked</th>\n",
       "      <th>deck</th>\n",
       "      <th>ad_chi</th>\n",
       "    </tr>\n",
       "  </thead>\n",
       "  <tbody>\n",
       "    <tr>\n",
       "      <th>0</th>\n",
       "      <td>0</td>\n",
       "      <td>3</td>\n",
       "      <td>male</td>\n",
       "      <td>22.0</td>\n",
       "      <td>1</td>\n",
       "      <td>0</td>\n",
       "      <td>7.2500</td>\n",
       "      <td>S</td>\n",
       "      <td>NaN</td>\n",
       "      <td>adult</td>\n",
       "    </tr>\n",
       "    <tr>\n",
       "      <th>1</th>\n",
       "      <td>1</td>\n",
       "      <td>1</td>\n",
       "      <td>female</td>\n",
       "      <td>38.0</td>\n",
       "      <td>1</td>\n",
       "      <td>0</td>\n",
       "      <td>71.2833</td>\n",
       "      <td>C</td>\n",
       "      <td>C</td>\n",
       "      <td>adult</td>\n",
       "    </tr>\n",
       "    <tr>\n",
       "      <th>2</th>\n",
       "      <td>1</td>\n",
       "      <td>3</td>\n",
       "      <td>female</td>\n",
       "      <td>26.0</td>\n",
       "      <td>0</td>\n",
       "      <td>0</td>\n",
       "      <td>7.9250</td>\n",
       "      <td>S</td>\n",
       "      <td>NaN</td>\n",
       "      <td>adult</td>\n",
       "    </tr>\n",
       "    <tr>\n",
       "      <th>3</th>\n",
       "      <td>1</td>\n",
       "      <td>1</td>\n",
       "      <td>female</td>\n",
       "      <td>35.0</td>\n",
       "      <td>1</td>\n",
       "      <td>0</td>\n",
       "      <td>53.1000</td>\n",
       "      <td>S</td>\n",
       "      <td>C</td>\n",
       "      <td>adult</td>\n",
       "    </tr>\n",
       "    <tr>\n",
       "      <th>4</th>\n",
       "      <td>0</td>\n",
       "      <td>3</td>\n",
       "      <td>male</td>\n",
       "      <td>35.0</td>\n",
       "      <td>0</td>\n",
       "      <td>0</td>\n",
       "      <td>8.0500</td>\n",
       "      <td>S</td>\n",
       "      <td>NaN</td>\n",
       "      <td>adult</td>\n",
       "    </tr>\n",
       "    <tr>\n",
       "      <th>5</th>\n",
       "      <td>0</td>\n",
       "      <td>3</td>\n",
       "      <td>male</td>\n",
       "      <td>NaN</td>\n",
       "      <td>0</td>\n",
       "      <td>0</td>\n",
       "      <td>8.4583</td>\n",
       "      <td>Q</td>\n",
       "      <td>NaN</td>\n",
       "      <td>adult</td>\n",
       "    </tr>\n",
       "    <tr>\n",
       "      <th>6</th>\n",
       "      <td>0</td>\n",
       "      <td>1</td>\n",
       "      <td>male</td>\n",
       "      <td>54.0</td>\n",
       "      <td>0</td>\n",
       "      <td>0</td>\n",
       "      <td>51.8625</td>\n",
       "      <td>S</td>\n",
       "      <td>E</td>\n",
       "      <td>adult</td>\n",
       "    </tr>\n",
       "    <tr>\n",
       "      <th>7</th>\n",
       "      <td>0</td>\n",
       "      <td>3</td>\n",
       "      <td>male</td>\n",
       "      <td>2.0</td>\n",
       "      <td>3</td>\n",
       "      <td>1</td>\n",
       "      <td>21.0750</td>\n",
       "      <td>S</td>\n",
       "      <td>NaN</td>\n",
       "      <td>child</td>\n",
       "    </tr>\n",
       "    <tr>\n",
       "      <th>8</th>\n",
       "      <td>1</td>\n",
       "      <td>3</td>\n",
       "      <td>female</td>\n",
       "      <td>27.0</td>\n",
       "      <td>0</td>\n",
       "      <td>2</td>\n",
       "      <td>11.1333</td>\n",
       "      <td>S</td>\n",
       "      <td>NaN</td>\n",
       "      <td>adult</td>\n",
       "    </tr>\n",
       "    <tr>\n",
       "      <th>9</th>\n",
       "      <td>1</td>\n",
       "      <td>2</td>\n",
       "      <td>female</td>\n",
       "      <td>14.0</td>\n",
       "      <td>1</td>\n",
       "      <td>0</td>\n",
       "      <td>30.0708</td>\n",
       "      <td>C</td>\n",
       "      <td>NaN</td>\n",
       "      <td>child</td>\n",
       "    </tr>\n",
       "  </tbody>\n",
       "</table>\n",
       "</div>"
      ],
      "text/plain": [
       "   survived  pclass     sex   age  sibsp  parch     fare embarked deck ad_chi\n",
       "0         0       3    male  22.0      1      0   7.2500        S  NaN  adult\n",
       "1         1       1  female  38.0      1      0  71.2833        C    C  adult\n",
       "2         1       3  female  26.0      0      0   7.9250        S  NaN  adult\n",
       "3         1       1  female  35.0      1      0  53.1000        S    C  adult\n",
       "4         0       3    male  35.0      0      0   8.0500        S  NaN  adult\n",
       "5         0       3    male   NaN      0      0   8.4583        Q  NaN  adult\n",
       "6         0       1    male  54.0      0      0  51.8625        S    E  adult\n",
       "7         0       3    male   2.0      3      1  21.0750        S  NaN  child\n",
       "8         1       3  female  27.0      0      2  11.1333        S  NaN  adult\n",
       "9         1       2  female  14.0      1      0  30.0708        C  NaN  child"
      ]
     },
     "execution_count": 149,
     "metadata": {},
     "output_type": "execute_result"
    }
   ],
   "source": [
    "titanic.head(10)"
   ]
  },
  {
   "cell_type": "code",
   "execution_count": 150,
   "id": "7ad98b73-bb61-4d87-9084-afbff934baa9",
   "metadata": {},
   "outputs": [
    {
     "data": {
      "text/plain": [
       "ad_chi\n",
       "adult    778\n",
       "child    113\n",
       "Name: count, dtype: int64"
      ]
     },
     "execution_count": 150,
     "metadata": {},
     "output_type": "execute_result"
    }
   ],
   "source": [
    "titanic.ad_chi.value_counts()"
   ]
  },
  {
   "cell_type": "code",
   "execution_count": 151,
   "id": "0f4f909b-6c95-4891-9f83-803c38349dbe",
   "metadata": {},
   "outputs": [
    {
     "data": {
      "text/plain": [
       "ad_chi\n",
       "adult    0.361183\n",
       "child    0.539823\n",
       "Name: survived, dtype: float64"
      ]
     },
     "execution_count": 151,
     "metadata": {},
     "output_type": "execute_result"
    }
   ],
   "source": [
    "titanic.groupby('ad_chi').survived.mean()"
   ]
  },
  {
   "cell_type": "code",
   "execution_count": 152,
   "id": "34bed948-8646-4036-93d3-301be6d32cef",
   "metadata": {},
   "outputs": [
    {
     "data": {
      "text/plain": [
       "sex     ad_chi\n",
       "female  adult     259\n",
       "        child      55\n",
       "male    adult     519\n",
       "        child      58\n",
       "Name: survived, dtype: int64"
      ]
     },
     "execution_count": 152,
     "metadata": {},
     "output_type": "execute_result"
    }
   ],
   "source": [
    "titanic.groupby(['sex', 'ad_chi']).survived.count()"
   ]
  },
  {
   "cell_type": "code",
   "execution_count": 153,
   "id": "24d6fb3a-3080-4644-b963-6553d7c1352e",
   "metadata": {},
   "outputs": [
    {
     "data": {
      "text/plain": [
       "sex     ad_chi\n",
       "female  adult     0.752896\n",
       "        child     0.690909\n",
       "male    adult     0.165703\n",
       "        child     0.396552\n",
       "Name: survived, dtype: float64"
      ]
     },
     "execution_count": 153,
     "metadata": {},
     "output_type": "execute_result"
    }
   ],
   "source": [
    "titanic.groupby(['sex', 'ad_chi']).survived.mean()"
   ]
  },
  {
   "cell_type": "code",
   "execution_count": 154,
   "id": "b0fa9efb-9851-4376-84c1-31a1723de1d3",
   "metadata": {},
   "outputs": [],
   "source": [
    "survival_rate = titanic.groupby(['sex', 'ad_chi']).survived.mean().sort_values(ascending = False)"
   ]
  },
  {
   "cell_type": "code",
   "execution_count": 172,
   "id": "c7269767-74f8-498e-ba06-1d9ec08785d3",
   "metadata": {},
   "outputs": [
    {
     "data": {
      "image/png": "[encoded data removed]",
      "text/plain": [
       "<Figure size 1000x500 with 1 Axes>"
      ]
     },
     "metadata": {},
     "output_type": "display_data"
    }
   ],
   "source": [
    "survival_rate.plot(kind = 'bar', figsize = (10, 5))\n",
    "plt.title('Titanic Survival Rate by Sex/Age')\n",
    "plt.xlabel('Groups')\n",
    "plt.xticks(rotation = 0)\n",
    "plt.ylabel('Survival Rate')\n",
    "plt.show()"
   ]
  },
  {
   "cell_type": "code",
   "execution_count": null,
   "id": "bb3ea6b6-ca8a-456f-8e3d-0f9662a1eea5",
   "metadata": {},
   "outputs": [],
   "source": []
  },
  {
   "cell_type": "code",
   "execution_count": null,
   "id": "3c311b9f-8d59-4410-bfe4-9cd4d733271e",
   "metadata": {},
   "outputs": [],
   "source": []
  },
  {
   "cell_type": "code",
   "execution_count": null,
   "id": "f44e072e-5222-45b6-a2d9-2bd80cf7ae7a",
   "metadata": {},
   "outputs": [],
   "source": []
  },
  {
   "cell_type": "code",
   "execution_count": null,
   "id": "2fdff6cd-d347-4dcd-b834-782f64ecad4e",
   "metadata": {},
   "outputs": [],
   "source": []
  },
  {
   "cell_type": "code",
   "execution_count": null,
   "id": "2c528d56-6511-45c6-a9df-32e6d9af8dd9",
   "metadata": {},
   "outputs": [],
   "source": []
  }
 ],
 "metadata": {
  "kernelspec": {
   "display_name": "Python 3 (ipykernel)",
   "language": "python",
   "name": "python3"
  },
  "language_info": {
   "codemirror_mode": {
    "name": "ipython",
    "version": 3
   },
   "file_extension": ".py",
   "mimetype": "text/x-python",
   "name": "python",
   "nbconvert_exporter": "python",
   "pygments_lexer": "ipython3",
   "version": "3.11.7"
  }
 },
 "nbformat": 4,
 "nbformat_minor": 5
}
