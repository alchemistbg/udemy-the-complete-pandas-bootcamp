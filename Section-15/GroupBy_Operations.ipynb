{
 "cells": [
  {
   "cell_type": "markdown",
   "id": "428825a8-5ab0-41c3-9c13-ecc111e2ed07",
   "metadata": {},
   "source": [
    "# **GroupBy Operations**"
   ]
  },
  {
   "cell_type": "markdown",
   "id": "573813f3-af57-45e6-8a88-63390dd73d79",
   "metadata": {},
   "source": [
    "## **Understanding the GroupBy**"
   ]
  },
  {
   "cell_type": "code",
   "execution_count": null,
   "id": "030b4750-dcad-41eb-8cd3-1865bfedb69c",
   "metadata": {},
   "outputs": [],
   "source": [
    "import pandas as pd"
   ]
  },
  {
   "cell_type": "code",
   "execution_count": null,
   "id": "64759a17-8efa-4fca-8104-4c50e1152f3b",
   "metadata": {},
   "outputs": [],
   "source": [
    "titanic = pd.read_csv('titanic.csv')"
   ]
  },
  {
   "cell_type": "code",
   "execution_count": null,
   "id": "0301bc99-54a4-4992-be2e-2fb39d21916c",
   "metadata": {},
   "outputs": [],
   "source": [
    "titanic.info()"
   ]
  },
  {
   "cell_type": "code",
   "execution_count": null,
   "id": "18a8822d-508b-467a-aae6-137776e5c7bd",
   "metadata": {},
   "outputs": [],
   "source": [
    "titanic.head()"
   ]
  },
  {
   "cell_type": "code",
   "execution_count": null,
   "id": "cdf9d96e-67dc-4b1b-a8a9-c6d90d6c128d",
   "metadata": {},
   "outputs": [],
   "source": [
    "titanic.tail()"
   ]
  },
  {
   "cell_type": "code",
   "execution_count": null,
   "id": "8586de8b-8442-4c85-ab1c-2e3633977aa7",
   "metadata": {},
   "outputs": [],
   "source": [
    "titanic.info()"
   ]
  },
  {
   "cell_type": "code",
   "execution_count": null,
   "id": "bd1bf52c-637a-4aae-ac53-07a8ce4550f3",
   "metadata": {},
   "outputs": [],
   "source": [
    "titanic_slice = titanic.iloc[:10, [2,3]]"
   ]
  },
  {
   "cell_type": "code",
   "execution_count": null,
   "id": "d9ef10ab-d122-456f-98c4-4b3256adeb8d",
   "metadata": {},
   "outputs": [],
   "source": [
    "titanic_slice"
   ]
  },
  {
   "cell_type": "code",
   "execution_count": null,
   "id": "d55db1c4-ad0a-4b75-a430-49cb5dec9f04",
   "metadata": {},
   "outputs": [],
   "source": [
    "titanic_slice.groupby(by = 'sex')"
   ]
  },
  {
   "cell_type": "code",
   "execution_count": null,
   "id": "e15c2669-f35e-402d-8bb7-dd6d066de0e9",
   "metadata": {},
   "outputs": [],
   "source": [
    "gbo = titanic_slice.groupby(by = 'sex')"
   ]
  },
  {
   "cell_type": "code",
   "execution_count": null,
   "id": "95d93c9e-bfc1-4998-8141-584a31c50c30",
   "metadata": {},
   "outputs": [],
   "source": [
    "type(gbo)"
   ]
  },
  {
   "cell_type": "code",
   "execution_count": null,
   "id": "bd47cd84-34c8-4cc3-b12e-d4709328cce9",
   "metadata": {},
   "outputs": [],
   "source": [
    "gbo.groups"
   ]
  },
  {
   "cell_type": "code",
   "execution_count": null,
   "id": "a1ee12c9-a022-4071-9946-2bdb5449086a",
   "metadata": {},
   "outputs": [],
   "source": [
    "gbo_l = list(gbo)"
   ]
  },
  {
   "cell_type": "code",
   "execution_count": null,
   "id": "4acebbfe-032b-43a9-93bf-9bf9f7afb79e",
   "metadata": {},
   "outputs": [],
   "source": [
    "gbo_l[0]"
   ]
  },
  {
   "cell_type": "code",
   "execution_count": null,
   "id": "dd623a5e-2e8d-4d59-828b-ae674dbd1c17",
   "metadata": {},
   "outputs": [],
   "source": [
    "type(gbo_l[0])"
   ]
  },
  {
   "cell_type": "code",
   "execution_count": null,
   "id": "cdfd364c-f7f2-4aff-8fb9-1cda2eef48b8",
   "metadata": {},
   "outputs": [],
   "source": [
    "gbo_l[0][0]"
   ]
  },
  {
   "cell_type": "code",
   "execution_count": null,
   "id": "93df8d7d-61c2-43e1-945a-d333017051e6",
   "metadata": {},
   "outputs": [],
   "source": [
    "gbo_l[0][1]"
   ]
  },
  {
   "cell_type": "code",
   "execution_count": null,
   "id": "d687f197-8394-4949-898b-2f0c510355da",
   "metadata": {
    "scrolled": true
   },
   "outputs": [],
   "source": [
    "type(gbo_l[0][1])"
   ]
  },
  {
   "cell_type": "code",
   "execution_count": null,
   "id": "51cfc159-775e-49ae-8fae-6abca5d0dd04",
   "metadata": {},
   "outputs": [],
   "source": [
    "gbo_l[1][1]"
   ]
  },
  {
   "cell_type": "markdown",
   "id": "5ec6accd-5567-4ef6-b26f-9b60a6a7a70f",
   "metadata": {},
   "source": [
    "#### **Another approach for achieving the same result**"
   ]
  },
  {
   "cell_type": "code",
   "execution_count": null,
   "id": "9acb748e-87ea-4653-bde5-f0ff916d4a42",
   "metadata": {},
   "outputs": [],
   "source": [
    "titanic_slice_f = titanic_slice.loc[titanic_slice.sex == 'female']"
   ]
  },
  {
   "cell_type": "code",
   "execution_count": null,
   "id": "1be01261-804b-405c-a1c1-195749fd4285",
   "metadata": {},
   "outputs": [],
   "source": [
    "titanic_slice_f"
   ]
  },
  {
   "cell_type": "code",
   "execution_count": null,
   "id": "97045603-13e8-438c-9e6c-070940b383e6",
   "metadata": {},
   "outputs": [],
   "source": [
    "titanic_slice_m = titanic_slice.loc[titanic_slice.sex == 'male']"
   ]
  },
  {
   "cell_type": "code",
   "execution_count": null,
   "id": "40f1db5d-58ed-4a5c-8a72-ab9d86635133",
   "metadata": {},
   "outputs": [],
   "source": [
    "titanic_slice_m"
   ]
  },
  {
   "cell_type": "code",
   "execution_count": null,
   "id": "a791ffff-143c-4379-b1b5-90c2f905f04f",
   "metadata": {},
   "outputs": [],
   "source": [
    "titanic_slice_m.equals(gbo_l[1][1])"
   ]
  },
  {
   "cell_type": "code",
   "execution_count": null,
   "id": "1ccbda38-b41a-4a20-8f7e-15b2adeb44c3",
   "metadata": {},
   "outputs": [],
   "source": [
    "for element in gbo:\n",
    "    print(element)"
   ]
  },
  {
   "cell_type": "markdown",
   "id": "9f8cee04-e6e7-483e-ab9f-622b8d63b53e",
   "metadata": {},
   "source": [
    "## **Splitting with many keys**"
   ]
  },
  {
   "cell_type": "code",
   "execution_count": 1,
   "id": "6d557397-72da-41c6-96cc-86a4eb4bbf7b",
   "metadata": {},
   "outputs": [],
   "source": [
    "import pandas as pd"
   ]
  },
  {
   "cell_type": "code",
   "execution_count": 2,
   "id": "f2097cc2-8279-4e44-a47f-19bace93f782",
   "metadata": {},
   "outputs": [],
   "source": [
    "summer = pd.read_csv('summer.csv')"
   ]
  },
  {
   "cell_type": "code",
   "execution_count": 4,
   "id": "b9889396-cd77-46e3-afbc-c754666e2c9e",
   "metadata": {},
   "outputs": [
    {
     "name": "stdout",
     "output_type": "stream",
     "text": [
      "<class 'pandas.core.frame.DataFrame'>\n",
      "RangeIndex: 31165 entries, 0 to 31164\n",
      "Data columns (total 9 columns):\n",
      " #   Column      Non-Null Count  Dtype \n",
      "---  ------      --------------  ----- \n",
      " 0   Year        31165 non-null  int64 \n",
      " 1   City        31165 non-null  object\n",
      " 2   Sport       31165 non-null  object\n",
      " 3   Discipline  31165 non-null  object\n",
      " 4   Athlete     31165 non-null  object\n",
      " 5   Country     31161 non-null  object\n",
      " 6   Gender      31165 non-null  object\n",
      " 7   Event       31165 non-null  object\n",
      " 8   Medal       31165 non-null  object\n",
      "dtypes: int64(1), object(8)\n",
      "memory usage: 2.1+ MB\n"
     ]
    }
   ],
   "source": [
    "summer.info()"
   ]
  },
  {
   "cell_type": "code",
   "execution_count": 3,
   "id": "74dfe5b6-842c-42aa-b52a-58280fe6e2ca",
   "metadata": {},
   "outputs": [
    {
     "data": {
      "text/html": [
       "<div>\n",
       "<style scoped>\n",
       "    .dataframe tbody tr th:only-of-type {\n",
       "        vertical-align: middle;\n",
       "    }\n",
       "\n",
       "    .dataframe tbody tr th {\n",
       "        vertical-align: top;\n",
       "    }\n",
       "\n",
       "    .dataframe thead th {\n",
       "        text-align: right;\n",
       "    }\n",
       "</style>\n",
       "<table border=\"1\" class=\"dataframe\">\n",
       "  <thead>\n",
       "    <tr style=\"text-align: right;\">\n",
       "      <th></th>\n",
       "      <th>Year</th>\n",
       "      <th>City</th>\n",
       "      <th>Sport</th>\n",
       "      <th>Discipline</th>\n",
       "      <th>Athlete</th>\n",
       "      <th>Country</th>\n",
       "      <th>Gender</th>\n",
       "      <th>Event</th>\n",
       "      <th>Medal</th>\n",
       "    </tr>\n",
       "  </thead>\n",
       "  <tbody>\n",
       "    <tr>\n",
       "      <th>0</th>\n",
       "      <td>1896</td>\n",
       "      <td>Athens</td>\n",
       "      <td>Aquatics</td>\n",
       "      <td>Swimming</td>\n",
       "      <td>HAJOS, Alfred</td>\n",
       "      <td>HUN</td>\n",
       "      <td>Men</td>\n",
       "      <td>100M Freestyle</td>\n",
       "      <td>Gold</td>\n",
       "    </tr>\n",
       "    <tr>\n",
       "      <th>1</th>\n",
       "      <td>1896</td>\n",
       "      <td>Athens</td>\n",
       "      <td>Aquatics</td>\n",
       "      <td>Swimming</td>\n",
       "      <td>HERSCHMANN, Otto</td>\n",
       "      <td>AUT</td>\n",
       "      <td>Men</td>\n",
       "      <td>100M Freestyle</td>\n",
       "      <td>Silver</td>\n",
       "    </tr>\n",
       "    <tr>\n",
       "      <th>2</th>\n",
       "      <td>1896</td>\n",
       "      <td>Athens</td>\n",
       "      <td>Aquatics</td>\n",
       "      <td>Swimming</td>\n",
       "      <td>DRIVAS, Dimitrios</td>\n",
       "      <td>GRE</td>\n",
       "      <td>Men</td>\n",
       "      <td>100M Freestyle For Sailors</td>\n",
       "      <td>Bronze</td>\n",
       "    </tr>\n",
       "    <tr>\n",
       "      <th>3</th>\n",
       "      <td>1896</td>\n",
       "      <td>Athens</td>\n",
       "      <td>Aquatics</td>\n",
       "      <td>Swimming</td>\n",
       "      <td>MALOKINIS, Ioannis</td>\n",
       "      <td>GRE</td>\n",
       "      <td>Men</td>\n",
       "      <td>100M Freestyle For Sailors</td>\n",
       "      <td>Gold</td>\n",
       "    </tr>\n",
       "    <tr>\n",
       "      <th>4</th>\n",
       "      <td>1896</td>\n",
       "      <td>Athens</td>\n",
       "      <td>Aquatics</td>\n",
       "      <td>Swimming</td>\n",
       "      <td>CHASAPIS, Spiridon</td>\n",
       "      <td>GRE</td>\n",
       "      <td>Men</td>\n",
       "      <td>100M Freestyle For Sailors</td>\n",
       "      <td>Silver</td>\n",
       "    </tr>\n",
       "  </tbody>\n",
       "</table>\n",
       "</div>"
      ],
      "text/plain": [
       "   Year    City     Sport Discipline             Athlete Country Gender  \\\n",
       "0  1896  Athens  Aquatics   Swimming       HAJOS, Alfred     HUN    Men   \n",
       "1  1896  Athens  Aquatics   Swimming    HERSCHMANN, Otto     AUT    Men   \n",
       "2  1896  Athens  Aquatics   Swimming   DRIVAS, Dimitrios     GRE    Men   \n",
       "3  1896  Athens  Aquatics   Swimming  MALOKINIS, Ioannis     GRE    Men   \n",
       "4  1896  Athens  Aquatics   Swimming  CHASAPIS, Spiridon     GRE    Men   \n",
       "\n",
       "                        Event   Medal  \n",
       "0              100M Freestyle    Gold  \n",
       "1              100M Freestyle  Silver  \n",
       "2  100M Freestyle For Sailors  Bronze  \n",
       "3  100M Freestyle For Sailors    Gold  \n",
       "4  100M Freestyle For Sailors  Silver  "
      ]
     },
     "execution_count": 3,
     "metadata": {},
     "output_type": "execute_result"
    }
   ],
   "source": [
    "summer.head()"
   ]
  },
  {
   "cell_type": "code",
   "execution_count": 5,
   "id": "0f1073a7-d458-4521-83d2-1b8abffeee3b",
   "metadata": {},
   "outputs": [
    {
     "data": {
      "text/plain": [
       "147"
      ]
     },
     "execution_count": 5,
     "metadata": {},
     "output_type": "execute_result"
    }
   ],
   "source": [
    "summer.Country.nunique()"
   ]
  },
  {
   "cell_type": "code",
   "execution_count": 6,
   "id": "b7b61636-2294-4f7c-b279-c2d86d1847b1",
   "metadata": {},
   "outputs": [],
   "source": [
    "split1 = summer.groupby('Country')"
   ]
  },
  {
   "cell_type": "code",
   "execution_count": 7,
   "id": "c01e5260-3d65-419a-8798-93d00662e28c",
   "metadata": {},
   "outputs": [],
   "source": [
    "split1_l = list(split1)"
   ]
  },
  {
   "cell_type": "code",
   "execution_count": 9,
   "id": "ed6ac24d-3eb7-4f87-b6b7-f8805115cdf8",
   "metadata": {},
   "outputs": [
    {
     "data": {
      "text/plain": [
       "147"
      ]
     },
     "execution_count": 9,
     "metadata": {},
     "output_type": "execute_result"
    }
   ],
   "source": [
    "len(split1_l)"
   ]
  },
  {
   "cell_type": "code",
   "execution_count": 23,
   "id": "d662ae2e-4200-4073-9f98-7e79f9c09247",
   "metadata": {},
   "outputs": [],
   "source": [
    "countries = [c[0] for c in split1_l]"
   ]
  },
  {
   "cell_type": "code",
   "execution_count": 25,
   "id": "49514a2b-b6dc-4121-bda6-1f49081b623c",
   "metadata": {},
   "outputs": [
    {
     "data": {
      "text/plain": [
       "19"
      ]
     },
     "execution_count": 25,
     "metadata": {},
     "output_type": "execute_result"
    }
   ],
   "source": [
    "countries.index('BUL')"
   ]
  },
  {
   "cell_type": "code",
   "execution_count": 26,
   "id": "64a43d82-4e5b-4e32-861e-f86e6209c8bb",
   "metadata": {},
   "outputs": [
    {
     "data": {
      "text/html": [
       "<div>\n",
       "<style scoped>\n",
       "    .dataframe tbody tr th:only-of-type {\n",
       "        vertical-align: middle;\n",
       "    }\n",
       "\n",
       "    .dataframe tbody tr th {\n",
       "        vertical-align: top;\n",
       "    }\n",
       "\n",
       "    .dataframe thead th {\n",
       "        text-align: right;\n",
       "    }\n",
       "</style>\n",
       "<table border=\"1\" class=\"dataframe\">\n",
       "  <thead>\n",
       "    <tr style=\"text-align: right;\">\n",
       "      <th></th>\n",
       "      <th>Year</th>\n",
       "      <th>City</th>\n",
       "      <th>Sport</th>\n",
       "      <th>Discipline</th>\n",
       "      <th>Athlete</th>\n",
       "      <th>Country</th>\n",
       "      <th>Gender</th>\n",
       "      <th>Event</th>\n",
       "      <th>Medal</th>\n",
       "    </tr>\n",
       "  </thead>\n",
       "  <tbody>\n",
       "    <tr>\n",
       "      <th>8312</th>\n",
       "      <td>1952</td>\n",
       "      <td>Helsinki</td>\n",
       "      <td>Boxing</td>\n",
       "      <td>Boxing</td>\n",
       "      <td>NIKOLOV, Boris Georgiev</td>\n",
       "      <td>BUL</td>\n",
       "      <td>Men</td>\n",
       "      <td>71-75KG</td>\n",
       "      <td>Bronze</td>\n",
       "    </tr>\n",
       "    <tr>\n",
       "      <th>9390</th>\n",
       "      <td>1956</td>\n",
       "      <td>Melbourne / Stockholm</td>\n",
       "      <td>Football</td>\n",
       "      <td>Football</td>\n",
       "      <td>DIEV, Todor Nedyalkov</td>\n",
       "      <td>BUL</td>\n",
       "      <td>Men</td>\n",
       "      <td>Football</td>\n",
       "      <td>Bronze</td>\n",
       "    </tr>\n",
       "    <tr>\n",
       "      <th>9391</th>\n",
       "      <td>1956</td>\n",
       "      <td>Melbourne / Stockholm</td>\n",
       "      <td>Football</td>\n",
       "      <td>Football</td>\n",
       "      <td>KOLEV, Ivan Petkov</td>\n",
       "      <td>BUL</td>\n",
       "      <td>Men</td>\n",
       "      <td>Football</td>\n",
       "      <td>Bronze</td>\n",
       "    </tr>\n",
       "    <tr>\n",
       "      <th>9392</th>\n",
       "      <td>1956</td>\n",
       "      <td>Melbourne / Stockholm</td>\n",
       "      <td>Football</td>\n",
       "      <td>Football</td>\n",
       "      <td>KOVATCHEV, Nikolai Dimitrov</td>\n",
       "      <td>BUL</td>\n",
       "      <td>Men</td>\n",
       "      <td>Football</td>\n",
       "      <td>Bronze</td>\n",
       "    </tr>\n",
       "    <tr>\n",
       "      <th>9393</th>\n",
       "      <td>1956</td>\n",
       "      <td>Melbourne / Stockholm</td>\n",
       "      <td>Football</td>\n",
       "      <td>Football</td>\n",
       "      <td>MANOLOV, Manol Tomov</td>\n",
       "      <td>BUL</td>\n",
       "      <td>Men</td>\n",
       "      <td>Football</td>\n",
       "      <td>Bronze</td>\n",
       "    </tr>\n",
       "    <tr>\n",
       "      <th>...</th>\n",
       "      <td>...</td>\n",
       "      <td>...</td>\n",
       "      <td>...</td>\n",
       "      <td>...</td>\n",
       "      <td>...</td>\n",
       "      <td>...</td>\n",
       "      <td>...</td>\n",
       "      <td>...</td>\n",
       "      <td>...</td>\n",
       "    </tr>\n",
       "    <tr>\n",
       "      <th>29172</th>\n",
       "      <td>2008</td>\n",
       "      <td>Beijing</td>\n",
       "      <td>Wrestling</td>\n",
       "      <td>Wrestling Free.</td>\n",
       "      <td>ZLATEVA, Stanka</td>\n",
       "      <td>BUL</td>\n",
       "      <td>Women</td>\n",
       "      <td>63 - 72KG</td>\n",
       "      <td>Silver</td>\n",
       "    </tr>\n",
       "    <tr>\n",
       "      <th>29174</th>\n",
       "      <td>2008</td>\n",
       "      <td>Beijing</td>\n",
       "      <td>Wrestling</td>\n",
       "      <td>Wrestling Free.</td>\n",
       "      <td>TERZIEV, Kiril</td>\n",
       "      <td>BUL</td>\n",
       "      <td>Men</td>\n",
       "      <td>66 - 74KG</td>\n",
       "      <td>Bronze</td>\n",
       "    </tr>\n",
       "    <tr>\n",
       "      <th>29202</th>\n",
       "      <td>2008</td>\n",
       "      <td>Beijing</td>\n",
       "      <td>Wrestling</td>\n",
       "      <td>Wrestling Gre-R</td>\n",
       "      <td>YANAKIEV, Yavor</td>\n",
       "      <td>BUL</td>\n",
       "      <td>Men</td>\n",
       "      <td>66 - 74KG</td>\n",
       "      <td>Bronze</td>\n",
       "    </tr>\n",
       "    <tr>\n",
       "      <th>29919</th>\n",
       "      <td>2012</td>\n",
       "      <td>London</td>\n",
       "      <td>Boxing</td>\n",
       "      <td>Boxing</td>\n",
       "      <td>PULEV, Tervel</td>\n",
       "      <td>BUL</td>\n",
       "      <td>Men</td>\n",
       "      <td>81 - 91KG</td>\n",
       "      <td>Bronze</td>\n",
       "    </tr>\n",
       "    <tr>\n",
       "      <th>31122</th>\n",
       "      <td>2012</td>\n",
       "      <td>London</td>\n",
       "      <td>Wrestling</td>\n",
       "      <td>Wrestling Freestyle</td>\n",
       "      <td>HRISTOVA, Stanka Zlateva</td>\n",
       "      <td>BUL</td>\n",
       "      <td>Women</td>\n",
       "      <td>Wf 72 KG</td>\n",
       "      <td>Silver</td>\n",
       "    </tr>\n",
       "  </tbody>\n",
       "</table>\n",
       "<p>333 rows × 9 columns</p>\n",
       "</div>"
      ],
      "text/plain": [
       "       Year                   City      Sport           Discipline  \\\n",
       "8312   1952               Helsinki     Boxing               Boxing   \n",
       "9390   1956  Melbourne / Stockholm   Football             Football   \n",
       "9391   1956  Melbourne / Stockholm   Football             Football   \n",
       "9392   1956  Melbourne / Stockholm   Football             Football   \n",
       "9393   1956  Melbourne / Stockholm   Football             Football   \n",
       "...     ...                    ...        ...                  ...   \n",
       "29172  2008                Beijing  Wrestling      Wrestling Free.   \n",
       "29174  2008                Beijing  Wrestling      Wrestling Free.   \n",
       "29202  2008                Beijing  Wrestling      Wrestling Gre-R   \n",
       "29919  2012                 London     Boxing               Boxing   \n",
       "31122  2012                 London  Wrestling  Wrestling Freestyle   \n",
       "\n",
       "                           Athlete Country Gender      Event   Medal  \n",
       "8312       NIKOLOV, Boris Georgiev     BUL    Men    71-75KG  Bronze  \n",
       "9390         DIEV, Todor Nedyalkov     BUL    Men   Football  Bronze  \n",
       "9391            KOLEV, Ivan Petkov     BUL    Men   Football  Bronze  \n",
       "9392   KOVATCHEV, Nikolai Dimitrov     BUL    Men   Football  Bronze  \n",
       "9393          MANOLOV, Manol Tomov     BUL    Men   Football  Bronze  \n",
       "...                            ...     ...    ...        ...     ...  \n",
       "29172              ZLATEVA, Stanka     BUL  Women  63 - 72KG  Silver  \n",
       "29174               TERZIEV, Kiril     BUL    Men  66 - 74KG  Bronze  \n",
       "29202              YANAKIEV, Yavor     BUL    Men  66 - 74KG  Bronze  \n",
       "29919                PULEV, Tervel     BUL    Men  81 - 91KG  Bronze  \n",
       "31122     HRISTOVA, Stanka Zlateva     BUL  Women   Wf 72 KG  Silver  \n",
       "\n",
       "[333 rows x 9 columns]"
      ]
     },
     "execution_count": 26,
     "metadata": {},
     "output_type": "execute_result"
    }
   ],
   "source": [
    "split1_l[19][1]"
   ]
  },
  {
   "cell_type": "code",
   "execution_count": 27,
   "id": "0878e9d7-83f2-46dd-a2fc-d958afe80338",
   "metadata": {},
   "outputs": [],
   "source": [
    "split2 = summer.groupby(by = ['Country', 'Gender'])"
   ]
  },
  {
   "cell_type": "code",
   "execution_count": 28,
   "id": "6786f52e-71f5-44ae-92b4-909023bfdafc",
   "metadata": {},
   "outputs": [],
   "source": [
    "split2_l = list(split2)"
   ]
  },
  {
   "cell_type": "code",
   "execution_count": 35,
   "id": "1eaf3e29-4889-4a98-ae4b-e2f56ef9a711",
   "metadata": {},
   "outputs": [
    {
     "data": {
      "text/plain": [
       "[(('BUL', 'Men'),\n",
       "         Year                   City      Sport       Discipline  \\\n",
       "  8312   1952               Helsinki     Boxing           Boxing   \n",
       "  9390   1956  Melbourne / Stockholm   Football         Football   \n",
       "  9391   1956  Melbourne / Stockholm   Football         Football   \n",
       "  9392   1956  Melbourne / Stockholm   Football         Football   \n",
       "  9393   1956  Melbourne / Stockholm   Football         Football   \n",
       "  ...     ...                    ...        ...              ...   \n",
       "  27156  2004                 Athens  Wrestling  Wrestling Gre-R   \n",
       "  29150  2008                Beijing  Wrestling  Wrestling Free.   \n",
       "  29174  2008                Beijing  Wrestling  Wrestling Free.   \n",
       "  29202  2008                Beijing  Wrestling  Wrestling Gre-R   \n",
       "  29919  2012                 London     Boxing           Boxing   \n",
       "  \n",
       "                             Athlete Country Gender      Event   Medal  \n",
       "  8312       NIKOLOV, Boris Georgiev     BUL    Men    71-75KG  Bronze  \n",
       "  9390         DIEV, Todor Nedyalkov     BUL    Men   Football  Bronze  \n",
       "  9391            KOLEV, Ivan Petkov     BUL    Men   Football  Bronze  \n",
       "  9392   KOVATCHEV, Nikolai Dimitrov     BUL    Men   Football  Bronze  \n",
       "  9393          MANOLOV, Manol Tomov     BUL    Men   Football  Bronze  \n",
       "  ...                            ...     ...    ...        ...     ...  \n",
       "  27156              NAZARIAN, Armen     BUL    Men  55 - 60KG  Bronze  \n",
       "  29150            VELIKOV, Radoslav     BUL    Men     - 55KG  Bronze  \n",
       "  29174               TERZIEV, Kiril     BUL    Men  66 - 74KG  Bronze  \n",
       "  29202              YANAKIEV, Yavor     BUL    Men  66 - 74KG  Bronze  \n",
       "  29919                PULEV, Tervel     BUL    Men  81 - 91KG  Bronze  \n",
       "  \n",
       "  [215 rows x 9 columns]),\n",
       " (('BUL', 'Women'),\n",
       "         Year      City      Sport           Discipline  \\\n",
       "  13006  1972    Munich  Athletics            Athletics   \n",
       "  13017  1972    Munich  Athletics            Athletics   \n",
       "  13029  1972    Munich  Athletics            Athletics   \n",
       "  13042  1972    Munich  Athletics            Athletics   \n",
       "  14163  1976  Montreal  Athletics            Athletics   \n",
       "  ...     ...       ...        ...                  ...   \n",
       "  26832  2004    Athens   Shooting             Shooting   \n",
       "  26848  2004    Athens   Shooting             Shooting   \n",
       "  28790  2008   Beijing     Rowing               Rowing   \n",
       "  29172  2008   Beijing  Wrestling      Wrestling Free.   \n",
       "  31122  2012    London  Wrestling  Wrestling Freestyle   \n",
       "  \n",
       "                                      Athlete Country Gender  \\\n",
       "  13006                      STOEVA, Vassilka     BUL  Women   \n",
       "  13017          BLAGOEVA-DIMITROVA, Yordanka     BUL  Women   \n",
       "  13029              CHRISTOVA-YORGOVA, Diana     BUL  Women   \n",
       "  13042  CHRISTOVA-TODOROVA, Ivanka Mikailova     BUL  Women   \n",
       "  14163                    CHTEREVA, Nikolina     BUL  Women   \n",
       "  ...                                     ...     ...    ...   \n",
       "  26832                       GROZDEVA, Maria     BUL  Women   \n",
       "  26848                       GROZDEVA, Maria     BUL  Women   \n",
       "  28790                      NEYKOVA, Rumyana     BUL  Women   \n",
       "  29172                       ZLATEVA, Stanka     BUL  Women   \n",
       "  31122              HRISTOVA, Stanka Zlateva     BUL  Women   \n",
       "  \n",
       "                             Event   Medal  \n",
       "  13006               Discus Throw  Bronze  \n",
       "  13017                  High Jump  Silver  \n",
       "  13029                  Long Jump  Silver  \n",
       "  13042                   Shot Put  Bronze  \n",
       "  14163                       800M  Silver  \n",
       "  ...                          ...     ...  \n",
       "  26832  10M Air Pistol (40 Shots)  Bronze  \n",
       "  26848   25M Pistol (30+30 Shots)    Gold  \n",
       "  28790         Single Sculls (1X)    Gold  \n",
       "  29172                  63 - 72KG  Silver  \n",
       "  31122                   Wf 72 KG  Silver  \n",
       "  \n",
       "  [118 rows x 9 columns])]"
      ]
     },
     "execution_count": 35,
     "metadata": {},
     "output_type": "execute_result"
    }
   ],
   "source": [
    "split2_l[30:32]"
   ]
  },
  {
   "cell_type": "code",
   "execution_count": null,
   "id": "bb563b6a-dd9c-4719-9826-f1592edcdbd4",
   "metadata": {},
   "outputs": [],
   "source": []
  }
 ],
 "metadata": {
  "kernelspec": {
   "display_name": "Python 3 (ipykernel)",
   "language": "python",
   "name": "python3"
  },
  "language_info": {
   "codemirror_mode": {
    "name": "ipython",
    "version": 3
   },
   "file_extension": ".py",
   "mimetype": "text/x-python",
   "name": "python",
   "nbconvert_exporter": "python",
   "pygments_lexer": "ipython3",
   "version": "3.11.7"
  }
 },
 "nbformat": 4,
 "nbformat_minor": 5
}
