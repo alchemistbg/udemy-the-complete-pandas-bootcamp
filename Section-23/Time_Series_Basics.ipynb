{
 "cells": [
  {
   "cell_type": "markdown",
   "id": "5597d31e-757f-46ed-beb8-2a8707cf8c3a",
   "metadata": {},
   "source": [
    "# **Time series basics**"
   ]
  },
  {
   "cell_type": "markdown",
   "id": "a05af331-a27b-41c2-bfe0-2e83ba49b7f7",
   "metadata": {},
   "source": [
    "## **Importing time series data from csv-file**"
   ]
  },
  {
   "cell_type": "code",
   "execution_count": null,
   "id": "526681cc-7fce-447b-87a4-14a326959ac7",
   "metadata": {},
   "outputs": [],
   "source": [
    "import pandas as pd"
   ]
  },
  {
   "cell_type": "code",
   "execution_count": null,
   "id": "e549e792-b4dd-4c95-b59b-1685804255d4",
   "metadata": {},
   "outputs": [],
   "source": [
    "temp = pd.read_csv('temp.csv', parse_dates = ['datetime'], index_col = 'datetime')"
   ]
  },
  {
   "cell_type": "code",
   "execution_count": null,
   "id": "1a01c2e0-fa52-49a8-993b-07e6bdf2476e",
   "metadata": {},
   "outputs": [],
   "source": [
    "temp.head(24)"
   ]
  },
  {
   "cell_type": "code",
   "execution_count": null,
   "id": "ea02f0a2-b92e-4f86-9e62-214cacf01e79",
   "metadata": {},
   "outputs": [],
   "source": [
    "temp.info()"
   ]
  },
  {
   "cell_type": "code",
   "execution_count": null,
   "id": "be01ab4b-bcfc-4376-8ce2-60efd4dd2782",
   "metadata": {},
   "outputs": [],
   "source": [
    "temp.iloc[0, 0]"
   ]
  },
  {
   "cell_type": "code",
   "execution_count": null,
   "id": "2ea2e7bb-b682-4a64-b45d-7006714ac1cf",
   "metadata": {},
   "outputs": [],
   "source": [
    "temp.index"
   ]
  },
  {
   "cell_type": "code",
   "execution_count": null,
   "id": "36756752-03d9-4fa6-8725-ce48ecccc55a",
   "metadata": {},
   "outputs": [],
   "source": [
    "temp.index[0]"
   ]
  },
  {
   "cell_type": "markdown",
   "id": "91593982-1aa1-4705-aa35-a297f1e029e4",
   "metadata": {},
   "source": [
    "## **Converting strings to datetime objects with pd.to_datatime()** "
   ]
  },
  {
   "cell_type": "code",
   "execution_count": null,
   "id": "f94e3ca2-50ea-43e4-8243-3a1e9f3fe201",
   "metadata": {},
   "outputs": [],
   "source": [
    "import pandas as pd"
   ]
  },
  {
   "cell_type": "code",
   "execution_count": null,
   "id": "cf59a260-5e8c-413f-afaa-f35054221a00",
   "metadata": {},
   "outputs": [],
   "source": [
    "temp = pd.read_csv('temp.csv')"
   ]
  },
  {
   "cell_type": "code",
   "execution_count": null,
   "id": "5b1f148b-b654-47bc-a1d6-87baeef9279d",
   "metadata": {},
   "outputs": [],
   "source": [
    "temp.info()"
   ]
  },
  {
   "cell_type": "code",
   "execution_count": null,
   "id": "924af608-799e-4e1d-abe9-9e41c23def82",
   "metadata": {},
   "outputs": [],
   "source": [
    "temp.head()"
   ]
  },
  {
   "cell_type": "code",
   "execution_count": null,
   "id": "ac369e01-ec9f-43dc-9101-1f848ad7e70f",
   "metadata": {},
   "outputs": [],
   "source": [
    "temp.datetime"
   ]
  },
  {
   "cell_type": "code",
   "execution_count": null,
   "id": "bb7fecac-37db-43ed-bc44-5a1c69a4f81e",
   "metadata": {},
   "outputs": [],
   "source": [
    "pd.to_datetime(temp.datetime)"
   ]
  },
  {
   "cell_type": "code",
   "execution_count": null,
   "id": "1cb5a701-5429-4845-bb55-5eb6e403edec",
   "metadata": {},
   "outputs": [],
   "source": [
    "temp = temp.set_index(pd.to_datetime(temp.datetime)).drop(labels = 'datetime', axis = 1)"
   ]
  },
  {
   "cell_type": "code",
   "execution_count": null,
   "id": "10cd4ded-adfd-4800-b1e0-fb2873cf7124",
   "metadata": {},
   "outputs": [],
   "source": [
    "temp.info()"
   ]
  },
  {
   "cell_type": "code",
   "execution_count": null,
   "id": "caf0d788-d0d4-47c2-bade-0f939180264c",
   "metadata": {},
   "outputs": [],
   "source": [
    "pd.to_datetime('2007-05-19')"
   ]
  },
  {
   "cell_type": "code",
   "execution_count": null,
   "id": "a5e10968-4f49-431f-ab0a-c83263f404fb",
   "metadata": {},
   "outputs": [],
   "source": [
    "pd.to_datetime('2007 05 19')"
   ]
  },
  {
   "cell_type": "code",
   "execution_count": null,
   "id": "cce026d8-dcd4-46b0-8528-5b064904ee00",
   "metadata": {},
   "outputs": [],
   "source": [
    "pd.to_datetime('2007-19-05', format = '%Y-%d-%m')"
   ]
  },
  {
   "cell_type": "markdown",
   "id": "1cf2b402-83f7-46c7-89c8-0abe7e4a02dc",
   "metadata": {},
   "source": [
    "## **Initial analysis/Visual inspection**"
   ]
  },
  {
   "cell_type": "code",
   "execution_count": null,
   "id": "e227b642-3999-4ae6-8c3c-36f70addf9a5",
   "metadata": {},
   "outputs": [],
   "source": [
    "import pandas as pd"
   ]
  },
  {
   "cell_type": "code",
   "execution_count": null,
   "id": "57615e1c-d3f9-4665-a247-f13473f1c35d",
   "metadata": {},
   "outputs": [],
   "source": [
    "temp = pd.read_csv('temp.csv', parse_dates = ['datetime'], index_col = 'datetime')"
   ]
  },
  {
   "cell_type": "code",
   "execution_count": null,
   "id": "2dc864b3-9c5e-4e8e-abda-9a83180a3851",
   "metadata": {},
   "outputs": [],
   "source": [
    "temp.info()"
   ]
  },
  {
   "cell_type": "code",
   "execution_count": null,
   "id": "98b7b1a8-1785-45e6-9b5c-d3880a7d2c36",
   "metadata": {},
   "outputs": [],
   "source": [
    "temp.describe()"
   ]
  },
  {
   "cell_type": "code",
   "execution_count": null,
   "id": "2c907140-a3ee-4300-859d-e1d4288ef51e",
   "metadata": {},
   "outputs": [],
   "source": [
    "temp.head()"
   ]
  },
  {
   "cell_type": "code",
   "execution_count": null,
   "id": "d72865b3-f884-4ee9-bf71-59d3646011cd",
   "metadata": {},
   "outputs": [],
   "source": [
    "temp.head()"
   ]
  },
  {
   "cell_type": "code",
   "execution_count": null,
   "id": "113a7035-20f1-49a3-9ec5-9663940898e7",
   "metadata": {},
   "outputs": [],
   "source": [
    "temp.LA.value_counts()"
   ]
  },
  {
   "cell_type": "code",
   "execution_count": null,
   "id": "9a71faeb-d2c4-4402-ae35-e12048915987",
   "metadata": {},
   "outputs": [],
   "source": [
    "import matplotlib.pyplot as plt"
   ]
  },
  {
   "cell_type": "code",
   "execution_count": null,
   "id": "891a79c2-1979-4f6e-a91a-a0e0b53088c5",
   "metadata": {},
   "outputs": [],
   "source": [
    "temp.plot(figsize = (15, 7))\n",
    "plt.show()"
   ]
  },
  {
   "cell_type": "code",
   "execution_count": null,
   "id": "d1b3cceb-1aa4-4f50-90a1-105e5055b533",
   "metadata": {},
   "outputs": [],
   "source": [
    "temp.plot(figsize = (15, 7), subplots = True, layout = (1, 2), sharey = True)\n",
    "plt.show()"
   ]
  },
  {
   "cell_type": "markdown",
   "id": "8bc8c7b6-dadc-437b-9142-b569ba14cd28",
   "metadata": {},
   "source": [
    "## **Indexing and slicing**"
   ]
  },
  {
   "cell_type": "code",
   "execution_count": null,
   "id": "34f2f077-09a8-43da-a999-11acf9455524",
   "metadata": {},
   "outputs": [],
   "source": [
    "import pandas as pd\n",
    "import matplotlib.pyplot as plt\n",
    "import seaborn as sns"
   ]
  },
  {
   "cell_type": "code",
   "execution_count": null,
   "id": "2b1997ba-fbcc-4bf5-886c-b113522fe5d7",
   "metadata": {},
   "outputs": [],
   "source": [
    "temp = pd.read_csv('temp.csv', parse_dates = ['datetime'], index_col = 'datetime')"
   ]
  },
  {
   "cell_type": "code",
   "execution_count": null,
   "id": "dfd5c655-b0ed-4d8c-b7a4-7db93635ebec",
   "metadata": {},
   "outputs": [],
   "source": [
    "temp.info()"
   ]
  },
  {
   "cell_type": "code",
   "execution_count": null,
   "id": "88f7ee30-656b-4b1e-8915-4fa3aaaa2451",
   "metadata": {},
   "outputs": [],
   "source": [
    "temp.loc['2013-01-01 01:00:00']"
   ]
  },
  {
   "cell_type": "code",
   "execution_count": null,
   "id": "2b2bd398-49b2-45d3-bc00-e6cb2080b643",
   "metadata": {},
   "outputs": [],
   "source": [
    "temp.loc['2015']"
   ]
  },
  {
   "cell_type": "code",
   "execution_count": null,
   "id": "be3fb6be-dd37-485a-b9f9-82e8c427ea79",
   "metadata": {},
   "outputs": [],
   "source": [
    "temp.loc['2015', 'NY']"
   ]
  },
  {
   "cell_type": "code",
   "execution_count": null,
   "id": "fa359aae-0abc-4c74-852a-08594db38d26",
   "metadata": {},
   "outputs": [],
   "source": [
    "plt.figure(figsize = (12, 7))\n",
    "sns.lineplot(data = temp.loc['2015'])\n",
    "plt.show()"
   ]
  },
  {
   "cell_type": "code",
   "execution_count": null,
   "id": "bf38a77a-4954-44f1-98e9-77b693524359",
   "metadata": {},
   "outputs": [],
   "source": [
    "temp.loc['2015-05']"
   ]
  },
  {
   "cell_type": "code",
   "execution_count": null,
   "id": "a190087f-440e-4c16-8472-f28b8b9283e5",
   "metadata": {},
   "outputs": [],
   "source": [
    "temp.loc['2015-05-01':'2015-05-03']"
   ]
  },
  {
   "cell_type": "code",
   "execution_count": null,
   "id": "eebff762-350a-46c4-8505-1c36104c7baf",
   "metadata": {},
   "outputs": [],
   "source": [
    "temp.loc['2015-05-01':'2016-02-03']"
   ]
  },
  {
   "cell_type": "code",
   "execution_count": null,
   "id": "ec477073-3441-468c-a26a-d35b6b485d46",
   "metadata": {},
   "outputs": [],
   "source": [
    "temp.loc['2015-06-01':]"
   ]
  },
  {
   "cell_type": "code",
   "execution_count": null,
   "id": "a657dbf3-bb2f-49ec-9fce-62cbee76d36c",
   "metadata": {},
   "outputs": [],
   "source": [
    "temp.loc[:'2015-06-01']"
   ]
  },
  {
   "cell_type": "code",
   "execution_count": null,
   "id": "aa679c40-f656-4e0a-87d5-ac6c9d82c0a9",
   "metadata": {},
   "outputs": [],
   "source": [
    "two_timestamps = pd.to_datetime(['2015-05-01 10:00:00', '2015-05-01 12:00:00'])"
   ]
  },
  {
   "cell_type": "code",
   "execution_count": null,
   "id": "6ac7bf38-6a11-420e-9809-7c6aae8d7f6e",
   "metadata": {},
   "outputs": [],
   "source": [
    "temp.loc[two_timestamps]"
   ]
  },
  {
   "cell_type": "markdown",
   "id": "f6383339-7cfe-4768-8af1-1c93acc70737",
   "metadata": {},
   "source": [
    "## **Customizing datetime index using pd.date_range()**"
   ]
  },
  {
   "cell_type": "code",
   "execution_count": null,
   "id": "a50fa605-aad5-4d92-8a20-7fb46c251c70",
   "metadata": {},
   "outputs": [],
   "source": [
    "import pandas as pd"
   ]
  },
  {
   "cell_type": "code",
   "execution_count": null,
   "id": "575183b8-ce86-4daf-8992-2c767acd34ba",
   "metadata": {},
   "outputs": [],
   "source": [
    "pd.to_datetime(['2015-05-20', 'Feb 20 2015'], format = 'mixed')"
   ]
  },
  {
   "cell_type": "code",
   "execution_count": null,
   "id": "e219bd2b-0eef-4fb8-bd6f-6c470207c44d",
   "metadata": {},
   "outputs": [],
   "source": [
    "pd.date_range(start = '2024-05-01', end = '2024-05-31')"
   ]
  },
  {
   "cell_type": "code",
   "execution_count": null,
   "id": "9daec35f-913a-427c-8e28-ce05791cf8cf",
   "metadata": {},
   "outputs": [],
   "source": [
    "pd.date_range(start = '2024-05-01', periods = 31, freq = 'D')"
   ]
  },
  {
   "cell_type": "code",
   "execution_count": null,
   "id": "2e42f3f7-e4ea-4238-b4ed-9382bb6a55a0",
   "metadata": {},
   "outputs": [],
   "source": [
    "pd.date_range(start = '2024-05-01', periods = 31, freq = 'h')"
   ]
  },
  {
   "cell_type": "code",
   "execution_count": null,
   "id": "f97635b0-d8e0-4073-bdae-18b2230b33da",
   "metadata": {},
   "outputs": [],
   "source": [
    "pd.date_range(start = '2024-05-01', periods = 31, freq = 'H')"
   ]
  },
  {
   "cell_type": "code",
   "execution_count": null,
   "id": "685ea56e-c47e-4e83-85a3-59b537aaf380",
   "metadata": {},
   "outputs": [],
   "source": [
    "pd.date_range(start = '2024-05-01', periods = 31, freq = '2h')"
   ]
  },
  {
   "cell_type": "code",
   "execution_count": null,
   "id": "a96b486c-b2bf-4187-8725-87a1de045223",
   "metadata": {},
   "outputs": [],
   "source": [
    "pd.date_range(start = '2024-05-01', periods = 31, freq = 'bh')"
   ]
  },
  {
   "cell_type": "code",
   "execution_count": null,
   "id": "b6f996cc-a01a-4d5f-9ce5-053171da1f49",
   "metadata": {},
   "outputs": [],
   "source": [
    "pd.date_range(start = '2024-05-01', periods = 5, freq = 'W')"
   ]
  },
  {
   "cell_type": "code",
   "execution_count": null,
   "id": "b86b0c0d-1216-49c7-9a16-b446318ed0dc",
   "metadata": {},
   "outputs": [],
   "source": [
    "pd.date_range(start = '2024-05-01', periods = 5, freq = 'W-Mon')"
   ]
  },
  {
   "cell_type": "code",
   "execution_count": null,
   "id": "22ef9826-ae66-4be5-a409-7ec555857c89",
   "metadata": {},
   "outputs": [],
   "source": [
    "pd.date_range(start = '2024-05-01', periods = 5, freq = 'ME')"
   ]
  },
  {
   "cell_type": "code",
   "execution_count": null,
   "id": "4cfec985-4fd8-4ffe-aa93-9036c2614b1b",
   "metadata": {},
   "outputs": [],
   "source": [
    "pd.date_range(start = '2024-05-01', periods = 5, freq = pd.DateOffset(months = 2))"
   ]
  },
  {
   "cell_type": "code",
   "execution_count": null,
   "id": "5395bdeb-8c05-46e9-a91d-eeb7482da8b3",
   "metadata": {},
   "outputs": [],
   "source": [
    "pd.date_range(start = '2024-05-01', periods = 5, freq = 'QS')"
   ]
  },
  {
   "cell_type": "code",
   "execution_count": null,
   "id": "98a87c38-69e2-4126-af61-f015ffa429fe",
   "metadata": {},
   "outputs": [],
   "source": [
    "pd.date_range(start = '2024-05-01', periods = 5, freq = 'AS')"
   ]
  },
  {
   "cell_type": "code",
   "execution_count": null,
   "id": "c1cb8616-5535-4b28-b878-c0f2b290925a",
   "metadata": {},
   "outputs": [],
   "source": [
    "pd.date_range(start = '2024-05-01', periods = 31, freq = 'YE')"
   ]
  },
  {
   "cell_type": "code",
   "execution_count": null,
   "id": "d49fb523-4905-427d-a0e1-6327680ef8ec",
   "metadata": {},
   "outputs": [],
   "source": [
    "pd.date_range(start = '2024-05-01', periods = 10, freq = pd.DateOffset(years = 1))"
   ]
  },
  {
   "cell_type": "code",
   "execution_count": null,
   "id": "dbe30ae4-5eb2-4eae-a86b-8fbd807ba258",
   "metadata": {},
   "outputs": [],
   "source": [
    "pd.date_range(start = '2024-05-01', periods = 10, freq = '2d2h')"
   ]
  },
  {
   "cell_type": "markdown",
   "id": "797172f4-816d-4b87-9419-b71f6ca9bd23",
   "metadata": {},
   "source": [
    "## **Downsampline timeseries with resample()**"
   ]
  },
  {
   "cell_type": "code",
   "execution_count": null,
   "id": "171ca25f-9b06-4807-b278-e8c950eb3997",
   "metadata": {},
   "outputs": [],
   "source": [
    "import pandas as pd\n",
    "import matplotlib.pyplot as plt\n",
    "import seaborn as sns"
   ]
  },
  {
   "cell_type": "code",
   "execution_count": null,
   "id": "62db5491-c4ed-40da-9f6a-56bc8c936e3b",
   "metadata": {},
   "outputs": [],
   "source": [
    "temp = pd.read_csv('temp.csv', parse_dates = ['datetime'], index_col = 'datetime')"
   ]
  },
  {
   "cell_type": "code",
   "execution_count": null,
   "id": "b44d8473-c58a-4392-a420-f75e589b52d5",
   "metadata": {},
   "outputs": [],
   "source": [
    "temp.info()"
   ]
  },
  {
   "cell_type": "code",
   "execution_count": null,
   "id": "60f310f5-e69e-4796-b5df-f059511c67c0",
   "metadata": {},
   "outputs": [],
   "source": [
    "temp.head()"
   ]
  },
  {
   "cell_type": "code",
   "execution_count": null,
   "id": "5d457e0a-de69-4228-8df9-f035fb0137c4",
   "metadata": {},
   "outputs": [],
   "source": [
    "temp.tail()"
   ]
  },
  {
   "cell_type": "code",
   "execution_count": null,
   "id": "94e9c56a-ef31-4cab-9c7c-de56845ad0b7",
   "metadata": {},
   "outputs": [],
   "source": [
    "temp.resample(rule = 'D')"
   ]
  },
  {
   "cell_type": "code",
   "execution_count": null,
   "id": "e64fd9b9-be1f-4393-a0a8-f69e6968f930",
   "metadata": {},
   "outputs": [],
   "source": [
    "list(temp.resample(rule = 'D'))"
   ]
  },
  {
   "cell_type": "code",
   "execution_count": null,
   "id": "1fa8239f-8339-4555-b18c-2bf35173b119",
   "metadata": {},
   "outputs": [],
   "source": [
    "list(temp.resample(rule = 'D'))[0]"
   ]
  },
  {
   "cell_type": "code",
   "execution_count": null,
   "id": "3a80c23a-fa86-4fd1-9806-33862575c227",
   "metadata": {},
   "outputs": [],
   "source": [
    "list(temp.resample(rule = 'D'))[0][1]"
   ]
  },
  {
   "cell_type": "code",
   "execution_count": null,
   "id": "8cf20b08-21a8-4bf1-8966-87e9cace3c01",
   "metadata": {},
   "outputs": [],
   "source": [
    "temp.resample(rule = 'D').first()"
   ]
  },
  {
   "cell_type": "code",
   "execution_count": null,
   "id": "19492cca-03fd-4e5b-b94d-706e921e3aa3",
   "metadata": {},
   "outputs": [],
   "source": [
    "temp.resample(rule = 'D').last()"
   ]
  },
  {
   "cell_type": "code",
   "execution_count": null,
   "id": "e0e97d9f-c8b9-41ee-a0b3-efca174b1310",
   "metadata": {},
   "outputs": [],
   "source": [
    "temp.resample(rule = 'D').mean()"
   ]
  },
  {
   "cell_type": "code",
   "execution_count": null,
   "id": "185bde28-8e6d-4ca0-b251-859e514d4037",
   "metadata": {},
   "outputs": [],
   "source": [
    "list(temp.resample(rule = 'D'))[0][1].loc[:, 'LA'].mean()"
   ]
  },
  {
   "cell_type": "code",
   "execution_count": null,
   "id": "9920bfb8-e948-411d-ad0f-afe33aabcbd0",
   "metadata": {},
   "outputs": [],
   "source": [
    "temp.resample(rule = '2h').first()"
   ]
  },
  {
   "cell_type": "code",
   "execution_count": null,
   "id": "9a83684c-2934-41d0-a948-9a3f6e50a45c",
   "metadata": {},
   "outputs": [],
   "source": [
    "list(temp.resample(rule = '2h'))[1][1]"
   ]
  },
  {
   "cell_type": "code",
   "execution_count": null,
   "id": "ed8f1eb5-5460-4fe0-b0ac-3db299cef3f8",
   "metadata": {},
   "outputs": [],
   "source": [
    "temp.resample(rule = 'W-Mon').first()"
   ]
  },
  {
   "cell_type": "code",
   "execution_count": null,
   "id": "2a1f3156-b70f-4a9f-a3bd-896cda53fc5f",
   "metadata": {},
   "outputs": [],
   "source": [
    "list(temp.resample(rule = 'W-Mon'))[0][1]"
   ]
  },
  {
   "cell_type": "code",
   "execution_count": null,
   "id": "c323ed3e-2250-4e95-a8aa-abaabb9c18dc",
   "metadata": {},
   "outputs": [],
   "source": [
    "temp.resample(rule = 'W-Mon').mean()"
   ]
  },
  {
   "cell_type": "code",
   "execution_count": null,
   "id": "bb2506c8-cccf-41a8-ae93-8182c7677903",
   "metadata": {},
   "outputs": [],
   "source": [
    "list(temp.resample(rule = 'W-Mon'))[0][1].mean()"
   ]
  },
  {
   "cell_type": "code",
   "execution_count": null,
   "id": "06ff7f02-6e0f-47e3-a2e6-2c09726de463",
   "metadata": {},
   "outputs": [],
   "source": [
    "temp.resample(rule = 'ME', kind = 'period').mean()"
   ]
  },
  {
   "cell_type": "code",
   "execution_count": null,
   "id": "d24fa90c-a246-413a-b9e5-93c2710490ac",
   "metadata": {},
   "outputs": [],
   "source": [
    "# This is cell works as the above one, but explicitely transforms index to 'period'\n",
    "temp_1 = temp.resample(rule = 'ME').mean()\n",
    "# temp_1.index = temp_1.index.astype('period[M]')\n",
    "temp_1.index = temp_1.index.to_period()"
   ]
  },
  {
   "cell_type": "code",
   "execution_count": null,
   "id": "48063886-3155-45c2-a9c7-4d362209a463",
   "metadata": {},
   "outputs": [],
   "source": [
    "temp_1"
   ]
  },
  {
   "cell_type": "code",
   "execution_count": null,
   "id": "dfe802f4-7696-4977-b1a6-10a6b843da55",
   "metadata": {},
   "outputs": [],
   "source": [
    "temp_1.plot(kind = 'line', figsize = (10, 5))\n",
    "plt.show()"
   ]
  },
  {
   "cell_type": "code",
   "execution_count": null,
   "id": "1f5be7b5-01ef-4953-9367-d60c7a56731a",
   "metadata": {},
   "outputs": [],
   "source": [
    "temp_2 = temp.resample(rule = 'W').mean()\n",
    "temp_2.index = temp_2.index.to_period()"
   ]
  },
  {
   "cell_type": "code",
   "execution_count": null,
   "id": "4913fcd4-dd5d-4912-9c92-80fc6a3ee278",
   "metadata": {},
   "outputs": [],
   "source": [
    "temp_2"
   ]
  },
  {
   "cell_type": "code",
   "execution_count": null,
   "id": "c037df0a-afbf-4766-8dd2-031a72374bb9",
   "metadata": {},
   "outputs": [],
   "source": [
    "temp_3 = temp.resample(rule = 'QS').mean()\n",
    "temp_3.index = temp_3.index.to_period()\n",
    "temp_3"
   ]
  },
  {
   "cell_type": "markdown",
   "id": "ec531496-b869-4f76-929b-3fd09b6e3400",
   "metadata": {},
   "source": [
    "## **The PeriodIndex object**"
   ]
  },
  {
   "cell_type": "code",
   "execution_count": null,
   "id": "659997d9-cd43-4e66-bf6f-b0b5895e7487",
   "metadata": {},
   "outputs": [],
   "source": [
    "import pandas as pd"
   ]
  },
  {
   "cell_type": "code",
   "execution_count": null,
   "id": "aedc3fcb-492f-427f-a0ab-1ac9ee9aafac",
   "metadata": {},
   "outputs": [],
   "source": [
    "temp = pd.read_csv('temp.csv', parse_dates = ['datetime'], index_col = 'datetime')"
   ]
  },
  {
   "cell_type": "code",
   "execution_count": null,
   "id": "507cde5b-a42f-4e7f-a0e3-946d82fe30f0",
   "metadata": {},
   "outputs": [],
   "source": [
    "temp.info()"
   ]
  },
  {
   "cell_type": "code",
   "execution_count": null,
   "id": "40039cd0-c1e6-4d6b-adf9-8f2867659428",
   "metadata": {},
   "outputs": [],
   "source": [
    "temp.head()"
   ]
  },
  {
   "cell_type": "code",
   "execution_count": null,
   "id": "a8a6a37d-b552-4b61-97fc-f49f37635112",
   "metadata": {},
   "outputs": [],
   "source": [
    "temp.tail()"
   ]
  },
  {
   "cell_type": "code",
   "execution_count": null,
   "id": "c06b8347-e1f8-4715-91b4-d5574ac6bd13",
   "metadata": {},
   "outputs": [],
   "source": [
    "temp_m1 = temp.resample(rule = 'M').mean()"
   ]
  },
  {
   "cell_type": "code",
   "execution_count": null,
   "id": "f4332649-2758-4d7d-97a4-d77c7dd84046",
   "metadata": {},
   "outputs": [],
   "source": [
    "temp_m1"
   ]
  },
  {
   "cell_type": "code",
   "execution_count": null,
   "id": "711b081f-39db-44ef-9df1-6087a8f5c555",
   "metadata": {},
   "outputs": [],
   "source": [
    "temp_m1.loc['2013']"
   ]
  },
  {
   "cell_type": "code",
   "execution_count": null,
   "id": "9b6e5561-bf20-44ec-9172-6e6c50ae5988",
   "metadata": {},
   "outputs": [],
   "source": [
    "temp_m1.loc['2013-01']"
   ]
  },
  {
   "cell_type": "code",
   "execution_count": null,
   "id": "1162daf6-5881-4e4a-a226-fbc814cc9836",
   "metadata": {},
   "outputs": [],
   "source": [
    "temp_m1.loc['2013-01':'2013-08']"
   ]
  },
  {
   "cell_type": "code",
   "execution_count": null,
   "id": "0bd7dc1b-2eb3-45c1-ba75-4e16000f76b1",
   "metadata": {},
   "outputs": [],
   "source": [
    "temp_m2 = temp.resample(rule = 'MS').mean()\n",
    "temp_m2.index = temp_m2.index.to_period()"
   ]
  },
  {
   "cell_type": "code",
   "execution_count": null,
   "id": "e4a1e49d-1a84-4cf1-9b65-8d454751b14f",
   "metadata": {},
   "outputs": [],
   "source": [
    "temp_m2"
   ]
  },
  {
   "cell_type": "code",
   "execution_count": null,
   "id": "b9fc018e-e0ae-44ef-808b-bae201dde224",
   "metadata": {},
   "outputs": [],
   "source": [
    "temp_m2.loc['2013']"
   ]
  },
  {
   "cell_type": "code",
   "execution_count": null,
   "id": "bc61a6fe-7b28-4ffd-be50-da2a8acb4246",
   "metadata": {},
   "outputs": [],
   "source": [
    "temp_m2.loc['2013-01']"
   ]
  },
  {
   "cell_type": "code",
   "execution_count": null,
   "id": "dac14055-f878-4f53-a46d-7c0d4a4b275f",
   "metadata": {},
   "outputs": [],
   "source": [
    "temp_m2.loc['2013-01':'2014-02']"
   ]
  },
  {
   "cell_type": "markdown",
   "id": "afe713ce-34b2-4874-bcaa-4858149767ea",
   "metadata": {},
   "source": [
    "## **Advenced indexing with reindex()**"
   ]
  },
  {
   "cell_type": "code",
   "execution_count": 1,
   "id": "bd862704-d8b6-47f5-aa48-d7944ec94c4b",
   "metadata": {},
   "outputs": [],
   "source": [
    "import pandas as pd"
   ]
  },
  {
   "cell_type": "code",
   "execution_count": 4,
   "id": "e9d0b578-c940-458b-a568-b1dce2c1a70e",
   "metadata": {},
   "outputs": [],
   "source": [
    "temp = pd.read_csv('temp.csv', parse_dates = ['datetime'], index_col = 'datetime')"
   ]
  },
  {
   "cell_type": "code",
   "execution_count": 5,
   "id": "9b74c4f0-343e-4a65-bd2f-49d6a7ee5c4f",
   "metadata": {},
   "outputs": [
    {
     "name": "stdout",
     "output_type": "stream",
     "text": [
      "<class 'pandas.core.frame.DataFrame'>\n",
      "DatetimeIndex: 35064 entries, 2013-01-01 00:00:00 to 2016-12-31 23:00:00\n",
      "Data columns (total 2 columns):\n",
      " #   Column  Non-Null Count  Dtype  \n",
      "---  ------  --------------  -----  \n",
      " 0   LA      35062 non-null  float64\n",
      " 1   NY      35064 non-null  float64\n",
      "dtypes: float64(2)\n",
      "memory usage: 821.8 KB\n"
     ]
    }
   ],
   "source": [
    "temp.info()"
   ]
  },
  {
   "cell_type": "code",
   "execution_count": 6,
   "id": "ed34fed0-c317-4d22-a4fd-41ecadd0bf66",
   "metadata": {},
   "outputs": [
    {
     "data": {
      "text/html": [
       "<div>\n",
       "<style scoped>\n",
       "    .dataframe tbody tr th:only-of-type {\n",
       "        vertical-align: middle;\n",
       "    }\n",
       "\n",
       "    .dataframe tbody tr th {\n",
       "        vertical-align: top;\n",
       "    }\n",
       "\n",
       "    .dataframe thead th {\n",
       "        text-align: right;\n",
       "    }\n",
       "</style>\n",
       "<table border=\"1\" class=\"dataframe\">\n",
       "  <thead>\n",
       "    <tr style=\"text-align: right;\">\n",
       "      <th></th>\n",
       "      <th>LA</th>\n",
       "      <th>NY</th>\n",
       "    </tr>\n",
       "    <tr>\n",
       "      <th>datetime</th>\n",
       "      <th></th>\n",
       "      <th></th>\n",
       "    </tr>\n",
       "  </thead>\n",
       "  <tbody>\n",
       "    <tr>\n",
       "      <th>2013-01-01 00:00:00</th>\n",
       "      <td>11.7</td>\n",
       "      <td>-1.1</td>\n",
       "    </tr>\n",
       "    <tr>\n",
       "      <th>2013-01-01 01:00:00</th>\n",
       "      <td>10.7</td>\n",
       "      <td>-1.7</td>\n",
       "    </tr>\n",
       "    <tr>\n",
       "      <th>2013-01-01 02:00:00</th>\n",
       "      <td>9.9</td>\n",
       "      <td>-2.0</td>\n",
       "    </tr>\n",
       "    <tr>\n",
       "      <th>2013-01-01 03:00:00</th>\n",
       "      <td>9.3</td>\n",
       "      <td>-2.1</td>\n",
       "    </tr>\n",
       "    <tr>\n",
       "      <th>2013-01-01 04:00:00</th>\n",
       "      <td>8.8</td>\n",
       "      <td>-2.3</td>\n",
       "    </tr>\n",
       "  </tbody>\n",
       "</table>\n",
       "</div>"
      ],
      "text/plain": [
       "                       LA   NY\n",
       "datetime                      \n",
       "2013-01-01 00:00:00  11.7 -1.1\n",
       "2013-01-01 01:00:00  10.7 -1.7\n",
       "2013-01-01 02:00:00   9.9 -2.0\n",
       "2013-01-01 03:00:00   9.3 -2.1\n",
       "2013-01-01 04:00:00   8.8 -2.3"
      ]
     },
     "execution_count": 6,
     "metadata": {},
     "output_type": "execute_result"
    }
   ],
   "source": [
    "temp.head()"
   ]
  },
  {
   "cell_type": "code",
   "execution_count": 7,
   "id": "f5f6c461-9b09-4dfd-b03f-70226753a03f",
   "metadata": {},
   "outputs": [
    {
     "data": {
      "text/html": [
       "<div>\n",
       "<style scoped>\n",
       "    .dataframe tbody tr th:only-of-type {\n",
       "        vertical-align: middle;\n",
       "    }\n",
       "\n",
       "    .dataframe tbody tr th {\n",
       "        vertical-align: top;\n",
       "    }\n",
       "\n",
       "    .dataframe thead th {\n",
       "        text-align: right;\n",
       "    }\n",
       "</style>\n",
       "<table border=\"1\" class=\"dataframe\">\n",
       "  <thead>\n",
       "    <tr style=\"text-align: right;\">\n",
       "      <th></th>\n",
       "      <th>LA</th>\n",
       "      <th>NY</th>\n",
       "    </tr>\n",
       "    <tr>\n",
       "      <th>datetime</th>\n",
       "      <th></th>\n",
       "      <th></th>\n",
       "    </tr>\n",
       "  </thead>\n",
       "  <tbody>\n",
       "    <tr>\n",
       "      <th>2016-12-31 19:00:00</th>\n",
       "      <td>13.5</td>\n",
       "      <td>4.6</td>\n",
       "    </tr>\n",
       "    <tr>\n",
       "      <th>2016-12-31 20:00:00</th>\n",
       "      <td>13.2</td>\n",
       "      <td>5.7</td>\n",
       "    </tr>\n",
       "    <tr>\n",
       "      <th>2016-12-31 21:00:00</th>\n",
       "      <td>12.8</td>\n",
       "      <td>5.8</td>\n",
       "    </tr>\n",
       "    <tr>\n",
       "      <th>2016-12-31 22:00:00</th>\n",
       "      <td>12.3</td>\n",
       "      <td>5.7</td>\n",
       "    </tr>\n",
       "    <tr>\n",
       "      <th>2016-12-31 23:00:00</th>\n",
       "      <td>11.9</td>\n",
       "      <td>5.5</td>\n",
       "    </tr>\n",
       "  </tbody>\n",
       "</table>\n",
       "</div>"
      ],
      "text/plain": [
       "                       LA   NY\n",
       "datetime                      \n",
       "2016-12-31 19:00:00  13.5  4.6\n",
       "2016-12-31 20:00:00  13.2  5.7\n",
       "2016-12-31 21:00:00  12.8  5.8\n",
       "2016-12-31 22:00:00  12.3  5.7\n",
       "2016-12-31 23:00:00  11.9  5.5"
      ]
     },
     "execution_count": 7,
     "metadata": {},
     "output_type": "execute_result"
    }
   ],
   "source": [
    "temp.tail()"
   ]
  },
  {
   "cell_type": "code",
   "execution_count": 8,
   "id": "18051a69-f8dc-4263-afdf-71da8b5e6347",
   "metadata": {},
   "outputs": [],
   "source": [
    "temp_D = temp.resample(rule = 'D').mean()"
   ]
  },
  {
   "cell_type": "code",
   "execution_count": 9,
   "id": "ea475fd4-e8ac-40d8-a0d0-5b3d24b93bba",
   "metadata": {},
   "outputs": [
    {
     "data": {
      "text/html": [
       "<div>\n",
       "<style scoped>\n",
       "    .dataframe tbody tr th:only-of-type {\n",
       "        vertical-align: middle;\n",
       "    }\n",
       "\n",
       "    .dataframe tbody tr th {\n",
       "        vertical-align: top;\n",
       "    }\n",
       "\n",
       "    .dataframe thead th {\n",
       "        text-align: right;\n",
       "    }\n",
       "</style>\n",
       "<table border=\"1\" class=\"dataframe\">\n",
       "  <thead>\n",
       "    <tr style=\"text-align: right;\">\n",
       "      <th></th>\n",
       "      <th>LA</th>\n",
       "      <th>NY</th>\n",
       "    </tr>\n",
       "    <tr>\n",
       "      <th>datetime</th>\n",
       "      <th></th>\n",
       "      <th></th>\n",
       "    </tr>\n",
       "  </thead>\n",
       "  <tbody>\n",
       "    <tr>\n",
       "      <th>2013-01-01</th>\n",
       "      <td>8.858333</td>\n",
       "      <td>-0.404167</td>\n",
       "    </tr>\n",
       "    <tr>\n",
       "      <th>2013-01-02</th>\n",
       "      <td>9.283333</td>\n",
       "      <td>3.208333</td>\n",
       "    </tr>\n",
       "    <tr>\n",
       "      <th>2013-01-03</th>\n",
       "      <td>10.304167</td>\n",
       "      <td>-2.425000</td>\n",
       "    </tr>\n",
       "    <tr>\n",
       "      <th>2013-01-04</th>\n",
       "      <td>11.512500</td>\n",
       "      <td>-2.070833</td>\n",
       "    </tr>\n",
       "    <tr>\n",
       "      <th>2013-01-05</th>\n",
       "      <td>11.083333</td>\n",
       "      <td>0.816667</td>\n",
       "    </tr>\n",
       "    <tr>\n",
       "      <th>...</th>\n",
       "      <td>...</td>\n",
       "      <td>...</td>\n",
       "    </tr>\n",
       "    <tr>\n",
       "      <th>2016-12-27</th>\n",
       "      <td>12.154167</td>\n",
       "      <td>10.579167</td>\n",
       "    </tr>\n",
       "    <tr>\n",
       "      <th>2016-12-28</th>\n",
       "      <td>14.433333</td>\n",
       "      <td>4.016667</td>\n",
       "    </tr>\n",
       "    <tr>\n",
       "      <th>2016-12-29</th>\n",
       "      <td>16.045833</td>\n",
       "      <td>1.312500</td>\n",
       "    </tr>\n",
       "    <tr>\n",
       "      <th>2016-12-30</th>\n",
       "      <td>15.933333</td>\n",
       "      <td>2.204167</td>\n",
       "    </tr>\n",
       "    <tr>\n",
       "      <th>2016-12-31</th>\n",
       "      <td>13.275000</td>\n",
       "      <td>1.204167</td>\n",
       "    </tr>\n",
       "  </tbody>\n",
       "</table>\n",
       "<p>1461 rows × 2 columns</p>\n",
       "</div>"
      ],
      "text/plain": [
       "                   LA         NY\n",
       "datetime                        \n",
       "2013-01-01   8.858333  -0.404167\n",
       "2013-01-02   9.283333   3.208333\n",
       "2013-01-03  10.304167  -2.425000\n",
       "2013-01-04  11.512500  -2.070833\n",
       "2013-01-05  11.083333   0.816667\n",
       "...               ...        ...\n",
       "2016-12-27  12.154167  10.579167\n",
       "2016-12-28  14.433333   4.016667\n",
       "2016-12-29  16.045833   1.312500\n",
       "2016-12-30  15.933333   2.204167\n",
       "2016-12-31  13.275000   1.204167\n",
       "\n",
       "[1461 rows x 2 columns]"
      ]
     },
     "execution_count": 9,
     "metadata": {},
     "output_type": "execute_result"
    }
   ],
   "source": [
    "temp_D"
   ]
  },
  {
   "cell_type": "code",
   "execution_count": 15,
   "id": "f7de6d05-be49-4a59-bdac-d72fa197bcf6",
   "metadata": {},
   "outputs": [
    {
     "data": {
      "text/plain": [
       "DatetimeIndex(['2007-12-24', '2008-12-24', '2009-12-24', '2010-12-24',\n",
       "               '2011-12-24', '2012-12-24', '2013-12-24', '2014-12-24',\n",
       "               '2015-12-24', '2016-12-24'],\n",
       "              dtype='datetime64[ns]', freq='<DateOffset: years=1>')"
      ]
     },
     "execution_count": 15,
     "metadata": {},
     "output_type": "execute_result"
    }
   ],
   "source": [
    "xmas = pd.date_range(end = '2016-12-24', periods = 10, freq = pd.DateOffset(years = 1))\n",
    "xmas"
   ]
  },
  {
   "cell_type": "code",
   "execution_count": 18,
   "id": "f7d07676-07ae-43bd-94a7-017a19b0d19e",
   "metadata": {},
   "outputs": [
    {
     "data": {
      "text/html": [
       "<div>\n",
       "<style scoped>\n",
       "    .dataframe tbody tr th:only-of-type {\n",
       "        vertical-align: middle;\n",
       "    }\n",
       "\n",
       "    .dataframe tbody tr th {\n",
       "        vertical-align: top;\n",
       "    }\n",
       "\n",
       "    .dataframe thead th {\n",
       "        text-align: right;\n",
       "    }\n",
       "</style>\n",
       "<table border=\"1\" class=\"dataframe\">\n",
       "  <thead>\n",
       "    <tr style=\"text-align: right;\">\n",
       "      <th></th>\n",
       "      <th>LA</th>\n",
       "      <th>NY</th>\n",
       "    </tr>\n",
       "  </thead>\n",
       "  <tbody>\n",
       "    <tr>\n",
       "      <th>2007-12-24</th>\n",
       "      <td>NaN</td>\n",
       "      <td>NaN</td>\n",
       "    </tr>\n",
       "    <tr>\n",
       "      <th>2008-12-24</th>\n",
       "      <td>NaN</td>\n",
       "      <td>NaN</td>\n",
       "    </tr>\n",
       "    <tr>\n",
       "      <th>2009-12-24</th>\n",
       "      <td>NaN</td>\n",
       "      <td>NaN</td>\n",
       "    </tr>\n",
       "    <tr>\n",
       "      <th>2010-12-24</th>\n",
       "      <td>NaN</td>\n",
       "      <td>NaN</td>\n",
       "    </tr>\n",
       "    <tr>\n",
       "      <th>2011-12-24</th>\n",
       "      <td>NaN</td>\n",
       "      <td>NaN</td>\n",
       "    </tr>\n",
       "    <tr>\n",
       "      <th>2012-12-24</th>\n",
       "      <td>NaN</td>\n",
       "      <td>NaN</td>\n",
       "    </tr>\n",
       "    <tr>\n",
       "      <th>2013-12-24</th>\n",
       "      <td>16.158333</td>\n",
       "      <td>3.487500</td>\n",
       "    </tr>\n",
       "    <tr>\n",
       "      <th>2014-12-24</th>\n",
       "      <td>10.712500</td>\n",
       "      <td>8.045833</td>\n",
       "    </tr>\n",
       "    <tr>\n",
       "      <th>2015-12-24</th>\n",
       "      <td>10.716667</td>\n",
       "      <td>17.462500</td>\n",
       "    </tr>\n",
       "    <tr>\n",
       "      <th>2016-12-24</th>\n",
       "      <td>11.820833</td>\n",
       "      <td>4.045833</td>\n",
       "    </tr>\n",
       "  </tbody>\n",
       "</table>\n",
       "</div>"
      ],
      "text/plain": [
       "                   LA         NY\n",
       "2007-12-24        NaN        NaN\n",
       "2008-12-24        NaN        NaN\n",
       "2009-12-24        NaN        NaN\n",
       "2010-12-24        NaN        NaN\n",
       "2011-12-24        NaN        NaN\n",
       "2012-12-24        NaN        NaN\n",
       "2013-12-24  16.158333   3.487500\n",
       "2014-12-24  10.712500   8.045833\n",
       "2015-12-24  10.716667  17.462500\n",
       "2016-12-24  11.820833   4.045833"
      ]
     },
     "execution_count": 18,
     "metadata": {},
     "output_type": "execute_result"
    }
   ],
   "source": [
    "temp_D.reindex(xmas)"
   ]
  },
  {
   "cell_type": "code",
   "execution_count": null,
   "id": "e8aef28e-0bdb-4bbc-91b1-6a0c63d2abea",
   "metadata": {},
   "outputs": [],
   "source": []
  }
 ],
 "metadata": {
  "kernelspec": {
   "display_name": "Python 3 (ipykernel)",
   "language": "python",
   "name": "python3"
  },
  "language_info": {
   "codemirror_mode": {
    "name": "ipython",
    "version": 3
   },
   "file_extension": ".py",
   "mimetype": "text/x-python",
   "name": "python",
   "nbconvert_exporter": "python",
   "pygments_lexer": "ipython3",
   "version": "3.11.7"
  }
 },
 "nbformat": 4,
 "nbformat_minor": 5
}
