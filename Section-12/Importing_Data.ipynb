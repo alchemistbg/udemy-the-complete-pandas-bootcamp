{
 "cells": [
  {
   "cell_type": "markdown",
   "id": "beb6a045-1f89-46bf-8c17-7f230f046d00",
   "metadata": {},
   "source": [
    "# **Importing data**"
   ]
  },
  {
   "cell_type": "markdown",
   "id": "20f0c393-2b33-4804-8939-7f34a15ba96f",
   "metadata": {},
   "source": [
    "## **Importing clean .csv files**"
   ]
  },
  {
   "cell_type": "code",
   "execution_count": null,
   "id": "854d79f6-0432-4f06-b732-a66c0d4008aa",
   "metadata": {},
   "outputs": [],
   "source": [
    "with open('titanic.csv') as f:\n",
    "    text = f.readlines()"
   ]
  },
  {
   "cell_type": "code",
   "execution_count": null,
   "id": "397b2316-c1d4-4dd3-ab4a-e04b176df028",
   "metadata": {},
   "outputs": [],
   "source": [
    "text"
   ]
  },
  {
   "cell_type": "code",
   "execution_count": null,
   "id": "1ecd929c-d385-4de2-a616-39e5fca32614",
   "metadata": {},
   "outputs": [],
   "source": [
    "len(text)"
   ]
  },
  {
   "cell_type": "code",
   "execution_count": null,
   "id": "1bc5a1b3-733f-4129-944e-a59bf9c5bff1",
   "metadata": {},
   "outputs": [],
   "source": [
    "import pandas as pd"
   ]
  },
  {
   "cell_type": "code",
   "execution_count": null,
   "id": "d266ae9c-dcda-4522-9aca-4fc4818fe03d",
   "metadata": {},
   "outputs": [],
   "source": [
    "pd.read_csv('titanic.csv')"
   ]
  },
  {
   "cell_type": "code",
   "execution_count": null,
   "id": "9bb25d4f-60f9-4a16-8f3d-c11618ab6826",
   "metadata": {},
   "outputs": [],
   "source": [
    "pd.read_csv('titanic.csv', index_col = 'pclass')"
   ]
  },
  {
   "cell_type": "code",
   "execution_count": null,
   "id": "d68ea99c-be69-4f67-b3a9-8a040874cf1d",
   "metadata": {},
   "outputs": [],
   "source": [
    "pd.read_csv('titanic.csv', header = 0)"
   ]
  },
  {
   "cell_type": "code",
   "execution_count": null,
   "id": "34d1e830-e3cb-4a03-95fa-51f9ff4a5a9b",
   "metadata": {},
   "outputs": [],
   "source": [
    "pd.read_csv('titanic.csv', header = None)"
   ]
  },
  {
   "cell_type": "code",
   "execution_count": null,
   "id": "28234624-8b2b-4bc2-a981-d1d49885227d",
   "metadata": {},
   "outputs": [],
   "source": [
    "pd.read_csv('titanic.csv', header = 0, names = ['alive', 'class', 'gender', 'age', 'sibsp', 'parch', 'price', 'emb', 'deck'])"
   ]
  },
  {
   "cell_type": "code",
   "execution_count": null,
   "id": "f1bbc4e0-5a94-4c6e-a81b-da4bbb1fffbc",
   "metadata": {},
   "outputs": [],
   "source": [
    "pd.read_csv('titanic.csv', header = 0, usecols = ['age', 'sex'])"
   ]
  },
  {
   "cell_type": "code",
   "execution_count": null,
   "id": "4660b7da-68df-4d81-b84b-23fc16cb223c",
   "metadata": {},
   "outputs": [],
   "source": [
    "df = pd.read_csv('titanic.csv', header = 0, index_col = 'pclass', usecols = ['pclass', 'age', 'sex'])"
   ]
  },
  {
   "cell_type": "code",
   "execution_count": null,
   "id": "e6ab4b90-6169-48e0-b150-9c96d9cb9be3",
   "metadata": {},
   "outputs": [],
   "source": [
    "df.head()"
   ]
  },
  {
   "cell_type": "code",
   "execution_count": null,
   "id": "0fc45881-9081-49cc-8eac-e3f8a44c0dda",
   "metadata": {},
   "outputs": [],
   "source": [
    "df.columns = ['gender', 'age']"
   ]
  },
  {
   "cell_type": "code",
   "execution_count": null,
   "id": "135ebb17-84b6-411a-aac2-e32b7b3d98a8",
   "metadata": {},
   "outputs": [],
   "source": [
    "df.head()"
   ]
  },
  {
   "cell_type": "code",
   "execution_count": null,
   "id": "e7adf641-1bed-4e21-b808-ecdb5e970a45",
   "metadata": {},
   "outputs": [],
   "source": [
    "df.index.name = 'class'"
   ]
  },
  {
   "cell_type": "code",
   "execution_count": null,
   "id": "dbff6dbe-c519-4a65-9138-bc1b9310297f",
   "metadata": {},
   "outputs": [],
   "source": [
    "df.head()"
   ]
  },
  {
   "cell_type": "markdown",
   "id": "7bbe0829-f08e-41a6-9b1f-de246f7a6071",
   "metadata": {},
   "source": [
    "## **Importing messy .csv files**"
   ]
  },
  {
   "cell_type": "code",
   "execution_count": null,
   "id": "247a82e9-44bc-4884-a37c-1e1147ed443d",
   "metadata": {},
   "outputs": [],
   "source": [
    "import pandas as pd"
   ]
  },
  {
   "cell_type": "code",
   "execution_count": null,
   "id": "525df5fe-3ac4-4250-9eb8-6464e4f428cc",
   "metadata": {},
   "outputs": [],
   "source": [
    "pd.read_csv('titanic_raw.csv')"
   ]
  },
  {
   "cell_type": "code",
   "execution_count": null,
   "id": "61d815c0-641f-490f-9e22-a5575a6ed843",
   "metadata": {
    "scrolled": true
   },
   "outputs": [],
   "source": [
    "pd.read_csv('titanic_raw.csv', skiprows = 3, skipfooter = 2)"
   ]
  },
  {
   "cell_type": "code",
   "execution_count": null,
   "id": "3d78ae09-607d-4737-ad55-c961c6417e96",
   "metadata": {},
   "outputs": [],
   "source": [
    "col_names = ['Survived', 'Class', 'Gender', 'Age', 'SipSp', 'ParCh', 'Fare', 'Emb', 'Deck']"
   ]
  },
  {
   "cell_type": "code",
   "execution_count": null,
   "id": "1630ebc6-0eac-449b-971a-e4e2487d77b9",
   "metadata": {},
   "outputs": [],
   "source": [
    "titanic = pd.read_csv('titanic_raw.csv', skiprows = 3, skipfooter = 2, header = None, names = col_names)"
   ]
  },
  {
   "cell_type": "code",
   "execution_count": null,
   "id": "53e8094d-d568-4ad8-9d36-9e4e6581514b",
   "metadata": {},
   "outputs": [],
   "source": [
    "titanic.to_csv('titanic_imp.csv', index = False)"
   ]
  },
  {
   "cell_type": "code",
   "execution_count": null,
   "id": "a10dffd1-5e6f-4764-83c6-95636eaef15e",
   "metadata": {},
   "outputs": [],
   "source": [
    "pd.read_csv('titanic_imp.csv')"
   ]
  },
  {
   "cell_type": "markdown",
   "id": "fe95cdb4-d1b5-407b-b590-8a6b0788328b",
   "metadata": {},
   "source": [
    "## **Importing clean .xls(x) files**"
   ]
  },
  {
   "cell_type": "code",
   "execution_count": null,
   "id": "055cc993-fa51-4251-afe7-e11d751a6e7d",
   "metadata": {},
   "outputs": [],
   "source": [
    "import pandas as pd"
   ]
  },
  {
   "cell_type": "code",
   "execution_count": null,
   "id": "950a3f68-4a19-4eef-85d0-71714fc3924c",
   "metadata": {},
   "outputs": [],
   "source": [
    "sales = pd.read_excel('sales.xls')"
   ]
  },
  {
   "cell_type": "code",
   "execution_count": null,
   "id": "f30842c4-9f06-4ee6-84c1-1610851a68d3",
   "metadata": {},
   "outputs": [],
   "source": [
    "sales.info()"
   ]
  },
  {
   "cell_type": "code",
   "execution_count": null,
   "id": "7414a362-ffe8-4cce-819d-cf43a5361085",
   "metadata": {},
   "outputs": [],
   "source": [
    "sales.describe()"
   ]
  },
  {
   "cell_type": "code",
   "execution_count": null,
   "id": "25b9470d-58e8-47da-b6fa-0e9f85684814",
   "metadata": {},
   "outputs": [],
   "source": [
    "sales.head()"
   ]
  },
  {
   "cell_type": "code",
   "execution_count": null,
   "id": "ecaf0934-0d04-4276-ac34-31735e6cf308",
   "metadata": {},
   "outputs": [],
   "source": [
    "pd.read_excel('sales.xls', index_col = 0)"
   ]
  },
  {
   "cell_type": "code",
   "execution_count": null,
   "id": "6b742233-df5c-41be-81e8-1c0da4db7d69",
   "metadata": {},
   "outputs": [],
   "source": [
    "pd.read_excel('sales.xls', index_col = 0, header = 0)"
   ]
  },
  {
   "cell_type": "code",
   "execution_count": null,
   "id": "30092990-2bcf-40a5-8785-bb7a7f5d5d77",
   "metadata": {},
   "outputs": [],
   "source": [
    "pd.read_excel('sales.xls', index_col = 0, header = 0, names = ['Name', 'Loc_City', 'Loc_Country', 'Revenue', 'Add_Comp'])"
   ]
  },
  {
   "cell_type": "code",
   "execution_count": null,
   "id": "32b10248-ac5c-4814-a9e7-7279fe1703aa",
   "metadata": {},
   "outputs": [],
   "source": [
    "pd.read_excel('sales.xls', index_col = 0, header = 0, usecols = 'A')"
   ]
  },
  {
   "cell_type": "code",
   "execution_count": null,
   "id": "398ceb56-2d9c-4016-896a-53cb03e21378",
   "metadata": {},
   "outputs": [],
   "source": [
    "pd.read_excel('sales.xls', index_col = 0, header = 0, usecols = 'A:C')"
   ]
  },
  {
   "cell_type": "code",
   "execution_count": null,
   "id": "f1ee2407-4414-4a26-8b44-d7f4061b4d93",
   "metadata": {},
   "outputs": [],
   "source": [
    "pd.read_excel('sales.xls', index_col = 0, header = 0, usecols = 'A, C:E')"
   ]
  },
  {
   "cell_type": "code",
   "execution_count": null,
   "id": "2c105c3f-1ea5-4d01-bbff-5b973ad819e4",
   "metadata": {},
   "outputs": [],
   "source": [
    "pd.read_excel('sales.xls', index_col = 0, header = 0, usecols = ':C')"
   ]
  },
  {
   "cell_type": "code",
   "execution_count": null,
   "id": "701b5bf6-fc6e-4ddb-98aa-6092aa83f9f9",
   "metadata": {},
   "outputs": [],
   "source": [
    "pd.read_excel('sales.xls', index_col = 0, header = 0, usecols = [0, 3, 4])"
   ]
  },
  {
   "cell_type": "code",
   "execution_count": null,
   "id": "b601e8eb-3149-4fbf-afb3-9d109a565653",
   "metadata": {},
   "outputs": [],
   "source": [
    "pd.read_excel('sales.xls', index_col = 0, header = 0, usecols = [0])"
   ]
  },
  {
   "cell_type": "code",
   "execution_count": null,
   "id": "177ae8f6-20a4-4fea-95ea-9eb5e7d09443",
   "metadata": {},
   "outputs": [],
   "source": [
    "pd.read_excel('sales.xls', index_col = 0, header = 0, usecols = ['Sales', 'Bonus'])"
   ]
  },
  {
   "cell_type": "markdown",
   "id": "210c5b8d-3246-4821-9e9e-d31ae381603a",
   "metadata": {},
   "source": [
    "## **Importing messy .xls(x) files**"
   ]
  },
  {
   "cell_type": "code",
   "execution_count": null,
   "id": "638fded0-372a-48b7-93a8-3767f45b2ab9",
   "metadata": {},
   "outputs": [],
   "source": [
    "import pandas as pd"
   ]
  },
  {
   "cell_type": "code",
   "execution_count": null,
   "id": "21863be7-1e5d-4d7b-8e57-946b920e16c8",
   "metadata": {},
   "outputs": [],
   "source": [
    "pd.read_excel('summer_raw.xls')"
   ]
  },
  {
   "cell_type": "code",
   "execution_count": null,
   "id": "9d6013a5-2180-4cd6-b5dd-9197414ba665",
   "metadata": {},
   "outputs": [],
   "source": [
    "# pd.read_excel('summer_raw.xls', sheet_name = 'summer', header = 2, usecols = list(range(2, 10)), index_col = 0)"
   ]
  },
  {
   "cell_type": "code",
   "execution_count": null,
   "id": "fb513de3-28dd-45ce-a5ed-1cacc9483fa5",
   "metadata": {},
   "outputs": [],
   "source": [
    "pd.read_excel('summer_raw.xls')"
   ]
  },
  {
   "cell_type": "code",
   "execution_count": null,
   "id": "22f8cec7-f604-4815-936a-68ddb1bff148",
   "metadata": {},
   "outputs": [],
   "source": [
    "pd.read_excel('summer_raw.xls', sheet_name = 'summer') \n",
    "# Alternative\n",
    "# pd.read_excel('summer_raw.xls', sheet_name = 1)"
   ]
  },
  {
   "cell_type": "code",
   "execution_count": null,
   "id": "78a95510-6a84-4ec9-9c9d-45bdae26d68d",
   "metadata": {},
   "outputs": [],
   "source": [
    "pd.read_excel('summer_raw.xls', sheet_name = 'summer', skiprows = 2) "
   ]
  },
  {
   "cell_type": "code",
   "execution_count": null,
   "id": "836dfda8-c339-4ebf-9e53-ae03e5c021cf",
   "metadata": {},
   "outputs": [],
   "source": [
    "pd.read_excel('summer_raw.xls', sheet_name = 'summer', skiprows = 2, usecols = \"D:L\")\n",
    "# Alternative\n",
    "# pd.read_excel('summer_raw.xls', sheet_name = 'summer', skiprows = 2, usecols = \"C:L\", index_col = 0)"
   ]
  },
  {
   "cell_type": "code",
   "execution_count": null,
   "id": "d829b2bb-bf16-430c-85ff-6b88d9325c45",
   "metadata": {},
   "outputs": [],
   "source": [
    "summer = pd.read_excel('summer_raw.xls', sheet_name = 'summer', skiprows = 2, usecols = \"D:L\")"
   ]
  },
  {
   "cell_type": "code",
   "execution_count": null,
   "id": "d361ef9f-9dad-4cd5-a059-9b1d3a8955c1",
   "metadata": {},
   "outputs": [],
   "source": [
    "summer.info()"
   ]
  },
  {
   "cell_type": "code",
   "execution_count": null,
   "id": "a8c1fbd5-7f6e-4093-a973-fa554e346457",
   "metadata": {},
   "outputs": [],
   "source": [
    "summer.describe()"
   ]
  },
  {
   "cell_type": "code",
   "execution_count": null,
   "id": "e3b0f584-c4fb-403d-99cb-133c551b2969",
   "metadata": {},
   "outputs": [],
   "source": [
    "summer.head()"
   ]
  },
  {
   "cell_type": "code",
   "execution_count": null,
   "id": "274964cd-1d8c-4ffa-9369-e15115db4287",
   "metadata": {},
   "outputs": [],
   "source": [
    "summer.to_csv('summer_imp.csv', index = False)"
   ]
  },
  {
   "cell_type": "code",
   "execution_count": null,
   "id": "1bb9eb2a-7cc9-4f8b-ae5b-6f5c1e6e3061",
   "metadata": {},
   "outputs": [],
   "source": [
    "summer.to_excel('summer_imp.xlsx', index = False, engine = 'xlsxwriter')"
   ]
  },
  {
   "cell_type": "markdown",
   "id": "dab3e572-d787-45da-abb1-2126400cafc4",
   "metadata": {},
   "source": [
    "## **Importing Data from the Web**"
   ]
  },
  {
   "cell_type": "code",
   "execution_count": 1,
   "id": "9d21e9ef-a41b-4ffa-984d-b314c5c1eb9f",
   "metadata": {},
   "outputs": [],
   "source": [
    "import pandas as pd"
   ]
  },
  {
   "cell_type": "code",
   "execution_count": 17,
   "id": "1b3d05a6-5bd6-40f2-818d-15fc0dc020e4",
   "metadata": {},
   "outputs": [],
   "source": [
    "url_1 = 'https://en.wikipedia.org/wiki/1976_Summer_Olympics_medal_table'"
   ]
  },
  {
   "cell_type": "code",
   "execution_count": 18,
   "id": "d4c339fb-6825-4c7e-9ec1-97aaa0dc16f0",
   "metadata": {},
   "outputs": [],
   "source": [
    "sog_1976 = pd.read_html(url, index_col = 0)[3]"
   ]
  },
  {
   "cell_type": "code",
   "execution_count": 19,
   "id": "2c277740-ad98-4121-832d-867eaa478363",
   "metadata": {},
   "outputs": [
    {
     "data": {
      "text/html": [
       "<div>\n",
       "<style scoped>\n",
       "    .dataframe tbody tr th:only-of-type {\n",
       "        vertical-align: middle;\n",
       "    }\n",
       "\n",
       "    .dataframe tbody tr th {\n",
       "        vertical-align: top;\n",
       "    }\n",
       "\n",
       "    .dataframe thead th {\n",
       "        text-align: right;\n",
       "    }\n",
       "</style>\n",
       "<table border=\"1\" class=\"dataframe\">\n",
       "  <thead>\n",
       "    <tr style=\"text-align: right;\">\n",
       "      <th></th>\n",
       "      <th>NOC</th>\n",
       "      <th>Gold</th>\n",
       "      <th>Silver</th>\n",
       "      <th>Bronze</th>\n",
       "      <th>Total</th>\n",
       "    </tr>\n",
       "    <tr>\n",
       "      <th>Rank</th>\n",
       "      <th></th>\n",
       "      <th></th>\n",
       "      <th></th>\n",
       "      <th></th>\n",
       "      <th></th>\n",
       "    </tr>\n",
       "  </thead>\n",
       "  <tbody>\n",
       "    <tr>\n",
       "      <th>1</th>\n",
       "      <td>Soviet Union</td>\n",
       "      <td>49</td>\n",
       "      <td>41</td>\n",
       "      <td>35</td>\n",
       "      <td>125</td>\n",
       "    </tr>\n",
       "    <tr>\n",
       "      <th>2</th>\n",
       "      <td>East Germany</td>\n",
       "      <td>40</td>\n",
       "      <td>25</td>\n",
       "      <td>25</td>\n",
       "      <td>90</td>\n",
       "    </tr>\n",
       "    <tr>\n",
       "      <th>3</th>\n",
       "      <td>United States</td>\n",
       "      <td>34</td>\n",
       "      <td>35</td>\n",
       "      <td>25</td>\n",
       "      <td>94</td>\n",
       "    </tr>\n",
       "    <tr>\n",
       "      <th>4</th>\n",
       "      <td>West Germany</td>\n",
       "      <td>10</td>\n",
       "      <td>12</td>\n",
       "      <td>17</td>\n",
       "      <td>39</td>\n",
       "    </tr>\n",
       "    <tr>\n",
       "      <th>5</th>\n",
       "      <td>Japan</td>\n",
       "      <td>9</td>\n",
       "      <td>6</td>\n",
       "      <td>10</td>\n",
       "      <td>25</td>\n",
       "    </tr>\n",
       "  </tbody>\n",
       "</table>\n",
       "</div>"
      ],
      "text/plain": [
       "                NOC  Gold  Silver  Bronze  Total\n",
       "Rank                                            \n",
       "1      Soviet Union    49      41      35    125\n",
       "2      East Germany    40      25      25     90\n",
       "3     United States    34      35      25     94\n",
       "4      West Germany    10      12      17     39\n",
       "5             Japan     9       6      10     25"
      ]
     },
     "execution_count": 19,
     "metadata": {},
     "output_type": "execute_result"
    }
   ],
   "source": [
    "sog_1976.head()"
   ]
  },
  {
   "cell_type": "code",
   "execution_count": 20,
   "id": "53ccecd8-b23f-4118-8af9-84c38de7738f",
   "metadata": {},
   "outputs": [
    {
     "name": "stdout",
     "output_type": "stream",
     "text": [
      "<class 'pandas.core.frame.DataFrame'>\n",
      "Index: 42 entries, 1 to Totals (41 entries)\n",
      "Data columns (total 5 columns):\n",
      " #   Column  Non-Null Count  Dtype \n",
      "---  ------  --------------  ----- \n",
      " 0   NOC     42 non-null     object\n",
      " 1   Gold    42 non-null     int64 \n",
      " 2   Silver  42 non-null     int64 \n",
      " 3   Bronze  42 non-null     int64 \n",
      " 4   Total   42 non-null     int64 \n",
      "dtypes: int64(4), object(1)\n",
      "memory usage: 2.0+ KB\n"
     ]
    }
   ],
   "source": [
    "sog_1976.info()"
   ]
  },
  {
   "cell_type": "code",
   "execution_count": 21,
   "id": "08be30fd-d887-48b6-a469-477bf22cab3e",
   "metadata": {},
   "outputs": [
    {
     "data": {
      "text/html": [
       "<div>\n",
       "<style scoped>\n",
       "    .dataframe tbody tr th:only-of-type {\n",
       "        vertical-align: middle;\n",
       "    }\n",
       "\n",
       "    .dataframe tbody tr th {\n",
       "        vertical-align: top;\n",
       "    }\n",
       "\n",
       "    .dataframe thead th {\n",
       "        text-align: right;\n",
       "    }\n",
       "</style>\n",
       "<table border=\"1\" class=\"dataframe\">\n",
       "  <thead>\n",
       "    <tr style=\"text-align: right;\">\n",
       "      <th></th>\n",
       "      <th>Gold</th>\n",
       "      <th>Silver</th>\n",
       "      <th>Bronze</th>\n",
       "      <th>Total</th>\n",
       "    </tr>\n",
       "  </thead>\n",
       "  <tbody>\n",
       "    <tr>\n",
       "      <th>count</th>\n",
       "      <td>42.000000</td>\n",
       "      <td>42.000000</td>\n",
       "      <td>42.000000</td>\n",
       "      <td>42.000000</td>\n",
       "    </tr>\n",
       "    <tr>\n",
       "      <th>mean</th>\n",
       "      <td>9.428571</td>\n",
       "      <td>9.476190</td>\n",
       "      <td>10.285714</td>\n",
       "      <td>29.190476</td>\n",
       "    </tr>\n",
       "    <tr>\n",
       "      <th>std</th>\n",
       "      <td>31.634454</td>\n",
       "      <td>31.209941</td>\n",
       "      <td>33.443280</td>\n",
       "      <td>96.038925</td>\n",
       "    </tr>\n",
       "    <tr>\n",
       "      <th>min</th>\n",
       "      <td>0.000000</td>\n",
       "      <td>0.000000</td>\n",
       "      <td>0.000000</td>\n",
       "      <td>1.000000</td>\n",
       "    </tr>\n",
       "    <tr>\n",
       "      <th>25%</th>\n",
       "      <td>0.000000</td>\n",
       "      <td>1.000000</td>\n",
       "      <td>1.000000</td>\n",
       "      <td>2.000000</td>\n",
       "    </tr>\n",
       "    <tr>\n",
       "      <th>50%</th>\n",
       "      <td>1.000000</td>\n",
       "      <td>2.000000</td>\n",
       "      <td>2.500000</td>\n",
       "      <td>5.000000</td>\n",
       "    </tr>\n",
       "    <tr>\n",
       "      <th>75%</th>\n",
       "      <td>4.000000</td>\n",
       "      <td>5.000000</td>\n",
       "      <td>5.750000</td>\n",
       "      <td>13.000000</td>\n",
       "    </tr>\n",
       "    <tr>\n",
       "      <th>max</th>\n",
       "      <td>198.000000</td>\n",
       "      <td>199.000000</td>\n",
       "      <td>216.000000</td>\n",
       "      <td>613.000000</td>\n",
       "    </tr>\n",
       "  </tbody>\n",
       "</table>\n",
       "</div>"
      ],
      "text/plain": [
       "             Gold      Silver      Bronze       Total\n",
       "count   42.000000   42.000000   42.000000   42.000000\n",
       "mean     9.428571    9.476190   10.285714   29.190476\n",
       "std     31.634454   31.209941   33.443280   96.038925\n",
       "min      0.000000    0.000000    0.000000    1.000000\n",
       "25%      0.000000    1.000000    1.000000    2.000000\n",
       "50%      1.000000    2.000000    2.500000    5.000000\n",
       "75%      4.000000    5.000000    5.750000   13.000000\n",
       "max    198.000000  199.000000  216.000000  613.000000"
      ]
     },
     "execution_count": 21,
     "metadata": {},
     "output_type": "execute_result"
    }
   ],
   "source": [
    "sog_1976.describe()"
   ]
  },
  {
   "cell_type": "code",
   "execution_count": 34,
   "id": "b821b304-8af9-41ca-8905-5ce382238231",
   "metadata": {},
   "outputs": [],
   "source": [
    "sog_1976.to_csv('sog_1976.csv', index = None)"
   ]
  },
  {
   "cell_type": "code",
   "execution_count": 23,
   "id": "e25e7147-6a51-4ab4-b7aa-2818780182f9",
   "metadata": {},
   "outputs": [],
   "source": [
    "url2 = 'https://en.wikipedia.org/wiki/1996_Summer_Olympics_medal_table'"
   ]
  },
  {
   "cell_type": "code",
   "execution_count": 30,
   "id": "30c9c365-6c64-4381-b810-d9373f21837c",
   "metadata": {},
   "outputs": [],
   "source": [
    "sog_1996 = pd.read_html(url2)[3]"
   ]
  },
  {
   "cell_type": "code",
   "execution_count": 31,
   "id": "f975e7ce-85f1-41a0-b26a-3fe3ab2a5ccd",
   "metadata": {},
   "outputs": [
    {
     "data": {
      "text/html": [
       "<div>\n",
       "<style scoped>\n",
       "    .dataframe tbody tr th:only-of-type {\n",
       "        vertical-align: middle;\n",
       "    }\n",
       "\n",
       "    .dataframe tbody tr th {\n",
       "        vertical-align: top;\n",
       "    }\n",
       "\n",
       "    .dataframe thead th {\n",
       "        text-align: right;\n",
       "    }\n",
       "</style>\n",
       "<table border=\"1\" class=\"dataframe\">\n",
       "  <thead>\n",
       "    <tr style=\"text-align: right;\">\n",
       "      <th></th>\n",
       "      <th>Rank</th>\n",
       "      <th>Nation</th>\n",
       "      <th>Gold</th>\n",
       "      <th>Silver</th>\n",
       "      <th>Bronze</th>\n",
       "      <th>Total</th>\n",
       "    </tr>\n",
       "  </thead>\n",
       "  <tbody>\n",
       "    <tr>\n",
       "      <th>0</th>\n",
       "      <td>1</td>\n",
       "      <td>United States*</td>\n",
       "      <td>44</td>\n",
       "      <td>32</td>\n",
       "      <td>25</td>\n",
       "      <td>101</td>\n",
       "    </tr>\n",
       "    <tr>\n",
       "      <th>1</th>\n",
       "      <td>2</td>\n",
       "      <td>Russia</td>\n",
       "      <td>26</td>\n",
       "      <td>21</td>\n",
       "      <td>16</td>\n",
       "      <td>63</td>\n",
       "    </tr>\n",
       "    <tr>\n",
       "      <th>2</th>\n",
       "      <td>3</td>\n",
       "      <td>Germany</td>\n",
       "      <td>20</td>\n",
       "      <td>18</td>\n",
       "      <td>27</td>\n",
       "      <td>65</td>\n",
       "    </tr>\n",
       "    <tr>\n",
       "      <th>3</th>\n",
       "      <td>4</td>\n",
       "      <td>China</td>\n",
       "      <td>16</td>\n",
       "      <td>22</td>\n",
       "      <td>12</td>\n",
       "      <td>50</td>\n",
       "    </tr>\n",
       "    <tr>\n",
       "      <th>4</th>\n",
       "      <td>5</td>\n",
       "      <td>France</td>\n",
       "      <td>15</td>\n",
       "      <td>7</td>\n",
       "      <td>15</td>\n",
       "      <td>37</td>\n",
       "    </tr>\n",
       "  </tbody>\n",
       "</table>\n",
       "</div>"
      ],
      "text/plain": [
       "  Rank          Nation  Gold  Silver  Bronze  Total\n",
       "0    1  United States*    44      32      25    101\n",
       "1    2          Russia    26      21      16     63\n",
       "2    3         Germany    20      18      27     65\n",
       "3    4           China    16      22      12     50\n",
       "4    5          France    15       7      15     37"
      ]
     },
     "execution_count": 31,
     "metadata": {},
     "output_type": "execute_result"
    }
   ],
   "source": [
    "sog_1996.head()"
   ]
  },
  {
   "cell_type": "code",
   "execution_count": 32,
   "id": "cd37d13e-e23b-4490-bdf9-27644df39f2f",
   "metadata": {},
   "outputs": [
    {
     "name": "stdout",
     "output_type": "stream",
     "text": [
      "<class 'pandas.core.frame.DataFrame'>\n",
      "RangeIndex: 80 entries, 0 to 79\n",
      "Data columns (total 6 columns):\n",
      " #   Column  Non-Null Count  Dtype \n",
      "---  ------  --------------  ----- \n",
      " 0   Rank    80 non-null     object\n",
      " 1   Nation  80 non-null     object\n",
      " 2   Gold    80 non-null     int64 \n",
      " 3   Silver  80 non-null     int64 \n",
      " 4   Bronze  80 non-null     int64 \n",
      " 5   Total   80 non-null     int64 \n",
      "dtypes: int64(4), object(2)\n",
      "memory usage: 3.9+ KB\n"
     ]
    }
   ],
   "source": [
    "sog_1996.info()"
   ]
  },
  {
   "cell_type": "code",
   "execution_count": 33,
   "id": "192ff948-4846-4612-a94f-4bb7a6b55554",
   "metadata": {},
   "outputs": [
    {
     "data": {
      "text/html": [
       "<div>\n",
       "<style scoped>\n",
       "    .dataframe tbody tr th:only-of-type {\n",
       "        vertical-align: middle;\n",
       "    }\n",
       "\n",
       "    .dataframe tbody tr th {\n",
       "        vertical-align: top;\n",
       "    }\n",
       "\n",
       "    .dataframe thead th {\n",
       "        text-align: right;\n",
       "    }\n",
       "</style>\n",
       "<table border=\"1\" class=\"dataframe\">\n",
       "  <thead>\n",
       "    <tr style=\"text-align: right;\">\n",
       "      <th></th>\n",
       "      <th>Gold</th>\n",
       "      <th>Silver</th>\n",
       "      <th>Bronze</th>\n",
       "      <th>Total</th>\n",
       "    </tr>\n",
       "  </thead>\n",
       "  <tbody>\n",
       "    <tr>\n",
       "      <th>count</th>\n",
       "      <td>80.000000</td>\n",
       "      <td>80.000000</td>\n",
       "      <td>80.000000</td>\n",
       "      <td>80.000000</td>\n",
       "    </tr>\n",
       "    <tr>\n",
       "      <th>mean</th>\n",
       "      <td>6.775000</td>\n",
       "      <td>6.825000</td>\n",
       "      <td>7.450000</td>\n",
       "      <td>21.050000</td>\n",
       "    </tr>\n",
       "    <tr>\n",
       "      <th>std</th>\n",
       "      <td>30.621402</td>\n",
       "      <td>30.648177</td>\n",
       "      <td>33.377359</td>\n",
       "      <td>94.461418</td>\n",
       "    </tr>\n",
       "    <tr>\n",
       "      <th>min</th>\n",
       "      <td>0.000000</td>\n",
       "      <td>0.000000</td>\n",
       "      <td>0.000000</td>\n",
       "      <td>1.000000</td>\n",
       "    </tr>\n",
       "    <tr>\n",
       "      <th>25%</th>\n",
       "      <td>0.000000</td>\n",
       "      <td>0.000000</td>\n",
       "      <td>1.000000</td>\n",
       "      <td>1.000000</td>\n",
       "    </tr>\n",
       "    <tr>\n",
       "      <th>50%</th>\n",
       "      <td>1.000000</td>\n",
       "      <td>1.000000</td>\n",
       "      <td>1.000000</td>\n",
       "      <td>4.000000</td>\n",
       "    </tr>\n",
       "    <tr>\n",
       "      <th>75%</th>\n",
       "      <td>4.000000</td>\n",
       "      <td>4.000000</td>\n",
       "      <td>5.000000</td>\n",
       "      <td>15.000000</td>\n",
       "    </tr>\n",
       "    <tr>\n",
       "      <th>max</th>\n",
       "      <td>271.000000</td>\n",
       "      <td>273.000000</td>\n",
       "      <td>298.000000</td>\n",
       "      <td>842.000000</td>\n",
       "    </tr>\n",
       "  </tbody>\n",
       "</table>\n",
       "</div>"
      ],
      "text/plain": [
       "             Gold      Silver      Bronze       Total\n",
       "count   80.000000   80.000000   80.000000   80.000000\n",
       "mean     6.775000    6.825000    7.450000   21.050000\n",
       "std     30.621402   30.648177   33.377359   94.461418\n",
       "min      0.000000    0.000000    0.000000    1.000000\n",
       "25%      0.000000    0.000000    1.000000    1.000000\n",
       "50%      1.000000    1.000000    1.000000    4.000000\n",
       "75%      4.000000    4.000000    5.000000   15.000000\n",
       "max    271.000000  273.000000  298.000000  842.000000"
      ]
     },
     "execution_count": 33,
     "metadata": {},
     "output_type": "execute_result"
    }
   ],
   "source": [
    "sog_1996.describe()"
   ]
  },
  {
   "cell_type": "code",
   "execution_count": 35,
   "id": "bed42ed8-9e36-4ee8-9291-7abe994a1406",
   "metadata": {},
   "outputs": [],
   "source": [
    "sog_1996.to_csv('sog_1996.csv', index = None)"
   ]
  },
  {
   "cell_type": "code",
   "execution_count": null,
   "id": "a8f61509-efc7-46ba-b630-7081b87ffebc",
   "metadata": {},
   "outputs": [],
   "source": []
  }
 ],
 "metadata": {
  "kernelspec": {
   "display_name": "Python 3 (ipykernel)",
   "language": "python",
   "name": "python3"
  },
  "language_info": {
   "codemirror_mode": {
    "name": "ipython",
    "version": 3
   },
   "file_extension": ".py",
   "mimetype": "text/x-python",
   "name": "python",
   "nbconvert_exporter": "python",
   "pygments_lexer": "ipython3",
   "version": "3.11.7"
  }
 },
 "nbformat": 4,
 "nbformat_minor": 5
}
