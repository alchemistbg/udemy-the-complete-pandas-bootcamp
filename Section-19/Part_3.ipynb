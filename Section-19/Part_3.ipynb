{
 "cells": [
  {
   "cell_type": "markdown",
   "id": "619b8fcf-e41a-4024-a4cf-465bc2d2ef3a",
   "metadata": {},
   "source": [
    "# **Part 3**"
   ]
  },
  {
   "cell_type": "markdown",
   "id": "287fd8ec-0b8d-444a-9994-d63f27f87b88",
   "metadata": {},
   "source": [
    "The following two sections contain comprehensive projects:\n",
    "\n",
    "1. Project 1: Data Manipulation and Aggregation (Olympic Medal Tables)\n",
    "\n",
    "2. Project 2: Explanatory Data Analysis (Why are some countries more successful than other Countries in Olympic Games?)"
   ]
  }
 ],
 "metadata": {
  "kernelspec": {
   "display_name": "Python 3 (ipykernel)",
   "language": "python",
   "name": "python3"
  },
  "language_info": {
   "codemirror_mode": {
    "name": "ipython",
    "version": 3
   },
   "file_extension": ".py",
   "mimetype": "text/x-python",
   "name": "python",
   "nbconvert_exporter": "python",
   "pygments_lexer": "ipython3",
   "version": "3.11.7"
  }
 },
 "nbformat": 4,
 "nbformat_minor": 5
}
