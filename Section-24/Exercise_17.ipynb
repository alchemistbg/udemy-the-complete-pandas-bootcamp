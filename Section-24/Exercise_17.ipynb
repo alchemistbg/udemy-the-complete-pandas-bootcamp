{
 "cells": [
  {
   "cell_type": "markdown",
   "metadata": {},
   "source": [
    "# Coding Exercises (Part 4)"
   ]
  },
  {
   "cell_type": "markdown",
   "metadata": {},
   "source": [
    "## Time Series Data"
   ]
  },
  {
   "cell_type": "markdown",
   "metadata": {},
   "source": [
    "### Exercise 17: Financial Time Series"
   ]
  },
  {
   "cell_type": "markdown",
   "metadata": {},
   "source": [
    "Now, you will have the opportunity to analyze your own dataset. <br>\n",
    "__Follow the instructions__ and insert your code! You are either requested to \n",
    "- Complete the Code and __Fill in the gaps__. Gaps are marked with \"__---__\" and are __placeholders__ for your code fragment. \n",
    "- Write Code completely __on your own__ "
   ]
  },
  {
   "cell_type": "markdown",
   "metadata": {},
   "source": [
    "In some exercises, you will find questions that can only be answered, if your code is correct and returns the right output! The correct answer is provided below your coding cell. There you can check whether your code is correct."
   ]
  },
  {
   "cell_type": "markdown",
   "metadata": {},
   "source": [
    "If you need a hint, check the __Hints Section__ at the end of this Notebook. Exercises and Hints are numerated accordingly."
   ]
  },
  {
   "cell_type": "markdown",
   "metadata": {},
   "source": [
    "If you need some further help or if you want to check your code, you can also check the __solutions notebook__."
   ]
  },
  {
   "cell_type": "markdown",
   "metadata": {},
   "source": [
    "### Have Fun!"
   ]
  },
  {
   "cell_type": "markdown",
   "metadata": {},
   "source": [
    "--------------------------------------------------------------------------------------------------------------"
   ]
  },
  {
   "cell_type": "markdown",
   "metadata": {},
   "source": [
    "## Option 1: Self_guided"
   ]
  },
  {
   "cell_type": "code",
   "execution_count": 1,
   "metadata": {},
   "outputs": [],
   "source": [
    "import numpy as np\n",
    "import pandas as pd\n",
    "import matplotlib.pyplot as plt\n",
    "import seaborn as sns"
   ]
  },
  {
   "cell_type": "markdown",
   "metadata": {},
   "source": [
    "Import the us stocks dataset (__us_stocks.csv__) and select the Adjusted Close (__Adj Close__) for all six stocks from __31-12-2015__ (incl.) until __31-12-2018__ (incl.). Save the DataFrame in the variable __stocks__ and work through the next questions with this DataFrame!"
   ]
  },
  {
   "cell_type": "code",
   "execution_count": 39,
   "metadata": {},
   "outputs": [],
   "source": [
    "us_stocks = pd.read_csv('us_stocks.csv', parse_dates = [0], index_col = [0], header = [0, 1])"
   ]
  },
  {
   "cell_type": "code",
   "execution_count": 47,
   "metadata": {},
   "outputs": [],
   "source": [
    "stocks = us_stocks.loc['31-12-2015':'31-12-2018', 'Adj Close']"
   ]
  },
  {
   "cell_type": "code",
   "execution_count": 48,
   "metadata": {},
   "outputs": [
    {
     "name": "stdout",
     "output_type": "stream",
     "text": [
      "<class 'pandas.core.frame.DataFrame'>\n",
      "DatetimeIndex: 754 entries, 2015-12-31 to 2018-12-28\n",
      "Data columns (total 6 columns):\n",
      " #   Column  Non-Null Count  Dtype  \n",
      "---  ------  --------------  -----  \n",
      " 0   AXP     754 non-null    float64\n",
      " 1   FB      754 non-null    float64\n",
      " 2   INTC    754 non-null    float64\n",
      " 3   MCD     754 non-null    float64\n",
      " 4   PG      754 non-null    float64\n",
      " 5   WMT     754 non-null    float64\n",
      "dtypes: float64(6)\n",
      "memory usage: 41.2 KB\n"
     ]
    }
   ],
   "source": [
    "stocks.info()"
   ]
  },
  {
   "cell_type": "code",
   "execution_count": 49,
   "metadata": {},
   "outputs": [
    {
     "data": {
      "text/html": [
       "<div>\n",
       "<style scoped>\n",
       "    .dataframe tbody tr th:only-of-type {\n",
       "        vertical-align: middle;\n",
       "    }\n",
       "\n",
       "    .dataframe tbody tr th {\n",
       "        vertical-align: top;\n",
       "    }\n",
       "\n",
       "    .dataframe thead th {\n",
       "        text-align: right;\n",
       "    }\n",
       "</style>\n",
       "<table border=\"1\" class=\"dataframe\">\n",
       "  <thead>\n",
       "    <tr style=\"text-align: right;\">\n",
       "      <th></th>\n",
       "      <th>AXP</th>\n",
       "      <th>FB</th>\n",
       "      <th>INTC</th>\n",
       "      <th>MCD</th>\n",
       "      <th>PG</th>\n",
       "      <th>WMT</th>\n",
       "    </tr>\n",
       "    <tr>\n",
       "      <th>Date</th>\n",
       "      <th></th>\n",
       "      <th></th>\n",
       "      <th></th>\n",
       "      <th></th>\n",
       "      <th></th>\n",
       "      <th></th>\n",
       "    </tr>\n",
       "  </thead>\n",
       "  <tbody>\n",
       "    <tr>\n",
       "      <th>2015-12-31</th>\n",
       "      <td>65.910294</td>\n",
       "      <td>104.660004</td>\n",
       "      <td>31.437597</td>\n",
       "      <td>108.968636</td>\n",
       "      <td>71.450706</td>\n",
       "      <td>56.722713</td>\n",
       "    </tr>\n",
       "    <tr>\n",
       "      <th>2016-01-04</th>\n",
       "      <td>64.052849</td>\n",
       "      <td>102.220001</td>\n",
       "      <td>31.017828</td>\n",
       "      <td>108.452126</td>\n",
       "      <td>70.514938</td>\n",
       "      <td>56.870766</td>\n",
       "    </tr>\n",
       "    <tr>\n",
       "      <th>2016-01-05</th>\n",
       "      <td>63.067310</td>\n",
       "      <td>102.730003</td>\n",
       "      <td>30.871820</td>\n",
       "      <td>109.946350</td>\n",
       "      <td>70.739891</td>\n",
       "      <td>58.221748</td>\n",
       "    </tr>\n",
       "    <tr>\n",
       "      <th>2016-01-06</th>\n",
       "      <td>61.315948</td>\n",
       "      <td>102.970001</td>\n",
       "      <td>30.187403</td>\n",
       "      <td>109.208458</td>\n",
       "      <td>70.056053</td>\n",
       "      <td>58.804699</td>\n",
       "    </tr>\n",
       "    <tr>\n",
       "      <th>2016-01-07</th>\n",
       "      <td>60.763893</td>\n",
       "      <td>97.919998</td>\n",
       "      <td>29.055828</td>\n",
       "      <td>106.681190</td>\n",
       "      <td>69.444221</td>\n",
       "      <td>60.174198</td>\n",
       "    </tr>\n",
       "  </tbody>\n",
       "</table>\n",
       "</div>"
      ],
      "text/plain": [
       "                  AXP          FB       INTC         MCD         PG        WMT\n",
       "Date                                                                          \n",
       "2015-12-31  65.910294  104.660004  31.437597  108.968636  71.450706  56.722713\n",
       "2016-01-04  64.052849  102.220001  31.017828  108.452126  70.514938  56.870766\n",
       "2016-01-05  63.067310  102.730003  30.871820  109.946350  70.739891  58.221748\n",
       "2016-01-06  61.315948  102.970001  30.187403  109.208458  70.056053  58.804699\n",
       "2016-01-07  60.763893   97.919998  29.055828  106.681190  69.444221  60.174198"
      ]
     },
     "execution_count": 49,
     "metadata": {},
     "output_type": "execute_result"
    }
   ],
   "source": [
    "stocks.head()"
   ]
  },
  {
   "cell_type": "code",
   "execution_count": 50,
   "metadata": {},
   "outputs": [
    {
     "data": {
      "text/html": [
       "<div>\n",
       "<style scoped>\n",
       "    .dataframe tbody tr th:only-of-type {\n",
       "        vertical-align: middle;\n",
       "    }\n",
       "\n",
       "    .dataframe tbody tr th {\n",
       "        vertical-align: top;\n",
       "    }\n",
       "\n",
       "    .dataframe thead th {\n",
       "        text-align: right;\n",
       "    }\n",
       "</style>\n",
       "<table border=\"1\" class=\"dataframe\">\n",
       "  <thead>\n",
       "    <tr style=\"text-align: right;\">\n",
       "      <th></th>\n",
       "      <th>AXP</th>\n",
       "      <th>FB</th>\n",
       "      <th>INTC</th>\n",
       "      <th>MCD</th>\n",
       "      <th>PG</th>\n",
       "      <th>WMT</th>\n",
       "    </tr>\n",
       "    <tr>\n",
       "      <th>Date</th>\n",
       "      <th></th>\n",
       "      <th></th>\n",
       "      <th></th>\n",
       "      <th></th>\n",
       "      <th></th>\n",
       "      <th></th>\n",
       "    </tr>\n",
       "  </thead>\n",
       "  <tbody>\n",
       "    <tr>\n",
       "      <th>2018-12-21</th>\n",
       "      <td>90.957733</td>\n",
       "      <td>124.949997</td>\n",
       "      <td>44.557564</td>\n",
       "      <td>174.149994</td>\n",
       "      <td>90.256142</td>\n",
       "      <td>87.129997</td>\n",
       "    </tr>\n",
       "    <tr>\n",
       "      <th>2018-12-24</th>\n",
       "      <td>89.135193</td>\n",
       "      <td>124.059998</td>\n",
       "      <td>43.315437</td>\n",
       "      <td>170.279999</td>\n",
       "      <td>86.674469</td>\n",
       "      <td>85.820000</td>\n",
       "    </tr>\n",
       "    <tr>\n",
       "      <th>2018-12-26</th>\n",
       "      <td>93.457497</td>\n",
       "      <td>134.179993</td>\n",
       "      <td>45.899059</td>\n",
       "      <td>174.029999</td>\n",
       "      <td>89.383041</td>\n",
       "      <td>90.410004</td>\n",
       "    </tr>\n",
       "    <tr>\n",
       "      <th>2018-12-27</th>\n",
       "      <td>94.294075</td>\n",
       "      <td>134.520004</td>\n",
       "      <td>46.067993</td>\n",
       "      <td>175.710007</td>\n",
       "      <td>91.297897</td>\n",
       "      <td>91.589996</td>\n",
       "    </tr>\n",
       "    <tr>\n",
       "      <th>2018-12-28</th>\n",
       "      <td>94.035133</td>\n",
       "      <td>133.199997</td>\n",
       "      <td>46.455536</td>\n",
       "      <td>175.559998</td>\n",
       "      <td>90.464493</td>\n",
       "      <td>92.129997</td>\n",
       "    </tr>\n",
       "  </tbody>\n",
       "</table>\n",
       "</div>"
      ],
      "text/plain": [
       "                  AXP          FB       INTC         MCD         PG        WMT\n",
       "Date                                                                          \n",
       "2018-12-21  90.957733  124.949997  44.557564  174.149994  90.256142  87.129997\n",
       "2018-12-24  89.135193  124.059998  43.315437  170.279999  86.674469  85.820000\n",
       "2018-12-26  93.457497  134.179993  45.899059  174.029999  89.383041  90.410004\n",
       "2018-12-27  94.294075  134.520004  46.067993  175.710007  91.297897  91.589996\n",
       "2018-12-28  94.035133  133.199997  46.455536  175.559998  90.464493  92.129997"
      ]
     },
     "execution_count": 50,
     "metadata": {},
     "output_type": "execute_result"
    }
   ],
   "source": [
    "stocks.tail()"
   ]
  },
  {
   "cell_type": "markdown",
   "metadata": {},
   "source": [
    "__Visualize__ the Adjusted Close of the six stocks __over time__!"
   ]
  },
  {
   "cell_type": "code",
   "execution_count": 52,
   "metadata": {},
   "outputs": [
    {
     "data": {
      "image/png": "[encoded data removed]",
      "text/plain": [
       "<Figure size 1500x700 with 1 Axes>"
      ]
     },
     "metadata": {},
     "output_type": "display_data"
    }
   ],
   "source": [
    "stocks.plot(figsize = (15, 7))\n",
    "plt.show()"
   ]
  },
  {
   "cell_type": "markdown",
   "metadata": {},
   "source": [
    "__Visualize__ the Adjusted Close of the six stocks __over time__, starting each at the __Base Value 100__!"
   ]
  },
  {
   "cell_type": "code",
   "execution_count": 56,
   "metadata": {},
   "outputs": [],
   "source": [
    "stocks_norm = stocks.div(stocks.iloc[0]).mul(100)"
   ]
  },
  {
   "cell_type": "code",
   "execution_count": 57,
   "metadata": {
    "scrolled": true
   },
   "outputs": [
    {
     "data": {
      "text/html": [
       "<div>\n",
       "<style scoped>\n",
       "    .dataframe tbody tr th:only-of-type {\n",
       "        vertical-align: middle;\n",
       "    }\n",
       "\n",
       "    .dataframe tbody tr th {\n",
       "        vertical-align: top;\n",
       "    }\n",
       "\n",
       "    .dataframe thead th {\n",
       "        text-align: right;\n",
       "    }\n",
       "</style>\n",
       "<table border=\"1\" class=\"dataframe\">\n",
       "  <thead>\n",
       "    <tr style=\"text-align: right;\">\n",
       "      <th></th>\n",
       "      <th>AXP</th>\n",
       "      <th>FB</th>\n",
       "      <th>INTC</th>\n",
       "      <th>MCD</th>\n",
       "      <th>PG</th>\n",
       "      <th>WMT</th>\n",
       "    </tr>\n",
       "    <tr>\n",
       "      <th>Date</th>\n",
       "      <th></th>\n",
       "      <th></th>\n",
       "      <th></th>\n",
       "      <th></th>\n",
       "      <th></th>\n",
       "      <th></th>\n",
       "    </tr>\n",
       "  </thead>\n",
       "  <tbody>\n",
       "    <tr>\n",
       "      <th>2015-12-31</th>\n",
       "      <td>100.000000</td>\n",
       "      <td>100.000000</td>\n",
       "      <td>100.000000</td>\n",
       "      <td>100.000000</td>\n",
       "      <td>100.000000</td>\n",
       "      <td>100.000000</td>\n",
       "    </tr>\n",
       "    <tr>\n",
       "      <th>2016-01-04</th>\n",
       "      <td>97.181859</td>\n",
       "      <td>97.668639</td>\n",
       "      <td>98.664755</td>\n",
       "      <td>99.526001</td>\n",
       "      <td>98.690331</td>\n",
       "      <td>100.261012</td>\n",
       "    </tr>\n",
       "    <tr>\n",
       "      <th>2016-01-05</th>\n",
       "      <td>95.686586</td>\n",
       "      <td>98.155933</td>\n",
       "      <td>98.200317</td>\n",
       "      <td>100.897243</td>\n",
       "      <td>99.005167</td>\n",
       "      <td>102.642742</td>\n",
       "    </tr>\n",
       "    <tr>\n",
       "      <th>2016-01-06</th>\n",
       "      <td>93.029395</td>\n",
       "      <td>98.385245</td>\n",
       "      <td>96.023252</td>\n",
       "      <td>100.220084</td>\n",
       "      <td>98.048091</td>\n",
       "      <td>103.670463</td>\n",
       "    </tr>\n",
       "    <tr>\n",
       "      <th>2016-01-07</th>\n",
       "      <td>92.191810</td>\n",
       "      <td>93.560094</td>\n",
       "      <td>92.423820</td>\n",
       "      <td>97.900822</td>\n",
       "      <td>97.191791</td>\n",
       "      <td>106.084838</td>\n",
       "    </tr>\n",
       "    <tr>\n",
       "      <th>...</th>\n",
       "      <td>...</td>\n",
       "      <td>...</td>\n",
       "      <td>...</td>\n",
       "      <td>...</td>\n",
       "      <td>...</td>\n",
       "      <td>...</td>\n",
       "    </tr>\n",
       "    <tr>\n",
       "      <th>2018-12-21</th>\n",
       "      <td>138.002317</td>\n",
       "      <td>119.386578</td>\n",
       "      <td>141.733365</td>\n",
       "      <td>159.816623</td>\n",
       "      <td>126.319454</td>\n",
       "      <td>153.606893</td>\n",
       "    </tr>\n",
       "    <tr>\n",
       "      <th>2018-12-24</th>\n",
       "      <td>135.237135</td>\n",
       "      <td>118.536206</td>\n",
       "      <td>137.782277</td>\n",
       "      <td>156.265147</td>\n",
       "      <td>121.306666</td>\n",
       "      <td>151.297418</td>\n",
       "    </tr>\n",
       "    <tr>\n",
       "      <th>2018-12-26</th>\n",
       "      <td>141.794993</td>\n",
       "      <td>128.205607</td>\n",
       "      <td>146.000532</td>\n",
       "      <td>159.706504</td>\n",
       "      <td>125.097492</td>\n",
       "      <td>159.389421</td>\n",
       "    </tr>\n",
       "    <tr>\n",
       "      <th>2018-12-27</th>\n",
       "      <td>143.064261</td>\n",
       "      <td>128.530479</td>\n",
       "      <td>146.537895</td>\n",
       "      <td>161.248239</td>\n",
       "      <td>127.777460</td>\n",
       "      <td>161.469703</td>\n",
       "    </tr>\n",
       "    <tr>\n",
       "      <th>2018-12-28</th>\n",
       "      <td>142.671391</td>\n",
       "      <td>127.269245</td>\n",
       "      <td>147.770633</td>\n",
       "      <td>161.110577</td>\n",
       "      <td>126.611055</td>\n",
       "      <td>162.421704</td>\n",
       "    </tr>\n",
       "  </tbody>\n",
       "</table>\n",
       "<p>754 rows × 6 columns</p>\n",
       "</div>"
      ],
      "text/plain": [
       "                   AXP          FB        INTC         MCD          PG  \\\n",
       "Date                                                                     \n",
       "2015-12-31  100.000000  100.000000  100.000000  100.000000  100.000000   \n",
       "2016-01-04   97.181859   97.668639   98.664755   99.526001   98.690331   \n",
       "2016-01-05   95.686586   98.155933   98.200317  100.897243   99.005167   \n",
       "2016-01-06   93.029395   98.385245   96.023252  100.220084   98.048091   \n",
       "2016-01-07   92.191810   93.560094   92.423820   97.900822   97.191791   \n",
       "...                ...         ...         ...         ...         ...   \n",
       "2018-12-21  138.002317  119.386578  141.733365  159.816623  126.319454   \n",
       "2018-12-24  135.237135  118.536206  137.782277  156.265147  121.306666   \n",
       "2018-12-26  141.794993  128.205607  146.000532  159.706504  125.097492   \n",
       "2018-12-27  143.064261  128.530479  146.537895  161.248239  127.777460   \n",
       "2018-12-28  142.671391  127.269245  147.770633  161.110577  126.611055   \n",
       "\n",
       "                   WMT  \n",
       "Date                    \n",
       "2015-12-31  100.000000  \n",
       "2016-01-04  100.261012  \n",
       "2016-01-05  102.642742  \n",
       "2016-01-06  103.670463  \n",
       "2016-01-07  106.084838  \n",
       "...                ...  \n",
       "2018-12-21  153.606893  \n",
       "2018-12-24  151.297418  \n",
       "2018-12-26  159.389421  \n",
       "2018-12-27  161.469703  \n",
       "2018-12-28  162.421704  \n",
       "\n",
       "[754 rows x 6 columns]"
      ]
     },
     "execution_count": 57,
     "metadata": {},
     "output_type": "execute_result"
    }
   ],
   "source": [
    "stocks_norm"
   ]
  },
  {
   "cell_type": "code",
   "execution_count": 58,
   "metadata": {},
   "outputs": [
    {
     "data": {
      "image/png": "[encoded data removed]",
      "text/plain": [
       "<Figure size 1200x700 with 1 Axes>"
      ]
     },
     "metadata": {},
     "output_type": "display_data"
    }
   ],
   "source": [
    "stocks_norm.plot(figsize = (12, 7))\n",
    "plt.show()"
   ]
  },
  {
   "cell_type": "markdown",
   "metadata": {},
   "source": [
    "Calculate __monthly returns__ for all six stocks and create a new __returns__ DataFrame!"
   ]
  },
  {
   "cell_type": "code",
   "execution_count": 62,
   "metadata": {},
   "outputs": [],
   "source": [
    "stocks_month = stocks.resample(rule = 'BME').last()"
   ]
  },
  {
   "cell_type": "code",
   "execution_count": 63,
   "metadata": {},
   "outputs": [
    {
     "data": {
      "text/html": [
       "<div>\n",
       "<style scoped>\n",
       "    .dataframe tbody tr th:only-of-type {\n",
       "        vertical-align: middle;\n",
       "    }\n",
       "\n",
       "    .dataframe tbody tr th {\n",
       "        vertical-align: top;\n",
       "    }\n",
       "\n",
       "    .dataframe thead th {\n",
       "        text-align: right;\n",
       "    }\n",
       "</style>\n",
       "<table border=\"1\" class=\"dataframe\">\n",
       "  <thead>\n",
       "    <tr style=\"text-align: right;\">\n",
       "      <th></th>\n",
       "      <th>AXP</th>\n",
       "      <th>FB</th>\n",
       "      <th>INTC</th>\n",
       "      <th>MCD</th>\n",
       "      <th>PG</th>\n",
       "      <th>WMT</th>\n",
       "    </tr>\n",
       "    <tr>\n",
       "      <th>Date</th>\n",
       "      <th></th>\n",
       "      <th></th>\n",
       "      <th></th>\n",
       "      <th></th>\n",
       "      <th></th>\n",
       "      <th></th>\n",
       "    </tr>\n",
       "  </thead>\n",
       "  <tbody>\n",
       "    <tr>\n",
       "      <th>2015-12-31</th>\n",
       "      <td>65.910294</td>\n",
       "      <td>104.660004</td>\n",
       "      <td>31.437597</td>\n",
       "      <td>108.968636</td>\n",
       "      <td>71.450706</td>\n",
       "      <td>56.722713</td>\n",
       "    </tr>\n",
       "    <tr>\n",
       "      <th>2016-01-29</th>\n",
       "      <td>50.922123</td>\n",
       "      <td>112.209999</td>\n",
       "      <td>28.307537</td>\n",
       "      <td>114.170799</td>\n",
       "      <td>74.142738</td>\n",
       "      <td>61.404896</td>\n",
       "    </tr>\n",
       "    <tr>\n",
       "      <th>2016-02-29</th>\n",
       "      <td>52.901901</td>\n",
       "      <td>106.919998</td>\n",
       "      <td>27.240244</td>\n",
       "      <td>108.911270</td>\n",
       "      <td>72.872086</td>\n",
       "      <td>61.386375</td>\n",
       "    </tr>\n",
       "    <tr>\n",
       "      <th>2016-03-31</th>\n",
       "      <td>58.441471</td>\n",
       "      <td>114.099998</td>\n",
       "      <td>29.781067</td>\n",
       "      <td>116.801506</td>\n",
       "      <td>74.705444</td>\n",
       "      <td>63.844990</td>\n",
       "    </tr>\n",
       "    <tr>\n",
       "      <th>2016-04-29</th>\n",
       "      <td>62.578789</td>\n",
       "      <td>117.580002</td>\n",
       "      <td>27.875446</td>\n",
       "      <td>117.554268</td>\n",
       "      <td>73.313026</td>\n",
       "      <td>62.334877</td>\n",
       "    </tr>\n",
       "  </tbody>\n",
       "</table>\n",
       "</div>"
      ],
      "text/plain": [
       "                  AXP          FB       INTC         MCD         PG        WMT\n",
       "Date                                                                          \n",
       "2015-12-31  65.910294  104.660004  31.437597  108.968636  71.450706  56.722713\n",
       "2016-01-29  50.922123  112.209999  28.307537  114.170799  74.142738  61.404896\n",
       "2016-02-29  52.901901  106.919998  27.240244  108.911270  72.872086  61.386375\n",
       "2016-03-31  58.441471  114.099998  29.781067  116.801506  74.705444  63.844990\n",
       "2016-04-29  62.578789  117.580002  27.875446  117.554268  73.313026  62.334877"
      ]
     },
     "execution_count": 63,
     "metadata": {},
     "output_type": "execute_result"
    }
   ],
   "source": [
    "stocks_month.head()"
   ]
  },
  {
   "cell_type": "code",
   "execution_count": 64,
   "metadata": {},
   "outputs": [
    {
     "data": {
      "text/plain": [
       "104.660004"
      ]
     },
     "execution_count": 64,
     "metadata": {},
     "output_type": "execute_result"
    }
   ],
   "source": [
    "stocks.loc['2015-12-31', 'FB']"
   ]
  },
  {
   "cell_type": "markdown",
   "metadata": {},
   "source": [
    "Calculate the __annualized mean return__ and the __annualized standard deviation__ of returns for all six stocks!"
   ]
  },
  {
   "cell_type": "markdown",
   "metadata": {},
   "source": [
    "#### **Using dayly data**"
   ]
  },
  {
   "cell_type": "code",
   "execution_count": 85,
   "metadata": {},
   "outputs": [],
   "source": [
    "stocks_return1 = stocks.pct_change().dropna().mul(100)"
   ]
  },
  {
   "cell_type": "code",
   "execution_count": 86,
   "metadata": {},
   "outputs": [],
   "source": [
    "summary1 = stocks_return1.describe().T.loc[:, ['mean', 'std']]"
   ]
  },
  {
   "cell_type": "code",
   "execution_count": 87,
   "metadata": {},
   "outputs": [
    {
     "data": {
      "text/html": [
       "<div>\n",
       "<style scoped>\n",
       "    .dataframe tbody tr th:only-of-type {\n",
       "        vertical-align: middle;\n",
       "    }\n",
       "\n",
       "    .dataframe tbody tr th {\n",
       "        vertical-align: top;\n",
       "    }\n",
       "\n",
       "    .dataframe thead th {\n",
       "        text-align: right;\n",
       "    }\n",
       "</style>\n",
       "<table border=\"1\" class=\"dataframe\">\n",
       "  <thead>\n",
       "    <tr style=\"text-align: right;\">\n",
       "      <th></th>\n",
       "      <th>mean</th>\n",
       "      <th>std</th>\n",
       "    </tr>\n",
       "  </thead>\n",
       "  <tbody>\n",
       "    <tr>\n",
       "      <th>AXP</th>\n",
       "      <td>0.056290</td>\n",
       "      <td>1.344197</td>\n",
       "    </tr>\n",
       "    <tr>\n",
       "      <th>FB</th>\n",
       "      <td>0.049070</td>\n",
       "      <td>1.834639</td>\n",
       "    </tr>\n",
       "    <tr>\n",
       "      <th>INTC</th>\n",
       "      <td>0.064775</td>\n",
       "      <td>1.606492</td>\n",
       "    </tr>\n",
       "    <tr>\n",
       "      <th>MCD</th>\n",
       "      <td>0.068843</td>\n",
       "      <td>1.049461</td>\n",
       "    </tr>\n",
       "    <tr>\n",
       "      <th>PG</th>\n",
       "      <td>0.035900</td>\n",
       "      <td>0.957666</td>\n",
       "    </tr>\n",
       "    <tr>\n",
       "      <th>WMT</th>\n",
       "      <td>0.072817</td>\n",
       "      <td>1.300403</td>\n",
       "    </tr>\n",
       "  </tbody>\n",
       "</table>\n",
       "</div>"
      ],
      "text/plain": [
       "          mean       std\n",
       "AXP   0.056290  1.344197\n",
       "FB    0.049070  1.834639\n",
       "INTC  0.064775  1.606492\n",
       "MCD   0.068843  1.049461\n",
       "PG    0.035900  0.957666\n",
       "WMT   0.072817  1.300403"
      ]
     },
     "execution_count": 87,
     "metadata": {},
     "output_type": "execute_result"
    }
   ],
   "source": [
    "summary1"
   ]
  },
  {
   "cell_type": "code",
   "execution_count": 91,
   "metadata": {},
   "outputs": [],
   "source": [
    "summary1['mean'] = summary1['mean'].mul(252)"
   ]
  },
  {
   "cell_type": "code",
   "execution_count": 93,
   "metadata": {},
   "outputs": [],
   "source": [
    "summary1['std'] = summary1['std'].mul(np.sqrt(252))"
   ]
  },
  {
   "cell_type": "code",
   "execution_count": 94,
   "metadata": {},
   "outputs": [
    {
     "data": {
      "text/html": [
       "<div>\n",
       "<style scoped>\n",
       "    .dataframe tbody tr th:only-of-type {\n",
       "        vertical-align: middle;\n",
       "    }\n",
       "\n",
       "    .dataframe tbody tr th {\n",
       "        vertical-align: top;\n",
       "    }\n",
       "\n",
       "    .dataframe thead th {\n",
       "        text-align: right;\n",
       "    }\n",
       "</style>\n",
       "<table border=\"1\" class=\"dataframe\">\n",
       "  <thead>\n",
       "    <tr style=\"text-align: right;\">\n",
       "      <th></th>\n",
       "      <th>mean</th>\n",
       "      <th>std</th>\n",
       "    </tr>\n",
       "  </thead>\n",
       "  <tbody>\n",
       "    <tr>\n",
       "      <th>AXP</th>\n",
       "      <td>14.185042</td>\n",
       "      <td>21.338462</td>\n",
       "    </tr>\n",
       "    <tr>\n",
       "      <th>FB</th>\n",
       "      <td>12.365649</td>\n",
       "      <td>29.123990</td>\n",
       "    </tr>\n",
       "    <tr>\n",
       "      <th>INTC</th>\n",
       "      <td>16.323202</td>\n",
       "      <td>25.502272</td>\n",
       "    </tr>\n",
       "    <tr>\n",
       "      <th>MCD</th>\n",
       "      <td>17.348488</td>\n",
       "      <td>16.659683</td>\n",
       "    </tr>\n",
       "    <tr>\n",
       "      <th>PG</th>\n",
       "      <td>9.046814</td>\n",
       "      <td>15.202469</td>\n",
       "    </tr>\n",
       "    <tr>\n",
       "      <th>WMT</th>\n",
       "      <td>18.349829</td>\n",
       "      <td>20.643250</td>\n",
       "    </tr>\n",
       "  </tbody>\n",
       "</table>\n",
       "</div>"
      ],
      "text/plain": [
       "           mean        std\n",
       "AXP   14.185042  21.338462\n",
       "FB    12.365649  29.123990\n",
       "INTC  16.323202  25.502272\n",
       "MCD   17.348488  16.659683\n",
       "PG     9.046814  15.202469\n",
       "WMT   18.349829  20.643250"
      ]
     },
     "execution_count": 94,
     "metadata": {},
     "output_type": "execute_result"
    }
   ],
   "source": [
    "summary1"
   ]
  },
  {
   "cell_type": "markdown",
   "metadata": {},
   "source": [
    "#### **Using monthly data**"
   ]
  },
  {
   "cell_type": "code",
   "execution_count": 95,
   "metadata": {},
   "outputs": [],
   "source": [
    "stocks_return2 = stocks_month.pct_change().dropna().mul(100)"
   ]
  },
  {
   "cell_type": "code",
   "execution_count": 99,
   "metadata": {},
   "outputs": [],
   "source": [
    "summary2 = stocks_return2.describe().T.loc[:, ['mean', 'std']]"
   ]
  },
  {
   "cell_type": "code",
   "execution_count": 100,
   "metadata": {},
   "outputs": [
    {
     "data": {
      "text/html": [
       "<div>\n",
       "<style scoped>\n",
       "    .dataframe tbody tr th:only-of-type {\n",
       "        vertical-align: middle;\n",
       "    }\n",
       "\n",
       "    .dataframe tbody tr th {\n",
       "        vertical-align: top;\n",
       "    }\n",
       "\n",
       "    .dataframe thead th {\n",
       "        text-align: right;\n",
       "    }\n",
       "</style>\n",
       "<table border=\"1\" class=\"dataframe\">\n",
       "  <thead>\n",
       "    <tr style=\"text-align: right;\">\n",
       "      <th></th>\n",
       "      <th>mean</th>\n",
       "      <th>std</th>\n",
       "    </tr>\n",
       "  </thead>\n",
       "  <tbody>\n",
       "    <tr>\n",
       "      <th>AXP</th>\n",
       "      <td>1.216187</td>\n",
       "      <td>6.545649</td>\n",
       "    </tr>\n",
       "    <tr>\n",
       "      <th>FB</th>\n",
       "      <td>0.865567</td>\n",
       "      <td>6.318259</td>\n",
       "    </tr>\n",
       "    <tr>\n",
       "      <th>INTC</th>\n",
       "      <td>1.255936</td>\n",
       "      <td>5.896327</td>\n",
       "    </tr>\n",
       "    <tr>\n",
       "      <th>MCD</th>\n",
       "      <td>1.417869</td>\n",
       "      <td>4.181708</td>\n",
       "    </tr>\n",
       "    <tr>\n",
       "      <th>PG</th>\n",
       "      <td>0.735810</td>\n",
       "      <td>3.994520</td>\n",
       "    </tr>\n",
       "    <tr>\n",
       "      <th>WMT</th>\n",
       "      <td>1.499687</td>\n",
       "      <td>5.405365</td>\n",
       "    </tr>\n",
       "  </tbody>\n",
       "</table>\n",
       "</div>"
      ],
      "text/plain": [
       "          mean       std\n",
       "AXP   1.216187  6.545649\n",
       "FB    0.865567  6.318259\n",
       "INTC  1.255936  5.896327\n",
       "MCD   1.417869  4.181708\n",
       "PG    0.735810  3.994520\n",
       "WMT   1.499687  5.405365"
      ]
     },
     "execution_count": 100,
     "metadata": {},
     "output_type": "execute_result"
    }
   ],
   "source": [
    "summary2"
   ]
  },
  {
   "cell_type": "code",
   "execution_count": 101,
   "metadata": {},
   "outputs": [],
   "source": [
    "summary2['mean'] = summary2['mean'].mul(12)"
   ]
  },
  {
   "cell_type": "code",
   "execution_count": 102,
   "metadata": {},
   "outputs": [],
   "source": [
    "summary2['std'] = summary2['std'].mul(np.sqrt(12))"
   ]
  },
  {
   "cell_type": "code",
   "execution_count": 103,
   "metadata": {},
   "outputs": [
    {
     "data": {
      "text/html": [
       "<div>\n",
       "<style scoped>\n",
       "    .dataframe tbody tr th:only-of-type {\n",
       "        vertical-align: middle;\n",
       "    }\n",
       "\n",
       "    .dataframe tbody tr th {\n",
       "        vertical-align: top;\n",
       "    }\n",
       "\n",
       "    .dataframe thead th {\n",
       "        text-align: right;\n",
       "    }\n",
       "</style>\n",
       "<table border=\"1\" class=\"dataframe\">\n",
       "  <thead>\n",
       "    <tr style=\"text-align: right;\">\n",
       "      <th></th>\n",
       "      <th>mean</th>\n",
       "      <th>std</th>\n",
       "    </tr>\n",
       "  </thead>\n",
       "  <tbody>\n",
       "    <tr>\n",
       "      <th>AXP</th>\n",
       "      <td>14.594240</td>\n",
       "      <td>22.674792</td>\n",
       "    </tr>\n",
       "    <tr>\n",
       "      <th>FB</th>\n",
       "      <td>10.386801</td>\n",
       "      <td>21.887091</td>\n",
       "    </tr>\n",
       "    <tr>\n",
       "      <th>INTC</th>\n",
       "      <td>15.071230</td>\n",
       "      <td>20.425477</td>\n",
       "    </tr>\n",
       "    <tr>\n",
       "      <th>MCD</th>\n",
       "      <td>17.014426</td>\n",
       "      <td>14.485862</td>\n",
       "    </tr>\n",
       "    <tr>\n",
       "      <th>PG</th>\n",
       "      <td>8.829716</td>\n",
       "      <td>13.837425</td>\n",
       "    </tr>\n",
       "    <tr>\n",
       "      <th>WMT</th>\n",
       "      <td>17.996243</td>\n",
       "      <td>18.724733</td>\n",
       "    </tr>\n",
       "  </tbody>\n",
       "</table>\n",
       "</div>"
      ],
      "text/plain": [
       "           mean        std\n",
       "AXP   14.594240  22.674792\n",
       "FB    10.386801  21.887091\n",
       "INTC  15.071230  20.425477\n",
       "MCD   17.014426  14.485862\n",
       "PG     8.829716  13.837425\n",
       "WMT   17.996243  18.724733"
      ]
     },
     "execution_count": 103,
     "metadata": {},
     "output_type": "execute_result"
    }
   ],
   "source": [
    "summary2"
   ]
  },
  {
   "cell_type": "markdown",
   "metadata": {},
   "source": [
    "__Visualize risk/return__ of all six stocks in a (total) risk / return framework. (annualized std on the x-axis, annualized mean returns on the y-axis). <br>\n",
    "Identify the __best performing__ stock and the __worst performing__ stock (in terms of __risk / return__)"
   ]
  },
  {
   "cell_type": "code",
   "execution_count": 112,
   "metadata": {},
   "outputs": [
    {
     "data": {
      "image/png": "[encoded data removed]",
      "text/plain": [
       "<Figure size 1200x500 with 1 Axes>"
      ]
     },
     "metadata": {},
     "output_type": "display_data"
    }
   ],
   "source": [
    "summary1.plot(kind = 'scatter', x = 'std', y = 'mean', figsize = (12, 5))\n",
    "for idx in summary1.index:\n",
    "    plt.annotate(text = idx, xy = (summary1.loc[idx, 'std'] + 0.3, summary1.loc[idx, 'mean'] - 0.1))\n",
    "plt.xlabel(\"ann. Risk(std)\", fontsize = 15)\n",
    "plt.ylabel(\"ann. Return\", fontsize = 15)\n",
    "plt.title(\"Risk/Return\", fontsize = 20)\n",
    "plt.show()"
   ]
  },
  {
   "cell_type": "markdown",
   "metadata": {},
   "source": [
    "__Reindex__ the DataFrame __stocks__ with all __365 calander days of 2018__. Fill NaN Values!"
   ]
  },
  {
   "cell_type": "code",
   "execution_count": 141,
   "metadata": {},
   "outputs": [],
   "source": [
    "all_2018 = pd.date_range(start = '2018-01-01', end = '2018-12-31')"
   ]
  },
  {
   "cell_type": "code",
   "execution_count": 142,
   "metadata": {},
   "outputs": [
    {
     "data": {
      "text/plain": [
       "DatetimeIndex(['2018-01-01', '2018-01-02', '2018-01-03', '2018-01-04',\n",
       "               '2018-01-05', '2018-01-06', '2018-01-07', '2018-01-08',\n",
       "               '2018-01-09', '2018-01-10',\n",
       "               ...\n",
       "               '2018-12-22', '2018-12-23', '2018-12-24', '2018-12-25',\n",
       "               '2018-12-26', '2018-12-27', '2018-12-28', '2018-12-29',\n",
       "               '2018-12-30', '2018-12-31'],\n",
       "              dtype='datetime64[ns]', length=365, freq='D')"
      ]
     },
     "execution_count": 142,
     "metadata": {},
     "output_type": "execute_result"
    }
   ],
   "source": [
    "all_2018"
   ]
  },
  {
   "cell_type": "code",
   "execution_count": 150,
   "metadata": {},
   "outputs": [],
   "source": [
    "stocks_2018 = stocks.loc['2018']"
   ]
  },
  {
   "cell_type": "code",
   "execution_count": 151,
   "metadata": {},
   "outputs": [],
   "source": [
    "stocks_2018 = stocks_2018.reindex(all_2018)"
   ]
  },
  {
   "cell_type": "code",
   "execution_count": 152,
   "metadata": {},
   "outputs": [],
   "source": [
    "Day = stocks_2018.index.day_name()"
   ]
  },
  {
   "cell_type": "code",
   "execution_count": 153,
   "metadata": {},
   "outputs": [
    {
     "data": {
      "text/plain": [
       "Index(['Monday', 'Tuesday', 'Wednesday', 'Thursday', 'Friday', 'Saturday',\n",
       "       'Sunday', 'Monday', 'Tuesday', 'Wednesday',\n",
       "       ...\n",
       "       'Saturday', 'Sunday', 'Monday', 'Tuesday', 'Wednesday', 'Thursday',\n",
       "       'Friday', 'Saturday', 'Sunday', 'Monday'],\n",
       "      dtype='object', length=365)"
      ]
     },
     "execution_count": 153,
     "metadata": {},
     "output_type": "execute_result"
    }
   ],
   "source": [
    "Day"
   ]
  },
  {
   "cell_type": "code",
   "execution_count": 154,
   "metadata": {},
   "outputs": [],
   "source": [
    "stocks_2018.insert(loc = 0, column = 'Day', value = Day)"
   ]
  },
  {
   "cell_type": "code",
   "execution_count": 155,
   "metadata": {},
   "outputs": [
    {
     "data": {
      "text/html": [
       "<div>\n",
       "<style scoped>\n",
       "    .dataframe tbody tr th:only-of-type {\n",
       "        vertical-align: middle;\n",
       "    }\n",
       "\n",
       "    .dataframe tbody tr th {\n",
       "        vertical-align: top;\n",
       "    }\n",
       "\n",
       "    .dataframe thead th {\n",
       "        text-align: right;\n",
       "    }\n",
       "</style>\n",
       "<table border=\"1\" class=\"dataframe\">\n",
       "  <thead>\n",
       "    <tr style=\"text-align: right;\">\n",
       "      <th></th>\n",
       "      <th>Day</th>\n",
       "      <th>AXP</th>\n",
       "      <th>FB</th>\n",
       "      <th>INTC</th>\n",
       "      <th>MCD</th>\n",
       "      <th>PG</th>\n",
       "      <th>WMT</th>\n",
       "    </tr>\n",
       "  </thead>\n",
       "  <tbody>\n",
       "    <tr>\n",
       "      <th>2018-01-01</th>\n",
       "      <td>Monday</td>\n",
       "      <td>NaN</td>\n",
       "      <td>NaN</td>\n",
       "      <td>NaN</td>\n",
       "      <td>NaN</td>\n",
       "      <td>NaN</td>\n",
       "      <td>NaN</td>\n",
       "    </tr>\n",
       "    <tr>\n",
       "      <th>2018-01-02</th>\n",
       "      <td>Tuesday</td>\n",
       "      <td>97.122566</td>\n",
       "      <td>181.419998</td>\n",
       "      <td>45.412144</td>\n",
       "      <td>168.941528</td>\n",
       "      <td>86.876450</td>\n",
       "      <td>96.304199</td>\n",
       "    </tr>\n",
       "    <tr>\n",
       "      <th>2018-01-03</th>\n",
       "      <td>Wednesday</td>\n",
       "      <td>97.721367</td>\n",
       "      <td>184.669998</td>\n",
       "      <td>43.870941</td>\n",
       "      <td>168.229553</td>\n",
       "      <td>86.771019</td>\n",
       "      <td>97.144257</td>\n",
       "    </tr>\n",
       "    <tr>\n",
       "      <th>2018-01-04</th>\n",
       "      <td>Thursday</td>\n",
       "      <td>99.346771</td>\n",
       "      <td>184.330002</td>\n",
       "      <td>43.066414</td>\n",
       "      <td>169.409668</td>\n",
       "      <td>87.384384</td>\n",
       "      <td>97.232178</td>\n",
       "    </tr>\n",
       "    <tr>\n",
       "      <th>2018-01-05</th>\n",
       "      <td>Friday</td>\n",
       "      <td>99.573341</td>\n",
       "      <td>186.850006</td>\n",
       "      <td>43.366901</td>\n",
       "      <td>169.751038</td>\n",
       "      <td>87.441887</td>\n",
       "      <td>97.808487</td>\n",
       "    </tr>\n",
       "    <tr>\n",
       "      <th>...</th>\n",
       "      <td>...</td>\n",
       "      <td>...</td>\n",
       "      <td>...</td>\n",
       "      <td>...</td>\n",
       "      <td>...</td>\n",
       "      <td>...</td>\n",
       "      <td>...</td>\n",
       "    </tr>\n",
       "    <tr>\n",
       "      <th>2018-12-27</th>\n",
       "      <td>Thursday</td>\n",
       "      <td>94.294075</td>\n",
       "      <td>134.520004</td>\n",
       "      <td>46.067993</td>\n",
       "      <td>175.710007</td>\n",
       "      <td>91.297897</td>\n",
       "      <td>91.589996</td>\n",
       "    </tr>\n",
       "    <tr>\n",
       "      <th>2018-12-28</th>\n",
       "      <td>Friday</td>\n",
       "      <td>94.035133</td>\n",
       "      <td>133.199997</td>\n",
       "      <td>46.455536</td>\n",
       "      <td>175.559998</td>\n",
       "      <td>90.464493</td>\n",
       "      <td>92.129997</td>\n",
       "    </tr>\n",
       "    <tr>\n",
       "      <th>2018-12-29</th>\n",
       "      <td>Saturday</td>\n",
       "      <td>NaN</td>\n",
       "      <td>NaN</td>\n",
       "      <td>NaN</td>\n",
       "      <td>NaN</td>\n",
       "      <td>NaN</td>\n",
       "      <td>NaN</td>\n",
       "    </tr>\n",
       "    <tr>\n",
       "      <th>2018-12-30</th>\n",
       "      <td>Sunday</td>\n",
       "      <td>NaN</td>\n",
       "      <td>NaN</td>\n",
       "      <td>NaN</td>\n",
       "      <td>NaN</td>\n",
       "      <td>NaN</td>\n",
       "      <td>NaN</td>\n",
       "    </tr>\n",
       "    <tr>\n",
       "      <th>2018-12-31</th>\n",
       "      <td>Monday</td>\n",
       "      <td>NaN</td>\n",
       "      <td>NaN</td>\n",
       "      <td>NaN</td>\n",
       "      <td>NaN</td>\n",
       "      <td>NaN</td>\n",
       "      <td>NaN</td>\n",
       "    </tr>\n",
       "  </tbody>\n",
       "</table>\n",
       "<p>365 rows × 7 columns</p>\n",
       "</div>"
      ],
      "text/plain": [
       "                  Day        AXP          FB       INTC         MCD  \\\n",
       "2018-01-01     Monday        NaN         NaN        NaN         NaN   \n",
       "2018-01-02    Tuesday  97.122566  181.419998  45.412144  168.941528   \n",
       "2018-01-03  Wednesday  97.721367  184.669998  43.870941  168.229553   \n",
       "2018-01-04   Thursday  99.346771  184.330002  43.066414  169.409668   \n",
       "2018-01-05     Friday  99.573341  186.850006  43.366901  169.751038   \n",
       "...               ...        ...         ...        ...         ...   \n",
       "2018-12-27   Thursday  94.294075  134.520004  46.067993  175.710007   \n",
       "2018-12-28     Friday  94.035133  133.199997  46.455536  175.559998   \n",
       "2018-12-29   Saturday        NaN         NaN        NaN         NaN   \n",
       "2018-12-30     Sunday        NaN         NaN        NaN         NaN   \n",
       "2018-12-31     Monday        NaN         NaN        NaN         NaN   \n",
       "\n",
       "                   PG        WMT  \n",
       "2018-01-01        NaN        NaN  \n",
       "2018-01-02  86.876450  96.304199  \n",
       "2018-01-03  86.771019  97.144257  \n",
       "2018-01-04  87.384384  97.232178  \n",
       "2018-01-05  87.441887  97.808487  \n",
       "...               ...        ...  \n",
       "2018-12-27  91.297897  91.589996  \n",
       "2018-12-28  90.464493  92.129997  \n",
       "2018-12-29        NaN        NaN  \n",
       "2018-12-30        NaN        NaN  \n",
       "2018-12-31        NaN        NaN  \n",
       "\n",
       "[365 rows x 7 columns]"
      ]
     },
     "execution_count": 155,
     "metadata": {},
     "output_type": "execute_result"
    }
   ],
   "source": [
    "stocks_2018.reindex()"
   ]
  },
  {
   "cell_type": "code",
   "execution_count": 156,
   "metadata": {},
   "outputs": [
    {
     "data": {
      "text/html": [
       "<div>\n",
       "<style scoped>\n",
       "    .dataframe tbody tr th:only-of-type {\n",
       "        vertical-align: middle;\n",
       "    }\n",
       "\n",
       "    .dataframe tbody tr th {\n",
       "        vertical-align: top;\n",
       "    }\n",
       "\n",
       "    .dataframe thead th {\n",
       "        text-align: right;\n",
       "    }\n",
       "</style>\n",
       "<table border=\"1\" class=\"dataframe\">\n",
       "  <thead>\n",
       "    <tr style=\"text-align: right;\">\n",
       "      <th></th>\n",
       "      <th>Day</th>\n",
       "      <th>AXP</th>\n",
       "      <th>FB</th>\n",
       "      <th>INTC</th>\n",
       "      <th>MCD</th>\n",
       "      <th>PG</th>\n",
       "      <th>WMT</th>\n",
       "    </tr>\n",
       "  </thead>\n",
       "  <tbody>\n",
       "    <tr>\n",
       "      <th>2018-01-01</th>\n",
       "      <td>Monday</td>\n",
       "      <td>NaN</td>\n",
       "      <td>NaN</td>\n",
       "      <td>NaN</td>\n",
       "      <td>NaN</td>\n",
       "      <td>NaN</td>\n",
       "      <td>NaN</td>\n",
       "    </tr>\n",
       "    <tr>\n",
       "      <th>2018-01-02</th>\n",
       "      <td>Tuesday</td>\n",
       "      <td>97.122566</td>\n",
       "      <td>181.419998</td>\n",
       "      <td>45.412144</td>\n",
       "      <td>168.941528</td>\n",
       "      <td>86.876450</td>\n",
       "      <td>96.304199</td>\n",
       "    </tr>\n",
       "    <tr>\n",
       "      <th>2018-01-03</th>\n",
       "      <td>Wednesday</td>\n",
       "      <td>97.721367</td>\n",
       "      <td>184.669998</td>\n",
       "      <td>43.870941</td>\n",
       "      <td>168.229553</td>\n",
       "      <td>86.771019</td>\n",
       "      <td>97.144257</td>\n",
       "    </tr>\n",
       "    <tr>\n",
       "      <th>2018-01-04</th>\n",
       "      <td>Thursday</td>\n",
       "      <td>99.346771</td>\n",
       "      <td>184.330002</td>\n",
       "      <td>43.066414</td>\n",
       "      <td>169.409668</td>\n",
       "      <td>87.384384</td>\n",
       "      <td>97.232178</td>\n",
       "    </tr>\n",
       "    <tr>\n",
       "      <th>2018-01-05</th>\n",
       "      <td>Friday</td>\n",
       "      <td>99.573341</td>\n",
       "      <td>186.850006</td>\n",
       "      <td>43.366901</td>\n",
       "      <td>169.751038</td>\n",
       "      <td>87.441887</td>\n",
       "      <td>97.808487</td>\n",
       "    </tr>\n",
       "    <tr>\n",
       "      <th>2018-01-06</th>\n",
       "      <td>Saturday</td>\n",
       "      <td>NaN</td>\n",
       "      <td>NaN</td>\n",
       "      <td>NaN</td>\n",
       "      <td>NaN</td>\n",
       "      <td>NaN</td>\n",
       "      <td>NaN</td>\n",
       "    </tr>\n",
       "    <tr>\n",
       "      <th>2018-01-07</th>\n",
       "      <td>Sunday</td>\n",
       "      <td>NaN</td>\n",
       "      <td>NaN</td>\n",
       "      <td>NaN</td>\n",
       "      <td>NaN</td>\n",
       "      <td>NaN</td>\n",
       "      <td>NaN</td>\n",
       "    </tr>\n",
       "    <tr>\n",
       "      <th>2018-01-08</th>\n",
       "      <td>Monday</td>\n",
       "      <td>98.657196</td>\n",
       "      <td>188.279999</td>\n",
       "      <td>43.366901</td>\n",
       "      <td>169.633987</td>\n",
       "      <td>87.901909</td>\n",
       "      <td>99.254173</td>\n",
       "    </tr>\n",
       "    <tr>\n",
       "      <th>2018-01-09</th>\n",
       "      <td>Tuesday</td>\n",
       "      <td>99.021690</td>\n",
       "      <td>187.869995</td>\n",
       "      <td>42.281269</td>\n",
       "      <td>169.253616</td>\n",
       "      <td>87.259796</td>\n",
       "      <td>98.062462</td>\n",
       "    </tr>\n",
       "    <tr>\n",
       "      <th>2018-01-10</th>\n",
       "      <td>Wednesday</td>\n",
       "      <td>99.711250</td>\n",
       "      <td>187.839996</td>\n",
       "      <td>41.195652</td>\n",
       "      <td>169.224365</td>\n",
       "      <td>86.703941</td>\n",
       "      <td>97.359154</td>\n",
       "    </tr>\n",
       "    <tr>\n",
       "      <th>2018-01-11</th>\n",
       "      <td>Thursday</td>\n",
       "      <td>99.228554</td>\n",
       "      <td>187.770004</td>\n",
       "      <td>42.077721</td>\n",
       "      <td>169.107330</td>\n",
       "      <td>86.397263</td>\n",
       "      <td>97.701035</td>\n",
       "    </tr>\n",
       "    <tr>\n",
       "      <th>2018-01-12</th>\n",
       "      <td>Friday</td>\n",
       "      <td>99.464981</td>\n",
       "      <td>179.369995</td>\n",
       "      <td>41.912933</td>\n",
       "      <td>169.282883</td>\n",
       "      <td>85.879730</td>\n",
       "      <td>98.531342</td>\n",
       "    </tr>\n",
       "    <tr>\n",
       "      <th>2018-01-13</th>\n",
       "      <td>Saturday</td>\n",
       "      <td>NaN</td>\n",
       "      <td>NaN</td>\n",
       "      <td>NaN</td>\n",
       "      <td>NaN</td>\n",
       "      <td>NaN</td>\n",
       "      <td>NaN</td>\n",
       "    </tr>\n",
       "    <tr>\n",
       "      <th>2018-01-14</th>\n",
       "      <td>Sunday</td>\n",
       "      <td>NaN</td>\n",
       "      <td>NaN</td>\n",
       "      <td>NaN</td>\n",
       "      <td>NaN</td>\n",
       "      <td>NaN</td>\n",
       "      <td>NaN</td>\n",
       "    </tr>\n",
       "    <tr>\n",
       "      <th>2018-01-15</th>\n",
       "      <td>Monday</td>\n",
       "      <td>NaN</td>\n",
       "      <td>NaN</td>\n",
       "      <td>NaN</td>\n",
       "      <td>NaN</td>\n",
       "      <td>NaN</td>\n",
       "      <td>NaN</td>\n",
       "    </tr>\n",
       "    <tr>\n",
       "      <th>2018-01-16</th>\n",
       "      <td>Tuesday</td>\n",
       "      <td>98.844360</td>\n",
       "      <td>178.389999</td>\n",
       "      <td>41.816006</td>\n",
       "      <td>169.390152</td>\n",
       "      <td>86.464348</td>\n",
       "      <td>98.355515</td>\n",
       "    </tr>\n",
       "    <tr>\n",
       "      <th>2018-01-17</th>\n",
       "      <td>Wednesday</td>\n",
       "      <td>99.258102</td>\n",
       "      <td>177.600006</td>\n",
       "      <td>43.027641</td>\n",
       "      <td>170.658051</td>\n",
       "      <td>87.403542</td>\n",
       "      <td>100.318901</td>\n",
       "    </tr>\n",
       "    <tr>\n",
       "      <th>2018-01-18</th>\n",
       "      <td>Thursday</td>\n",
       "      <td>98.371521</td>\n",
       "      <td>179.800003</td>\n",
       "      <td>43.114883</td>\n",
       "      <td>170.258194</td>\n",
       "      <td>87.084488</td>\n",
       "      <td>101.881821</td>\n",
       "    </tr>\n",
       "    <tr>\n",
       "      <th>2018-01-19</th>\n",
       "      <td>Friday</td>\n",
       "      <td>96.568794</td>\n",
       "      <td>181.289993</td>\n",
       "      <td>43.444443</td>\n",
       "      <td>171.769882</td>\n",
       "      <td>87.943932</td>\n",
       "      <td>102.165077</td>\n",
       "    </tr>\n",
       "    <tr>\n",
       "      <th>2018-01-20</th>\n",
       "      <td>Saturday</td>\n",
       "      <td>NaN</td>\n",
       "      <td>NaN</td>\n",
       "      <td>NaN</td>\n",
       "      <td>NaN</td>\n",
       "      <td>NaN</td>\n",
       "      <td>NaN</td>\n",
       "    </tr>\n",
       "  </tbody>\n",
       "</table>\n",
       "</div>"
      ],
      "text/plain": [
       "                  Day        AXP          FB       INTC         MCD  \\\n",
       "2018-01-01     Monday        NaN         NaN        NaN         NaN   \n",
       "2018-01-02    Tuesday  97.122566  181.419998  45.412144  168.941528   \n",
       "2018-01-03  Wednesday  97.721367  184.669998  43.870941  168.229553   \n",
       "2018-01-04   Thursday  99.346771  184.330002  43.066414  169.409668   \n",
       "2018-01-05     Friday  99.573341  186.850006  43.366901  169.751038   \n",
       "2018-01-06   Saturday        NaN         NaN        NaN         NaN   \n",
       "2018-01-07     Sunday        NaN         NaN        NaN         NaN   \n",
       "2018-01-08     Monday  98.657196  188.279999  43.366901  169.633987   \n",
       "2018-01-09    Tuesday  99.021690  187.869995  42.281269  169.253616   \n",
       "2018-01-10  Wednesday  99.711250  187.839996  41.195652  169.224365   \n",
       "2018-01-11   Thursday  99.228554  187.770004  42.077721  169.107330   \n",
       "2018-01-12     Friday  99.464981  179.369995  41.912933  169.282883   \n",
       "2018-01-13   Saturday        NaN         NaN        NaN         NaN   \n",
       "2018-01-14     Sunday        NaN         NaN        NaN         NaN   \n",
       "2018-01-15     Monday        NaN         NaN        NaN         NaN   \n",
       "2018-01-16    Tuesday  98.844360  178.389999  41.816006  169.390152   \n",
       "2018-01-17  Wednesday  99.258102  177.600006  43.027641  170.658051   \n",
       "2018-01-18   Thursday  98.371521  179.800003  43.114883  170.258194   \n",
       "2018-01-19     Friday  96.568794  181.289993  43.444443  171.769882   \n",
       "2018-01-20   Saturday        NaN         NaN        NaN         NaN   \n",
       "\n",
       "                   PG         WMT  \n",
       "2018-01-01        NaN         NaN  \n",
       "2018-01-02  86.876450   96.304199  \n",
       "2018-01-03  86.771019   97.144257  \n",
       "2018-01-04  87.384384   97.232178  \n",
       "2018-01-05  87.441887   97.808487  \n",
       "2018-01-06        NaN         NaN  \n",
       "2018-01-07        NaN         NaN  \n",
       "2018-01-08  87.901909   99.254173  \n",
       "2018-01-09  87.259796   98.062462  \n",
       "2018-01-10  86.703941   97.359154  \n",
       "2018-01-11  86.397263   97.701035  \n",
       "2018-01-12  85.879730   98.531342  \n",
       "2018-01-13        NaN         NaN  \n",
       "2018-01-14        NaN         NaN  \n",
       "2018-01-15        NaN         NaN  \n",
       "2018-01-16  86.464348   98.355515  \n",
       "2018-01-17  87.403542  100.318901  \n",
       "2018-01-18  87.084488  101.881821  \n",
       "2018-01-19  87.943932  102.165077  \n",
       "2018-01-20        NaN         NaN  "
      ]
     },
     "execution_count": 156,
     "metadata": {},
     "output_type": "execute_result"
    }
   ],
   "source": [
    "stocks_2018.head(20)"
   ]
  },
  {
   "cell_type": "code",
   "execution_count": 157,
   "metadata": {},
   "outputs": [],
   "source": [
    "stocks_2018.ffill(inplace = True)"
   ]
  },
  {
   "cell_type": "code",
   "execution_count": 158,
   "metadata": {},
   "outputs": [
    {
     "data": {
      "text/html": [
       "<div>\n",
       "<style scoped>\n",
       "    .dataframe tbody tr th:only-of-type {\n",
       "        vertical-align: middle;\n",
       "    }\n",
       "\n",
       "    .dataframe tbody tr th {\n",
       "        vertical-align: top;\n",
       "    }\n",
       "\n",
       "    .dataframe thead th {\n",
       "        text-align: right;\n",
       "    }\n",
       "</style>\n",
       "<table border=\"1\" class=\"dataframe\">\n",
       "  <thead>\n",
       "    <tr style=\"text-align: right;\">\n",
       "      <th></th>\n",
       "      <th>Day</th>\n",
       "      <th>AXP</th>\n",
       "      <th>FB</th>\n",
       "      <th>INTC</th>\n",
       "      <th>MCD</th>\n",
       "      <th>PG</th>\n",
       "      <th>WMT</th>\n",
       "    </tr>\n",
       "  </thead>\n",
       "  <tbody>\n",
       "    <tr>\n",
       "      <th>2018-01-01</th>\n",
       "      <td>Monday</td>\n",
       "      <td>NaN</td>\n",
       "      <td>NaN</td>\n",
       "      <td>NaN</td>\n",
       "      <td>NaN</td>\n",
       "      <td>NaN</td>\n",
       "      <td>NaN</td>\n",
       "    </tr>\n",
       "    <tr>\n",
       "      <th>2018-01-02</th>\n",
       "      <td>Tuesday</td>\n",
       "      <td>97.122566</td>\n",
       "      <td>181.419998</td>\n",
       "      <td>45.412144</td>\n",
       "      <td>168.941528</td>\n",
       "      <td>86.876450</td>\n",
       "      <td>96.304199</td>\n",
       "    </tr>\n",
       "    <tr>\n",
       "      <th>2018-01-03</th>\n",
       "      <td>Wednesday</td>\n",
       "      <td>97.721367</td>\n",
       "      <td>184.669998</td>\n",
       "      <td>43.870941</td>\n",
       "      <td>168.229553</td>\n",
       "      <td>86.771019</td>\n",
       "      <td>97.144257</td>\n",
       "    </tr>\n",
       "    <tr>\n",
       "      <th>2018-01-04</th>\n",
       "      <td>Thursday</td>\n",
       "      <td>99.346771</td>\n",
       "      <td>184.330002</td>\n",
       "      <td>43.066414</td>\n",
       "      <td>169.409668</td>\n",
       "      <td>87.384384</td>\n",
       "      <td>97.232178</td>\n",
       "    </tr>\n",
       "    <tr>\n",
       "      <th>2018-01-05</th>\n",
       "      <td>Friday</td>\n",
       "      <td>99.573341</td>\n",
       "      <td>186.850006</td>\n",
       "      <td>43.366901</td>\n",
       "      <td>169.751038</td>\n",
       "      <td>87.441887</td>\n",
       "      <td>97.808487</td>\n",
       "    </tr>\n",
       "    <tr>\n",
       "      <th>2018-01-06</th>\n",
       "      <td>Saturday</td>\n",
       "      <td>99.573341</td>\n",
       "      <td>186.850006</td>\n",
       "      <td>43.366901</td>\n",
       "      <td>169.751038</td>\n",
       "      <td>87.441887</td>\n",
       "      <td>97.808487</td>\n",
       "    </tr>\n",
       "    <tr>\n",
       "      <th>2018-01-07</th>\n",
       "      <td>Sunday</td>\n",
       "      <td>99.573341</td>\n",
       "      <td>186.850006</td>\n",
       "      <td>43.366901</td>\n",
       "      <td>169.751038</td>\n",
       "      <td>87.441887</td>\n",
       "      <td>97.808487</td>\n",
       "    </tr>\n",
       "    <tr>\n",
       "      <th>2018-01-08</th>\n",
       "      <td>Monday</td>\n",
       "      <td>98.657196</td>\n",
       "      <td>188.279999</td>\n",
       "      <td>43.366901</td>\n",
       "      <td>169.633987</td>\n",
       "      <td>87.901909</td>\n",
       "      <td>99.254173</td>\n",
       "    </tr>\n",
       "    <tr>\n",
       "      <th>2018-01-09</th>\n",
       "      <td>Tuesday</td>\n",
       "      <td>99.021690</td>\n",
       "      <td>187.869995</td>\n",
       "      <td>42.281269</td>\n",
       "      <td>169.253616</td>\n",
       "      <td>87.259796</td>\n",
       "      <td>98.062462</td>\n",
       "    </tr>\n",
       "    <tr>\n",
       "      <th>2018-01-10</th>\n",
       "      <td>Wednesday</td>\n",
       "      <td>99.711250</td>\n",
       "      <td>187.839996</td>\n",
       "      <td>41.195652</td>\n",
       "      <td>169.224365</td>\n",
       "      <td>86.703941</td>\n",
       "      <td>97.359154</td>\n",
       "    </tr>\n",
       "    <tr>\n",
       "      <th>2018-01-11</th>\n",
       "      <td>Thursday</td>\n",
       "      <td>99.228554</td>\n",
       "      <td>187.770004</td>\n",
       "      <td>42.077721</td>\n",
       "      <td>169.107330</td>\n",
       "      <td>86.397263</td>\n",
       "      <td>97.701035</td>\n",
       "    </tr>\n",
       "    <tr>\n",
       "      <th>2018-01-12</th>\n",
       "      <td>Friday</td>\n",
       "      <td>99.464981</td>\n",
       "      <td>179.369995</td>\n",
       "      <td>41.912933</td>\n",
       "      <td>169.282883</td>\n",
       "      <td>85.879730</td>\n",
       "      <td>98.531342</td>\n",
       "    </tr>\n",
       "    <tr>\n",
       "      <th>2018-01-13</th>\n",
       "      <td>Saturday</td>\n",
       "      <td>99.464981</td>\n",
       "      <td>179.369995</td>\n",
       "      <td>41.912933</td>\n",
       "      <td>169.282883</td>\n",
       "      <td>85.879730</td>\n",
       "      <td>98.531342</td>\n",
       "    </tr>\n",
       "    <tr>\n",
       "      <th>2018-01-14</th>\n",
       "      <td>Sunday</td>\n",
       "      <td>99.464981</td>\n",
       "      <td>179.369995</td>\n",
       "      <td>41.912933</td>\n",
       "      <td>169.282883</td>\n",
       "      <td>85.879730</td>\n",
       "      <td>98.531342</td>\n",
       "    </tr>\n",
       "    <tr>\n",
       "      <th>2018-01-15</th>\n",
       "      <td>Monday</td>\n",
       "      <td>99.464981</td>\n",
       "      <td>179.369995</td>\n",
       "      <td>41.912933</td>\n",
       "      <td>169.282883</td>\n",
       "      <td>85.879730</td>\n",
       "      <td>98.531342</td>\n",
       "    </tr>\n",
       "    <tr>\n",
       "      <th>2018-01-16</th>\n",
       "      <td>Tuesday</td>\n",
       "      <td>98.844360</td>\n",
       "      <td>178.389999</td>\n",
       "      <td>41.816006</td>\n",
       "      <td>169.390152</td>\n",
       "      <td>86.464348</td>\n",
       "      <td>98.355515</td>\n",
       "    </tr>\n",
       "    <tr>\n",
       "      <th>2018-01-17</th>\n",
       "      <td>Wednesday</td>\n",
       "      <td>99.258102</td>\n",
       "      <td>177.600006</td>\n",
       "      <td>43.027641</td>\n",
       "      <td>170.658051</td>\n",
       "      <td>87.403542</td>\n",
       "      <td>100.318901</td>\n",
       "    </tr>\n",
       "    <tr>\n",
       "      <th>2018-01-18</th>\n",
       "      <td>Thursday</td>\n",
       "      <td>98.371521</td>\n",
       "      <td>179.800003</td>\n",
       "      <td>43.114883</td>\n",
       "      <td>170.258194</td>\n",
       "      <td>87.084488</td>\n",
       "      <td>101.881821</td>\n",
       "    </tr>\n",
       "    <tr>\n",
       "      <th>2018-01-19</th>\n",
       "      <td>Friday</td>\n",
       "      <td>96.568794</td>\n",
       "      <td>181.289993</td>\n",
       "      <td>43.444443</td>\n",
       "      <td>171.769882</td>\n",
       "      <td>87.943932</td>\n",
       "      <td>102.165077</td>\n",
       "    </tr>\n",
       "    <tr>\n",
       "      <th>2018-01-20</th>\n",
       "      <td>Saturday</td>\n",
       "      <td>96.568794</td>\n",
       "      <td>181.289993</td>\n",
       "      <td>43.444443</td>\n",
       "      <td>171.769882</td>\n",
       "      <td>87.943932</td>\n",
       "      <td>102.165077</td>\n",
       "    </tr>\n",
       "  </tbody>\n",
       "</table>\n",
       "</div>"
      ],
      "text/plain": [
       "                  Day        AXP          FB       INTC         MCD  \\\n",
       "2018-01-01     Monday        NaN         NaN        NaN         NaN   \n",
       "2018-01-02    Tuesday  97.122566  181.419998  45.412144  168.941528   \n",
       "2018-01-03  Wednesday  97.721367  184.669998  43.870941  168.229553   \n",
       "2018-01-04   Thursday  99.346771  184.330002  43.066414  169.409668   \n",
       "2018-01-05     Friday  99.573341  186.850006  43.366901  169.751038   \n",
       "2018-01-06   Saturday  99.573341  186.850006  43.366901  169.751038   \n",
       "2018-01-07     Sunday  99.573341  186.850006  43.366901  169.751038   \n",
       "2018-01-08     Monday  98.657196  188.279999  43.366901  169.633987   \n",
       "2018-01-09    Tuesday  99.021690  187.869995  42.281269  169.253616   \n",
       "2018-01-10  Wednesday  99.711250  187.839996  41.195652  169.224365   \n",
       "2018-01-11   Thursday  99.228554  187.770004  42.077721  169.107330   \n",
       "2018-01-12     Friday  99.464981  179.369995  41.912933  169.282883   \n",
       "2018-01-13   Saturday  99.464981  179.369995  41.912933  169.282883   \n",
       "2018-01-14     Sunday  99.464981  179.369995  41.912933  169.282883   \n",
       "2018-01-15     Monday  99.464981  179.369995  41.912933  169.282883   \n",
       "2018-01-16    Tuesday  98.844360  178.389999  41.816006  169.390152   \n",
       "2018-01-17  Wednesday  99.258102  177.600006  43.027641  170.658051   \n",
       "2018-01-18   Thursday  98.371521  179.800003  43.114883  170.258194   \n",
       "2018-01-19     Friday  96.568794  181.289993  43.444443  171.769882   \n",
       "2018-01-20   Saturday  96.568794  181.289993  43.444443  171.769882   \n",
       "\n",
       "                   PG         WMT  \n",
       "2018-01-01        NaN         NaN  \n",
       "2018-01-02  86.876450   96.304199  \n",
       "2018-01-03  86.771019   97.144257  \n",
       "2018-01-04  87.384384   97.232178  \n",
       "2018-01-05  87.441887   97.808487  \n",
       "2018-01-06  87.441887   97.808487  \n",
       "2018-01-07  87.441887   97.808487  \n",
       "2018-01-08  87.901909   99.254173  \n",
       "2018-01-09  87.259796   98.062462  \n",
       "2018-01-10  86.703941   97.359154  \n",
       "2018-01-11  86.397263   97.701035  \n",
       "2018-01-12  85.879730   98.531342  \n",
       "2018-01-13  85.879730   98.531342  \n",
       "2018-01-14  85.879730   98.531342  \n",
       "2018-01-15  85.879730   98.531342  \n",
       "2018-01-16  86.464348   98.355515  \n",
       "2018-01-17  87.403542  100.318901  \n",
       "2018-01-18  87.084488  101.881821  \n",
       "2018-01-19  87.943932  102.165077  \n",
       "2018-01-20  87.943932  102.165077  "
      ]
     },
     "execution_count": 158,
     "metadata": {},
     "output_type": "execute_result"
    }
   ],
   "source": [
    "stocks_2018.head(20)"
   ]
  },
  {
   "cell_type": "markdown",
   "metadata": {},
   "source": [
    "__Ticker Symbols__:\n",
    "- AXP : American Express\n",
    "- FB : Facebook\n",
    "- INTC : Intel\n",
    "- MCD : McDonalds \n",
    "- PG : Procter & Gamble\n",
    "- WMT: Walmart"
   ]
  },
  {
   "cell_type": "markdown",
   "metadata": {},
   "source": [
    "------------------------"
   ]
  },
  {
   "cell_type": "markdown",
   "metadata": {},
   "source": [
    "## Option 2: Guided and Instructed"
   ]
  },
  {
   "cell_type": "markdown",
   "metadata": {},
   "source": [
    "# STOP HERE, IF YOU WANT TO DO THE EXERCISE ON YOUR OWN!"
   ]
  },
  {
   "cell_type": "markdown",
   "metadata": {},
   "source": [
    "+++++++++++++++++++++++++++++++++++++++++++++++++++++++++++++++++++++++++++++++++++++++++++++++++++++++++++++++++++++++++"
   ]
  },
  {
   "cell_type": "code",
   "execution_count": null,
   "metadata": {},
   "outputs": [],
   "source": [
    "#run the cell!\n",
    "import pandas as pd\n",
    "import numpy as np\n",
    "import matplotlib.pyplot as plt\n",
    "plt.style.use(\"seaborn\")"
   ]
  },
  {
   "cell_type": "markdown",
   "metadata": {},
   "source": [
    "154. __Import__ daily stock price data (__us_stocks.csv__) and __insepct__! Handle the __MultiIndex__! __Fill in the gaps__!"
   ]
  },
  {
   "cell_type": "code",
   "execution_count": null,
   "metadata": {},
   "outputs": [],
   "source": [
    "stocks = pd.read_csv(---, header = [---, ---], index_col= [---], parse_dates= [---])"
   ]
  },
  {
   "cell_type": "code",
   "execution_count": null,
   "metadata": {},
   "outputs": [],
   "source": [
    "# run the cell!\n",
    "stocks.head()"
   ]
  },
  {
   "cell_type": "markdown",
   "metadata": {},
   "source": [
    "Ticker Symbols:\n",
    "- AXP : American Express\n",
    "- FB : Facebook\n",
    "- INTC : Intel\n",
    "- MCD : McDonalds \n",
    "- PG : Procter & Gamble\n",
    "- WMT: Walmart"
   ]
  },
  {
   "cell_type": "markdown",
   "metadata": {},
   "source": [
    "155. __Select__ the Adjusted Close (__Adj Close__) for all six stocks from __31-12-2015__ (incl.) until __31-12-2018__ (incl.)! __Overwrite__ stocks! <br>\n",
    "__How many Timestamps__ / Days are now in the DataFrame?"
   ]
  },
  {
   "cell_type": "code",
   "execution_count": null,
   "metadata": {
    "scrolled": true
   },
   "outputs": [],
   "source": []
  },
  {
   "cell_type": "code",
   "execution_count": null,
   "metadata": {},
   "outputs": [],
   "source": [
    "# run the cell!\n",
    "stocks.head()"
   ]
  },
  {
   "cell_type": "code",
   "execution_count": null,
   "metadata": {},
   "outputs": [],
   "source": [
    "# run the cell!\n",
    "stocks.info()"
   ]
  },
  {
   "cell_type": "markdown",
   "metadata": {},
   "source": [
    "We have ... 754 Days."
   ]
  },
  {
   "cell_type": "markdown",
   "metadata": {},
   "source": [
    "156. __Plot__ stocks (figsize (12, 8)!"
   ]
  },
  {
   "cell_type": "code",
   "execution_count": null,
   "metadata": {},
   "outputs": [],
   "source": []
  },
  {
   "cell_type": "markdown",
   "metadata": {},
   "source": [
    "157. __Bring__ the six stocks to the __same Base__ (100) and __plot__ again! __Fill in the gaps!__"
   ]
  },
  {
   "cell_type": "code",
   "execution_count": null,
   "metadata": {},
   "outputs": [],
   "source": [
    "stocks.---(stocks.iloc[0]).---(figsize = (12, 8))\n",
    "plt.show()"
   ]
  },
  {
   "cell_type": "markdown",
   "metadata": {},
   "source": [
    "Still hard to compare performance, right?"
   ]
  },
  {
   "cell_type": "markdown",
   "metadata": {},
   "source": [
    "158. __Resample__ stocks to __monthly__ frequency (__last__ trading price of each month)! __Save__ resampled Dataframe in the variable __stocks_m__!"
   ]
  },
  {
   "cell_type": "code",
   "execution_count": null,
   "metadata": {},
   "outputs": [],
   "source": []
  },
  {
   "cell_type": "code",
   "execution_count": null,
   "metadata": {
    "scrolled": true
   },
   "outputs": [],
   "source": [
    "# run the cell!\n",
    "stocks_m.head()"
   ]
  },
  {
   "cell_type": "markdown",
   "metadata": {},
   "source": [
    "159. Calculate __monthly returns__ and __save__ the result in the variable __ret__! (drop NaN Values!)"
   ]
  },
  {
   "cell_type": "code",
   "execution_count": null,
   "metadata": {},
   "outputs": [],
   "source": []
  },
  {
   "cell_type": "code",
   "execution_count": null,
   "metadata": {
    "scrolled": true
   },
   "outputs": [],
   "source": [
    "#run the cell!\n",
    "ret"
   ]
  },
  {
   "cell_type": "markdown",
   "metadata": {},
   "source": [
    "160. Calculate __mean__ and  __standard deviation__ of monthly returns! __Save__ the result in the variable __summary__!<br>\n",
    "__Fill in the gaps!__"
   ]
  },
  {
   "cell_type": "code",
   "execution_count": null,
   "metadata": {},
   "outputs": [],
   "source": [
    "summary = ret.---.T.iloc[:, [1,2]]"
   ]
  },
  {
   "cell_type": "code",
   "execution_count": null,
   "metadata": {},
   "outputs": [],
   "source": [
    "#run the cell!\n",
    "summary"
   ]
  },
  {
   "cell_type": "markdown",
   "metadata": {},
   "source": [
    "161. __Annualize__ mean and standard deviation of returns! __Fill in the gaps!__"
   ]
  },
  {
   "cell_type": "code",
   "execution_count": null,
   "metadata": {},
   "outputs": [],
   "source": [
    "summary[\"mean\"] = summary[\"mean\"] * ---\n",
    "summary[\"std\"] = summary[\"std\"] * ---"
   ]
  },
  {
   "cell_type": "code",
   "execution_count": null,
   "metadata": {},
   "outputs": [],
   "source": [
    "#run the cell!\n",
    "summary"
   ]
  },
  {
   "cell_type": "markdown",
   "metadata": {},
   "source": [
    "162. __Plot__ and __compare__ the performance of the six stocks in a __(total) risk / return__ framework! __Fill in the gaps__! <br>\n",
    "Can you identify the __best performing__ stock and the __worst performing__ stock (in terms of __risk / return__)?"
   ]
  },
  {
   "cell_type": "code",
   "execution_count": null,
   "metadata": {},
   "outputs": [],
   "source": [
    "summary.plot(kind = ---, x = ---, y = ---, figsize = (12, 8), s = 50, fontsize = 15, xlim = (0.1, 0.3), ylim = (0, 0.25))\n",
    "for i in summary.index:\n",
    "    plt.annotate(i, xy=(summary.loc[i, \"std\"]+0.002, summary.loc[i, \"mean\"]+0.002), size = 15)\n",
    "plt.xlabel(\"ann. Risk(std)\", fontsize = 15)\n",
    "plt.ylabel(\"ann. Return\", fontsize = 15)\n",
    "plt.title(\"Risk/Return\", fontsize = 20)\n",
    "plt.show()"
   ]
  },
  {
   "cell_type": "markdown",
   "metadata": {},
   "source": [
    "In a (total) risk / return framework, McDonalds (most likely) showed the best performance and facebook the worst performance!"
   ]
  },
  {
   "cell_type": "markdown",
   "metadata": {},
   "source": [
    "Next, let´s return a DataFrame with stock price information for __all 365 days__ in the year __2018__."
   ]
  },
  {
   "cell_type": "markdown",
   "metadata": {},
   "source": [
    "163. First, create a __new DatetimeIndex__ (year_2018) with __all 365 days__/timestamps in the year __2018__!"
   ]
  },
  {
   "cell_type": "code",
   "execution_count": null,
   "metadata": {},
   "outputs": [],
   "source": []
  },
  {
   "cell_type": "code",
   "execution_count": null,
   "metadata": {},
   "outputs": [],
   "source": [
    "# run the cell!\n",
    "year_2018"
   ]
  },
  {
   "cell_type": "code",
   "execution_count": null,
   "metadata": {},
   "outputs": [],
   "source": [
    "# run the cell!\n",
    "stocks.head()"
   ]
  },
  {
   "cell_type": "markdown",
   "metadata": {},
   "source": [
    "164. Second, __reindex__ the stocks DataFrame accordingly! Use the most appropriate __method__ to __fill NaNs__!"
   ]
  },
  {
   "cell_type": "code",
   "execution_count": null,
   "metadata": {
    "scrolled": true
   },
   "outputs": [],
   "source": []
  },
  {
   "cell_type": "markdown",
   "metadata": {},
   "source": [
    "# Well Done!"
   ]
  },
  {
   "cell_type": "markdown",
   "metadata": {},
   "source": [
    "-------------------"
   ]
  },
  {
   "cell_type": "markdown",
   "metadata": {},
   "source": [
    "# Hints (Spoiler!)"
   ]
  },
  {
   "cell_type": "markdown",
   "metadata": {},
   "source": [
    "154. The first two rows (index pos. 0 & 1) form the Columns MultiIndex. The Column with Datetime information is at index pos. 0."
   ]
  },
  {
   "cell_type": "markdown",
   "metadata": {},
   "source": [
    "155. stocks = stocks.loc[\"31-12-2015\":\"31-12-2018\", \"Adj Close\"]"
   ]
  },
  {
   "cell_type": "markdown",
   "metadata": {},
   "source": [
    "156. plot() method\n"
   ]
  },
  {
   "cell_type": "markdown",
   "metadata": {},
   "source": [
    "157. div() method, plot() method"
   ]
  },
  {
   "cell_type": "markdown",
   "metadata": {},
   "source": [
    "158. resample() method, last() method, use \"BM\" (month end business day)"
   ]
  },
  {
   "cell_type": "markdown",
   "metadata": {},
   "source": [
    "159. pct_change() method, dropna() method"
   ]
  },
  {
   "cell_type": "markdown",
   "metadata": {},
   "source": [
    "160. describe() method"
   ]
  },
  {
   "cell_type": "markdown",
   "metadata": {},
   "source": [
    "161. *12 and *np.sqrt(12)"
   ]
  },
  {
   "cell_type": "markdown",
   "metadata": {},
   "source": [
    "162. scatterplot, std and mean"
   ]
  },
  {
   "cell_type": "markdown",
   "metadata": {},
   "source": [
    "163. pd.date_range() method"
   ]
  },
  {
   "cell_type": "markdown",
   "metadata": {},
   "source": [
    "164. reindex() method, ffill"
   ]
  }
 ],
 "metadata": {
  "kernelspec": {
   "display_name": "Python 3 (ipykernel)",
   "language": "python",
   "name": "python3"
  },
  "language_info": {
   "codemirror_mode": {
    "name": "ipython",
    "version": 3
   },
   "file_extension": ".py",
   "mimetype": "text/x-python",
   "name": "python",
   "nbconvert_exporter": "python",
   "pygments_lexer": "ipython3",
   "version": "3.11.7"
  }
 },
 "nbformat": 4,
 "nbformat_minor": 4
}
